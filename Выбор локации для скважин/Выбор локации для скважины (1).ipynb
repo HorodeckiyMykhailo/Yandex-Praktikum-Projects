{
 "cells": [
  {
   "cell_type": "markdown",
   "metadata": {},
   "source": [
    "# Выбор локации для скважины"
   ]
  },
  {
   "cell_type": "markdown",
   "metadata": {},
   "source": [
    "## Загрузка и подготовка данных"
   ]
  },
  {
   "cell_type": "code",
   "execution_count": 1,
   "metadata": {},
   "outputs": [],
   "source": [
    "import pandas as pd\n",
    "import numpy as np\n",
    "import seaborn as sns\n",
    "import matplotlib.pyplot as plt\n",
    "from sklearn.model_selection import train_test_split\n",
    "from sklearn.linear_model import LinearRegression\n",
    "from sklearn.metrics import mean_squared_error\n",
    "from warnings import simplefilter\n",
    "from scipy import stats"
   ]
  },
  {
   "cell_type": "code",
   "execution_count": 2,
   "metadata": {},
   "outputs": [],
   "source": [
    "data_1 = pd.read_csv('/datasets/geo_data_0.csv')\n",
    "data_2 = pd.read_csv('/datasets/geo_data_1.csv')\n",
    "data_3 = pd.read_csv('/datasets/geo_data_2.csv')\n",
    "simplefilter(action='ignore', category=FutureWarning)"
   ]
  },
  {
   "cell_type": "code",
   "execution_count": 3,
   "metadata": {
    "scrolled": true
   },
   "outputs": [
    {
     "data": {
      "text/html": [
       "<div>\n",
       "<style scoped>\n",
       "    .dataframe tbody tr th:only-of-type {\n",
       "        vertical-align: middle;\n",
       "    }\n",
       "\n",
       "    .dataframe tbody tr th {\n",
       "        vertical-align: top;\n",
       "    }\n",
       "\n",
       "    .dataframe thead th {\n",
       "        text-align: right;\n",
       "    }\n",
       "</style>\n",
       "<table border=\"1\" class=\"dataframe\">\n",
       "  <thead>\n",
       "    <tr style=\"text-align: right;\">\n",
       "      <th></th>\n",
       "      <th>id</th>\n",
       "      <th>f0</th>\n",
       "      <th>f1</th>\n",
       "      <th>f2</th>\n",
       "      <th>product</th>\n",
       "    </tr>\n",
       "  </thead>\n",
       "  <tbody>\n",
       "    <tr>\n",
       "      <td>0</td>\n",
       "      <td>txEyH</td>\n",
       "      <td>0.705745</td>\n",
       "      <td>-0.497823</td>\n",
       "      <td>1.221170</td>\n",
       "      <td>105.280062</td>\n",
       "    </tr>\n",
       "    <tr>\n",
       "      <td>1</td>\n",
       "      <td>2acmU</td>\n",
       "      <td>1.334711</td>\n",
       "      <td>-0.340164</td>\n",
       "      <td>4.365080</td>\n",
       "      <td>73.037750</td>\n",
       "    </tr>\n",
       "    <tr>\n",
       "      <td>2</td>\n",
       "      <td>409Wp</td>\n",
       "      <td>1.022732</td>\n",
       "      <td>0.151990</td>\n",
       "      <td>1.419926</td>\n",
       "      <td>85.265647</td>\n",
       "    </tr>\n",
       "    <tr>\n",
       "      <td>3</td>\n",
       "      <td>iJLyR</td>\n",
       "      <td>-0.032172</td>\n",
       "      <td>0.139033</td>\n",
       "      <td>2.978566</td>\n",
       "      <td>168.620776</td>\n",
       "    </tr>\n",
       "    <tr>\n",
       "      <td>4</td>\n",
       "      <td>Xdl7t</td>\n",
       "      <td>1.988431</td>\n",
       "      <td>0.155413</td>\n",
       "      <td>4.751769</td>\n",
       "      <td>154.036647</td>\n",
       "    </tr>\n",
       "  </tbody>\n",
       "</table>\n",
       "</div>"
      ],
      "text/plain": [
       "      id        f0        f1        f2     product\n",
       "0  txEyH  0.705745 -0.497823  1.221170  105.280062\n",
       "1  2acmU  1.334711 -0.340164  4.365080   73.037750\n",
       "2  409Wp  1.022732  0.151990  1.419926   85.265647\n",
       "3  iJLyR -0.032172  0.139033  2.978566  168.620776\n",
       "4  Xdl7t  1.988431  0.155413  4.751769  154.036647"
      ]
     },
     "execution_count": 3,
     "metadata": {},
     "output_type": "execute_result"
    }
   ],
   "source": [
    "data_1.head()"
   ]
  },
  {
   "cell_type": "code",
   "execution_count": 4,
   "metadata": {},
   "outputs": [
    {
     "data": {
      "text/plain": [
       "id         0\n",
       "f0         0\n",
       "f1         0\n",
       "f2         0\n",
       "product    0\n",
       "dtype: int64"
      ]
     },
     "execution_count": 4,
     "metadata": {},
     "output_type": "execute_result"
    }
   ],
   "source": [
    "data_1.isna().sum()"
   ]
  },
  {
   "cell_type": "code",
   "execution_count": 5,
   "metadata": {
    "scrolled": true
   },
   "outputs": [
    {
     "data": {
      "text/html": [
       "<div>\n",
       "<style scoped>\n",
       "    .dataframe tbody tr th:only-of-type {\n",
       "        vertical-align: middle;\n",
       "    }\n",
       "\n",
       "    .dataframe tbody tr th {\n",
       "        vertical-align: top;\n",
       "    }\n",
       "\n",
       "    .dataframe thead th {\n",
       "        text-align: right;\n",
       "    }\n",
       "</style>\n",
       "<table border=\"1\" class=\"dataframe\">\n",
       "  <thead>\n",
       "    <tr style=\"text-align: right;\">\n",
       "      <th></th>\n",
       "      <th>id</th>\n",
       "      <th>f0</th>\n",
       "      <th>f1</th>\n",
       "      <th>f2</th>\n",
       "      <th>product</th>\n",
       "    </tr>\n",
       "  </thead>\n",
       "  <tbody>\n",
       "    <tr>\n",
       "      <td>0</td>\n",
       "      <td>kBEdx</td>\n",
       "      <td>-15.001348</td>\n",
       "      <td>-8.276000</td>\n",
       "      <td>-0.005876</td>\n",
       "      <td>3.179103</td>\n",
       "    </tr>\n",
       "    <tr>\n",
       "      <td>1</td>\n",
       "      <td>62mP7</td>\n",
       "      <td>14.272088</td>\n",
       "      <td>-3.475083</td>\n",
       "      <td>0.999183</td>\n",
       "      <td>26.953261</td>\n",
       "    </tr>\n",
       "    <tr>\n",
       "      <td>2</td>\n",
       "      <td>vyE1P</td>\n",
       "      <td>6.263187</td>\n",
       "      <td>-5.948386</td>\n",
       "      <td>5.001160</td>\n",
       "      <td>134.766305</td>\n",
       "    </tr>\n",
       "    <tr>\n",
       "      <td>3</td>\n",
       "      <td>KcrkZ</td>\n",
       "      <td>-13.081196</td>\n",
       "      <td>-11.506057</td>\n",
       "      <td>4.999415</td>\n",
       "      <td>137.945408</td>\n",
       "    </tr>\n",
       "    <tr>\n",
       "      <td>4</td>\n",
       "      <td>AHL4O</td>\n",
       "      <td>12.702195</td>\n",
       "      <td>-8.147433</td>\n",
       "      <td>5.004363</td>\n",
       "      <td>134.766305</td>\n",
       "    </tr>\n",
       "  </tbody>\n",
       "</table>\n",
       "</div>"
      ],
      "text/plain": [
       "      id         f0         f1        f2     product\n",
       "0  kBEdx -15.001348  -8.276000 -0.005876    3.179103\n",
       "1  62mP7  14.272088  -3.475083  0.999183   26.953261\n",
       "2  vyE1P   6.263187  -5.948386  5.001160  134.766305\n",
       "3  KcrkZ -13.081196 -11.506057  4.999415  137.945408\n",
       "4  AHL4O  12.702195  -8.147433  5.004363  134.766305"
      ]
     },
     "execution_count": 5,
     "metadata": {},
     "output_type": "execute_result"
    }
   ],
   "source": [
    "data_2.head()"
   ]
  },
  {
   "cell_type": "code",
   "execution_count": 6,
   "metadata": {},
   "outputs": [
    {
     "data": {
      "text/plain": [
       "id         0\n",
       "f0         0\n",
       "f1         0\n",
       "f2         0\n",
       "product    0\n",
       "dtype: int64"
      ]
     },
     "execution_count": 6,
     "metadata": {},
     "output_type": "execute_result"
    }
   ],
   "source": [
    "data_2.isna().sum()"
   ]
  },
  {
   "cell_type": "code",
   "execution_count": 7,
   "metadata": {
    "scrolled": true
   },
   "outputs": [
    {
     "data": {
      "text/html": [
       "<div>\n",
       "<style scoped>\n",
       "    .dataframe tbody tr th:only-of-type {\n",
       "        vertical-align: middle;\n",
       "    }\n",
       "\n",
       "    .dataframe tbody tr th {\n",
       "        vertical-align: top;\n",
       "    }\n",
       "\n",
       "    .dataframe thead th {\n",
       "        text-align: right;\n",
       "    }\n",
       "</style>\n",
       "<table border=\"1\" class=\"dataframe\">\n",
       "  <thead>\n",
       "    <tr style=\"text-align: right;\">\n",
       "      <th></th>\n",
       "      <th>id</th>\n",
       "      <th>f0</th>\n",
       "      <th>f1</th>\n",
       "      <th>f2</th>\n",
       "      <th>product</th>\n",
       "    </tr>\n",
       "  </thead>\n",
       "  <tbody>\n",
       "    <tr>\n",
       "      <td>0</td>\n",
       "      <td>fwXo0</td>\n",
       "      <td>-1.146987</td>\n",
       "      <td>0.963328</td>\n",
       "      <td>-0.828965</td>\n",
       "      <td>27.758673</td>\n",
       "    </tr>\n",
       "    <tr>\n",
       "      <td>1</td>\n",
       "      <td>WJtFt</td>\n",
       "      <td>0.262778</td>\n",
       "      <td>0.269839</td>\n",
       "      <td>-2.530187</td>\n",
       "      <td>56.069697</td>\n",
       "    </tr>\n",
       "    <tr>\n",
       "      <td>2</td>\n",
       "      <td>ovLUW</td>\n",
       "      <td>0.194587</td>\n",
       "      <td>0.289035</td>\n",
       "      <td>-5.586433</td>\n",
       "      <td>62.871910</td>\n",
       "    </tr>\n",
       "    <tr>\n",
       "      <td>3</td>\n",
       "      <td>q6cA6</td>\n",
       "      <td>2.236060</td>\n",
       "      <td>-0.553760</td>\n",
       "      <td>0.930038</td>\n",
       "      <td>114.572842</td>\n",
       "    </tr>\n",
       "    <tr>\n",
       "      <td>4</td>\n",
       "      <td>WPMUX</td>\n",
       "      <td>-0.515993</td>\n",
       "      <td>1.716266</td>\n",
       "      <td>5.899011</td>\n",
       "      <td>149.600746</td>\n",
       "    </tr>\n",
       "  </tbody>\n",
       "</table>\n",
       "</div>"
      ],
      "text/plain": [
       "      id        f0        f1        f2     product\n",
       "0  fwXo0 -1.146987  0.963328 -0.828965   27.758673\n",
       "1  WJtFt  0.262778  0.269839 -2.530187   56.069697\n",
       "2  ovLUW  0.194587  0.289035 -5.586433   62.871910\n",
       "3  q6cA6  2.236060 -0.553760  0.930038  114.572842\n",
       "4  WPMUX -0.515993  1.716266  5.899011  149.600746"
      ]
     },
     "execution_count": 7,
     "metadata": {},
     "output_type": "execute_result"
    }
   ],
   "source": [
    "data_3.head()"
   ]
  },
  {
   "cell_type": "code",
   "execution_count": 8,
   "metadata": {},
   "outputs": [
    {
     "data": {
      "text/plain": [
       "id         0\n",
       "f0         0\n",
       "f1         0\n",
       "f2         0\n",
       "product    0\n",
       "dtype: int64"
      ]
     },
     "execution_count": 8,
     "metadata": {},
     "output_type": "execute_result"
    }
   ],
   "source": [
    "data_3.isna().sum()"
   ]
  },
  {
   "cell_type": "code",
   "execution_count": 9,
   "metadata": {
    "scrolled": true
   },
   "outputs": [
    {
     "name": "stdout",
     "output_type": "stream",
     "text": [
      "<class 'pandas.core.frame.DataFrame'>\n",
      "RangeIndex: 100000 entries, 0 to 99999\n",
      "Data columns (total 5 columns):\n",
      "id         100000 non-null object\n",
      "f0         100000 non-null float64\n",
      "f1         100000 non-null float64\n",
      "f2         100000 non-null float64\n",
      "product    100000 non-null float64\n",
      "dtypes: float64(4), object(1)\n",
      "memory usage: 3.8+ MB\n"
     ]
    }
   ],
   "source": [
    "data_1.info()"
   ]
  },
  {
   "cell_type": "code",
   "execution_count": 10,
   "metadata": {
    "scrolled": true
   },
   "outputs": [
    {
     "name": "stdout",
     "output_type": "stream",
     "text": [
      "<class 'pandas.core.frame.DataFrame'>\n",
      "RangeIndex: 100000 entries, 0 to 99999\n",
      "Data columns (total 5 columns):\n",
      "id         100000 non-null object\n",
      "f0         100000 non-null float64\n",
      "f1         100000 non-null float64\n",
      "f2         100000 non-null float64\n",
      "product    100000 non-null float64\n",
      "dtypes: float64(4), object(1)\n",
      "memory usage: 3.8+ MB\n"
     ]
    }
   ],
   "source": [
    "data_2.info()"
   ]
  },
  {
   "cell_type": "code",
   "execution_count": 11,
   "metadata": {
    "scrolled": true
   },
   "outputs": [
    {
     "name": "stdout",
     "output_type": "stream",
     "text": [
      "<class 'pandas.core.frame.DataFrame'>\n",
      "RangeIndex: 100000 entries, 0 to 99999\n",
      "Data columns (total 5 columns):\n",
      "id         100000 non-null object\n",
      "f0         100000 non-null float64\n",
      "f1         100000 non-null float64\n",
      "f2         100000 non-null float64\n",
      "product    100000 non-null float64\n",
      "dtypes: float64(4), object(1)\n",
      "memory usage: 3.8+ MB\n"
     ]
    }
   ],
   "source": [
    "data_3.info()"
   ]
  },
  {
   "cell_type": "code",
   "execution_count": 12,
   "metadata": {},
   "outputs": [],
   "source": [
    "data_1 = data_1.drop(['id'], axis=1)\n",
    "data_2 = data_2.drop(['id'], axis=1)\n",
    "data_3 = data_3.drop(['id'], axis=1)"
   ]
  },
  {
   "cell_type": "markdown",
   "metadata": {},
   "source": [
    "**Данные загружены,во всех трех таблицах и во всех столбцах нет пропусков,я удалю столбцы 'id' так как мне кажется что они нам не пригодятся.**"
   ]
  },
  {
   "cell_type": "code",
   "execution_count": 13,
   "metadata": {
    "scrolled": true
   },
   "outputs": [
    {
     "data": {
      "image/png": "[encoded data removed]",
      "text/plain": [
       "<Figure size 432x288 with 1 Axes>"
      ]
     },
     "metadata": {
      "needs_background": "light"
     },
     "output_type": "display_data"
    }
   ],
   "source": [
    "data_1['product'].hist();\n",
    "plt.title('распределение данных target в data_1');"
   ]
  },
  {
   "cell_type": "code",
   "execution_count": 14,
   "metadata": {},
   "outputs": [
    {
     "data": {
      "image/png": "[encoded data removed]",
      "text/plain": [
       "<Figure size 432x288 with 1 Axes>"
      ]
     },
     "metadata": {
      "needs_background": "light"
     },
     "output_type": "display_data"
    }
   ],
   "source": [
    "data_2['product'].hist();\n",
    "plt.title('распределение данных target в data_2');"
   ]
  },
  {
   "cell_type": "code",
   "execution_count": 15,
   "metadata": {
    "scrolled": true
   },
   "outputs": [
    {
     "data": {
      "image/png": "[encoded data removed]",
      "text/plain": [
       "<Figure size 432x288 with 1 Axes>"
      ]
     },
     "metadata": {
      "needs_background": "light"
     },
     "output_type": "display_data"
    }
   ],
   "source": [
    "data_3['product'].hist();\n",
    "plt.title('распределение данных target в data_3');"
   ]
  },
  {
   "cell_type": "markdown",
   "metadata": {},
   "source": [
    "**В первой и третьей выборке данные распределены нормально,а вот со всторой выборкой что-то не так.Предполагаю что это связано с тем что данные созданы искусственно**"
   ]
  },
  {
   "cell_type": "code",
   "execution_count": 16,
   "metadata": {},
   "outputs": [
    {
     "data": {
      "image/png": "[encoded data removed]",
      "text/plain": [
       "<Figure size 360x360 with 2 Axes>"
      ]
     },
     "metadata": {
      "needs_background": "light"
     },
     "output_type": "display_data"
    }
   ],
   "source": [
    "matrix = np.triu(data_1.corr())\n",
    "plt.figure(figsize=(5,5))\n",
    "hm = sns.heatmap(data_1.corr(),cbar=True,annot=True,cmap= 'coolwarm',mask=matrix)\n",
    "hm.set_title('мультиколлинеарность факторов для data_1');"
   ]
  },
  {
   "cell_type": "code",
   "execution_count": 17,
   "metadata": {},
   "outputs": [
    {
     "data": {
      "image/png": "[encoded data removed]",
      "text/plain": [
       "<Figure size 360x360 with 2 Axes>"
      ]
     },
     "metadata": {
      "needs_background": "light"
     },
     "output_type": "display_data"
    }
   ],
   "source": [
    "matrix = np.triu(data_2.corr())\n",
    "plt.figure(figsize=(5,5))\n",
    "hm = sns.heatmap(data_2.corr(),cbar=True,annot=True,cmap= 'coolwarm',mask=matrix)\n",
    "hm.set_title('мультиколлинеарность факторов для data_2');"
   ]
  },
  {
   "cell_type": "code",
   "execution_count": 18,
   "metadata": {
    "scrolled": true
   },
   "outputs": [
    {
     "data": {
      "image/png": "[encoded data removed]",
      "text/plain": [
       "<Figure size 360x360 with 2 Axes>"
      ]
     },
     "metadata": {
      "needs_background": "light"
     },
     "output_type": "display_data"
    }
   ],
   "source": [
    "matrix = np.triu(data_3.corr())\n",
    "plt.figure(figsize=(5,5))\n",
    "hm = sns.heatmap(data_3.corr(),cbar=True,annot=True,cmap= 'coolwarm',mask=matrix)\n",
    "hm.set_title('мультиколлинеарность факторов для data_3');"
   ]
  },
  {
   "cell_type": "markdown",
   "metadata": {},
   "source": [
    "**Во второй выборке наблюдается сильная корреляция F2 с Product**"
   ]
  },
  {
   "cell_type": "markdown",
   "metadata": {},
   "source": [
    "## Обучение и проверка модели"
   ]
  },
  {
   "cell_type": "code",
   "execution_count": 19,
   "metadata": {},
   "outputs": [],
   "source": [
    "#Напишу функции для разбиения датасетов на выборке ,а так же напишу функцию для обучения модели\n",
    "\n",
    "def sample(data):\n",
    "    features = data.drop(['product'], axis=1) \n",
    "    target = data['product']\n",
    "    features_train, features_valid, target_train, target_valid = train_test_split(\n",
    "    features, target, test_size=0.25, random_state=12345)\n",
    "    return features_train, features_valid, target_train, target_valid\n",
    "\n",
    "\n",
    "def model(features_train,target_train,features_valid,target_valid):\n",
    "    model = LinearRegression()\n",
    "    model.fit(features_train,target_train)\n",
    "    predictions_valid = model.predict(features_valid)\n",
    "    rmse = mean_squared_error(target_valid, predictions_valid)**0.5\n",
    "    predictions_mean = predictions_valid.mean()\n",
    "    return predictions_valid,rmse,predictions_mean"
   ]
  },
  {
   "cell_type": "code",
   "execution_count": 20,
   "metadata": {},
   "outputs": [
    {
     "name": "stdout",
     "output_type": "stream",
     "text": [
      "Средний запас предсказанного сырья для первой выборки: 92.59256778438038\n",
      "RMSE: 37.5794217150813\n"
     ]
    }
   ],
   "source": [
    "#первая выбока:\n",
    "features_train_1, features_valid_1, target_train_1, target_valid_1 = sample(data_1)\n",
    "predictions_valid_1,rmse_1,predictions_mean_1 = model(features_train_1, target_train_1,features_valid_1, target_valid_1)\n",
    "print('Средний запас предсказанного сырья для первой выборки:',predictions_mean_1)\n",
    "print('RMSE:',rmse_1)\n"
   ]
  },
  {
   "cell_type": "code",
   "execution_count": 21,
   "metadata": {},
   "outputs": [
    {
     "name": "stdout",
     "output_type": "stream",
     "text": [
      "Средний запас предсказанного сырья для второй выборки: 68.728546895446\n",
      "RMSE: 0.893099286775616\n"
     ]
    }
   ],
   "source": [
    "#вторая выборка:\n",
    "features_train_2, features_valid_2, target_train_2, target_valid_2 = sample(data_2)\n",
    "predictions_valid_2,rmse_2,predictions_mean_2 = model(features_train_2, target_train_2,features_valid_2, target_valid_2)\n",
    "print('Средний запас предсказанного сырья для второй выборки:',predictions_mean_2)\n",
    "print('RMSE:',rmse_2)"
   ]
  },
  {
   "cell_type": "code",
   "execution_count": 22,
   "metadata": {},
   "outputs": [
    {
     "name": "stdout",
     "output_type": "stream",
     "text": [
      "Средний запас предсказанного сырья для третьей выборки: 94.96504596800489\n",
      "RMSE: 40.02970873393434\n"
     ]
    }
   ],
   "source": [
    "#третья выборка\n",
    "features_train_3, features_valid_3, target_train_3, target_valid_3 = sample(data_3)\n",
    "predictions_valid_3,rmse_3,predictions_mean_3 = model(features_train_3, target_train_3,features_valid_3, target_valid_3)\n",
    "print('Средний запас предсказанного сырья для третьей выборки:',predictions_mean_3)\n",
    "print('RMSE:',rmse_3)"
   ]
  },
  {
   "cell_type": "markdown",
   "metadata": {},
   "source": [
    "**На данном этапе более перспективными кажутся выборки 1 и 3.Но полученные данные по второй выборке кажутся более точными**"
   ]
  },
  {
   "cell_type": "markdown",
   "metadata": {},
   "source": [
    "## Подготовка к расчёту прибыли"
   ]
  },
  {
   "cell_type": "code",
   "execution_count": 23,
   "metadata": {},
   "outputs": [
    {
     "name": "stdout",
     "output_type": "stream",
     "text": [
      "Целевое запас сырья для безубыточной добычи: 111.11111111111111\n"
     ]
    }
   ],
   "source": [
    "BUDGET = 10000000000\n",
    "REVENUE = 450000\n",
    "total_target = BUDGET/REVENUE/200\n",
    "print('Целевое запас сырья для безубыточной добычи:',total_target)"
   ]
  },
  {
   "cell_type": "markdown",
   "metadata": {},
   "source": [
    "## Расчёт прибыли и рисков "
   ]
  },
  {
   "cell_type": "code",
   "execution_count": 24,
   "metadata": {},
   "outputs": [],
   "source": [
    "#напишу функцию которая показывает являются ли наши регионы прибыльными\n",
    "def revenue_main(predictions,target,count):\n",
    "    predictions_sorted = predictions.sort_values(ascending=False)\n",
    "    predictions_selected = predictions_sorted[:count]\n",
    "    target = target[predictions_sorted.index][:count].sum()\n",
    "    return target * REVENUE - BUDGET"
   ]
  },
  {
   "cell_type": "code",
   "execution_count": 25,
   "metadata": {
    "scrolled": true
   },
   "outputs": [
    {
     "name": "stdout",
     "output_type": "stream",
     "text": [
      "Первая выборка: -8238159977.365687\n",
      "Вторая выборка: -8698530691.175531\n",
      "Третья выборка: -7870007760.737813\n"
     ]
    }
   ],
   "source": [
    "print('Первая выборка:',revenue_main(pd.Series(predictions_valid_1),target_valid_1,200))\n",
    "print('Вторая выборка:',revenue_main(pd.Series(predictions_valid_2),target_valid_2,200))\n",
    "print('Третья выборка:',revenue_main(pd.Series(predictions_valid_3),target_valid_3,200))"
   ]
  },
  {
   "cell_type": "markdown",
   "metadata": {},
   "source": [
    "**Если я правильно понял,то на данном этапе запасов в 200-та лучших скважинах в каждом регионе не хвататет чтобы выйти в прибыль**"
   ]
  },
  {
   "cell_type": "code",
   "execution_count": 44,
   "metadata": {},
   "outputs": [],
   "source": [
    "#напишу функцию bootstrap\n",
    "def bootstrap(predictions_valid,target_valid):\n",
    "    predictions_valid = pd.Series(predictions_valid)\n",
    "    predictions_valid.index = target_valid.index\n",
    "    state = np.random.RandomState(12345)\n",
    "    values = []\n",
    "    for i in range(1000):\n",
    "        target_subsample = target_valid.sample(n=500, replace=True, random_state=state)\n",
    "        predictions_subsample = predictions_valid[target_subsample.index]\n",
    "        values.append(revenue_main(predictions_subsample,target_subsample,200))\n",
    "    values = pd.Series(values)\n",
    "    lower = values.quantile(0.025)\n",
    "    upper = values.quantile(0.975)\n",
    "    mean = values.mean()\n",
    "    risk = stats.percentileofscore(values, 0)\n",
    "    return lower,upper,mean,risk\n",
    "\n",
    "   "
   ]
  },
  {
   "cell_type": "code",
   "execution_count": 45,
   "metadata": {},
   "outputs": [
    {
     "name": "stdout",
     "output_type": "stream",
     "text": [
      "(-102090094.83793654, 947976353.358369, 425938526.9105923, 6.0)\n"
     ]
    }
   ],
   "source": [
    "print(bootstrap(predictions_valid_1,target_valid_1))"
   ]
  },
  {
   "cell_type": "code",
   "execution_count": 46,
   "metadata": {},
   "outputs": [
    {
     "name": "stdout",
     "output_type": "stream",
     "text": [
      "(68873225.37050177, 931547591.2570496, 515222773.44328994, 1.0)\n"
     ]
    }
   ],
   "source": [
    "print(bootstrap(predictions_valid_2,target_valid_2))"
   ]
  },
  {
   "cell_type": "code",
   "execution_count": 47,
   "metadata": {},
   "outputs": [
    {
     "name": "stdout",
     "output_type": "stream",
     "text": [
      "(-128880547.32978901, 969706954.1802679, 435008362.78275555, 6.4)\n"
     ]
    }
   ],
   "source": [
    "print(bootstrap(predictions_valid_3,target_valid_3))"
   ]
  },
  {
   "cell_type": "markdown",
   "metadata": {},
   "source": [
    "**Если я все верно понял ,то переменная risk выдает нам проценты риска.Тоесть в случае с первой выборкой 6% значений находятся ниже нуля в зоне убытков.Во второй выборке таких значений 1%,а в третьей 6.4%.**"
   ]
  },
  {
   "cell_type": "code",
   "execution_count": 30,
   "metadata": {
    "scrolled": true
   },
   "outputs": [
    {
     "data": {
      "text/html": [
       "<div>\n",
       "<style scoped>\n",
       "    .dataframe tbody tr th:only-of-type {\n",
       "        vertical-align: middle;\n",
       "    }\n",
       "\n",
       "    .dataframe tbody tr th {\n",
       "        vertical-align: top;\n",
       "    }\n",
       "\n",
       "    .dataframe thead th {\n",
       "        text-align: right;\n",
       "    }\n",
       "</style>\n",
       "<table border=\"1\" class=\"dataframe\">\n",
       "  <thead>\n",
       "    <tr style=\"text-align: right;\">\n",
       "      <th></th>\n",
       "      <th>results</th>\n",
       "      <th>data_1</th>\n",
       "      <th>data_2</th>\n",
       "      <th>data_3</th>\n",
       "    </tr>\n",
       "  </thead>\n",
       "  <tbody>\n",
       "    <tr>\n",
       "      <td>0</td>\n",
       "      <td>lower</td>\n",
       "      <td>-102090094.83793654</td>\n",
       "      <td>68873225.37050177</td>\n",
       "      <td>-128880547.32978901</td>\n",
       "    </tr>\n",
       "    <tr>\n",
       "      <td>1</td>\n",
       "      <td>upper</td>\n",
       "      <td>947976353.358369</td>\n",
       "      <td>931547591.2570496</td>\n",
       "      <td>969706954.1802679</td>\n",
       "    </tr>\n",
       "    <tr>\n",
       "      <td>2</td>\n",
       "      <td>mean</td>\n",
       "      <td>425938526.9105923</td>\n",
       "      <td>515222773.44328994</td>\n",
       "      <td>435008362.78275555</td>\n",
       "    </tr>\n",
       "  </tbody>\n",
       "</table>\n",
       "</div>"
      ],
      "text/plain": [
       "  results               data_1              data_2               data_3\n",
       "0   lower  -102090094.83793654   68873225.37050177  -128880547.32978901\n",
       "1   upper     947976353.358369   931547591.2570496    969706954.1802679\n",
       "2    mean    425938526.9105923  515222773.44328994   435008362.78275555"
      ]
     },
     "execution_count": 30,
     "metadata": {},
     "output_type": "execute_result"
    }
   ],
   "source": [
    "final_results = pd.DataFrame({'results':['lower','upper','mean'],\n",
    "                             'data_1':['-102090094.83793654','947976353.358369','425938526.9105923'],\n",
    "                             'data_2':['68873225.37050177','931547591.2570496','515222773.44328994'],\n",
    "                             'data_3':['-128880547.32978901','969706954.1802679','435008362.78275555']})\n",
    "final_results"
   ]
  },
  {
   "cell_type": "markdown",
   "metadata": {},
   "source": [
    "## Вывод"
   ]
  },
  {
   "cell_type": "markdown",
   "metadata": {},
   "source": [
    "**Как показывает таблица выше вторая выборка самая перспективная для добычи нефти ,что доказывает среднее значение прибыли.Так же только второй регион удовлетворяет условию о вероятности убытков меньше 2,5 %**"
   ]
  }
 ],
 "metadata": {
  "ExecuteTimeLog": [
   {
    "duration": 315,
    "start_time": "2021-08-19T19:22:35.416Z"
   },
   {
    "duration": 257,
    "start_time": "2021-08-19T19:22:45.239Z"
   },
   {
    "duration": 770,
    "start_time": "2021-08-19T19:22:49.833Z"
   },
   {
    "duration": 482,
    "start_time": "2021-08-19T19:22:50.637Z"
   },
   {
    "duration": 22,
    "start_time": "2021-08-19T19:22:51.559Z"
   },
   {
    "duration": 13,
    "start_time": "2021-08-19T19:23:16.952Z"
   },
   {
    "duration": 13,
    "start_time": "2021-08-19T19:23:47.055Z"
   },
   {
    "duration": 14,
    "start_time": "2021-08-19T19:24:03.215Z"
   },
   {
    "duration": 14,
    "start_time": "2021-08-19T19:24:40.823Z"
   },
   {
    "duration": 14,
    "start_time": "2021-08-19T19:25:00.760Z"
   },
   {
    "duration": 46,
    "start_time": "2021-08-19T19:28:34.817Z"
   },
   {
    "duration": 27,
    "start_time": "2021-08-19T19:28:57.771Z"
   },
   {
    "duration": 17,
    "start_time": "2021-08-19T19:45:43.802Z"
   },
   {
    "duration": 17,
    "start_time": "2021-08-19T19:46:10.931Z"
   },
   {
    "duration": 14,
    "start_time": "2021-08-19T19:46:28.002Z"
   },
   {
    "duration": 38,
    "start_time": "2021-08-19T19:50:26.901Z"
   },
   {
    "duration": 12,
    "start_time": "2021-08-19T19:50:42.164Z"
   },
   {
    "duration": 29,
    "start_time": "2021-08-19T20:02:09.533Z"
   },
   {
    "duration": 298,
    "start_time": "2021-08-19T20:02:59.542Z"
   },
   {
    "duration": 762,
    "start_time": "2021-08-19T20:03:11.102Z"
   },
   {
    "duration": 473,
    "start_time": "2021-08-19T20:03:11.866Z"
   },
   {
    "duration": 14,
    "start_time": "2021-08-19T20:03:12.342Z"
   },
   {
    "duration": 13,
    "start_time": "2021-08-19T20:03:13.823Z"
   },
   {
    "duration": 13,
    "start_time": "2021-08-19T20:03:14.511Z"
   },
   {
    "duration": 13,
    "start_time": "2021-08-19T20:03:15.030Z"
   },
   {
    "duration": 12,
    "start_time": "2021-08-19T20:03:15.606Z"
   },
   {
    "duration": 13,
    "start_time": "2021-08-19T20:03:16.158Z"
   },
   {
    "duration": 13,
    "start_time": "2021-08-19T20:03:16.758Z"
   },
   {
    "duration": 14,
    "start_time": "2021-08-19T20:03:17.310Z"
   },
   {
    "duration": 14,
    "start_time": "2021-08-19T20:03:17.854Z"
   },
   {
    "duration": 38,
    "start_time": "2021-08-19T20:03:18.478Z"
   },
   {
    "duration": 12,
    "start_time": "2021-08-19T20:03:20.464Z"
   },
   {
    "duration": 28,
    "start_time": "2021-08-19T20:03:21.063Z"
   },
   {
    "duration": 371,
    "start_time": "2021-08-19T20:03:21.966Z"
   },
   {
    "duration": 4,
    "start_time": "2021-08-19T20:03:48.678Z"
   },
   {
    "duration": 485,
    "start_time": "2021-08-19T20:03:49.591Z"
   },
   {
    "duration": 13,
    "start_time": "2021-08-19T20:03:50.079Z"
   },
   {
    "duration": 12,
    "start_time": "2021-08-19T20:03:50.310Z"
   },
   {
    "duration": 13,
    "start_time": "2021-08-19T20:03:50.790Z"
   },
   {
    "duration": 13,
    "start_time": "2021-08-19T20:03:51.214Z"
   },
   {
    "duration": 13,
    "start_time": "2021-08-19T20:03:51.887Z"
   },
   {
    "duration": 13,
    "start_time": "2021-08-19T20:03:52.359Z"
   },
   {
    "duration": 14,
    "start_time": "2021-08-19T20:03:52.830Z"
   },
   {
    "duration": 15,
    "start_time": "2021-08-19T20:03:53.247Z"
   },
   {
    "duration": 15,
    "start_time": "2021-08-19T20:03:53.671Z"
   },
   {
    "duration": 37,
    "start_time": "2021-08-19T20:03:54.119Z"
   },
   {
    "duration": 32,
    "start_time": "2021-08-19T20:04:02.843Z"
   },
   {
    "duration": 12,
    "start_time": "2021-08-19T20:04:03.438Z"
   },
   {
    "duration": 24,
    "start_time": "2021-08-19T20:04:04.054Z"
   },
   {
    "duration": 917,
    "start_time": "2021-08-19T20:04:04.822Z"
   },
   {
    "duration": 900,
    "start_time": "2021-08-19T20:05:09.567Z"
   },
   {
    "duration": 819,
    "start_time": "2021-08-19T20:05:39.639Z"
   },
   {
    "duration": 1126,
    "start_time": "2021-08-22T13:10:28.824Z"
   },
   {
    "duration": 405,
    "start_time": "2021-08-22T13:10:29.951Z"
   },
   {
    "duration": 12,
    "start_time": "2021-08-22T13:10:30.359Z"
   },
   {
    "duration": 25,
    "start_time": "2021-08-22T13:10:30.373Z"
   },
   {
    "duration": 20,
    "start_time": "2021-08-22T13:10:30.400Z"
   },
   {
    "duration": 33,
    "start_time": "2021-08-22T13:10:30.422Z"
   },
   {
    "duration": 23,
    "start_time": "2021-08-22T13:10:30.457Z"
   },
   {
    "duration": 37,
    "start_time": "2021-08-22T13:10:30.482Z"
   },
   {
    "duration": 26,
    "start_time": "2021-08-22T13:10:30.521Z"
   },
   {
    "duration": 27,
    "start_time": "2021-08-22T13:10:30.549Z"
   },
   {
    "duration": 28,
    "start_time": "2021-08-22T13:10:30.578Z"
   },
   {
    "duration": 339,
    "start_time": "2021-08-22T13:10:30.609Z"
   },
   {
    "duration": 777,
    "start_time": "2021-08-22T13:10:30.173Z"
   },
   {
    "duration": 777,
    "start_time": "2021-08-22T13:10:30.174Z"
   },
   {
    "duration": 577,
    "start_time": "2021-08-22T13:10:44.157Z"
   },
   {
    "duration": 541,
    "start_time": "2021-08-22T13:10:56.102Z"
   },
   {
    "duration": 522,
    "start_time": "2021-08-22T13:10:58.214Z"
   },
   {
    "duration": 377,
    "start_time": "2021-08-22T13:11:26.390Z"
   },
   {
    "duration": 366,
    "start_time": "2021-08-22T13:11:39.398Z"
   },
   {
    "duration": 450,
    "start_time": "2021-08-22T13:11:51.494Z"
   },
   {
    "duration": 379,
    "start_time": "2021-08-22T13:12:19.942Z"
   },
   {
    "duration": 389,
    "start_time": "2021-08-22T13:12:23.649Z"
   },
   {
    "duration": 209,
    "start_time": "2021-08-22T13:14:57.470Z"
   },
   {
    "duration": 208,
    "start_time": "2021-08-22T13:15:12.183Z"
   },
   {
    "duration": 207,
    "start_time": "2021-08-22T13:15:33.807Z"
   },
   {
    "duration": 204,
    "start_time": "2021-08-22T13:16:02.743Z"
   },
   {
    "duration": 793,
    "start_time": "2021-08-22T13:17:56.743Z"
   },
   {
    "duration": 201,
    "start_time": "2021-08-22T13:18:16.752Z"
   },
   {
    "duration": 199,
    "start_time": "2021-08-22T13:18:32.400Z"
   },
   {
    "duration": 15,
    "start_time": "2021-08-22T13:30:42.209Z"
   },
   {
    "duration": 3,
    "start_time": "2021-08-22T13:31:29.859Z"
   },
   {
    "duration": 1625,
    "start_time": "2021-08-23T19:06:21.578Z"
   },
   {
    "duration": 499,
    "start_time": "2021-08-23T19:06:23.206Z"
   },
   {
    "duration": 19,
    "start_time": "2021-08-23T19:06:23.708Z"
   },
   {
    "duration": 19,
    "start_time": "2021-08-23T19:06:24.355Z"
   },
   {
    "duration": 15,
    "start_time": "2021-08-23T19:06:24.954Z"
   },
   {
    "duration": 15,
    "start_time": "2021-08-23T19:06:25.506Z"
   },
   {
    "duration": 14,
    "start_time": "2021-08-23T19:06:26.091Z"
   },
   {
    "duration": 15,
    "start_time": "2021-08-23T19:06:26.690Z"
   },
   {
    "duration": 17,
    "start_time": "2021-08-23T19:06:27.227Z"
   },
   {
    "duration": 17,
    "start_time": "2021-08-23T19:06:27.763Z"
   },
   {
    "duration": 16,
    "start_time": "2021-08-23T19:06:28.283Z"
   },
   {
    "duration": 334,
    "start_time": "2021-08-23T19:06:28.914Z"
   },
   {
    "duration": 337,
    "start_time": "2021-08-23T19:06:29.515Z"
   },
   {
    "duration": 337,
    "start_time": "2021-08-23T19:06:30.515Z"
   },
   {
    "duration": 552,
    "start_time": "2021-08-23T19:06:31.475Z"
   },
   {
    "duration": 540,
    "start_time": "2021-08-23T19:06:32.242Z"
   },
   {
    "duration": 644,
    "start_time": "2021-08-23T19:06:33.627Z"
   },
   {
    "duration": 6,
    "start_time": "2021-08-23T19:06:36.546Z"
   },
   {
    "duration": 726,
    "start_time": "2021-08-23T19:06:38.482Z"
   },
   {
    "duration": 38,
    "start_time": "2021-08-23T19:09:21.130Z"
   },
   {
    "duration": 37,
    "start_time": "2021-08-23T19:09:35.211Z"
   },
   {
    "duration": 39,
    "start_time": "2021-08-23T19:09:48.563Z"
   },
   {
    "duration": 33,
    "start_time": "2021-08-23T19:10:01.380Z"
   },
   {
    "duration": 559,
    "start_time": "2021-08-23T19:10:16.524Z"
   },
   {
    "duration": 590,
    "start_time": "2021-08-23T19:12:06.403Z"
   },
   {
    "duration": 1527,
    "start_time": "2021-08-23T19:13:07.092Z"
   },
   {
    "duration": 504,
    "start_time": "2021-08-23T19:13:08.622Z"
   },
   {
    "duration": 16,
    "start_time": "2021-08-23T19:13:09.129Z"
   },
   {
    "duration": 30,
    "start_time": "2021-08-23T19:13:09.148Z"
   },
   {
    "duration": 13,
    "start_time": "2021-08-23T19:13:09.180Z"
   },
   {
    "duration": 17,
    "start_time": "2021-08-23T19:13:09.196Z"
   },
   {
    "duration": 51,
    "start_time": "2021-08-23T19:13:09.216Z"
   },
   {
    "duration": 14,
    "start_time": "2021-08-23T19:13:09.271Z"
   },
   {
    "duration": 18,
    "start_time": "2021-08-23T19:13:09.288Z"
   },
   {
    "duration": 13,
    "start_time": "2021-08-23T19:13:09.308Z"
   },
   {
    "duration": 50,
    "start_time": "2021-08-23T19:13:09.324Z"
   },
   {
    "duration": 360,
    "start_time": "2021-08-23T19:13:09.377Z"
   },
   {
    "duration": 354,
    "start_time": "2021-08-23T19:13:09.739Z"
   },
   {
    "duration": 349,
    "start_time": "2021-08-23T19:13:10.096Z"
   },
   {
    "duration": 557,
    "start_time": "2021-08-23T19:13:10.447Z"
   },
   {
    "duration": 596,
    "start_time": "2021-08-23T19:13:11.007Z"
   },
   {
    "duration": 685,
    "start_time": "2021-08-23T19:13:11.606Z"
   },
   {
    "duration": 6,
    "start_time": "2021-08-23T19:13:12.293Z"
   },
   {
    "duration": 808,
    "start_time": "2021-08-23T19:13:12.301Z"
   },
   {
    "duration": 578,
    "start_time": "2021-08-23T19:13:39.136Z"
   },
   {
    "duration": 591,
    "start_time": "2021-08-23T19:13:52.392Z"
   },
   {
    "duration": 16,
    "start_time": "2021-08-23T19:15:49.928Z"
   },
   {
    "duration": 361,
    "start_time": "2021-08-23T19:15:50.873Z"
   },
   {
    "duration": 336,
    "start_time": "2021-08-23T19:15:51.992Z"
   },
   {
    "duration": 334,
    "start_time": "2021-08-23T19:15:52.928Z"
   },
   {
    "duration": 562,
    "start_time": "2021-08-23T19:15:53.720Z"
   },
   {
    "duration": 524,
    "start_time": "2021-08-23T19:15:54.561Z"
   },
   {
    "duration": 547,
    "start_time": "2021-08-23T19:15:55.440Z"
   },
   {
    "duration": 6,
    "start_time": "2021-08-23T19:15:57.928Z"
   },
   {
    "duration": 143,
    "start_time": "2021-08-23T19:15:59.025Z"
   },
   {
    "duration": 53,
    "start_time": "2021-08-23T19:16:10.120Z"
   },
   {
    "duration": 39,
    "start_time": "2021-08-23T19:16:43.360Z"
   },
   {
    "duration": 31,
    "start_time": "2021-08-23T19:17:33.225Z"
   },
   {
    "duration": 120,
    "start_time": "2021-08-23T19:18:38.250Z"
   },
   {
    "duration": 9,
    "start_time": "2021-08-23T19:20:01.665Z"
   },
   {
    "duration": 7,
    "start_time": "2021-08-23T19:20:03.129Z"
   },
   {
    "duration": 42,
    "start_time": "2021-08-23T19:20:03.753Z"
   },
   {
    "duration": 30,
    "start_time": "2021-08-23T19:20:05.324Z"
   },
   {
    "duration": 29,
    "start_time": "2021-08-23T19:20:15.306Z"
   },
   {
    "duration": 7,
    "start_time": "2021-08-23T19:27:38.283Z"
   },
   {
    "duration": 5,
    "start_time": "2021-08-23T19:27:50.115Z"
   },
   {
    "duration": 5,
    "start_time": "2021-08-23T20:02:08.402Z"
   },
   {
    "duration": 14,
    "start_time": "2021-08-24T18:33:52.450Z"
   },
   {
    "duration": 1613,
    "start_time": "2021-08-24T18:41:36.440Z"
   },
   {
    "duration": 495,
    "start_time": "2021-08-24T18:41:38.056Z"
   },
   {
    "duration": 32,
    "start_time": "2021-08-24T18:41:38.555Z"
   },
   {
    "duration": 17,
    "start_time": "2021-08-24T18:41:38.590Z"
   },
   {
    "duration": 19,
    "start_time": "2021-08-24T18:41:38.609Z"
   },
   {
    "duration": 15,
    "start_time": "2021-08-24T18:41:38.630Z"
   },
   {
    "duration": 46,
    "start_time": "2021-08-24T18:41:38.648Z"
   },
   {
    "duration": 17,
    "start_time": "2021-08-24T18:41:38.698Z"
   },
   {
    "duration": 15,
    "start_time": "2021-08-24T18:41:38.718Z"
   },
   {
    "duration": 15,
    "start_time": "2021-08-24T18:41:38.735Z"
   },
   {
    "duration": 14,
    "start_time": "2021-08-24T18:41:38.787Z"
   },
   {
    "duration": 16,
    "start_time": "2021-08-24T18:41:38.804Z"
   },
   {
    "duration": 383,
    "start_time": "2021-08-24T18:41:38.822Z"
   },
   {
    "duration": 362,
    "start_time": "2021-08-24T18:41:39.207Z"
   },
   {
    "duration": 344,
    "start_time": "2021-08-24T18:41:39.571Z"
   },
   {
    "duration": 583,
    "start_time": "2021-08-24T18:41:39.917Z"
   },
   {
    "duration": 532,
    "start_time": "2021-08-24T18:41:40.502Z"
   },
   {
    "duration": 626,
    "start_time": "2021-08-24T18:41:41.037Z"
   },
   {
    "duration": 7,
    "start_time": "2021-08-24T18:41:41.665Z"
   },
   {
    "duration": 15,
    "start_time": "2021-08-24T18:41:41.674Z"
   },
   {
    "duration": 98,
    "start_time": "2021-08-24T18:41:41.691Z"
   },
   {
    "duration": 123,
    "start_time": "2021-08-24T18:41:41.792Z"
   },
   {
    "duration": 125,
    "start_time": "2021-08-24T18:41:41.991Z"
   },
   {
    "duration": 98,
    "start_time": "2021-08-24T18:41:42.187Z"
   },
   {
    "duration": 5,
    "start_time": "2021-08-24T18:50:06.229Z"
   },
   {
    "duration": 4,
    "start_time": "2021-08-24T19:18:35.592Z"
   },
   {
    "duration": 4,
    "start_time": "2021-08-24T19:27:11.626Z"
   },
   {
    "duration": 513,
    "start_time": "2021-08-24T19:31:46.178Z"
   },
   {
    "duration": 4,
    "start_time": "2021-08-24T19:31:51.363Z"
   },
   {
    "duration": 798,
    "start_time": "2021-08-24T19:31:52.050Z"
   },
   {
    "duration": 381,
    "start_time": "2021-08-24T19:32:36.540Z"
   },
   {
    "duration": 136,
    "start_time": "2021-08-24T19:33:19.435Z"
   },
   {
    "duration": 182,
    "start_time": "2021-08-24T19:33:29.051Z"
   },
   {
    "duration": 17,
    "start_time": "2021-08-24T19:33:38.745Z"
   },
   {
    "duration": 838,
    "start_time": "2021-08-24T19:34:08.692Z"
   },
   {
    "duration": 13,
    "start_time": "2021-08-24T19:34:21.276Z"
   },
   {
    "duration": 34,
    "start_time": "2021-08-24T19:35:08.052Z"
   },
   {
    "duration": 5,
    "start_time": "2021-08-24T19:48:44.845Z"
   },
   {
    "duration": 5,
    "start_time": "2021-08-24T19:49:09.381Z"
   },
   {
    "duration": 5,
    "start_time": "2021-08-24T19:50:02.615Z"
   },
   {
    "duration": 5,
    "start_time": "2021-08-24T19:50:23.439Z"
   },
   {
    "duration": 7,
    "start_time": "2021-08-25T18:14:07.409Z"
   },
   {
    "duration": 400,
    "start_time": "2021-08-25T18:16:05.219Z"
   },
   {
    "duration": 1598,
    "start_time": "2021-08-25T18:16:11.052Z"
   },
   {
    "duration": 469,
    "start_time": "2021-08-25T18:16:12.652Z"
   },
   {
    "duration": 29,
    "start_time": "2021-08-25T18:16:13.129Z"
   },
   {
    "duration": 17,
    "start_time": "2021-08-25T18:16:13.160Z"
   },
   {
    "duration": 15,
    "start_time": "2021-08-25T18:16:13.180Z"
   },
   {
    "duration": 18,
    "start_time": "2021-08-25T18:16:13.198Z"
   },
   {
    "duration": 18,
    "start_time": "2021-08-25T18:16:13.258Z"
   },
   {
    "duration": 21,
    "start_time": "2021-08-25T18:16:13.280Z"
   },
   {
    "duration": 52,
    "start_time": "2021-08-25T18:16:13.304Z"
   },
   {
    "duration": 20,
    "start_time": "2021-08-25T18:16:13.359Z"
   },
   {
    "duration": 20,
    "start_time": "2021-08-25T18:16:13.383Z"
   },
   {
    "duration": 17,
    "start_time": "2021-08-25T18:16:13.407Z"
   },
   {
    "duration": 336,
    "start_time": "2021-08-25T18:16:13.456Z"
   },
   {
    "duration": 322,
    "start_time": "2021-08-25T18:16:13.795Z"
   },
   {
    "duration": 322,
    "start_time": "2021-08-25T18:16:14.120Z"
   },
   {
    "duration": 548,
    "start_time": "2021-08-25T18:16:14.445Z"
   },
   {
    "duration": 568,
    "start_time": "2021-08-25T18:16:14.996Z"
   },
   {
    "duration": 598,
    "start_time": "2021-08-25T18:16:15.566Z"
   },
   {
    "duration": 10,
    "start_time": "2021-08-25T18:16:16.167Z"
   },
   {
    "duration": 11,
    "start_time": "2021-08-25T18:16:16.180Z"
   },
   {
    "duration": 74,
    "start_time": "2021-08-25T18:16:16.194Z"
   },
   {
    "duration": 193,
    "start_time": "2021-08-25T18:16:16.273Z"
   },
   {
    "duration": 116,
    "start_time": "2021-08-25T18:16:16.470Z"
   },
   {
    "duration": 69,
    "start_time": "2021-08-25T18:16:16.590Z"
   },
   {
    "duration": 94,
    "start_time": "2021-08-25T18:16:16.663Z"
   },
   {
    "duration": 46,
    "start_time": "2021-08-25T18:16:16.760Z"
   },
   {
    "duration": 8,
    "start_time": "2021-08-25T18:16:16.809Z"
   },
   {
    "duration": 1165,
    "start_time": "2021-08-25T18:16:16.820Z"
   },
   {
    "duration": 7,
    "start_time": "2021-08-25T18:17:06.778Z"
   },
   {
    "duration": 700,
    "start_time": "2021-08-25T18:17:09.098Z"
   },
   {
    "duration": 7,
    "start_time": "2021-08-25T18:17:22.938Z"
   },
   {
    "duration": 5225,
    "start_time": "2021-08-25T18:17:24.339Z"
   },
   {
    "duration": 5279,
    "start_time": "2021-08-25T18:18:23.194Z"
   },
   {
    "duration": 5292,
    "start_time": "2021-08-25T18:18:49.579Z"
   },
   {
    "duration": 4,
    "start_time": "2021-08-25T18:21:04.921Z"
   },
   {
    "duration": 476,
    "start_time": "2021-08-25T18:21:05.515Z"
   },
   {
    "duration": 15,
    "start_time": "2021-08-25T18:21:06.203Z"
   },
   {
    "duration": 18,
    "start_time": "2021-08-25T18:21:06.915Z"
   },
   {
    "duration": 13,
    "start_time": "2021-08-25T18:21:07.531Z"
   },
   {
    "duration": 12,
    "start_time": "2021-08-25T18:21:08.091Z"
   },
   {
    "duration": 13,
    "start_time": "2021-08-25T18:21:08.803Z"
   },
   {
    "duration": 13,
    "start_time": "2021-08-25T18:21:09.931Z"
   },
   {
    "duration": 14,
    "start_time": "2021-08-25T18:21:10.508Z"
   },
   {
    "duration": 15,
    "start_time": "2021-08-25T18:21:11.035Z"
   },
   {
    "duration": 16,
    "start_time": "2021-08-25T18:21:11.562Z"
   },
   {
    "duration": 17,
    "start_time": "2021-08-25T18:21:12.130Z"
   },
   {
    "duration": 300,
    "start_time": "2021-08-25T18:21:12.778Z"
   },
   {
    "duration": 302,
    "start_time": "2021-08-25T18:21:13.387Z"
   },
   {
    "duration": 309,
    "start_time": "2021-08-25T18:21:14.379Z"
   },
   {
    "duration": 518,
    "start_time": "2021-08-25T18:21:15.123Z"
   },
   {
    "duration": 487,
    "start_time": "2021-08-25T18:21:15.859Z"
   },
   {
    "duration": 601,
    "start_time": "2021-08-25T18:21:16.955Z"
   },
   {
    "duration": 5,
    "start_time": "2021-08-25T18:21:17.819Z"
   },
   {
    "duration": 6,
    "start_time": "2021-08-25T18:21:20.899Z"
   },
   {
    "duration": 37,
    "start_time": "2021-08-25T18:21:22.059Z"
   },
   {
    "duration": 30,
    "start_time": "2021-08-25T18:21:22.674Z"
   },
   {
    "duration": 34,
    "start_time": "2021-08-25T18:21:23.251Z"
   },
   {
    "duration": 5,
    "start_time": "2021-08-25T18:21:24.402Z"
   },
   {
    "duration": 4,
    "start_time": "2021-08-25T18:21:25.515Z"
   },
   {
    "duration": 32,
    "start_time": "2021-08-25T18:21:26.267Z"
   },
   {
    "duration": 7,
    "start_time": "2021-08-25T18:21:27.324Z"
   },
   {
    "duration": 5364,
    "start_time": "2021-08-25T18:21:28.251Z"
   },
   {
    "duration": 5261,
    "start_time": "2021-08-25T18:21:33.618Z"
   },
   {
    "duration": 5332,
    "start_time": "2021-08-25T18:21:38.882Z"
   },
   {
    "duration": 7,
    "start_time": "2021-08-25T18:24:59.652Z"
   },
   {
    "duration": 6439,
    "start_time": "2021-08-25T18:25:00.156Z"
   },
   {
    "duration": 5228,
    "start_time": "2021-08-25T18:25:08.452Z"
   },
   {
    "duration": 5262,
    "start_time": "2021-08-25T18:25:17.164Z"
   },
   {
    "duration": 390,
    "start_time": "2021-08-25T18:29:47.285Z"
   },
   {
    "duration": 396,
    "start_time": "2021-08-25T18:30:01.101Z"
   },
   {
    "duration": 401,
    "start_time": "2021-08-25T18:30:36.948Z"
   },
   {
    "duration": 384,
    "start_time": "2021-08-25T18:31:01.525Z"
   },
   {
    "duration": 1516,
    "start_time": "2021-08-25T18:31:13.501Z"
   },
   {
    "duration": 481,
    "start_time": "2021-08-25T18:31:15.020Z"
   },
   {
    "duration": 17,
    "start_time": "2021-08-25T18:31:15.507Z"
   },
   {
    "duration": 37,
    "start_time": "2021-08-25T18:31:15.526Z"
   },
   {
    "duration": 12,
    "start_time": "2021-08-25T18:31:15.565Z"
   },
   {
    "duration": 30,
    "start_time": "2021-08-25T18:31:15.579Z"
   },
   {
    "duration": 11,
    "start_time": "2021-08-25T18:31:15.613Z"
   },
   {
    "duration": 34,
    "start_time": "2021-08-25T18:31:15.628Z"
   },
   {
    "duration": 17,
    "start_time": "2021-08-25T18:31:15.665Z"
   },
   {
    "duration": 13,
    "start_time": "2021-08-25T18:31:15.684Z"
   },
   {
    "duration": 13,
    "start_time": "2021-08-25T18:31:15.700Z"
   },
   {
    "duration": 53,
    "start_time": "2021-08-25T18:31:15.715Z"
   },
   {
    "duration": 443,
    "start_time": "2021-08-25T18:31:15.771Z"
   },
   {
    "duration": 348,
    "start_time": "2021-08-25T18:31:16.217Z"
   },
   {
    "duration": 387,
    "start_time": "2021-08-25T18:31:16.568Z"
   },
   {
    "duration": 471,
    "start_time": "2021-08-25T18:31:16.957Z"
   },
   {
    "duration": 434,
    "start_time": "2021-08-25T18:31:17.431Z"
   },
   {
    "duration": 456,
    "start_time": "2021-08-25T18:31:17.868Z"
   },
   {
    "duration": 8,
    "start_time": "2021-08-25T18:31:18.327Z"
   },
   {
    "duration": 19,
    "start_time": "2021-08-25T18:31:18.337Z"
   },
   {
    "duration": 35,
    "start_time": "2021-08-25T18:31:18.358Z"
   },
   {
    "duration": 196,
    "start_time": "2021-08-25T18:31:18.461Z"
   },
   {
    "duration": 124,
    "start_time": "2021-08-25T18:31:18.661Z"
   },
   {
    "duration": 72,
    "start_time": "2021-08-25T18:31:18.788Z"
   },
   {
    "duration": 100,
    "start_time": "2021-08-25T18:31:18.863Z"
   },
   {
    "duration": 37,
    "start_time": "2021-08-25T18:31:18.966Z"
   },
   {
    "duration": 7,
    "start_time": "2021-08-25T18:31:19.005Z"
   },
   {
    "duration": 5298,
    "start_time": "2021-08-25T18:31:19.014Z"
   },
   {
    "duration": 5315,
    "start_time": "2021-08-25T18:31:24.314Z"
   },
   {
    "duration": 5383,
    "start_time": "2021-08-25T18:31:29.631Z"
   },
   {
    "duration": 4,
    "start_time": "2021-08-25T18:32:08.734Z"
   },
   {
    "duration": 6,
    "start_time": "2021-08-25T18:32:09.670Z"
   },
   {
    "duration": 34,
    "start_time": "2021-08-25T18:32:10.222Z"
   },
   {
    "duration": 31,
    "start_time": "2021-08-25T18:32:10.720Z"
   },
   {
    "duration": 30,
    "start_time": "2021-08-25T18:32:11.558Z"
   },
   {
    "duration": 5,
    "start_time": "2021-08-25T18:32:19.174Z"
   },
   {
    "duration": 5,
    "start_time": "2021-08-25T18:32:20.638Z"
   },
   {
    "duration": 37,
    "start_time": "2021-08-25T18:32:21.358Z"
   },
   {
    "duration": 6,
    "start_time": "2021-08-25T18:32:23.470Z"
   },
   {
    "duration": 5409,
    "start_time": "2021-08-25T18:32:24.766Z"
   },
   {
    "duration": 5291,
    "start_time": "2021-08-25T18:32:35.150Z"
   },
   {
    "duration": 5548,
    "start_time": "2021-08-25T18:32:42.663Z"
   },
   {
    "duration": 1528,
    "start_time": "2021-08-25T18:33:24.765Z"
   },
   {
    "duration": 485,
    "start_time": "2021-08-25T18:33:26.295Z"
   },
   {
    "duration": 17,
    "start_time": "2021-08-25T18:33:26.787Z"
   },
   {
    "duration": 20,
    "start_time": "2021-08-25T18:33:26.806Z"
   },
   {
    "duration": 37,
    "start_time": "2021-08-25T18:33:26.828Z"
   },
   {
    "duration": 16,
    "start_time": "2021-08-25T18:33:26.868Z"
   },
   {
    "duration": 18,
    "start_time": "2021-08-25T18:33:26.888Z"
   },
   {
    "duration": 53,
    "start_time": "2021-08-25T18:33:26.912Z"
   },
   {
    "duration": 34,
    "start_time": "2021-08-25T18:33:26.969Z"
   },
   {
    "duration": 14,
    "start_time": "2021-08-25T18:33:27.006Z"
   },
   {
    "duration": 33,
    "start_time": "2021-08-25T18:33:27.023Z"
   },
   {
    "duration": 17,
    "start_time": "2021-08-25T18:33:27.059Z"
   },
   {
    "duration": 345,
    "start_time": "2021-08-25T18:33:27.079Z"
   },
   {
    "duration": 344,
    "start_time": "2021-08-25T18:33:27.427Z"
   },
   {
    "duration": 326,
    "start_time": "2021-08-25T18:33:27.774Z"
   },
   {
    "duration": 438,
    "start_time": "2021-08-25T18:33:28.103Z"
   },
   {
    "duration": 395,
    "start_time": "2021-08-25T18:33:28.545Z"
   },
   {
    "duration": 496,
    "start_time": "2021-08-25T18:33:28.943Z"
   },
   {
    "duration": 4,
    "start_time": "2021-08-25T18:33:29.442Z"
   },
   {
    "duration": 8,
    "start_time": "2021-08-25T18:33:29.457Z"
   },
   {
    "duration": 95,
    "start_time": "2021-08-25T18:33:29.468Z"
   },
   {
    "duration": 117,
    "start_time": "2021-08-25T18:33:29.567Z"
   },
   {
    "duration": 200,
    "start_time": "2021-08-25T18:33:29.756Z"
   },
   {
    "duration": 7,
    "start_time": "2021-08-25T18:33:29.959Z"
   },
   {
    "duration": 97,
    "start_time": "2021-08-25T18:33:29.969Z"
   },
   {
    "duration": 41,
    "start_time": "2021-08-25T18:33:30.071Z"
   },
   {
    "duration": 8,
    "start_time": "2021-08-25T18:33:30.115Z"
   },
   {
    "duration": 5462,
    "start_time": "2021-08-25T18:33:30.126Z"
   },
   {
    "duration": 5440,
    "start_time": "2021-08-25T18:33:35.591Z"
   },
   {
    "duration": 5494,
    "start_time": "2021-08-25T18:33:41.034Z"
   },
   {
    "duration": 6,
    "start_time": "2021-08-25T18:42:55.795Z"
   },
   {
    "duration": 40,
    "start_time": "2021-08-25T18:42:56.421Z"
   },
   {
    "duration": 43,
    "start_time": "2021-08-25T18:42:58.331Z"
   },
   {
    "duration": 31,
    "start_time": "2021-08-25T18:43:00.195Z"
   },
   {
    "duration": 5,
    "start_time": "2021-08-25T18:44:10.412Z"
   },
   {
    "duration": 5,
    "start_time": "2021-08-25T18:45:41.916Z"
   },
   {
    "duration": 5,
    "start_time": "2021-08-25T18:45:46.915Z"
   },
   {
    "duration": 39,
    "start_time": "2021-08-25T18:45:50.747Z"
   },
   {
    "duration": 7,
    "start_time": "2021-08-25T18:46:11.603Z"
   },
   {
    "duration": 5785,
    "start_time": "2021-08-25T18:46:12.268Z"
   },
   {
    "duration": 5963,
    "start_time": "2021-08-25T18:46:18.056Z"
   },
   {
    "duration": 5837,
    "start_time": "2021-08-25T18:46:24.022Z"
   },
   {
    "duration": 6,
    "start_time": "2021-08-25T18:53:08.117Z"
   },
   {
    "duration": 13,
    "start_time": "2021-08-25T18:53:20.509Z"
   },
   {
    "duration": 33,
    "start_time": "2021-08-25T18:55:55.118Z"
   },
   {
    "duration": 6,
    "start_time": "2021-08-25T19:06:55.695Z"
   },
   {
    "duration": 31,
    "start_time": "2021-08-25T19:06:56.807Z"
   },
   {
    "duration": 110303,
    "start_time": "2021-08-25T19:47:46.397Z"
   },
   {
    "duration": 479,
    "start_time": "2021-08-25T19:49:36.703Z"
   },
   {
    "duration": 22,
    "start_time": "2021-08-25T19:49:37.185Z"
   },
   {
    "duration": 12,
    "start_time": "2021-08-25T19:49:37.211Z"
   },
   {
    "duration": 12,
    "start_time": "2021-08-25T19:49:37.226Z"
   },
   {
    "duration": 14,
    "start_time": "2021-08-25T19:49:37.240Z"
   },
   {
    "duration": 12,
    "start_time": "2021-08-25T19:49:37.256Z"
   },
   {
    "duration": 19,
    "start_time": "2021-08-25T19:49:37.270Z"
   },
   {
    "duration": 14,
    "start_time": "2021-08-25T19:49:37.301Z"
   },
   {
    "duration": 13,
    "start_time": "2021-08-25T19:49:37.318Z"
   },
   {
    "duration": 14,
    "start_time": "2021-08-25T19:49:37.333Z"
   },
   {
    "duration": 14,
    "start_time": "2021-08-25T19:49:37.349Z"
   },
   {
    "duration": 361,
    "start_time": "2021-08-25T19:49:37.366Z"
   },
   {
    "duration": 414,
    "start_time": "2021-08-25T19:49:37.730Z"
   },
   {
    "duration": 306,
    "start_time": "2021-08-25T19:49:38.146Z"
   },
   {
    "duration": 512,
    "start_time": "2021-08-25T19:49:38.455Z"
   },
   {
    "duration": 409,
    "start_time": "2021-08-25T19:49:38.970Z"
   },
   {
    "duration": 400,
    "start_time": "2021-08-25T19:49:39.382Z"
   },
   {
    "duration": 6,
    "start_time": "2021-08-25T19:49:39.784Z"
   },
   {
    "duration": 105,
    "start_time": "2021-08-25T19:49:39.801Z"
   },
   {
    "duration": 100,
    "start_time": "2021-08-25T19:49:40.000Z"
   },
   {
    "duration": 133,
    "start_time": "2021-08-25T19:49:40.104Z"
   },
   {
    "duration": 92,
    "start_time": "2021-08-25T19:49:40.310Z"
   },
   {
    "duration": 5,
    "start_time": "2021-08-25T19:49:40.405Z"
   },
   {
    "duration": 37,
    "start_time": "2021-08-25T19:49:40.413Z"
   },
   {
    "duration": 6,
    "start_time": "2021-08-25T19:49:40.452Z"
   },
   {
    "duration": 5381,
    "start_time": "2021-08-25T19:49:40.462Z"
   },
   {
    "duration": 5313,
    "start_time": "2021-08-25T19:49:45.845Z"
   },
   {
    "duration": 5451,
    "start_time": "2021-08-25T19:49:51.160Z"
   },
   {
    "duration": 13,
    "start_time": "2021-08-25T19:49:56.614Z"
   },
   {
    "duration": 8,
    "start_time": "2021-08-25T20:01:45.295Z"
   },
   {
    "duration": 7,
    "start_time": "2021-08-25T20:01:57.295Z"
   },
   {
    "duration": 15995,
    "start_time": "2021-08-25T20:10:04.018Z"
   },
   {
    "duration": 1211,
    "start_time": "2021-08-26T18:27:14.707Z"
   },
   {
    "duration": 369,
    "start_time": "2021-08-26T18:27:15.920Z"
   },
   {
    "duration": 12,
    "start_time": "2021-08-26T18:27:16.291Z"
   },
   {
    "duration": 10,
    "start_time": "2021-08-26T18:27:16.305Z"
   },
   {
    "duration": 25,
    "start_time": "2021-08-26T18:27:16.317Z"
   },
   {
    "duration": 10,
    "start_time": "2021-08-26T18:27:16.344Z"
   },
   {
    "duration": 13,
    "start_time": "2021-08-26T18:27:16.355Z"
   },
   {
    "duration": 18,
    "start_time": "2021-08-26T18:27:16.370Z"
   },
   {
    "duration": 10,
    "start_time": "2021-08-26T18:27:16.391Z"
   },
   {
    "duration": 11,
    "start_time": "2021-08-26T18:27:16.403Z"
   },
   {
    "duration": 10,
    "start_time": "2021-08-26T18:27:16.441Z"
   },
   {
    "duration": 14,
    "start_time": "2021-08-26T18:27:16.453Z"
   },
   {
    "duration": 218,
    "start_time": "2021-08-26T18:27:16.468Z"
   },
   {
    "duration": 215,
    "start_time": "2021-08-26T18:27:16.688Z"
   },
   {
    "duration": 199,
    "start_time": "2021-08-26T18:27:16.905Z"
   },
   {
    "duration": 342,
    "start_time": "2021-08-26T18:27:17.106Z"
   },
   {
    "duration": 280,
    "start_time": "2021-08-26T18:27:17.450Z"
   },
   {
    "duration": 373,
    "start_time": "2021-08-26T18:27:17.732Z"
   },
   {
    "duration": 4,
    "start_time": "2021-08-26T18:27:18.107Z"
   },
   {
    "duration": 57,
    "start_time": "2021-08-26T18:27:18.113Z"
   },
   {
    "duration": 117,
    "start_time": "2021-08-26T18:27:18.242Z"
   },
   {
    "duration": 190,
    "start_time": "2021-08-26T18:27:18.362Z"
   },
   {
    "duration": 87,
    "start_time": "2021-08-26T18:27:18.554Z"
   },
   {
    "duration": 117,
    "start_time": "2021-08-26T18:27:18.645Z"
   },
   {
    "duration": 40,
    "start_time": "2021-08-26T18:27:18.764Z"
   },
   {
    "duration": 5,
    "start_time": "2021-08-26T18:27:18.806Z"
   },
   {
    "duration": 3378,
    "start_time": "2021-08-26T18:27:18.814Z"
   },
   {
    "duration": 3447,
    "start_time": "2021-08-26T18:27:22.194Z"
   },
   {
    "duration": 3560,
    "start_time": "2021-08-26T18:27:25.643Z"
   },
   {
    "duration": 10,
    "start_time": "2021-08-26T18:27:29.205Z"
   },
   {
    "duration": 5,
    "start_time": "2021-08-26T18:33:21.011Z"
   },
   {
    "duration": 3350,
    "start_time": "2021-08-26T18:33:21.628Z"
   },
   {
    "duration": 3640,
    "start_time": "2021-08-26T18:33:27.627Z"
   },
   {
    "duration": 3381,
    "start_time": "2021-08-26T18:33:34.075Z"
   },
   {
    "duration": 5,
    "start_time": "2021-08-26T18:34:01.483Z"
   },
   {
    "duration": 3368,
    "start_time": "2021-08-26T18:34:02.139Z"
   },
   {
    "duration": 3586,
    "start_time": "2021-08-26T18:34:08.587Z"
   },
   {
    "duration": 3337,
    "start_time": "2021-08-26T18:34:13.212Z"
   },
   {
    "duration": 5,
    "start_time": "2021-08-26T18:34:20.675Z"
   },
   {
    "duration": 3368,
    "start_time": "2021-08-26T18:34:21.315Z"
   },
   {
    "duration": 5,
    "start_time": "2021-08-26T18:36:45.076Z"
   },
   {
    "duration": 3379,
    "start_time": "2021-08-26T18:36:46.835Z"
   },
   {
    "duration": 3308,
    "start_time": "2021-08-26T18:36:52.163Z"
   },
   {
    "duration": 6,
    "start_time": "2021-08-26T18:37:52.508Z"
   },
   {
    "duration": 3474,
    "start_time": "2021-08-26T18:37:53.620Z"
   },
   {
    "duration": 3536,
    "start_time": "2021-08-26T18:37:58.235Z"
   },
   {
    "duration": 3609,
    "start_time": "2021-08-26T18:38:02.764Z"
   }
  ],
  "kernelspec": {
   "display_name": "Python 3",
   "language": "python",
   "name": "python3"
  },
  "language_info": {
   "codemirror_mode": {
    "name": "ipython",
    "version": 3
   },
   "file_extension": ".py",
   "mimetype": "text/x-python",
   "name": "python",
   "nbconvert_exporter": "python",
   "pygments_lexer": "ipython3",
   "version": "3.8.8"
  },
  "toc": {
   "base_numbering": 1,
   "nav_menu": {},
   "number_sections": true,
   "sideBar": true,
   "skip_h1_title": true,
   "title_cell": "Table of Contents",
   "title_sidebar": "Contents",
   "toc_cell": false,
   "toc_position": {},
   "toc_section_display": true,
   "toc_window_display": false
  }
 },
 "nbformat": 4,
 "nbformat_minor": 2
}
