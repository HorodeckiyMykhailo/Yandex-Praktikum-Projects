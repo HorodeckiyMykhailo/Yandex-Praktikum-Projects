{
 "cells": [
  {
   "cell_type": "markdown",
   "metadata": {},
   "source": [
    "# Исследование объявлений о продаже квартир\n",
    "\n"
   ]
  },
  {
   "cell_type": "markdown",
   "metadata": {},
   "source": [
    "## Изучение данных из файла"
   ]
  },
  {
   "cell_type": "code",
   "execution_count": 1,
   "metadata": {
    "scrolled": true
   },
   "outputs": [
    {
     "data": {
      "text/html": [
       "<div>\n",
       "<style scoped>\n",
       "    .dataframe tbody tr th:only-of-type {\n",
       "        vertical-align: middle;\n",
       "    }\n",
       "\n",
       "    .dataframe tbody tr th {\n",
       "        vertical-align: top;\n",
       "    }\n",
       "\n",
       "    .dataframe thead th {\n",
       "        text-align: right;\n",
       "    }\n",
       "</style>\n",
       "<table border=\"1\" class=\"dataframe\">\n",
       "  <thead>\n",
       "    <tr style=\"text-align: right;\">\n",
       "      <th></th>\n",
       "      <th>total_images</th>\n",
       "      <th>last_price</th>\n",
       "      <th>total_area</th>\n",
       "      <th>first_day_exposition</th>\n",
       "      <th>rooms</th>\n",
       "      <th>ceiling_height</th>\n",
       "      <th>floors_total</th>\n",
       "      <th>living_area</th>\n",
       "      <th>floor</th>\n",
       "      <th>is_apartment</th>\n",
       "      <th>...</th>\n",
       "      <th>kitchen_area</th>\n",
       "      <th>balcony</th>\n",
       "      <th>locality_name</th>\n",
       "      <th>airports_nearest</th>\n",
       "      <th>cityCenters_nearest</th>\n",
       "      <th>parks_around3000</th>\n",
       "      <th>parks_nearest</th>\n",
       "      <th>ponds_around3000</th>\n",
       "      <th>ponds_nearest</th>\n",
       "      <th>days_exposition</th>\n",
       "    </tr>\n",
       "  </thead>\n",
       "  <tbody>\n",
       "    <tr>\n",
       "      <td>0</td>\n",
       "      <td>20</td>\n",
       "      <td>13000000.000</td>\n",
       "      <td>108.000</td>\n",
       "      <td>2019-03-07T00:00:00</td>\n",
       "      <td>3</td>\n",
       "      <td>2.700</td>\n",
       "      <td>16.000</td>\n",
       "      <td>51.000</td>\n",
       "      <td>8</td>\n",
       "      <td>NaN</td>\n",
       "      <td>...</td>\n",
       "      <td>25.000</td>\n",
       "      <td>nan</td>\n",
       "      <td>Санкт-Петербург</td>\n",
       "      <td>18863.000</td>\n",
       "      <td>16028.000</td>\n",
       "      <td>1.000</td>\n",
       "      <td>482.000</td>\n",
       "      <td>2.000</td>\n",
       "      <td>755.000</td>\n",
       "      <td>nan</td>\n",
       "    </tr>\n",
       "    <tr>\n",
       "      <td>1</td>\n",
       "      <td>7</td>\n",
       "      <td>3350000.000</td>\n",
       "      <td>40.400</td>\n",
       "      <td>2018-12-04T00:00:00</td>\n",
       "      <td>1</td>\n",
       "      <td>nan</td>\n",
       "      <td>11.000</td>\n",
       "      <td>18.600</td>\n",
       "      <td>1</td>\n",
       "      <td>NaN</td>\n",
       "      <td>...</td>\n",
       "      <td>11.000</td>\n",
       "      <td>2.000</td>\n",
       "      <td>посёлок Шушары</td>\n",
       "      <td>12817.000</td>\n",
       "      <td>18603.000</td>\n",
       "      <td>0.000</td>\n",
       "      <td>nan</td>\n",
       "      <td>0.000</td>\n",
       "      <td>nan</td>\n",
       "      <td>81.000</td>\n",
       "    </tr>\n",
       "    <tr>\n",
       "      <td>2</td>\n",
       "      <td>10</td>\n",
       "      <td>5196000.000</td>\n",
       "      <td>56.000</td>\n",
       "      <td>2015-08-20T00:00:00</td>\n",
       "      <td>2</td>\n",
       "      <td>nan</td>\n",
       "      <td>5.000</td>\n",
       "      <td>34.300</td>\n",
       "      <td>4</td>\n",
       "      <td>NaN</td>\n",
       "      <td>...</td>\n",
       "      <td>8.300</td>\n",
       "      <td>0.000</td>\n",
       "      <td>Санкт-Петербург</td>\n",
       "      <td>21741.000</td>\n",
       "      <td>13933.000</td>\n",
       "      <td>1.000</td>\n",
       "      <td>90.000</td>\n",
       "      <td>2.000</td>\n",
       "      <td>574.000</td>\n",
       "      <td>558.000</td>\n",
       "    </tr>\n",
       "    <tr>\n",
       "      <td>3</td>\n",
       "      <td>0</td>\n",
       "      <td>64900000.000</td>\n",
       "      <td>159.000</td>\n",
       "      <td>2015-07-24T00:00:00</td>\n",
       "      <td>3</td>\n",
       "      <td>nan</td>\n",
       "      <td>14.000</td>\n",
       "      <td>nan</td>\n",
       "      <td>9</td>\n",
       "      <td>NaN</td>\n",
       "      <td>...</td>\n",
       "      <td>nan</td>\n",
       "      <td>0.000</td>\n",
       "      <td>Санкт-Петербург</td>\n",
       "      <td>28098.000</td>\n",
       "      <td>6800.000</td>\n",
       "      <td>2.000</td>\n",
       "      <td>84.000</td>\n",
       "      <td>3.000</td>\n",
       "      <td>234.000</td>\n",
       "      <td>424.000</td>\n",
       "    </tr>\n",
       "    <tr>\n",
       "      <td>4</td>\n",
       "      <td>2</td>\n",
       "      <td>10000000.000</td>\n",
       "      <td>100.000</td>\n",
       "      <td>2018-06-19T00:00:00</td>\n",
       "      <td>2</td>\n",
       "      <td>3.030</td>\n",
       "      <td>14.000</td>\n",
       "      <td>32.000</td>\n",
       "      <td>13</td>\n",
       "      <td>NaN</td>\n",
       "      <td>...</td>\n",
       "      <td>41.000</td>\n",
       "      <td>nan</td>\n",
       "      <td>Санкт-Петербург</td>\n",
       "      <td>31856.000</td>\n",
       "      <td>8098.000</td>\n",
       "      <td>2.000</td>\n",
       "      <td>112.000</td>\n",
       "      <td>1.000</td>\n",
       "      <td>48.000</td>\n",
       "      <td>121.000</td>\n",
       "    </tr>\n",
       "  </tbody>\n",
       "</table>\n",
       "<p>5 rows × 22 columns</p>\n",
       "</div>"
      ],
      "text/plain": [
       "   total_images   last_price  total_area first_day_exposition  rooms  \\\n",
       "0            20 13000000.000     108.000  2019-03-07T00:00:00      3   \n",
       "1             7  3350000.000      40.400  2018-12-04T00:00:00      1   \n",
       "2            10  5196000.000      56.000  2015-08-20T00:00:00      2   \n",
       "3             0 64900000.000     159.000  2015-07-24T00:00:00      3   \n",
       "4             2 10000000.000     100.000  2018-06-19T00:00:00      2   \n",
       "\n",
       "   ceiling_height  floors_total  living_area  floor is_apartment  ...  \\\n",
       "0           2.700        16.000       51.000      8          NaN  ...   \n",
       "1             nan        11.000       18.600      1          NaN  ...   \n",
       "2             nan         5.000       34.300      4          NaN  ...   \n",
       "3             nan        14.000          nan      9          NaN  ...   \n",
       "4           3.030        14.000       32.000     13          NaN  ...   \n",
       "\n",
       "   kitchen_area  balcony    locality_name  airports_nearest  \\\n",
       "0        25.000      nan  Санкт-Петербург         18863.000   \n",
       "1        11.000    2.000   посёлок Шушары         12817.000   \n",
       "2         8.300    0.000  Санкт-Петербург         21741.000   \n",
       "3           nan    0.000  Санкт-Петербург         28098.000   \n",
       "4        41.000      nan  Санкт-Петербург         31856.000   \n",
       "\n",
       "  cityCenters_nearest  parks_around3000  parks_nearest  ponds_around3000  \\\n",
       "0           16028.000             1.000        482.000             2.000   \n",
       "1           18603.000             0.000            nan             0.000   \n",
       "2           13933.000             1.000         90.000             2.000   \n",
       "3            6800.000             2.000         84.000             3.000   \n",
       "4            8098.000             2.000        112.000             1.000   \n",
       "\n",
       "   ponds_nearest  days_exposition  \n",
       "0        755.000              nan  \n",
       "1            nan           81.000  \n",
       "2        574.000          558.000  \n",
       "3        234.000          424.000  \n",
       "4         48.000          121.000  \n",
       "\n",
       "[5 rows x 22 columns]"
      ]
     },
     "execution_count": 1,
     "metadata": {},
     "output_type": "execute_result"
    }
   ],
   "source": [
    "import pandas as pd\n",
    "import matplotlib.pyplot as plt\n",
    "df = pd.read_csv('/datasets/real_estate_data.csv',sep = '\\t')\n",
    "pd.set_option('display.float_format', lambda x: '%.3f' % x)\n",
    "df.head()"
   ]
  },
  {
   "cell_type": "code",
   "execution_count": 2,
   "metadata": {
    "scrolled": true
   },
   "outputs": [
    {
     "name": "stdout",
     "output_type": "stream",
     "text": [
      "<class 'pandas.core.frame.DataFrame'>\n",
      "RangeIndex: 23699 entries, 0 to 23698\n",
      "Data columns (total 22 columns):\n",
      "total_images            23699 non-null int64\n",
      "last_price              23699 non-null float64\n",
      "total_area              23699 non-null float64\n",
      "first_day_exposition    23699 non-null object\n",
      "rooms                   23699 non-null int64\n",
      "ceiling_height          14504 non-null float64\n",
      "floors_total            23613 non-null float64\n",
      "living_area             21796 non-null float64\n",
      "floor                   23699 non-null int64\n",
      "is_apartment            2775 non-null object\n",
      "studio                  23699 non-null bool\n",
      "open_plan               23699 non-null bool\n",
      "kitchen_area            21421 non-null float64\n",
      "balcony                 12180 non-null float64\n",
      "locality_name           23650 non-null object\n",
      "airports_nearest        18157 non-null float64\n",
      "cityCenters_nearest     18180 non-null float64\n",
      "parks_around3000        18181 non-null float64\n",
      "parks_nearest           8079 non-null float64\n",
      "ponds_around3000        18181 non-null float64\n",
      "ponds_nearest           9110 non-null float64\n",
      "days_exposition         20518 non-null float64\n",
      "dtypes: bool(2), float64(14), int64(3), object(3)\n",
      "memory usage: 3.7+ MB\n"
     ]
    }
   ],
   "source": [
    "df.info()"
   ]
  },
  {
   "cell_type": "code",
   "execution_count": 3,
   "metadata": {},
   "outputs": [
    {
     "data": {
      "text/plain": [
       "is_apartment            20924\n",
       "parks_nearest           15620\n",
       "ponds_nearest           14589\n",
       "balcony                 11519\n",
       "ceiling_height           9195\n",
       "airports_nearest         5542\n",
       "cityCenters_nearest      5519\n",
       "parks_around3000         5518\n",
       "ponds_around3000         5518\n",
       "days_exposition          3181\n",
       "kitchen_area             2278\n",
       "living_area              1903\n",
       "floors_total               86\n",
       "locality_name              49\n",
       "first_day_exposition        0\n",
       "last_price                  0\n",
       "total_area                  0\n",
       "studio                      0\n",
       "rooms                       0\n",
       "floor                       0\n",
       "open_plan                   0\n",
       "total_images                0\n",
       "dtype: int64"
      ]
     },
     "execution_count": 3,
     "metadata": {},
     "output_type": "execute_result"
    }
   ],
   "source": [
    "df.isna().sum(axis=0).sort_values(ascending = False )"
   ]
  },
  {
   "cell_type": "markdown",
   "metadata": {},
   "source": [
    "### Вывод"
   ]
  },
  {
   "cell_type": "markdown",
   "metadata": {},
   "source": [
    "Пропуски наблюдаются во многих столбцах,но мне кажется что не все столбцы нужны мне для исследования.Я думаю что очень важно заполнить пропуски в столбцах kitchen_area,living_area.По скольку мне кажется что жилая площадь и площадь кухни понадобятся мне для рассчетов"
   ]
  },
  {
   "cell_type": "markdown",
   "metadata": {},
   "source": [
    "## Предобработка данных"
   ]
  },
  {
   "cell_type": "code",
   "execution_count": 4,
   "metadata": {
    "scrolled": true
   },
   "outputs": [
    {
     "data": {
      "text/html": [
       "<div>\n",
       "<style scoped>\n",
       "    .dataframe tbody tr th:only-of-type {\n",
       "        vertical-align: middle;\n",
       "    }\n",
       "\n",
       "    .dataframe tbody tr th {\n",
       "        vertical-align: top;\n",
       "    }\n",
       "\n",
       "    .dataframe thead th {\n",
       "        text-align: right;\n",
       "    }\n",
       "</style>\n",
       "<table border=\"1\" class=\"dataframe\">\n",
       "  <thead>\n",
       "    <tr style=\"text-align: right;\">\n",
       "      <th></th>\n",
       "      <th>mean</th>\n",
       "      <th>median</th>\n",
       "    </tr>\n",
       "    <tr>\n",
       "      <th>total_area_cat</th>\n",
       "      <th></th>\n",
       "      <th></th>\n",
       "    </tr>\n",
       "  </thead>\n",
       "  <tbody>\n",
       "    <tr>\n",
       "      <td>(11.999, 40.0]</td>\n",
       "      <td>8.341</td>\n",
       "      <td>8.250</td>\n",
       "    </tr>\n",
       "    <tr>\n",
       "      <td>(40.0, 52.0]</td>\n",
       "      <td>8.814</td>\n",
       "      <td>8.000</td>\n",
       "    </tr>\n",
       "    <tr>\n",
       "      <td>(52.0, 69.9]</td>\n",
       "      <td>9.729</td>\n",
       "      <td>9.000</td>\n",
       "    </tr>\n",
       "    <tr>\n",
       "      <td>(69.9, 900.0]</td>\n",
       "      <td>15.289</td>\n",
       "      <td>13.000</td>\n",
       "    </tr>\n",
       "  </tbody>\n",
       "</table>\n",
       "</div>"
      ],
      "text/plain": [
       "                 mean  median\n",
       "total_area_cat               \n",
       "(11.999, 40.0]  8.341   8.250\n",
       "(40.0, 52.0]    8.814   8.000\n",
       "(52.0, 69.9]    9.729   9.000\n",
       "(69.9, 900.0]  15.289  13.000"
      ]
     },
     "execution_count": 4,
     "metadata": {},
     "output_type": "execute_result"
    }
   ],
   "source": [
    "#Я думаю что очень важно заполнить пропуски в столбцах kitchen_area,living_area.\n",
    "#Я собираюсь категоризировать данные столбца total_area \n",
    "#найти в нем среднее значения кухни и жилой площади по каждой из категорий и заполнить пропуски этими значениями\n",
    "df['total_area_cat'] =  pd.qcut(df['total_area'], q=4)\n",
    "df['total_area_cat'].value_counts(ascending = False)\n",
    "#посмотрим среднее значение площади кухни в зависимости от площади квартиры\n",
    "df.groupby('total_area_cat')['kitchen_area'].agg(['mean','median'])"
   ]
  },
  {
   "cell_type": "code",
   "execution_count": 5,
   "metadata": {
    "scrolled": true
   },
   "outputs": [
    {
     "data": {
      "text/html": [
       "<div>\n",
       "<style scoped>\n",
       "    .dataframe tbody tr th:only-of-type {\n",
       "        vertical-align: middle;\n",
       "    }\n",
       "\n",
       "    .dataframe tbody tr th {\n",
       "        vertical-align: top;\n",
       "    }\n",
       "\n",
       "    .dataframe thead th {\n",
       "        text-align: right;\n",
       "    }\n",
       "</style>\n",
       "<table border=\"1\" class=\"dataframe\">\n",
       "  <thead>\n",
       "    <tr style=\"text-align: right;\">\n",
       "      <th></th>\n",
       "      <th>mean</th>\n",
       "      <th>median</th>\n",
       "    </tr>\n",
       "    <tr>\n",
       "      <th>total_area_cat</th>\n",
       "      <th></th>\n",
       "      <th></th>\n",
       "    </tr>\n",
       "  </thead>\n",
       "  <tbody>\n",
       "    <tr>\n",
       "      <td>(11.999, 40.0]</td>\n",
       "      <td>17.356</td>\n",
       "      <td>17.200</td>\n",
       "    </tr>\n",
       "    <tr>\n",
       "      <td>(40.0, 52.0]</td>\n",
       "      <td>25.548</td>\n",
       "      <td>27.400</td>\n",
       "    </tr>\n",
       "    <tr>\n",
       "      <td>(52.0, 69.9]</td>\n",
       "      <td>35.891</td>\n",
       "      <td>35.500</td>\n",
       "    </tr>\n",
       "    <tr>\n",
       "      <td>(69.9, 900.0]</td>\n",
       "      <td>59.614</td>\n",
       "      <td>51.300</td>\n",
       "    </tr>\n",
       "  </tbody>\n",
       "</table>\n",
       "</div>"
      ],
      "text/plain": [
       "                 mean  median\n",
       "total_area_cat               \n",
       "(11.999, 40.0] 17.356  17.200\n",
       "(40.0, 52.0]   25.548  27.400\n",
       "(52.0, 69.9]   35.891  35.500\n",
       "(69.9, 900.0]  59.614  51.300"
      ]
     },
     "execution_count": 5,
     "metadata": {},
     "output_type": "execute_result"
    }
   ],
   "source": [
    "#сделаю тоже самое для жилой площади\n",
    "df.groupby('total_area_cat')['living_area'].agg(['mean','median'])"
   ]
  },
  {
   "cell_type": "code",
   "execution_count": 6,
   "metadata": {
    "scrolled": true
   },
   "outputs": [
    {
     "data": {
      "text/html": [
       "<div>\n",
       "<style scoped>\n",
       "    .dataframe tbody tr th:only-of-type {\n",
       "        vertical-align: middle;\n",
       "    }\n",
       "\n",
       "    .dataframe tbody tr th {\n",
       "        vertical-align: top;\n",
       "    }\n",
       "\n",
       "    .dataframe thead th {\n",
       "        text-align: right;\n",
       "    }\n",
       "</style>\n",
       "<table border=\"1\" class=\"dataframe\">\n",
       "  <thead>\n",
       "    <tr style=\"text-align: right;\">\n",
       "      <th></th>\n",
       "      <th>total_images</th>\n",
       "      <th>last_price</th>\n",
       "      <th>total_area</th>\n",
       "      <th>first_day_exposition</th>\n",
       "      <th>rooms</th>\n",
       "      <th>ceiling_height</th>\n",
       "      <th>floors_total</th>\n",
       "      <th>living_area</th>\n",
       "      <th>floor</th>\n",
       "      <th>is_apartment</th>\n",
       "      <th>...</th>\n",
       "      <th>balcony</th>\n",
       "      <th>locality_name</th>\n",
       "      <th>airports_nearest</th>\n",
       "      <th>cityCenters_nearest</th>\n",
       "      <th>parks_around3000</th>\n",
       "      <th>parks_nearest</th>\n",
       "      <th>ponds_around3000</th>\n",
       "      <th>ponds_nearest</th>\n",
       "      <th>days_exposition</th>\n",
       "      <th>total_area_cat</th>\n",
       "    </tr>\n",
       "  </thead>\n",
       "  <tbody>\n",
       "    <tr>\n",
       "      <td>0</td>\n",
       "      <td>20</td>\n",
       "      <td>13000000.000</td>\n",
       "      <td>108.000</td>\n",
       "      <td>2019-03-07T00:00:00</td>\n",
       "      <td>3</td>\n",
       "      <td>2.700</td>\n",
       "      <td>16</td>\n",
       "      <td>51.000</td>\n",
       "      <td>8</td>\n",
       "      <td>NaN</td>\n",
       "      <td>...</td>\n",
       "      <td>nan</td>\n",
       "      <td>Санкт-Петербург</td>\n",
       "      <td>18863.000</td>\n",
       "      <td>16028.000</td>\n",
       "      <td>1.000</td>\n",
       "      <td>482.000</td>\n",
       "      <td>2.000</td>\n",
       "      <td>755.000</td>\n",
       "      <td>0</td>\n",
       "      <td>(69.9, 900.0]</td>\n",
       "    </tr>\n",
       "    <tr>\n",
       "      <td>1</td>\n",
       "      <td>7</td>\n",
       "      <td>3350000.000</td>\n",
       "      <td>40.400</td>\n",
       "      <td>2018-12-04T00:00:00</td>\n",
       "      <td>1</td>\n",
       "      <td>nan</td>\n",
       "      <td>11</td>\n",
       "      <td>18.600</td>\n",
       "      <td>1</td>\n",
       "      <td>NaN</td>\n",
       "      <td>...</td>\n",
       "      <td>2.000</td>\n",
       "      <td>посёлок Шушары</td>\n",
       "      <td>12817.000</td>\n",
       "      <td>18603.000</td>\n",
       "      <td>0.000</td>\n",
       "      <td>nan</td>\n",
       "      <td>0.000</td>\n",
       "      <td>nan</td>\n",
       "      <td>81</td>\n",
       "      <td>(40.0, 52.0]</td>\n",
       "    </tr>\n",
       "    <tr>\n",
       "      <td>2</td>\n",
       "      <td>10</td>\n",
       "      <td>5196000.000</td>\n",
       "      <td>56.000</td>\n",
       "      <td>2015-08-20T00:00:00</td>\n",
       "      <td>2</td>\n",
       "      <td>nan</td>\n",
       "      <td>5</td>\n",
       "      <td>34.300</td>\n",
       "      <td>4</td>\n",
       "      <td>NaN</td>\n",
       "      <td>...</td>\n",
       "      <td>0.000</td>\n",
       "      <td>Санкт-Петербург</td>\n",
       "      <td>21741.000</td>\n",
       "      <td>13933.000</td>\n",
       "      <td>1.000</td>\n",
       "      <td>90.000</td>\n",
       "      <td>2.000</td>\n",
       "      <td>574.000</td>\n",
       "      <td>558</td>\n",
       "      <td>(52.0, 69.9]</td>\n",
       "    </tr>\n",
       "    <tr>\n",
       "      <td>3</td>\n",
       "      <td>0</td>\n",
       "      <td>64900000.000</td>\n",
       "      <td>159.000</td>\n",
       "      <td>2015-07-24T00:00:00</td>\n",
       "      <td>3</td>\n",
       "      <td>nan</td>\n",
       "      <td>14</td>\n",
       "      <td>59.614</td>\n",
       "      <td>9</td>\n",
       "      <td>NaN</td>\n",
       "      <td>...</td>\n",
       "      <td>0.000</td>\n",
       "      <td>Санкт-Петербург</td>\n",
       "      <td>28098.000</td>\n",
       "      <td>6800.000</td>\n",
       "      <td>2.000</td>\n",
       "      <td>84.000</td>\n",
       "      <td>3.000</td>\n",
       "      <td>234.000</td>\n",
       "      <td>424</td>\n",
       "      <td>(69.9, 900.0]</td>\n",
       "    </tr>\n",
       "    <tr>\n",
       "      <td>4</td>\n",
       "      <td>2</td>\n",
       "      <td>10000000.000</td>\n",
       "      <td>100.000</td>\n",
       "      <td>2018-06-19T00:00:00</td>\n",
       "      <td>2</td>\n",
       "      <td>3.030</td>\n",
       "      <td>14</td>\n",
       "      <td>32.000</td>\n",
       "      <td>13</td>\n",
       "      <td>NaN</td>\n",
       "      <td>...</td>\n",
       "      <td>nan</td>\n",
       "      <td>Санкт-Петербург</td>\n",
       "      <td>31856.000</td>\n",
       "      <td>8098.000</td>\n",
       "      <td>2.000</td>\n",
       "      <td>112.000</td>\n",
       "      <td>1.000</td>\n",
       "      <td>48.000</td>\n",
       "      <td>121</td>\n",
       "      <td>(69.9, 900.0]</td>\n",
       "    </tr>\n",
       "  </tbody>\n",
       "</table>\n",
       "<p>5 rows × 23 columns</p>\n",
       "</div>"
      ],
      "text/plain": [
       "   total_images   last_price  total_area first_day_exposition  rooms  \\\n",
       "0            20 13000000.000     108.000  2019-03-07T00:00:00      3   \n",
       "1             7  3350000.000      40.400  2018-12-04T00:00:00      1   \n",
       "2            10  5196000.000      56.000  2015-08-20T00:00:00      2   \n",
       "3             0 64900000.000     159.000  2015-07-24T00:00:00      3   \n",
       "4             2 10000000.000     100.000  2018-06-19T00:00:00      2   \n",
       "\n",
       "   ceiling_height  floors_total  living_area  floor is_apartment  ...  \\\n",
       "0           2.700            16       51.000      8          NaN  ...   \n",
       "1             nan            11       18.600      1          NaN  ...   \n",
       "2             nan             5       34.300      4          NaN  ...   \n",
       "3             nan            14       59.614      9          NaN  ...   \n",
       "4           3.030            14       32.000     13          NaN  ...   \n",
       "\n",
       "   balcony    locality_name  airports_nearest  cityCenters_nearest  \\\n",
       "0      nan  Санкт-Петербург         18863.000            16028.000   \n",
       "1    2.000   посёлок Шушары         12817.000            18603.000   \n",
       "2    0.000  Санкт-Петербург         21741.000            13933.000   \n",
       "3    0.000  Санкт-Петербург         28098.000             6800.000   \n",
       "4      nan  Санкт-Петербург         31856.000             8098.000   \n",
       "\n",
       "  parks_around3000  parks_nearest  ponds_around3000  ponds_nearest  \\\n",
       "0            1.000        482.000             2.000        755.000   \n",
       "1            0.000            nan             0.000            nan   \n",
       "2            1.000         90.000             2.000        574.000   \n",
       "3            2.000         84.000             3.000        234.000   \n",
       "4            2.000        112.000             1.000         48.000   \n",
       "\n",
       "   days_exposition  total_area_cat  \n",
       "0                0   (69.9, 900.0]  \n",
       "1               81    (40.0, 52.0]  \n",
       "2              558    (52.0, 69.9]  \n",
       "3              424   (69.9, 900.0]  \n",
       "4              121   (69.9, 900.0]  \n",
       "\n",
       "[5 rows x 23 columns]"
      ]
     },
     "execution_count": 6,
     "metadata": {},
     "output_type": "execute_result"
    }
   ],
   "source": [
    "#заменю значения NAN нулями в данных столбцах:\n",
    "df['kitchen_area'] = df['kitchen_area'].fillna(0)\n",
    "df['living_area'] = df['living_area'].fillna(0)\n",
    "\n",
    "\n",
    "#хочу написать и применить функцию для замены нулевых значений \n",
    "\n",
    "\n",
    "\n",
    "def kitchen(row):\n",
    "    total = row['total_area']\n",
    "    kitchen = row['kitchen_area']\n",
    "    \n",
    "    if total < 40:\n",
    "        if kitchen == 0:\n",
    "            return 8.341194\n",
    "    if total < 52:\n",
    "        if kitchen == 0:\n",
    "            return 8.814083\n",
    "    if total < 69:\n",
    "        if kitchen == 0:\n",
    "            return 9.728811\n",
    "    if total < 900:\n",
    "        if kitchen == 0:\n",
    "            return 15.288620\n",
    "    if kitchen != 0:\n",
    "        return kitchen\n",
    "    \n",
    "def living(row):\n",
    "    total = row['total_area']\n",
    "    living = row['living_area']\n",
    "    \n",
    "    if total < 40:\n",
    "        if living == 0:\n",
    "            return 17.355543\n",
    "    if total < 52:\n",
    "        if living == 0:\n",
    "            return 25.547984\n",
    "    if total < 69:\n",
    "        if living == 0:\n",
    "            return 35.890699\n",
    "    if total < 900:\n",
    "        if living == 0:\n",
    "            return 59.613725\n",
    "    if living != 0:\n",
    "        \n",
    "        return living\n",
    "    \n",
    "    \n",
    "\n",
    "df['kitchen_area'] = df.apply(kitchen,axis = 1)\n",
    "df['living_area'] = df.apply(living,axis = 1)\n",
    "\n",
    "#заменю тип данных в 'days_exposition' и уберу пропуски ,вместо пропусков поставлю 0\n",
    "df['days_exposition'] = df['days_exposition'].fillna(0).astype(int)\n",
    "\n",
    "#заменю тип данных в столбце floors_total и уберу пропуски поставив 0\n",
    "df['floors_total'] = df['floors_total'].fillna(0).astype(int)\n",
    "df.head()"
   ]
  },
  {
   "cell_type": "markdown",
   "metadata": {},
   "source": [
    "Заменил нулевые значения в столбцах kitchen_area и living_area.В стобцах days_exposition и floors_total заменил типы данных ,так как мне кажется что в этих столбцах уместнее целые числа"
   ]
  },
  {
   "cell_type": "markdown",
   "metadata": {},
   "source": [
    "## Расчёты и добавление результатов в таблицу"
   ]
  },
  {
   "cell_type": "code",
   "execution_count": 7,
   "metadata": {
    "scrolled": true
   },
   "outputs": [
    {
     "data": {
      "text/html": [
       "<div>\n",
       "<style scoped>\n",
       "    .dataframe tbody tr th:only-of-type {\n",
       "        vertical-align: middle;\n",
       "    }\n",
       "\n",
       "    .dataframe tbody tr th {\n",
       "        vertical-align: top;\n",
       "    }\n",
       "\n",
       "    .dataframe thead th {\n",
       "        text-align: right;\n",
       "    }\n",
       "</style>\n",
       "<table border=\"1\" class=\"dataframe\">\n",
       "  <thead>\n",
       "    <tr style=\"text-align: right;\">\n",
       "      <th></th>\n",
       "      <th>total_area</th>\n",
       "      <th>living_area</th>\n",
       "      <th>kitchen_area</th>\n",
       "      <th>kitchen_ratio</th>\n",
       "      <th>living_ratio</th>\n",
       "      <th>square_meter_price</th>\n",
       "      <th>last_price</th>\n",
       "    </tr>\n",
       "  </thead>\n",
       "  <tbody>\n",
       "    <tr>\n",
       "      <td>0</td>\n",
       "      <td>108.000</td>\n",
       "      <td>51.000</td>\n",
       "      <td>25.000</td>\n",
       "      <td>0.231</td>\n",
       "      <td>0.472</td>\n",
       "      <td>120370.370</td>\n",
       "      <td>13000000.000</td>\n",
       "    </tr>\n",
       "    <tr>\n",
       "      <td>1</td>\n",
       "      <td>40.400</td>\n",
       "      <td>18.600</td>\n",
       "      <td>11.000</td>\n",
       "      <td>0.272</td>\n",
       "      <td>0.460</td>\n",
       "      <td>82920.792</td>\n",
       "      <td>3350000.000</td>\n",
       "    </tr>\n",
       "    <tr>\n",
       "      <td>2</td>\n",
       "      <td>56.000</td>\n",
       "      <td>34.300</td>\n",
       "      <td>8.300</td>\n",
       "      <td>0.148</td>\n",
       "      <td>0.612</td>\n",
       "      <td>92785.714</td>\n",
       "      <td>5196000.000</td>\n",
       "    </tr>\n",
       "    <tr>\n",
       "      <td>3</td>\n",
       "      <td>159.000</td>\n",
       "      <td>59.614</td>\n",
       "      <td>15.289</td>\n",
       "      <td>0.096</td>\n",
       "      <td>0.375</td>\n",
       "      <td>408176.101</td>\n",
       "      <td>64900000.000</td>\n",
       "    </tr>\n",
       "    <tr>\n",
       "      <td>4</td>\n",
       "      <td>100.000</td>\n",
       "      <td>32.000</td>\n",
       "      <td>41.000</td>\n",
       "      <td>0.410</td>\n",
       "      <td>0.320</td>\n",
       "      <td>100000.000</td>\n",
       "      <td>10000000.000</td>\n",
       "    </tr>\n",
       "    <tr>\n",
       "      <td>5</td>\n",
       "      <td>30.400</td>\n",
       "      <td>14.400</td>\n",
       "      <td>9.100</td>\n",
       "      <td>0.299</td>\n",
       "      <td>0.474</td>\n",
       "      <td>95065.789</td>\n",
       "      <td>2890000.000</td>\n",
       "    </tr>\n",
       "    <tr>\n",
       "      <td>6</td>\n",
       "      <td>37.300</td>\n",
       "      <td>10.600</td>\n",
       "      <td>14.400</td>\n",
       "      <td>0.386</td>\n",
       "      <td>0.284</td>\n",
       "      <td>99195.710</td>\n",
       "      <td>3700000.000</td>\n",
       "    </tr>\n",
       "    <tr>\n",
       "      <td>7</td>\n",
       "      <td>71.600</td>\n",
       "      <td>59.614</td>\n",
       "      <td>18.900</td>\n",
       "      <td>0.264</td>\n",
       "      <td>0.833</td>\n",
       "      <td>110544.693</td>\n",
       "      <td>7915000.000</td>\n",
       "    </tr>\n",
       "    <tr>\n",
       "      <td>8</td>\n",
       "      <td>33.160</td>\n",
       "      <td>15.430</td>\n",
       "      <td>8.810</td>\n",
       "      <td>0.266</td>\n",
       "      <td>0.465</td>\n",
       "      <td>87454.765</td>\n",
       "      <td>2900000.000</td>\n",
       "    </tr>\n",
       "    <tr>\n",
       "      <td>9</td>\n",
       "      <td>61.000</td>\n",
       "      <td>43.600</td>\n",
       "      <td>6.500</td>\n",
       "      <td>0.107</td>\n",
       "      <td>0.715</td>\n",
       "      <td>88524.590</td>\n",
       "      <td>5400000.000</td>\n",
       "    </tr>\n",
       "  </tbody>\n",
       "</table>\n",
       "</div>"
      ],
      "text/plain": [
       "   total_area  living_area  kitchen_area  kitchen_ratio  living_ratio  \\\n",
       "0     108.000       51.000        25.000          0.231         0.472   \n",
       "1      40.400       18.600        11.000          0.272         0.460   \n",
       "2      56.000       34.300         8.300          0.148         0.612   \n",
       "3     159.000       59.614        15.289          0.096         0.375   \n",
       "4     100.000       32.000        41.000          0.410         0.320   \n",
       "5      30.400       14.400         9.100          0.299         0.474   \n",
       "6      37.300       10.600        14.400          0.386         0.284   \n",
       "7      71.600       59.614        18.900          0.264         0.833   \n",
       "8      33.160       15.430         8.810          0.266         0.465   \n",
       "9      61.000       43.600         6.500          0.107         0.715   \n",
       "\n",
       "   square_meter_price   last_price  \n",
       "0          120370.370 13000000.000  \n",
       "1           82920.792  3350000.000  \n",
       "2           92785.714  5196000.000  \n",
       "3          408176.101 64900000.000  \n",
       "4          100000.000 10000000.000  \n",
       "5           95065.789  2890000.000  \n",
       "6           99195.710  3700000.000  \n",
       "7          110544.693  7915000.000  \n",
       "8           87454.765  2900000.000  \n",
       "9           88524.590  5400000.000  "
      ]
     },
     "execution_count": 7,
     "metadata": {},
     "output_type": "execute_result"
    }
   ],
   "source": [
    "df['square_meter_price'] = df['last_price'] / df['total_area']\n",
    "#добавлю в таблицу столбцы с днем,месяцем и годом обьявления\n",
    "\n",
    "df['day'] = pd.DatetimeIndex(df['first_day_exposition']).day\n",
    "df['month'] = pd.DatetimeIndex(df['first_day_exposition']).month\n",
    "df['year'] = pd.DatetimeIndex(df['first_day_exposition']).year\n",
    "#напишу функцию которая принимает в себя столбцы и возвращает какой это этаж\n",
    "\n",
    "def what_floor_is_it(row):\n",
    "    total = row['floors_total']\n",
    "    floor = row['floor']\n",
    "    \n",
    "    if floor == 1:\n",
    "        return 'первый'\n",
    "    if total == floor:\n",
    "        return 'последний'\n",
    "    else:\n",
    "        return 'другой'\n",
    "    \n",
    "df['what_floor_is_it'] = df.apply(what_floor_is_it,axis=1)\n",
    "\n",
    "#Посчитаю и добавлю в таблицу соотношение жилой и общей площади, а также отношение площади кухни к общей\n",
    "df['living_ratio'] = df['living_area'] / df['total_area']\n",
    "df['kitchen_ratio'] = df['kitchen_area'] / df['total_area']\n",
    "df[['total_area','living_area','kitchen_area','kitchen_ratio','living_ratio','square_meter_price','last_price']].head(10)\n",
    "\n"
   ]
  },
  {
   "cell_type": "markdown",
   "metadata": {},
   "source": [
    "Я создал отдельную таблицу куда добавил удобные для дальнейшего анализа столбцы с данными"
   ]
  },
  {
   "cell_type": "markdown",
   "metadata": {},
   "source": [
    "## Исследовательский анализ данных"
   ]
  },
  {
   "cell_type": "code",
   "execution_count": 8,
   "metadata": {
    "scrolled": true
   },
   "outputs": [
    {
     "data": {
      "text/plain": [
       "count   14504.000\n",
       "mean        2.771\n",
       "std         1.261\n",
       "min         1.000\n",
       "25%         2.520\n",
       "50%         2.650\n",
       "75%         2.800\n",
       "max       100.000\n",
       "Name: ceiling_height, dtype: float64"
      ]
     },
     "execution_count": 8,
     "metadata": {},
     "output_type": "execute_result"
    }
   ],
   "source": [
    "#изучим следующие параметры: площадь, цена, число комнат, высота потолков\n",
    "curiosity = df[['ceiling_height','total_area','last_price','rooms']]\n",
    "\n",
    "curiosity['ceiling_height'].describe()"
   ]
  },
  {
   "cell_type": "code",
   "execution_count": 9,
   "metadata": {},
   "outputs": [
    {
     "data": {
      "text/plain": [
       "count   23699.000\n",
       "mean       60.349\n",
       "std        35.654\n",
       "min        12.000\n",
       "25%        40.000\n",
       "50%        52.000\n",
       "75%        69.900\n",
       "max       900.000\n",
       "Name: total_area, dtype: float64"
      ]
     },
     "execution_count": 9,
     "metadata": {},
     "output_type": "execute_result"
    }
   ],
   "source": [
    "curiosity['total_area'].describe()"
   ]
  },
  {
   "cell_type": "code",
   "execution_count": 10,
   "metadata": {},
   "outputs": [
    {
     "data": {
      "text/plain": [
       "count       23699.000\n",
       "mean      6541548.772\n",
       "std      10887013.268\n",
       "min         12190.000\n",
       "25%       3400000.000\n",
       "50%       4650000.000\n",
       "75%       6800000.000\n",
       "max     763000000.000\n",
       "Name: last_price, dtype: float64"
      ]
     },
     "execution_count": 10,
     "metadata": {},
     "output_type": "execute_result"
    }
   ],
   "source": [
    "curiosity['last_price'].describe()"
   ]
  },
  {
   "cell_type": "code",
   "execution_count": 11,
   "metadata": {
    "scrolled": true
   },
   "outputs": [
    {
     "data": {
      "text/plain": [
       "count   23699.000\n",
       "mean        2.071\n",
       "std         1.078\n",
       "min         0.000\n",
       "25%         1.000\n",
       "50%         2.000\n",
       "75%         3.000\n",
       "max        19.000\n",
       "Name: rooms, dtype: float64"
      ]
     },
     "execution_count": 11,
     "metadata": {},
     "output_type": "execute_result"
    }
   ],
   "source": [
    "curiosity['rooms'].describe()"
   ]
  },
  {
   "cell_type": "code",
   "execution_count": 12,
   "metadata": {
    "scrolled": true
   },
   "outputs": [
    {
     "data": {
      "text/plain": [
       "array([[<matplotlib.axes._subplots.AxesSubplot object at 0x7fac5bfeb190>,\n",
       "        <matplotlib.axes._subplots.AxesSubplot object at 0x7fac0d084b50>],\n",
       "       [<matplotlib.axes._subplots.AxesSubplot object at 0x7fac0d626c50>,\n",
       "        <matplotlib.axes._subplots.AxesSubplot object at 0x7fac0d4e7910>]],\n",
       "      dtype=object)"
      ]
     },
     "execution_count": 12,
     "metadata": {},
     "output_type": "execute_result"
    },
    {
     "data": {
      "image/png": "[encoded data removed]",
      "text/plain": [
       "<Figure size 432x288 with 4 Axes>"
      ]
     },
     "metadata": {
      "needs_background": "light"
     },
     "output_type": "display_data"
    }
   ],
   "source": [
    "curiosity.hist(bins=10)"
   ]
  },
  {
   "cell_type": "markdown",
   "metadata": {},
   "source": [
    "В высоте потолков есть странное значение 100 метров,я думаю это явный выброс.Во всех остальных столбцах выделяется квартира 900 метров.Не совсем понятно выброс это или на самом деле есть такая большая квартира.В столбце с количеством комнат есть нулевые значения,скорее всего подразумевается что это студио."
   ]
  },
  {
   "cell_type": "code",
   "execution_count": 13,
   "metadata": {},
   "outputs": [
    {
     "data": {
      "text/plain": [
       "array([[<matplotlib.axes._subplots.AxesSubplot object at 0x7fac0df7d590>,\n",
       "        <matplotlib.axes._subplots.AxesSubplot object at 0x7fac0ded9750>],\n",
       "       [<matplotlib.axes._subplots.AxesSubplot object at 0x7fac0df08c10>,\n",
       "        <matplotlib.axes._subplots.AxesSubplot object at 0x7fac0dec8f90>]],\n",
       "      dtype=object)"
      ]
     },
     "execution_count": 13,
     "metadata": {},
     "output_type": "execute_result"
    },
    {
     "data": {
      "image/png": "[encoded data removed]",
      "text/plain": [
       "<Figure size 432x288 with 4 Axes>"
      ]
     },
     "metadata": {
      "needs_background": "light"
     },
     "output_type": "display_data"
    }
   ],
   "source": [
    "#хочу убрать эти редкие значения и посмтотреть как поменяется гистограма\n",
    "curiosity.query('ceiling_height < 100 and rooms < 19 and total_area < 900').hist(bins=10)"
   ]
  },
  {
   "cell_type": "markdown",
   "metadata": {},
   "source": [
    "Убрав явные выбросы можем наблюдать как гистограммы стали больше похожи на распределение Пуассона"
   ]
  },
  {
   "cell_type": "code",
   "execution_count": 14,
   "metadata": {},
   "outputs": [
    {
     "data": {
      "text/plain": [
       "count   23699.000\n",
       "mean      156.609\n",
       "std       213.547\n",
       "min         0.000\n",
       "25%        22.000\n",
       "50%        74.000\n",
       "75%       199.000\n",
       "max      1580.000\n",
       "Name: days_exposition, dtype: float64"
      ]
     },
     "execution_count": 14,
     "metadata": {},
     "output_type": "execute_result"
    }
   ],
   "source": [
    "#Собираюсь изучить время продажи квартир в столбце days_exposition\n",
    "df['days_exposition'].describe()"
   ]
  },
  {
   "cell_type": "code",
   "execution_count": 15,
   "metadata": {
    "scrolled": false
   },
   "outputs": [
    {
     "data": {
      "text/plain": [
       "(-10, 1600)"
      ]
     },
     "execution_count": 15,
     "metadata": {},
     "output_type": "execute_result"
    },
    {
     "data": {
      "image/png": "[encoded data removed]",
      "text/plain": [
       "<Figure size 432x288 with 1 Axes>"
      ]
     },
     "metadata": {
      "needs_background": "light"
     },
     "output_type": "display_data"
    }
   ],
   "source": [
    "df.boxplot(column='days_exposition')\n",
    "plt.ylim(-10,1600)"
   ]
  },
  {
   "cell_type": "markdown",
   "metadata": {},
   "source": [
    "Из описания и из диаграмы размаха видно что выбросов много и они сконцентрированы после значения в 500 дней."
   ]
  },
  {
   "cell_type": "code",
   "execution_count": 16,
   "metadata": {
    "scrolled": false
   },
   "outputs": [
    {
     "data": {
      "text/plain": [
       "array([[<matplotlib.axes._subplots.AxesSubplot object at 0x7fac0dcfc390>]],\n",
       "      dtype=object)"
      ]
     },
     "execution_count": 16,
     "metadata": {},
     "output_type": "execute_result"
    },
    {
     "data": {
      "image/png": "[encoded data removed]",
      "text/plain": [
       "<Figure size 432x288 with 1 Axes>"
      ]
     },
     "metadata": {
      "needs_background": "light"
     },
     "output_type": "display_data"
    }
   ],
   "source": [
    "curiosity_2 = df[['days_exposition']]\n",
    "curiosity_2.query('days_exposition < 500').hist()"
   ]
  },
  {
   "cell_type": "markdown",
   "metadata": {},
   "source": [
    "Из этой гистограммы видно что большая часть квартир продается в первые 100 дней"
   ]
  },
  {
   "cell_type": "code",
   "execution_count": 17,
   "metadata": {
    "scrolled": true
   },
   "outputs": [
    {
     "data": {
      "text/html": [
       "<div>\n",
       "<style scoped>\n",
       "    .dataframe tbody tr th:only-of-type {\n",
       "        vertical-align: middle;\n",
       "    }\n",
       "\n",
       "    .dataframe tbody tr th {\n",
       "        vertical-align: top;\n",
       "    }\n",
       "\n",
       "    .dataframe thead th {\n",
       "        text-align: right;\n",
       "    }\n",
       "</style>\n",
       "<table border=\"1\" class=\"dataframe\">\n",
       "  <thead>\n",
       "    <tr style=\"text-align: right;\">\n",
       "      <th></th>\n",
       "      <th>days_exposition</th>\n",
       "      <th>square_meter_price</th>\n",
       "    </tr>\n",
       "    <tr>\n",
       "      <th>total_area_cat</th>\n",
       "      <th></th>\n",
       "      <th></th>\n",
       "    </tr>\n",
       "  </thead>\n",
       "  <tbody>\n",
       "    <tr>\n",
       "      <td>(11.999, 40.0]</td>\n",
       "      <td>102.215</td>\n",
       "      <td>98009.486</td>\n",
       "    </tr>\n",
       "    <tr>\n",
       "      <td>(40.0, 52.0]</td>\n",
       "      <td>106.080</td>\n",
       "      <td>90802.095</td>\n",
       "    </tr>\n",
       "    <tr>\n",
       "      <td>(52.0, 69.9]</td>\n",
       "      <td>108.155</td>\n",
       "      <td>91020.880</td>\n",
       "    </tr>\n",
       "    <tr>\n",
       "      <td>(69.9, 900.0]</td>\n",
       "      <td>118.748</td>\n",
       "      <td>116828.642</td>\n",
       "    </tr>\n",
       "  </tbody>\n",
       "</table>\n",
       "</div>"
      ],
      "text/plain": [
       "                days_exposition  square_meter_price\n",
       "total_area_cat                                     \n",
       "(11.999, 40.0]          102.215           98009.486\n",
       "(40.0, 52.0]            106.080           90802.095\n",
       "(52.0, 69.9]            108.155           91020.880\n",
       "(69.9, 900.0]           118.748          116828.642"
      ]
     },
     "execution_count": 17,
     "metadata": {},
     "output_type": "execute_result"
    }
   ],
   "source": [
    "#хочу посмотреть как быстро продаются квартиры в зависимости от их квадратуры,для этого я воспользуюсь столбцом в котором\n",
    "#уже категоризировал квартиры при этом убрав выбросы\n",
    "curiosity_3 = df.query('days_exposition < 500')\n",
    "\n",
    "curiosity_3.groupby('total_area_cat')['days_exposition','square_meter_price'].agg('mean')"
   ]
  },
  {
   "cell_type": "code",
   "execution_count": 18,
   "metadata": {},
   "outputs": [
    {
     "data": {
      "text/plain": [
       "<matplotlib.axes._subplots.AxesSubplot at 0x7fac0dc76450>"
      ]
     },
     "execution_count": 18,
     "metadata": {},
     "output_type": "execute_result"
    },
    {
     "data": {
      "image/png": "[encoded data removed]",
      "text/plain": [
       "<Figure size 432x288 with 1 Axes>"
      ]
     },
     "metadata": {
      "needs_background": "light"
     },
     "output_type": "display_data"
    }
   ],
   "source": [
    "curiosity_3.pivot_table(\n",
    "    index='total_area_cat',values='days_exposition',aggfunc='mean').plot()"
   ]
  },
  {
   "cell_type": "markdown",
   "metadata": {},
   "source": [
    "Данная сводная таблица и гистограма подтверждают что в независимости от цены за квадратный метр и площади квартиры,среднее время продажи составляет чуть больше 100 дней.Но так же видно,что чем больше цена и площадь квартиры,тем больше времени потребуется для их продажи.Средние значения не сильно отличаются ,но все же видно как с увеличением стоимости и площади они растут"
   ]
  },
  {
   "cell_type": "code",
   "execution_count": 19,
   "metadata": {},
   "outputs": [
    {
     "data": {
      "text/plain": [
       "<matplotlib.axes._subplots.AxesSubplot at 0x7fac0db93d10>"
      ]
     },
     "execution_count": 19,
     "metadata": {},
     "output_type": "execute_result"
    },
    {
     "data": {
      "image/png": "[encoded data removed]",
      "text/plain": [
       "<Figure size 432x288 with 1 Axes>"
      ]
     },
     "metadata": {
      "needs_background": "light"
     },
     "output_type": "display_data"
    }
   ],
   "source": [
    "#теперь собираюсь посмотреть как меняется общая стоимость квартиры от общей площади\n",
    "df.boxplot(column='total_area')"
   ]
  },
  {
   "cell_type": "code",
   "execution_count": 20,
   "metadata": {
    "scrolled": true
   },
   "outputs": [
    {
     "data": {
      "text/plain": [
       "<matplotlib.axes._subplots.AxesSubplot at 0x7fac0dc60b90>"
      ]
     },
     "execution_count": 20,
     "metadata": {},
     "output_type": "execute_result"
    },
    {
     "data": {
      "image/png": "[encoded data removed]",
      "text/plain": [
       "<Figure size 432x288 with 1 Axes>"
      ]
     },
     "metadata": {
      "needs_background": "light"
     },
     "output_type": "display_data"
    }
   ],
   "source": [
    "#мне кажется что квартиры пощадью свыге 160м это уже выбросы\n",
    "df.query('total_area < 160').pivot_table(\n",
    "    index='total_area',values='last_price',aggfunc='mean').plot(style='o')"
   ]
  },
  {
   "cell_type": "code",
   "execution_count": 21,
   "metadata": {
    "scrolled": true
   },
   "outputs": [
    {
     "data": {
      "text/html": [
       "<div>\n",
       "<style scoped>\n",
       "    .dataframe tbody tr th:only-of-type {\n",
       "        vertical-align: middle;\n",
       "    }\n",
       "\n",
       "    .dataframe tbody tr th {\n",
       "        vertical-align: top;\n",
       "    }\n",
       "\n",
       "    .dataframe thead tr th {\n",
       "        text-align: left;\n",
       "    }\n",
       "\n",
       "    .dataframe thead tr:last-of-type th {\n",
       "        text-align: right;\n",
       "    }\n",
       "</style>\n",
       "<table border=\"1\" class=\"dataframe\">\n",
       "  <thead>\n",
       "    <tr>\n",
       "      <th></th>\n",
       "      <th>mean</th>\n",
       "      <th>median</th>\n",
       "    </tr>\n",
       "    <tr>\n",
       "      <th></th>\n",
       "      <th>last_price</th>\n",
       "      <th>last_price</th>\n",
       "    </tr>\n",
       "    <tr>\n",
       "      <th>total_area_cat</th>\n",
       "      <th></th>\n",
       "      <th></th>\n",
       "    </tr>\n",
       "  </thead>\n",
       "  <tbody>\n",
       "    <tr>\n",
       "      <td>(11.999, 40.0]</td>\n",
       "      <td>3318414.666</td>\n",
       "      <td>3300000.000</td>\n",
       "    </tr>\n",
       "    <tr>\n",
       "      <td>(40.0, 52.0]</td>\n",
       "      <td>4149565.183</td>\n",
       "      <td>4100000.000</td>\n",
       "    </tr>\n",
       "    <tr>\n",
       "      <td>(52.0, 69.9]</td>\n",
       "      <td>5485342.623</td>\n",
       "      <td>5300000.000</td>\n",
       "    </tr>\n",
       "    <tr>\n",
       "      <td>(69.9, 900.0]</td>\n",
       "      <td>13258026.330</td>\n",
       "      <td>9200000.000</td>\n",
       "    </tr>\n",
       "  </tbody>\n",
       "</table>\n",
       "</div>"
      ],
      "text/plain": [
       "                       mean      median\n",
       "                 last_price  last_price\n",
       "total_area_cat                         \n",
       "(11.999, 40.0]  3318414.666 3300000.000\n",
       "(40.0, 52.0]    4149565.183 4100000.000\n",
       "(52.0, 69.9]    5485342.623 5300000.000\n",
       "(69.9, 900.0]  13258026.330 9200000.000"
      ]
     },
     "execution_count": 21,
     "metadata": {},
     "output_type": "execute_result"
    }
   ],
   "source": [
    "df.pivot_table(\n",
    "    index='total_area_cat',values='last_price',aggfunc=['mean','median'])"
   ]
  },
  {
   "cell_type": "markdown",
   "metadata": {},
   "source": [
    "Из графика со срезом и из категоризированной таблицы без срезов,мы можем видеть что стоимость квартиры зависит от общей площади"
   ]
  },
  {
   "cell_type": "code",
   "execution_count": 22,
   "metadata": {
    "scrolled": false
   },
   "outputs": [
    {
     "data": {
      "text/plain": [
       "<matplotlib.axes._subplots.AxesSubplot at 0x7fac0dae6cd0>"
      ]
     },
     "execution_count": 22,
     "metadata": {},
     "output_type": "execute_result"
    },
    {
     "data": {
      "image/png": "[encoded data removed]",
      "text/plain": [
       "<Figure size 432x288 with 1 Axes>"
      ]
     },
     "metadata": {
      "needs_background": "light"
     },
     "output_type": "display_data"
    }
   ],
   "source": [
    "#сейчас хочу осмотреть влияет ли число комнат на общую стоимсоть квартиры\n",
    "df.boxplot(column='rooms')"
   ]
  },
  {
   "cell_type": "code",
   "execution_count": 23,
   "metadata": {},
   "outputs": [
    {
     "data": {
      "text/html": [
       "<div>\n",
       "<style scoped>\n",
       "    .dataframe tbody tr th:only-of-type {\n",
       "        vertical-align: middle;\n",
       "    }\n",
       "\n",
       "    .dataframe tbody tr th {\n",
       "        vertical-align: top;\n",
       "    }\n",
       "\n",
       "    .dataframe thead th {\n",
       "        text-align: right;\n",
       "    }\n",
       "</style>\n",
       "<table border=\"1\" class=\"dataframe\">\n",
       "  <thead>\n",
       "    <tr style=\"text-align: right;\">\n",
       "      <th></th>\n",
       "      <th>last_price</th>\n",
       "    </tr>\n",
       "    <tr>\n",
       "      <th>rooms</th>\n",
       "      <th></th>\n",
       "    </tr>\n",
       "  </thead>\n",
       "  <tbody>\n",
       "    <tr>\n",
       "      <td>0</td>\n",
       "      <td>3337724.112</td>\n",
       "    </tr>\n",
       "    <tr>\n",
       "      <td>1</td>\n",
       "      <td>3835361.523</td>\n",
       "    </tr>\n",
       "    <tr>\n",
       "      <td>2</td>\n",
       "      <td>5591604.784</td>\n",
       "    </tr>\n",
       "    <tr>\n",
       "      <td>3</td>\n",
       "      <td>8179118.539</td>\n",
       "    </tr>\n",
       "    <tr>\n",
       "      <td>4</td>\n",
       "      <td>13423497.185</td>\n",
       "    </tr>\n",
       "    <tr>\n",
       "      <td>5</td>\n",
       "      <td>23762082.092</td>\n",
       "    </tr>\n",
       "    <tr>\n",
       "      <td>6</td>\n",
       "      <td>31709751.657</td>\n",
       "    </tr>\n",
       "  </tbody>\n",
       "</table>\n",
       "</div>"
      ],
      "text/plain": [
       "        last_price\n",
       "rooms             \n",
       "0      3337724.112\n",
       "1      3835361.523\n",
       "2      5591604.784\n",
       "3      8179118.539\n",
       "4     13423497.185\n",
       "5     23762082.092\n",
       "6     31709751.657"
      ]
     },
     "execution_count": 23,
     "metadata": {},
     "output_type": "execute_result"
    }
   ],
   "source": [
    "#из графика видно что свыше 6 комнат это уже выбросы\n",
    "df.query('rooms <= 6').pivot_table(index='rooms',values='last_price')"
   ]
  },
  {
   "cell_type": "code",
   "execution_count": 24,
   "metadata": {
    "scrolled": false
   },
   "outputs": [
    {
     "data": {
      "text/plain": [
       "<matplotlib.axes._subplots.AxesSubplot at 0x7fac0e6e0c90>"
      ]
     },
     "execution_count": 24,
     "metadata": {},
     "output_type": "execute_result"
    },
    {
     "data": {
      "image/png": "[encoded data removed]",
      "text/plain": [
       "<Figure size 432x288 with 1 Axes>"
      ]
     },
     "metadata": {
      "needs_background": "light"
     },
     "output_type": "display_data"
    }
   ],
   "source": [
    "df.query('rooms <= 6').pivot_table(index='rooms',values='last_price').plot()"
   ]
  },
  {
   "cell_type": "markdown",
   "metadata": {},
   "source": [
    "Количество комнат влияет на стоимость квартиры"
   ]
  },
  {
   "cell_type": "code",
   "execution_count": 25,
   "metadata": {},
   "outputs": [
    {
     "data": {
      "text/html": [
       "<div>\n",
       "<style scoped>\n",
       "    .dataframe tbody tr th:only-of-type {\n",
       "        vertical-align: middle;\n",
       "    }\n",
       "\n",
       "    .dataframe tbody tr th {\n",
       "        vertical-align: top;\n",
       "    }\n",
       "\n",
       "    .dataframe thead th {\n",
       "        text-align: right;\n",
       "    }\n",
       "</style>\n",
       "<table border=\"1\" class=\"dataframe\">\n",
       "  <thead>\n",
       "    <tr style=\"text-align: right;\">\n",
       "      <th></th>\n",
       "      <th></th>\n",
       "      <th>last_price</th>\n",
       "    </tr>\n",
       "    <tr>\n",
       "      <th>what_floor_is_it</th>\n",
       "      <th>total_area_cat</th>\n",
       "      <th></th>\n",
       "    </tr>\n",
       "  </thead>\n",
       "  <tbody>\n",
       "    <tr>\n",
       "      <td rowspan=\"4\" valign=\"top\">другой</td>\n",
       "      <td>(11.999, 40.0]</td>\n",
       "      <td>3458425.410</td>\n",
       "    </tr>\n",
       "    <tr>\n",
       "      <td>(40.0, 52.0]</td>\n",
       "      <td>4385524.971</td>\n",
       "    </tr>\n",
       "    <tr>\n",
       "      <td>(52.0, 69.9]</td>\n",
       "      <td>5754318.052</td>\n",
       "    </tr>\n",
       "    <tr>\n",
       "      <td>(69.9, 900.0]</td>\n",
       "      <td>13087775.618</td>\n",
       "    </tr>\n",
       "    <tr>\n",
       "      <td rowspan=\"4\" valign=\"top\">первый</td>\n",
       "      <td>(11.999, 40.0]</td>\n",
       "      <td>2774252.322</td>\n",
       "    </tr>\n",
       "    <tr>\n",
       "      <td>(40.0, 52.0]</td>\n",
       "      <td>3486253.246</td>\n",
       "    </tr>\n",
       "    <tr>\n",
       "      <td>(52.0, 69.9]</td>\n",
       "      <td>4604523.527</td>\n",
       "    </tr>\n",
       "    <tr>\n",
       "      <td>(69.9, 900.0]</td>\n",
       "      <td>9261990.794</td>\n",
       "    </tr>\n",
       "    <tr>\n",
       "      <td rowspan=\"4\" valign=\"top\">последний</td>\n",
       "      <td>(11.999, 40.0]</td>\n",
       "      <td>2962608.320</td>\n",
       "    </tr>\n",
       "    <tr>\n",
       "      <td>(40.0, 52.0]</td>\n",
       "      <td>3644665.259</td>\n",
       "    </tr>\n",
       "    <tr>\n",
       "      <td>(52.0, 69.9]</td>\n",
       "      <td>4944927.115</td>\n",
       "    </tr>\n",
       "    <tr>\n",
       "      <td>(69.9, 900.0]</td>\n",
       "      <td>16725605.413</td>\n",
       "    </tr>\n",
       "  </tbody>\n",
       "</table>\n",
       "</div>"
      ],
      "text/plain": [
       "                                  last_price\n",
       "what_floor_is_it total_area_cat             \n",
       "другой           (11.999, 40.0]  3458425.410\n",
       "                 (40.0, 52.0]    4385524.971\n",
       "                 (52.0, 69.9]    5754318.052\n",
       "                 (69.9, 900.0]  13087775.618\n",
       "первый           (11.999, 40.0]  2774252.322\n",
       "                 (40.0, 52.0]    3486253.246\n",
       "                 (52.0, 69.9]    4604523.527\n",
       "                 (69.9, 900.0]   9261990.794\n",
       "последний        (11.999, 40.0]  2962608.320\n",
       "                 (40.0, 52.0]    3644665.259\n",
       "                 (52.0, 69.9]    4944927.115\n",
       "                 (69.9, 900.0]  16725605.413"
      ]
     },
     "execution_count": 25,
     "metadata": {},
     "output_type": "execute_result"
    }
   ],
   "source": [
    "#сейчас хочу посмотреть влияет ли на цену то,на каком этаже расположена квартира (первый,последний)\n",
    "df.pivot_table(index=['what_floor_is_it','total_area_cat'],values='last_price')"
   ]
  },
  {
   "cell_type": "code",
   "execution_count": 26,
   "metadata": {
    "scrolled": true
   },
   "outputs": [
    {
     "data": {
      "text/plain": [
       "<matplotlib.axes._subplots.AxesSubplot at 0x7fac0d9e3210>"
      ]
     },
     "execution_count": 26,
     "metadata": {},
     "output_type": "execute_result"
    },
    {
     "data": {
      "image/png": "[encoded data removed]",
      "text/plain": [
       "<Figure size 432x288 with 1 Axes>"
      ]
     },
     "metadata": {
      "needs_background": "light"
     },
     "output_type": "display_data"
    }
   ],
   "source": [
    "df.pivot_table(index='what_floor_is_it',values='last_price').plot()"
   ]
  },
  {
   "cell_type": "markdown",
   "metadata": {},
   "source": [
    "Из таблицы и графиков видно,что квартиры на первом этаже стоят дешевле"
   ]
  },
  {
   "cell_type": "code",
   "execution_count": 27,
   "metadata": {
    "scrolled": false
   },
   "outputs": [
    {
     "data": {
      "text/plain": [
       "<matplotlib.axes._subplots.AxesSubplot at 0x7fac0dd76790>"
      ]
     },
     "execution_count": 27,
     "metadata": {},
     "output_type": "execute_result"
    },
    {
     "data": {
      "image/png": "[encoded data removed]",
      "text/plain": [
       "<Figure size 432x288 with 1 Axes>"
      ]
     },
     "metadata": {
      "needs_background": "light"
     },
     "output_type": "display_data"
    }
   ],
   "source": [
    "#теперь собираюсь проверить как удаленность от центра влияет на финальную стоимость квартиры\n",
    "df.boxplot(column='cityCenters_nearest')"
   ]
  },
  {
   "cell_type": "code",
   "execution_count": 28,
   "metadata": {},
   "outputs": [
    {
     "data": {
      "text/plain": [
       "0.000     5605\n",
       "12.000    1517\n",
       "14.000    1512\n",
       "11.000    1415\n",
       "13.000    1402\n",
       "Name: to_centr, dtype: int64"
      ]
     },
     "execution_count": 28,
     "metadata": {},
     "output_type": "execute_result"
    }
   ],
   "source": [
    "#заменю пустые ячейки значением 0 и переведу в километры весь столбец\n",
    "df['cityCenters_nearest'] = df['cityCenters_nearest'].fillna(0)\n",
    "def to_center(row):\n",
    "    return row // 1000\n",
    "\n",
    "df['to_centr'] = df['cityCenters_nearest'].apply(to_center)\n",
    "df['to_centr'].value_counts().head()"
   ]
  },
  {
   "cell_type": "code",
   "execution_count": 29,
   "metadata": {
    "scrolled": false
   },
   "outputs": [
    {
     "data": {
      "text/plain": [
       "<matplotlib.axes._subplots.AxesSubplot at 0x7fac0d9b1290>"
      ]
     },
     "execution_count": 29,
     "metadata": {},
     "output_type": "execute_result"
    },
    {
     "data": {
      "image/png": "[encoded data removed]",
      "text/plain": [
       "<Figure size 432x288 with 1 Axes>"
      ]
     },
     "metadata": {
      "needs_background": "light"
     },
     "output_type": "display_data"
    }
   ],
   "source": [
    "#построю таблицу убрав значение 0\n",
    "df.query('to_centr != 0').pivot_table(\n",
    "    index='to_centr',values='last_price').plot()"
   ]
  },
  {
   "cell_type": "markdown",
   "metadata": {},
   "source": [
    "По графику видно,что чем ближе расстояние до центра тем дороже стоит квартира.Есть странные значения на удаленности 42 км и в районе 55 км.Могу предположить что причиной таких цен в этих точках являются \"дорогие\" районы."
   ]
  },
  {
   "cell_type": "code",
   "execution_count": 30,
   "metadata": {},
   "outputs": [
    {
     "data": {
      "text/plain": [
       "<matplotlib.axes._subplots.AxesSubplot at 0x7fac0d8a2490>"
      ]
     },
     "execution_count": 30,
     "metadata": {},
     "output_type": "execute_result"
    },
    {
     "data": {
      "image/png": "[encoded data removed]",
      "text/plain": [
       "<Figure size 432x288 with 1 Axes>"
      ]
     },
     "metadata": {
      "needs_background": "light"
     },
     "output_type": "display_data"
    }
   ],
   "source": [
    "#сейчас собираюсь посмотреть зависимость от даты размещения\n",
    "df.pivot_table(index='day',values='last_price').plot()"
   ]
  },
  {
   "cell_type": "code",
   "execution_count": 31,
   "metadata": {
    "scrolled": true
   },
   "outputs": [
    {
     "data": {
      "text/plain": [
       "<matplotlib.axes._subplots.AxesSubplot at 0x7fac0d935990>"
      ]
     },
     "execution_count": 31,
     "metadata": {},
     "output_type": "execute_result"
    },
    {
     "data": {
      "image/png": "[encoded data removed]",
      "text/plain": [
       "<Figure size 432x288 with 1 Axes>"
      ]
     },
     "metadata": {
      "needs_background": "light"
     },
     "output_type": "display_data"
    }
   ],
   "source": [
    "df.pivot_table(index='month',values='last_price').plot()"
   ]
  },
  {
   "cell_type": "code",
   "execution_count": 32,
   "metadata": {
    "scrolled": false
   },
   "outputs": [
    {
     "data": {
      "text/plain": [
       "<matplotlib.axes._subplots.AxesSubplot at 0x7fac0d906e10>"
      ]
     },
     "execution_count": 32,
     "metadata": {},
     "output_type": "execute_result"
    },
    {
     "data": {
      "image/png": "[encoded data removed]",
      "text/plain": [
       "<Figure size 432x288 with 1 Axes>"
      ]
     },
     "metadata": {
      "needs_background": "light"
     },
     "output_type": "display_data"
    }
   ],
   "source": [
    "df.pivot_table(index='year',values='last_price').plot()"
   ]
  },
  {
   "cell_type": "markdown",
   "metadata": {},
   "source": [
    "Исходя из наших таблиц,самые дорогие квартиры в последних числах меяца,что же касается времени года,то обьявления размещенные в период с октября по декабрь самые дорогие.На третем графике можно увидеть что начиная с 2014 года квартиры все вермя дешевели."
   ]
  },
  {
   "cell_type": "code",
   "execution_count": 33,
   "metadata": {
    "scrolled": true
   },
   "outputs": [
    {
     "data": {
      "text/plain": [
       "Санкт-Петербург      15721\n",
       "посёлок Мурино         522\n",
       "посёлок Шушары         440\n",
       "Всеволожск             398\n",
       "Пушкин                 369\n",
       "Колпино                338\n",
       "посёлок Парголово      327\n",
       "Гатчина                307\n",
       "деревня Кудрово        299\n",
       "Выборг                 237\n",
       "Name: locality_name, dtype: int64"
      ]
     },
     "execution_count": 33,
     "metadata": {},
     "output_type": "execute_result"
    }
   ],
   "source": [
    "#собираюсь посмотреть топ 10 населенных пунктов  с наибольшим числом объявлений\n",
    "df['locality_name'].value_counts().head(10)"
   ]
  },
  {
   "cell_type": "code",
   "execution_count": 34,
   "metadata": {},
   "outputs": [
    {
     "data": {
      "text/html": [
       "<div>\n",
       "<style scoped>\n",
       "    .dataframe tbody tr th:only-of-type {\n",
       "        vertical-align: middle;\n",
       "    }\n",
       "\n",
       "    .dataframe tbody tr th {\n",
       "        vertical-align: top;\n",
       "    }\n",
       "\n",
       "    .dataframe thead th {\n",
       "        text-align: right;\n",
       "    }\n",
       "</style>\n",
       "<table border=\"1\" class=\"dataframe\">\n",
       "  <thead>\n",
       "    <tr style=\"text-align: right;\">\n",
       "      <th></th>\n",
       "      <th>last_price</th>\n",
       "      <th>square_meter_price</th>\n",
       "    </tr>\n",
       "    <tr>\n",
       "      <th>locality_name</th>\n",
       "      <th></th>\n",
       "      <th></th>\n",
       "    </tr>\n",
       "  </thead>\n",
       "  <tbody>\n",
       "    <tr>\n",
       "      <td>Санкт-Петербург</td>\n",
       "      <td>8062507.069</td>\n",
       "      <td>114849.009</td>\n",
       "    </tr>\n",
       "    <tr>\n",
       "      <td>Пушкин</td>\n",
       "      <td>6469035.946</td>\n",
       "      <td>103125.819</td>\n",
       "    </tr>\n",
       "    <tr>\n",
       "      <td>посёлок Парголово</td>\n",
       "      <td>4488074.798</td>\n",
       "      <td>90175.913</td>\n",
       "    </tr>\n",
       "    <tr>\n",
       "      <td>деревня Кудрово</td>\n",
       "      <td>4234157.926</td>\n",
       "      <td>92473.548</td>\n",
       "    </tr>\n",
       "    <tr>\n",
       "      <td>посёлок Шушары</td>\n",
       "      <td>4108081.816</td>\n",
       "      <td>78677.364</td>\n",
       "    </tr>\n",
       "    <tr>\n",
       "      <td>Колпино</td>\n",
       "      <td>3964021.438</td>\n",
       "      <td>75424.579</td>\n",
       "    </tr>\n",
       "    <tr>\n",
       "      <td>Всеволожск</td>\n",
       "      <td>3789067.751</td>\n",
       "      <td>68654.474</td>\n",
       "    </tr>\n",
       "    <tr>\n",
       "      <td>посёлок Мурино</td>\n",
       "      <td>3672049.195</td>\n",
       "      <td>85752.189</td>\n",
       "    </tr>\n",
       "    <tr>\n",
       "      <td>Гатчина</td>\n",
       "      <td>3488336.678</td>\n",
       "      <td>68746.147</td>\n",
       "    </tr>\n",
       "    <tr>\n",
       "      <td>Выборг</td>\n",
       "      <td>3250983.122</td>\n",
       "      <td>58141.909</td>\n",
       "    </tr>\n",
       "  </tbody>\n",
       "</table>\n",
       "</div>"
      ],
      "text/plain": [
       "                   last_price  square_meter_price\n",
       "locality_name                                    \n",
       "Санкт-Петербург   8062507.069          114849.009\n",
       "Пушкин            6469035.946          103125.819\n",
       "посёлок Парголово 4488074.798           90175.913\n",
       "деревня Кудрово   4234157.926           92473.548\n",
       "посёлок Шушары    4108081.816           78677.364\n",
       "Колпино           3964021.438           75424.579\n",
       "Всеволожск        3789067.751           68654.474\n",
       "посёлок Мурино    3672049.195           85752.189\n",
       "Гатчина           3488336.678           68746.147\n",
       "Выборг            3250983.122           58141.909"
      ]
     },
     "execution_count": 34,
     "metadata": {},
     "output_type": "execute_result"
    }
   ],
   "source": [
    "#собираюсь посмтреть в каком из этих пунктов самая высокая и самая низкая стоимость жилья\n",
    "cities = ['Санкт-Петербург',\n",
    "          'посёлок Мурино'\n",
    "          ,'посёлок Шушары',\n",
    "          'Всеволожск',\n",
    "          'Всеволожск',\n",
    "          'Пушкин',\n",
    "          'Колпино',\n",
    "          'посёлок Парголово',\n",
    "          'Гатчина',\n",
    "          'деревня Кудрово',\n",
    "          'Выборг'\n",
    "         ]\n",
    "df.query('locality_name == @cities').pivot_table(\n",
    "    index='locality_name',values=['last_price','square_meter_price'],aggfunc = 'mean').sort_values(\n",
    "    by='last_price',ascending=False)"
   ]
  },
  {
   "cell_type": "code",
   "execution_count": 35,
   "metadata": {},
   "outputs": [
    {
     "data": {
      "text/plain": [
       "array([<matplotlib.axes._subplots.AxesSubplot object at 0x7fac0d86eb10>],\n",
       "      dtype=object)"
      ]
     },
     "execution_count": 35,
     "metadata": {},
     "output_type": "execute_result"
    },
    {
     "data": {
      "image/png": "[encoded data removed]",
      "text/plain": [
       "<Figure size 720x720 with 1 Axes>"
      ]
     },
     "metadata": {},
     "output_type": "display_data"
    }
   ],
   "source": [
    "df.query('locality_name == @cities').pivot_table(\n",
    "    index='locality_name',values='last_price',aggfunc = ('mean')).plot(kind='pie',subplots=True,figsize=(10,10))"
   ]
  },
  {
   "cell_type": "markdown",
   "metadata": {},
   "source": [
    "Больше всего обьявлений как и самые дорогие квартиры ожидаемо в Санкт-Петербурге.В Выборге меньше обьявлений и стоимость жилья так же самая дешевая."
   ]
  },
  {
   "cell_type": "code",
   "execution_count": 36,
   "metadata": {
    "scrolled": true
   },
   "outputs": [
    {
     "data": {
      "text/plain": [
       "<matplotlib.axes._subplots.AxesSubplot at 0x7fac0d73a710>"
      ]
     },
     "execution_count": 36,
     "metadata": {},
     "output_type": "execute_result"
    },
    {
     "data": {
      "image/png": "[encoded data removed]",
      "text/plain": [
       "<Figure size 432x288 with 1 Axes>"
      ]
     },
     "metadata": {
      "needs_background": "light"
     },
     "output_type": "display_data"
    }
   ],
   "source": [
    "#собираюсь внимательнее изучить квартиры в центре Санкт-Петербурга\n",
    "df.query('to_centr != 0 and locality_name == \"Санкт-Петербург\"').pivot_table(\n",
    "    index='to_centr',values='last_price').plot()"
   ]
  },
  {
   "cell_type": "code",
   "execution_count": 37,
   "metadata": {},
   "outputs": [
    {
     "data": {
      "text/html": [
       "<div>\n",
       "<style scoped>\n",
       "    .dataframe tbody tr th:only-of-type {\n",
       "        vertical-align: middle;\n",
       "    }\n",
       "\n",
       "    .dataframe tbody tr th {\n",
       "        vertical-align: top;\n",
       "    }\n",
       "\n",
       "    .dataframe thead th {\n",
       "        text-align: right;\n",
       "    }\n",
       "</style>\n",
       "<table border=\"1\" class=\"dataframe\">\n",
       "  <thead>\n",
       "    <tr style=\"text-align: right;\">\n",
       "      <th></th>\n",
       "      <th>last_price</th>\n",
       "      <th>square_meter_price</th>\n",
       "    </tr>\n",
       "    <tr>\n",
       "      <th>to_centr</th>\n",
       "      <th></th>\n",
       "      <th></th>\n",
       "    </tr>\n",
       "  </thead>\n",
       "  <tbody>\n",
       "    <tr>\n",
       "      <td>1.000</td>\n",
       "      <td>18850851.663</td>\n",
       "      <td>166603.756</td>\n",
       "    </tr>\n",
       "    <tr>\n",
       "      <td>2.000</td>\n",
       "      <td>16163313.616</td>\n",
       "      <td>146662.860</td>\n",
       "    </tr>\n",
       "    <tr>\n",
       "      <td>3.000</td>\n",
       "      <td>13436830.553</td>\n",
       "      <td>129416.345</td>\n",
       "    </tr>\n",
       "    <tr>\n",
       "      <td>4.000</td>\n",
       "      <td>13632024.645</td>\n",
       "      <td>137475.497</td>\n",
       "    </tr>\n",
       "    <tr>\n",
       "      <td>5.000</td>\n",
       "      <td>15306121.120</td>\n",
       "      <td>146979.233</td>\n",
       "    </tr>\n",
       "    <tr>\n",
       "      <td>6.000</td>\n",
       "      <td>14389106.185</td>\n",
       "      <td>152277.894</td>\n",
       "    </tr>\n",
       "    <tr>\n",
       "      <td>7.000</td>\n",
       "      <td>12797673.740</td>\n",
       "      <td>141399.731</td>\n",
       "    </tr>\n",
       "    <tr>\n",
       "      <td>8.000</td>\n",
       "      <td>8445271.997</td>\n",
       "      <td>120581.350</td>\n",
       "    </tr>\n",
       "  </tbody>\n",
       "</table>\n",
       "</div>"
      ],
      "text/plain": [
       "           last_price  square_meter_price\n",
       "to_centr                                 \n",
       "1.000    18850851.663          166603.756\n",
       "2.000    16163313.616          146662.860\n",
       "3.000    13436830.553          129416.345\n",
       "4.000    13632024.645          137475.497\n",
       "5.000    15306121.120          146979.233\n",
       "6.000    14389106.185          152277.894\n",
       "7.000    12797673.740          141399.731\n",
       "8.000     8445271.997          120581.350"
      ]
     },
     "execution_count": 37,
     "metadata": {},
     "output_type": "execute_result"
    }
   ],
   "source": [
    "#из графика видно что \"центральные\" квартиры начинаются с 1 по 9 км от центра\n",
    "df.query('to_centr != 0 and to_centr < 9 and locality_name == \"Санкт-Петербург\"').pivot_table(\n",
    "    index='to_centr',values=['last_price','square_meter_price'])"
   ]
  },
  {
   "cell_type": "code",
   "execution_count": 38,
   "metadata": {
    "scrolled": true
   },
   "outputs": [
    {
     "data": {
      "text/plain": [
       "<matplotlib.axes._subplots.AxesSubplot at 0x7fac0d6bc390>"
      ]
     },
     "execution_count": 38,
     "metadata": {},
     "output_type": "execute_result"
    },
    {
     "data": {
      "image/png": "[encoded data removed]",
      "text/plain": [
       "<Figure size 432x288 with 1 Axes>"
      ]
     },
     "metadata": {
      "needs_background": "light"
     },
     "output_type": "display_data"
    }
   ],
   "source": [
    "df.query('to_centr != 0 and to_centr < 9 and locality_name == \"Санкт-Петербург\"').pivot_table(\n",
    "    index='to_centr',values='square_meter_price').plot()"
   ]
  },
  {
   "cell_type": "markdown",
   "metadata": {},
   "source": [
    "На графике видно,странное падение цены в районе 3 км,я пока не понял с чем это связано,предполагаю что с особенностями ландшафта города.Я сначала подумал что это может быть из за разницы цен по годам но просмотрев срезы по всем годам я увидел такое же странное значение в этом районе."
   ]
  },
  {
   "cell_type": "code",
   "execution_count": 39,
   "metadata": {
    "scrolled": true
   },
   "outputs": [
    {
     "data": {
      "text/html": [
       "<div>\n",
       "<style scoped>\n",
       "    .dataframe tbody tr th:only-of-type {\n",
       "        vertical-align: middle;\n",
       "    }\n",
       "\n",
       "    .dataframe tbody tr th {\n",
       "        vertical-align: top;\n",
       "    }\n",
       "\n",
       "    .dataframe thead th {\n",
       "        text-align: right;\n",
       "    }\n",
       "</style>\n",
       "<table border=\"1\" class=\"dataframe\">\n",
       "  <thead>\n",
       "    <tr style=\"text-align: right;\">\n",
       "      <th></th>\n",
       "      <th></th>\n",
       "      <th>ceiling_height</th>\n",
       "      <th>rooms</th>\n",
       "      <th>square_meter_price</th>\n",
       "      <th>total_area</th>\n",
       "    </tr>\n",
       "    <tr>\n",
       "      <th>to_centr</th>\n",
       "      <th>locality_name</th>\n",
       "      <th></th>\n",
       "      <th></th>\n",
       "      <th></th>\n",
       "      <th></th>\n",
       "    </tr>\n",
       "  </thead>\n",
       "  <tbody>\n",
       "    <tr>\n",
       "      <td>1.000</td>\n",
       "      <td>Санкт-Петербург</td>\n",
       "      <td>3.224</td>\n",
       "      <td>3.237</td>\n",
       "      <td>166603.756</td>\n",
       "      <td>103.080</td>\n",
       "    </tr>\n",
       "    <tr>\n",
       "      <td>2.000</td>\n",
       "      <td>Санкт-Петербург</td>\n",
       "      <td>3.236</td>\n",
       "      <td>3.114</td>\n",
       "      <td>146662.860</td>\n",
       "      <td>98.856</td>\n",
       "    </tr>\n",
       "    <tr>\n",
       "      <td>3.000</td>\n",
       "      <td>Санкт-Петербург</td>\n",
       "      <td>3.300</td>\n",
       "      <td>3.019</td>\n",
       "      <td>129416.345</td>\n",
       "      <td>91.548</td>\n",
       "    </tr>\n",
       "    <tr>\n",
       "      <td>4.000</td>\n",
       "      <td>Санкт-Петербург</td>\n",
       "      <td>3.121</td>\n",
       "      <td>2.925</td>\n",
       "      <td>137475.497</td>\n",
       "      <td>96.164</td>\n",
       "    </tr>\n",
       "    <tr>\n",
       "      <td>5.000</td>\n",
       "      <td>Санкт-Петербург</td>\n",
       "      <td>3.047</td>\n",
       "      <td>2.740</td>\n",
       "      <td>146979.233</td>\n",
       "      <td>93.936</td>\n",
       "    </tr>\n",
       "    <tr>\n",
       "      <td>6.000</td>\n",
       "      <td>Санкт-Петербург</td>\n",
       "      <td>2.968</td>\n",
       "      <td>2.338</td>\n",
       "      <td>152277.894</td>\n",
       "      <td>82.903</td>\n",
       "    </tr>\n",
       "    <tr>\n",
       "      <td>7.000</td>\n",
       "      <td>Санкт-Петербург</td>\n",
       "      <td>2.810</td>\n",
       "      <td>2.423</td>\n",
       "      <td>141399.731</td>\n",
       "      <td>77.187</td>\n",
       "    </tr>\n",
       "    <tr>\n",
       "      <td>8.000</td>\n",
       "      <td>Санкт-Петербург</td>\n",
       "      <td>3.151</td>\n",
       "      <td>2.209</td>\n",
       "      <td>120581.350</td>\n",
       "      <td>67.748</td>\n",
       "    </tr>\n",
       "    <tr>\n",
       "      <td>9.000</td>\n",
       "      <td>Санкт-Петербург</td>\n",
       "      <td>2.775</td>\n",
       "      <td>2.028</td>\n",
       "      <td>110012.550</td>\n",
       "      <td>57.698</td>\n",
       "    </tr>\n",
       "  </tbody>\n",
       "</table>\n",
       "</div>"
      ],
      "text/plain": [
       "                          ceiling_height  rooms  square_meter_price  \\\n",
       "to_centr locality_name                                                \n",
       "1.000    Санкт-Петербург           3.224  3.237          166603.756   \n",
       "2.000    Санкт-Петербург           3.236  3.114          146662.860   \n",
       "3.000    Санкт-Петербург           3.300  3.019          129416.345   \n",
       "4.000    Санкт-Петербург           3.121  2.925          137475.497   \n",
       "5.000    Санкт-Петербург           3.047  2.740          146979.233   \n",
       "6.000    Санкт-Петербург           2.968  2.338          152277.894   \n",
       "7.000    Санкт-Петербург           2.810  2.423          141399.731   \n",
       "8.000    Санкт-Петербург           3.151  2.209          120581.350   \n",
       "9.000    Санкт-Петербург           2.775  2.028          110012.550   \n",
       "\n",
       "                          total_area  \n",
       "to_centr locality_name                \n",
       "1.000    Санкт-Петербург     103.080  \n",
       "2.000    Санкт-Петербург      98.856  \n",
       "3.000    Санкт-Петербург      91.548  \n",
       "4.000    Санкт-Петербург      96.164  \n",
       "5.000    Санкт-Петербург      93.936  \n",
       "6.000    Санкт-Петербург      82.903  \n",
       "7.000    Санкт-Петербург      77.187  \n",
       "8.000    Санкт-Петербург      67.748  \n",
       "9.000    Санкт-Петербург      57.698  "
      ]
     },
     "execution_count": 39,
     "metadata": {},
     "output_type": "execute_result"
    }
   ],
   "source": [
    "df.query('to_centr > 0 and to_centr < 10 and locality_name == \"Санкт-Петербург\"').pivot_table(\n",
    "    index=['to_centr','locality_name'],values=['total_area','square_meter_price',\n",
    "                                              'rooms','ceiling_height'],aggfunc='mean')"
   ]
  },
  {
   "cell_type": "code",
   "execution_count": 41,
   "metadata": {
    "scrolled": true
   },
   "outputs": [],
   "source": [
    "centr = df[['rooms','to_centr','what_floor_is_it','day','month','year','last_price','locality_name','ceiling_height']]\n",
    "centr = centr.query('to_centr > 0 and to_centr < 10 and locality_name == \"Санкт-Петербург\"')"
   ]
  },
  {
   "cell_type": "code",
   "execution_count": 42,
   "metadata": {
    "scrolled": true
   },
   "outputs": [
    {
     "data": {
      "text/html": [
       "<div>\n",
       "<style scoped>\n",
       "    .dataframe tbody tr th:only-of-type {\n",
       "        vertical-align: middle;\n",
       "    }\n",
       "\n",
       "    .dataframe tbody tr th {\n",
       "        vertical-align: top;\n",
       "    }\n",
       "\n",
       "    .dataframe thead th {\n",
       "        text-align: right;\n",
       "    }\n",
       "</style>\n",
       "<table border=\"1\" class=\"dataframe\">\n",
       "  <thead>\n",
       "    <tr style=\"text-align: right;\">\n",
       "      <th></th>\n",
       "      <th></th>\n",
       "      <th>ceiling_height</th>\n",
       "      <th>last_price</th>\n",
       "      <th>rooms</th>\n",
       "    </tr>\n",
       "    <tr>\n",
       "      <th>to_centr</th>\n",
       "      <th>what_floor_is_it</th>\n",
       "      <th></th>\n",
       "      <th></th>\n",
       "      <th></th>\n",
       "    </tr>\n",
       "  </thead>\n",
       "  <tbody>\n",
       "    <tr>\n",
       "      <td rowspan=\"3\" valign=\"top\">1.000</td>\n",
       "      <td>другой</td>\n",
       "      <td>3.285</td>\n",
       "      <td>19032050.000</td>\n",
       "      <td>3.279</td>\n",
       "    </tr>\n",
       "    <tr>\n",
       "      <td>первый</td>\n",
       "      <td>3.136</td>\n",
       "      <td>12941749.975</td>\n",
       "      <td>2.925</td>\n",
       "    </tr>\n",
       "    <tr>\n",
       "      <td>последний</td>\n",
       "      <td>3.142</td>\n",
       "      <td>22367456.667</td>\n",
       "      <td>3.350</td>\n",
       "    </tr>\n",
       "    <tr>\n",
       "      <td rowspan=\"3\" valign=\"top\">2.000</td>\n",
       "      <td>другой</td>\n",
       "      <td>3.306</td>\n",
       "      <td>16505438.191</td>\n",
       "      <td>3.197</td>\n",
       "    </tr>\n",
       "    <tr>\n",
       "      <td>первый</td>\n",
       "      <td>3.081</td>\n",
       "      <td>9113680.488</td>\n",
       "      <td>2.585</td>\n",
       "    </tr>\n",
       "    <tr>\n",
       "      <td>последний</td>\n",
       "      <td>3.149</td>\n",
       "      <td>19044282.051</td>\n",
       "      <td>3.192</td>\n",
       "    </tr>\n",
       "    <tr>\n",
       "      <td rowspan=\"3\" valign=\"top\">3.000</td>\n",
       "      <td>другой</td>\n",
       "      <td>3.405</td>\n",
       "      <td>13251536.297</td>\n",
       "      <td>3.149</td>\n",
       "    </tr>\n",
       "    <tr>\n",
       "      <td>первый</td>\n",
       "      <td>3.049</td>\n",
       "      <td>7343583.333</td>\n",
       "      <td>2.278</td>\n",
       "    </tr>\n",
       "    <tr>\n",
       "      <td>последний</td>\n",
       "      <td>3.150</td>\n",
       "      <td>17961783.072</td>\n",
       "      <td>3.099</td>\n",
       "    </tr>\n",
       "    <tr>\n",
       "      <td rowspan=\"3\" valign=\"top\">4.000</td>\n",
       "      <td>другой</td>\n",
       "      <td>3.124</td>\n",
       "      <td>13757324.358</td>\n",
       "      <td>2.875</td>\n",
       "    </tr>\n",
       "    <tr>\n",
       "      <td>первый</td>\n",
       "      <td>3.067</td>\n",
       "      <td>7896551.149</td>\n",
       "      <td>2.759</td>\n",
       "    </tr>\n",
       "    <tr>\n",
       "      <td>последний</td>\n",
       "      <td>3.138</td>\n",
       "      <td>16628631.819</td>\n",
       "      <td>3.275</td>\n",
       "    </tr>\n",
       "    <tr>\n",
       "      <td rowspan=\"3\" valign=\"top\">5.000</td>\n",
       "      <td>другой</td>\n",
       "      <td>3.013</td>\n",
       "      <td>14589198.637</td>\n",
       "      <td>2.698</td>\n",
       "    </tr>\n",
       "    <tr>\n",
       "      <td>первый</td>\n",
       "      <td>3.036</td>\n",
       "      <td>10912099.000</td>\n",
       "      <td>2.416</td>\n",
       "    </tr>\n",
       "    <tr>\n",
       "      <td>последний</td>\n",
       "      <td>3.191</td>\n",
       "      <td>21428953.238</td>\n",
       "      <td>3.139</td>\n",
       "    </tr>\n",
       "    <tr>\n",
       "      <td rowspan=\"3\" valign=\"top\">6.000</td>\n",
       "      <td>другой</td>\n",
       "      <td>2.951</td>\n",
       "      <td>15048155.807</td>\n",
       "      <td>2.330</td>\n",
       "    </tr>\n",
       "    <tr>\n",
       "      <td>первый</td>\n",
       "      <td>2.957</td>\n",
       "      <td>8610528.395</td>\n",
       "      <td>2.116</td>\n",
       "    </tr>\n",
       "    <tr>\n",
       "      <td>последний</td>\n",
       "      <td>3.040</td>\n",
       "      <td>14609017.893</td>\n",
       "      <td>2.507</td>\n",
       "    </tr>\n",
       "    <tr>\n",
       "      <td rowspan=\"3\" valign=\"top\">7.000</td>\n",
       "      <td>другой</td>\n",
       "      <td>2.803</td>\n",
       "      <td>11821362.686</td>\n",
       "      <td>2.366</td>\n",
       "    </tr>\n",
       "    <tr>\n",
       "      <td>первый</td>\n",
       "      <td>2.821</td>\n",
       "      <td>7261431.639</td>\n",
       "      <td>2.111</td>\n",
       "    </tr>\n",
       "    <tr>\n",
       "      <td>последний</td>\n",
       "      <td>2.856</td>\n",
       "      <td>23280875.265</td>\n",
       "      <td>3.020</td>\n",
       "    </tr>\n",
       "    <tr>\n",
       "      <td rowspan=\"3\" valign=\"top\">8.000</td>\n",
       "      <td>другой</td>\n",
       "      <td>2.914</td>\n",
       "      <td>8800227.482</td>\n",
       "      <td>2.217</td>\n",
       "    </tr>\n",
       "    <tr>\n",
       "      <td>первый</td>\n",
       "      <td>3.394</td>\n",
       "      <td>5819474.576</td>\n",
       "      <td>2.017</td>\n",
       "    </tr>\n",
       "    <tr>\n",
       "      <td>последний</td>\n",
       "      <td>4.488</td>\n",
       "      <td>8044669.512</td>\n",
       "      <td>2.293</td>\n",
       "    </tr>\n",
       "    <tr>\n",
       "      <td rowspan=\"3\" valign=\"top\">9.000</td>\n",
       "      <td>другой</td>\n",
       "      <td>2.785</td>\n",
       "      <td>6528893.783</td>\n",
       "      <td>1.977</td>\n",
       "    </tr>\n",
       "    <tr>\n",
       "      <td>первый</td>\n",
       "      <td>2.734</td>\n",
       "      <td>4964258.065</td>\n",
       "      <td>1.984</td>\n",
       "    </tr>\n",
       "    <tr>\n",
       "      <td>последний</td>\n",
       "      <td>2.757</td>\n",
       "      <td>6772338.224</td>\n",
       "      <td>2.299</td>\n",
       "    </tr>\n",
       "  </tbody>\n",
       "</table>\n",
       "</div>"
      ],
      "text/plain": [
       "                           ceiling_height   last_price  rooms\n",
       "to_centr what_floor_is_it                                    \n",
       "1.000    другой                     3.285 19032050.000  3.279\n",
       "         первый                     3.136 12941749.975  2.925\n",
       "         последний                  3.142 22367456.667  3.350\n",
       "2.000    другой                     3.306 16505438.191  3.197\n",
       "         первый                     3.081  9113680.488  2.585\n",
       "         последний                  3.149 19044282.051  3.192\n",
       "3.000    другой                     3.405 13251536.297  3.149\n",
       "         первый                     3.049  7343583.333  2.278\n",
       "         последний                  3.150 17961783.072  3.099\n",
       "4.000    другой                     3.124 13757324.358  2.875\n",
       "         первый                     3.067  7896551.149  2.759\n",
       "         последний                  3.138 16628631.819  3.275\n",
       "5.000    другой                     3.013 14589198.637  2.698\n",
       "         первый                     3.036 10912099.000  2.416\n",
       "         последний                  3.191 21428953.238  3.139\n",
       "6.000    другой                     2.951 15048155.807  2.330\n",
       "         первый                     2.957  8610528.395  2.116\n",
       "         последний                  3.040 14609017.893  2.507\n",
       "7.000    другой                     2.803 11821362.686  2.366\n",
       "         первый                     2.821  7261431.639  2.111\n",
       "         последний                  2.856 23280875.265  3.020\n",
       "8.000    другой                     2.914  8800227.482  2.217\n",
       "         первый                     3.394  5819474.576  2.017\n",
       "         последний                  4.488  8044669.512  2.293\n",
       "9.000    другой                     2.785  6528893.783  1.977\n",
       "         первый                     2.734  4964258.065  1.984\n",
       "         последний                  2.757  6772338.224  2.299"
      ]
     },
     "execution_count": 42,
     "metadata": {},
     "output_type": "execute_result"
    }
   ],
   "source": [
    "centr.pivot_table(index=['to_centr','what_floor_is_it'],values=['last_price','rooms','ceiling_height'])"
   ]
  },
  {
   "cell_type": "markdown",
   "metadata": {},
   "source": [
    "Я не обнаружил очевидной разницы между значениями в центре Санкт Петербурга и общими выводами"
   ]
  },
  {
   "cell_type": "markdown",
   "metadata": {},
   "source": [
    "## Общий вывод"
   ]
  },
  {
   "cell_type": "markdown",
   "metadata": {},
   "source": [
    "Я считаю что главными факторами влияющими на стоимость квартры являются:\n",
    "- Город в котором расположена квартира\n",
    "- Расстояние до центра города\n",
    "- Этаж(последний этаж стоит дороже первого)\n",
    "- Месяц продажи (месяцы с октября по декабрь самые дорогие)\n",
    "- количесвто комнат\n",
    "- площадь\n",
    "Средняя скорость продажи квартир 100 дней ,независимо от ,того какая у квартиры площадь.Продажи до 100 дней можно назвать сверх быстрыми,если же квартира не продается больше 500 дней то это сверхдолгая продажа.\n",
    "\n",
    "\n",
    "\n",
    "    "
   ]
  }
 ],
 "metadata": {
  "ExecuteTimeLog": [
   {
    "duration": 1084,
    "start_time": "2021-06-11T14:16:11.721Z"
   },
   {
    "duration": 117,
    "start_time": "2021-06-11T14:17:18.891Z"
   },
   {
    "duration": 16,
    "start_time": "2021-06-11T14:17:26.740Z"
   },
   {
    "duration": 14,
    "start_time": "2021-06-11T14:17:49.508Z"
   },
   {
    "duration": 945,
    "start_time": "2021-06-11T14:18:07.922Z"
   },
   {
    "duration": 23,
    "start_time": "2021-06-11T14:18:08.871Z"
   },
   {
    "duration": 18,
    "start_time": "2021-06-11T14:18:08.897Z"
   },
   {
    "duration": 29,
    "start_time": "2021-06-11T15:26:25.885Z"
   },
   {
    "duration": 28,
    "start_time": "2021-06-11T15:27:37.655Z"
   },
   {
    "duration": 1097,
    "start_time": "2021-06-11T15:43:17.441Z"
   },
   {
    "duration": 23,
    "start_time": "2021-06-11T15:43:18.542Z"
   },
   {
    "duration": 20,
    "start_time": "2021-06-11T15:43:18.570Z"
   },
   {
    "duration": 29,
    "start_time": "2021-06-11T15:43:18.592Z"
   },
   {
    "duration": 19,
    "start_time": "2021-06-11T15:43:18.655Z"
   },
   {
    "duration": 7652,
    "start_time": "2021-06-11T15:43:18.677Z"
   },
   {
    "duration": 1146,
    "start_time": "2021-06-11T16:01:40.441Z"
   },
   {
    "duration": 20,
    "start_time": "2021-06-11T16:01:41.590Z"
   },
   {
    "duration": 17,
    "start_time": "2021-06-11T16:01:41.613Z"
   },
   {
    "duration": 64,
    "start_time": "2021-06-11T16:01:41.633Z"
   },
   {
    "duration": 18,
    "start_time": "2021-06-11T16:01:41.700Z"
   },
   {
    "duration": 7405,
    "start_time": "2021-06-11T16:01:41.721Z"
   },
   {
    "duration": 11525,
    "start_time": "2021-06-11T16:03:48.949Z"
   },
   {
    "duration": 1507,
    "start_time": "2021-06-11T16:35:07.567Z"
   },
   {
    "duration": 15,
    "start_time": "2021-06-11T16:35:09.077Z"
   },
   {
    "duration": 14,
    "start_time": "2021-06-11T16:35:09.095Z"
   },
   {
    "duration": 60,
    "start_time": "2021-06-11T16:35:09.112Z"
   },
   {
    "duration": 18,
    "start_time": "2021-06-11T16:35:09.175Z"
   },
   {
    "duration": 7597,
    "start_time": "2021-06-11T16:35:09.195Z"
   },
   {
    "duration": 7223,
    "start_time": "2021-06-11T16:35:30.973Z"
   },
   {
    "duration": 947,
    "start_time": "2021-06-11T16:41:33.659Z"
   },
   {
    "duration": 15,
    "start_time": "2021-06-11T16:41:34.609Z"
   },
   {
    "duration": 29,
    "start_time": "2021-06-11T16:41:34.628Z"
   },
   {
    "duration": 30,
    "start_time": "2021-06-11T16:41:34.661Z"
   },
   {
    "duration": 18,
    "start_time": "2021-06-11T16:41:34.693Z"
   },
   {
    "duration": 7270,
    "start_time": "2021-06-11T16:41:34.713Z"
   },
   {
    "duration": 3723,
    "start_time": "2021-06-11T16:41:41.986Z"
   },
   {
    "duration": 3602,
    "start_time": "2021-06-11T16:44:33.079Z"
   },
   {
    "duration": 3753,
    "start_time": "2021-06-11T16:49:25.479Z"
   },
   {
    "duration": 4127,
    "start_time": "2021-06-11T16:49:53.280Z"
   },
   {
    "duration": 3587,
    "start_time": "2021-06-11T16:50:27.865Z"
   },
   {
    "duration": 96,
    "start_time": "2021-06-11T16:57:33.728Z"
   },
   {
    "duration": 16,
    "start_time": "2021-06-11T17:09:50.171Z"
   },
   {
    "duration": 16,
    "start_time": "2021-06-11T17:10:45.939Z"
   },
   {
    "duration": 12,
    "start_time": "2021-06-11T17:11:32.372Z"
   },
   {
    "duration": 12,
    "start_time": "2021-06-11T17:19:59.299Z"
   },
   {
    "duration": 7,
    "start_time": "2021-06-11T17:20:30.110Z"
   },
   {
    "duration": 11,
    "start_time": "2021-06-11T17:20:40.556Z"
   },
   {
    "duration": 789,
    "start_time": "2021-06-11T17:22:04.805Z"
   },
   {
    "duration": 301,
    "start_time": "2021-06-11T20:13:48.265Z"
   },
   {
    "duration": 921,
    "start_time": "2021-06-11T20:13:55.810Z"
   },
   {
    "duration": 15,
    "start_time": "2021-06-11T20:13:56.734Z"
   },
   {
    "duration": 32,
    "start_time": "2021-06-11T20:13:56.752Z"
   },
   {
    "duration": 31,
    "start_time": "2021-06-11T20:13:56.787Z"
   },
   {
    "duration": 19,
    "start_time": "2021-06-11T20:13:56.820Z"
   },
   {
    "duration": 7127,
    "start_time": "2021-06-11T20:13:56.841Z"
   },
   {
    "duration": 3473,
    "start_time": "2021-06-11T20:14:03.972Z"
   },
   {
    "duration": 13,
    "start_time": "2021-06-11T20:14:07.448Z"
   },
   {
    "duration": 10,
    "start_time": "2021-06-11T20:14:07.483Z"
   },
   {
    "duration": 10,
    "start_time": "2021-06-11T20:14:07.496Z"
   },
   {
    "duration": 9,
    "start_time": "2021-06-11T20:14:07.508Z"
   },
   {
    "duration": 944,
    "start_time": "2021-06-11T20:14:07.520Z"
   },
   {
    "duration": 18,
    "start_time": "2021-06-11T20:14:08.466Z"
   },
   {
    "duration": 226,
    "start_time": "2021-06-11T20:14:55.961Z"
   },
   {
    "duration": 305,
    "start_time": "2021-06-14T11:42:07.179Z"
   },
   {
    "duration": 1270,
    "start_time": "2021-06-14T11:42:12.243Z"
   },
   {
    "duration": 17,
    "start_time": "2021-06-14T11:42:13.516Z"
   },
   {
    "duration": 30,
    "start_time": "2021-06-14T11:42:13.537Z"
   },
   {
    "duration": 34,
    "start_time": "2021-06-14T11:42:13.571Z"
   },
   {
    "duration": 50,
    "start_time": "2021-06-14T11:42:13.607Z"
   },
   {
    "duration": 12383,
    "start_time": "2021-06-14T11:42:13.660Z"
   },
   {
    "duration": 6048,
    "start_time": "2021-06-14T11:42:26.046Z"
   },
   {
    "duration": 16,
    "start_time": "2021-06-14T11:42:32.098Z"
   },
   {
    "duration": 39,
    "start_time": "2021-06-14T11:42:32.117Z"
   },
   {
    "duration": 12,
    "start_time": "2021-06-14T11:42:32.159Z"
   },
   {
    "duration": 11,
    "start_time": "2021-06-14T11:42:32.174Z"
   },
   {
    "duration": 1016,
    "start_time": "2021-06-14T11:42:32.188Z"
   },
   {
    "duration": 4,
    "start_time": "2021-06-14T11:42:33.207Z"
   },
   {
    "duration": 17,
    "start_time": "2021-06-14T11:42:33.213Z"
   },
   {
    "duration": 255,
    "start_time": "2021-06-14T11:42:33.232Z"
   },
   {
    "duration": 932,
    "start_time": "2021-06-14T11:42:48.328Z"
   },
   {
    "duration": 16,
    "start_time": "2021-06-14T11:42:49.262Z"
   },
   {
    "duration": 12,
    "start_time": "2021-06-14T11:42:49.281Z"
   },
   {
    "duration": 66,
    "start_time": "2021-06-14T11:42:49.296Z"
   },
   {
    "duration": 15,
    "start_time": "2021-06-14T11:42:49.364Z"
   },
   {
    "duration": 7645,
    "start_time": "2021-06-14T11:42:49.382Z"
   },
   {
    "duration": 3916,
    "start_time": "2021-06-14T11:42:57.030Z"
   },
   {
    "duration": 15,
    "start_time": "2021-06-14T11:43:00.958Z"
   },
   {
    "duration": 16,
    "start_time": "2021-06-14T11:43:00.976Z"
   },
   {
    "duration": 22,
    "start_time": "2021-06-14T11:43:00.995Z"
   },
   {
    "duration": 12,
    "start_time": "2021-06-14T11:43:01.020Z"
   },
   {
    "duration": 1211,
    "start_time": "2021-06-14T11:43:01.056Z"
   },
   {
    "duration": 4,
    "start_time": "2021-06-14T11:43:02.270Z"
   },
   {
    "duration": 22,
    "start_time": "2021-06-14T11:43:02.276Z"
   },
   {
    "duration": 248,
    "start_time": "2021-06-14T11:43:02.300Z"
   },
   {
    "duration": 1207,
    "start_time": "2021-06-14T11:46:05.248Z"
   },
   {
    "duration": 801,
    "start_time": "2021-06-14T11:47:55.746Z"
   },
   {
    "duration": 10142,
    "start_time": "2021-06-14T12:03:00.596Z"
   },
   {
    "duration": 277,
    "start_time": "2021-06-14T12:04:37.653Z"
   },
   {
    "duration": 12,
    "start_time": "2021-06-14T12:08:51.062Z"
   },
   {
    "duration": 1287,
    "start_time": "2021-06-14T12:08:59.888Z"
   },
   {
    "duration": 16,
    "start_time": "2021-06-14T12:09:01.178Z"
   },
   {
    "duration": 21,
    "start_time": "2021-06-14T12:09:01.200Z"
   },
   {
    "duration": 54,
    "start_time": "2021-06-14T12:09:01.223Z"
   },
   {
    "duration": 14,
    "start_time": "2021-06-14T12:09:01.279Z"
   },
   {
    "duration": 7501,
    "start_time": "2021-06-14T12:09:01.296Z"
   },
   {
    "duration": 3485,
    "start_time": "2021-06-14T12:09:08.800Z"
   },
   {
    "duration": 12,
    "start_time": "2021-06-14T12:09:12.289Z"
   },
   {
    "duration": 11,
    "start_time": "2021-06-14T12:09:12.303Z"
   },
   {
    "duration": 12,
    "start_time": "2021-06-14T12:09:12.316Z"
   },
   {
    "duration": 10,
    "start_time": "2021-06-14T12:09:12.330Z"
   },
   {
    "duration": 918,
    "start_time": "2021-06-14T12:09:12.342Z"
   },
   {
    "duration": 834,
    "start_time": "2021-06-14T12:09:13.262Z"
   },
   {
    "duration": 13,
    "start_time": "2021-06-14T12:09:14.098Z"
   },
   {
    "duration": 261,
    "start_time": "2021-06-14T12:09:14.113Z"
   },
   {
    "duration": 288,
    "start_time": "2021-06-14T12:09:14.378Z"
   },
   {
    "duration": 13,
    "start_time": "2021-06-14T12:09:14.669Z"
   },
   {
    "duration": 20,
    "start_time": "2021-06-14T12:11:19.886Z"
   },
   {
    "duration": 882,
    "start_time": "2021-06-14T12:11:49.801Z"
   },
   {
    "duration": 17,
    "start_time": "2021-06-14T12:11:50.686Z"
   },
   {
    "duration": 15,
    "start_time": "2021-06-14T12:11:50.707Z"
   },
   {
    "duration": 52,
    "start_time": "2021-06-14T12:11:50.726Z"
   },
   {
    "duration": 14,
    "start_time": "2021-06-14T12:11:50.780Z"
   },
   {
    "duration": 7261,
    "start_time": "2021-06-14T12:11:50.796Z"
   },
   {
    "duration": 3637,
    "start_time": "2021-06-14T12:11:58.059Z"
   },
   {
    "duration": 13,
    "start_time": "2021-06-14T12:12:01.699Z"
   },
   {
    "duration": 17,
    "start_time": "2021-06-14T12:12:01.715Z"
   },
   {
    "duration": 25,
    "start_time": "2021-06-14T12:12:01.734Z"
   },
   {
    "duration": 19,
    "start_time": "2021-06-14T12:12:01.761Z"
   },
   {
    "duration": 1144,
    "start_time": "2021-06-14T12:12:01.782Z"
   },
   {
    "duration": 1169,
    "start_time": "2021-06-14T12:12:02.929Z"
   },
   {
    "duration": 14,
    "start_time": "2021-06-14T12:12:04.101Z"
   },
   {
    "duration": 259,
    "start_time": "2021-06-14T12:12:04.118Z"
   },
   {
    "duration": 283,
    "start_time": "2021-06-14T12:12:04.380Z"
   },
   {
    "duration": 20,
    "start_time": "2021-06-14T12:12:04.666Z"
   },
   {
    "duration": 25,
    "start_time": "2021-06-14T12:13:29.191Z"
   },
   {
    "duration": 404,
    "start_time": "2021-06-14T12:22:08.373Z"
   },
   {
    "duration": 251,
    "start_time": "2021-06-14T12:22:26.863Z"
   },
   {
    "duration": 22,
    "start_time": "2021-06-14T13:59:24.016Z"
   },
   {
    "duration": 919,
    "start_time": "2021-06-14T14:00:36.404Z"
   },
   {
    "duration": 15,
    "start_time": "2021-06-14T14:00:37.325Z"
   },
   {
    "duration": 13,
    "start_time": "2021-06-14T14:00:37.355Z"
   },
   {
    "duration": 27,
    "start_time": "2021-06-14T14:00:37.371Z"
   },
   {
    "duration": 13,
    "start_time": "2021-06-14T14:00:37.401Z"
   },
   {
    "duration": 7314,
    "start_time": "2021-06-14T14:00:37.417Z"
   },
   {
    "duration": 3495,
    "start_time": "2021-06-14T14:00:44.734Z"
   },
   {
    "duration": 23,
    "start_time": "2021-06-14T14:00:48.233Z"
   },
   {
    "duration": 10,
    "start_time": "2021-06-14T14:00:48.259Z"
   },
   {
    "duration": 10,
    "start_time": "2021-06-14T14:00:48.272Z"
   },
   {
    "duration": 13,
    "start_time": "2021-06-14T14:00:48.285Z"
   },
   {
    "duration": 1329,
    "start_time": "2021-06-14T14:00:48.301Z"
   },
   {
    "duration": 1305,
    "start_time": "2021-06-14T14:00:49.634Z"
   },
   {
    "duration": 24,
    "start_time": "2021-06-14T14:00:50.943Z"
   },
   {
    "duration": 393,
    "start_time": "2021-06-14T14:00:50.970Z"
   },
   {
    "duration": 301,
    "start_time": "2021-06-14T14:00:51.366Z"
   },
   {
    "duration": 370,
    "start_time": "2021-06-14T14:00:51.670Z"
   },
   {
    "duration": -17,
    "start_time": "2021-06-14T14:00:52.060Z"
   },
   {
    "duration": -18,
    "start_time": "2021-06-14T14:00:52.062Z"
   },
   {
    "duration": 258,
    "start_time": "2021-06-14T14:02:38.006Z"
   },
   {
    "duration": 26,
    "start_time": "2021-06-14T14:02:45.774Z"
   },
   {
    "duration": 291,
    "start_time": "2021-06-14T14:03:55.540Z"
   },
   {
    "duration": 23,
    "start_time": "2021-06-14T14:04:28.470Z"
   },
   {
    "duration": 20,
    "start_time": "2021-06-14T14:04:54.829Z"
   },
   {
    "duration": 290,
    "start_time": "2021-06-14T14:05:26.070Z"
   },
   {
    "duration": 192,
    "start_time": "2021-06-14T14:07:06.213Z"
   },
   {
    "duration": 303,
    "start_time": "2021-06-14T14:08:41.862Z"
   },
   {
    "duration": 929,
    "start_time": "2021-06-14T14:08:48.784Z"
   },
   {
    "duration": 15,
    "start_time": "2021-06-14T14:08:49.716Z"
   },
   {
    "duration": 25,
    "start_time": "2021-06-14T14:08:49.734Z"
   },
   {
    "duration": 27,
    "start_time": "2021-06-14T14:08:49.762Z"
   },
   {
    "duration": 20,
    "start_time": "2021-06-14T14:08:49.793Z"
   },
   {
    "duration": 13357,
    "start_time": "2021-06-14T14:08:49.816Z"
   },
   {
    "duration": 6483,
    "start_time": "2021-06-14T14:09:03.176Z"
   },
   {
    "duration": 18,
    "start_time": "2021-06-14T14:09:09.664Z"
   },
   {
    "duration": 12,
    "start_time": "2021-06-14T14:09:09.686Z"
   },
   {
    "duration": 12,
    "start_time": "2021-06-14T14:09:09.700Z"
   },
   {
    "duration": 51,
    "start_time": "2021-06-14T14:09:09.715Z"
   },
   {
    "duration": 823,
    "start_time": "2021-06-14T14:09:09.768Z"
   },
   {
    "duration": 811,
    "start_time": "2021-06-14T14:09:10.593Z"
   },
   {
    "duration": 11,
    "start_time": "2021-06-14T14:09:11.406Z"
   },
   {
    "duration": 241,
    "start_time": "2021-06-14T14:09:11.420Z"
   },
   {
    "duration": 282,
    "start_time": "2021-06-14T14:09:11.663Z"
   },
   {
    "duration": 26,
    "start_time": "2021-06-14T14:09:11.955Z"
   },
   {
    "duration": 363,
    "start_time": "2021-06-14T14:09:11.984Z"
   },
   {
    "duration": 221,
    "start_time": "2021-06-14T14:09:12.349Z"
   },
   {
    "duration": 316,
    "start_time": "2021-06-14T14:09:12.572Z"
   },
   {
    "duration": 298,
    "start_time": "2021-06-14T14:10:03.345Z"
   },
   {
    "duration": 286,
    "start_time": "2021-06-14T14:10:39.192Z"
   },
   {
    "duration": 1024,
    "start_time": "2021-06-14T14:12:03.963Z"
   },
   {
    "duration": 17,
    "start_time": "2021-06-14T14:12:04.989Z"
   },
   {
    "duration": 13,
    "start_time": "2021-06-14T14:12:05.009Z"
   },
   {
    "duration": 57,
    "start_time": "2021-06-14T14:12:05.025Z"
   },
   {
    "duration": 16,
    "start_time": "2021-06-14T14:12:05.084Z"
   },
   {
    "duration": 7237,
    "start_time": "2021-06-14T14:12:05.103Z"
   },
   {
    "duration": 3917,
    "start_time": "2021-06-14T14:12:12.343Z"
   },
   {
    "duration": 14,
    "start_time": "2021-06-14T14:12:16.263Z"
   },
   {
    "duration": 12,
    "start_time": "2021-06-14T14:12:16.283Z"
   },
   {
    "duration": 13,
    "start_time": "2021-06-14T14:12:16.298Z"
   },
   {
    "duration": 13,
    "start_time": "2021-06-14T14:12:16.356Z"
   },
   {
    "duration": 830,
    "start_time": "2021-06-14T14:12:16.372Z"
   },
   {
    "duration": 1039,
    "start_time": "2021-06-14T14:12:17.205Z"
   },
   {
    "duration": 17,
    "start_time": "2021-06-14T14:12:18.247Z"
   },
   {
    "duration": 253,
    "start_time": "2021-06-14T14:12:18.267Z"
   },
   {
    "duration": 291,
    "start_time": "2021-06-14T14:12:18.523Z"
   },
   {
    "duration": 49,
    "start_time": "2021-06-14T14:12:18.818Z"
   },
   {
    "duration": 413,
    "start_time": "2021-06-14T14:12:18.870Z"
   },
   {
    "duration": 318,
    "start_time": "2021-06-14T14:12:19.287Z"
   },
   {
    "duration": 313,
    "start_time": "2021-06-14T14:12:19.608Z"
   },
   {
    "duration": 580,
    "start_time": "2021-06-14T14:12:53.191Z"
   },
   {
    "duration": 282,
    "start_time": "2021-06-14T14:14:42.507Z"
   },
   {
    "duration": 192,
    "start_time": "2021-06-14T14:16:14.113Z"
   },
   {
    "duration": 297,
    "start_time": "2021-06-14T14:16:17.065Z"
   },
   {
    "duration": 993,
    "start_time": "2021-06-14T14:18:13.802Z"
   },
   {
    "duration": 17,
    "start_time": "2021-06-14T14:18:14.797Z"
   },
   {
    "duration": 41,
    "start_time": "2021-06-14T14:18:14.817Z"
   },
   {
    "duration": 27,
    "start_time": "2021-06-14T14:18:14.861Z"
   },
   {
    "duration": 15,
    "start_time": "2021-06-14T14:18:14.890Z"
   },
   {
    "duration": 13083,
    "start_time": "2021-06-14T14:18:14.907Z"
   },
   {
    "duration": 3693,
    "start_time": "2021-06-14T14:18:27.993Z"
   },
   {
    "duration": 13,
    "start_time": "2021-06-14T14:18:31.688Z"
   },
   {
    "duration": 11,
    "start_time": "2021-06-14T14:18:31.705Z"
   },
   {
    "duration": 42,
    "start_time": "2021-06-14T14:18:31.720Z"
   },
   {
    "duration": 11,
    "start_time": "2021-06-14T14:18:31.765Z"
   },
   {
    "duration": 843,
    "start_time": "2021-06-14T14:18:31.778Z"
   },
   {
    "duration": 792,
    "start_time": "2021-06-14T14:18:32.624Z"
   },
   {
    "duration": 13,
    "start_time": "2021-06-14T14:18:33.419Z"
   },
   {
    "duration": 228,
    "start_time": "2021-06-14T14:18:33.455Z"
   },
   {
    "duration": 278,
    "start_time": "2021-06-14T14:18:33.685Z"
   },
   {
    "duration": 25,
    "start_time": "2021-06-14T14:18:33.967Z"
   },
   {
    "duration": 343,
    "start_time": "2021-06-14T14:18:33.995Z"
   },
   {
    "duration": 219,
    "start_time": "2021-06-14T14:18:34.342Z"
   },
   {
    "duration": 310,
    "start_time": "2021-06-14T14:18:34.564Z"
   },
   {
    "duration": 27,
    "start_time": "2021-06-14T14:20:23.696Z"
   },
   {
    "duration": 20,
    "start_time": "2021-06-14T14:21:08.546Z"
   },
   {
    "duration": 36,
    "start_time": "2021-06-14T14:23:04.840Z"
   },
   {
    "duration": 27,
    "start_time": "2021-06-14T14:26:47.387Z"
   },
   {
    "duration": 12,
    "start_time": "2021-06-14T14:29:43.499Z"
   },
   {
    "duration": 9,
    "start_time": "2021-06-14T14:30:16.851Z"
   },
   {
    "duration": 7,
    "start_time": "2021-06-14T14:30:26.139Z"
   },
   {
    "duration": 7,
    "start_time": "2021-06-14T14:31:10.923Z"
   },
   {
    "duration": 216,
    "start_time": "2021-06-14T14:35:15.204Z"
   },
   {
    "duration": 25,
    "start_time": "2021-06-14T14:37:01.684Z"
   },
   {
    "duration": 289,
    "start_time": "2021-06-14T14:37:37.013Z"
   },
   {
    "duration": 18,
    "start_time": "2021-06-14T14:42:35.726Z"
   },
   {
    "duration": 32,
    "start_time": "2021-06-14T14:45:13.764Z"
   },
   {
    "duration": 278,
    "start_time": "2021-06-14T14:47:25.127Z"
   },
   {
    "duration": 304,
    "start_time": "2021-06-14T14:47:43.071Z"
   },
   {
    "duration": 223,
    "start_time": "2021-06-14T15:00:16.737Z"
   },
   {
    "duration": 23,
    "start_time": "2021-06-14T15:05:49.443Z"
   },
   {
    "duration": 24,
    "start_time": "2021-06-14T15:06:06.281Z"
   },
   {
    "duration": 40,
    "start_time": "2021-06-14T15:06:22.091Z"
   },
   {
    "duration": 314,
    "start_time": "2021-06-14T15:10:01.131Z"
   },
   {
    "duration": 1111,
    "start_time": "2021-06-14T15:10:22.286Z"
   },
   {
    "duration": 24,
    "start_time": "2021-06-14T15:10:23.401Z"
   },
   {
    "duration": 32,
    "start_time": "2021-06-14T15:10:23.429Z"
   },
   {
    "duration": 42,
    "start_time": "2021-06-14T15:10:23.465Z"
   },
   {
    "duration": 20,
    "start_time": "2021-06-14T15:10:23.510Z"
   },
   {
    "duration": 13183,
    "start_time": "2021-06-14T15:10:23.533Z"
   },
   {
    "duration": 3572,
    "start_time": "2021-06-14T15:10:36.718Z"
   },
   {
    "duration": 12,
    "start_time": "2021-06-14T15:10:40.296Z"
   },
   {
    "duration": 12,
    "start_time": "2021-06-14T15:10:40.311Z"
   },
   {
    "duration": 39,
    "start_time": "2021-06-14T15:10:40.325Z"
   },
   {
    "duration": 9,
    "start_time": "2021-06-14T15:10:40.366Z"
   },
   {
    "duration": 859,
    "start_time": "2021-06-14T15:10:40.378Z"
   },
   {
    "duration": 818,
    "start_time": "2021-06-14T15:10:41.240Z"
   },
   {
    "duration": 10,
    "start_time": "2021-06-14T15:10:42.061Z"
   },
   {
    "duration": 230,
    "start_time": "2021-06-14T15:10:42.097Z"
   },
   {
    "duration": 287,
    "start_time": "2021-06-14T15:10:42.329Z"
   },
   {
    "duration": 38,
    "start_time": "2021-06-14T15:10:42.618Z"
   },
   {
    "duration": 259,
    "start_time": "2021-06-14T15:10:42.658Z"
   },
   {
    "duration": 243,
    "start_time": "2021-06-14T15:10:42.919Z"
   },
   {
    "duration": 339,
    "start_time": "2021-06-14T15:10:43.164Z"
   },
   {
    "duration": 53,
    "start_time": "2021-06-14T15:10:43.506Z"
   },
   {
    "duration": 237,
    "start_time": "2021-06-14T15:10:43.561Z"
   },
   {
    "duration": 24,
    "start_time": "2021-06-14T15:10:43.802Z"
   },
   {
    "duration": 298,
    "start_time": "2021-06-14T15:10:43.829Z"
   },
   {
    "duration": 40,
    "start_time": "2021-06-14T15:10:44.129Z"
   },
   {
    "duration": 318,
    "start_time": "2021-06-14T15:10:44.172Z"
   },
   {
    "duration": 225,
    "start_time": "2021-06-14T15:10:44.492Z"
   },
   {
    "duration": 38,
    "start_time": "2021-06-14T15:10:44.719Z"
   },
   {
    "duration": 318,
    "start_time": "2021-06-14T15:10:44.759Z"
   },
   {
    "duration": 282,
    "start_time": "2021-06-14T15:11:30.913Z"
   },
   {
    "duration": 435,
    "start_time": "2021-06-14T15:15:46.903Z"
   },
   {
    "duration": 463,
    "start_time": "2021-06-14T15:16:00.659Z"
   },
   {
    "duration": 18,
    "start_time": "2021-06-14T16:22:44.817Z"
   },
   {
    "duration": 299,
    "start_time": "2021-06-14T16:23:24.791Z"
   },
   {
    "duration": 290,
    "start_time": "2021-06-14T16:23:34.368Z"
   },
   {
    "duration": 294,
    "start_time": "2021-06-14T16:24:12.008Z"
   },
   {
    "duration": 287,
    "start_time": "2021-06-14T16:25:18.129Z"
   },
   {
    "duration": 3,
    "start_time": "2021-06-14T16:31:19.681Z"
   },
   {
    "duration": 10,
    "start_time": "2021-06-14T16:31:51.306Z"
   },
   {
    "duration": 44,
    "start_time": "2021-06-14T16:34:59.752Z"
   },
   {
    "duration": 41,
    "start_time": "2021-06-14T16:35:20.635Z"
   },
   {
    "duration": 412,
    "start_time": "2021-06-14T16:36:15.139Z"
   },
   {
    "duration": 421,
    "start_time": "2021-06-14T16:36:42.651Z"
   },
   {
    "duration": 752,
    "start_time": "2021-06-14T16:37:13.308Z"
   },
   {
    "duration": 91,
    "start_time": "2021-06-14T16:40:01.316Z"
   },
   {
    "duration": 405,
    "start_time": "2021-06-14T16:40:13.260Z"
   },
   {
    "duration": 452,
    "start_time": "2021-06-14T16:40:24.315Z"
   },
   {
    "duration": 426,
    "start_time": "2021-06-14T16:40:34.267Z"
   },
   {
    "duration": 419,
    "start_time": "2021-06-14T16:40:44.908Z"
   },
   {
    "duration": 76,
    "start_time": "2021-06-14T16:41:18.172Z"
   },
   {
    "duration": 27,
    "start_time": "2021-06-14T16:41:25.475Z"
   },
   {
    "duration": 270,
    "start_time": "2021-06-14T16:41:39.411Z"
   },
   {
    "duration": 275,
    "start_time": "2021-06-14T16:41:58.715Z"
   },
   {
    "duration": 252,
    "start_time": "2021-06-14T16:42:08.596Z"
   },
   {
    "duration": 1130,
    "start_time": "2021-06-14T16:43:04.908Z"
   },
   {
    "duration": 402,
    "start_time": "2021-06-14T16:43:26.277Z"
   },
   {
    "duration": 44,
    "start_time": "2021-06-14T16:45:51.763Z"
   },
   {
    "duration": 28,
    "start_time": "2021-06-14T16:46:23.333Z"
   },
   {
    "duration": 31,
    "start_time": "2021-06-14T16:47:22.014Z"
   },
   {
    "duration": 28,
    "start_time": "2021-06-14T16:47:57.357Z"
   },
   {
    "duration": 382,
    "start_time": "2021-06-15T08:16:03.032Z"
   },
   {
    "duration": 1013,
    "start_time": "2021-06-15T08:16:08.693Z"
   },
   {
    "duration": 16,
    "start_time": "2021-06-15T08:16:09.708Z"
   },
   {
    "duration": 13,
    "start_time": "2021-06-15T08:16:09.728Z"
   },
   {
    "duration": 30,
    "start_time": "2021-06-15T08:16:09.743Z"
   },
   {
    "duration": 46,
    "start_time": "2021-06-15T08:16:09.776Z"
   },
   {
    "duration": 7839,
    "start_time": "2021-06-15T08:16:09.824Z"
   },
   {
    "duration": 3880,
    "start_time": "2021-06-15T08:16:17.665Z"
   },
   {
    "duration": 14,
    "start_time": "2021-06-15T08:16:21.549Z"
   },
   {
    "duration": 12,
    "start_time": "2021-06-15T08:16:21.566Z"
   },
   {
    "duration": 39,
    "start_time": "2021-06-15T08:16:21.581Z"
   },
   {
    "duration": 16,
    "start_time": "2021-06-15T08:16:21.623Z"
   },
   {
    "duration": 917,
    "start_time": "2021-06-15T08:16:21.641Z"
   },
   {
    "duration": 921,
    "start_time": "2021-06-15T08:16:22.560Z"
   },
   {
    "duration": 11,
    "start_time": "2021-06-15T08:16:23.483Z"
   },
   {
    "duration": 273,
    "start_time": "2021-06-15T08:16:23.497Z"
   },
   {
    "duration": 302,
    "start_time": "2021-06-15T08:16:23.772Z"
   },
   {
    "duration": 37,
    "start_time": "2021-06-15T08:16:24.076Z"
   },
   {
    "duration": 297,
    "start_time": "2021-06-15T08:16:24.115Z"
   },
   {
    "duration": 232,
    "start_time": "2021-06-15T08:16:24.415Z"
   },
   {
    "duration": 330,
    "start_time": "2021-06-15T08:16:24.650Z"
   },
   {
    "duration": 50,
    "start_time": "2021-06-15T08:16:24.983Z"
   },
   {
    "duration": 249,
    "start_time": "2021-06-15T08:16:25.035Z"
   },
   {
    "duration": 44,
    "start_time": "2021-06-15T08:16:25.290Z"
   },
   {
    "duration": 309,
    "start_time": "2021-06-15T08:16:25.341Z"
   },
   {
    "duration": 30,
    "start_time": "2021-06-15T08:16:25.652Z"
   },
   {
    "duration": 342,
    "start_time": "2021-06-15T08:16:25.685Z"
   },
   {
    "duration": 249,
    "start_time": "2021-06-15T08:16:26.030Z"
   },
   {
    "duration": 37,
    "start_time": "2021-06-15T08:16:26.281Z"
   },
   {
    "duration": 320,
    "start_time": "2021-06-15T08:16:26.320Z"
   },
   {
    "duration": 321,
    "start_time": "2021-06-15T08:16:26.643Z"
   },
   {
    "duration": 330,
    "start_time": "2021-06-15T08:16:26.967Z"
   },
   {
    "duration": 317,
    "start_time": "2021-06-15T08:16:27.299Z"
   },
   {
    "duration": 11,
    "start_time": "2021-06-15T08:16:27.619Z"
   },
   {
    "duration": 32,
    "start_time": "2021-06-15T08:16:27.632Z"
   },
   {
    "duration": 441,
    "start_time": "2021-06-15T08:16:27.667Z"
   },
   {
    "duration": 310,
    "start_time": "2021-06-15T08:16:28.111Z"
   },
   {
    "duration": 429,
    "start_time": "2021-06-15T08:19:33.915Z"
   },
   {
    "duration": 330,
    "start_time": "2021-06-15T08:34:46.263Z"
   },
   {
    "duration": 28,
    "start_time": "2021-06-15T08:34:53.085Z"
   },
   {
    "duration": 357,
    "start_time": "2021-06-15T08:35:54.087Z"
   },
   {
    "duration": 308,
    "start_time": "2021-06-15T08:36:42.735Z"
   },
   {
    "duration": 550,
    "start_time": "2021-06-15T09:02:49.085Z"
   },
   {
    "duration": 449,
    "start_time": "2021-06-15T09:03:10.542Z"
   },
   {
    "duration": 317,
    "start_time": "2021-06-15T09:03:19.526Z"
   },
   {
    "duration": 569,
    "start_time": "2021-06-15T09:03:28.878Z"
   },
   {
    "duration": 320,
    "start_time": "2021-06-15T09:03:44.310Z"
   },
   {
    "duration": 34,
    "start_time": "2021-06-15T09:21:14.236Z"
   },
   {
    "duration": 986,
    "start_time": "2021-06-15T09:44:11.315Z"
   },
   {
    "duration": 900,
    "start_time": "2021-06-15T09:44:37.796Z"
   },
   {
    "duration": 352,
    "start_time": "2021-06-15T09:45:14.741Z"
   },
   {
    "duration": 34,
    "start_time": "2021-06-15T09:45:55.733Z"
   },
   {
    "duration": 399,
    "start_time": "2021-06-15T09:58:39.774Z"
   },
   {
    "duration": 16,
    "start_time": "2021-06-15T09:59:37.735Z"
   },
   {
    "duration": 462,
    "start_time": "2021-06-15T10:03:00.591Z"
   },
   {
    "duration": 703,
    "start_time": "2021-06-15T10:03:27.307Z"
   },
   {
    "duration": 1109,
    "start_time": "2021-06-15T10:03:41.612Z"
   },
   {
    "duration": 22,
    "start_time": "2021-06-15T10:03:42.724Z"
   },
   {
    "duration": 45,
    "start_time": "2021-06-15T10:03:42.749Z"
   },
   {
    "duration": 44,
    "start_time": "2021-06-15T10:03:42.797Z"
   },
   {
    "duration": 34,
    "start_time": "2021-06-15T10:03:42.843Z"
   },
   {
    "duration": 12734,
    "start_time": "2021-06-15T10:03:42.880Z"
   },
   {
    "duration": 5205,
    "start_time": "2021-06-15T10:03:55.617Z"
   },
   {
    "duration": 15,
    "start_time": "2021-06-15T10:04:00.825Z"
   },
   {
    "duration": 10,
    "start_time": "2021-06-15T10:04:00.844Z"
   },
   {
    "duration": 18,
    "start_time": "2021-06-15T10:04:00.859Z"
   },
   {
    "duration": 20,
    "start_time": "2021-06-15T10:04:00.910Z"
   },
   {
    "duration": 1440,
    "start_time": "2021-06-15T10:04:00.933Z"
   },
   {
    "duration": 1521,
    "start_time": "2021-06-15T10:04:02.376Z"
   },
   {
    "duration": 19,
    "start_time": "2021-06-15T10:04:03.900Z"
   },
   {
    "duration": 316,
    "start_time": "2021-06-15T10:04:03.922Z"
   },
   {
    "duration": 323,
    "start_time": "2021-06-15T10:04:04.240Z"
   },
   {
    "duration": 52,
    "start_time": "2021-06-15T10:04:04.566Z"
   },
   {
    "duration": 308,
    "start_time": "2021-06-15T10:04:04.621Z"
   },
   {
    "duration": 240,
    "start_time": "2021-06-15T10:04:04.931Z"
   },
   {
    "duration": 341,
    "start_time": "2021-06-15T10:04:05.173Z"
   },
   {
    "duration": 42,
    "start_time": "2021-06-15T10:04:05.518Z"
   },
   {
    "duration": 277,
    "start_time": "2021-06-15T10:04:05.562Z"
   },
   {
    "duration": 26,
    "start_time": "2021-06-15T10:04:05.842Z"
   },
   {
    "duration": 338,
    "start_time": "2021-06-15T10:04:05.871Z"
   },
   {
    "duration": 38,
    "start_time": "2021-06-15T10:04:06.214Z"
   },
   {
    "duration": 382,
    "start_time": "2021-06-15T10:04:06.254Z"
   },
   {
    "duration": 265,
    "start_time": "2021-06-15T10:04:06.643Z"
   },
   {
    "duration": 25,
    "start_time": "2021-06-15T10:04:06.911Z"
   },
   {
    "duration": 360,
    "start_time": "2021-06-15T10:04:06.939Z"
   },
   {
    "duration": 340,
    "start_time": "2021-06-15T10:04:07.309Z"
   },
   {
    "duration": 331,
    "start_time": "2021-06-15T10:04:07.651Z"
   },
   {
    "duration": 328,
    "start_time": "2021-06-15T10:04:07.985Z"
   },
   {
    "duration": 11,
    "start_time": "2021-06-15T10:04:08.316Z"
   },
   {
    "duration": 47,
    "start_time": "2021-06-15T10:04:08.330Z"
   },
   {
    "duration": 502,
    "start_time": "2021-06-15T10:04:08.380Z"
   },
   {
    "duration": 587,
    "start_time": "2021-06-15T10:04:08.885Z"
   },
   {
    "duration": 40,
    "start_time": "2021-06-15T10:04:09.474Z"
   },
   {
    "duration": 353,
    "start_time": "2021-06-15T10:04:09.517Z"
   },
   {
    "duration": 49,
    "start_time": "2021-06-15T10:04:09.872Z"
   },
   {
    "duration": 40,
    "start_time": "2021-06-15T10:04:09.924Z"
   },
   {
    "duration": 789,
    "start_time": "2021-06-15T10:04:09.967Z"
   },
   {
    "duration": 35,
    "start_time": "2021-06-15T10:04:34.646Z"
   },
   {
    "duration": 802,
    "start_time": "2021-06-15T10:12:43.682Z"
   },
   {
    "duration": 999,
    "start_time": "2021-06-15T10:12:49.691Z"
   },
   {
    "duration": 24,
    "start_time": "2021-06-15T10:12:50.693Z"
   },
   {
    "duration": 14,
    "start_time": "2021-06-15T10:12:50.720Z"
   },
   {
    "duration": 29,
    "start_time": "2021-06-15T10:12:50.737Z"
   },
   {
    "duration": 44,
    "start_time": "2021-06-15T10:12:50.768Z"
   },
   {
    "duration": 7866,
    "start_time": "2021-06-15T10:12:50.815Z"
   },
   {
    "duration": 4148,
    "start_time": "2021-06-15T10:12:58.683Z"
   },
   {
    "duration": 13,
    "start_time": "2021-06-15T10:13:02.833Z"
   },
   {
    "duration": 11,
    "start_time": "2021-06-15T10:13:02.851Z"
   },
   {
    "duration": 51,
    "start_time": "2021-06-15T10:13:02.865Z"
   },
   {
    "duration": 10,
    "start_time": "2021-06-15T10:13:02.919Z"
   },
   {
    "duration": 892,
    "start_time": "2021-06-15T10:13:02.932Z"
   },
   {
    "duration": 865,
    "start_time": "2021-06-15T10:13:03.826Z"
   },
   {
    "duration": 24,
    "start_time": "2021-06-15T10:13:04.695Z"
   },
   {
    "duration": 252,
    "start_time": "2021-06-15T10:13:04.722Z"
   },
   {
    "duration": 294,
    "start_time": "2021-06-15T10:13:04.976Z"
   },
   {
    "duration": 39,
    "start_time": "2021-06-15T10:13:05.273Z"
   },
   {
    "duration": 282,
    "start_time": "2021-06-15T10:13:05.314Z"
   },
   {
    "duration": 226,
    "start_time": "2021-06-15T10:13:05.599Z"
   },
   {
    "duration": 324,
    "start_time": "2021-06-15T10:13:05.828Z"
   },
   {
    "duration": 37,
    "start_time": "2021-06-15T10:13:06.155Z"
   },
   {
    "duration": 244,
    "start_time": "2021-06-15T10:13:06.210Z"
   },
   {
    "duration": 25,
    "start_time": "2021-06-15T10:13:06.456Z"
   },
   {
    "duration": 327,
    "start_time": "2021-06-15T10:13:06.484Z"
   },
   {
    "duration": 30,
    "start_time": "2021-06-15T10:13:06.813Z"
   },
   {
    "duration": 297,
    "start_time": "2021-06-15T10:13:06.846Z"
   },
   {
    "duration": 379,
    "start_time": "2021-06-15T10:13:07.151Z"
   },
   {
    "duration": 32,
    "start_time": "2021-06-15T10:13:07.533Z"
   },
   {
    "duration": 349,
    "start_time": "2021-06-15T10:13:07.568Z"
   },
   {
    "duration": 324,
    "start_time": "2021-06-15T10:13:07.920Z"
   },
   {
    "duration": 327,
    "start_time": "2021-06-15T10:13:08.247Z"
   },
   {
    "duration": 303,
    "start_time": "2021-06-15T10:13:08.577Z"
   },
   {
    "duration": 10,
    "start_time": "2021-06-15T10:13:08.882Z"
   },
   {
    "duration": 32,
    "start_time": "2021-06-15T10:13:08.909Z"
   },
   {
    "duration": 429,
    "start_time": "2021-06-15T10:13:08.943Z"
   },
   {
    "duration": 423,
    "start_time": "2021-06-15T10:13:09.375Z"
   },
   {
    "duration": 26,
    "start_time": "2021-06-15T10:13:09.801Z"
   },
   {
    "duration": 317,
    "start_time": "2021-06-15T10:13:09.829Z"
   },
   {
    "duration": 34,
    "start_time": "2021-06-15T10:13:10.148Z"
   },
   {
    "duration": 52,
    "start_time": "2021-06-15T10:13:10.184Z"
   },
   {
    "duration": 33,
    "start_time": "2021-06-15T10:13:10.238Z"
   },
   {
    "duration": 503,
    "start_time": "2021-06-15T10:13:10.274Z"
   },
   {
    "duration": 1376,
    "start_time": "2021-06-15T10:13:43.412Z"
   },
   {
    "duration": 17,
    "start_time": "2021-06-15T10:15:30.459Z"
   },
   {
    "duration": 1493,
    "start_time": "2021-06-15T10:15:34.189Z"
   },
   {
    "duration": 5951,
    "start_time": "2021-06-15T10:16:09.365Z"
   },
   {
    "duration": 1612,
    "start_time": "2021-06-15T10:16:38.902Z"
   },
   {
    "duration": 3854,
    "start_time": "2021-06-15T10:16:49.430Z"
   },
   {
    "duration": 2349,
    "start_time": "2021-06-15T10:18:46.330Z"
   },
   {
    "duration": 3883,
    "start_time": "2021-06-15T10:20:32.381Z"
   },
   {
    "duration": 12643,
    "start_time": "2021-06-15T10:21:25.598Z"
   },
   {
    "duration": 404,
    "start_time": "2021-06-15T10:26:47.684Z"
   },
   {
    "duration": 16,
    "start_time": "2021-06-15T10:27:14.312Z"
   },
   {
    "duration": 1025,
    "start_time": "2021-06-15T10:27:18.495Z"
   },
   {
    "duration": 3679,
    "start_time": "2021-06-15T10:27:22.944Z"
   },
   {
    "duration": 2177,
    "start_time": "2021-06-15T10:27:27.280Z"
   },
   {
    "duration": 5167,
    "start_time": "2021-06-15T10:27:31.167Z"
   },
   {
    "duration": 10544,
    "start_time": "2021-06-15T10:27:36.338Z"
   },
   {
    "duration": 43,
    "start_time": "2021-06-15T10:27:46.885Z"
   },
   {
    "duration": 707,
    "start_time": "2021-06-16T07:45:21.805Z"
   },
   {
    "duration": 11,
    "start_time": "2021-06-16T07:45:22.515Z"
   },
   {
    "duration": 10,
    "start_time": "2021-06-16T07:45:22.528Z"
   },
   {
    "duration": 51,
    "start_time": "2021-06-16T07:45:22.540Z"
   },
   {
    "duration": 10,
    "start_time": "2021-06-16T07:45:22.592Z"
   },
   {
    "duration": 3688,
    "start_time": "2021-06-16T07:45:22.604Z"
   },
   {
    "duration": 1781,
    "start_time": "2021-06-16T07:45:26.294Z"
   },
   {
    "duration": 13,
    "start_time": "2021-06-16T07:45:28.078Z"
   },
   {
    "duration": 8,
    "start_time": "2021-06-16T07:45:28.093Z"
   },
   {
    "duration": 7,
    "start_time": "2021-06-16T07:45:28.103Z"
   },
   {
    "duration": 7,
    "start_time": "2021-06-16T07:45:28.111Z"
   },
   {
    "duration": 575,
    "start_time": "2021-06-16T07:45:28.120Z"
   },
   {
    "duration": 539,
    "start_time": "2021-06-16T07:45:28.697Z"
   },
   {
    "duration": 8,
    "start_time": "2021-06-16T07:45:29.237Z"
   },
   {
    "duration": 158,
    "start_time": "2021-06-16T07:45:29.247Z"
   },
   {
    "duration": 187,
    "start_time": "2021-06-16T07:45:29.407Z"
   },
   {
    "duration": 19,
    "start_time": "2021-06-16T07:45:29.596Z"
   },
   {
    "duration": 180,
    "start_time": "2021-06-16T07:45:29.617Z"
   },
   {
    "duration": 145,
    "start_time": "2021-06-16T07:45:29.799Z"
   },
   {
    "duration": 208,
    "start_time": "2021-06-16T07:45:29.946Z"
   },
   {
    "duration": 33,
    "start_time": "2021-06-16T07:45:30.156Z"
   },
   {
    "duration": 158,
    "start_time": "2021-06-16T07:45:30.191Z"
   },
   {
    "duration": 18,
    "start_time": "2021-06-16T07:45:30.353Z"
   },
   {
    "duration": 194,
    "start_time": "2021-06-16T07:45:30.386Z"
   },
   {
    "duration": 23,
    "start_time": "2021-06-16T07:45:30.584Z"
   },
   {
    "duration": 234,
    "start_time": "2021-06-16T07:45:30.609Z"
   },
   {
    "duration": 156,
    "start_time": "2021-06-16T07:45:30.845Z"
   },
   {
    "duration": 17,
    "start_time": "2021-06-16T07:45:31.004Z"
   },
   {
    "duration": 201,
    "start_time": "2021-06-16T07:45:31.023Z"
   },
   {
    "duration": 194,
    "start_time": "2021-06-16T07:45:31.226Z"
   },
   {
    "duration": 208,
    "start_time": "2021-06-16T07:45:31.422Z"
   },
   {
    "duration": 194,
    "start_time": "2021-06-16T07:45:31.632Z"
   },
   {
    "duration": 8,
    "start_time": "2021-06-16T07:45:31.829Z"
   },
   {
    "duration": 22,
    "start_time": "2021-06-16T07:45:31.839Z"
   },
   {
    "duration": 277,
    "start_time": "2021-06-16T07:45:31.863Z"
   },
   {
    "duration": 199,
    "start_time": "2021-06-16T07:45:32.142Z"
   },
   {
    "duration": 18,
    "start_time": "2021-06-16T07:45:32.343Z"
   },
   {
    "duration": 199,
    "start_time": "2021-06-16T07:45:32.362Z"
   },
   {
    "duration": 30,
    "start_time": "2021-06-16T07:45:32.563Z"
   },
   {
    "duration": 21,
    "start_time": "2021-06-16T07:45:32.595Z"
   },
   {
    "duration": 10,
    "start_time": "2021-06-16T07:45:32.618Z"
   },
   {
    "duration": 15,
    "start_time": "2021-06-16T07:45:32.629Z"
   }
  ],
  "kernelspec": {
   "display_name": "Python 3",
   "language": "python",
   "name": "python3"
  },
  "language_info": {
   "codemirror_mode": {
    "name": "ipython",
    "version": 3
   },
   "file_extension": ".py",
   "mimetype": "text/x-python",
   "name": "python",
   "nbconvert_exporter": "python",
   "pygments_lexer": "ipython3",
   "version": "3.8.8"
  },
  "toc": {
   "base_numbering": 1,
   "nav_menu": {},
   "number_sections": true,
   "sideBar": true,
   "skip_h1_title": true,
   "title_cell": "Содержание",
   "title_sidebar": "Contents",
   "toc_cell": true,
   "toc_position": {},
   "toc_section_display": true,
   "toc_window_display": true
  }
 },
 "nbformat": 4,
 "nbformat_minor": 2
}
