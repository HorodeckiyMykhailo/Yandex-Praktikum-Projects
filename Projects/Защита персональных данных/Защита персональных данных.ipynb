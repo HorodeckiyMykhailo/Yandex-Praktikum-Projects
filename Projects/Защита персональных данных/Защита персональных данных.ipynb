{
 "cells": [
  {
   "cell_type": "markdown",
   "metadata": {},
   "source": [
    "# Защита персональных данных клиентов"
   ]
  },
  {
   "cell_type": "markdown",
   "metadata": {},
   "source": [
    "## Загрузка данных"
   ]
  },
  {
   "cell_type": "code",
   "execution_count": 1,
   "metadata": {},
   "outputs": [],
   "source": [
    "import pandas as pd\n",
    "import numpy as np\n",
    "from sklearn.linear_model import LinearRegression\n",
    "from sklearn.metrics import make_scorer\n",
    "from sklearn.model_selection import train_test_split\n",
    "from sklearn.metrics import r2_score\n",
    "from random import randint"
   ]
  },
  {
   "cell_type": "code",
   "execution_count": 2,
   "metadata": {},
   "outputs": [],
   "source": [
    "data = pd.read_csv('/datasets/insurance.csv')"
   ]
  },
  {
   "cell_type": "code",
   "execution_count": 3,
   "metadata": {
    "scrolled": true
   },
   "outputs": [
    {
     "data": {
      "text/html": [
       "<div>\n",
       "<style scoped>\n",
       "    .dataframe tbody tr th:only-of-type {\n",
       "        vertical-align: middle;\n",
       "    }\n",
       "\n",
       "    .dataframe tbody tr th {\n",
       "        vertical-align: top;\n",
       "    }\n",
       "\n",
       "    .dataframe thead th {\n",
       "        text-align: right;\n",
       "    }\n",
       "</style>\n",
       "<table border=\"1\" class=\"dataframe\">\n",
       "  <thead>\n",
       "    <tr style=\"text-align: right;\">\n",
       "      <th></th>\n",
       "      <th>Пол</th>\n",
       "      <th>Возраст</th>\n",
       "      <th>Зарплата</th>\n",
       "      <th>Члены семьи</th>\n",
       "      <th>Страховые выплаты</th>\n",
       "    </tr>\n",
       "  </thead>\n",
       "  <tbody>\n",
       "    <tr>\n",
       "      <td>0</td>\n",
       "      <td>1</td>\n",
       "      <td>41.0</td>\n",
       "      <td>49600.0</td>\n",
       "      <td>1</td>\n",
       "      <td>0</td>\n",
       "    </tr>\n",
       "    <tr>\n",
       "      <td>1</td>\n",
       "      <td>0</td>\n",
       "      <td>46.0</td>\n",
       "      <td>38000.0</td>\n",
       "      <td>1</td>\n",
       "      <td>1</td>\n",
       "    </tr>\n",
       "    <tr>\n",
       "      <td>2</td>\n",
       "      <td>0</td>\n",
       "      <td>29.0</td>\n",
       "      <td>21000.0</td>\n",
       "      <td>0</td>\n",
       "      <td>0</td>\n",
       "    </tr>\n",
       "    <tr>\n",
       "      <td>3</td>\n",
       "      <td>0</td>\n",
       "      <td>21.0</td>\n",
       "      <td>41700.0</td>\n",
       "      <td>2</td>\n",
       "      <td>0</td>\n",
       "    </tr>\n",
       "    <tr>\n",
       "      <td>4</td>\n",
       "      <td>1</td>\n",
       "      <td>28.0</td>\n",
       "      <td>26100.0</td>\n",
       "      <td>0</td>\n",
       "      <td>0</td>\n",
       "    </tr>\n",
       "  </tbody>\n",
       "</table>\n",
       "</div>"
      ],
      "text/plain": [
       "   Пол  Возраст  Зарплата  Члены семьи  Страховые выплаты\n",
       "0    1     41.0   49600.0            1                  0\n",
       "1    0     46.0   38000.0            1                  1\n",
       "2    0     29.0   21000.0            0                  0\n",
       "3    0     21.0   41700.0            2                  0\n",
       "4    1     28.0   26100.0            0                  0"
      ]
     },
     "execution_count": 3,
     "metadata": {},
     "output_type": "execute_result"
    }
   ],
   "source": [
    "data.head()"
   ]
  },
  {
   "cell_type": "code",
   "execution_count": 4,
   "metadata": {},
   "outputs": [
    {
     "name": "stdout",
     "output_type": "stream",
     "text": [
      "<class 'pandas.core.frame.DataFrame'>\n",
      "RangeIndex: 5000 entries, 0 to 4999\n",
      "Data columns (total 5 columns):\n",
      "Пол                  5000 non-null int64\n",
      "Возраст              5000 non-null float64\n",
      "Зарплата             5000 non-null float64\n",
      "Члены семьи          5000 non-null int64\n",
      "Страховые выплаты    5000 non-null int64\n",
      "dtypes: float64(2), int64(3)\n",
      "memory usage: 195.4 KB\n"
     ]
    }
   ],
   "source": [
    "data.info()"
   ]
  },
  {
   "cell_type": "code",
   "execution_count": 5,
   "metadata": {},
   "outputs": [
    {
     "data": {
      "text/plain": [
       "array([0, 1, 2, 3, 5, 4])"
      ]
     },
     "execution_count": 5,
     "metadata": {},
     "output_type": "execute_result"
    }
   ],
   "source": [
    "data['Страховые выплаты'].unique()"
   ]
  },
  {
   "cell_type": "code",
   "execution_count": 6,
   "metadata": {},
   "outputs": [
    {
     "data": {
      "text/plain": [
       "0"
      ]
     },
     "execution_count": 6,
     "metadata": {},
     "output_type": "execute_result"
    }
   ],
   "source": [
    "data.isna().sum().sum()"
   ]
  },
  {
   "cell_type": "markdown",
   "metadata": {},
   "source": [
    "Я открыл и изучил данные,в колонке 'Страховые выплаты' у нас значения от 0 до 5.Пропусков в данных я не обнаружил."
   ]
  },
  {
   "cell_type": "markdown",
   "metadata": {},
   "source": [
    "## Умножение матриц"
   ]
  },
  {
   "cell_type": "markdown",
   "metadata": {},
   "source": [
    "В этом задании вы можете записывать формулы в *Jupyter Notebook.*\n",
    "\n",
    "Чтобы записать формулу внутри текста, окружите её символами доллара \\\\$; если снаружи —  двойными символами \\\\$\\\\$. Эти формулы записываются на языке вёрстки *LaTeX.* \n",
    "\n",
    "Для примера мы записали формулы линейной регрессии. Можете их скопировать и отредактировать, чтобы решить задачу.\n",
    "\n",
    "Работать в *LaTeX* необязательно."
   ]
  },
  {
   "cell_type": "markdown",
   "metadata": {},
   "source": [
    "Обозначения:\n",
    "\n",
    "- $X$ — матрица признаков (нулевой столбец состоит из единиц)\n",
    "\n",
    "- $y$ — вектор целевого признака\n",
    "\n",
    "- $P$ — матрица, на которую умножаются признаки\n",
    "\n",
    "- $w$ — вектор весов линейной регрессии (нулевой элемент равен сдвигу)"
   ]
  },
  {
   "cell_type": "markdown",
   "metadata": {},
   "source": [
    "Предсказания:\n",
    "\n",
    "$$\n",
    "a = Xw\n",
    "$$\n",
    "\n",
    "Задача обучения:\n",
    "\n",
    "$$\n",
    "w = \\arg\\min_w MSE(Xw, y)\n",
    "$$\n",
    "\n",
    "Формула обучения:\n",
    "\n",
    "$$\n",
    "w = (X^T X)^{-1} X^T y\n",
    "$$\n",
    "\n",
    "Подставим в формулу обучения значение P:\n",
    "\n",
    "$$\n",
    "w' = ((XP)^T XP)^{-1} (XP)^T y =\n",
    "$$\n",
    "$$\n",
    "= (P^T(X^TX)P)^{-1} X^TP^T y =\n",
    "$$\n",
    "$$\n",
    "= (P^TP)^{-1} (X^TX)^{-1} X^TP^T y =\n",
    "$$\n",
    "$$\n",
    "= P^{-1} (X^TX)^{-1} (P^T)^{-1} X^TP^T y =\n",
    "$$\n",
    "$$\n",
    "= P^{-1} (X^TX)^{-1} EX^T y =\n",
    "$$\n",
    "$$\n",
    "= P^{-1} (X^TX)^{-1} X^T y =\n",
    "$$\n",
    "$$\n",
    "= P^{-1} w\n",
    "$$\n",
    "\n",
    "Теперь полученное значение подставим в формулу предсказания:\n",
    "\n",
    "$$\n",
    "a' = XPP^{-1}w = Xw = a\n",
    "$$"
   ]
  },
  {
   "cell_type": "markdown",
   "metadata": {},
   "source": [
    "**Ответ:** Если умножить признаки на обратимую матрицу качество линейной регрессии не изменится\n",
    "\n",
    "**Обоснование:** Учитывая свойства матриц я наглядно показал что умножив признаки на обратимую матрицу качество модели не изменится"
   ]
  },
  {
   "cell_type": "markdown",
   "metadata": {},
   "source": [
    "## Алгоритм преобразования"
   ]
  },
  {
   "cell_type": "markdown",
   "metadata": {},
   "source": [
    "**Алгоритм**\n",
    "\n",
    "Исходя из пункта выше я собираюсь создать две модели линейной регресии.В одной модели я не буду домножать признаки на матрицу и посмотрю на результат метрики R2.Во второй модели я разделю выборку на обучающую и валидационную и зашифрую все данные домножив их на обратимую матрицу.Квадратная матрица обратима тогда и только тогда, когда она невырождена, то есть её определитель не равен нулю.Количество строк исходной матрицы должно быть равно количеству колонок матрицы на которую я хочу ее умножить."
   ]
  },
  {
   "cell_type": "markdown",
   "metadata": {},
   "source": [
    "**Обоснование**\n",
    "\n",
    "Исходя из пункта 2 и учитывая свойства матриц мой алгоритм должен сработать"
   ]
  },
  {
   "cell_type": "markdown",
   "metadata": {},
   "source": [
    "## Проверка алгоритма"
   ]
  },
  {
   "cell_type": "code",
   "execution_count": 7,
   "metadata": {},
   "outputs": [
    {
     "name": "stdout",
     "output_type": "stream",
     "text": [
      "Показания метрики R2 для модели не домноженной на обратимую матрицу 0.4245582177863486\n"
     ]
    }
   ],
   "source": [
    "#обучу модель линейной регрессии\n",
    "features = data.drop(['Страховые выплаты'] , axis=1)\n",
    "target = data['Страховые выплаты']\n",
    "features_train, features_valid,target_train, target_valid = train_test_split(\n",
    "    features, target, test_size=0.5,random_state=12345)\n",
    "model_clean = LinearRegression().fit(features_train,target_train)\n",
    "predictions = model_clean.predict(features_valid)\n",
    "score = r2_score(target_valid, predictions)\n",
    "print('Показания метрики R2 для модели не домноженной на обратимую матрицу',score)"
   ]
  },
  {
   "cell_type": "code",
   "execution_count": 8,
   "metadata": {},
   "outputs": [
    {
     "data": {
      "text/plain": [
       "(5000, 5)"
      ]
     },
     "execution_count": 8,
     "metadata": {},
     "output_type": "execute_result"
    }
   ],
   "source": [
    "#хочу посмотреть размер исходного датасета\n",
    "data.shape"
   ]
  },
  {
   "cell_type": "code",
   "execution_count": 9,
   "metadata": {},
   "outputs": [
    {
     "data": {
      "text/plain": [
       "(5000, 5)"
      ]
     },
     "execution_count": 9,
     "metadata": {},
     "output_type": "execute_result"
    }
   ],
   "source": [
    "#хочу превратить данные в матрицу и посмотреть количество строк и колонок\n",
    "data_matrix = data.values\n",
    "data_matrix.shape\n",
    "#в данном случае у меня 5000 строк и 5 колонок,одна из них целевой признак,это значит что мне нужно создать \n",
    "#рандомную матрицу с 4 строками и 5000 колонок"
   ]
  },
  {
   "cell_type": "code",
   "execution_count": 10,
   "metadata": {},
   "outputs": [
    {
     "data": {
      "text/plain": [
       "array([[1.00e+00, 4.10e+01, 4.96e+04, 1.00e+00, 0.00e+00],\n",
       "       [0.00e+00, 4.60e+01, 3.80e+04, 1.00e+00, 1.00e+00],\n",
       "       [0.00e+00, 2.90e+01, 2.10e+04, 0.00e+00, 0.00e+00],\n",
       "       ...,\n",
       "       [0.00e+00, 2.00e+01, 3.39e+04, 2.00e+00, 0.00e+00],\n",
       "       [1.00e+00, 2.20e+01, 3.27e+04, 3.00e+00, 0.00e+00],\n",
       "       [1.00e+00, 2.80e+01, 4.06e+04, 1.00e+00, 0.00e+00]])"
      ]
     },
     "execution_count": 10,
     "metadata": {},
     "output_type": "execute_result"
    }
   ],
   "source": [
    "data_matrix "
   ]
  },
  {
   "cell_type": "code",
   "execution_count": 11,
   "metadata": {
    "scrolled": true
   },
   "outputs": [
    {
     "data": {
      "text/plain": [
       "array([[2, 2, 0, 0],\n",
       "       [4, 3, 0, 2],\n",
       "       [3, 0, 0, 4],\n",
       "       [3, 3, 4, 4]])"
      ]
     },
     "execution_count": 11,
     "metadata": {},
     "output_type": "execute_result"
    }
   ],
   "source": [
    "#создаю рандомную матрицу\n",
    "random_matrix = np.random.randint(0,5,(4,4))\n",
    "random_matrix"
   ]
  },
  {
   "cell_type": "code",
   "execution_count": 12,
   "metadata": {},
   "outputs": [
    {
     "data": {
      "text/plain": [
       "array([[ 3.   , -2.   ,  1.   ,  0.   ],\n",
       "       [-2.5  ,  2.   , -1.   , -0.   ],\n",
       "       [ 1.875, -1.5  ,  0.5  ,  0.25 ],\n",
       "       [-2.25 ,  1.5  , -0.5  , -0.   ]])"
      ]
     },
     "execution_count": 12,
     "metadata": {},
     "output_type": "execute_result"
    }
   ],
   "source": [
    "#добавлено ревьюером\n",
    "\n",
    "np.linalg.inv(random_matrix)"
   ]
  },
  {
   "cell_type": "code",
   "execution_count": 13,
   "metadata": {},
   "outputs": [
    {
     "data": {
      "text/plain": [
       "array([[0, 1, 0, 4],\n",
       "       [1, 0, 2, 1],\n",
       "       [3, 2, 2, 1],\n",
       "       [4, 2, 0, 1]])"
      ]
     },
     "execution_count": 13,
     "metadata": {},
     "output_type": "execute_result"
    }
   ],
   "source": [
    "#добавлено ревьюером\n",
    "#сгенерим квадратную матрицу\n",
    "\n",
    "square_matrix = np.random.randint(5, size=(4, 4))\n",
    "square_matrix"
   ]
  },
  {
   "cell_type": "code",
   "execution_count": 14,
   "metadata": {},
   "outputs": [
    {
     "data": {
      "text/plain": [
       "array([[-0.11111111,  0.38888889, -0.38888889,  0.44444444],\n",
       "       [ 0.11111111, -0.88888889,  0.88888889, -0.44444444],\n",
       "       [-0.05555556,  0.19444444,  0.30555556, -0.27777778],\n",
       "       [ 0.22222222,  0.22222222, -0.22222222,  0.11111111]])"
      ]
     },
     "execution_count": 14,
     "metadata": {},
     "output_type": "execute_result"
    }
   ],
   "source": [
    "#добавлено ревьюером\n",
    "#проверим матрицу 4 на 4 на обратимость\n",
    "\n",
    "np.linalg.inv(square_matrix)"
   ]
  },
  {
   "cell_type": "code",
   "execution_count": 15,
   "metadata": {},
   "outputs": [
    {
     "name": "stdout",
     "output_type": "stream",
     "text": [
      "Показания метрики R2 для модели  домноженной на обратимую матрицу 0.4245582177863092\n"
     ]
    }
   ],
   "source": [
    "#разделяю датасет на признаки и превращаю DataFrame в матрицы\n",
    "features_matrix = data.drop(['Страховые выплаты'] , axis=1).values\n",
    "target_matrix = data['Страховые выплаты'].values\n",
    "#умножаю признаки на мою рандомную матрицу\n",
    "features_matrix = features_matrix.dot(random_matrix)\n",
    "features_train_matrix, features_valid_matrix,target_train_matrix, target_valid_matrix = train_test_split(\n",
    "    features_matrix, target_matrix, test_size=0.5,random_state=12345)\n",
    "#не удержался и в названии модели оставил отсылку к любимому фильму\n",
    "model_white_rabbit = LinearRegression().fit(features_train_matrix,target_train_matrix)\n",
    "predictions_white_rabbit = model_white_rabbit.predict(features_valid_matrix)\n",
    "score_white_rabbit = r2_score(target_valid_matrix, predictions_white_rabbit)\n",
    "print('Показания метрики R2 для модели  домноженной на обратимую матрицу',score_white_rabbit)"
   ]
  },
  {
   "cell_type": "markdown",
   "metadata": {},
   "source": [
    "***Я доказал что если домножить признаки на обратимую матрицу качесвто модели не изменится.***"
   ]
  }
 ],
 "metadata": {
  "ExecuteTimeLog": [
   {
    "duration": 785,
    "start_time": "2021-09-22T18:29:35.853Z"
   },
   {
    "duration": 2,
    "start_time": "2021-09-22T18:29:46.592Z"
   },
   {
    "duration": 3,
    "start_time": "2021-09-22T18:30:01.471Z"
   },
   {
    "duration": 19,
    "start_time": "2021-09-22T18:32:51.076Z"
   },
   {
    "duration": 18,
    "start_time": "2021-09-22T18:33:01.000Z"
   },
   {
    "duration": 7,
    "start_time": "2021-09-22T18:33:21.327Z"
   },
   {
    "duration": 471,
    "start_time": "2021-09-27T19:09:24.358Z"
   },
   {
    "duration": 1299,
    "start_time": "2021-09-27T19:09:31.079Z"
   },
   {
    "duration": 84,
    "start_time": "2021-09-27T19:09:32.380Z"
   },
   {
    "duration": 22,
    "start_time": "2021-09-27T19:09:32.466Z"
   },
   {
    "duration": 16,
    "start_time": "2021-09-27T19:09:32.490Z"
   },
   {
    "duration": 7,
    "start_time": "2021-09-27T19:09:32.509Z"
   },
   {
    "duration": 15,
    "start_time": "2021-09-27T19:09:32.519Z"
   },
   {
    "duration": 547,
    "start_time": "2021-09-27T19:19:49.584Z"
   },
   {
    "duration": 1403,
    "start_time": "2021-09-27T19:20:11.834Z"
   },
   {
    "duration": 20,
    "start_time": "2021-09-27T19:20:13.240Z"
   },
   {
    "duration": 21,
    "start_time": "2021-09-27T19:20:13.263Z"
   },
   {
    "duration": 8,
    "start_time": "2021-09-27T19:20:13.287Z"
   },
   {
    "duration": 13,
    "start_time": "2021-09-27T19:20:13.298Z"
   },
   {
    "duration": 143,
    "start_time": "2021-09-27T19:20:13.313Z"
   },
   {
    "duration": 7,
    "start_time": "2021-09-27T19:24:36.176Z"
   },
   {
    "duration": 5,
    "start_time": "2021-09-27T19:25:38.977Z"
   },
   {
    "duration": 569,
    "start_time": "2021-09-27T19:26:43.954Z"
   },
   {
    "duration": 134,
    "start_time": "2021-09-27T19:29:13.347Z"
   },
   {
    "duration": 376,
    "start_time": "2021-09-27T19:29:22.298Z"
   },
   {
    "duration": 7,
    "start_time": "2021-09-27T19:29:39.282Z"
   },
   {
    "duration": 8,
    "start_time": "2021-09-27T19:38:58.692Z"
   },
   {
    "duration": 6,
    "start_time": "2021-09-27T19:39:30.450Z"
   },
   {
    "duration": 6,
    "start_time": "2021-09-27T19:39:45.728Z"
   },
   {
    "duration": 23,
    "start_time": "2021-09-27T19:42:38.852Z"
   },
   {
    "duration": 22,
    "start_time": "2021-09-27T19:45:09.964Z"
   },
   {
    "duration": 10,
    "start_time": "2021-09-27T19:45:39.789Z"
   },
   {
    "duration": 6,
    "start_time": "2021-09-27T19:45:47.255Z"
   },
   {
    "duration": 361,
    "start_time": "2021-09-27T19:46:33.756Z"
   },
   {
    "duration": 7,
    "start_time": "2021-09-27T19:46:41.309Z"
   },
   {
    "duration": 12,
    "start_time": "2021-09-27T20:01:32.375Z"
   },
   {
    "duration": 23,
    "start_time": "2021-09-27T20:01:43.566Z"
   },
   {
    "duration": 10,
    "start_time": "2021-09-27T20:02:07.062Z"
   },
   {
    "duration": 160,
    "start_time": "2021-09-27T20:03:38.298Z"
   },
   {
    "duration": 12,
    "start_time": "2021-09-27T20:03:45.319Z"
   },
   {
    "duration": 7,
    "start_time": "2021-09-27T20:03:53.502Z"
   },
   {
    "duration": 12,
    "start_time": "2021-09-27T20:06:46.006Z"
   },
   {
    "duration": 12,
    "start_time": "2021-09-27T20:07:03.056Z"
   },
   {
    "duration": 16,
    "start_time": "2021-09-27T20:07:37.584Z"
   },
   {
    "duration": 12,
    "start_time": "2021-09-27T20:07:40.952Z"
   },
   {
    "duration": 1577,
    "start_time": "2021-09-27T20:07:49.961Z"
   },
   {
    "duration": 21,
    "start_time": "2021-09-27T20:07:51.540Z"
   },
   {
    "duration": 1450,
    "start_time": "2021-09-27T20:07:51.564Z"
   },
   {
    "duration": 300,
    "start_time": "2021-09-27T20:07:53.017Z"
   },
   {
    "duration": 330,
    "start_time": "2021-09-27T20:07:53.320Z"
   },
   {
    "duration": 703,
    "start_time": "2021-09-27T20:07:53.653Z"
   },
   {
    "duration": 541,
    "start_time": "2021-09-27T20:07:54.360Z"
   },
   {
    "duration": 454,
    "start_time": "2021-09-27T20:07:54.906Z"
   },
   {
    "duration": 7,
    "start_time": "2021-09-27T20:07:55.363Z"
   },
   {
    "duration": 85,
    "start_time": "2021-09-27T20:07:55.373Z"
   },
   {
    "duration": 9,
    "start_time": "2021-09-27T20:16:10.395Z"
   },
   {
    "duration": 16,
    "start_time": "2021-09-27T20:23:15.341Z"
   },
   {
    "duration": 6,
    "start_time": "2021-09-27T20:24:31.006Z"
   },
   {
    "duration": 1286,
    "start_time": "2021-09-27T20:24:49.870Z"
   },
   {
    "duration": 23,
    "start_time": "2021-09-27T20:24:51.159Z"
   },
   {
    "duration": 22,
    "start_time": "2021-09-27T20:24:51.191Z"
   },
   {
    "duration": 12,
    "start_time": "2021-09-27T20:24:51.217Z"
   },
   {
    "duration": 7,
    "start_time": "2021-09-27T20:24:51.257Z"
   },
   {
    "duration": 11,
    "start_time": "2021-09-27T20:24:51.267Z"
   },
   {
    "duration": 175,
    "start_time": "2021-09-27T20:24:51.281Z"
   },
   {
    "duration": 6,
    "start_time": "2021-09-27T20:24:51.460Z"
   },
   {
    "duration": 16,
    "start_time": "2021-09-27T20:24:51.469Z"
   },
   {
    "duration": 11,
    "start_time": "2021-09-27T20:24:51.488Z"
   },
   {
    "duration": 11,
    "start_time": "2021-09-27T20:24:51.501Z"
   },
   {
    "duration": 56,
    "start_time": "2021-09-27T20:24:51.514Z"
   },
   {
    "duration": 1736,
    "start_time": "2021-09-27T20:25:17.995Z"
   },
   {
    "duration": 25,
    "start_time": "2021-09-27T20:25:19.733Z"
   },
   {
    "duration": 21,
    "start_time": "2021-09-27T20:25:19.761Z"
   },
   {
    "duration": 11,
    "start_time": "2021-09-27T20:25:19.786Z"
   },
   {
    "duration": 11,
    "start_time": "2021-09-27T20:25:19.800Z"
   },
   {
    "duration": 25,
    "start_time": "2021-09-27T20:25:19.813Z"
   },
   {
    "duration": 99,
    "start_time": "2021-09-27T20:25:19.857Z"
   },
   {
    "duration": 98,
    "start_time": "2021-09-27T20:25:19.961Z"
   },
   {
    "duration": 20,
    "start_time": "2021-09-27T20:25:20.061Z"
   },
   {
    "duration": 11,
    "start_time": "2021-09-27T20:25:20.083Z"
   },
   {
    "duration": 7,
    "start_time": "2021-09-27T20:25:20.097Z"
   },
   {
    "duration": 61,
    "start_time": "2021-09-27T20:25:20.106Z"
   },
   {
    "duration": 1360,
    "start_time": "2021-09-27T20:25:37.574Z"
   },
   {
    "duration": 22,
    "start_time": "2021-09-27T20:25:38.936Z"
   },
   {
    "duration": 37,
    "start_time": "2021-09-27T20:25:38.962Z"
   },
   {
    "duration": 9,
    "start_time": "2021-09-27T20:25:39.001Z"
   },
   {
    "duration": 6,
    "start_time": "2021-09-27T20:25:39.012Z"
   },
   {
    "duration": 9,
    "start_time": "2021-09-27T20:25:39.020Z"
   },
   {
    "duration": 41,
    "start_time": "2021-09-27T20:25:39.031Z"
   },
   {
    "duration": 95,
    "start_time": "2021-09-27T20:25:39.162Z"
   },
   {
    "duration": 8,
    "start_time": "2021-09-27T20:25:39.260Z"
   },
   {
    "duration": 19,
    "start_time": "2021-09-27T20:25:39.270Z"
   },
   {
    "duration": 7,
    "start_time": "2021-09-27T20:25:39.291Z"
   },
   {
    "duration": 57,
    "start_time": "2021-09-27T20:25:39.300Z"
   },
   {
    "duration": 1372,
    "start_time": "2021-09-27T20:26:06.347Z"
   },
   {
    "duration": 23,
    "start_time": "2021-09-27T20:26:07.721Z"
   },
   {
    "duration": 26,
    "start_time": "2021-09-27T20:26:07.748Z"
   },
   {
    "duration": 18,
    "start_time": "2021-09-27T20:26:07.777Z"
   },
   {
    "duration": 6,
    "start_time": "2021-09-27T20:26:07.797Z"
   },
   {
    "duration": 10,
    "start_time": "2021-09-27T20:26:07.805Z"
   },
   {
    "duration": 52,
    "start_time": "2021-09-27T20:26:07.818Z"
   },
   {
    "duration": 8,
    "start_time": "2021-09-27T20:26:07.958Z"
   },
   {
    "duration": 9,
    "start_time": "2021-09-27T20:26:08.058Z"
   },
   {
    "duration": 20,
    "start_time": "2021-09-27T20:26:08.069Z"
   },
   {
    "duration": 8,
    "start_time": "2021-09-27T20:26:08.091Z"
   },
   {
    "duration": 56,
    "start_time": "2021-09-27T20:26:08.101Z"
   },
   {
    "duration": 1417,
    "start_time": "2021-09-27T20:26:21.024Z"
   },
   {
    "duration": 20,
    "start_time": "2021-09-27T20:26:22.444Z"
   },
   {
    "duration": 21,
    "start_time": "2021-09-27T20:26:22.468Z"
   },
   {
    "duration": 12,
    "start_time": "2021-09-27T20:26:22.492Z"
   },
   {
    "duration": 7,
    "start_time": "2021-09-27T20:26:22.507Z"
   },
   {
    "duration": 40,
    "start_time": "2021-09-27T20:26:22.516Z"
   },
   {
    "duration": 97,
    "start_time": "2021-09-27T20:26:22.559Z"
   },
   {
    "duration": 96,
    "start_time": "2021-09-27T20:26:22.661Z"
   },
   {
    "duration": 10,
    "start_time": "2021-09-27T20:26:22.760Z"
   },
   {
    "duration": 11,
    "start_time": "2021-09-27T20:26:22.773Z"
   },
   {
    "duration": 7,
    "start_time": "2021-09-27T20:26:22.787Z"
   },
   {
    "duration": 62,
    "start_time": "2021-09-27T20:26:22.796Z"
   },
   {
    "duration": 16,
    "start_time": "2021-09-27T20:31:54.252Z"
   },
   {
    "duration": 1375,
    "start_time": "2021-09-28T17:32:16.353Z"
   },
   {
    "duration": 22,
    "start_time": "2021-09-28T17:32:17.731Z"
   },
   {
    "duration": 25,
    "start_time": "2021-09-28T17:32:17.756Z"
   },
   {
    "duration": 35,
    "start_time": "2021-09-28T17:32:17.785Z"
   },
   {
    "duration": 8,
    "start_time": "2021-09-28T17:32:17.822Z"
   },
   {
    "duration": 7,
    "start_time": "2021-09-28T17:32:17.836Z"
   },
   {
    "duration": 78,
    "start_time": "2021-09-28T17:32:17.846Z"
   },
   {
    "duration": 92,
    "start_time": "2021-09-28T17:32:17.927Z"
   },
   {
    "duration": 10,
    "start_time": "2021-09-28T17:32:18.021Z"
   },
   {
    "duration": 15,
    "start_time": "2021-09-28T17:32:18.033Z"
   },
   {
    "duration": 652,
    "start_time": "2021-09-28T17:32:18.050Z"
   },
   {
    "duration": 7,
    "start_time": "2021-09-28T17:32:33.408Z"
   },
   {
    "duration": 389,
    "start_time": "2021-09-28T17:32:39.521Z"
   },
   {
    "duration": 1312,
    "start_time": "2021-09-28T17:32:50.865Z"
   },
   {
    "duration": 21,
    "start_time": "2021-09-28T17:32:52.180Z"
   },
   {
    "duration": 27,
    "start_time": "2021-09-28T17:32:52.204Z"
   },
   {
    "duration": 9,
    "start_time": "2021-09-28T17:32:52.234Z"
   },
   {
    "duration": 6,
    "start_time": "2021-09-28T17:32:52.245Z"
   },
   {
    "duration": 8,
    "start_time": "2021-09-28T17:32:52.253Z"
   },
   {
    "duration": 73,
    "start_time": "2021-09-28T17:32:52.264Z"
   },
   {
    "duration": 5,
    "start_time": "2021-09-28T17:32:52.426Z"
   },
   {
    "duration": 8,
    "start_time": "2021-09-28T17:32:52.434Z"
   },
   {
    "duration": 16,
    "start_time": "2021-09-28T17:32:52.444Z"
   },
   {
    "duration": 535,
    "start_time": "2021-09-28T17:32:52.463Z"
   },
   {
    "duration": 6,
    "start_time": "2021-09-28T17:33:12.927Z"
   },
   {
    "duration": 470,
    "start_time": "2021-09-28T17:33:15.239Z"
   },
   {
    "duration": 7,
    "start_time": "2021-09-28T17:33:51.838Z"
   },
   {
    "duration": 487,
    "start_time": "2021-09-28T17:33:53.414Z"
   },
   {
    "duration": 7,
    "start_time": "2021-09-28T17:34:04.286Z"
   },
   {
    "duration": 14,
    "start_time": "2021-09-28T17:34:05.831Z"
   },
   {
    "duration": 1425,
    "start_time": "2021-09-28T17:34:13.309Z"
   },
   {
    "duration": 22,
    "start_time": "2021-09-28T17:34:14.737Z"
   },
   {
    "duration": 22,
    "start_time": "2021-09-28T17:34:14.762Z"
   },
   {
    "duration": 19,
    "start_time": "2021-09-28T17:34:14.786Z"
   },
   {
    "duration": 9,
    "start_time": "2021-09-28T17:34:14.808Z"
   },
   {
    "duration": 19,
    "start_time": "2021-09-28T17:34:14.819Z"
   },
   {
    "duration": 81,
    "start_time": "2021-09-28T17:34:14.840Z"
   },
   {
    "duration": 94,
    "start_time": "2021-09-28T17:34:14.925Z"
   },
   {
    "duration": 12,
    "start_time": "2021-09-28T17:34:15.022Z"
   },
   {
    "duration": 8,
    "start_time": "2021-09-28T17:34:15.037Z"
   },
   {
    "duration": 71,
    "start_time": "2021-09-28T17:34:15.047Z"
   },
   {
    "duration": 8,
    "start_time": "2021-09-28T17:35:16.521Z"
   },
   {
    "duration": 7,
    "start_time": "2021-09-28T17:36:59.561Z"
   },
   {
    "duration": 615,
    "start_time": "2021-09-28T17:37:12.122Z"
   },
   {
    "duration": 1380,
    "start_time": "2021-09-28T17:38:53.468Z"
   },
   {
    "duration": 21,
    "start_time": "2021-09-28T17:38:54.851Z"
   },
   {
    "duration": 21,
    "start_time": "2021-09-28T17:38:54.876Z"
   },
   {
    "duration": 20,
    "start_time": "2021-09-28T17:38:54.900Z"
   },
   {
    "duration": 9,
    "start_time": "2021-09-28T17:38:54.925Z"
   },
   {
    "duration": 12,
    "start_time": "2021-09-28T17:38:54.936Z"
   },
   {
    "duration": 80,
    "start_time": "2021-09-28T17:38:54.950Z"
   },
   {
    "duration": 8,
    "start_time": "2021-09-28T17:38:55.117Z"
   },
   {
    "duration": 7,
    "start_time": "2021-09-28T17:38:55.128Z"
   },
   {
    "duration": 6,
    "start_time": "2021-09-28T17:38:55.137Z"
   },
   {
    "duration": 8,
    "start_time": "2021-09-28T17:38:55.146Z"
   },
   {
    "duration": 580,
    "start_time": "2021-09-28T17:38:55.157Z"
   },
   {
    "duration": 7,
    "start_time": "2021-09-28T17:39:08.437Z"
   },
   {
    "duration": 63,
    "start_time": "2021-09-28T17:39:09.966Z"
   },
   {
    "duration": 1509,
    "start_time": "2021-09-28T17:39:18.788Z"
   },
   {
    "duration": 28,
    "start_time": "2021-09-28T17:39:20.300Z"
   },
   {
    "duration": 24,
    "start_time": "2021-09-28T17:39:20.330Z"
   },
   {
    "duration": 14,
    "start_time": "2021-09-28T17:39:20.356Z"
   },
   {
    "duration": 6,
    "start_time": "2021-09-28T17:39:20.373Z"
   },
   {
    "duration": 44,
    "start_time": "2021-09-28T17:39:20.382Z"
   },
   {
    "duration": 90,
    "start_time": "2021-09-28T17:39:20.430Z"
   },
   {
    "duration": 7,
    "start_time": "2021-09-28T17:39:20.529Z"
   },
   {
    "duration": 89,
    "start_time": "2021-09-28T17:39:20.541Z"
   },
   {
    "duration": 6,
    "start_time": "2021-09-28T17:39:20.633Z"
   },
   {
    "duration": 13,
    "start_time": "2021-09-28T17:39:20.642Z"
   },
   {
    "duration": 68,
    "start_time": "2021-09-28T17:39:20.657Z"
   },
   {
    "duration": 6,
    "start_time": "2021-09-28T17:40:58.289Z"
   },
   {
    "duration": 551,
    "start_time": "2021-09-28T17:45:20.082Z"
   },
   {
    "duration": 1404,
    "start_time": "2021-09-28T17:50:37.639Z"
   },
   {
    "duration": 22,
    "start_time": "2021-09-28T17:50:39.046Z"
   },
   {
    "duration": 24,
    "start_time": "2021-09-28T17:50:39.075Z"
   },
   {
    "duration": 25,
    "start_time": "2021-09-28T17:50:39.102Z"
   },
   {
    "duration": 15,
    "start_time": "2021-09-28T17:50:39.130Z"
   },
   {
    "duration": 7,
    "start_time": "2021-09-28T17:50:39.152Z"
   },
   {
    "duration": 73,
    "start_time": "2021-09-28T17:50:39.162Z"
   },
   {
    "duration": 15,
    "start_time": "2021-09-28T17:50:39.320Z"
   },
   {
    "duration": 6,
    "start_time": "2021-09-28T17:50:39.340Z"
   },
   {
    "duration": 7,
    "start_time": "2021-09-28T17:50:39.348Z"
   },
   {
    "duration": 8,
    "start_time": "2021-09-28T17:50:39.358Z"
   },
   {
    "duration": 117774,
    "start_time": "2021-09-28T17:50:39.369Z"
   },
   {
    "duration": 1414,
    "start_time": "2021-09-28T17:52:58.208Z"
   },
   {
    "duration": 22,
    "start_time": "2021-09-28T17:52:59.629Z"
   },
   {
    "duration": 22,
    "start_time": "2021-09-28T17:52:59.654Z"
   },
   {
    "duration": 9,
    "start_time": "2021-09-28T17:52:59.679Z"
   },
   {
    "duration": 31,
    "start_time": "2021-09-28T17:52:59.691Z"
   },
   {
    "duration": 8,
    "start_time": "2021-09-28T17:52:59.724Z"
   },
   {
    "duration": 94,
    "start_time": "2021-09-28T17:52:59.735Z"
   },
   {
    "duration": 90,
    "start_time": "2021-09-28T17:52:59.839Z"
   },
   {
    "duration": 7,
    "start_time": "2021-09-28T17:52:59.932Z"
   },
   {
    "duration": 8,
    "start_time": "2021-09-28T17:52:59.941Z"
   },
   {
    "duration": 11,
    "start_time": "2021-09-28T17:52:59.951Z"
   },
   {
    "duration": 110277,
    "start_time": "2021-09-28T17:52:59.964Z"
   },
   {
    "duration": 1356,
    "start_time": "2021-09-28T18:06:17.773Z"
   },
   {
    "duration": 22,
    "start_time": "2021-09-28T18:06:19.132Z"
   },
   {
    "duration": 23,
    "start_time": "2021-09-28T18:06:19.157Z"
   },
   {
    "duration": 9,
    "start_time": "2021-09-28T18:06:19.182Z"
   },
   {
    "duration": 32,
    "start_time": "2021-09-28T18:06:19.193Z"
   },
   {
    "duration": 7,
    "start_time": "2021-09-28T18:06:19.228Z"
   },
   {
    "duration": 88,
    "start_time": "2021-09-28T18:06:19.237Z"
   },
   {
    "duration": 7,
    "start_time": "2021-09-28T18:06:19.330Z"
   },
   {
    "duration": 80,
    "start_time": "2021-09-28T18:06:19.341Z"
   },
   {
    "duration": 9,
    "start_time": "2021-09-28T18:06:19.427Z"
   },
   {
    "duration": 5,
    "start_time": "2021-09-28T18:06:19.439Z"
   },
   {
    "duration": 116876,
    "start_time": "2021-09-28T18:06:19.446Z"
   },
   {
    "duration": 1346,
    "start_time": "2021-09-28T22:07:14.938Z"
   },
   {
    "duration": 19,
    "start_time": "2021-09-28T22:07:16.287Z"
   },
   {
    "duration": 27,
    "start_time": "2021-09-28T22:07:16.309Z"
   },
   {
    "duration": 20,
    "start_time": "2021-09-28T22:07:16.338Z"
   },
   {
    "duration": 22,
    "start_time": "2021-09-28T22:07:16.362Z"
   },
   {
    "duration": 27,
    "start_time": "2021-09-28T22:07:16.387Z"
   },
   {
    "duration": 50,
    "start_time": "2021-09-28T22:07:16.417Z"
   },
   {
    "duration": 91,
    "start_time": "2021-09-28T22:07:16.474Z"
   },
   {
    "duration": 101,
    "start_time": "2021-09-28T22:07:16.569Z"
   },
   {
    "duration": 14,
    "start_time": "2021-09-28T22:07:16.673Z"
   },
   {
    "duration": 13,
    "start_time": "2021-09-28T22:07:16.689Z"
   },
   {
    "duration": 546,
    "start_time": "2021-09-28T22:07:16.704Z"
   },
   {
    "duration": 4,
    "start_time": "2021-09-28T22:07:17.249Z"
   },
   {
    "duration": 612,
    "start_time": "2021-09-28T22:07:30.813Z"
   },
   {
    "duration": 525,
    "start_time": "2021-09-28T22:08:14.428Z"
   },
   {
    "duration": 10,
    "start_time": "2021-09-28T22:08:20.500Z"
   },
   {
    "duration": 7,
    "start_time": "2021-09-28T22:08:23.157Z"
   },
   {
    "duration": 3393,
    "start_time": "2021-09-28T22:08:32.265Z"
   },
   {
    "duration": 2999,
    "start_time": "2021-09-28T22:08:43.059Z"
   },
   {
    "duration": 7,
    "start_time": "2021-09-28T22:09:28.806Z"
   },
   {
    "duration": 7,
    "start_time": "2021-09-28T22:09:41.652Z"
   },
   {
    "duration": 6,
    "start_time": "2021-09-28T22:09:46.702Z"
   },
   {
    "duration": 8,
    "start_time": "2021-09-28T22:11:15.148Z"
   },
   {
    "duration": 4,
    "start_time": "2021-09-28T22:11:20.814Z"
   },
   {
    "duration": 6,
    "start_time": "2021-09-28T22:11:35.426Z"
   },
   {
    "duration": 7,
    "start_time": "2021-09-28T22:12:30.257Z"
   },
   {
    "duration": 6,
    "start_time": "2021-09-28T22:12:33.120Z"
   },
   {
    "duration": 8,
    "start_time": "2021-09-28T22:12:34.470Z"
   },
   {
    "duration": 6,
    "start_time": "2021-09-28T22:12:36.524Z"
   },
   {
    "duration": 9,
    "start_time": "2021-09-28T22:12:37.208Z"
   },
   {
    "duration": 1733,
    "start_time": "2021-09-28T22:13:49.757Z"
   },
   {
    "duration": 18,
    "start_time": "2021-09-28T22:13:51.493Z"
   },
   {
    "duration": 23,
    "start_time": "2021-09-28T22:13:51.515Z"
   },
   {
    "duration": 26,
    "start_time": "2021-09-28T22:13:51.541Z"
   },
   {
    "duration": 14,
    "start_time": "2021-09-28T22:13:51.570Z"
   },
   {
    "duration": 11,
    "start_time": "2021-09-28T22:13:51.587Z"
   },
   {
    "duration": 72,
    "start_time": "2021-09-28T22:13:51.601Z"
   },
   {
    "duration": 91,
    "start_time": "2021-09-28T22:13:51.676Z"
   },
   {
    "duration": 88,
    "start_time": "2021-09-28T22:13:51.774Z"
   },
   {
    "duration": 8,
    "start_time": "2021-09-28T22:13:51.866Z"
   },
   {
    "duration": 9,
    "start_time": "2021-09-28T22:13:51.876Z"
   },
   {
    "duration": 5,
    "start_time": "2021-09-28T22:13:51.887Z"
   },
   {
    "duration": 11,
    "start_time": "2021-09-28T22:13:51.894Z"
   },
   {
    "duration": 56,
    "start_time": "2021-09-28T22:13:51.908Z"
   },
   {
    "duration": 1415,
    "start_time": "2021-09-28T22:15:04.369Z"
   },
   {
    "duration": 18,
    "start_time": "2021-09-28T22:15:05.787Z"
   },
   {
    "duration": 23,
    "start_time": "2021-09-28T22:15:05.808Z"
   },
   {
    "duration": 30,
    "start_time": "2021-09-28T22:15:05.833Z"
   },
   {
    "duration": 6,
    "start_time": "2021-09-28T22:15:05.865Z"
   },
   {
    "duration": 13,
    "start_time": "2021-09-28T22:15:05.873Z"
   },
   {
    "duration": 174,
    "start_time": "2021-09-28T22:15:05.888Z"
   },
   {
    "duration": 8,
    "start_time": "2021-09-28T22:15:06.064Z"
   },
   {
    "duration": 18,
    "start_time": "2021-09-28T22:15:06.075Z"
   },
   {
    "duration": 12,
    "start_time": "2021-09-28T22:15:06.096Z"
   },
   {
    "duration": 16,
    "start_time": "2021-09-28T22:15:06.111Z"
   },
   {
    "duration": 714,
    "start_time": "2021-09-28T22:15:06.130Z"
   },
   {
    "duration": -53,
    "start_time": "2021-09-28T22:15:06.900Z"
   },
   {
    "duration": -59,
    "start_time": "2021-09-28T22:15:06.907Z"
   },
   {
    "duration": -70,
    "start_time": "2021-09-28T22:15:06.919Z"
   },
   {
    "duration": 8,
    "start_time": "2021-09-28T22:24:19.403Z"
   },
   {
    "duration": 8,
    "start_time": "2021-09-28T22:24:20.360Z"
   },
   {
    "duration": 7,
    "start_time": "2021-09-28T22:24:25.372Z"
   },
   {
    "duration": 7,
    "start_time": "2021-09-28T22:24:26.041Z"
   },
   {
    "duration": 6,
    "start_time": "2021-09-28T22:24:27.885Z"
   },
   {
    "duration": 8,
    "start_time": "2021-09-28T22:24:28.465Z"
   },
   {
    "duration": 3,
    "start_time": "2021-09-28T22:31:35.700Z"
   },
   {
    "duration": 20,
    "start_time": "2021-09-28T22:31:37.047Z"
   },
   {
    "duration": 16,
    "start_time": "2021-09-28T22:32:10.872Z"
   },
   {
    "duration": 15,
    "start_time": "2021-09-28T22:32:41.732Z"
   },
   {
    "duration": 11,
    "start_time": "2021-09-28T22:32:52.628Z"
   },
   {
    "duration": 502,
    "start_time": "2021-09-29T10:27:08.685Z"
   },
   {
    "duration": 1318,
    "start_time": "2021-09-29T10:27:15.447Z"
   },
   {
    "duration": 21,
    "start_time": "2021-09-29T10:27:16.768Z"
   },
   {
    "duration": 25,
    "start_time": "2021-09-29T10:27:16.793Z"
   },
   {
    "duration": 8,
    "start_time": "2021-09-29T10:27:16.821Z"
   },
   {
    "duration": 7,
    "start_time": "2021-09-29T10:27:16.831Z"
   },
   {
    "duration": 6,
    "start_time": "2021-09-29T10:27:16.841Z"
   },
   {
    "duration": 74,
    "start_time": "2021-09-29T10:27:16.849Z"
   },
   {
    "duration": 5,
    "start_time": "2021-09-29T10:27:17.016Z"
   },
   {
    "duration": 7,
    "start_time": "2021-09-29T10:27:17.023Z"
   },
   {
    "duration": 7,
    "start_time": "2021-09-29T10:27:17.032Z"
   },
   {
    "duration": 8,
    "start_time": "2021-09-29T10:27:17.041Z"
   },
   {
    "duration": 66,
    "start_time": "2021-09-29T10:27:17.052Z"
   },
   {
    "duration": 7,
    "start_time": "2021-09-29T10:27:17.120Z"
   },
   {
    "duration": 90,
    "start_time": "2021-09-29T10:27:17.131Z"
   },
   {
    "duration": 96,
    "start_time": "2021-09-29T10:27:17.224Z"
   },
   {
    "duration": 1350,
    "start_time": "2021-09-29T10:27:42.958Z"
   },
   {
    "duration": 21,
    "start_time": "2021-09-29T10:27:44.311Z"
   },
   {
    "duration": 21,
    "start_time": "2021-09-29T10:27:44.335Z"
   },
   {
    "duration": 8,
    "start_time": "2021-09-29T10:27:44.358Z"
   },
   {
    "duration": 7,
    "start_time": "2021-09-29T10:27:44.369Z"
   },
   {
    "duration": 37,
    "start_time": "2021-09-29T10:27:44.379Z"
   },
   {
    "duration": 101,
    "start_time": "2021-09-29T10:27:44.418Z"
   },
   {
    "duration": 92,
    "start_time": "2021-09-29T10:27:44.527Z"
   },
   {
    "duration": 9,
    "start_time": "2021-09-29T10:27:44.623Z"
   },
   {
    "duration": 7,
    "start_time": "2021-09-29T10:27:44.636Z"
   },
   {
    "duration": 8,
    "start_time": "2021-09-29T10:27:44.646Z"
   },
   {
    "duration": 63,
    "start_time": "2021-09-29T10:27:44.656Z"
   },
   {
    "duration": 10,
    "start_time": "2021-09-29T10:27:44.722Z"
   },
   {
    "duration": 8,
    "start_time": "2021-09-29T10:27:44.816Z"
   },
   {
    "duration": 190,
    "start_time": "2021-09-29T10:27:44.827Z"
   },
   {
    "duration": 1428,
    "start_time": "2021-09-29T10:29:35.290Z"
   },
   {
    "duration": 21,
    "start_time": "2021-09-29T10:29:36.721Z"
   },
   {
    "duration": 20,
    "start_time": "2021-09-29T10:29:36.746Z"
   },
   {
    "duration": 23,
    "start_time": "2021-09-29T10:29:36.769Z"
   },
   {
    "duration": 13,
    "start_time": "2021-09-29T10:29:36.795Z"
   },
   {
    "duration": 18,
    "start_time": "2021-09-29T10:29:36.810Z"
   },
   {
    "duration": 87,
    "start_time": "2021-09-29T10:29:36.831Z"
   },
   {
    "duration": 8,
    "start_time": "2021-09-29T10:29:36.923Z"
   },
   {
    "duration": 15,
    "start_time": "2021-09-29T10:29:37.018Z"
   },
   {
    "duration": 11,
    "start_time": "2021-09-29T10:29:37.036Z"
   },
   {
    "duration": 17,
    "start_time": "2021-09-29T10:29:37.049Z"
   },
   {
    "duration": 15,
    "start_time": "2021-09-29T10:29:37.068Z"
   },
   {
    "duration": 11,
    "start_time": "2021-09-29T10:29:37.117Z"
   },
   {
    "duration": 90,
    "start_time": "2021-09-29T10:29:37.131Z"
   },
   {
    "duration": 106,
    "start_time": "2021-09-29T10:29:37.224Z"
   }
  ],
  "kernelspec": {
   "display_name": "Python 3",
   "language": "python",
   "name": "python3"
  },
  "language_info": {
   "codemirror_mode": {
    "name": "ipython",
    "version": 3
   },
   "file_extension": ".py",
   "mimetype": "text/x-python",
   "name": "python",
   "nbconvert_exporter": "python",
   "pygments_lexer": "ipython3",
   "version": "3.8.8"
  },
  "toc": {
   "base_numbering": 1,
   "nav_menu": {},
   "number_sections": true,
   "sideBar": true,
   "skip_h1_title": true,
   "title_cell": "Содержание",
   "title_sidebar": "Contents",
   "toc_cell": true,
   "toc_position": {},
   "toc_section_display": true,
   "toc_window_display": false
  }
 },
 "nbformat": 4,
 "nbformat_minor": 2
}
