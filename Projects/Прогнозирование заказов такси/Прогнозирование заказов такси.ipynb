{
 "cells": [
  {
   "cell_type": "code",
   "execution_count": 1,
   "id": "d0a9e648",
   "metadata": {},
   "outputs": [],
   "source": [
    "import pandas as pd\n",
    "import numpy as np\n",
    "import matplotlib.pyplot as plt\n",
    "from statsmodels.tsa.seasonal import seasonal_decompose\n",
    "from sklearn.model_selection import train_test_split\n",
    "from sklearn.linear_model import LinearRegression\n",
    "from sklearn.metrics import mean_squared_error\n",
    "from lightgbm import LGBMRegressor\n",
    "from sklearn.model_selection import GridSearchCV,TimeSeriesSplit\n",
    "import warnings"
   ]
  },
  {
   "cell_type": "code",
   "execution_count": 2,
   "id": "55b60439",
   "metadata": {},
   "outputs": [],
   "source": [
    "data = pd.read_csv('downloads/taxi.csv',index_col=[0], parse_dates=[0])\n",
    "warnings.filterwarnings('ignore', '.*do not.*', )\n",
    "warnings.warn('Do not show this message')"
   ]
  },
  {
   "cell_type": "markdown",
   "id": "79c34e2c",
   "metadata": {},
   "source": [
    "## Подготовка"
   ]
  },
  {
   "cell_type": "code",
   "execution_count": 3,
   "id": "28b24449",
   "metadata": {},
   "outputs": [
    {
     "data": {
      "text/html": [
       "<div>\n",
       "<style scoped>\n",
       "    .dataframe tbody tr th:only-of-type {\n",
       "        vertical-align: middle;\n",
       "    }\n",
       "\n",
       "    .dataframe tbody tr th {\n",
       "        vertical-align: top;\n",
       "    }\n",
       "\n",
       "    .dataframe thead th {\n",
       "        text-align: right;\n",
       "    }\n",
       "</style>\n",
       "<table border=\"1\" class=\"dataframe\">\n",
       "  <thead>\n",
       "    <tr style=\"text-align: right;\">\n",
       "      <th></th>\n",
       "      <th>num_orders</th>\n",
       "    </tr>\n",
       "    <tr>\n",
       "      <th>datetime</th>\n",
       "      <th></th>\n",
       "    </tr>\n",
       "  </thead>\n",
       "  <tbody>\n",
       "    <tr>\n",
       "      <th>2018-03-01 00:00:00</th>\n",
       "      <td>9</td>\n",
       "    </tr>\n",
       "    <tr>\n",
       "      <th>2018-03-01 00:10:00</th>\n",
       "      <td>14</td>\n",
       "    </tr>\n",
       "    <tr>\n",
       "      <th>2018-03-01 00:20:00</th>\n",
       "      <td>28</td>\n",
       "    </tr>\n",
       "    <tr>\n",
       "      <th>2018-03-01 00:30:00</th>\n",
       "      <td>20</td>\n",
       "    </tr>\n",
       "    <tr>\n",
       "      <th>2018-03-01 00:40:00</th>\n",
       "      <td>32</td>\n",
       "    </tr>\n",
       "  </tbody>\n",
       "</table>\n",
       "</div>"
      ],
      "text/plain": [
       "                     num_orders\n",
       "datetime                       \n",
       "2018-03-01 00:00:00           9\n",
       "2018-03-01 00:10:00          14\n",
       "2018-03-01 00:20:00          28\n",
       "2018-03-01 00:30:00          20\n",
       "2018-03-01 00:40:00          32"
      ]
     },
     "execution_count": 3,
     "metadata": {},
     "output_type": "execute_result"
    }
   ],
   "source": [
    "data.head()"
   ]
  },
  {
   "cell_type": "code",
   "execution_count": 4,
   "id": "3a69d8b7",
   "metadata": {},
   "outputs": [
    {
     "name": "stdout",
     "output_type": "stream",
     "text": [
      "<class 'pandas.core.frame.DataFrame'>\n",
      "DatetimeIndex: 26496 entries, 2018-03-01 00:00:00 to 2018-08-31 23:50:00\n",
      "Data columns (total 1 columns):\n",
      " #   Column      Non-Null Count  Dtype\n",
      "---  ------      --------------  -----\n",
      " 0   num_orders  26496 non-null  int64\n",
      "dtypes: int64(1)\n",
      "memory usage: 414.0 KB\n"
     ]
    }
   ],
   "source": [
    "data.info()"
   ]
  },
  {
   "cell_type": "code",
   "execution_count": 5,
   "id": "8b68b2b7",
   "metadata": {},
   "outputs": [
    {
     "data": {
      "text/html": [
       "<div>\n",
       "<style scoped>\n",
       "    .dataframe tbody tr th:only-of-type {\n",
       "        vertical-align: middle;\n",
       "    }\n",
       "\n",
       "    .dataframe tbody tr th {\n",
       "        vertical-align: top;\n",
       "    }\n",
       "\n",
       "    .dataframe thead th {\n",
       "        text-align: right;\n",
       "    }\n",
       "</style>\n",
       "<table border=\"1\" class=\"dataframe\">\n",
       "  <thead>\n",
       "    <tr style=\"text-align: right;\">\n",
       "      <th></th>\n",
       "      <th>num_orders</th>\n",
       "    </tr>\n",
       "    <tr>\n",
       "      <th>datetime</th>\n",
       "      <th></th>\n",
       "    </tr>\n",
       "  </thead>\n",
       "  <tbody>\n",
       "    <tr>\n",
       "      <th>2018-03-01 00:00:00</th>\n",
       "      <td>124</td>\n",
       "    </tr>\n",
       "    <tr>\n",
       "      <th>2018-03-01 01:00:00</th>\n",
       "      <td>85</td>\n",
       "    </tr>\n",
       "    <tr>\n",
       "      <th>2018-03-01 02:00:00</th>\n",
       "      <td>71</td>\n",
       "    </tr>\n",
       "    <tr>\n",
       "      <th>2018-03-01 03:00:00</th>\n",
       "      <td>66</td>\n",
       "    </tr>\n",
       "    <tr>\n",
       "      <th>2018-03-01 04:00:00</th>\n",
       "      <td>43</td>\n",
       "    </tr>\n",
       "  </tbody>\n",
       "</table>\n",
       "</div>"
      ],
      "text/plain": [
       "                     num_orders\n",
       "datetime                       \n",
       "2018-03-01 00:00:00         124\n",
       "2018-03-01 01:00:00          85\n",
       "2018-03-01 02:00:00          71\n",
       "2018-03-01 03:00:00          66\n",
       "2018-03-01 04:00:00          43"
      ]
     },
     "execution_count": 5,
     "metadata": {},
     "output_type": "execute_result"
    }
   ],
   "source": [
    "data.sort_index(inplace=True)\n",
    "data = data.resample('1H').sum()\n",
    "data.head()"
   ]
  },
  {
   "cell_type": "markdown",
   "id": "9d217062",
   "metadata": {},
   "source": [
    "Я прочел данные ,колонку Datetime сделал индексом а колонку num_orders распределил по порядку этих индексов."
   ]
  },
  {
   "cell_type": "code",
   "execution_count": 6,
   "id": "32ebdd63",
   "metadata": {},
   "outputs": [
    {
     "data": {
      "image/png": "[encoded data removed]",
      "text/plain": [
       "<Figure size 432x288 with 1 Axes>"
      ]
     },
     "metadata": {
      "needs_background": "light"
     },
     "output_type": "display_data"
    }
   ],
   "source": [
    "#Хочу проследить сезонность ,для начала посмотрю данные за несколько часов от полуночи и до 4 утра\n",
    "decomposed = seasonal_decompose(data)\n",
    "decomposed.seasonal['2018-03-01;00:00:00':'2018-03-01;04:00:00'].plot(ax=plt.gca());"
   ]
  },
  {
   "cell_type": "code",
   "execution_count": 7,
   "id": "5c3dd422",
   "metadata": {},
   "outputs": [
    {
     "data": {
      "image/png": "[encoded data removed]",
      "text/plain": [
       "<Figure size 432x288 with 1 Axes>"
      ]
     },
     "metadata": {
      "needs_background": "light"
     },
     "output_type": "display_data"
    }
   ],
   "source": [
    "#теперь посмотрю данные за сутки\n",
    "decomposed = seasonal_decompose(data)\n",
    "decomposed.seasonal['2018-03-01':'2018-03-02'].plot(ax=plt.gca());"
   ]
  },
  {
   "cell_type": "code",
   "execution_count": 8,
   "id": "836e6509",
   "metadata": {},
   "outputs": [
    {
     "data": {
      "image/png": "[encoded data removed]",
      "text/plain": [
       "<Figure size 432x288 with 1 Axes>"
      ]
     },
     "metadata": {
      "needs_background": "light"
     },
     "output_type": "display_data"
    }
   ],
   "source": [
    "#теперь просмотрю данные за неделю\n",
    "decomposed.seasonal['2018-03-01':'2018-03-07'].plot(ax=plt.gca());"
   ]
  },
  {
   "cell_type": "markdown",
   "id": "d86400bd",
   "metadata": {},
   "source": [
    "Судя по графикам,мы имеем дело со стационарным стохастическим процессом.Особенно наглядно это видно по тому,как данные распределяются в сутках.К полуночи у нас пик заказов ,а к 6 вечера у нас самый большой спад.Скорее всего это вызвано тем что в 6 вечера 'час пик' и клиенты предпочитают добираться домой на метро."
   ]
  },
  {
   "cell_type": "code",
   "execution_count": 9,
   "id": "1e28ddb6",
   "metadata": {},
   "outputs": [
    {
     "data": {
      "text/html": [
       "<div>\n",
       "<style scoped>\n",
       "    .dataframe tbody tr th:only-of-type {\n",
       "        vertical-align: middle;\n",
       "    }\n",
       "\n",
       "    .dataframe tbody tr th {\n",
       "        vertical-align: top;\n",
       "    }\n",
       "\n",
       "    .dataframe thead th {\n",
       "        text-align: right;\n",
       "    }\n",
       "</style>\n",
       "<table border=\"1\" class=\"dataframe\">\n",
       "  <thead>\n",
       "    <tr style=\"text-align: right;\">\n",
       "      <th></th>\n",
       "      <th>num_orders</th>\n",
       "      <th>weekday</th>\n",
       "      <th>hour</th>\n",
       "      <th>lag_1</th>\n",
       "      <th>lag_2</th>\n",
       "      <th>lag_3</th>\n",
       "      <th>lag_4</th>\n",
       "      <th>lag_5</th>\n",
       "      <th>lag_6</th>\n",
       "      <th>lag_7</th>\n",
       "      <th>...</th>\n",
       "      <th>lag_16</th>\n",
       "      <th>lag_17</th>\n",
       "      <th>lag_18</th>\n",
       "      <th>lag_19</th>\n",
       "      <th>lag_20</th>\n",
       "      <th>lag_21</th>\n",
       "      <th>lag_22</th>\n",
       "      <th>lag_23</th>\n",
       "      <th>lag_24</th>\n",
       "      <th>rolling_mean</th>\n",
       "    </tr>\n",
       "    <tr>\n",
       "      <th>datetime</th>\n",
       "      <th></th>\n",
       "      <th></th>\n",
       "      <th></th>\n",
       "      <th></th>\n",
       "      <th></th>\n",
       "      <th></th>\n",
       "      <th></th>\n",
       "      <th></th>\n",
       "      <th></th>\n",
       "      <th></th>\n",
       "      <th></th>\n",
       "      <th></th>\n",
       "      <th></th>\n",
       "      <th></th>\n",
       "      <th></th>\n",
       "      <th></th>\n",
       "      <th></th>\n",
       "      <th></th>\n",
       "      <th></th>\n",
       "      <th></th>\n",
       "      <th></th>\n",
       "    </tr>\n",
       "  </thead>\n",
       "  <tbody>\n",
       "    <tr>\n",
       "      <th>2018-03-01 00:00:00</th>\n",
       "      <td>124</td>\n",
       "      <td>3</td>\n",
       "      <td>0</td>\n",
       "      <td>NaN</td>\n",
       "      <td>NaN</td>\n",
       "      <td>NaN</td>\n",
       "      <td>NaN</td>\n",
       "      <td>NaN</td>\n",
       "      <td>NaN</td>\n",
       "      <td>NaN</td>\n",
       "      <td>...</td>\n",
       "      <td>NaN</td>\n",
       "      <td>NaN</td>\n",
       "      <td>NaN</td>\n",
       "      <td>NaN</td>\n",
       "      <td>NaN</td>\n",
       "      <td>NaN</td>\n",
       "      <td>NaN</td>\n",
       "      <td>NaN</td>\n",
       "      <td>NaN</td>\n",
       "      <td>NaN</td>\n",
       "    </tr>\n",
       "    <tr>\n",
       "      <th>2018-03-01 01:00:00</th>\n",
       "      <td>85</td>\n",
       "      <td>3</td>\n",
       "      <td>1</td>\n",
       "      <td>124.0</td>\n",
       "      <td>NaN</td>\n",
       "      <td>NaN</td>\n",
       "      <td>NaN</td>\n",
       "      <td>NaN</td>\n",
       "      <td>NaN</td>\n",
       "      <td>NaN</td>\n",
       "      <td>...</td>\n",
       "      <td>NaN</td>\n",
       "      <td>NaN</td>\n",
       "      <td>NaN</td>\n",
       "      <td>NaN</td>\n",
       "      <td>NaN</td>\n",
       "      <td>NaN</td>\n",
       "      <td>NaN</td>\n",
       "      <td>NaN</td>\n",
       "      <td>NaN</td>\n",
       "      <td>NaN</td>\n",
       "    </tr>\n",
       "    <tr>\n",
       "      <th>2018-03-01 02:00:00</th>\n",
       "      <td>71</td>\n",
       "      <td>3</td>\n",
       "      <td>2</td>\n",
       "      <td>85.0</td>\n",
       "      <td>124.0</td>\n",
       "      <td>NaN</td>\n",
       "      <td>NaN</td>\n",
       "      <td>NaN</td>\n",
       "      <td>NaN</td>\n",
       "      <td>NaN</td>\n",
       "      <td>...</td>\n",
       "      <td>NaN</td>\n",
       "      <td>NaN</td>\n",
       "      <td>NaN</td>\n",
       "      <td>NaN</td>\n",
       "      <td>NaN</td>\n",
       "      <td>NaN</td>\n",
       "      <td>NaN</td>\n",
       "      <td>NaN</td>\n",
       "      <td>NaN</td>\n",
       "      <td>NaN</td>\n",
       "    </tr>\n",
       "    <tr>\n",
       "      <th>2018-03-01 03:00:00</th>\n",
       "      <td>66</td>\n",
       "      <td>3</td>\n",
       "      <td>3</td>\n",
       "      <td>71.0</td>\n",
       "      <td>85.0</td>\n",
       "      <td>124.0</td>\n",
       "      <td>NaN</td>\n",
       "      <td>NaN</td>\n",
       "      <td>NaN</td>\n",
       "      <td>NaN</td>\n",
       "      <td>...</td>\n",
       "      <td>NaN</td>\n",
       "      <td>NaN</td>\n",
       "      <td>NaN</td>\n",
       "      <td>NaN</td>\n",
       "      <td>NaN</td>\n",
       "      <td>NaN</td>\n",
       "      <td>NaN</td>\n",
       "      <td>NaN</td>\n",
       "      <td>NaN</td>\n",
       "      <td>NaN</td>\n",
       "    </tr>\n",
       "    <tr>\n",
       "      <th>2018-03-01 04:00:00</th>\n",
       "      <td>43</td>\n",
       "      <td>3</td>\n",
       "      <td>4</td>\n",
       "      <td>66.0</td>\n",
       "      <td>71.0</td>\n",
       "      <td>85.0</td>\n",
       "      <td>124.0</td>\n",
       "      <td>NaN</td>\n",
       "      <td>NaN</td>\n",
       "      <td>NaN</td>\n",
       "      <td>...</td>\n",
       "      <td>NaN</td>\n",
       "      <td>NaN</td>\n",
       "      <td>NaN</td>\n",
       "      <td>NaN</td>\n",
       "      <td>NaN</td>\n",
       "      <td>NaN</td>\n",
       "      <td>NaN</td>\n",
       "      <td>NaN</td>\n",
       "      <td>NaN</td>\n",
       "      <td>NaN</td>\n",
       "    </tr>\n",
       "  </tbody>\n",
       "</table>\n",
       "<p>5 rows × 28 columns</p>\n",
       "</div>"
      ],
      "text/plain": [
       "                     num_orders  weekday  hour  lag_1  lag_2  lag_3  lag_4  \\\n",
       "datetime                                                                     \n",
       "2018-03-01 00:00:00         124        3     0    NaN    NaN    NaN    NaN   \n",
       "2018-03-01 01:00:00          85        3     1  124.0    NaN    NaN    NaN   \n",
       "2018-03-01 02:00:00          71        3     2   85.0  124.0    NaN    NaN   \n",
       "2018-03-01 03:00:00          66        3     3   71.0   85.0  124.0    NaN   \n",
       "2018-03-01 04:00:00          43        3     4   66.0   71.0   85.0  124.0   \n",
       "\n",
       "                     lag_5  lag_6  lag_7  ...  lag_16  lag_17  lag_18  lag_19  \\\n",
       "datetime                                  ...                                   \n",
       "2018-03-01 00:00:00    NaN    NaN    NaN  ...     NaN     NaN     NaN     NaN   \n",
       "2018-03-01 01:00:00    NaN    NaN    NaN  ...     NaN     NaN     NaN     NaN   \n",
       "2018-03-01 02:00:00    NaN    NaN    NaN  ...     NaN     NaN     NaN     NaN   \n",
       "2018-03-01 03:00:00    NaN    NaN    NaN  ...     NaN     NaN     NaN     NaN   \n",
       "2018-03-01 04:00:00    NaN    NaN    NaN  ...     NaN     NaN     NaN     NaN   \n",
       "\n",
       "                     lag_20  lag_21  lag_22  lag_23  lag_24  rolling_mean  \n",
       "datetime                                                                   \n",
       "2018-03-01 00:00:00     NaN     NaN     NaN     NaN     NaN           NaN  \n",
       "2018-03-01 01:00:00     NaN     NaN     NaN     NaN     NaN           NaN  \n",
       "2018-03-01 02:00:00     NaN     NaN     NaN     NaN     NaN           NaN  \n",
       "2018-03-01 03:00:00     NaN     NaN     NaN     NaN     NaN           NaN  \n",
       "2018-03-01 04:00:00     NaN     NaN     NaN     NaN     NaN           NaN  \n",
       "\n",
       "[5 rows x 28 columns]"
      ]
     },
     "execution_count": 9,
     "metadata": {},
     "output_type": "execute_result"
    }
   ],
   "source": [
    "#хочу добавить признаки ,а именно Lag,скользящее среднее и колонки по месяцам ,дням и часам\n",
    "def make_features(data, max_lag,rolling_mean_size):\n",
    "    data['weekday'] = data.index.weekday\n",
    "    data['hour'] = data.index.hour\n",
    "    \n",
    "    for lag in range(1, max_lag + 1):\n",
    "        data['lag_{}'.format(lag)] = data['num_orders'].shift(lag)\n",
    "        \n",
    "    data['rolling_mean'] = data['num_orders'].shift().rolling(window=5).mean()\n",
    "    return data\n",
    "make_features(data, 24,24)\n",
    "\n",
    "data.head()"
   ]
  },
  {
   "cell_type": "code",
   "execution_count": 10,
   "id": "283cebe6",
   "metadata": {},
   "outputs": [
    {
     "name": "stdout",
     "output_type": "stream",
     "text": [
      "<class 'pandas.core.frame.DataFrame'>\n",
      "DatetimeIndex: 4416 entries, 2018-03-01 00:00:00 to 2018-08-31 23:00:00\n",
      "Freq: H\n",
      "Data columns (total 28 columns):\n",
      " #   Column        Non-Null Count  Dtype  \n",
      "---  ------        --------------  -----  \n",
      " 0   num_orders    4416 non-null   int64  \n",
      " 1   weekday       4416 non-null   int64  \n",
      " 2   hour          4416 non-null   int64  \n",
      " 3   lag_1         4415 non-null   float64\n",
      " 4   lag_2         4414 non-null   float64\n",
      " 5   lag_3         4413 non-null   float64\n",
      " 6   lag_4         4412 non-null   float64\n",
      " 7   lag_5         4411 non-null   float64\n",
      " 8   lag_6         4410 non-null   float64\n",
      " 9   lag_7         4409 non-null   float64\n",
      " 10  lag_8         4408 non-null   float64\n",
      " 11  lag_9         4407 non-null   float64\n",
      " 12  lag_10        4406 non-null   float64\n",
      " 13  lag_11        4405 non-null   float64\n",
      " 14  lag_12        4404 non-null   float64\n",
      " 15  lag_13        4403 non-null   float64\n",
      " 16  lag_14        4402 non-null   float64\n",
      " 17  lag_15        4401 non-null   float64\n",
      " 18  lag_16        4400 non-null   float64\n",
      " 19  lag_17        4399 non-null   float64\n",
      " 20  lag_18        4398 non-null   float64\n",
      " 21  lag_19        4397 non-null   float64\n",
      " 22  lag_20        4396 non-null   float64\n",
      " 23  lag_21        4395 non-null   float64\n",
      " 24  lag_22        4394 non-null   float64\n",
      " 25  lag_23        4393 non-null   float64\n",
      " 26  lag_24        4392 non-null   float64\n",
      " 27  rolling_mean  4411 non-null   float64\n",
      "dtypes: float64(25), int64(3)\n",
      "memory usage: 1000.5 KB\n"
     ]
    }
   ],
   "source": [
    "data.info()"
   ]
  },
  {
   "cell_type": "markdown",
   "id": "6491007a",
   "metadata": {},
   "source": [
    "Я решил добавить 24 отстающее значение ,а окно скользящего среднего я установил на уровне 24."
   ]
  },
  {
   "cell_type": "markdown",
   "id": "000334f0",
   "metadata": {},
   "source": [
    "## Обучение"
   ]
  },
  {
   "cell_type": "code",
   "execution_count": 11,
   "id": "bd1377fd",
   "metadata": {},
   "outputs": [],
   "source": [
    "#для начала разобью данные на выборки ,создам функцию для этого\n",
    "def features(data):\n",
    "    train,valid = train_test_split(data, shuffle=False, test_size=0.1)\n",
    "    train = train.dropna()\n",
    "    valid,test = train_test_split(valid, shuffle=False, test_size=0.5)\n",
    "    train_X = train.drop(['num_orders'], axis=1)\n",
    "    train_Y = train['num_orders']\n",
    "    valid_X = valid.drop(['num_orders'], axis=1)\n",
    "    valid_Y = valid['num_orders']\n",
    "    test_X = test.drop(['num_orders'], axis=1)\n",
    "    test_Y = test['num_orders']\n",
    "    return train_X,train_Y,valid_X,valid_Y,test_X,test_Y"
   ]
  },
  {
   "cell_type": "code",
   "execution_count": 12,
   "id": "eeda461b",
   "metadata": {},
   "outputs": [],
   "source": [
    "#теперь напишу функцию для обучения линейной регресии\n",
    "def regression(train_X,train_Y,valid_X,valid_Y):\n",
    "    model_regression = LinearRegression().fit(train_X,train_Y)\n",
    "    predictions_regression = model_regression.predict(valid_X)\n",
    "    RMSE = mean_squared_error(valid_Y,predictions_regression) ** 0.5\n",
    "    return RMSE\n",
    "#теперь напишу функцию для LGBM\n",
    "def LGBM(train_X,train_Y,valid_X,valid_Y):\n",
    "    model_LGBM = LGBMRegressor().fit(train_X,train_Y)\n",
    "    predictions_LGBM = model_LGBM.predict(valid_X)\n",
    "    RMSE = mean_squared_error(valid_Y,predictions_LGBM) ** 0.5\n",
    "    return RMSE"
   ]
  },
  {
   "cell_type": "code",
   "execution_count": 13,
   "id": "ea2baf44",
   "metadata": {},
   "outputs": [
    {
     "name": "stdout",
     "output_type": "stream",
     "text": [
      "Результат RMSE для модели LinearRegression: 44.84581005890273\n"
     ]
    }
   ],
   "source": [
    "feautures_train,target_train,features_valid,target_valid,features_test,target_test = features(data)\n",
    "regression_rmse = regression(feautures_train,target_train,features_valid,target_valid)\n",
    "print('Результат RMSE для модели LinearRegression:',regression_rmse)"
   ]
  },
  {
   "cell_type": "code",
   "execution_count": 14,
   "id": "39ce7301",
   "metadata": {},
   "outputs": [
    {
     "name": "stdout",
     "output_type": "stream",
     "text": [
      "Результат RMSE для модели LGBM: 36.64625021313638\n"
     ]
    }
   ],
   "source": [
    "LGBM_rmse = LGBM(feautures_train,target_train,features_valid,target_valid)\n",
    "print('Результат RMSE для модели LGBM:',LGBM_rmse)"
   ]
  },
  {
   "cell_type": "code",
   "execution_count": 15,
   "id": "90170c75",
   "metadata": {},
   "outputs": [
    {
     "name": "stdout",
     "output_type": "stream",
     "text": [
      "Fitting 12 folds for each of 95 candidates, totalling 1140 fits\n",
      "[LightGBM] [Warning] feature_fraction is set=0.8, colsample_bytree=1.0 will be ignored. Current value: feature_fraction=0.8\n",
      "[LightGBM] [Warning] bagging_fraction is set=0.8, subsample=1.0 will be ignored. Current value: bagging_fraction=0.8\n",
      "Fitting 12 folds for each of 286 candidates, totalling 3432 fits\n",
      "Fitting 12 folds for each of 225 candidates, totalling 2700 fits\n",
      "{'max_depth': 7, 'num_leaves': 75}\n",
      "{'max_bin': 55, 'min_data_in_leaf': 11}\n",
      "{'bagging_fraction': 0.6, 'bagging_freq': 0, 'feature_fraction': 0.6}\n"
     ]
    }
   ],
   "source": [
    "params_test1 = {'max_depth': range(3,8,1), 'num_leaves':range(5, 100, 5)}\n",
    "tscv = TimeSeriesSplit(n_splits=12)\n",
    "gsearch1 = GridSearchCV(estimator = LGBMRegressor(\n",
    "    boosting_type='gbdt',\n",
    "    objective='regression',metrics='mse',\n",
    "    learning_rate=0.1, n_estimators=20, \n",
    "    max_depth=6, bagging_fraction = 0.8,feature_fraction = 0.8),\n",
    "                        param_grid = params_test1, cv=tscv,n_jobs=-1,verbose=1\n",
    ")\n",
    "gsearch1.fit(feautures_train,target_train)\n",
    "\n",
    "params_test2={'max_bin': range(5,256,10), 'min_data_in_leaf':range(1,102,10)}\n",
    "\n",
    "gsearch2 = GridSearchCV(estimator = LGBMRegressor(\n",
    "    boosting_type='gbdt',objective='regression',metrics='mse',\n",
    "    learning_rate=0.1, n_estimators=20, max_depth=7,num_leaves = 85, \n",
    "    bagging_fraction = 0.8,feature_fraction = 0.8),\n",
    "                        param_grid = params_test2, cv=tscv,n_jobs=-1,verbose=1\n",
    ")\n",
    "gsearch2.fit(feautures_train,target_train)\n",
    "\n",
    "params_test3={'feature_fraction': [0.6,0.7,0.8,0.9,1.0],\n",
    "              'bagging_fraction': [0.6,0.7,0.8,0.9,1.0],\n",
    "              'bagging_freq': range(0,81,10)\n",
    "}\n",
    "              \n",
    "gsearch3 = GridSearchCV(estimator = LGBMRegressor(\n",
    "    boosting_type='gbdt',objective='regression',metrics='mse',\n",
    "    learning_rate=0.1, n_estimators=20, max_depth=7,num_leaves = 85,max_bin = 195,min_data_in_leaf = 1, \n",
    "    bagging_fraction = 0.8,feature_fraction = 0.8),\n",
    "                        param_grid = params_test3, cv=tscv,n_jobs=-1,verbose=1\n",
    ")\n",
    "gsearch3.fit(feautures_train,target_train)\n",
    "              \n",
    "print(gsearch1.best_params_)\n",
    "print(gsearch2.best_params_)\n",
    "print(gsearch3.best_params_)"
   ]
  },
  {
   "cell_type": "code",
   "execution_count": 16,
   "id": "9eed48b8",
   "metadata": {},
   "outputs": [
    {
     "name": "stdout",
     "output_type": "stream",
     "text": [
      "Показатели RMSE улучшенной модели: 35.962422004426784\n",
      "Модель улучшилась!\n"
     ]
    }
   ],
   "source": [
    "#попробую улучшенную модель\n",
    "def LGBM_2(train_X,train_Y,valid_X,valid_Y):\n",
    "    model_LGBM = LGBMRegressor(max_depth=7,num_leaves=75,max_bin=55,\n",
    "                              min_data_in_leaf=11,bagging_fraction=0.9,\n",
    "                              bagging_freq=0,feature_fraction=0.6).fit(feautures_train,target_train)\n",
    "    predictions_LGBM = model_LGBM.predict(valid_X)\n",
    "    RMSE = mean_squared_error(valid_Y,predictions_LGBM) ** 0.5\n",
    "    return RMSE\n",
    "\n",
    "def LGBM_preds(train_X,train_Y,valid_X,valid_Y):\n",
    "    model_LGBM = LGBMRegressor(max_depth=7,num_leaves=75,max_bin=55,\n",
    "                              min_data_in_leaf=11,bagging_fraction=0.9,\n",
    "                              bagging_freq=0,feature_fraction=0.6).fit(feautures_train,target_train)\n",
    "    predictions_LGBM = model_LGBM.predict(valid_X)\n",
    "    return predictions_LGBM\n",
    "\n",
    "LGBM_rmse_2 = LGBM_2(feautures_train,target_train,features_valid,target_valid)\n",
    "print('Показатели RMSE улучшенной модели:',LGBM_rmse_2)\n",
    "if LGBM_rmse_2 < LGBM_rmse:\n",
    "    print('Модель улучшилась!')\n",
    "else:\n",
    "    print('Что-то пошло не так!!!')"
   ]
  },
  {
   "cell_type": "markdown",
   "id": "68210448",
   "metadata": {},
   "source": [
    "На данном этапе модель LGBM показывает хороший результат,считаю целесообразным выбрать ее для финального тестирования"
   ]
  },
  {
   "cell_type": "markdown",
   "id": "7119c1ca",
   "metadata": {},
   "source": [
    "## Тестирование"
   ]
  },
  {
   "cell_type": "code",
   "execution_count": 17,
   "id": "a097d306",
   "metadata": {},
   "outputs": [
    {
     "name": "stdout",
     "output_type": "stream",
     "text": [
      "[LightGBM] [Warning] feature_fraction is set=0.6, colsample_bytree=1.0 will be ignored. Current value: feature_fraction=0.6\n",
      "[LightGBM] [Warning] min_data_in_leaf is set=11, min_child_samples=20 will be ignored. Current value: min_data_in_leaf=11\n",
      "[LightGBM] [Warning] bagging_fraction is set=0.9, subsample=1.0 will be ignored. Current value: bagging_fraction=0.9\n",
      "[LightGBM] [Warning] bagging_freq is set=0, subsample_freq=0 will be ignored. Current value: bagging_freq=0\n",
      "Финальный результат RMSE для модели LGBM на тестовой выборке: 42.96893084834736\n"
     ]
    }
   ],
   "source": [
    "#для тестирования я отобрал модель LGBM\n",
    "LGBM_FINAL = LGBM_2(feautures_train,target_train,features_test,target_test)\n",
    "print('Финальный результат RMSE для модели LGBM на тестовой выборке:',LGBM_FINAL)"
   ]
  },
  {
   "cell_type": "code",
   "execution_count": 18,
   "id": "9d820bcb",
   "metadata": {},
   "outputs": [],
   "source": [
    "#напишу функциии для моего финального графика работы модели\n",
    "#функция для исторических и предсказанных данных\n",
    "def predictions(X_train,Y_train,X_test,Y_test):\n",
    "    model = LGBMRegressor(max_depth=7,num_leaves=75,max_bin=55,\n",
    "                              min_data_in_leaf=11,bagging_fraction=0.9,\n",
    "                              bagging_freq=0,feature_fraction=0.6).fit(X_train,Y_train)\n",
    "    predictions = model.predict(X_test)\n",
    "    preds = pd.Series(predictions)\n",
    "    Y_test = pd.DataFrame(Y_test).reset_index()\n",
    "    data_final = pd.merge(Y_test,preds.rename('predictions'), how = 'left', left_index=True, \n",
    "                      right_index=True).set_index('datetime')\n",
    "    x = data_final['num_orders']\n",
    "    y = data_final['predictions']\n",
    "    return x,y\n",
    "#функция для графика\n",
    "def plot(x,y,title):\n",
    "    plt.plot(x, label='исторические данные')\n",
    "    plt.plot(y, label='предсказанные данные')\n",
    "    plt.legend(loc='upper right')\n",
    "    plt.title(title)\n",
    "    plt.plot(figsize=(40, 40))\n",
    "    plt.xticks(rotation=45)\n",
    "    return plt.show();"
   ]
  },
  {
   "cell_type": "code",
   "execution_count": 19,
   "id": "792f1f3d",
   "metadata": {},
   "outputs": [
    {
     "name": "stdout",
     "output_type": "stream",
     "text": [
      "[LightGBM] [Warning] feature_fraction is set=0.6, colsample_bytree=1.0 will be ignored. Current value: feature_fraction=0.6\n",
      "[LightGBM] [Warning] min_data_in_leaf is set=11, min_child_samples=20 will be ignored. Current value: min_data_in_leaf=11\n",
      "[LightGBM] [Warning] bagging_fraction is set=0.9, subsample=1.0 will be ignored. Current value: bagging_fraction=0.9\n",
      "[LightGBM] [Warning] bagging_freq is set=0, subsample_freq=0 will be ignored. Current value: bagging_freq=0\n"
     ]
    },
    {
     "data": {
      "image/png": "[encoded data removed]",
      "text/plain": [
       "<Figure size 432x288 with 1 Axes>"
      ]
     },
     "metadata": {
      "needs_background": "light"
     },
     "output_type": "display_data"
    }
   ],
   "source": [
    "#вывожу график\n",
    "x,y = predictions(feautures_train,target_train,features_test,target_test)\n",
    "chart = plot(x['2018-08-24;00:00:00':'2018-08-24;08:00:00'],y['2018-08-24;00:00:00':'2018-08-24;08:00:00'],'Результаты модели')"
   ]
  },
  {
   "cell_type": "markdown",
   "id": "102edd68",
   "metadata": {},
   "source": [
    "### Вывод"
   ]
  },
  {
   "cell_type": "markdown",
   "id": "3553fc75",
   "metadata": {},
   "source": [
    "Модель LGBM на финальном тестировании показала результат 42.96893084834736.На нрафике 'Результаты модели' хорошо видно как предсказанные значения отличаются от исторических данных.Я специально взял небольшой промежуток времени в 8 часов для наглядности."
   ]
  },
  {
   "cell_type": "code",
   "execution_count": null,
   "id": "da399bfe",
   "metadata": {},
   "outputs": [],
   "source": []
  }
 ],
 "metadata": {
  "kernelspec": {
   "display_name": "Python 3",
   "language": "python",
   "name": "python3"
  },
  "language_info": {
   "codemirror_mode": {
    "name": "ipython",
    "version": 3
   },
   "file_extension": ".py",
   "mimetype": "text/x-python",
   "name": "python",
   "nbconvert_exporter": "python",
   "pygments_lexer": "ipython3",
   "version": "3.8.8"
  }
 },
 "nbformat": 4,
 "nbformat_minor": 5
}
