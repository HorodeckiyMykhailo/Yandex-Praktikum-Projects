{
 "cells": [
  {
   "cell_type": "markdown",
   "id": "ef44a1c3",
   "metadata": {},
   "source": [
    "## Подготовка данных"
   ]
  },
  {
   "cell_type": "code",
   "execution_count": 1,
   "id": "b411ef30",
   "metadata": {},
   "outputs": [],
   "source": [
    "import pandas as pd\n",
    "import numpy as np\n",
    "import seaborn as sns\n",
    "import matplotlib.pyplot as plt\n",
    "from sklearn.model_selection import train_test_split\n",
    "import warnings\n",
    "from sklearn.metrics import mean_squared_error\n",
    "from sklearn.metrics import mean_absolute_error\n",
    "from sklearn.linear_model import LinearRegression\n",
    "from sklearn.ensemble import RandomForestRegressor\n",
    "from lightgbm import LGBMRegressor\n",
    "from sklearn.model_selection import RandomizedSearchCV\n",
    "from scipy.stats import uniform\n",
    "from sklearn.model_selection import GridSearchCV\n",
    "from sklearn.metrics import make_scorer"
   ]
  },
  {
   "cell_type": "code",
   "execution_count": 2,
   "id": "15b7de59",
   "metadata": {},
   "outputs": [],
   "source": [
    "data = pd.read_csv('downloads/autos.csv')\n",
    "warnings.filterwarnings('ignore')"
   ]
  },
  {
   "cell_type": "code",
   "execution_count": 3,
   "id": "e0a97982",
   "metadata": {},
   "outputs": [
    {
     "data": {
      "text/html": [
       "<div>\n",
       "<style scoped>\n",
       "    .dataframe tbody tr th:only-of-type {\n",
       "        vertical-align: middle;\n",
       "    }\n",
       "\n",
       "    .dataframe tbody tr th {\n",
       "        vertical-align: top;\n",
       "    }\n",
       "\n",
       "    .dataframe thead th {\n",
       "        text-align: right;\n",
       "    }\n",
       "</style>\n",
       "<table border=\"1\" class=\"dataframe\">\n",
       "  <thead>\n",
       "    <tr style=\"text-align: right;\">\n",
       "      <th></th>\n",
       "      <th>DateCrawled</th>\n",
       "      <th>Price</th>\n",
       "      <th>VehicleType</th>\n",
       "      <th>RegistrationYear</th>\n",
       "      <th>Gearbox</th>\n",
       "      <th>Power</th>\n",
       "      <th>Model</th>\n",
       "      <th>Kilometer</th>\n",
       "      <th>RegistrationMonth</th>\n",
       "      <th>FuelType</th>\n",
       "      <th>Brand</th>\n",
       "      <th>NotRepaired</th>\n",
       "      <th>DateCreated</th>\n",
       "      <th>NumberOfPictures</th>\n",
       "      <th>PostalCode</th>\n",
       "      <th>LastSeen</th>\n",
       "    </tr>\n",
       "  </thead>\n",
       "  <tbody>\n",
       "    <tr>\n",
       "      <th>0</th>\n",
       "      <td>2016-03-24 11:52:17</td>\n",
       "      <td>480</td>\n",
       "      <td>NaN</td>\n",
       "      <td>1993</td>\n",
       "      <td>manual</td>\n",
       "      <td>0</td>\n",
       "      <td>golf</td>\n",
       "      <td>150000</td>\n",
       "      <td>0</td>\n",
       "      <td>petrol</td>\n",
       "      <td>volkswagen</td>\n",
       "      <td>NaN</td>\n",
       "      <td>2016-03-24 00:00:00</td>\n",
       "      <td>0</td>\n",
       "      <td>70435</td>\n",
       "      <td>2016-04-07 03:16:57</td>\n",
       "    </tr>\n",
       "    <tr>\n",
       "      <th>1</th>\n",
       "      <td>2016-03-24 10:58:45</td>\n",
       "      <td>18300</td>\n",
       "      <td>coupe</td>\n",
       "      <td>2011</td>\n",
       "      <td>manual</td>\n",
       "      <td>190</td>\n",
       "      <td>NaN</td>\n",
       "      <td>125000</td>\n",
       "      <td>5</td>\n",
       "      <td>gasoline</td>\n",
       "      <td>audi</td>\n",
       "      <td>yes</td>\n",
       "      <td>2016-03-24 00:00:00</td>\n",
       "      <td>0</td>\n",
       "      <td>66954</td>\n",
       "      <td>2016-04-07 01:46:50</td>\n",
       "    </tr>\n",
       "    <tr>\n",
       "      <th>2</th>\n",
       "      <td>2016-03-14 12:52:21</td>\n",
       "      <td>9800</td>\n",
       "      <td>suv</td>\n",
       "      <td>2004</td>\n",
       "      <td>auto</td>\n",
       "      <td>163</td>\n",
       "      <td>grand</td>\n",
       "      <td>125000</td>\n",
       "      <td>8</td>\n",
       "      <td>gasoline</td>\n",
       "      <td>jeep</td>\n",
       "      <td>NaN</td>\n",
       "      <td>2016-03-14 00:00:00</td>\n",
       "      <td>0</td>\n",
       "      <td>90480</td>\n",
       "      <td>2016-04-05 12:47:46</td>\n",
       "    </tr>\n",
       "    <tr>\n",
       "      <th>3</th>\n",
       "      <td>2016-03-17 16:54:04</td>\n",
       "      <td>1500</td>\n",
       "      <td>small</td>\n",
       "      <td>2001</td>\n",
       "      <td>manual</td>\n",
       "      <td>75</td>\n",
       "      <td>golf</td>\n",
       "      <td>150000</td>\n",
       "      <td>6</td>\n",
       "      <td>petrol</td>\n",
       "      <td>volkswagen</td>\n",
       "      <td>no</td>\n",
       "      <td>2016-03-17 00:00:00</td>\n",
       "      <td>0</td>\n",
       "      <td>91074</td>\n",
       "      <td>2016-03-17 17:40:17</td>\n",
       "    </tr>\n",
       "    <tr>\n",
       "      <th>4</th>\n",
       "      <td>2016-03-31 17:25:20</td>\n",
       "      <td>3600</td>\n",
       "      <td>small</td>\n",
       "      <td>2008</td>\n",
       "      <td>manual</td>\n",
       "      <td>69</td>\n",
       "      <td>fabia</td>\n",
       "      <td>90000</td>\n",
       "      <td>7</td>\n",
       "      <td>gasoline</td>\n",
       "      <td>skoda</td>\n",
       "      <td>no</td>\n",
       "      <td>2016-03-31 00:00:00</td>\n",
       "      <td>0</td>\n",
       "      <td>60437</td>\n",
       "      <td>2016-04-06 10:17:21</td>\n",
       "    </tr>\n",
       "  </tbody>\n",
       "</table>\n",
       "</div>"
      ],
      "text/plain": [
       "           DateCrawled  Price VehicleType  RegistrationYear Gearbox  Power  \\\n",
       "0  2016-03-24 11:52:17    480         NaN              1993  manual      0   \n",
       "1  2016-03-24 10:58:45  18300       coupe              2011  manual    190   \n",
       "2  2016-03-14 12:52:21   9800         suv              2004    auto    163   \n",
       "3  2016-03-17 16:54:04   1500       small              2001  manual     75   \n",
       "4  2016-03-31 17:25:20   3600       small              2008  manual     69   \n",
       "\n",
       "   Model  Kilometer  RegistrationMonth  FuelType       Brand NotRepaired  \\\n",
       "0   golf     150000                  0    petrol  volkswagen         NaN   \n",
       "1    NaN     125000                  5  gasoline        audi         yes   \n",
       "2  grand     125000                  8  gasoline        jeep         NaN   \n",
       "3   golf     150000                  6    petrol  volkswagen          no   \n",
       "4  fabia      90000                  7  gasoline       skoda          no   \n",
       "\n",
       "           DateCreated  NumberOfPictures  PostalCode             LastSeen  \n",
       "0  2016-03-24 00:00:00                 0       70435  2016-04-07 03:16:57  \n",
       "1  2016-03-24 00:00:00                 0       66954  2016-04-07 01:46:50  \n",
       "2  2016-03-14 00:00:00                 0       90480  2016-04-05 12:47:46  \n",
       "3  2016-03-17 00:00:00                 0       91074  2016-03-17 17:40:17  \n",
       "4  2016-03-31 00:00:00                 0       60437  2016-04-06 10:17:21  "
      ]
     },
     "execution_count": 3,
     "metadata": {},
     "output_type": "execute_result"
    }
   ],
   "source": [
    "data.head()"
   ]
  },
  {
   "cell_type": "code",
   "execution_count": 4,
   "id": "f09d5b5b",
   "metadata": {},
   "outputs": [
    {
     "name": "stdout",
     "output_type": "stream",
     "text": [
      "<class 'pandas.core.frame.DataFrame'>\n",
      "RangeIndex: 354369 entries, 0 to 354368\n",
      "Data columns (total 16 columns):\n",
      " #   Column             Non-Null Count   Dtype \n",
      "---  ------             --------------   ----- \n",
      " 0   DateCrawled        354369 non-null  object\n",
      " 1   Price              354369 non-null  int64 \n",
      " 2   VehicleType        316879 non-null  object\n",
      " 3   RegistrationYear   354369 non-null  int64 \n",
      " 4   Gearbox            334536 non-null  object\n",
      " 5   Power              354369 non-null  int64 \n",
      " 6   Model              334664 non-null  object\n",
      " 7   Kilometer          354369 non-null  int64 \n",
      " 8   RegistrationMonth  354369 non-null  int64 \n",
      " 9   FuelType           321474 non-null  object\n",
      " 10  Brand              354369 non-null  object\n",
      " 11  NotRepaired        283215 non-null  object\n",
      " 12  DateCreated        354369 non-null  object\n",
      " 13  NumberOfPictures   354369 non-null  int64 \n",
      " 14  PostalCode         354369 non-null  int64 \n",
      " 15  LastSeen           354369 non-null  object\n",
      "dtypes: int64(7), object(9)\n",
      "memory usage: 43.3+ MB\n"
     ]
    }
   ],
   "source": [
    "data.info()"
   ]
  },
  {
   "cell_type": "code",
   "execution_count": 5,
   "id": "18f5bfe2",
   "metadata": {},
   "outputs": [
    {
     "data": {
      "text/html": [
       "<div>\n",
       "<style scoped>\n",
       "    .dataframe tbody tr th:only-of-type {\n",
       "        vertical-align: middle;\n",
       "    }\n",
       "\n",
       "    .dataframe tbody tr th {\n",
       "        vertical-align: top;\n",
       "    }\n",
       "\n",
       "    .dataframe thead th {\n",
       "        text-align: right;\n",
       "    }\n",
       "</style>\n",
       "<table border=\"1\" class=\"dataframe\">\n",
       "  <thead>\n",
       "    <tr style=\"text-align: right;\">\n",
       "      <th></th>\n",
       "      <th>Price</th>\n",
       "      <th>RegistrationYear</th>\n",
       "      <th>Power</th>\n",
       "      <th>Kilometer</th>\n",
       "      <th>RegistrationMonth</th>\n",
       "      <th>NumberOfPictures</th>\n",
       "      <th>PostalCode</th>\n",
       "    </tr>\n",
       "  </thead>\n",
       "  <tbody>\n",
       "    <tr>\n",
       "      <th>count</th>\n",
       "      <td>354369.000000</td>\n",
       "      <td>354369.000000</td>\n",
       "      <td>354369.000000</td>\n",
       "      <td>354369.000000</td>\n",
       "      <td>354369.000000</td>\n",
       "      <td>354369.0</td>\n",
       "      <td>354369.000000</td>\n",
       "    </tr>\n",
       "    <tr>\n",
       "      <th>mean</th>\n",
       "      <td>4416.656776</td>\n",
       "      <td>2004.234448</td>\n",
       "      <td>110.094337</td>\n",
       "      <td>128211.172535</td>\n",
       "      <td>5.714645</td>\n",
       "      <td>0.0</td>\n",
       "      <td>50508.689087</td>\n",
       "    </tr>\n",
       "    <tr>\n",
       "      <th>std</th>\n",
       "      <td>4514.158514</td>\n",
       "      <td>90.227958</td>\n",
       "      <td>189.850405</td>\n",
       "      <td>37905.341530</td>\n",
       "      <td>3.726421</td>\n",
       "      <td>0.0</td>\n",
       "      <td>25783.096248</td>\n",
       "    </tr>\n",
       "    <tr>\n",
       "      <th>min</th>\n",
       "      <td>0.000000</td>\n",
       "      <td>1000.000000</td>\n",
       "      <td>0.000000</td>\n",
       "      <td>5000.000000</td>\n",
       "      <td>0.000000</td>\n",
       "      <td>0.0</td>\n",
       "      <td>1067.000000</td>\n",
       "    </tr>\n",
       "    <tr>\n",
       "      <th>25%</th>\n",
       "      <td>1050.000000</td>\n",
       "      <td>1999.000000</td>\n",
       "      <td>69.000000</td>\n",
       "      <td>125000.000000</td>\n",
       "      <td>3.000000</td>\n",
       "      <td>0.0</td>\n",
       "      <td>30165.000000</td>\n",
       "    </tr>\n",
       "    <tr>\n",
       "      <th>50%</th>\n",
       "      <td>2700.000000</td>\n",
       "      <td>2003.000000</td>\n",
       "      <td>105.000000</td>\n",
       "      <td>150000.000000</td>\n",
       "      <td>6.000000</td>\n",
       "      <td>0.0</td>\n",
       "      <td>49413.000000</td>\n",
       "    </tr>\n",
       "    <tr>\n",
       "      <th>75%</th>\n",
       "      <td>6400.000000</td>\n",
       "      <td>2008.000000</td>\n",
       "      <td>143.000000</td>\n",
       "      <td>150000.000000</td>\n",
       "      <td>9.000000</td>\n",
       "      <td>0.0</td>\n",
       "      <td>71083.000000</td>\n",
       "    </tr>\n",
       "    <tr>\n",
       "      <th>max</th>\n",
       "      <td>20000.000000</td>\n",
       "      <td>9999.000000</td>\n",
       "      <td>20000.000000</td>\n",
       "      <td>150000.000000</td>\n",
       "      <td>12.000000</td>\n",
       "      <td>0.0</td>\n",
       "      <td>99998.000000</td>\n",
       "    </tr>\n",
       "  </tbody>\n",
       "</table>\n",
       "</div>"
      ],
      "text/plain": [
       "               Price  RegistrationYear          Power      Kilometer  \\\n",
       "count  354369.000000     354369.000000  354369.000000  354369.000000   \n",
       "mean     4416.656776       2004.234448     110.094337  128211.172535   \n",
       "std      4514.158514         90.227958     189.850405   37905.341530   \n",
       "min         0.000000       1000.000000       0.000000    5000.000000   \n",
       "25%      1050.000000       1999.000000      69.000000  125000.000000   \n",
       "50%      2700.000000       2003.000000     105.000000  150000.000000   \n",
       "75%      6400.000000       2008.000000     143.000000  150000.000000   \n",
       "max     20000.000000       9999.000000   20000.000000  150000.000000   \n",
       "\n",
       "       RegistrationMonth  NumberOfPictures     PostalCode  \n",
       "count      354369.000000          354369.0  354369.000000  \n",
       "mean            5.714645               0.0   50508.689087  \n",
       "std             3.726421               0.0   25783.096248  \n",
       "min             0.000000               0.0    1067.000000  \n",
       "25%             3.000000               0.0   30165.000000  \n",
       "50%             6.000000               0.0   49413.000000  \n",
       "75%             9.000000               0.0   71083.000000  \n",
       "max            12.000000               0.0   99998.000000  "
      ]
     },
     "execution_count": 5,
     "metadata": {},
     "output_type": "execute_result"
    }
   ],
   "source": [
    "data.describe()\n",
    "# в колонках Power и RegistrationYear есть выбросы.Большой вопрос нужно ли с ними что то делать.\n",
    "# на данном этапе я думаю что оставлю их без изменений"
   ]
  },
  {
   "cell_type": "code",
   "execution_count": 6,
   "id": "90159262",
   "metadata": {},
   "outputs": [
    {
     "data": {
      "image/png": "[encoded data removed]",
      "text/plain": [
       "<Figure size 720x720 with 2 Axes>"
      ]
     },
     "metadata": {
      "needs_background": "light"
     },
     "output_type": "display_data"
    }
   ],
   "source": [
    "# проверка на мультиколлинеарность не дала явных зависимостей\n",
    "matrix = np.triu(data.corr())\n",
    "plt.figure(figsize=(10,10))\n",
    "hm = sns.heatmap(data.corr(),cbar=True,annot=True,cmap= 'coolwarm',mask=matrix)\n",
    "hm.set_title('мультиколлинеарность факторов для data');"
   ]
  },
  {
   "cell_type": "code",
   "execution_count": 7,
   "id": "c60e8458",
   "metadata": {},
   "outputs": [
    {
     "name": "stdout",
     "output_type": "stream",
     "text": [
      "Nan значений в колонке NotRepaired: 71154\n",
      "Nan значений в колонке FuelType: 32895\n",
      "Nan значений в колонке VehicleType: 37490\n",
      "Nan значений в колонке Gearbox: 37490\n"
     ]
    }
   ],
   "source": [
    "# Хочу посмотреть количесвто пропусков по колонкам \n",
    "print('Nan значений в колонке NotRepaired:',data['NotRepaired'].isna().sum())\n",
    "print('Nan значений в колонке FuelType:',data['FuelType'].isna().sum())\n",
    "print('Nan значений в колонке VehicleType:',data['VehicleType'].isna().sum())\n",
    "print('Nan значений в колонке Gearbox:',data['VehicleType'].isna().sum())"
   ]
  },
  {
   "cell_type": "code",
   "execution_count": 8,
   "id": "d94c7e6a",
   "metadata": {},
   "outputs": [
    {
     "data": {
      "text/plain": [
       "sedan          91457\n",
       "small          79831\n",
       "wagon          65166\n",
       "bus            28775\n",
       "convertible    20203\n",
       "coupe          16163\n",
       "suv            11996\n",
       "other           3288\n",
       "Name: VehicleType, dtype: int64"
      ]
     },
     "execution_count": 8,
     "metadata": {},
     "output_type": "execute_result"
    }
   ],
   "source": [
    "#хочу посмотреть типы кузовов\n",
    "data['VehicleType'].value_counts()"
   ]
  },
  {
   "cell_type": "code",
   "execution_count": 9,
   "id": "2964e9ca",
   "metadata": {},
   "outputs": [
    {
     "data": {
      "text/plain": [
       "sedan          91457\n",
       "small          79831\n",
       "wagon          65166\n",
       "bus            28775\n",
       "convertible    20203\n",
       "coupe          16163\n",
       "suv            11996\n",
       "other           3288\n",
       "Name: VehicleType, dtype: int64"
      ]
     },
     "execution_count": 9,
     "metadata": {},
     "output_type": "execute_result"
    }
   ],
   "source": [
    "#хочу посмотреть распределние данных по типу кузова\n",
    "data['VehicleType'].value_counts()"
   ]
  },
  {
   "cell_type": "code",
   "execution_count": 10,
   "id": "761954c7",
   "metadata": {},
   "outputs": [
    {
     "data": {
      "text/plain": [
       "no     247161\n",
       "yes     36054\n",
       "Name: NotRepaired, dtype: int64"
      ]
     },
     "execution_count": 10,
     "metadata": {},
     "output_type": "execute_result"
    }
   ],
   "source": [
    "# хочу посмотреть уникальные значения в колонке NotRepaired\n",
    "data['NotRepaired'].value_counts()"
   ]
  },
  {
   "cell_type": "code",
   "execution_count": 11,
   "id": "34076e52",
   "metadata": {},
   "outputs": [],
   "source": [
    "# в типы кузова  вместо NAn значений поставлю 'unknown'\n",
    "data['VehicleType'] = data['VehicleType'].fillna('unknown')\n",
    "# в колонке NotRepaired так же много пропусков ,заменю их значениеем 'unknown'\n",
    "data['NotRepaired'] = data['NotRepaired'].fillna('unknown')\n",
    "# в колонке NotRepaired так же много пропусков ,заменю их значениеем 'unknown'\n",
    "data['FuelType'] = data['FuelType'].fillna('unknown')\n",
    "# в колонке Model так же много пропусков ,заменю их значениеем 'unknown'\n",
    "data['Model'] = data['Model'].fillna('unknown')\n",
    "#в колонке Gearbox так же много пропусков ,заменю их значением 'unknown'\n",
    "data['Gearbox'] = data['Gearbox'].fillna('unknown')"
   ]
  },
  {
   "cell_type": "code",
   "execution_count": 12,
   "id": "6ebcbf0d",
   "metadata": {},
   "outputs": [],
   "source": [
    "# удалю колонки из датасета:\n",
    "data = data.drop(['NumberOfPictures'], axis=1)\n",
    "data = data.drop(['DateCrawled'], axis=1)\n",
    "data = data.drop(['DateCreated'], axis=1)\n",
    "data = data.drop(['LastSeen'], axis=1)"
   ]
  },
  {
   "cell_type": "code",
   "execution_count": 13,
   "id": "1bff3b5c",
   "metadata": {},
   "outputs": [
    {
     "data": {
      "text/plain": [
       "2000    24490\n",
       "1999    22728\n",
       "2005    22109\n",
       "2001    20124\n",
       "2006    19900\n",
       "        ...  \n",
       "4100        1\n",
       "1200        1\n",
       "5300        1\n",
       "8888        1\n",
       "2290        1\n",
       "Name: RegistrationYear, Length: 151, dtype: int64"
      ]
     },
     "execution_count": 13,
     "metadata": {},
     "output_type": "execute_result"
    }
   ],
   "source": [
    "# в колонке RegistrationYear много аномалий\n",
    "data['RegistrationYear'].value_counts()"
   ]
  },
  {
   "cell_type": "code",
   "execution_count": 14,
   "id": "e939245f",
   "metadata": {},
   "outputs": [
    {
     "data": {
      "text/plain": [
       "count    354369.000000\n",
       "mean       2004.234448\n",
       "std          90.227958\n",
       "min        1000.000000\n",
       "25%        1999.000000\n",
       "50%        2003.000000\n",
       "75%        2008.000000\n",
       "max        9999.000000\n",
       "Name: RegistrationYear, dtype: float64"
      ]
     },
     "execution_count": 14,
     "metadata": {},
     "output_type": "execute_result"
    }
   ],
   "source": [
    "data['RegistrationYear'].describe()"
   ]
  },
  {
   "cell_type": "code",
   "execution_count": 15,
   "id": "beb564a2",
   "metadata": {},
   "outputs": [
    {
     "data": {
      "text/plain": [
       "0        40225\n",
       "75       24023\n",
       "60       15897\n",
       "150      14590\n",
       "101      13298\n",
       "         ...  \n",
       "323          1\n",
       "3454         1\n",
       "1056         1\n",
       "13636        1\n",
       "1158         1\n",
       "Name: Power, Length: 712, dtype: int64"
      ]
     },
     "execution_count": 15,
     "metadata": {},
     "output_type": "execute_result"
    }
   ],
   "source": [
    "# в колонке Power много аномалий\n",
    "data['Power'].value_counts()"
   ]
  },
  {
   "cell_type": "code",
   "execution_count": 16,
   "id": "dad1c16c",
   "metadata": {},
   "outputs": [
    {
     "data": {
      "text/plain": [
       "count    354369.000000\n",
       "mean        110.094337\n",
       "std         189.850405\n",
       "min           0.000000\n",
       "25%          69.000000\n",
       "50%         105.000000\n",
       "75%         143.000000\n",
       "max       20000.000000\n",
       "Name: Power, dtype: float64"
      ]
     },
     "execution_count": 16,
     "metadata": {},
     "output_type": "execute_result"
    }
   ],
   "source": [
    "data['Power'].describe()"
   ]
  },
  {
   "cell_type": "code",
   "execution_count": 17,
   "id": "708c64c1",
   "metadata": {},
   "outputs": [],
   "source": [
    "#собираюсь написать 2 функции для датасета,чтобы усранить аномалии в колонках RegistrationYear и Power\n",
    "#функция magic для колонки RegistrationYear\n",
    "def magic(row):\n",
    "    if row < 1950:\n",
    "        return 1950\n",
    "    if row > 2021:\n",
    "        return 2021\n",
    "    else:\n",
    "        return row\n",
    "    \n",
    "    \n",
    "#функция prodigy для колокни Power\n",
    "def prodigy(row):\n",
    "    if row > 500:\n",
    "        return 500\n",
    "    else:\n",
    "        return row\n",
    "    \n",
    "    \n",
    "data['RegistrationYear'] = data['RegistrationYear'].apply(magic)\n",
    "data['Power'] = data['Power'].apply(prodigy) "
   ]
  },
  {
   "cell_type": "code",
   "execution_count": 18,
   "id": "f98387e3",
   "metadata": {},
   "outputs": [
    {
     "data": {
      "text/plain": [
       "count    354369.000000\n",
       "mean       2003.094718\n",
       "std           7.439022\n",
       "min        1950.000000\n",
       "25%        1999.000000\n",
       "50%        2003.000000\n",
       "75%        2008.000000\n",
       "max        2021.000000\n",
       "Name: RegistrationYear, dtype: float64"
      ]
     },
     "execution_count": 18,
     "metadata": {},
     "output_type": "execute_result"
    }
   ],
   "source": [
    "data['RegistrationYear'].describe()"
   ]
  },
  {
   "cell_type": "code",
   "execution_count": 19,
   "id": "cfcd1e85",
   "metadata": {},
   "outputs": [
    {
     "data": {
      "text/plain": [
       "count    354369.000000\n",
       "mean        106.894534\n",
       "std          64.680768\n",
       "min           0.000000\n",
       "25%          69.000000\n",
       "50%         105.000000\n",
       "75%         143.000000\n",
       "max         500.000000\n",
       "Name: Power, dtype: float64"
      ]
     },
     "execution_count": 19,
     "metadata": {},
     "output_type": "execute_result"
    }
   ],
   "source": [
    "data['Power'].describe()"
   ]
  },
  {
   "cell_type": "markdown",
   "id": "54efcc8a",
   "metadata": {},
   "source": [
    "Я изучил датасет и применил к нему следующие действия:\n",
    "\n",
    "- Вместо значений Nan проставил значения Unknown в колонках VehicleType,NotRepaired,FuelType,Model\n",
    "- Удалил колонки NumberOfPictures,DateCrawled,DateCreated,LastSeen\n",
    "- Я решил оставить выбросы хотя знаю что многие мои коллеги студенты убирали их,я подумал что заменив выбросы другими\n",
    "- В колонке RegistrationYear удалил аномалии и оставил промежуток от 1950 до 2021 года\n",
    "- В колонке Power удалил аномалии и оставил диапазон мощностей от 0 до 500 лошадиных сил значениями данные все равно будут 'исскуственными',поэтому оставил их без изменений"
   ]
  },
  {
   "cell_type": "markdown",
   "id": "00fc02e4",
   "metadata": {},
   "source": [
    "## Обучение моделей"
   ]
  },
  {
   "cell_type": "code",
   "execution_count": 20,
   "id": "db0b7226",
   "metadata": {},
   "outputs": [
    {
     "name": "stdout",
     "output_type": "stream",
     "text": [
      "Размер обучающей выборки: (177184, 313)\n",
      "Размер валидационной выборки: (88592, 313)\n",
      "Размер тестовой выборки: (88593, 313)\n"
     ]
    }
   ],
   "source": [
    "#для начала хочу сделать хот энкодинг \n",
    "#а так же разделю датасет на признаки и таргет\n",
    "data_ohe = pd.get_dummies(data, drop_first=True)\n",
    "features = data_ohe.drop(['Price'], axis=1)\n",
    "target = data_ohe['Price']\n",
    "features_train, features_valid,target_train, target_valid = train_test_split(\n",
    "    features, target, test_size=0.5, random_state=12345)\n",
    "features_valid,features_test,target_valid,target_test = train_test_split(\n",
    "    features_valid,target_valid,test_size=0.5,random_state=12345)\n",
    "#Исследую размеры выборок\n",
    "print('Размер обучающей выборки:',features_train.shape)\n",
    "print('Размер валидационной выборки:',features_valid.shape)\n",
    "print('Размер тестовой выборки:',features_test.shape)"
   ]
  },
  {
   "cell_type": "code",
   "execution_count": 21,
   "id": "2203d099",
   "metadata": {},
   "outputs": [
    {
     "data": {
      "text/html": [
       "<div>\n",
       "<style scoped>\n",
       "    .dataframe tbody tr th:only-of-type {\n",
       "        vertical-align: middle;\n",
       "    }\n",
       "\n",
       "    .dataframe tbody tr th {\n",
       "        vertical-align: top;\n",
       "    }\n",
       "\n",
       "    .dataframe thead th {\n",
       "        text-align: right;\n",
       "    }\n",
       "</style>\n",
       "<table border=\"1\" class=\"dataframe\">\n",
       "  <thead>\n",
       "    <tr style=\"text-align: right;\">\n",
       "      <th></th>\n",
       "      <th>Price</th>\n",
       "      <th>RegistrationYear</th>\n",
       "      <th>Power</th>\n",
       "      <th>Kilometer</th>\n",
       "      <th>RegistrationMonth</th>\n",
       "      <th>PostalCode</th>\n",
       "      <th>VehicleType_convertible</th>\n",
       "      <th>VehicleType_coupe</th>\n",
       "      <th>VehicleType_other</th>\n",
       "      <th>VehicleType_sedan</th>\n",
       "      <th>...</th>\n",
       "      <th>Brand_smart</th>\n",
       "      <th>Brand_sonstige_autos</th>\n",
       "      <th>Brand_subaru</th>\n",
       "      <th>Brand_suzuki</th>\n",
       "      <th>Brand_toyota</th>\n",
       "      <th>Brand_trabant</th>\n",
       "      <th>Brand_volkswagen</th>\n",
       "      <th>Brand_volvo</th>\n",
       "      <th>NotRepaired_unknown</th>\n",
       "      <th>NotRepaired_yes</th>\n",
       "    </tr>\n",
       "  </thead>\n",
       "  <tbody>\n",
       "    <tr>\n",
       "      <th>0</th>\n",
       "      <td>480</td>\n",
       "      <td>1993</td>\n",
       "      <td>0</td>\n",
       "      <td>150000</td>\n",
       "      <td>0</td>\n",
       "      <td>70435</td>\n",
       "      <td>0</td>\n",
       "      <td>0</td>\n",
       "      <td>0</td>\n",
       "      <td>0</td>\n",
       "      <td>...</td>\n",
       "      <td>0</td>\n",
       "      <td>0</td>\n",
       "      <td>0</td>\n",
       "      <td>0</td>\n",
       "      <td>0</td>\n",
       "      <td>0</td>\n",
       "      <td>1</td>\n",
       "      <td>0</td>\n",
       "      <td>1</td>\n",
       "      <td>0</td>\n",
       "    </tr>\n",
       "    <tr>\n",
       "      <th>1</th>\n",
       "      <td>18300</td>\n",
       "      <td>2011</td>\n",
       "      <td>190</td>\n",
       "      <td>125000</td>\n",
       "      <td>5</td>\n",
       "      <td>66954</td>\n",
       "      <td>0</td>\n",
       "      <td>1</td>\n",
       "      <td>0</td>\n",
       "      <td>0</td>\n",
       "      <td>...</td>\n",
       "      <td>0</td>\n",
       "      <td>0</td>\n",
       "      <td>0</td>\n",
       "      <td>0</td>\n",
       "      <td>0</td>\n",
       "      <td>0</td>\n",
       "      <td>0</td>\n",
       "      <td>0</td>\n",
       "      <td>0</td>\n",
       "      <td>1</td>\n",
       "    </tr>\n",
       "    <tr>\n",
       "      <th>2</th>\n",
       "      <td>9800</td>\n",
       "      <td>2004</td>\n",
       "      <td>163</td>\n",
       "      <td>125000</td>\n",
       "      <td>8</td>\n",
       "      <td>90480</td>\n",
       "      <td>0</td>\n",
       "      <td>0</td>\n",
       "      <td>0</td>\n",
       "      <td>0</td>\n",
       "      <td>...</td>\n",
       "      <td>0</td>\n",
       "      <td>0</td>\n",
       "      <td>0</td>\n",
       "      <td>0</td>\n",
       "      <td>0</td>\n",
       "      <td>0</td>\n",
       "      <td>0</td>\n",
       "      <td>0</td>\n",
       "      <td>1</td>\n",
       "      <td>0</td>\n",
       "    </tr>\n",
       "    <tr>\n",
       "      <th>3</th>\n",
       "      <td>1500</td>\n",
       "      <td>2001</td>\n",
       "      <td>75</td>\n",
       "      <td>150000</td>\n",
       "      <td>6</td>\n",
       "      <td>91074</td>\n",
       "      <td>0</td>\n",
       "      <td>0</td>\n",
       "      <td>0</td>\n",
       "      <td>0</td>\n",
       "      <td>...</td>\n",
       "      <td>0</td>\n",
       "      <td>0</td>\n",
       "      <td>0</td>\n",
       "      <td>0</td>\n",
       "      <td>0</td>\n",
       "      <td>0</td>\n",
       "      <td>1</td>\n",
       "      <td>0</td>\n",
       "      <td>0</td>\n",
       "      <td>0</td>\n",
       "    </tr>\n",
       "    <tr>\n",
       "      <th>4</th>\n",
       "      <td>3600</td>\n",
       "      <td>2008</td>\n",
       "      <td>69</td>\n",
       "      <td>90000</td>\n",
       "      <td>7</td>\n",
       "      <td>60437</td>\n",
       "      <td>0</td>\n",
       "      <td>0</td>\n",
       "      <td>0</td>\n",
       "      <td>0</td>\n",
       "      <td>...</td>\n",
       "      <td>0</td>\n",
       "      <td>0</td>\n",
       "      <td>0</td>\n",
       "      <td>0</td>\n",
       "      <td>0</td>\n",
       "      <td>0</td>\n",
       "      <td>0</td>\n",
       "      <td>0</td>\n",
       "      <td>0</td>\n",
       "      <td>0</td>\n",
       "    </tr>\n",
       "  </tbody>\n",
       "</table>\n",
       "<p>5 rows × 314 columns</p>\n",
       "</div>"
      ],
      "text/plain": [
       "   Price  RegistrationYear  Power  Kilometer  RegistrationMonth  PostalCode  \\\n",
       "0    480              1993      0     150000                  0       70435   \n",
       "1  18300              2011    190     125000                  5       66954   \n",
       "2   9800              2004    163     125000                  8       90480   \n",
       "3   1500              2001     75     150000                  6       91074   \n",
       "4   3600              2008     69      90000                  7       60437   \n",
       "\n",
       "   VehicleType_convertible  VehicleType_coupe  VehicleType_other  \\\n",
       "0                        0                  0                  0   \n",
       "1                        0                  1                  0   \n",
       "2                        0                  0                  0   \n",
       "3                        0                  0                  0   \n",
       "4                        0                  0                  0   \n",
       "\n",
       "   VehicleType_sedan  ...  Brand_smart  Brand_sonstige_autos  Brand_subaru  \\\n",
       "0                  0  ...            0                     0             0   \n",
       "1                  0  ...            0                     0             0   \n",
       "2                  0  ...            0                     0             0   \n",
       "3                  0  ...            0                     0             0   \n",
       "4                  0  ...            0                     0             0   \n",
       "\n",
       "   Brand_suzuki  Brand_toyota  Brand_trabant  Brand_volkswagen  Brand_volvo  \\\n",
       "0             0             0              0                 1            0   \n",
       "1             0             0              0                 0            0   \n",
       "2             0             0              0                 0            0   \n",
       "3             0             0              0                 1            0   \n",
       "4             0             0              0                 0            0   \n",
       "\n",
       "   NotRepaired_unknown  NotRepaired_yes  \n",
       "0                    1                0  \n",
       "1                    0                1  \n",
       "2                    1                0  \n",
       "3                    0                0  \n",
       "4                    0                0  \n",
       "\n",
       "[5 rows x 314 columns]"
      ]
     },
     "execution_count": 21,
     "metadata": {},
     "output_type": "execute_result"
    }
   ],
   "source": [
    "data_ohe.head()"
   ]
  },
  {
   "cell_type": "code",
   "execution_count": 22,
   "id": "2249daea",
   "metadata": {},
   "outputs": [
    {
     "name": "stdout",
     "output_type": "stream",
     "text": [
      "RMSE : 2816.2760759365724\n"
     ]
    }
   ],
   "source": [
    "#для начала создам модель линейной регресии\n",
    "model_regression = LinearRegression().fit(features_train,target_train)\n",
    "predict_regression = model_regression.predict(features_valid)\n",
    "mse = mean_squared_error(target_valid,predict_regression)\n",
    "rmse = mse ** 0.5\n",
    "mae = mean_absolute_error(target_valid,predict_regression)\n",
    "print('RMSE :',rmse)"
   ]
  },
  {
   "cell_type": "code",
   "execution_count": 23,
   "id": "c0468a8a",
   "metadata": {},
   "outputs": [
    {
     "name": "stdout",
     "output_type": "stream",
     "text": [
      "RMSE : 1752.487335325214\n",
      "Wall time: 7min 17s\n"
     ]
    }
   ],
   "source": [
    "%%time\n",
    "#создам модель случайного леса\n",
    "model_forest = RandomForestRegressor(random_state=12345).fit(features_train,target_train)\n",
    "predict_forest = model_forest.predict(features_valid)\n",
    "mse = mean_squared_error(target_valid,predict_forest)\n",
    "rmse = mse ** 0.5\n",
    "mae = mean_absolute_error(target_valid,predict_forest)\n",
    "print('RMSE :',rmse)"
   ]
  },
  {
   "cell_type": "code",
   "execution_count": 24,
   "id": "2bd57dea",
   "metadata": {},
   "outputs": [
    {
     "name": "stdout",
     "output_type": "stream",
     "text": [
      "{'n_estimators': 130, 'max_depth': 100}\n",
      "Wall time: 22min 52s\n"
     ]
    }
   ],
   "source": [
    "%%time\n",
    "#постараюсь улучшить модель с RandomizedSearchCV\n",
    "MSE = make_scorer(mse)\n",
    "random_grid = {'max_depth': [10,100],\n",
    "               'n_estimators': [130]}\n",
    "random = RandomizedSearchCV(estimator = model_forest, param_distributions = random_grid, n_iter = 20, \n",
    "                               cv = 2, verbose=0, random_state=42)\n",
    "random.fit(features_train,target_train)\n",
    "print(random.best_params_)\n",
    "#param_grid = { \n",
    "    #'n_estimators': [200, 500],\n",
    "    #'max_depth' : [4,5,6,7,8],\n",
    "#}\n",
    "#cv = GridSearchCV(estimator=model_forest, param_grid=param_grid, cv= 5).fit(features_train,target_train)\n",
    "#print(cv.best_params_)\n",
    "\n",
    "#я попробовал 2 варианта и остановился на варианте RandomizedSearchCV так как он показал результат лучше"
   ]
  },
  {
   "cell_type": "code",
   "execution_count": 25,
   "id": "f9113c10",
   "metadata": {},
   "outputs": [
    {
     "name": "stdout",
     "output_type": "stream",
     "text": [
      "RMSE : 1750.138927550619\n",
      "Wall time: 9min 56s\n"
     ]
    }
   ],
   "source": [
    "%%time\n",
    "model_forest = RandomForestRegressor(random_state=12345,\n",
    "                                     n_estimators=130,max_depth=100).fit(features_train,target_train)\n",
    "predict_forest = model_forest.predict(features_valid)\n",
    "mse = mean_squared_error(target_valid,predict_forest)\n",
    "rmse = mse ** 0.5\n",
    "mae = mean_absolute_error(target_valid,predict_forest)\n",
    "print('RMSE :',rmse)"
   ]
  },
  {
   "cell_type": "code",
   "execution_count": 26,
   "id": "749c17ed",
   "metadata": {},
   "outputs": [
    {
     "name": "stdout",
     "output_type": "stream",
     "text": [
      "<class 'pandas.core.frame.DataFrame'>\n",
      "RangeIndex: 354369 entries, 0 to 354368\n",
      "Data columns (total 12 columns):\n",
      " #   Column             Non-Null Count   Dtype   \n",
      "---  ------             --------------   -----   \n",
      " 0   Price              354369 non-null  int64   \n",
      " 1   VehicleType        354369 non-null  category\n",
      " 2   RegistrationYear   354369 non-null  category\n",
      " 3   Gearbox            354369 non-null  category\n",
      " 4   Power              354369 non-null  int64   \n",
      " 5   Model              354369 non-null  category\n",
      " 6   Kilometer          354369 non-null  int64   \n",
      " 7   RegistrationMonth  354369 non-null  int64   \n",
      " 8   FuelType           354369 non-null  category\n",
      " 9   Brand              354369 non-null  category\n",
      " 10  NotRepaired        354369 non-null  category\n",
      " 11  PostalCode         354369 non-null  category\n",
      "dtypes: category(8), int64(4)\n",
      "memory usage: 14.5 MB\n"
     ]
    }
   ],
   "source": [
    "data['VehicleType'] = data['VehicleType'].astype('category')\n",
    "data['RegistrationYear'] = data['RegistrationYear'].astype('category')\n",
    "data['Gearbox'] = data['Gearbox'].astype('category')\n",
    "data['Model'] = data['Model'].astype('category')\n",
    "data['FuelType'] = data['FuelType'].astype('category')\n",
    "data['Brand'] = data['Brand'].astype('category')\n",
    "data['PostalCode'] = data['PostalCode'].astype('category')\n",
    "data['NotRepaired'] = data['NotRepaired'].astype('category')\n",
    "#теперь снова разобью данные на выборки\n",
    "features_2 = data.drop(['Price'], axis=1)\n",
    "target_2 = data['Price']\n",
    "features_train_2, features_valid_2,target_train_2, target_valid_2 = train_test_split(\n",
    "    features_2, target_2, test_size=0.5, random_state=12345)\n",
    "features_valid_2,features_test_2,target_valid_2,target_test_2 = train_test_split(\n",
    "     features_valid_2,target_valid_2,test_size=0.5,random_state=12345)\n",
    "data.info()"
   ]
  },
  {
   "cell_type": "code",
   "execution_count": 27,
   "id": "b1c8a4b5",
   "metadata": {},
   "outputs": [
    {
     "name": "stdout",
     "output_type": "stream",
     "text": [
      "RMSE : 1800.052830650608\n"
     ]
    }
   ],
   "source": [
    "#создам модель градиентного бустинга\n",
    "model = LGBMRegressor().fit(features_train_2,target_train_2,categorical_feature='auto')\n",
    "predict = model.predict(features_valid_2)\n",
    "mse = mean_squared_error(target_valid_2,predict)\n",
    "rmse = mse ** 0.5\n",
    "print('RMSE :',rmse)"
   ]
  },
  {
   "cell_type": "code",
   "execution_count": 28,
   "id": "7c93c4f5",
   "metadata": {},
   "outputs": [
    {
     "name": "stdout",
     "output_type": "stream",
     "text": [
      "[LightGBM] [Warning] feature_fraction is set=0.8, colsample_bytree=1.0 will be ignored. Current value: feature_fraction=0.8\n",
      "[LightGBM] [Warning] bagging_fraction is set=0.8, subsample=1.0 will be ignored. Current value: bagging_fraction=0.8\n",
      "{'max_depth': 7, 'num_leaves': 95}\n"
     ]
    }
   ],
   "source": [
    "#попробую улучшить показатели градиентного бустинга\n",
    "params_test1={'max_depth': range(3,8,1), 'num_leaves':range(5, 100, 5)}\n",
    "              \n",
    "gsearch1 = GridSearchCV(estimator = LGBMRegressor(boosting_type='gbdt',objective='regression',metrics='mse',\n",
    "                                                  learning_rate=0.1, n_estimators=20, max_depth=6, \n",
    "                                                  bagging_fraction = 0.8,feature_fraction = 0.8), \n",
    "                       param_grid = params_test1, cv=5,n_jobs=-1)\n",
    "gsearch1.fit(features_train_2,target_train_2)\n",
    "print(gsearch1.best_params_)"
   ]
  },
  {
   "cell_type": "code",
   "execution_count": 29,
   "id": "26097ca6",
   "metadata": {},
   "outputs": [
    {
     "name": "stdout",
     "output_type": "stream",
     "text": [
      "{'max_bin': 245, 'min_data_in_leaf': 11}\n"
     ]
    }
   ],
   "source": [
    "params_test2={'max_bin': range(5,256,10), 'min_data_in_leaf':range(1,102,10)}\n",
    "\n",
    "gsearch2 = GridSearchCV(estimator = LGBMRegressor(boosting_type='gbdt',\n",
    "                                                  objective='regression',\n",
    "                                                  metrics='mse',\n",
    "                                                  learning_rate=0.1, \n",
    "                                                  n_estimators=20, \n",
    "                                                  max_depth=7,\n",
    "                                                  num_leaves = 85, \n",
    "                                                  bagging_fraction = 0.8,\n",
    "                                                  feature_fraction = 0.8), \n",
    "                       param_grid = params_test2, cv=5,n_jobs=-1)\n",
    "gsearch2.fit(features_train_2,target_train_2)\n",
    "print(gsearch2.best_params_)"
   ]
  },
  {
   "cell_type": "code",
   "execution_count": 30,
   "id": "ed3a5198",
   "metadata": {},
   "outputs": [
    {
     "name": "stdout",
     "output_type": "stream",
     "text": [
      "{'bagging_fraction': 0.6, 'bagging_freq': 0, 'feature_fraction': 0.8}\n"
     ]
    }
   ],
   "source": [
    "params_test3={'feature_fraction': [0.6,0.7,0.8,0.9,1.0],\n",
    "              'bagging_fraction': [0.6,0.7,0.8,0.9,1.0],\n",
    "              'bagging_freq': range(0,81,10)\n",
    "}\n",
    "gsearch3 = GridSearchCV(estimator = LGBMRegressor(boosting_type='gbdt',\n",
    "                                                  objective='regression',\n",
    "                                                  metrics='mse',\n",
    "                                                  learning_rate=0.1, \n",
    "                                                  n_estimators=20, \n",
    "                                                  max_depth=7,num_leaves = 85,\n",
    "                                                  max_bin = 195,\n",
    "                                                  min_data_in_leaf = 1, \n",
    "                                                  bagging_fraction = 0.8,\n",
    "                                                  feature_fraction = 0.8), \n",
    "                       param_grid = params_test3, cv=5,n_jobs=-1)\n",
    "gsearch3.fit(features_train_2,target_train_2)\n",
    "print(gsearch3.best_params_)"
   ]
  },
  {
   "cell_type": "code",
   "execution_count": 31,
   "id": "9e609348",
   "metadata": {},
   "outputs": [
    {
     "name": "stdout",
     "output_type": "stream",
     "text": [
      "RMSE : 1779.7100380915697\n",
      "Модель улучшилась\n",
      "Wall time: 1.54 s\n"
     ]
    }
   ],
   "source": [
    "%%time\n",
    "#посмотрим улучшилась ли наша модель\n",
    "model = LGBMRegressor(\n",
    "max_depth=7,num_leaves=95,max_bin=245,min_data_in_leaf=11,bagging_fraction=0.6,bagging_freq=0,\n",
    "feature_fraction=0.8).fit(features_train_2,target_train_2)\n",
    "predict = model.predict(features_valid_2)\n",
    "mse = mean_squared_error(target_valid_2,predict)\n",
    "rmse = mse ** 0.5\n",
    "mae = mean_absolute_error(target_valid_2,predict)\n",
    "print('RMSE :',rmse)\n",
    "if rmse < 1800.052830650608:\n",
    "    print('Модель улучшилась')"
   ]
  },
  {
   "cell_type": "markdown",
   "id": "8a523a3c",
   "metadata": {},
   "source": [
    "Я сделал hot encoding для датасета ,а так же разбил данные на выборки-обучающаю,валидационную и тестовую.\n",
    "Я обучил 3 модели:\n",
    "- LinearRegression\n",
    "- RandomForestRegressor\n",
    "- LGBMRegressor\n",
    "\n",
    "LinearRegression показала очень низкие результаты.RandomForestRegressor и LGBMRegressor показали значительно лучшие результаты,а подобрав к ним гиперпараметры я смог еще немного их улучшить."
   ]
  },
  {
   "cell_type": "markdown",
   "id": "c3374f6b",
   "metadata": {},
   "source": [
    "## Анализ моделей"
   ]
  },
  {
   "cell_type": "code",
   "execution_count": 32,
   "id": "6ccd846c",
   "metadata": {},
   "outputs": [
    {
     "name": "stdout",
     "output_type": "stream",
     "text": [
      "Wall time: 10min 36s\n"
     ]
    }
   ],
   "source": [
    "%%time\n",
    "#собираюсь проанализировать модели на тестовой выборке \n",
    "#для начала модель случайного леса\n",
    "model_forest = RandomForestRegressor(random_state=12345,\n",
    "                                     n_estimators=130,max_depth=100).fit(features_train,target_train)"
   ]
  },
  {
   "cell_type": "code",
   "execution_count": 33,
   "id": "1af9f00d",
   "metadata": {},
   "outputs": [
    {
     "name": "stdout",
     "output_type": "stream",
     "text": [
      "RMSE : 1743.6734010645612\n",
      "Wall time: 4.94 s\n"
     ]
    }
   ],
   "source": [
    "%%time\n",
    "predict_forest = model_forest.predict(features_test)\n",
    "mse = mean_squared_error(target_test,predict_forest)\n",
    "rmse = mse ** 0.5\n",
    "mae = mean_absolute_error(target_test,predict_forest)\n",
    "print('RMSE :',rmse)"
   ]
  },
  {
   "cell_type": "code",
   "execution_count": 34,
   "id": "5669392d",
   "metadata": {},
   "outputs": [
    {
     "name": "stdout",
     "output_type": "stream",
     "text": [
      "[LightGBM] [Warning] feature_fraction is set=0.8, colsample_bytree=1.0 will be ignored. Current value: feature_fraction=0.8\n",
      "[LightGBM] [Warning] min_data_in_leaf is set=11, min_child_samples=20 will be ignored. Current value: min_data_in_leaf=11\n",
      "[LightGBM] [Warning] bagging_fraction is set=0.6, subsample=1.0 will be ignored. Current value: bagging_fraction=0.6\n",
      "[LightGBM] [Warning] bagging_freq is set=0, subsample_freq=0 will be ignored. Current value: bagging_freq=0\n",
      "Wall time: 1.02 s\n"
     ]
    }
   ],
   "source": [
    "%%time\n",
    "#теперь модель градиентного бустинга\n",
    "model = LGBMRegressor(\n",
    "max_depth=7,num_leaves=95,max_bin=245,min_data_in_leaf=11,bagging_fraction=0.6,bagging_freq=0,\n",
    "feature_fraction=0.8).fit(features_train_2,target_train_2)"
   ]
  },
  {
   "cell_type": "code",
   "execution_count": 35,
   "id": "222106fb",
   "metadata": {},
   "outputs": [
    {
     "name": "stdout",
     "output_type": "stream",
     "text": [
      "RMSE : 1764.662817398292\n",
      "Wall time: 271 ms\n"
     ]
    }
   ],
   "source": [
    "%%time\n",
    "predict = model.predict(features_test_2)\n",
    "mse = mean_squared_error(target_test_2,predict)\n",
    "rmse = mse ** 0.5\n",
    "mae = mean_absolute_error(target_test_2,predict)\n",
    "print('RMSE :',rmse)"
   ]
  },
  {
   "cell_type": "code",
   "execution_count": 36,
   "id": "7e568e58",
   "metadata": {},
   "outputs": [
    {
     "data": {
      "text/plain": [
       "0.988105707148816"
      ]
     },
     "execution_count": 36,
     "metadata": {},
     "output_type": "execute_result"
    }
   ],
   "source": [
    "1743.6734010645612 / 1764.662817398292"
   ]
  },
  {
   "cell_type": "code",
   "execution_count": 38,
   "id": "ceb62459",
   "metadata": {},
   "outputs": [
    {
     "data": {
      "text/html": [
       "<div>\n",
       "<style scoped>\n",
       "    .dataframe tbody tr th:only-of-type {\n",
       "        vertical-align: middle;\n",
       "    }\n",
       "\n",
       "    .dataframe tbody tr th {\n",
       "        vertical-align: top;\n",
       "    }\n",
       "\n",
       "    .dataframe thead th {\n",
       "        text-align: right;\n",
       "    }\n",
       "</style>\n",
       "<table border=\"1\" class=\"dataframe\">\n",
       "  <thead>\n",
       "    <tr style=\"text-align: right;\">\n",
       "      <th></th>\n",
       "      <th>test</th>\n",
       "      <th>RandomForestRegressor</th>\n",
       "      <th>LGBMRegressor</th>\n",
       "    </tr>\n",
       "  </thead>\n",
       "  <tbody>\n",
       "    <tr>\n",
       "      <th>0</th>\n",
       "      <td>Качество предсказания RMSE</td>\n",
       "      <td>1743.6734010645612</td>\n",
       "      <td>1764.662817398292</td>\n",
       "    </tr>\n",
       "    <tr>\n",
       "      <th>1</th>\n",
       "      <td>Скорость предсказания</td>\n",
       "      <td>4.94 s</td>\n",
       "      <td>271 ms</td>\n",
       "    </tr>\n",
       "    <tr>\n",
       "      <th>2</th>\n",
       "      <td>Время обучения</td>\n",
       "      <td>10min 36s</td>\n",
       "      <td>1.02 s</td>\n",
       "    </tr>\n",
       "  </tbody>\n",
       "</table>\n",
       "</div>"
      ],
      "text/plain": [
       "                         test RandomForestRegressor      LGBMRegressor\n",
       "0  Качество предсказания RMSE    1743.6734010645612  1764.662817398292\n",
       "1       Скорость предсказания                4.94 s             271 ms\n",
       "2              Время обучения             10min 36s             1.02 s"
      ]
     },
     "execution_count": 38,
     "metadata": {},
     "output_type": "execute_result"
    }
   ],
   "source": [
    "final_df = pd.DataFrame({'test':['Качество предсказания RMSE','Скорость предсказания','Время обучения'],\n",
    "                         'RandomForestRegressor':['1743.6734010645612','4.94 s','10min 36s'],\n",
    "                         'LGBMRegressor':['1764.662817398292','271 ms','1.02 s']\n",
    "                         })\n",
    "final_df"
   ]
  },
  {
   "cell_type": "markdown",
   "id": "673a6e66",
   "metadata": {},
   "source": [
    "## Вывод"
   ]
  },
  {
   "cell_type": "markdown",
   "id": "100773a0",
   "metadata": {},
   "source": [
    "Для финального тестирования я отобрал 2 модели - RandomForestRegressor и LGBMRegressor.Точность случайного леса выше  на \n",
    "1.2% ,но время обучения модели намного ниже.LGBMRegressor справляется с обучением за 1 секунду ,в то время как случайному лесу для такой же задачи нужно  10 минут.Время предсказания моделей так же отличается - LGBMRegressor тратит на это  секунды ,а случайному лесу нужно почти 5 секунд."
   ]
  }
 ],
 "metadata": {
  "kernelspec": {
   "display_name": "Python 3",
   "language": "python",
   "name": "python3"
  },
  "language_info": {
   "codemirror_mode": {
    "name": "ipython",
    "version": 3
   },
   "file_extension": ".py",
   "mimetype": "text/x-python",
   "name": "python",
   "nbconvert_exporter": "python",
   "pygments_lexer": "ipython3",
   "version": "3.8.8"
  }
 },
 "nbformat": 4,
 "nbformat_minor": 5
}
