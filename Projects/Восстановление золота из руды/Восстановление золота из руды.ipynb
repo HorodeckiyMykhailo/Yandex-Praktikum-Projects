{
 "cells": [
  {
   "cell_type": "markdown",
   "id": "b228cb2c",
   "metadata": {},
   "source": [
    "# Восстановление золота из руды"
   ]
  },
  {
   "cell_type": "markdown",
   "id": "aa7b0578",
   "metadata": {},
   "source": [
    "## Подготовка данных"
   ]
  },
  {
   "cell_type": "code",
   "execution_count": 1,
   "id": "d4edc6ff",
   "metadata": {},
   "outputs": [],
   "source": [
    "import pandas as pd\n",
    "import numpy as np\n",
    "import seaborn as sns\n",
    "import matplotlib.pyplot as plt\n",
    "from sklearn.metrics import mean_absolute_error\n",
    "from warnings import simplefilter\n",
    "from sklearn.model_selection import train_test_split\n",
    "import seaborn as sns\n",
    "from sklearn.tree import DecisionTreeRegressor\n",
    "from sklearn.ensemble import RandomForestRegressor\n",
    "from sklearn.linear_model import LinearRegression\n",
    "from sklearn.dummy import DummyRegressor\n",
    "from sklearn.metrics import make_scorer\n",
    "from sklearn.model_selection import cross_val_score\n",
    "from sklearn.model_selection import GridSearchCV"
   ]
  },
  {
   "cell_type": "code",
   "execution_count": 2,
   "id": "773956fc",
   "metadata": {},
   "outputs": [],
   "source": [
    "data_train = pd.read_csv('downloads/dataset/gold_recovery_train_new.csv')\n",
    "data_test = pd.read_csv('downloads/dataset/gold_recovery_test_new.csv')\n",
    "data_full = pd.read_csv('downloads/dataset/gold_recovery_full_new.csv')\n",
    "simplefilter(action='ignore', category=FutureWarning)"
   ]
  },
  {
   "cell_type": "markdown",
   "id": "e271c329",
   "metadata": {},
   "source": [
    "### Изучение файлов"
   ]
  },
  {
   "cell_type": "code",
   "execution_count": 3,
   "id": "3af17aa3",
   "metadata": {},
   "outputs": [
    {
     "data": {
      "text/html": [
       "<div>\n",
       "<style scoped>\n",
       "    .dataframe tbody tr th:only-of-type {\n",
       "        vertical-align: middle;\n",
       "    }\n",
       "\n",
       "    .dataframe tbody tr th {\n",
       "        vertical-align: top;\n",
       "    }\n",
       "\n",
       "    .dataframe thead th {\n",
       "        text-align: right;\n",
       "    }\n",
       "</style>\n",
       "<table border=\"1\" class=\"dataframe\">\n",
       "  <thead>\n",
       "    <tr style=\"text-align: right;\">\n",
       "      <th></th>\n",
       "      <th>date</th>\n",
       "      <th>final.output.concentrate_ag</th>\n",
       "      <th>final.output.concentrate_pb</th>\n",
       "      <th>final.output.concentrate_sol</th>\n",
       "      <th>final.output.concentrate_au</th>\n",
       "      <th>final.output.recovery</th>\n",
       "      <th>final.output.tail_ag</th>\n",
       "      <th>final.output.tail_pb</th>\n",
       "      <th>final.output.tail_sol</th>\n",
       "      <th>final.output.tail_au</th>\n",
       "      <th>...</th>\n",
       "      <th>secondary_cleaner.state.floatbank4_a_air</th>\n",
       "      <th>secondary_cleaner.state.floatbank4_a_level</th>\n",
       "      <th>secondary_cleaner.state.floatbank4_b_air</th>\n",
       "      <th>secondary_cleaner.state.floatbank4_b_level</th>\n",
       "      <th>secondary_cleaner.state.floatbank5_a_air</th>\n",
       "      <th>secondary_cleaner.state.floatbank5_a_level</th>\n",
       "      <th>secondary_cleaner.state.floatbank5_b_air</th>\n",
       "      <th>secondary_cleaner.state.floatbank5_b_level</th>\n",
       "      <th>secondary_cleaner.state.floatbank6_a_air</th>\n",
       "      <th>secondary_cleaner.state.floatbank6_a_level</th>\n",
       "    </tr>\n",
       "  </thead>\n",
       "  <tbody>\n",
       "    <tr>\n",
       "      <th>0</th>\n",
       "      <td>2016-01-15 00:00:00</td>\n",
       "      <td>6.055403</td>\n",
       "      <td>9.889648</td>\n",
       "      <td>5.507324</td>\n",
       "      <td>42.192020</td>\n",
       "      <td>70.541216</td>\n",
       "      <td>10.411962</td>\n",
       "      <td>0.895447</td>\n",
       "      <td>16.904297</td>\n",
       "      <td>2.143149</td>\n",
       "      <td>...</td>\n",
       "      <td>14.016835</td>\n",
       "      <td>-502.488007</td>\n",
       "      <td>12.099931</td>\n",
       "      <td>-504.715942</td>\n",
       "      <td>9.925633</td>\n",
       "      <td>-498.310211</td>\n",
       "      <td>8.079666</td>\n",
       "      <td>-500.470978</td>\n",
       "      <td>14.151341</td>\n",
       "      <td>-605.841980</td>\n",
       "    </tr>\n",
       "    <tr>\n",
       "      <th>1</th>\n",
       "      <td>2016-01-15 01:00:00</td>\n",
       "      <td>6.029369</td>\n",
       "      <td>9.968944</td>\n",
       "      <td>5.257781</td>\n",
       "      <td>42.701629</td>\n",
       "      <td>69.266198</td>\n",
       "      <td>10.462676</td>\n",
       "      <td>0.927452</td>\n",
       "      <td>16.634514</td>\n",
       "      <td>2.224930</td>\n",
       "      <td>...</td>\n",
       "      <td>13.992281</td>\n",
       "      <td>-505.503262</td>\n",
       "      <td>11.950531</td>\n",
       "      <td>-501.331529</td>\n",
       "      <td>10.039245</td>\n",
       "      <td>-500.169983</td>\n",
       "      <td>7.984757</td>\n",
       "      <td>-500.582168</td>\n",
       "      <td>13.998353</td>\n",
       "      <td>-599.787184</td>\n",
       "    </tr>\n",
       "    <tr>\n",
       "      <th>2</th>\n",
       "      <td>2016-01-15 02:00:00</td>\n",
       "      <td>6.055926</td>\n",
       "      <td>10.213995</td>\n",
       "      <td>5.383759</td>\n",
       "      <td>42.657501</td>\n",
       "      <td>68.116445</td>\n",
       "      <td>10.507046</td>\n",
       "      <td>0.953716</td>\n",
       "      <td>16.208849</td>\n",
       "      <td>2.257889</td>\n",
       "      <td>...</td>\n",
       "      <td>14.015015</td>\n",
       "      <td>-502.520901</td>\n",
       "      <td>11.912783</td>\n",
       "      <td>-501.133383</td>\n",
       "      <td>10.070913</td>\n",
       "      <td>-500.129135</td>\n",
       "      <td>8.013877</td>\n",
       "      <td>-500.517572</td>\n",
       "      <td>14.028663</td>\n",
       "      <td>-601.427363</td>\n",
       "    </tr>\n",
       "    <tr>\n",
       "      <th>3</th>\n",
       "      <td>2016-01-15 03:00:00</td>\n",
       "      <td>6.047977</td>\n",
       "      <td>9.977019</td>\n",
       "      <td>4.858634</td>\n",
       "      <td>42.689819</td>\n",
       "      <td>68.347543</td>\n",
       "      <td>10.422762</td>\n",
       "      <td>0.883763</td>\n",
       "      <td>16.532835</td>\n",
       "      <td>2.146849</td>\n",
       "      <td>...</td>\n",
       "      <td>14.036510</td>\n",
       "      <td>-500.857308</td>\n",
       "      <td>11.999550</td>\n",
       "      <td>-501.193686</td>\n",
       "      <td>9.970366</td>\n",
       "      <td>-499.201640</td>\n",
       "      <td>7.977324</td>\n",
       "      <td>-500.255908</td>\n",
       "      <td>14.005551</td>\n",
       "      <td>-599.996129</td>\n",
       "    </tr>\n",
       "    <tr>\n",
       "      <th>4</th>\n",
       "      <td>2016-01-15 04:00:00</td>\n",
       "      <td>6.148599</td>\n",
       "      <td>10.142511</td>\n",
       "      <td>4.939416</td>\n",
       "      <td>42.774141</td>\n",
       "      <td>66.927016</td>\n",
       "      <td>10.360302</td>\n",
       "      <td>0.792826</td>\n",
       "      <td>16.525686</td>\n",
       "      <td>2.055292</td>\n",
       "      <td>...</td>\n",
       "      <td>14.027298</td>\n",
       "      <td>-499.838632</td>\n",
       "      <td>11.953070</td>\n",
       "      <td>-501.053894</td>\n",
       "      <td>9.925709</td>\n",
       "      <td>-501.686727</td>\n",
       "      <td>7.894242</td>\n",
       "      <td>-500.356035</td>\n",
       "      <td>13.996647</td>\n",
       "      <td>-601.496691</td>\n",
       "    </tr>\n",
       "  </tbody>\n",
       "</table>\n",
       "<p>5 rows × 87 columns</p>\n",
       "</div>"
      ],
      "text/plain": [
       "                  date  final.output.concentrate_ag  \\\n",
       "0  2016-01-15 00:00:00                     6.055403   \n",
       "1  2016-01-15 01:00:00                     6.029369   \n",
       "2  2016-01-15 02:00:00                     6.055926   \n",
       "3  2016-01-15 03:00:00                     6.047977   \n",
       "4  2016-01-15 04:00:00                     6.148599   \n",
       "\n",
       "   final.output.concentrate_pb  final.output.concentrate_sol  \\\n",
       "0                     9.889648                      5.507324   \n",
       "1                     9.968944                      5.257781   \n",
       "2                    10.213995                      5.383759   \n",
       "3                     9.977019                      4.858634   \n",
       "4                    10.142511                      4.939416   \n",
       "\n",
       "   final.output.concentrate_au  final.output.recovery  final.output.tail_ag  \\\n",
       "0                    42.192020              70.541216             10.411962   \n",
       "1                    42.701629              69.266198             10.462676   \n",
       "2                    42.657501              68.116445             10.507046   \n",
       "3                    42.689819              68.347543             10.422762   \n",
       "4                    42.774141              66.927016             10.360302   \n",
       "\n",
       "   final.output.tail_pb  final.output.tail_sol  final.output.tail_au  ...  \\\n",
       "0              0.895447              16.904297              2.143149  ...   \n",
       "1              0.927452              16.634514              2.224930  ...   \n",
       "2              0.953716              16.208849              2.257889  ...   \n",
       "3              0.883763              16.532835              2.146849  ...   \n",
       "4              0.792826              16.525686              2.055292  ...   \n",
       "\n",
       "   secondary_cleaner.state.floatbank4_a_air  \\\n",
       "0                                 14.016835   \n",
       "1                                 13.992281   \n",
       "2                                 14.015015   \n",
       "3                                 14.036510   \n",
       "4                                 14.027298   \n",
       "\n",
       "   secondary_cleaner.state.floatbank4_a_level  \\\n",
       "0                                 -502.488007   \n",
       "1                                 -505.503262   \n",
       "2                                 -502.520901   \n",
       "3                                 -500.857308   \n",
       "4                                 -499.838632   \n",
       "\n",
       "   secondary_cleaner.state.floatbank4_b_air  \\\n",
       "0                                 12.099931   \n",
       "1                                 11.950531   \n",
       "2                                 11.912783   \n",
       "3                                 11.999550   \n",
       "4                                 11.953070   \n",
       "\n",
       "   secondary_cleaner.state.floatbank4_b_level  \\\n",
       "0                                 -504.715942   \n",
       "1                                 -501.331529   \n",
       "2                                 -501.133383   \n",
       "3                                 -501.193686   \n",
       "4                                 -501.053894   \n",
       "\n",
       "   secondary_cleaner.state.floatbank5_a_air  \\\n",
       "0                                  9.925633   \n",
       "1                                 10.039245   \n",
       "2                                 10.070913   \n",
       "3                                  9.970366   \n",
       "4                                  9.925709   \n",
       "\n",
       "   secondary_cleaner.state.floatbank5_a_level  \\\n",
       "0                                 -498.310211   \n",
       "1                                 -500.169983   \n",
       "2                                 -500.129135   \n",
       "3                                 -499.201640   \n",
       "4                                 -501.686727   \n",
       "\n",
       "   secondary_cleaner.state.floatbank5_b_air  \\\n",
       "0                                  8.079666   \n",
       "1                                  7.984757   \n",
       "2                                  8.013877   \n",
       "3                                  7.977324   \n",
       "4                                  7.894242   \n",
       "\n",
       "   secondary_cleaner.state.floatbank5_b_level  \\\n",
       "0                                 -500.470978   \n",
       "1                                 -500.582168   \n",
       "2                                 -500.517572   \n",
       "3                                 -500.255908   \n",
       "4                                 -500.356035   \n",
       "\n",
       "   secondary_cleaner.state.floatbank6_a_air  \\\n",
       "0                                 14.151341   \n",
       "1                                 13.998353   \n",
       "2                                 14.028663   \n",
       "3                                 14.005551   \n",
       "4                                 13.996647   \n",
       "\n",
       "   secondary_cleaner.state.floatbank6_a_level  \n",
       "0                                 -605.841980  \n",
       "1                                 -599.787184  \n",
       "2                                 -601.427363  \n",
       "3                                 -599.996129  \n",
       "4                                 -601.496691  \n",
       "\n",
       "[5 rows x 87 columns]"
      ]
     },
     "execution_count": 3,
     "metadata": {},
     "output_type": "execute_result"
    }
   ],
   "source": [
    "data_train.head()"
   ]
  },
  {
   "cell_type": "code",
   "execution_count": 4,
   "id": "2bb3e308",
   "metadata": {},
   "outputs": [
    {
     "name": "stdout",
     "output_type": "stream",
     "text": [
      "<class 'pandas.core.frame.DataFrame'>\n",
      "RangeIndex: 14149 entries, 0 to 14148\n",
      "Data columns (total 87 columns):\n",
      " #   Column                                              Non-Null Count  Dtype  \n",
      "---  ------                                              --------------  -----  \n",
      " 0   date                                                14149 non-null  object \n",
      " 1   final.output.concentrate_ag                         14148 non-null  float64\n",
      " 2   final.output.concentrate_pb                         14148 non-null  float64\n",
      " 3   final.output.concentrate_sol                        13938 non-null  float64\n",
      " 4   final.output.concentrate_au                         14149 non-null  float64\n",
      " 5   final.output.recovery                               14149 non-null  float64\n",
      " 6   final.output.tail_ag                                14149 non-null  float64\n",
      " 7   final.output.tail_pb                                14049 non-null  float64\n",
      " 8   final.output.tail_sol                               14144 non-null  float64\n",
      " 9   final.output.tail_au                                14149 non-null  float64\n",
      " 10  primary_cleaner.input.sulfate                       14129 non-null  float64\n",
      " 11  primary_cleaner.input.depressant                    14117 non-null  float64\n",
      " 12  primary_cleaner.input.feed_size                     14149 non-null  float64\n",
      " 13  primary_cleaner.input.xanthate                      14049 non-null  float64\n",
      " 14  primary_cleaner.output.concentrate_ag               14149 non-null  float64\n",
      " 15  primary_cleaner.output.concentrate_pb               14063 non-null  float64\n",
      " 16  primary_cleaner.output.concentrate_sol              13863 non-null  float64\n",
      " 17  primary_cleaner.output.concentrate_au               14149 non-null  float64\n",
      " 18  primary_cleaner.output.tail_ag                      14148 non-null  float64\n",
      " 19  primary_cleaner.output.tail_pb                      14134 non-null  float64\n",
      " 20  primary_cleaner.output.tail_sol                     14103 non-null  float64\n",
      " 21  primary_cleaner.output.tail_au                      14149 non-null  float64\n",
      " 22  primary_cleaner.state.floatbank8_a_air              14145 non-null  float64\n",
      " 23  primary_cleaner.state.floatbank8_a_level            14148 non-null  float64\n",
      " 24  primary_cleaner.state.floatbank8_b_air              14145 non-null  float64\n",
      " 25  primary_cleaner.state.floatbank8_b_level            14148 non-null  float64\n",
      " 26  primary_cleaner.state.floatbank8_c_air              14147 non-null  float64\n",
      " 27  primary_cleaner.state.floatbank8_c_level            14148 non-null  float64\n",
      " 28  primary_cleaner.state.floatbank8_d_air              14146 non-null  float64\n",
      " 29  primary_cleaner.state.floatbank8_d_level            14148 non-null  float64\n",
      " 30  rougher.calculation.sulfate_to_au_concentrate       14148 non-null  float64\n",
      " 31  rougher.calculation.floatbank10_sulfate_to_au_feed  14148 non-null  float64\n",
      " 32  rougher.calculation.floatbank11_sulfate_to_au_feed  14148 non-null  float64\n",
      " 33  rougher.calculation.au_pb_ratio                     14149 non-null  float64\n",
      " 34  rougher.input.feed_ag                               14149 non-null  float64\n",
      " 35  rougher.input.feed_pb                               14049 non-null  float64\n",
      " 36  rougher.input.feed_rate                             14141 non-null  float64\n",
      " 37  rougher.input.feed_size                             14005 non-null  float64\n",
      " 38  rougher.input.feed_sol                              14071 non-null  float64\n",
      " 39  rougher.input.feed_au                               14149 non-null  float64\n",
      " 40  rougher.input.floatbank10_sulfate                   14120 non-null  float64\n",
      " 41  rougher.input.floatbank10_xanthate                  14141 non-null  float64\n",
      " 42  rougher.input.floatbank11_sulfate                   14113 non-null  float64\n",
      " 43  rougher.input.floatbank11_xanthate                  13721 non-null  float64\n",
      " 44  rougher.output.concentrate_ag                       14149 non-null  float64\n",
      " 45  rougher.output.concentrate_pb                       14149 non-null  float64\n",
      " 46  rougher.output.concentrate_sol                      14127 non-null  float64\n",
      " 47  rougher.output.concentrate_au                       14149 non-null  float64\n",
      " 48  rougher.output.recovery                             14149 non-null  float64\n",
      " 49  rougher.output.tail_ag                              14148 non-null  float64\n",
      " 50  rougher.output.tail_pb                              14149 non-null  float64\n",
      " 51  rougher.output.tail_sol                             14149 non-null  float64\n",
      " 52  rougher.output.tail_au                              14149 non-null  float64\n",
      " 53  rougher.state.floatbank10_a_air                     14148 non-null  float64\n",
      " 54  rougher.state.floatbank10_a_level                   14148 non-null  float64\n",
      " 55  rougher.state.floatbank10_b_air                     14148 non-null  float64\n",
      " 56  rougher.state.floatbank10_b_level                   14148 non-null  float64\n",
      " 57  rougher.state.floatbank10_c_air                     14148 non-null  float64\n",
      " 58  rougher.state.floatbank10_c_level                   14148 non-null  float64\n",
      " 59  rougher.state.floatbank10_d_air                     14149 non-null  float64\n",
      " 60  rougher.state.floatbank10_d_level                   14149 non-null  float64\n",
      " 61  rougher.state.floatbank10_e_air                     13713 non-null  float64\n",
      " 62  rougher.state.floatbank10_e_level                   14149 non-null  float64\n",
      " 63  rougher.state.floatbank10_f_air                     14149 non-null  float64\n",
      " 64  rougher.state.floatbank10_f_level                   14149 non-null  float64\n",
      " 65  secondary_cleaner.output.tail_ag                    14147 non-null  float64\n",
      " 66  secondary_cleaner.output.tail_pb                    14139 non-null  float64\n",
      " 67  secondary_cleaner.output.tail_sol                   12544 non-null  float64\n",
      " 68  secondary_cleaner.output.tail_au                    14149 non-null  float64\n",
      " 69  secondary_cleaner.state.floatbank2_a_air            13932 non-null  float64\n",
      " 70  secondary_cleaner.state.floatbank2_a_level          14148 non-null  float64\n",
      " 71  secondary_cleaner.state.floatbank2_b_air            14128 non-null  float64\n",
      " 72  secondary_cleaner.state.floatbank2_b_level          14148 non-null  float64\n",
      " 73  secondary_cleaner.state.floatbank3_a_air            14145 non-null  float64\n",
      " 74  secondary_cleaner.state.floatbank3_a_level          14148 non-null  float64\n",
      " 75  secondary_cleaner.state.floatbank3_b_air            14148 non-null  float64\n",
      " 76  secondary_cleaner.state.floatbank3_b_level          14148 non-null  float64\n",
      " 77  secondary_cleaner.state.floatbank4_a_air            14143 non-null  float64\n",
      " 78  secondary_cleaner.state.floatbank4_a_level          14148 non-null  float64\n",
      " 79  secondary_cleaner.state.floatbank4_b_air            14148 non-null  float64\n",
      " 80  secondary_cleaner.state.floatbank4_b_level          14148 non-null  float64\n",
      " 81  secondary_cleaner.state.floatbank5_a_air            14148 non-null  float64\n",
      " 82  secondary_cleaner.state.floatbank5_a_level          14148 non-null  float64\n",
      " 83  secondary_cleaner.state.floatbank5_b_air            14148 non-null  float64\n",
      " 84  secondary_cleaner.state.floatbank5_b_level          14148 non-null  float64\n",
      " 85  secondary_cleaner.state.floatbank6_a_air            14147 non-null  float64\n",
      " 86  secondary_cleaner.state.floatbank6_a_level          14148 non-null  float64\n",
      "dtypes: float64(86), object(1)\n",
      "memory usage: 9.4+ MB\n"
     ]
    }
   ],
   "source": [
    "#тренировочная выборка\n",
    "data_train.info()"
   ]
  },
  {
   "cell_type": "code",
   "execution_count": 5,
   "id": "69dc475c",
   "metadata": {},
   "outputs": [
    {
     "data": {
      "text/html": [
       "<div>\n",
       "<style scoped>\n",
       "    .dataframe tbody tr th:only-of-type {\n",
       "        vertical-align: middle;\n",
       "    }\n",
       "\n",
       "    .dataframe tbody tr th {\n",
       "        vertical-align: top;\n",
       "    }\n",
       "\n",
       "    .dataframe thead th {\n",
       "        text-align: right;\n",
       "    }\n",
       "</style>\n",
       "<table border=\"1\" class=\"dataframe\">\n",
       "  <thead>\n",
       "    <tr style=\"text-align: right;\">\n",
       "      <th></th>\n",
       "      <th>date</th>\n",
       "      <th>primary_cleaner.input.sulfate</th>\n",
       "      <th>primary_cleaner.input.depressant</th>\n",
       "      <th>primary_cleaner.input.feed_size</th>\n",
       "      <th>primary_cleaner.input.xanthate</th>\n",
       "      <th>primary_cleaner.state.floatbank8_a_air</th>\n",
       "      <th>primary_cleaner.state.floatbank8_a_level</th>\n",
       "      <th>primary_cleaner.state.floatbank8_b_air</th>\n",
       "      <th>primary_cleaner.state.floatbank8_b_level</th>\n",
       "      <th>primary_cleaner.state.floatbank8_c_air</th>\n",
       "      <th>...</th>\n",
       "      <th>secondary_cleaner.state.floatbank4_a_air</th>\n",
       "      <th>secondary_cleaner.state.floatbank4_a_level</th>\n",
       "      <th>secondary_cleaner.state.floatbank4_b_air</th>\n",
       "      <th>secondary_cleaner.state.floatbank4_b_level</th>\n",
       "      <th>secondary_cleaner.state.floatbank5_a_air</th>\n",
       "      <th>secondary_cleaner.state.floatbank5_a_level</th>\n",
       "      <th>secondary_cleaner.state.floatbank5_b_air</th>\n",
       "      <th>secondary_cleaner.state.floatbank5_b_level</th>\n",
       "      <th>secondary_cleaner.state.floatbank6_a_air</th>\n",
       "      <th>secondary_cleaner.state.floatbank6_a_level</th>\n",
       "    </tr>\n",
       "  </thead>\n",
       "  <tbody>\n",
       "    <tr>\n",
       "      <th>0</th>\n",
       "      <td>2016-09-01 00:59:59</td>\n",
       "      <td>210.800909</td>\n",
       "      <td>14.993118</td>\n",
       "      <td>8.080000</td>\n",
       "      <td>1.005021</td>\n",
       "      <td>1398.981301</td>\n",
       "      <td>-500.225577</td>\n",
       "      <td>1399.144926</td>\n",
       "      <td>-499.919735</td>\n",
       "      <td>1400.102998</td>\n",
       "      <td>...</td>\n",
       "      <td>12.023554</td>\n",
       "      <td>-497.795834</td>\n",
       "      <td>8.016656</td>\n",
       "      <td>-501.289139</td>\n",
       "      <td>7.946562</td>\n",
       "      <td>-432.317850</td>\n",
       "      <td>4.872511</td>\n",
       "      <td>-500.037437</td>\n",
       "      <td>26.705889</td>\n",
       "      <td>-499.709414</td>\n",
       "    </tr>\n",
       "    <tr>\n",
       "      <th>1</th>\n",
       "      <td>2016-09-01 01:59:59</td>\n",
       "      <td>215.392455</td>\n",
       "      <td>14.987471</td>\n",
       "      <td>8.080000</td>\n",
       "      <td>0.990469</td>\n",
       "      <td>1398.777912</td>\n",
       "      <td>-500.057435</td>\n",
       "      <td>1398.055362</td>\n",
       "      <td>-499.778182</td>\n",
       "      <td>1396.151033</td>\n",
       "      <td>...</td>\n",
       "      <td>12.058140</td>\n",
       "      <td>-498.695773</td>\n",
       "      <td>8.130979</td>\n",
       "      <td>-499.634209</td>\n",
       "      <td>7.958270</td>\n",
       "      <td>-525.839648</td>\n",
       "      <td>4.878850</td>\n",
       "      <td>-500.162375</td>\n",
       "      <td>25.019940</td>\n",
       "      <td>-499.819438</td>\n",
       "    </tr>\n",
       "    <tr>\n",
       "      <th>2</th>\n",
       "      <td>2016-09-01 02:59:59</td>\n",
       "      <td>215.259946</td>\n",
       "      <td>12.884934</td>\n",
       "      <td>7.786667</td>\n",
       "      <td>0.996043</td>\n",
       "      <td>1398.493666</td>\n",
       "      <td>-500.868360</td>\n",
       "      <td>1398.860436</td>\n",
       "      <td>-499.764529</td>\n",
       "      <td>1398.075709</td>\n",
       "      <td>...</td>\n",
       "      <td>11.962366</td>\n",
       "      <td>-498.767484</td>\n",
       "      <td>8.096893</td>\n",
       "      <td>-500.827423</td>\n",
       "      <td>8.071056</td>\n",
       "      <td>-500.801673</td>\n",
       "      <td>4.905125</td>\n",
       "      <td>-499.828510</td>\n",
       "      <td>24.994862</td>\n",
       "      <td>-500.622559</td>\n",
       "    </tr>\n",
       "    <tr>\n",
       "      <th>3</th>\n",
       "      <td>2016-09-01 03:59:59</td>\n",
       "      <td>215.336236</td>\n",
       "      <td>12.006805</td>\n",
       "      <td>7.640000</td>\n",
       "      <td>0.863514</td>\n",
       "      <td>1399.618111</td>\n",
       "      <td>-498.863574</td>\n",
       "      <td>1397.440120</td>\n",
       "      <td>-499.211024</td>\n",
       "      <td>1400.129303</td>\n",
       "      <td>...</td>\n",
       "      <td>12.033091</td>\n",
       "      <td>-498.350935</td>\n",
       "      <td>8.074946</td>\n",
       "      <td>-499.474407</td>\n",
       "      <td>7.897085</td>\n",
       "      <td>-500.868509</td>\n",
       "      <td>4.931400</td>\n",
       "      <td>-499.963623</td>\n",
       "      <td>24.948919</td>\n",
       "      <td>-498.709987</td>\n",
       "    </tr>\n",
       "    <tr>\n",
       "      <th>4</th>\n",
       "      <td>2016-09-01 04:59:59</td>\n",
       "      <td>199.099327</td>\n",
       "      <td>10.682530</td>\n",
       "      <td>7.530000</td>\n",
       "      <td>0.805575</td>\n",
       "      <td>1401.268123</td>\n",
       "      <td>-500.808305</td>\n",
       "      <td>1398.128818</td>\n",
       "      <td>-499.504543</td>\n",
       "      <td>1402.172226</td>\n",
       "      <td>...</td>\n",
       "      <td>12.025367</td>\n",
       "      <td>-500.786497</td>\n",
       "      <td>8.054678</td>\n",
       "      <td>-500.397500</td>\n",
       "      <td>8.107890</td>\n",
       "      <td>-509.526725</td>\n",
       "      <td>4.957674</td>\n",
       "      <td>-500.360026</td>\n",
       "      <td>25.003331</td>\n",
       "      <td>-500.856333</td>\n",
       "    </tr>\n",
       "  </tbody>\n",
       "</table>\n",
       "<p>5 rows × 53 columns</p>\n",
       "</div>"
      ],
      "text/plain": [
       "                  date  primary_cleaner.input.sulfate  \\\n",
       "0  2016-09-01 00:59:59                     210.800909   \n",
       "1  2016-09-01 01:59:59                     215.392455   \n",
       "2  2016-09-01 02:59:59                     215.259946   \n",
       "3  2016-09-01 03:59:59                     215.336236   \n",
       "4  2016-09-01 04:59:59                     199.099327   \n",
       "\n",
       "   primary_cleaner.input.depressant  primary_cleaner.input.feed_size  \\\n",
       "0                         14.993118                         8.080000   \n",
       "1                         14.987471                         8.080000   \n",
       "2                         12.884934                         7.786667   \n",
       "3                         12.006805                         7.640000   \n",
       "4                         10.682530                         7.530000   \n",
       "\n",
       "   primary_cleaner.input.xanthate  primary_cleaner.state.floatbank8_a_air  \\\n",
       "0                        1.005021                             1398.981301   \n",
       "1                        0.990469                             1398.777912   \n",
       "2                        0.996043                             1398.493666   \n",
       "3                        0.863514                             1399.618111   \n",
       "4                        0.805575                             1401.268123   \n",
       "\n",
       "   primary_cleaner.state.floatbank8_a_level  \\\n",
       "0                               -500.225577   \n",
       "1                               -500.057435   \n",
       "2                               -500.868360   \n",
       "3                               -498.863574   \n",
       "4                               -500.808305   \n",
       "\n",
       "   primary_cleaner.state.floatbank8_b_air  \\\n",
       "0                             1399.144926   \n",
       "1                             1398.055362   \n",
       "2                             1398.860436   \n",
       "3                             1397.440120   \n",
       "4                             1398.128818   \n",
       "\n",
       "   primary_cleaner.state.floatbank8_b_level  \\\n",
       "0                               -499.919735   \n",
       "1                               -499.778182   \n",
       "2                               -499.764529   \n",
       "3                               -499.211024   \n",
       "4                               -499.504543   \n",
       "\n",
       "   primary_cleaner.state.floatbank8_c_air  ...  \\\n",
       "0                             1400.102998  ...   \n",
       "1                             1396.151033  ...   \n",
       "2                             1398.075709  ...   \n",
       "3                             1400.129303  ...   \n",
       "4                             1402.172226  ...   \n",
       "\n",
       "   secondary_cleaner.state.floatbank4_a_air  \\\n",
       "0                                 12.023554   \n",
       "1                                 12.058140   \n",
       "2                                 11.962366   \n",
       "3                                 12.033091   \n",
       "4                                 12.025367   \n",
       "\n",
       "   secondary_cleaner.state.floatbank4_a_level  \\\n",
       "0                                 -497.795834   \n",
       "1                                 -498.695773   \n",
       "2                                 -498.767484   \n",
       "3                                 -498.350935   \n",
       "4                                 -500.786497   \n",
       "\n",
       "   secondary_cleaner.state.floatbank4_b_air  \\\n",
       "0                                  8.016656   \n",
       "1                                  8.130979   \n",
       "2                                  8.096893   \n",
       "3                                  8.074946   \n",
       "4                                  8.054678   \n",
       "\n",
       "   secondary_cleaner.state.floatbank4_b_level  \\\n",
       "0                                 -501.289139   \n",
       "1                                 -499.634209   \n",
       "2                                 -500.827423   \n",
       "3                                 -499.474407   \n",
       "4                                 -500.397500   \n",
       "\n",
       "   secondary_cleaner.state.floatbank5_a_air  \\\n",
       "0                                  7.946562   \n",
       "1                                  7.958270   \n",
       "2                                  8.071056   \n",
       "3                                  7.897085   \n",
       "4                                  8.107890   \n",
       "\n",
       "   secondary_cleaner.state.floatbank5_a_level  \\\n",
       "0                                 -432.317850   \n",
       "1                                 -525.839648   \n",
       "2                                 -500.801673   \n",
       "3                                 -500.868509   \n",
       "4                                 -509.526725   \n",
       "\n",
       "   secondary_cleaner.state.floatbank5_b_air  \\\n",
       "0                                  4.872511   \n",
       "1                                  4.878850   \n",
       "2                                  4.905125   \n",
       "3                                  4.931400   \n",
       "4                                  4.957674   \n",
       "\n",
       "   secondary_cleaner.state.floatbank5_b_level  \\\n",
       "0                                 -500.037437   \n",
       "1                                 -500.162375   \n",
       "2                                 -499.828510   \n",
       "3                                 -499.963623   \n",
       "4                                 -500.360026   \n",
       "\n",
       "   secondary_cleaner.state.floatbank6_a_air  \\\n",
       "0                                 26.705889   \n",
       "1                                 25.019940   \n",
       "2                                 24.994862   \n",
       "3                                 24.948919   \n",
       "4                                 25.003331   \n",
       "\n",
       "   secondary_cleaner.state.floatbank6_a_level  \n",
       "0                                 -499.709414  \n",
       "1                                 -499.819438  \n",
       "2                                 -500.622559  \n",
       "3                                 -498.709987  \n",
       "4                                 -500.856333  \n",
       "\n",
       "[5 rows x 53 columns]"
      ]
     },
     "execution_count": 5,
     "metadata": {},
     "output_type": "execute_result"
    }
   ],
   "source": [
    "#тестовая выборка\n",
    "data_test.head()"
   ]
  },
  {
   "cell_type": "code",
   "execution_count": 6,
   "id": "28f21fc6",
   "metadata": {},
   "outputs": [
    {
     "name": "stdout",
     "output_type": "stream",
     "text": [
      "<class 'pandas.core.frame.DataFrame'>\n",
      "RangeIndex: 5290 entries, 0 to 5289\n",
      "Data columns (total 53 columns):\n",
      " #   Column                                      Non-Null Count  Dtype  \n",
      "---  ------                                      --------------  -----  \n",
      " 0   date                                        5290 non-null   object \n",
      " 1   primary_cleaner.input.sulfate               5286 non-null   float64\n",
      " 2   primary_cleaner.input.depressant            5285 non-null   float64\n",
      " 3   primary_cleaner.input.feed_size             5290 non-null   float64\n",
      " 4   primary_cleaner.input.xanthate              5286 non-null   float64\n",
      " 5   primary_cleaner.state.floatbank8_a_air      5290 non-null   float64\n",
      " 6   primary_cleaner.state.floatbank8_a_level    5290 non-null   float64\n",
      " 7   primary_cleaner.state.floatbank8_b_air      5290 non-null   float64\n",
      " 8   primary_cleaner.state.floatbank8_b_level    5290 non-null   float64\n",
      " 9   primary_cleaner.state.floatbank8_c_air      5290 non-null   float64\n",
      " 10  primary_cleaner.state.floatbank8_c_level    5290 non-null   float64\n",
      " 11  primary_cleaner.state.floatbank8_d_air      5290 non-null   float64\n",
      " 12  primary_cleaner.state.floatbank8_d_level    5290 non-null   float64\n",
      " 13  rougher.input.feed_ag                       5290 non-null   float64\n",
      " 14  rougher.input.feed_pb                       5290 non-null   float64\n",
      " 15  rougher.input.feed_rate                     5287 non-null   float64\n",
      " 16  rougher.input.feed_size                     5289 non-null   float64\n",
      " 17  rougher.input.feed_sol                      5269 non-null   float64\n",
      " 18  rougher.input.feed_au                       5290 non-null   float64\n",
      " 19  rougher.input.floatbank10_sulfate           5285 non-null   float64\n",
      " 20  rougher.input.floatbank10_xanthate          5290 non-null   float64\n",
      " 21  rougher.input.floatbank11_sulfate           5282 non-null   float64\n",
      " 22  rougher.input.floatbank11_xanthate          5265 non-null   float64\n",
      " 23  rougher.state.floatbank10_a_air             5290 non-null   float64\n",
      " 24  rougher.state.floatbank10_a_level           5290 non-null   float64\n",
      " 25  rougher.state.floatbank10_b_air             5290 non-null   float64\n",
      " 26  rougher.state.floatbank10_b_level           5290 non-null   float64\n",
      " 27  rougher.state.floatbank10_c_air             5290 non-null   float64\n",
      " 28  rougher.state.floatbank10_c_level           5290 non-null   float64\n",
      " 29  rougher.state.floatbank10_d_air             5290 non-null   float64\n",
      " 30  rougher.state.floatbank10_d_level           5290 non-null   float64\n",
      " 31  rougher.state.floatbank10_e_air             5290 non-null   float64\n",
      " 32  rougher.state.floatbank10_e_level           5290 non-null   float64\n",
      " 33  rougher.state.floatbank10_f_air             5290 non-null   float64\n",
      " 34  rougher.state.floatbank10_f_level           5290 non-null   float64\n",
      " 35  secondary_cleaner.state.floatbank2_a_air    5287 non-null   float64\n",
      " 36  secondary_cleaner.state.floatbank2_a_level  5290 non-null   float64\n",
      " 37  secondary_cleaner.state.floatbank2_b_air    5288 non-null   float64\n",
      " 38  secondary_cleaner.state.floatbank2_b_level  5290 non-null   float64\n",
      " 39  secondary_cleaner.state.floatbank3_a_air    5281 non-null   float64\n",
      " 40  secondary_cleaner.state.floatbank3_a_level  5290 non-null   float64\n",
      " 41  secondary_cleaner.state.floatbank3_b_air    5290 non-null   float64\n",
      " 42  secondary_cleaner.state.floatbank3_b_level  5290 non-null   float64\n",
      " 43  secondary_cleaner.state.floatbank4_a_air    5290 non-null   float64\n",
      " 44  secondary_cleaner.state.floatbank4_a_level  5290 non-null   float64\n",
      " 45  secondary_cleaner.state.floatbank4_b_air    5290 non-null   float64\n",
      " 46  secondary_cleaner.state.floatbank4_b_level  5290 non-null   float64\n",
      " 47  secondary_cleaner.state.floatbank5_a_air    5290 non-null   float64\n",
      " 48  secondary_cleaner.state.floatbank5_a_level  5290 non-null   float64\n",
      " 49  secondary_cleaner.state.floatbank5_b_air    5290 non-null   float64\n",
      " 50  secondary_cleaner.state.floatbank5_b_level  5290 non-null   float64\n",
      " 51  secondary_cleaner.state.floatbank6_a_air    5290 non-null   float64\n",
      " 52  secondary_cleaner.state.floatbank6_a_level  5290 non-null   float64\n",
      "dtypes: float64(52), object(1)\n",
      "memory usage: 2.1+ MB\n"
     ]
    }
   ],
   "source": [
    "data_test.info()"
   ]
  },
  {
   "cell_type": "code",
   "execution_count": 7,
   "id": "410f5b2f",
   "metadata": {},
   "outputs": [
    {
     "data": {
      "text/html": [
       "<div>\n",
       "<style scoped>\n",
       "    .dataframe tbody tr th:only-of-type {\n",
       "        vertical-align: middle;\n",
       "    }\n",
       "\n",
       "    .dataframe tbody tr th {\n",
       "        vertical-align: top;\n",
       "    }\n",
       "\n",
       "    .dataframe thead th {\n",
       "        text-align: right;\n",
       "    }\n",
       "</style>\n",
       "<table border=\"1\" class=\"dataframe\">\n",
       "  <thead>\n",
       "    <tr style=\"text-align: right;\">\n",
       "      <th></th>\n",
       "      <th>date</th>\n",
       "      <th>final.output.concentrate_ag</th>\n",
       "      <th>final.output.concentrate_pb</th>\n",
       "      <th>final.output.concentrate_sol</th>\n",
       "      <th>final.output.concentrate_au</th>\n",
       "      <th>final.output.recovery</th>\n",
       "      <th>final.output.tail_ag</th>\n",
       "      <th>final.output.tail_pb</th>\n",
       "      <th>final.output.tail_sol</th>\n",
       "      <th>final.output.tail_au</th>\n",
       "      <th>...</th>\n",
       "      <th>secondary_cleaner.state.floatbank4_a_air</th>\n",
       "      <th>secondary_cleaner.state.floatbank4_a_level</th>\n",
       "      <th>secondary_cleaner.state.floatbank4_b_air</th>\n",
       "      <th>secondary_cleaner.state.floatbank4_b_level</th>\n",
       "      <th>secondary_cleaner.state.floatbank5_a_air</th>\n",
       "      <th>secondary_cleaner.state.floatbank5_a_level</th>\n",
       "      <th>secondary_cleaner.state.floatbank5_b_air</th>\n",
       "      <th>secondary_cleaner.state.floatbank5_b_level</th>\n",
       "      <th>secondary_cleaner.state.floatbank6_a_air</th>\n",
       "      <th>secondary_cleaner.state.floatbank6_a_level</th>\n",
       "    </tr>\n",
       "  </thead>\n",
       "  <tbody>\n",
       "    <tr>\n",
       "      <th>0</th>\n",
       "      <td>2016-01-15 00:00:00</td>\n",
       "      <td>6.055403</td>\n",
       "      <td>9.889648</td>\n",
       "      <td>5.507324</td>\n",
       "      <td>42.192020</td>\n",
       "      <td>70.541216</td>\n",
       "      <td>10.411962</td>\n",
       "      <td>0.895447</td>\n",
       "      <td>16.904297</td>\n",
       "      <td>2.143149</td>\n",
       "      <td>...</td>\n",
       "      <td>14.016835</td>\n",
       "      <td>-502.488007</td>\n",
       "      <td>12.099931</td>\n",
       "      <td>-504.715942</td>\n",
       "      <td>9.925633</td>\n",
       "      <td>-498.310211</td>\n",
       "      <td>8.079666</td>\n",
       "      <td>-500.470978</td>\n",
       "      <td>14.151341</td>\n",
       "      <td>-605.841980</td>\n",
       "    </tr>\n",
       "    <tr>\n",
       "      <th>1</th>\n",
       "      <td>2016-01-15 01:00:00</td>\n",
       "      <td>6.029369</td>\n",
       "      <td>9.968944</td>\n",
       "      <td>5.257781</td>\n",
       "      <td>42.701629</td>\n",
       "      <td>69.266198</td>\n",
       "      <td>10.462676</td>\n",
       "      <td>0.927452</td>\n",
       "      <td>16.634514</td>\n",
       "      <td>2.224930</td>\n",
       "      <td>...</td>\n",
       "      <td>13.992281</td>\n",
       "      <td>-505.503262</td>\n",
       "      <td>11.950531</td>\n",
       "      <td>-501.331529</td>\n",
       "      <td>10.039245</td>\n",
       "      <td>-500.169983</td>\n",
       "      <td>7.984757</td>\n",
       "      <td>-500.582168</td>\n",
       "      <td>13.998353</td>\n",
       "      <td>-599.787184</td>\n",
       "    </tr>\n",
       "    <tr>\n",
       "      <th>2</th>\n",
       "      <td>2016-01-15 02:00:00</td>\n",
       "      <td>6.055926</td>\n",
       "      <td>10.213995</td>\n",
       "      <td>5.383759</td>\n",
       "      <td>42.657501</td>\n",
       "      <td>68.116445</td>\n",
       "      <td>10.507046</td>\n",
       "      <td>0.953716</td>\n",
       "      <td>16.208849</td>\n",
       "      <td>2.257889</td>\n",
       "      <td>...</td>\n",
       "      <td>14.015015</td>\n",
       "      <td>-502.520901</td>\n",
       "      <td>11.912783</td>\n",
       "      <td>-501.133383</td>\n",
       "      <td>10.070913</td>\n",
       "      <td>-500.129135</td>\n",
       "      <td>8.013877</td>\n",
       "      <td>-500.517572</td>\n",
       "      <td>14.028663</td>\n",
       "      <td>-601.427363</td>\n",
       "    </tr>\n",
       "    <tr>\n",
       "      <th>3</th>\n",
       "      <td>2016-01-15 03:00:00</td>\n",
       "      <td>6.047977</td>\n",
       "      <td>9.977019</td>\n",
       "      <td>4.858634</td>\n",
       "      <td>42.689819</td>\n",
       "      <td>68.347543</td>\n",
       "      <td>10.422762</td>\n",
       "      <td>0.883763</td>\n",
       "      <td>16.532835</td>\n",
       "      <td>2.146849</td>\n",
       "      <td>...</td>\n",
       "      <td>14.036510</td>\n",
       "      <td>-500.857308</td>\n",
       "      <td>11.999550</td>\n",
       "      <td>-501.193686</td>\n",
       "      <td>9.970366</td>\n",
       "      <td>-499.201640</td>\n",
       "      <td>7.977324</td>\n",
       "      <td>-500.255908</td>\n",
       "      <td>14.005551</td>\n",
       "      <td>-599.996129</td>\n",
       "    </tr>\n",
       "    <tr>\n",
       "      <th>4</th>\n",
       "      <td>2016-01-15 04:00:00</td>\n",
       "      <td>6.148599</td>\n",
       "      <td>10.142511</td>\n",
       "      <td>4.939416</td>\n",
       "      <td>42.774141</td>\n",
       "      <td>66.927016</td>\n",
       "      <td>10.360302</td>\n",
       "      <td>0.792826</td>\n",
       "      <td>16.525686</td>\n",
       "      <td>2.055292</td>\n",
       "      <td>...</td>\n",
       "      <td>14.027298</td>\n",
       "      <td>-499.838632</td>\n",
       "      <td>11.953070</td>\n",
       "      <td>-501.053894</td>\n",
       "      <td>9.925709</td>\n",
       "      <td>-501.686727</td>\n",
       "      <td>7.894242</td>\n",
       "      <td>-500.356035</td>\n",
       "      <td>13.996647</td>\n",
       "      <td>-601.496691</td>\n",
       "    </tr>\n",
       "  </tbody>\n",
       "</table>\n",
       "<p>5 rows × 87 columns</p>\n",
       "</div>"
      ],
      "text/plain": [
       "                  date  final.output.concentrate_ag  \\\n",
       "0  2016-01-15 00:00:00                     6.055403   \n",
       "1  2016-01-15 01:00:00                     6.029369   \n",
       "2  2016-01-15 02:00:00                     6.055926   \n",
       "3  2016-01-15 03:00:00                     6.047977   \n",
       "4  2016-01-15 04:00:00                     6.148599   \n",
       "\n",
       "   final.output.concentrate_pb  final.output.concentrate_sol  \\\n",
       "0                     9.889648                      5.507324   \n",
       "1                     9.968944                      5.257781   \n",
       "2                    10.213995                      5.383759   \n",
       "3                     9.977019                      4.858634   \n",
       "4                    10.142511                      4.939416   \n",
       "\n",
       "   final.output.concentrate_au  final.output.recovery  final.output.tail_ag  \\\n",
       "0                    42.192020              70.541216             10.411962   \n",
       "1                    42.701629              69.266198             10.462676   \n",
       "2                    42.657501              68.116445             10.507046   \n",
       "3                    42.689819              68.347543             10.422762   \n",
       "4                    42.774141              66.927016             10.360302   \n",
       "\n",
       "   final.output.tail_pb  final.output.tail_sol  final.output.tail_au  ...  \\\n",
       "0              0.895447              16.904297              2.143149  ...   \n",
       "1              0.927452              16.634514              2.224930  ...   \n",
       "2              0.953716              16.208849              2.257889  ...   \n",
       "3              0.883763              16.532835              2.146849  ...   \n",
       "4              0.792826              16.525686              2.055292  ...   \n",
       "\n",
       "   secondary_cleaner.state.floatbank4_a_air  \\\n",
       "0                                 14.016835   \n",
       "1                                 13.992281   \n",
       "2                                 14.015015   \n",
       "3                                 14.036510   \n",
       "4                                 14.027298   \n",
       "\n",
       "   secondary_cleaner.state.floatbank4_a_level  \\\n",
       "0                                 -502.488007   \n",
       "1                                 -505.503262   \n",
       "2                                 -502.520901   \n",
       "3                                 -500.857308   \n",
       "4                                 -499.838632   \n",
       "\n",
       "   secondary_cleaner.state.floatbank4_b_air  \\\n",
       "0                                 12.099931   \n",
       "1                                 11.950531   \n",
       "2                                 11.912783   \n",
       "3                                 11.999550   \n",
       "4                                 11.953070   \n",
       "\n",
       "   secondary_cleaner.state.floatbank4_b_level  \\\n",
       "0                                 -504.715942   \n",
       "1                                 -501.331529   \n",
       "2                                 -501.133383   \n",
       "3                                 -501.193686   \n",
       "4                                 -501.053894   \n",
       "\n",
       "   secondary_cleaner.state.floatbank5_a_air  \\\n",
       "0                                  9.925633   \n",
       "1                                 10.039245   \n",
       "2                                 10.070913   \n",
       "3                                  9.970366   \n",
       "4                                  9.925709   \n",
       "\n",
       "   secondary_cleaner.state.floatbank5_a_level  \\\n",
       "0                                 -498.310211   \n",
       "1                                 -500.169983   \n",
       "2                                 -500.129135   \n",
       "3                                 -499.201640   \n",
       "4                                 -501.686727   \n",
       "\n",
       "   secondary_cleaner.state.floatbank5_b_air  \\\n",
       "0                                  8.079666   \n",
       "1                                  7.984757   \n",
       "2                                  8.013877   \n",
       "3                                  7.977324   \n",
       "4                                  7.894242   \n",
       "\n",
       "   secondary_cleaner.state.floatbank5_b_level  \\\n",
       "0                                 -500.470978   \n",
       "1                                 -500.582168   \n",
       "2                                 -500.517572   \n",
       "3                                 -500.255908   \n",
       "4                                 -500.356035   \n",
       "\n",
       "   secondary_cleaner.state.floatbank6_a_air  \\\n",
       "0                                 14.151341   \n",
       "1                                 13.998353   \n",
       "2                                 14.028663   \n",
       "3                                 14.005551   \n",
       "4                                 13.996647   \n",
       "\n",
       "   secondary_cleaner.state.floatbank6_a_level  \n",
       "0                                 -605.841980  \n",
       "1                                 -599.787184  \n",
       "2                                 -601.427363  \n",
       "3                                 -599.996129  \n",
       "4                                 -601.496691  \n",
       "\n",
       "[5 rows x 87 columns]"
      ]
     },
     "execution_count": 7,
     "metadata": {},
     "output_type": "execute_result"
    }
   ],
   "source": [
    "#полная выборка\n",
    "data_full.head()"
   ]
  },
  {
   "cell_type": "code",
   "execution_count": 8,
   "id": "b4095443",
   "metadata": {},
   "outputs": [
    {
     "name": "stdout",
     "output_type": "stream",
     "text": [
      "<class 'pandas.core.frame.DataFrame'>\n",
      "RangeIndex: 19439 entries, 0 to 19438\n",
      "Data columns (total 87 columns):\n",
      " #   Column                                              Non-Null Count  Dtype  \n",
      "---  ------                                              --------------  -----  \n",
      " 0   date                                                19439 non-null  object \n",
      " 1   final.output.concentrate_ag                         19438 non-null  float64\n",
      " 2   final.output.concentrate_pb                         19438 non-null  float64\n",
      " 3   final.output.concentrate_sol                        19228 non-null  float64\n",
      " 4   final.output.concentrate_au                         19439 non-null  float64\n",
      " 5   final.output.recovery                               19439 non-null  float64\n",
      " 6   final.output.tail_ag                                19438 non-null  float64\n",
      " 7   final.output.tail_pb                                19338 non-null  float64\n",
      " 8   final.output.tail_sol                               19433 non-null  float64\n",
      " 9   final.output.tail_au                                19439 non-null  float64\n",
      " 10  primary_cleaner.input.sulfate                       19415 non-null  float64\n",
      " 11  primary_cleaner.input.depressant                    19402 non-null  float64\n",
      " 12  primary_cleaner.input.feed_size                     19439 non-null  float64\n",
      " 13  primary_cleaner.input.xanthate                      19335 non-null  float64\n",
      " 14  primary_cleaner.output.concentrate_ag               19439 non-null  float64\n",
      " 15  primary_cleaner.output.concentrate_pb               19323 non-null  float64\n",
      " 16  primary_cleaner.output.concentrate_sol              19069 non-null  float64\n",
      " 17  primary_cleaner.output.concentrate_au               19439 non-null  float64\n",
      " 18  primary_cleaner.output.tail_ag                      19435 non-null  float64\n",
      " 19  primary_cleaner.output.tail_pb                      19418 non-null  float64\n",
      " 20  primary_cleaner.output.tail_sol                     19377 non-null  float64\n",
      " 21  primary_cleaner.output.tail_au                      19439 non-null  float64\n",
      " 22  primary_cleaner.state.floatbank8_a_air              19435 non-null  float64\n",
      " 23  primary_cleaner.state.floatbank8_a_level            19438 non-null  float64\n",
      " 24  primary_cleaner.state.floatbank8_b_air              19435 non-null  float64\n",
      " 25  primary_cleaner.state.floatbank8_b_level            19438 non-null  float64\n",
      " 26  primary_cleaner.state.floatbank8_c_air              19437 non-null  float64\n",
      " 27  primary_cleaner.state.floatbank8_c_level            19438 non-null  float64\n",
      " 28  primary_cleaner.state.floatbank8_d_air              19436 non-null  float64\n",
      " 29  primary_cleaner.state.floatbank8_d_level            19438 non-null  float64\n",
      " 30  rougher.calculation.sulfate_to_au_concentrate       19437 non-null  float64\n",
      " 31  rougher.calculation.floatbank10_sulfate_to_au_feed  19437 non-null  float64\n",
      " 32  rougher.calculation.floatbank11_sulfate_to_au_feed  19437 non-null  float64\n",
      " 33  rougher.calculation.au_pb_ratio                     19439 non-null  float64\n",
      " 34  rougher.input.feed_ag                               19439 non-null  float64\n",
      " 35  rougher.input.feed_pb                               19339 non-null  float64\n",
      " 36  rougher.input.feed_rate                             19428 non-null  float64\n",
      " 37  rougher.input.feed_size                             19294 non-null  float64\n",
      " 38  rougher.input.feed_sol                              19340 non-null  float64\n",
      " 39  rougher.input.feed_au                               19439 non-null  float64\n",
      " 40  rougher.input.floatbank10_sulfate                   19405 non-null  float64\n",
      " 41  rougher.input.floatbank10_xanthate                  19431 non-null  float64\n",
      " 42  rougher.input.floatbank11_sulfate                   19395 non-null  float64\n",
      " 43  rougher.input.floatbank11_xanthate                  18986 non-null  float64\n",
      " 44  rougher.output.concentrate_ag                       19439 non-null  float64\n",
      " 45  rougher.output.concentrate_pb                       19439 non-null  float64\n",
      " 46  rougher.output.concentrate_sol                      19416 non-null  float64\n",
      " 47  rougher.output.concentrate_au                       19439 non-null  float64\n",
      " 48  rougher.output.recovery                             19439 non-null  float64\n",
      " 49  rougher.output.tail_ag                              19438 non-null  float64\n",
      " 50  rougher.output.tail_pb                              19439 non-null  float64\n",
      " 51  rougher.output.tail_sol                             19439 non-null  float64\n",
      " 52  rougher.output.tail_au                              19439 non-null  float64\n",
      " 53  rougher.state.floatbank10_a_air                     19438 non-null  float64\n",
      " 54  rougher.state.floatbank10_a_level                   19438 non-null  float64\n",
      " 55  rougher.state.floatbank10_b_air                     19438 non-null  float64\n",
      " 56  rougher.state.floatbank10_b_level                   19438 non-null  float64\n",
      " 57  rougher.state.floatbank10_c_air                     19438 non-null  float64\n",
      " 58  rougher.state.floatbank10_c_level                   19438 non-null  float64\n",
      " 59  rougher.state.floatbank10_d_air                     19439 non-null  float64\n",
      " 60  rougher.state.floatbank10_d_level                   19439 non-null  float64\n",
      " 61  rougher.state.floatbank10_e_air                     19003 non-null  float64\n",
      " 62  rougher.state.floatbank10_e_level                   19439 non-null  float64\n",
      " 63  rougher.state.floatbank10_f_air                     19439 non-null  float64\n",
      " 64  rougher.state.floatbank10_f_level                   19439 non-null  float64\n",
      " 65  secondary_cleaner.output.tail_ag                    19437 non-null  float64\n",
      " 66  secondary_cleaner.output.tail_pb                    19427 non-null  float64\n",
      " 67  secondary_cleaner.output.tail_sol                   17691 non-null  float64\n",
      " 68  secondary_cleaner.output.tail_au                    19439 non-null  float64\n",
      " 69  secondary_cleaner.state.floatbank2_a_air            19219 non-null  float64\n",
      " 70  secondary_cleaner.state.floatbank2_a_level          19438 non-null  float64\n",
      " 71  secondary_cleaner.state.floatbank2_b_air            19416 non-null  float64\n",
      " 72  secondary_cleaner.state.floatbank2_b_level          19438 non-null  float64\n",
      " 73  secondary_cleaner.state.floatbank3_a_air            19426 non-null  float64\n",
      " 74  secondary_cleaner.state.floatbank3_a_level          19438 non-null  float64\n",
      " 75  secondary_cleaner.state.floatbank3_b_air            19438 non-null  float64\n",
      " 76  secondary_cleaner.state.floatbank3_b_level          19438 non-null  float64\n",
      " 77  secondary_cleaner.state.floatbank4_a_air            19433 non-null  float64\n",
      " 78  secondary_cleaner.state.floatbank4_a_level          19438 non-null  float64\n",
      " 79  secondary_cleaner.state.floatbank4_b_air            19438 non-null  float64\n",
      " 80  secondary_cleaner.state.floatbank4_b_level          19438 non-null  float64\n",
      " 81  secondary_cleaner.state.floatbank5_a_air            19438 non-null  float64\n",
      " 82  secondary_cleaner.state.floatbank5_a_level          19438 non-null  float64\n",
      " 83  secondary_cleaner.state.floatbank5_b_air            19438 non-null  float64\n",
      " 84  secondary_cleaner.state.floatbank5_b_level          19438 non-null  float64\n",
      " 85  secondary_cleaner.state.floatbank6_a_air            19437 non-null  float64\n",
      " 86  secondary_cleaner.state.floatbank6_a_level          19438 non-null  float64\n",
      "dtypes: float64(86), object(1)\n",
      "memory usage: 12.9+ MB\n"
     ]
    }
   ],
   "source": [
    "data_full.info()"
   ]
  },
  {
   "cell_type": "markdown",
   "id": "cb963271",
   "metadata": {},
   "source": [
    "### Проверка правильности рассчетов"
   ]
  },
  {
   "cell_type": "markdown",
   "id": "4a397ba9",
   "metadata": {},
   "source": [
    "**recovery = (c*(f-t) / f*(c-t))*100%**\n",
    " - c = доля золота в концентрате после флотации rougher.output.concentrate_au\n",
    " - f = доля золота в сырье до флотации rougher.input.feed_au\n",
    " - t = доля золота в отвальных хвостах rougher.output.tail_au"
   ]
  },
  {
   "cell_type": "code",
   "execution_count": 9,
   "id": "36a7a8d7",
   "metadata": {},
   "outputs": [
    {
     "name": "stdout",
     "output_type": "stream",
     "text": [
      "Средняя абсолютная ошибка между моими рассчетами и данными в датасете: 9.73512347450521e-15\n"
     ]
    }
   ],
   "source": [
    "c = data_train['rougher.output.concentrate_au']\n",
    "f = data_train['rougher.input.feed_au']\n",
    "t = data_train['rougher.output.tail_au']\n",
    "recovery_1_train = (c*(f-t)) / (f*(c-t))*100\n",
    "data_train['test'] = recovery_1_train\n",
    "MAE = mean_absolute_error(data_train['rougher.output.recovery'],data_train['test'])\n",
    "print('Средняя абсолютная ошибка между моими рассчетами и данными в датасете:',MAE)"
   ]
  },
  {
   "cell_type": "markdown",
   "id": "120fa570",
   "metadata": {},
   "source": [
    "**Исходя из результата выше можно полагать что эффективность обогащения рассчитана правильно**"
   ]
  },
  {
   "cell_type": "code",
   "execution_count": 10,
   "id": "6c965b16",
   "metadata": {},
   "outputs": [],
   "source": [
    "#удалю столбец тест который я создавал для рассчетов\n",
    "data_train = data_train.drop(['test'],axis=1)"
   ]
  },
  {
   "cell_type": "markdown",
   "id": "f86e1e61",
   "metadata": {},
   "source": [
    "### Анализ признаков недоступных в тестовой выборке"
   ]
  },
  {
   "cell_type": "code",
   "execution_count": 11,
   "id": "53b5a6e6",
   "metadata": {},
   "outputs": [],
   "source": [
    "data_train_columns = data_train.columns\n",
    "data_test_columns = data_test.columns\n",
    "datas_difference = list(set(data_train_columns) - set(data_test_columns)) "
   ]
  },
  {
   "cell_type": "code",
   "execution_count": 12,
   "id": "25a53beb",
   "metadata": {},
   "outputs": [],
   "source": [
    "#я скопировал список datas_difference и перезаписал его в переменную difference\n",
    "#я так сделал потому что в datas_difference при каждом обновлении менялись индексы значений\n",
    "#поэтому я переназначил переменную 'закрепив' индексы\n",
    "\n",
    "difference = ['rougher.output.tail_pb',\n",
    " 'rougher.calculation.floatbank10_sulfate_to_au_feed',\n",
    " 'rougher.output.tail_ag',\n",
    " 'final.output.recovery',\n",
    " 'rougher.calculation.au_pb_ratio',\n",
    " 'rougher.output.concentrate_au',\n",
    " 'primary_cleaner.output.concentrate_pb',\n",
    " 'primary_cleaner.output.tail_sol',\n",
    " 'final.output.concentrate_au',\n",
    " 'final.output.concentrate_ag',\n",
    " 'rougher.output.concentrate_ag',\n",
    " 'secondary_cleaner.output.tail_pb',\n",
    " 'rougher.output.tail_sol',\n",
    " 'primary_cleaner.output.tail_pb',\n",
    " 'rougher.calculation.sulfate_to_au_concentrate',\n",
    " 'primary_cleaner.output.concentrate_sol',\n",
    " 'final.output.tail_pb',\n",
    " 'rougher.calculation.floatbank11_sulfate_to_au_feed',\n",
    " 'rougher.output.concentrate_pb',\n",
    " 'primary_cleaner.output.tail_ag',\n",
    " 'rougher.output.recovery',\n",
    " 'final.output.tail_au',\n",
    " 'final.output.concentrate_pb',\n",
    " 'primary_cleaner.output.concentrate_ag',\n",
    " 'final.output.tail_sol',\n",
    " 'secondary_cleaner.output.tail_au',\n",
    " 'rougher.output.tail_au',\n",
    " 'secondary_cleaner.output.tail_sol',\n",
    " 'rougher.output.concentrate_sol',\n",
    " 'final.output.concentrate_sol',\n",
    " 'secondary_cleaner.output.tail_ag',\n",
    " 'final.output.tail_ag',\n",
    " 'primary_cleaner.output.concentrate_au',\n",
    " 'primary_cleaner.output.tail_au']\n",
    "#удалю из списка таргеты так как они должны остаться в датасете\n",
    "I = [3, 20]\n",
    "difference = np.delete(difference, I).tolist()\n",
    "#удалю из тренировочной выборки колонки которых нет в тестовой выборке\n",
    "data_train_2 = data_train.drop(columns=difference,axis=1)\n",
    "#к тестовой выборке добавлю колонки с таргетами\n",
    "data_test_2 = pd.concat([data_test, data_full[['rougher.output.recovery', 'final.output.recovery']]], axis=1).dropna()\n",
    "data_train_2 = data_train_2.drop(['date'], axis=1)\n",
    "data_test_2 = data_test_2.drop(['date'], axis=1)"
   ]
  },
  {
   "cell_type": "code",
   "execution_count": 13,
   "id": "39c69979",
   "metadata": {},
   "outputs": [
    {
     "name": "stdout",
     "output_type": "stream",
     "text": [
      "<class 'pandas.core.frame.DataFrame'>\n",
      "RangeIndex: 14149 entries, 0 to 14148\n",
      "Data columns (total 54 columns):\n",
      " #   Column                                      Non-Null Count  Dtype  \n",
      "---  ------                                      --------------  -----  \n",
      " 0   final.output.recovery                       14149 non-null  float64\n",
      " 1   primary_cleaner.input.sulfate               14129 non-null  float64\n",
      " 2   primary_cleaner.input.depressant            14117 non-null  float64\n",
      " 3   primary_cleaner.input.feed_size             14149 non-null  float64\n",
      " 4   primary_cleaner.input.xanthate              14049 non-null  float64\n",
      " 5   primary_cleaner.state.floatbank8_a_air      14145 non-null  float64\n",
      " 6   primary_cleaner.state.floatbank8_a_level    14148 non-null  float64\n",
      " 7   primary_cleaner.state.floatbank8_b_air      14145 non-null  float64\n",
      " 8   primary_cleaner.state.floatbank8_b_level    14148 non-null  float64\n",
      " 9   primary_cleaner.state.floatbank8_c_air      14147 non-null  float64\n",
      " 10  primary_cleaner.state.floatbank8_c_level    14148 non-null  float64\n",
      " 11  primary_cleaner.state.floatbank8_d_air      14146 non-null  float64\n",
      " 12  primary_cleaner.state.floatbank8_d_level    14148 non-null  float64\n",
      " 13  rougher.input.feed_ag                       14149 non-null  float64\n",
      " 14  rougher.input.feed_pb                       14049 non-null  float64\n",
      " 15  rougher.input.feed_rate                     14141 non-null  float64\n",
      " 16  rougher.input.feed_size                     14005 non-null  float64\n",
      " 17  rougher.input.feed_sol                      14071 non-null  float64\n",
      " 18  rougher.input.feed_au                       14149 non-null  float64\n",
      " 19  rougher.input.floatbank10_sulfate           14120 non-null  float64\n",
      " 20  rougher.input.floatbank10_xanthate          14141 non-null  float64\n",
      " 21  rougher.input.floatbank11_sulfate           14113 non-null  float64\n",
      " 22  rougher.input.floatbank11_xanthate          13721 non-null  float64\n",
      " 23  rougher.output.recovery                     14149 non-null  float64\n",
      " 24  rougher.state.floatbank10_a_air             14148 non-null  float64\n",
      " 25  rougher.state.floatbank10_a_level           14148 non-null  float64\n",
      " 26  rougher.state.floatbank10_b_air             14148 non-null  float64\n",
      " 27  rougher.state.floatbank10_b_level           14148 non-null  float64\n",
      " 28  rougher.state.floatbank10_c_air             14148 non-null  float64\n",
      " 29  rougher.state.floatbank10_c_level           14148 non-null  float64\n",
      " 30  rougher.state.floatbank10_d_air             14149 non-null  float64\n",
      " 31  rougher.state.floatbank10_d_level           14149 non-null  float64\n",
      " 32  rougher.state.floatbank10_e_air             13713 non-null  float64\n",
      " 33  rougher.state.floatbank10_e_level           14149 non-null  float64\n",
      " 34  rougher.state.floatbank10_f_air             14149 non-null  float64\n",
      " 35  rougher.state.floatbank10_f_level           14149 non-null  float64\n",
      " 36  secondary_cleaner.state.floatbank2_a_air    13932 non-null  float64\n",
      " 37  secondary_cleaner.state.floatbank2_a_level  14148 non-null  float64\n",
      " 38  secondary_cleaner.state.floatbank2_b_air    14128 non-null  float64\n",
      " 39  secondary_cleaner.state.floatbank2_b_level  14148 non-null  float64\n",
      " 40  secondary_cleaner.state.floatbank3_a_air    14145 non-null  float64\n",
      " 41  secondary_cleaner.state.floatbank3_a_level  14148 non-null  float64\n",
      " 42  secondary_cleaner.state.floatbank3_b_air    14148 non-null  float64\n",
      " 43  secondary_cleaner.state.floatbank3_b_level  14148 non-null  float64\n",
      " 44  secondary_cleaner.state.floatbank4_a_air    14143 non-null  float64\n",
      " 45  secondary_cleaner.state.floatbank4_a_level  14148 non-null  float64\n",
      " 46  secondary_cleaner.state.floatbank4_b_air    14148 non-null  float64\n",
      " 47  secondary_cleaner.state.floatbank4_b_level  14148 non-null  float64\n",
      " 48  secondary_cleaner.state.floatbank5_a_air    14148 non-null  float64\n",
      " 49  secondary_cleaner.state.floatbank5_a_level  14148 non-null  float64\n",
      " 50  secondary_cleaner.state.floatbank5_b_air    14148 non-null  float64\n",
      " 51  secondary_cleaner.state.floatbank5_b_level  14148 non-null  float64\n",
      " 52  secondary_cleaner.state.floatbank6_a_air    14147 non-null  float64\n",
      " 53  secondary_cleaner.state.floatbank6_a_level  14148 non-null  float64\n",
      "dtypes: float64(54)\n",
      "memory usage: 5.8 MB\n"
     ]
    }
   ],
   "source": [
    "data_train_2.info()"
   ]
  },
  {
   "cell_type": "code",
   "execution_count": 14,
   "id": "fa09dcd1",
   "metadata": {},
   "outputs": [
    {
     "name": "stdout",
     "output_type": "stream",
     "text": [
      "<class 'pandas.core.frame.DataFrame'>\n",
      "Int64Index: 5229 entries, 0 to 5289\n",
      "Data columns (total 54 columns):\n",
      " #   Column                                      Non-Null Count  Dtype  \n",
      "---  ------                                      --------------  -----  \n",
      " 0   primary_cleaner.input.sulfate               5229 non-null   float64\n",
      " 1   primary_cleaner.input.depressant            5229 non-null   float64\n",
      " 2   primary_cleaner.input.feed_size             5229 non-null   float64\n",
      " 3   primary_cleaner.input.xanthate              5229 non-null   float64\n",
      " 4   primary_cleaner.state.floatbank8_a_air      5229 non-null   float64\n",
      " 5   primary_cleaner.state.floatbank8_a_level    5229 non-null   float64\n",
      " 6   primary_cleaner.state.floatbank8_b_air      5229 non-null   float64\n",
      " 7   primary_cleaner.state.floatbank8_b_level    5229 non-null   float64\n",
      " 8   primary_cleaner.state.floatbank8_c_air      5229 non-null   float64\n",
      " 9   primary_cleaner.state.floatbank8_c_level    5229 non-null   float64\n",
      " 10  primary_cleaner.state.floatbank8_d_air      5229 non-null   float64\n",
      " 11  primary_cleaner.state.floatbank8_d_level    5229 non-null   float64\n",
      " 12  rougher.input.feed_ag                       5229 non-null   float64\n",
      " 13  rougher.input.feed_pb                       5229 non-null   float64\n",
      " 14  rougher.input.feed_rate                     5229 non-null   float64\n",
      " 15  rougher.input.feed_size                     5229 non-null   float64\n",
      " 16  rougher.input.feed_sol                      5229 non-null   float64\n",
      " 17  rougher.input.feed_au                       5229 non-null   float64\n",
      " 18  rougher.input.floatbank10_sulfate           5229 non-null   float64\n",
      " 19  rougher.input.floatbank10_xanthate          5229 non-null   float64\n",
      " 20  rougher.input.floatbank11_sulfate           5229 non-null   float64\n",
      " 21  rougher.input.floatbank11_xanthate          5229 non-null   float64\n",
      " 22  rougher.state.floatbank10_a_air             5229 non-null   float64\n",
      " 23  rougher.state.floatbank10_a_level           5229 non-null   float64\n",
      " 24  rougher.state.floatbank10_b_air             5229 non-null   float64\n",
      " 25  rougher.state.floatbank10_b_level           5229 non-null   float64\n",
      " 26  rougher.state.floatbank10_c_air             5229 non-null   float64\n",
      " 27  rougher.state.floatbank10_c_level           5229 non-null   float64\n",
      " 28  rougher.state.floatbank10_d_air             5229 non-null   float64\n",
      " 29  rougher.state.floatbank10_d_level           5229 non-null   float64\n",
      " 30  rougher.state.floatbank10_e_air             5229 non-null   float64\n",
      " 31  rougher.state.floatbank10_e_level           5229 non-null   float64\n",
      " 32  rougher.state.floatbank10_f_air             5229 non-null   float64\n",
      " 33  rougher.state.floatbank10_f_level           5229 non-null   float64\n",
      " 34  secondary_cleaner.state.floatbank2_a_air    5229 non-null   float64\n",
      " 35  secondary_cleaner.state.floatbank2_a_level  5229 non-null   float64\n",
      " 36  secondary_cleaner.state.floatbank2_b_air    5229 non-null   float64\n",
      " 37  secondary_cleaner.state.floatbank2_b_level  5229 non-null   float64\n",
      " 38  secondary_cleaner.state.floatbank3_a_air    5229 non-null   float64\n",
      " 39  secondary_cleaner.state.floatbank3_a_level  5229 non-null   float64\n",
      " 40  secondary_cleaner.state.floatbank3_b_air    5229 non-null   float64\n",
      " 41  secondary_cleaner.state.floatbank3_b_level  5229 non-null   float64\n",
      " 42  secondary_cleaner.state.floatbank4_a_air    5229 non-null   float64\n",
      " 43  secondary_cleaner.state.floatbank4_a_level  5229 non-null   float64\n",
      " 44  secondary_cleaner.state.floatbank4_b_air    5229 non-null   float64\n",
      " 45  secondary_cleaner.state.floatbank4_b_level  5229 non-null   float64\n",
      " 46  secondary_cleaner.state.floatbank5_a_air    5229 non-null   float64\n",
      " 47  secondary_cleaner.state.floatbank5_a_level  5229 non-null   float64\n",
      " 48  secondary_cleaner.state.floatbank5_b_air    5229 non-null   float64\n",
      " 49  secondary_cleaner.state.floatbank5_b_level  5229 non-null   float64\n",
      " 50  secondary_cleaner.state.floatbank6_a_air    5229 non-null   float64\n",
      " 51  secondary_cleaner.state.floatbank6_a_level  5229 non-null   float64\n",
      " 52  rougher.output.recovery                     5229 non-null   float64\n",
      " 53  final.output.recovery                       5229 non-null   float64\n",
      "dtypes: float64(54)\n",
      "memory usage: 2.2 MB\n"
     ]
    }
   ],
   "source": [
    "data_test_2.info()"
   ]
  },
  {
   "cell_type": "markdown",
   "id": "364ac601",
   "metadata": {},
   "source": [
    "**На данном этапе мне удалось уровнять тестовую и тренировочную выборки по колличеству колонок**"
   ]
  },
  {
   "cell_type": "markdown",
   "id": "28d9b57c",
   "metadata": {},
   "source": [
    "### Предобработка данных"
   ]
  },
  {
   "cell_type": "code",
   "execution_count": 15,
   "id": "7c0508c7",
   "metadata": {},
   "outputs": [
    {
     "data": {
      "text/plain": [
       "secondary_cleaner.output.tail_sol                     1605\n",
       "rougher.state.floatbank10_e_air                        436\n",
       "rougher.input.floatbank11_xanthate                     428\n",
       "primary_cleaner.output.concentrate_sol                 286\n",
       "secondary_cleaner.state.floatbank2_a_air               217\n",
       "final.output.concentrate_sol                           211\n",
       "rougher.input.feed_size                                144\n",
       "primary_cleaner.input.xanthate                         100\n",
       "rougher.input.feed_pb                                  100\n",
       "final.output.tail_pb                                   100\n",
       "primary_cleaner.output.concentrate_pb                   86\n",
       "rougher.input.feed_sol                                  78\n",
       "primary_cleaner.output.tail_sol                         46\n",
       "rougher.input.floatbank11_sulfate                       36\n",
       "primary_cleaner.input.depressant                        32\n",
       "rougher.input.floatbank10_sulfate                       29\n",
       "rougher.output.concentrate_sol                          22\n",
       "secondary_cleaner.state.floatbank2_b_air                21\n",
       "primary_cleaner.input.sulfate                           20\n",
       "primary_cleaner.output.tail_pb                          15\n",
       "secondary_cleaner.output.tail_pb                        10\n",
       "rougher.input.feed_rate                                  8\n",
       "rougher.input.floatbank10_xanthate                       8\n",
       "secondary_cleaner.state.floatbank4_a_air                 6\n",
       "final.output.tail_sol                                    5\n",
       "secondary_cleaner.state.floatbank3_a_air                 4\n",
       "primary_cleaner.state.floatbank8_a_air                   4\n",
       "primary_cleaner.state.floatbank8_b_air                   4\n",
       "primary_cleaner.state.floatbank8_d_air                   3\n",
       "primary_cleaner.state.floatbank8_c_air                   2\n",
       "secondary_cleaner.output.tail_ag                         2\n",
       "secondary_cleaner.state.floatbank6_a_air                 2\n",
       "rougher.state.floatbank10_b_level                        1\n",
       "rougher.state.floatbank10_b_air                          1\n",
       "rougher.state.floatbank10_c_level                        1\n",
       "rougher.state.floatbank10_c_air                          1\n",
       "secondary_cleaner.state.floatbank3_a_level               1\n",
       "secondary_cleaner.state.floatbank2_a_level               1\n",
       "secondary_cleaner.state.floatbank2_b_level               1\n",
       "rougher.state.floatbank10_a_air                          1\n",
       "secondary_cleaner.state.floatbank3_b_air                 1\n",
       "secondary_cleaner.state.floatbank3_b_level               1\n",
       "secondary_cleaner.state.floatbank4_a_level               1\n",
       "secondary_cleaner.state.floatbank4_b_air                 1\n",
       "secondary_cleaner.state.floatbank4_b_level               1\n",
       "secondary_cleaner.state.floatbank5_a_air                 1\n",
       "secondary_cleaner.state.floatbank5_a_level               1\n",
       "secondary_cleaner.state.floatbank5_b_air                 1\n",
       "secondary_cleaner.state.floatbank5_b_level               1\n",
       "rougher.state.floatbank10_a_level                        1\n",
       "secondary_cleaner.state.floatbank6_a_level               1\n",
       "rougher.calculation.floatbank11_sulfate_to_au_feed       1\n",
       "rougher.calculation.floatbank10_sulfate_to_au_feed       1\n",
       "primary_cleaner.state.floatbank8_d_level                 1\n",
       "primary_cleaner.state.floatbank8_c_level                 1\n",
       "primary_cleaner.state.floatbank8_b_level                 1\n",
       "primary_cleaner.state.floatbank8_a_level                 1\n",
       "primary_cleaner.output.tail_ag                           1\n",
       "final.output.concentrate_ag                              1\n",
       "rougher.calculation.sulfate_to_au_concentrate            1\n",
       "dtype: int64"
      ]
     },
     "execution_count": 15,
     "metadata": {},
     "output_type": "execute_result"
    }
   ],
   "source": [
    "#тренировочная выборка\n",
    "data_train.isna().sum().sort_values(ascending = False).head(60)"
   ]
  },
  {
   "cell_type": "code",
   "execution_count": 16,
   "id": "f4efc170",
   "metadata": {},
   "outputs": [
    {
     "data": {
      "text/plain": [
       "rougher.input.floatbank11_xanthate            25\n",
       "rougher.input.feed_sol                        21\n",
       "secondary_cleaner.state.floatbank3_a_air       9\n",
       "rougher.input.floatbank11_sulfate              8\n",
       "primary_cleaner.input.depressant               5\n",
       "rougher.input.floatbank10_sulfate              5\n",
       "primary_cleaner.input.xanthate                 4\n",
       "primary_cleaner.input.sulfate                  4\n",
       "rougher.input.feed_rate                        3\n",
       "secondary_cleaner.state.floatbank2_a_air       3\n",
       "secondary_cleaner.state.floatbank2_b_air       2\n",
       "rougher.input.feed_size                        1\n",
       "secondary_cleaner.state.floatbank2_b_level     0\n",
       "rougher.state.floatbank10_f_level              0\n",
       "rougher.state.floatbank10_f_air                0\n",
       "secondary_cleaner.state.floatbank3_a_level     0\n",
       "secondary_cleaner.state.floatbank2_a_level     0\n",
       "date                                           0\n",
       "rougher.state.floatbank10_e_air                0\n",
       "secondary_cleaner.state.floatbank3_b_air       0\n",
       "secondary_cleaner.state.floatbank3_b_level     0\n",
       "secondary_cleaner.state.floatbank4_a_air       0\n",
       "secondary_cleaner.state.floatbank4_a_level     0\n",
       "secondary_cleaner.state.floatbank4_b_air       0\n",
       "secondary_cleaner.state.floatbank4_b_level     0\n",
       "secondary_cleaner.state.floatbank5_a_air       0\n",
       "secondary_cleaner.state.floatbank5_a_level     0\n",
       "secondary_cleaner.state.floatbank5_b_air       0\n",
       "secondary_cleaner.state.floatbank5_b_level     0\n",
       "secondary_cleaner.state.floatbank6_a_air       0\n",
       "rougher.state.floatbank10_e_level              0\n",
       "rougher.state.floatbank10_b_level              0\n",
       "rougher.state.floatbank10_d_level              0\n",
       "primary_cleaner.state.floatbank8_d_level       0\n",
       "primary_cleaner.input.feed_size                0\n",
       "primary_cleaner.state.floatbank8_a_air         0\n",
       "primary_cleaner.state.floatbank8_a_level       0\n",
       "primary_cleaner.state.floatbank8_b_air         0\n",
       "primary_cleaner.state.floatbank8_b_level       0\n",
       "primary_cleaner.state.floatbank8_c_air         0\n",
       "primary_cleaner.state.floatbank8_c_level       0\n",
       "primary_cleaner.state.floatbank8_d_air         0\n",
       "rougher.input.feed_ag                          0\n",
       "rougher.state.floatbank10_d_air                0\n",
       "rougher.input.feed_pb                          0\n",
       "rougher.input.feed_au                          0\n",
       "rougher.input.floatbank10_xanthate             0\n",
       "rougher.state.floatbank10_a_air                0\n",
       "rougher.state.floatbank10_a_level              0\n",
       "rougher.state.floatbank10_b_air                0\n",
       "rougher.state.floatbank10_c_air                0\n",
       "rougher.state.floatbank10_c_level              0\n",
       "secondary_cleaner.state.floatbank6_a_level     0\n",
       "dtype: int64"
      ]
     },
     "execution_count": 16,
     "metadata": {},
     "output_type": "execute_result"
    }
   ],
   "source": [
    "#тестовая выборка\n",
    "data_test.isna().sum().sort_values(ascending = False).head(60)"
   ]
  },
  {
   "cell_type": "code",
   "execution_count": 17,
   "id": "5c006cab",
   "metadata": {},
   "outputs": [
    {
     "data": {
      "text/plain": [
       "secondary_cleaner.output.tail_sol                     1748\n",
       "rougher.input.floatbank11_xanthate                     453\n",
       "rougher.state.floatbank10_e_air                        436\n",
       "primary_cleaner.output.concentrate_sol                 370\n",
       "secondary_cleaner.state.floatbank2_a_air               220\n",
       "final.output.concentrate_sol                           211\n",
       "rougher.input.feed_size                                145\n",
       "primary_cleaner.output.concentrate_pb                  116\n",
       "primary_cleaner.input.xanthate                         104\n",
       "final.output.tail_pb                                   101\n",
       "rougher.input.feed_pb                                  100\n",
       "rougher.input.feed_sol                                  99\n",
       "primary_cleaner.output.tail_sol                         62\n",
       "rougher.input.floatbank11_sulfate                       44\n",
       "primary_cleaner.input.depressant                        37\n",
       "rougher.input.floatbank10_sulfate                       34\n",
       "primary_cleaner.input.sulfate                           24\n",
       "rougher.output.concentrate_sol                          23\n",
       "secondary_cleaner.state.floatbank2_b_air                23\n",
       "primary_cleaner.output.tail_pb                          21\n",
       "secondary_cleaner.state.floatbank3_a_air                13\n",
       "secondary_cleaner.output.tail_pb                        12\n",
       "rougher.input.feed_rate                                 11\n",
       "rougher.input.floatbank10_xanthate                       8\n",
       "final.output.tail_sol                                    6\n",
       "secondary_cleaner.state.floatbank4_a_air                 6\n",
       "primary_cleaner.output.tail_ag                           4\n",
       "primary_cleaner.state.floatbank8_b_air                   4\n",
       "primary_cleaner.state.floatbank8_a_air                   4\n",
       "primary_cleaner.state.floatbank8_d_air                   3\n",
       "rougher.calculation.floatbank11_sulfate_to_au_feed       2\n",
       "secondary_cleaner.output.tail_ag                         2\n",
       "primary_cleaner.state.floatbank8_c_air                   2\n",
       "rougher.calculation.sulfate_to_au_concentrate            2\n",
       "secondary_cleaner.state.floatbank6_a_air                 2\n",
       "rougher.calculation.floatbank10_sulfate_to_au_feed       2\n",
       "secondary_cleaner.state.floatbank2_b_level               1\n",
       "secondary_cleaner.state.floatbank5_a_air                 1\n",
       "rougher.state.floatbank10_b_level                        1\n",
       "rougher.state.floatbank10_c_air                          1\n",
       "rougher.state.floatbank10_c_level                        1\n",
       "secondary_cleaner.state.floatbank5_b_level               1\n",
       "secondary_cleaner.state.floatbank5_b_air                 1\n",
       "secondary_cleaner.state.floatbank5_a_level               1\n",
       "secondary_cleaner.state.floatbank4_b_level               1\n",
       "secondary_cleaner.state.floatbank4_b_air                 1\n",
       "secondary_cleaner.state.floatbank4_a_level               1\n",
       "secondary_cleaner.state.floatbank3_b_level               1\n",
       "secondary_cleaner.state.floatbank2_a_level               1\n",
       "secondary_cleaner.state.floatbank3_b_air                 1\n",
       "rougher.state.floatbank10_a_level                        1\n",
       "secondary_cleaner.state.floatbank3_a_level               1\n",
       "rougher.state.floatbank10_b_air                          1\n",
       "secondary_cleaner.state.floatbank6_a_level               1\n",
       "rougher.state.floatbank10_a_air                          1\n",
       "final.output.tail_ag                                     1\n",
       "final.output.concentrate_ag                              1\n",
       "primary_cleaner.state.floatbank8_c_level                 1\n",
       "primary_cleaner.state.floatbank8_b_level                 1\n",
       "primary_cleaner.state.floatbank8_a_level                 1\n",
       "dtype: int64"
      ]
     },
     "execution_count": 17,
     "metadata": {},
     "output_type": "execute_result"
    }
   ],
   "source": [
    "#полная выборка\n",
    "data_full.isna().sum().sort_values(ascending = False).head(60)"
   ]
  },
  {
   "cell_type": "code",
   "execution_count": 18,
   "id": "aabf409e",
   "metadata": {},
   "outputs": [
    {
     "name": "stdout",
     "output_type": "stream",
     "text": [
      "Колличесвто пропусков в тренировочной выборке: 1705\n",
      "Колличесвто пропусков в тестовой выборке: 0\n",
      "Колличесвто пропусков в полной выборке: 4481\n"
     ]
    }
   ],
   "source": [
    "print('Колличесвто пропусков в тренировочной выборке:',data_train_2.isna().sum().sum())\n",
    "print('Колличесвто пропусков в тестовой выборке:',data_test_2.isna().sum().sum())\n",
    "print('Колличесвто пропусков в полной выборке:',data_full.isna().sum().sum())"
   ]
  },
  {
   "cell_type": "code",
   "execution_count": 19,
   "id": "8f333547",
   "metadata": {},
   "outputs": [
    {
     "name": "stdout",
     "output_type": "stream",
     "text": [
      "Колличесвто пропусков в тренировочной выборке: 0\n",
      "Колличесвто пропусков в тестовой выборке: 0\n",
      "Колличесвто пропусков в полной выборке: 0\n"
     ]
    }
   ],
   "source": [
    "data_train_2 = data_train_2.fillna(-1)\n",
    "data_test_2 = data_test_2.fillna(-1)\n",
    "data_full = data_full.fillna(-1)\n",
    "print('Колличесвто пропусков в тренировочной выборке:',data_train_2.isna().sum().sum())\n",
    "print('Колличесвто пропусков в тестовой выборке:',data_test_2.isna().sum().sum())\n",
    "print('Колличесвто пропусков в полной выборке:',data_full.isna().sum().sum())"
   ]
  },
  {
   "cell_type": "markdown",
   "id": "de9c1307",
   "metadata": {},
   "source": [
    "**Я открыл и изучил данные.Заменил пропуски значением -1 просто чтобы отделить их от реальных значений.В тренировочной выборке удилил колонки которых нет в тестовой,а к тестовой выборке добавил целевые признаки из полной выборки**"
   ]
  },
  {
   "cell_type": "markdown",
   "id": "9cc9c43d",
   "metadata": {},
   "source": [
    "## Анализ данных"
   ]
  },
  {
   "cell_type": "markdown",
   "id": "0a16e0eb",
   "metadata": {},
   "source": [
    "###   Изменения концентрации металлов (Au, Ag, Pb) на различных этапах очистки"
   ]
  },
  {
   "cell_type": "code",
   "execution_count": 20,
   "id": "eabf80f9",
   "metadata": {},
   "outputs": [],
   "source": [
    "def hists(x,y,z,title):\n",
    "    plt.hist(x, label='сырье')\n",
    "    plt.hist(y, label='черновой концентрат')\n",
    "    plt.hist(z, label='финальный концентрат')\n",
    "    plt.legend(loc='upper right')\n",
    "    plt.title(title)\n",
    "    return plt.show()\n",
    "\n",
    "#запишу нужные столбцы для Aurum\n",
    "x_au = data_full['rougher.output.concentrate_au']\n",
    "y_au = data_full['primary_cleaner.output.concentrate_au']\n",
    "z_au = data_full['final.output.concentrate_au']\n",
    "#запишу нужные столбцы для Аrgentum\n",
    "x_ag = data_full['rougher.output.concentrate_ag']\n",
    "y_ag = data_full['primary_cleaner.output.concentrate_ag']\n",
    "z_ag = data_full['final.output.concentrate_ag']\n",
    "#запишу нужные столбцы для Plumbum\n",
    "x_pb = data_full['rougher.output.concentrate_pb']\n",
    "y_pb = data_full['primary_cleaner.output.concentrate_pb']\n",
    "z_pb = data_full['final.output.concentrate_pb']"
   ]
  },
  {
   "cell_type": "code",
   "execution_count": 21,
   "id": "df4bcf76",
   "metadata": {},
   "outputs": [
    {
     "data": {
      "image/png": "[encoded data removed]",
      "text/plain": [
       "<Figure size 432x288 with 1 Axes>"
      ]
     },
     "metadata": {
      "needs_background": "light"
     },
     "output_type": "display_data"
    }
   ],
   "source": [
    "Aurum = hists(x_au,y_au,z_au,'Изменения концентрации золота:');"
   ]
  },
  {
   "cell_type": "markdown",
   "id": "1c6851ee",
   "metadata": {},
   "source": [
    "**Мы можем наблюдать как концентрация золота растет от этапа к этапу**"
   ]
  },
  {
   "cell_type": "code",
   "execution_count": 22,
   "id": "d6a6d8ce",
   "metadata": {},
   "outputs": [
    {
     "data": {
      "image/png": "[encoded data removed]",
      "text/plain": [
       "<Figure size 432x288 with 1 Axes>"
      ]
     },
     "metadata": {
      "needs_background": "light"
     },
     "output_type": "display_data"
    }
   ],
   "source": [
    "Аrgentum = hists(x_ag,y_ag,z_ag,'Изменения концентрации серебра:')"
   ]
  },
  {
   "cell_type": "markdown",
   "id": "2f10f8c9",
   "metadata": {},
   "source": [
    "**Концентрация серебра так же растет**"
   ]
  },
  {
   "cell_type": "code",
   "execution_count": 23,
   "id": "2845c77b",
   "metadata": {},
   "outputs": [
    {
     "data": {
      "image/png": "[encoded data removed]",
      "text/plain": [
       "<Figure size 432x288 with 1 Axes>"
      ]
     },
     "metadata": {
      "needs_background": "light"
     },
     "output_type": "display_data"
    }
   ],
   "source": [
    "Plumbum = hists(x_pb,y_pb,z_pb,'Изменения концентрации плюмбума:')"
   ]
  },
  {
   "cell_type": "markdown",
   "id": "a4f9f3d9",
   "metadata": {},
   "source": [
    "**На финальном этапе плюмбум остается примерно на том же уровне что и  в черновом концентрате**"
   ]
  },
  {
   "cell_type": "markdown",
   "id": "cbce17ba",
   "metadata": {},
   "source": [
    "### Распределения размеров гранул сырья на обучающей и тестовой выборках"
   ]
  },
  {
   "cell_type": "code",
   "execution_count": 24,
   "id": "366dc99c",
   "metadata": {},
   "outputs": [
    {
     "data": {
      "image/png": "[encoded data removed]",
      "text/plain": [
       "<Figure size 1152x360 with 1 Axes>"
      ]
     },
     "metadata": {
      "needs_background": "light"
     },
     "output_type": "display_data"
    }
   ],
   "source": [
    "data_train_feed = data_train[['rougher.input.feed_ag','rougher.input.feed_pb',\n",
    "                            'rougher.input.feed_size',\n",
    "                            'rougher.input.feed_sol','rougher.input.feed_au']] \n",
    "\n",
    "fig, ax = plt.subplots(1,1,figsize=(16, 5))\n",
    "sns.boxplot(data=data_train_feed, palette='rainbow', orient='h');"
   ]
  },
  {
   "cell_type": "code",
   "execution_count": 25,
   "id": "b8cf4130",
   "metadata": {},
   "outputs": [
    {
     "data": {
      "image/png": "[encoded data removed]",
      "text/plain": [
       "<Figure size 1152x360 with 1 Axes>"
      ]
     },
     "metadata": {
      "needs_background": "light"
     },
     "output_type": "display_data"
    }
   ],
   "source": [
    "data_test_feed = data_test[['rougher.input.feed_ag','rougher.input.feed_pb',\n",
    "                            'rougher.input.feed_size',\n",
    "                            'rougher.input.feed_sol','rougher.input.feed_au']]\n",
    "fig, ax = plt.subplots(1,1,figsize=(16, 5))\n",
    "sns.boxplot(data=data_test_feed, palette='rainbow', orient='h');"
   ]
  },
  {
   "cell_type": "markdown",
   "id": "504bfbe8",
   "metadata": {},
   "source": [
    "**В данном случае мы видим что распределение гранул сырья в тестовой и тренировочной выборке практически идентичны,но немного отличается от такового для обучающей - первое сдвинуто немного в меньшую сторону. НО в целом размеры большинства частиц лежат в оптимальном интервале 40—100**"
   ]
  },
  {
   "cell_type": "markdown",
   "id": "bcb73492",
   "metadata": {},
   "source": [
    "### Исследование суммарной концентрации всех веществ на разных стадиях: в сырье, в черновом и финальном концентратах"
   ]
  },
  {
   "cell_type": "code",
   "execution_count": 26,
   "id": "fce6b435",
   "metadata": {},
   "outputs": [
    {
     "data": {
      "image/png": "[encoded data removed]",
      "text/plain": [
       "<Figure size 432x288 with 1 Axes>"
      ]
     },
     "metadata": {
      "needs_background": "light"
     },
     "output_type": "display_data"
    }
   ],
   "source": [
    "#для начала из пункта 2.1 скопирую уже имеющиеся у меня переменные \n",
    "#для AU\n",
    "x_au = data_full['rougher.output.concentrate_au']\n",
    "y_au = data_full['primary_cleaner.output.concentrate_au']\n",
    "z_au = data_full['final.output.concentrate_au']\n",
    "#для AG\n",
    "x_ag = data_full['rougher.output.concentrate_ag']\n",
    "y_ag = data_full['primary_cleaner.output.concentrate_ag']\n",
    "z_ag = data_full['final.output.concentrate_ag']\n",
    "#для PB\n",
    "x_pb = data_full['rougher.output.concentrate_pb']\n",
    "y_pb = data_full['primary_cleaner.output.concentrate_pb']\n",
    "z_pb = data_full['final.output.concentrate_pb']\n",
    "#и добавлю новые переменные для солей\n",
    "x_sol = data_full['rougher.output.concentrate_sol']\n",
    "y_sol = data_full['primary_cleaner.output.concentrate_sol']\n",
    "z_sol = data_full['final.output.concentrate_sol']\n",
    "#сумирую переменные для каждого этапа\n",
    "x = x_au + x_ag + x_pb + x_sol #сырье\n",
    "y = y_au + y_ag + y_pb + y_sol #черновой концентрат\n",
    "z = z_au + z_ag + z_pb + z_sol #финальный концентрат\n",
    "#и теперь отправляю все это в мою функцию hists\n",
    "Concentrates = hists(x,y,z,'Исследование суммарной концентрации всех веществ на разных стадиях:')"
   ]
  },
  {
   "cell_type": "markdown",
   "id": "f091c2ac",
   "metadata": {},
   "source": [
    "**Сумарная концентрация веществ растет к финальному этапу**"
   ]
  },
  {
   "cell_type": "markdown",
   "id": "ba26d768",
   "metadata": {},
   "source": [
    "## Модель"
   ]
  },
  {
   "cell_type": "markdown",
   "id": "5306c88b",
   "metadata": {},
   "source": [
    "### Функция для вычисления итоговой sMAPE"
   ]
  },
  {
   "cell_type": "code",
   "execution_count": 27,
   "id": "985a7e79",
   "metadata": {},
   "outputs": [],
   "source": [
    "#функции для вычисления sMAPE и Final sMAPE\n",
    "def smape(predictions, target):\n",
    "    return 100/len(predictions) * np.sum(2 * np.abs(target - predictions) / (np.abs(predictions) + np.abs(target)))\n",
    "\n",
    "def outcome_smape(smape_rougher,smape_final):\n",
    "    return 0.25 * smape_rougher + 0.75 * smape_final"
   ]
  },
  {
   "cell_type": "markdown",
   "id": "911dd53b",
   "metadata": {},
   "source": [
    "**Функции для оценки моделей**"
   ]
  },
  {
   "cell_type": "markdown",
   "id": "b03534d3",
   "metadata": {},
   "source": [
    "### Обучение разных моделей и оценка их качества кросс-валидацией"
   ]
  },
  {
   "cell_type": "code",
   "execution_count": 28,
   "id": "8b7d7e93",
   "metadata": {},
   "outputs": [],
   "source": [
    "#функции для разбиения выборок на признаки\n",
    "def sample_rougher(data):\n",
    "    features = data.drop(['rougher.output.recovery'], axis=1) \n",
    "    target = data['rougher.output.recovery']\n",
    "    return features,target\n",
    "\n",
    "def sample_final(data):\n",
    "    features = data.drop(['final.output.recovery'], axis=1) \n",
    "    target = data['final.output.recovery']\n",
    "    return features,target"
   ]
  },
  {
   "cell_type": "code",
   "execution_count": 29,
   "id": "9411eef6",
   "metadata": {},
   "outputs": [],
   "source": [
    "#функции для кросс-валидации\n",
    "#дерево решений\n",
    "def model_tree(features,target):\n",
    "    model = DecisionTreeRegressor()\n",
    "    sMAPE = make_scorer(smape) \n",
    "    score = cross_val_score(model, features,target,scoring=sMAPE, cv=5)\n",
    "    return score.mean()    \n",
    "#случайный лес\n",
    "def model_forest(features,target):\n",
    "    model = RandomForestRegressor()\n",
    "    sMAPE = make_scorer(smape) \n",
    "    score = cross_val_score(model, features,target,scoring=sMAPE, cv=5)\n",
    "    return score.mean()\n",
    "#линейная регрессия\n",
    "def model_regression(features,target):\n",
    "    model = LinearRegression()\n",
    "    sMAPE = make_scorer(smape) \n",
    "    score = cross_val_score(model, features,target,scoring=sMAPE, cv=5)\n",
    "    return score.mean()"
   ]
  },
  {
   "cell_type": "code",
   "execution_count": 30,
   "id": "1bd9cb40",
   "metadata": {},
   "outputs": [],
   "source": [
    "#дамми классификатор\n",
    "def Dummy(features,target):\n",
    "    sMAPE = make_scorer(smape)\n",
    "    dummy_regr = DummyRegressor(strategy=\"mean\",).fit(features,target)\n",
    "    score = cross_val_score(dummy_regr, features,target,scoring=sMAPE, cv=5)\n",
    "    return score.mean()"
   ]
  },
  {
   "cell_type": "code",
   "execution_count": 31,
   "id": "70842f4d",
   "metadata": {},
   "outputs": [],
   "source": [
    "#разобьем выборку на подвыборки\n",
    "features_train_rougher,target_train_rougher = sample_rougher(data_train_2)\n",
    "features_train_final,target_train_final = sample_final(data_train_2)"
   ]
  },
  {
   "cell_type": "code",
   "execution_count": 32,
   "id": "4e7c8849",
   "metadata": {},
   "outputs": [
    {
     "name": "stdout",
     "output_type": "stream",
     "text": [
      "Оценка Dummy классификатора для выборки rougher: 12.215336413217326\n",
      "Оценка Dummy классификатора для выборки final: 12.215336413217326\n"
     ]
    }
   ],
   "source": [
    "#приступим к моделям но для начала посчитаем на дамми классификаторе\n",
    "score_rougher = Dummy(features_train_rougher,target_train_rougher)\n",
    "score_final = Dummy(features_train_final,target_train_final)\n",
    "print('Оценка Dummy классификатора для выборки rougher:',score_rougher)\n",
    "print('Оценка Dummy классификатора для выборки final:',score_rougher)"
   ]
  },
  {
   "cell_type": "code",
   "execution_count": 33,
   "id": "7302b279",
   "metadata": {},
   "outputs": [
    {
     "name": "stdout",
     "output_type": "stream",
     "text": [
      "Оценка модели дерево решений для выборки rougher 17.12201446849109\n",
      "Оценка модели дерево решений для выборки final 22.395021377571567\n"
     ]
    }
   ],
   "source": [
    "#модель дерево решений\n",
    "model_tree_rougher_score = model_tree(features_train_rougher,target_train_rougher)\n",
    "model_tree_final_score = model_tree(features_train_final,target_train_final)\n",
    "\n",
    "print('Оценка модели дерево решений для выборки rougher',model_tree_rougher_score)\n",
    "print('Оценка модели дерево решений для выборки final',model_tree_final_score)"
   ]
  },
  {
   "cell_type": "code",
   "execution_count": 34,
   "id": "862196c6",
   "metadata": {},
   "outputs": [
    {
     "name": "stdout",
     "output_type": "stream",
     "text": [
      "Оценка модели случайного леса для выборки rougher 11.704472595351117\n",
      "Оценка модели случайного леса для выборки final 10.843470692085457\n"
     ]
    }
   ],
   "source": [
    "#модель случайного леса\n",
    "model_forest_rougher_score = model_forest(features_train_rougher,target_train_rougher)\n",
    "model_forest_final_score = model_forest(features_train_final,target_train_final)\n",
    "print('Оценка модели случайного леса для выборки rougher',model_forest_rougher_score)\n",
    "print('Оценка модели случайного леса для выборки final',model_forest_final_score)"
   ]
  },
  {
   "cell_type": "code",
   "execution_count": 35,
   "id": "d269faba",
   "metadata": {},
   "outputs": [
    {
     "name": "stdout",
     "output_type": "stream",
     "text": [
      "Оценка модели регрессии для выборки rougher 12.287843346118695\n",
      "Оценка модели регрессии для выборки final 12.338353312891098\n"
     ]
    }
   ],
   "source": [
    "#модель регрессии\n",
    "model_regression_rougher_score = model_regression(features_train_rougher,target_train_rougher)\n",
    "model_regression_final_score = model_regression(features_train_final,target_train_final)\n",
    "print('Оценка модели регрессии для выборки rougher',model_regression_rougher_score)\n",
    "print('Оценка модели регрессии для выборки final',model_regression_final_score)"
   ]
  },
  {
   "cell_type": "markdown",
   "id": "529f00f6",
   "metadata": {},
   "source": [
    "**Попробую улучшить модели**"
   ]
  },
  {
   "cell_type": "code",
   "execution_count": 36,
   "id": "d6bc4beb",
   "metadata": {},
   "outputs": [
    {
     "data": {
      "text/plain": [
       "{'max_depth': 5}"
      ]
     },
     "execution_count": 36,
     "metadata": {},
     "output_type": "execute_result"
    }
   ],
   "source": [
    "#решающее дерево для rougher\n",
    "parameters_tree = {'max_depth': range (1,13, 2)}\n",
    "clf = DecisionTreeRegressor(random_state=42)\n",
    "grid = GridSearchCV(clf, parameters_tree, cv=5)\n",
    "grid.fit(features_train_rougher,target_train_rougher)\n",
    "grid.best_params_"
   ]
  },
  {
   "cell_type": "code",
   "execution_count": 37,
   "id": "23b2b312",
   "metadata": {},
   "outputs": [
    {
     "data": {
      "text/plain": [
       "{'max_depth': 3}"
      ]
     },
     "execution_count": 37,
     "metadata": {},
     "output_type": "execute_result"
    }
   ],
   "source": [
    "#решающее дерево для final\n",
    "parameters_tree = {'max_depth': range (1,13, 2)}\n",
    "clf = DecisionTreeRegressor(random_state=42)\n",
    "grid = GridSearchCV(clf, parameters_tree, cv=5)\n",
    "grid.fit(features_train_final,target_train_final)\n",
    "grid.best_params_"
   ]
  },
  {
   "cell_type": "code",
   "execution_count": 38,
   "id": "9cde99b1",
   "metadata": {},
   "outputs": [
    {
     "data": {
      "text/plain": [
       "{'max_depth': 3, 'n_estimators': 40}"
      ]
     },
     "execution_count": 38,
     "metadata": {},
     "output_type": "execute_result"
    }
   ],
   "source": [
    "#случайный лес для rougher\n",
    "parameters_forest = { 'n_estimators': range (10, 51, 10),\n",
    "              'max_depth': range (1,13, 2)}\n",
    "clf = RandomForestRegressor(random_state=42)\n",
    "grid = GridSearchCV(clf, parameters_forest, cv=2,n_jobs=-1)\n",
    "grid.fit(features_train_rougher,target_train_rougher)\n",
    "grid.best_params_"
   ]
  },
  {
   "cell_type": "code",
   "execution_count": 39,
   "id": "fd05a4e8",
   "metadata": {},
   "outputs": [
    {
     "data": {
      "text/plain": [
       "{'max_depth': 3, 'n_estimators': 20}"
      ]
     },
     "execution_count": 39,
     "metadata": {},
     "output_type": "execute_result"
    }
   ],
   "source": [
    "#случайный лес для final\n",
    "parameters_forest = { 'n_estimators': range (10, 51, 10),\n",
    "              'max_depth': range (1,13, 2)}\n",
    "clf = RandomForestRegressor(random_state=42)\n",
    "grid = GridSearchCV(clf, parameters_forest, cv=2,n_jobs=-1)\n",
    "grid.fit(features_train_final,target_train_final)\n",
    "grid.best_params_"
   ]
  },
  {
   "cell_type": "code",
   "execution_count": 40,
   "id": "558c9e7e",
   "metadata": {},
   "outputs": [
    {
     "name": "stdout",
     "output_type": "stream",
     "text": [
      "Оценка модели дерево решений для выборки rougher 11.080131540256955\n",
      "Оценка модели дерево решений для выборки final 9.511286192149777\n",
      "Оценка модели случайного леса для выборки rougher 10.408981775810789\n",
      "Оценка модели случайного леса для выборки final 9.139819200737518\n"
     ]
    }
   ],
   "source": [
    "#теперь проверим модели внеся в них гиперпараметры\n",
    "#решающее дерево\n",
    "model_tree_rougher = DecisionTreeRegressor(random_state=42,max_depth=5)\n",
    "model_tree_final = DecisionTreeRegressor(random_state=42,max_depth=3)\n",
    "sMAPE = make_scorer(smape) \n",
    "score_tree_rougher = cross_val_score(model_tree_rougher, features_train_rougher,target_train_rougher,scoring=sMAPE, cv=5).mean()\n",
    "score_tree_final = cross_val_score(model_tree_final, features_train_final,target_train_final,scoring=sMAPE, cv=5).mean()\n",
    "print('Оценка модели дерево решений для выборки rougher',score_tree_rougher)\n",
    "print('Оценка модели дерево решений для выборки final',score_tree_final)\n",
    "\n",
    "#случайный лес\n",
    "model_forest_rougher = RandomForestRegressor(random_state=42,max_depth=3,n_estimators=40)\n",
    "model_forest_final = RandomForestRegressor(random_state=42,max_depth=3,n_estimators=20)\n",
    "sMAPE = make_scorer(smape)\n",
    "score_forest_rougher = cross_val_score(model_forest_rougher, \n",
    "                                       features_train_rougher,target_train_rougher,scoring=sMAPE, cv=5).mean()\n",
    "score_forest_final = cross_val_score(model_forest_final, features_train_final,target_train_final,scoring=sMAPE, cv=5).mean()\n",
    "print('Оценка модели случайного леса для выборки rougher',score_forest_rougher)\n",
    "print('Оценка модели случайного леса для выборки final',score_forest_final)"
   ]
  },
  {
   "cell_type": "markdown",
   "id": "86401c69",
   "metadata": {},
   "source": [
    "**Теперь посчитаю финальный sMape для всех трех моделей и выведу результаты для сравнения**"
   ]
  },
  {
   "cell_type": "code",
   "execution_count": 41,
   "id": "77d549a3",
   "metadata": {},
   "outputs": [],
   "source": [
    "sMape_for_model_tree = outcome_smape(score_tree_rougher,score_tree_final)\n",
    "sMape_for_model_forest = outcome_smape(score_forest_rougher,score_forest_final) \n",
    "sMape_for_model_regression = outcome_smape(model_regression_rougher_score,model_regression_final_score)"
   ]
  },
  {
   "cell_type": "code",
   "execution_count": 42,
   "id": "fe4e44b4",
   "metadata": {},
   "outputs": [
    {
     "data": {
      "text/html": [
       "<div>\n",
       "<style scoped>\n",
       "    .dataframe tbody tr th:only-of-type {\n",
       "        vertical-align: middle;\n",
       "    }\n",
       "\n",
       "    .dataframe tbody tr th {\n",
       "        vertical-align: top;\n",
       "    }\n",
       "\n",
       "    .dataframe thead th {\n",
       "        text-align: right;\n",
       "    }\n",
       "</style>\n",
       "<table border=\"1\" class=\"dataframe\">\n",
       "  <thead>\n",
       "    <tr style=\"text-align: right;\">\n",
       "      <th></th>\n",
       "      <th>Тест</th>\n",
       "      <th>Решающее дерево</th>\n",
       "      <th>Случайный лес</th>\n",
       "      <th>Регрессия</th>\n",
       "    </tr>\n",
       "  </thead>\n",
       "  <tbody>\n",
       "    <tr>\n",
       "      <th>0</th>\n",
       "      <td>sMape_rougher</td>\n",
       "      <td>11.080132</td>\n",
       "      <td>10.408982</td>\n",
       "      <td>12.287843</td>\n",
       "    </tr>\n",
       "    <tr>\n",
       "      <th>1</th>\n",
       "      <td>sMape_final</td>\n",
       "      <td>9.511286</td>\n",
       "      <td>9.139819</td>\n",
       "      <td>12.338353</td>\n",
       "    </tr>\n",
       "    <tr>\n",
       "      <th>2</th>\n",
       "      <td>SMAPE</td>\n",
       "      <td>9.903498</td>\n",
       "      <td>9.457110</td>\n",
       "      <td>12.325726</td>\n",
       "    </tr>\n",
       "  </tbody>\n",
       "</table>\n",
       "</div>"
      ],
      "text/plain": [
       "            Тест  Решающее дерево  Случайный лес  Регрессия\n",
       "0  sMape_rougher        11.080132      10.408982  12.287843\n",
       "1    sMape_final         9.511286       9.139819  12.338353\n",
       "2          SMAPE         9.903498       9.457110  12.325726"
      ]
     },
     "execution_count": 42,
     "metadata": {},
     "output_type": "execute_result"
    }
   ],
   "source": [
    "goals =pd.DataFrame({ 'Тест':['sMape_rougher','sMape_final','SMAPE'],\n",
    "                     'Решающее дерево':[score_tree_rougher,score_tree_final,sMape_for_model_tree],\n",
    "                     'Случайный лес':[score_forest_rougher,score_forest_final,sMape_for_model_forest],\n",
    "                     'Регрессия':[model_regression_rougher_score,model_regression_final_score,sMape_for_model_regression]})\n",
    "                     \n",
    "goals  "
   ]
  },
  {
   "cell_type": "markdown",
   "id": "aac9ab5d",
   "metadata": {},
   "source": [
    "**Как мы видим из таблицы выше модель случайного леса показала самый высокий результат**"
   ]
  },
  {
   "cell_type": "markdown",
   "id": "616b2956",
   "metadata": {},
   "source": [
    "**Теперь проверю модель случайного леса на тестовой выборке**"
   ]
  },
  {
   "cell_type": "code",
   "execution_count": 43,
   "id": "a29e90fd",
   "metadata": {},
   "outputs": [],
   "source": [
    "#разобью тестовую выборку на признаки\n",
    "features_test_rougher,target_test_rougher = sample_rougher(data_test_2)\n",
    "features_test_final,target_test_final = sample_final(data_test_2)"
   ]
  },
  {
   "cell_type": "code",
   "execution_count": 44,
   "id": "5bf7381e",
   "metadata": {},
   "outputs": [
    {
     "name": "stdout",
     "output_type": "stream",
     "text": [
      "Оценка модели случайного леса для выборки rougher 10.743485431305903\n",
      "Оценка модели случайного леса для выборки final 8.754579038077424\n"
     ]
    }
   ],
   "source": [
    "model_forest_rougher = RandomForestRegressor(random_state=42,max_depth=3,n_estimators=40)\n",
    "model_forest_final = RandomForestRegressor(random_state=42,max_depth=3,n_estimators=20)\n",
    "sMAPE = make_scorer(smape)\n",
    "score_forest_rougher = cross_val_score(model_forest_rougher, \n",
    "                                       features_test_rougher,target_test_rougher,scoring=sMAPE, cv=5).mean()\n",
    "score_forest_final = cross_val_score(model_forest_final, features_test_final,target_test_final,scoring=sMAPE, cv=5).mean()\n",
    "print('Оценка модели случайного леса для выборки rougher',score_forest_rougher)\n",
    "print('Оценка модели случайного леса для выборки final',score_forest_final)"
   ]
  },
  {
   "cell_type": "code",
   "execution_count": 45,
   "id": "da8caf03",
   "metadata": {},
   "outputs": [
    {
     "name": "stdout",
     "output_type": "stream",
     "text": [
      "Финальный показатель sMAPE для модели случайный лес: 9.251805636384542\n"
     ]
    }
   ],
   "source": [
    "sMape = outcome_smape(score_forest_rougher,score_forest_final)\n",
    "print('Финальный показатель sMAPE для модели случайный лес:',sMape)"
   ]
  },
  {
   "cell_type": "markdown",
   "id": "53aa480c",
   "metadata": {},
   "source": [
    "### Вывод"
   ]
  },
  {
   "cell_type": "markdown",
   "id": "a21df0e4",
   "metadata": {},
   "source": [
    "**Я обучил и проверил три модели.Лучшие показатели sMape показала модель случайного леса.При этом модель решающего дерева так же прошла проверку на адекватность ,так как ее показатели ниже чем показатели Dummy**"
   ]
  },
  {
   "cell_type": "code",
   "execution_count": null,
   "id": "10d05ea3",
   "metadata": {},
   "outputs": [],
   "source": []
  }
 ],
 "metadata": {
  "kernelspec": {
   "display_name": "Python 3",
   "language": "python",
   "name": "python3"
  },
  "language_info": {
   "codemirror_mode": {
    "name": "ipython",
    "version": 3
   },
   "file_extension": ".py",
   "mimetype": "text/x-python",
   "name": "python",
   "nbconvert_exporter": "python",
   "pygments_lexer": "ipython3",
   "version": "3.8.8"
  }
 },
 "nbformat": 4,
 "nbformat_minor": 5
}
