{
 "cells": [
  {
   "cell_type": "markdown",
   "metadata": {},
   "source": [
    "# Сборный проект"
   ]
  },
  {
   "cell_type": "code",
   "execution_count": 1,
   "metadata": {},
   "outputs": [],
   "source": [
    "import pandas as pd\n",
    "from scipy import stats as st\n",
    "import numpy as np\n",
    "import matplotlib.pyplot as plt\n",
    "from math import factorial\n",
    "import plotly\n",
    "import plotly.express as px\n",
    "import seaborn as sns"
   ]
  },
  {
   "cell_type": "code",
   "execution_count": 2,
   "metadata": {},
   "outputs": [],
   "source": [
    "games = pd.read_csv('/datasets/games.csv')"
   ]
  },
  {
   "cell_type": "markdown",
   "metadata": {},
   "source": [
    "### Изучение общей информации"
   ]
  },
  {
   "cell_type": "code",
   "execution_count": 3,
   "metadata": {},
   "outputs": [
    {
     "data": {
      "text/html": [
       "<div>\n",
       "<style scoped>\n",
       "    .dataframe tbody tr th:only-of-type {\n",
       "        vertical-align: middle;\n",
       "    }\n",
       "\n",
       "    .dataframe tbody tr th {\n",
       "        vertical-align: top;\n",
       "    }\n",
       "\n",
       "    .dataframe thead th {\n",
       "        text-align: right;\n",
       "    }\n",
       "</style>\n",
       "<table border=\"1\" class=\"dataframe\">\n",
       "  <thead>\n",
       "    <tr style=\"text-align: right;\">\n",
       "      <th></th>\n",
       "      <th>Name</th>\n",
       "      <th>Platform</th>\n",
       "      <th>Year_of_Release</th>\n",
       "      <th>Genre</th>\n",
       "      <th>NA_sales</th>\n",
       "      <th>EU_sales</th>\n",
       "      <th>JP_sales</th>\n",
       "      <th>Other_sales</th>\n",
       "      <th>Critic_Score</th>\n",
       "      <th>User_Score</th>\n",
       "      <th>Rating</th>\n",
       "    </tr>\n",
       "  </thead>\n",
       "  <tbody>\n",
       "    <tr>\n",
       "      <td>0</td>\n",
       "      <td>Wii Sports</td>\n",
       "      <td>Wii</td>\n",
       "      <td>2006.0</td>\n",
       "      <td>Sports</td>\n",
       "      <td>41.36</td>\n",
       "      <td>28.96</td>\n",
       "      <td>3.77</td>\n",
       "      <td>8.45</td>\n",
       "      <td>76.0</td>\n",
       "      <td>8</td>\n",
       "      <td>E</td>\n",
       "    </tr>\n",
       "    <tr>\n",
       "      <td>1</td>\n",
       "      <td>Super Mario Bros.</td>\n",
       "      <td>NES</td>\n",
       "      <td>1985.0</td>\n",
       "      <td>Platform</td>\n",
       "      <td>29.08</td>\n",
       "      <td>3.58</td>\n",
       "      <td>6.81</td>\n",
       "      <td>0.77</td>\n",
       "      <td>NaN</td>\n",
       "      <td>NaN</td>\n",
       "      <td>NaN</td>\n",
       "    </tr>\n",
       "    <tr>\n",
       "      <td>2</td>\n",
       "      <td>Mario Kart Wii</td>\n",
       "      <td>Wii</td>\n",
       "      <td>2008.0</td>\n",
       "      <td>Racing</td>\n",
       "      <td>15.68</td>\n",
       "      <td>12.76</td>\n",
       "      <td>3.79</td>\n",
       "      <td>3.29</td>\n",
       "      <td>82.0</td>\n",
       "      <td>8.3</td>\n",
       "      <td>E</td>\n",
       "    </tr>\n",
       "    <tr>\n",
       "      <td>3</td>\n",
       "      <td>Wii Sports Resort</td>\n",
       "      <td>Wii</td>\n",
       "      <td>2009.0</td>\n",
       "      <td>Sports</td>\n",
       "      <td>15.61</td>\n",
       "      <td>10.93</td>\n",
       "      <td>3.28</td>\n",
       "      <td>2.95</td>\n",
       "      <td>80.0</td>\n",
       "      <td>8</td>\n",
       "      <td>E</td>\n",
       "    </tr>\n",
       "    <tr>\n",
       "      <td>4</td>\n",
       "      <td>Pokemon Red/Pokemon Blue</td>\n",
       "      <td>GB</td>\n",
       "      <td>1996.0</td>\n",
       "      <td>Role-Playing</td>\n",
       "      <td>11.27</td>\n",
       "      <td>8.89</td>\n",
       "      <td>10.22</td>\n",
       "      <td>1.00</td>\n",
       "      <td>NaN</td>\n",
       "      <td>NaN</td>\n",
       "      <td>NaN</td>\n",
       "    </tr>\n",
       "    <tr>\n",
       "      <td>5</td>\n",
       "      <td>Tetris</td>\n",
       "      <td>GB</td>\n",
       "      <td>1989.0</td>\n",
       "      <td>Puzzle</td>\n",
       "      <td>23.20</td>\n",
       "      <td>2.26</td>\n",
       "      <td>4.22</td>\n",
       "      <td>0.58</td>\n",
       "      <td>NaN</td>\n",
       "      <td>NaN</td>\n",
       "      <td>NaN</td>\n",
       "    </tr>\n",
       "    <tr>\n",
       "      <td>6</td>\n",
       "      <td>New Super Mario Bros.</td>\n",
       "      <td>DS</td>\n",
       "      <td>2006.0</td>\n",
       "      <td>Platform</td>\n",
       "      <td>11.28</td>\n",
       "      <td>9.14</td>\n",
       "      <td>6.50</td>\n",
       "      <td>2.88</td>\n",
       "      <td>89.0</td>\n",
       "      <td>8.5</td>\n",
       "      <td>E</td>\n",
       "    </tr>\n",
       "    <tr>\n",
       "      <td>7</td>\n",
       "      <td>Wii Play</td>\n",
       "      <td>Wii</td>\n",
       "      <td>2006.0</td>\n",
       "      <td>Misc</td>\n",
       "      <td>13.96</td>\n",
       "      <td>9.18</td>\n",
       "      <td>2.93</td>\n",
       "      <td>2.84</td>\n",
       "      <td>58.0</td>\n",
       "      <td>6.6</td>\n",
       "      <td>E</td>\n",
       "    </tr>\n",
       "    <tr>\n",
       "      <td>8</td>\n",
       "      <td>New Super Mario Bros. Wii</td>\n",
       "      <td>Wii</td>\n",
       "      <td>2009.0</td>\n",
       "      <td>Platform</td>\n",
       "      <td>14.44</td>\n",
       "      <td>6.94</td>\n",
       "      <td>4.70</td>\n",
       "      <td>2.24</td>\n",
       "      <td>87.0</td>\n",
       "      <td>8.4</td>\n",
       "      <td>E</td>\n",
       "    </tr>\n",
       "    <tr>\n",
       "      <td>9</td>\n",
       "      <td>Duck Hunt</td>\n",
       "      <td>NES</td>\n",
       "      <td>1984.0</td>\n",
       "      <td>Shooter</td>\n",
       "      <td>26.93</td>\n",
       "      <td>0.63</td>\n",
       "      <td>0.28</td>\n",
       "      <td>0.47</td>\n",
       "      <td>NaN</td>\n",
       "      <td>NaN</td>\n",
       "      <td>NaN</td>\n",
       "    </tr>\n",
       "  </tbody>\n",
       "</table>\n",
       "</div>"
      ],
      "text/plain": [
       "                        Name Platform  Year_of_Release         Genre  \\\n",
       "0                 Wii Sports      Wii           2006.0        Sports   \n",
       "1          Super Mario Bros.      NES           1985.0      Platform   \n",
       "2             Mario Kart Wii      Wii           2008.0        Racing   \n",
       "3          Wii Sports Resort      Wii           2009.0        Sports   \n",
       "4   Pokemon Red/Pokemon Blue       GB           1996.0  Role-Playing   \n",
       "5                     Tetris       GB           1989.0        Puzzle   \n",
       "6      New Super Mario Bros.       DS           2006.0      Platform   \n",
       "7                   Wii Play      Wii           2006.0          Misc   \n",
       "8  New Super Mario Bros. Wii      Wii           2009.0      Platform   \n",
       "9                  Duck Hunt      NES           1984.0       Shooter   \n",
       "\n",
       "   NA_sales  EU_sales  JP_sales  Other_sales  Critic_Score User_Score Rating  \n",
       "0     41.36     28.96      3.77         8.45          76.0          8      E  \n",
       "1     29.08      3.58      6.81         0.77           NaN        NaN    NaN  \n",
       "2     15.68     12.76      3.79         3.29          82.0        8.3      E  \n",
       "3     15.61     10.93      3.28         2.95          80.0          8      E  \n",
       "4     11.27      8.89     10.22         1.00           NaN        NaN    NaN  \n",
       "5     23.20      2.26      4.22         0.58           NaN        NaN    NaN  \n",
       "6     11.28      9.14      6.50         2.88          89.0        8.5      E  \n",
       "7     13.96      9.18      2.93         2.84          58.0        6.6      E  \n",
       "8     14.44      6.94      4.70         2.24          87.0        8.4      E  \n",
       "9     26.93      0.63      0.28         0.47           NaN        NaN    NaN  "
      ]
     },
     "execution_count": 3,
     "metadata": {},
     "output_type": "execute_result"
    }
   ],
   "source": [
    "games.head(10)"
   ]
  },
  {
   "cell_type": "code",
   "execution_count": 4,
   "metadata": {},
   "outputs": [
    {
     "name": "stdout",
     "output_type": "stream",
     "text": [
      "<class 'pandas.core.frame.DataFrame'>\n",
      "RangeIndex: 16715 entries, 0 to 16714\n",
      "Data columns (total 11 columns):\n",
      "Name               16713 non-null object\n",
      "Platform           16715 non-null object\n",
      "Year_of_Release    16446 non-null float64\n",
      "Genre              16713 non-null object\n",
      "NA_sales           16715 non-null float64\n",
      "EU_sales           16715 non-null float64\n",
      "JP_sales           16715 non-null float64\n",
      "Other_sales        16715 non-null float64\n",
      "Critic_Score       8137 non-null float64\n",
      "User_Score         10014 non-null object\n",
      "Rating             9949 non-null object\n",
      "dtypes: float64(6), object(5)\n",
      "memory usage: 1.4+ MB\n"
     ]
    }
   ],
   "source": [
    "games.info()"
   ]
  },
  {
   "cell_type": "markdown",
   "metadata": {},
   "source": [
    "***В датасете много пропусков в столбцах с рейтингами:Critic_Score,User_Score,Rating.Названия столбцов в разных регистрах***"
   ]
  },
  {
   "cell_type": "markdown",
   "metadata": {},
   "source": [
    "### Подготовка данных"
   ]
  },
  {
   "cell_type": "code",
   "execution_count": 5,
   "metadata": {},
   "outputs": [
    {
     "data": {
      "text/html": [
       "<div>\n",
       "<style scoped>\n",
       "    .dataframe tbody tr th:only-of-type {\n",
       "        vertical-align: middle;\n",
       "    }\n",
       "\n",
       "    .dataframe tbody tr th {\n",
       "        vertical-align: top;\n",
       "    }\n",
       "\n",
       "    .dataframe thead th {\n",
       "        text-align: right;\n",
       "    }\n",
       "</style>\n",
       "<table border=\"1\" class=\"dataframe\">\n",
       "  <thead>\n",
       "    <tr style=\"text-align: right;\">\n",
       "      <th></th>\n",
       "      <th>name</th>\n",
       "      <th>platform</th>\n",
       "      <th>year_of_release</th>\n",
       "      <th>genre</th>\n",
       "      <th>na_sales</th>\n",
       "      <th>eu_sales</th>\n",
       "      <th>jp_sales</th>\n",
       "      <th>other_sales</th>\n",
       "      <th>critic_score</th>\n",
       "      <th>user_score</th>\n",
       "      <th>rating</th>\n",
       "    </tr>\n",
       "  </thead>\n",
       "  <tbody>\n",
       "    <tr>\n",
       "      <td>0</td>\n",
       "      <td>Wii Sports</td>\n",
       "      <td>Wii</td>\n",
       "      <td>2006.0</td>\n",
       "      <td>Sports</td>\n",
       "      <td>41.36</td>\n",
       "      <td>28.96</td>\n",
       "      <td>3.77</td>\n",
       "      <td>8.45</td>\n",
       "      <td>76.0</td>\n",
       "      <td>8</td>\n",
       "      <td>E</td>\n",
       "    </tr>\n",
       "    <tr>\n",
       "      <td>1</td>\n",
       "      <td>Super Mario Bros.</td>\n",
       "      <td>NES</td>\n",
       "      <td>1985.0</td>\n",
       "      <td>Platform</td>\n",
       "      <td>29.08</td>\n",
       "      <td>3.58</td>\n",
       "      <td>6.81</td>\n",
       "      <td>0.77</td>\n",
       "      <td>NaN</td>\n",
       "      <td>NaN</td>\n",
       "      <td>NaN</td>\n",
       "    </tr>\n",
       "    <tr>\n",
       "      <td>2</td>\n",
       "      <td>Mario Kart Wii</td>\n",
       "      <td>Wii</td>\n",
       "      <td>2008.0</td>\n",
       "      <td>Racing</td>\n",
       "      <td>15.68</td>\n",
       "      <td>12.76</td>\n",
       "      <td>3.79</td>\n",
       "      <td>3.29</td>\n",
       "      <td>82.0</td>\n",
       "      <td>8.3</td>\n",
       "      <td>E</td>\n",
       "    </tr>\n",
       "    <tr>\n",
       "      <td>3</td>\n",
       "      <td>Wii Sports Resort</td>\n",
       "      <td>Wii</td>\n",
       "      <td>2009.0</td>\n",
       "      <td>Sports</td>\n",
       "      <td>15.61</td>\n",
       "      <td>10.93</td>\n",
       "      <td>3.28</td>\n",
       "      <td>2.95</td>\n",
       "      <td>80.0</td>\n",
       "      <td>8</td>\n",
       "      <td>E</td>\n",
       "    </tr>\n",
       "    <tr>\n",
       "      <td>4</td>\n",
       "      <td>Pokemon Red/Pokemon Blue</td>\n",
       "      <td>GB</td>\n",
       "      <td>1996.0</td>\n",
       "      <td>Role-Playing</td>\n",
       "      <td>11.27</td>\n",
       "      <td>8.89</td>\n",
       "      <td>10.22</td>\n",
       "      <td>1.00</td>\n",
       "      <td>NaN</td>\n",
       "      <td>NaN</td>\n",
       "      <td>NaN</td>\n",
       "    </tr>\n",
       "  </tbody>\n",
       "</table>\n",
       "</div>"
      ],
      "text/plain": [
       "                       name platform  year_of_release         genre  na_sales  \\\n",
       "0                Wii Sports      Wii           2006.0        Sports     41.36   \n",
       "1         Super Mario Bros.      NES           1985.0      Platform     29.08   \n",
       "2            Mario Kart Wii      Wii           2008.0        Racing     15.68   \n",
       "3         Wii Sports Resort      Wii           2009.0        Sports     15.61   \n",
       "4  Pokemon Red/Pokemon Blue       GB           1996.0  Role-Playing     11.27   \n",
       "\n",
       "   eu_sales  jp_sales  other_sales  critic_score user_score rating  \n",
       "0     28.96      3.77         8.45          76.0          8      E  \n",
       "1      3.58      6.81         0.77           NaN        NaN    NaN  \n",
       "2     12.76      3.79         3.29          82.0        8.3      E  \n",
       "3     10.93      3.28         2.95          80.0          8      E  \n",
       "4      8.89     10.22         1.00           NaN        NaN    NaN  "
      ]
     },
     "execution_count": 5,
     "metadata": {},
     "output_type": "execute_result"
    }
   ],
   "source": [
    "#приведу названия столбцов к общему регистру\n",
    "games.columns = map(str.lower, games.columns)\n",
    "games.head()"
   ]
  },
  {
   "cell_type": "code",
   "execution_count": 6,
   "metadata": {},
   "outputs": [
    {
     "data": {
      "text/plain": [
       "name                  2\n",
       "platform              0\n",
       "year_of_release     269\n",
       "genre                 2\n",
       "na_sales              0\n",
       "eu_sales              0\n",
       "jp_sales              0\n",
       "other_sales           0\n",
       "critic_score       8578\n",
       "user_score         6701\n",
       "rating             6766\n",
       "dtype: int64"
      ]
     },
     "execution_count": 6,
     "metadata": {},
     "output_type": "execute_result"
    }
   ],
   "source": [
    "#проверяю количество 'NaN' значений\n",
    "games.isna().sum()"
   ]
  },
  {
   "cell_type": "code",
   "execution_count": 7,
   "metadata": {
    "scrolled": true
   },
   "outputs": [
    {
     "data": {
      "text/plain": [
       "tbd    2424\n",
       "7.8     324\n",
       "8       290\n",
       "8.2     282\n",
       "8.3     254\n",
       "       ... \n",
       "1.5       2\n",
       "0.9       2\n",
       "0.7       2\n",
       "9.7       1\n",
       "0         1\n",
       "Name: user_score, Length: 96, dtype: int64"
      ]
     },
     "execution_count": 7,
     "metadata": {},
     "output_type": "execute_result"
    }
   ],
   "source": [
    "games['user_score'].value_counts()"
   ]
  },
  {
   "cell_type": "markdown",
   "metadata": {},
   "source": [
    "***В столбце user_score есть значения TBD - To Be Decided -это значит что рейтинг еще не определен,заменю эти значения нолями***  "
   ]
  },
  {
   "cell_type": "code",
   "execution_count": 8,
   "metadata": {
    "scrolled": true
   },
   "outputs": [
    {
     "data": {
      "text/plain": [
       "70.0    256\n",
       "71.0    254\n",
       "75.0    245\n",
       "78.0    240\n",
       "73.0    238\n",
       "       ... \n",
       "20.0      3\n",
       "17.0      1\n",
       "22.0      1\n",
       "13.0      1\n",
       "21.0      1\n",
       "Name: critic_score, Length: 82, dtype: int64"
      ]
     },
     "execution_count": 8,
     "metadata": {},
     "output_type": "execute_result"
    }
   ],
   "source": [
    "games['critic_score'].value_counts()"
   ]
  },
  {
   "cell_type": "code",
   "execution_count": 9,
   "metadata": {},
   "outputs": [
    {
     "data": {
      "text/plain": [
       "E       3990\n",
       "T       2961\n",
       "M       1563\n",
       "E10+    1420\n",
       "EC         8\n",
       "K-A        3\n",
       "RP         3\n",
       "AO         1\n",
       "Name: rating, dtype: int64"
      ]
     },
     "execution_count": 9,
     "metadata": {},
     "output_type": "execute_result"
    }
   ],
   "source": [
    "games['rating'].value_counts()"
   ]
  },
  {
   "cell_type": "code",
   "execution_count": 10,
   "metadata": {},
   "outputs": [
    {
     "name": "stdout",
     "output_type": "stream",
     "text": [
      "<class 'pandas.core.frame.DataFrame'>\n",
      "RangeIndex: 16715 entries, 0 to 16714\n",
      "Data columns (total 12 columns):\n",
      "name               16713 non-null object\n",
      "platform           16715 non-null object\n",
      "year_of_release    16715 non-null int64\n",
      "genre              16715 non-null object\n",
      "na_sales           16715 non-null float64\n",
      "eu_sales           16715 non-null float64\n",
      "jp_sales           16715 non-null float64\n",
      "other_sales        16715 non-null float64\n",
      "critic_score       16715 non-null float64\n",
      "user_score         16715 non-null float64\n",
      "rating             16715 non-null object\n",
      "total_sales        16715 non-null float64\n",
      "dtypes: float64(7), int64(1), object(4)\n",
      "memory usage: 1.5+ MB\n"
     ]
    }
   ],
   "source": [
    "#убираю значения 'NaN'\n",
    "games['year_of_release'] = games['year_of_release'].fillna(0)\n",
    "games['year_of_release'] = games['year_of_release'].astype(int)\n",
    "games['user_score'] = pd.to_numeric(games['user_score'], errors='coerce') #убираю 'TBD' значения\n",
    "games['user_score'] = games['user_score'].fillna(0)\n",
    "games['critic_score'] = games['critic_score'].fillna(0)\n",
    "games['genre'] = games['genre'].fillna(0)\n",
    "games['rating'] = games['rating'].fillna(0)\n",
    "#напишу функцию которая принимает значения 0 и меняет их на значения Unknown\n",
    "def critics(row):\n",
    "    if row == 0:\n",
    "        return 'Unknown'\n",
    "    if row != 0:\n",
    "        return row\n",
    "\n",
    "games['rating'] = games['rating'].apply(critics)\n",
    "#добавлю столбец с сумой общих продаж\n",
    "games['total_sales'] = games['na_sales'] + games['eu_sales'] + games['jp_sales'] + games['other_sales']\n",
    "games.info()"
   ]
  },
  {
   "cell_type": "markdown",
   "metadata": {},
   "source": [
    "***Заменил пропущенные значения в столбиках с рейтингами значением Unknown,так как оценки в рейтингах абсолютно субьективны и их невозможно как то спрогнозировать.year_of_release задал тип int.***"
   ]
  },
  {
   "cell_type": "markdown",
   "metadata": {},
   "source": [
    "### Исследовательский анализ данных"
   ]
  },
  {
   "cell_type": "code",
   "execution_count": 11,
   "metadata": {},
   "outputs": [
    {
     "data": {
      "text/html": [
       "<div>\n",
       "<style scoped>\n",
       "    .dataframe tbody tr th:only-of-type {\n",
       "        vertical-align: middle;\n",
       "    }\n",
       "\n",
       "    .dataframe tbody tr th {\n",
       "        vertical-align: top;\n",
       "    }\n",
       "\n",
       "    .dataframe thead th {\n",
       "        text-align: right;\n",
       "    }\n",
       "</style>\n",
       "<table border=\"1\" class=\"dataframe\">\n",
       "  <thead>\n",
       "    <tr style=\"text-align: right;\">\n",
       "      <th></th>\n",
       "      <th>name</th>\n",
       "    </tr>\n",
       "    <tr>\n",
       "      <th>year_of_release</th>\n",
       "      <th></th>\n",
       "    </tr>\n",
       "  </thead>\n",
       "  <tbody>\n",
       "    <tr>\n",
       "      <td>0</td>\n",
       "      <td>269</td>\n",
       "    </tr>\n",
       "    <tr>\n",
       "      <td>1980</td>\n",
       "      <td>9</td>\n",
       "    </tr>\n",
       "    <tr>\n",
       "      <td>1981</td>\n",
       "      <td>46</td>\n",
       "    </tr>\n",
       "    <tr>\n",
       "      <td>1982</td>\n",
       "      <td>36</td>\n",
       "    </tr>\n",
       "    <tr>\n",
       "      <td>1983</td>\n",
       "      <td>17</td>\n",
       "    </tr>\n",
       "    <tr>\n",
       "      <td>1984</td>\n",
       "      <td>14</td>\n",
       "    </tr>\n",
       "    <tr>\n",
       "      <td>1985</td>\n",
       "      <td>14</td>\n",
       "    </tr>\n",
       "    <tr>\n",
       "      <td>1986</td>\n",
       "      <td>21</td>\n",
       "    </tr>\n",
       "    <tr>\n",
       "      <td>1987</td>\n",
       "      <td>16</td>\n",
       "    </tr>\n",
       "    <tr>\n",
       "      <td>1988</td>\n",
       "      <td>15</td>\n",
       "    </tr>\n",
       "    <tr>\n",
       "      <td>1989</td>\n",
       "      <td>17</td>\n",
       "    </tr>\n",
       "    <tr>\n",
       "      <td>1990</td>\n",
       "      <td>16</td>\n",
       "    </tr>\n",
       "    <tr>\n",
       "      <td>1991</td>\n",
       "      <td>41</td>\n",
       "    </tr>\n",
       "    <tr>\n",
       "      <td>1992</td>\n",
       "      <td>43</td>\n",
       "    </tr>\n",
       "    <tr>\n",
       "      <td>1993</td>\n",
       "      <td>60</td>\n",
       "    </tr>\n",
       "    <tr>\n",
       "      <td>1994</td>\n",
       "      <td>121</td>\n",
       "    </tr>\n",
       "    <tr>\n",
       "      <td>1995</td>\n",
       "      <td>219</td>\n",
       "    </tr>\n",
       "    <tr>\n",
       "      <td>1996</td>\n",
       "      <td>263</td>\n",
       "    </tr>\n",
       "    <tr>\n",
       "      <td>1997</td>\n",
       "      <td>289</td>\n",
       "    </tr>\n",
       "    <tr>\n",
       "      <td>1998</td>\n",
       "      <td>379</td>\n",
       "    </tr>\n",
       "    <tr>\n",
       "      <td>1999</td>\n",
       "      <td>338</td>\n",
       "    </tr>\n",
       "    <tr>\n",
       "      <td>2000</td>\n",
       "      <td>350</td>\n",
       "    </tr>\n",
       "    <tr>\n",
       "      <td>2001</td>\n",
       "      <td>482</td>\n",
       "    </tr>\n",
       "    <tr>\n",
       "      <td>2002</td>\n",
       "      <td>829</td>\n",
       "    </tr>\n",
       "    <tr>\n",
       "      <td>2003</td>\n",
       "      <td>775</td>\n",
       "    </tr>\n",
       "    <tr>\n",
       "      <td>2004</td>\n",
       "      <td>762</td>\n",
       "    </tr>\n",
       "    <tr>\n",
       "      <td>2005</td>\n",
       "      <td>939</td>\n",
       "    </tr>\n",
       "    <tr>\n",
       "      <td>2006</td>\n",
       "      <td>1006</td>\n",
       "    </tr>\n",
       "    <tr>\n",
       "      <td>2007</td>\n",
       "      <td>1197</td>\n",
       "    </tr>\n",
       "    <tr>\n",
       "      <td>2008</td>\n",
       "      <td>1427</td>\n",
       "    </tr>\n",
       "    <tr>\n",
       "      <td>2009</td>\n",
       "      <td>1426</td>\n",
       "    </tr>\n",
       "    <tr>\n",
       "      <td>2010</td>\n",
       "      <td>1255</td>\n",
       "    </tr>\n",
       "    <tr>\n",
       "      <td>2011</td>\n",
       "      <td>1136</td>\n",
       "    </tr>\n",
       "    <tr>\n",
       "      <td>2012</td>\n",
       "      <td>653</td>\n",
       "    </tr>\n",
       "    <tr>\n",
       "      <td>2013</td>\n",
       "      <td>544</td>\n",
       "    </tr>\n",
       "    <tr>\n",
       "      <td>2014</td>\n",
       "      <td>581</td>\n",
       "    </tr>\n",
       "    <tr>\n",
       "      <td>2015</td>\n",
       "      <td>606</td>\n",
       "    </tr>\n",
       "    <tr>\n",
       "      <td>2016</td>\n",
       "      <td>502</td>\n",
       "    </tr>\n",
       "  </tbody>\n",
       "</table>\n",
       "</div>"
      ],
      "text/plain": [
       "                 name\n",
       "year_of_release      \n",
       "0                 269\n",
       "1980                9\n",
       "1981               46\n",
       "1982               36\n",
       "1983               17\n",
       "1984               14\n",
       "1985               14\n",
       "1986               21\n",
       "1987               16\n",
       "1988               15\n",
       "1989               17\n",
       "1990               16\n",
       "1991               41\n",
       "1992               43\n",
       "1993               60\n",
       "1994              121\n",
       "1995              219\n",
       "1996              263\n",
       "1997              289\n",
       "1998              379\n",
       "1999              338\n",
       "2000              350\n",
       "2001              482\n",
       "2002              829\n",
       "2003              775\n",
       "2004              762\n",
       "2005              939\n",
       "2006             1006\n",
       "2007             1197\n",
       "2008             1427\n",
       "2009             1426\n",
       "2010             1255\n",
       "2011             1136\n",
       "2012              653\n",
       "2013              544\n",
       "2014              581\n",
       "2015              606\n",
       "2016              502"
      ]
     },
     "execution_count": 11,
     "metadata": {},
     "output_type": "execute_result"
    }
   ],
   "source": [
    "#собираюсь посмотреть количество выпущенных игр по годам\n",
    "curiosity = games.pivot_table(\n",
    "    index='year_of_release',values='name',aggfunc='count')\n",
    "curiosity"
   ]
  },
  {
   "cell_type": "code",
   "execution_count": 12,
   "metadata": {},
   "outputs": [
    {
     "data": {
      "image/png": "[encoded data removed]",
      "text/plain": [
       "<Figure size 432x288 with 1 Axes>"
      ]
     },
     "metadata": {
      "needs_background": "light"
     },
     "output_type": "display_data"
    }
   ],
   "source": [
    "#выведу эти же значения графиком\n",
    "curiosity = games.query('year_of_release != 0').pivot_table(\n",
    "    index='year_of_release',values='name',aggfunc='count').plot()"
   ]
  },
  {
   "cell_type": "markdown",
   "metadata": {},
   "source": [
    "***Мы можем наблюдать на графике и в таблице как с начала 80-х годов производство игр только нарастало,но в середине 2000-х производство замедлилось.Думаю это связано с тем что игры стали намного сложнее и их производство занимает намного больше времени.Я напрмер жду Half-Life 3 уже 17 лет.Я так понимаю что мне не нужны данные за все время,скорее всего только последние 5 лет***"
   ]
  },
  {
   "cell_type": "code",
   "execution_count": 14,
   "metadata": {
    "scrolled": true
   },
   "outputs": [
    {
     "data": {
      "text/plain": [
       "7.32258064516129"
      ]
     },
     "execution_count": 14,
     "metadata": {},
     "output_type": "execute_result"
    }
   ],
   "source": [
    "patform_legacy_2 = games.query('year_of_release > 0 and year_of_release < 2016').pivot_table(\n",
    "    index='platform',values='year_of_release',aggfunc=['min','max'])\n",
    "patform_legacy_2['difference'] = patform_legacy_2['max'] - patform_legacy_2['min']\n",
    "patform_legacy_2['difference'].mean()"
   ]
  },
  {
   "cell_type": "markdown",
   "metadata": {},
   "source": [
    "***Судя по графику  и рассчетам платформы 'живут' в среднем 7 лет***"
   ]
  },
  {
   "cell_type": "code",
   "execution_count": 15,
   "metadata": {
    "scrolled": true
   },
   "outputs": [
    {
     "data": {
      "text/html": [
       "<div>\n",
       "<style scoped>\n",
       "    .dataframe tbody tr th:only-of-type {\n",
       "        vertical-align: middle;\n",
       "    }\n",
       "\n",
       "    .dataframe tbody tr th {\n",
       "        vertical-align: top;\n",
       "    }\n",
       "\n",
       "    .dataframe thead tr th {\n",
       "        text-align: left;\n",
       "    }\n",
       "\n",
       "    .dataframe thead tr:last-of-type th {\n",
       "        text-align: right;\n",
       "    }\n",
       "</style>\n",
       "<table border=\"1\" class=\"dataframe\">\n",
       "  <thead>\n",
       "    <tr>\n",
       "      <th></th>\n",
       "      <th>min</th>\n",
       "      <th>max</th>\n",
       "      <th>difference</th>\n",
       "    </tr>\n",
       "    <tr>\n",
       "      <th></th>\n",
       "      <th>year_of_release</th>\n",
       "      <th>year_of_release</th>\n",
       "      <th></th>\n",
       "    </tr>\n",
       "    <tr>\n",
       "      <th>platform</th>\n",
       "      <th></th>\n",
       "      <th></th>\n",
       "      <th></th>\n",
       "    </tr>\n",
       "  </thead>\n",
       "  <tbody>\n",
       "    <tr>\n",
       "      <td>2600</td>\n",
       "      <td>1980</td>\n",
       "      <td>1989</td>\n",
       "      <td>9</td>\n",
       "    </tr>\n",
       "    <tr>\n",
       "      <td>3DO</td>\n",
       "      <td>1994</td>\n",
       "      <td>1995</td>\n",
       "      <td>1</td>\n",
       "    </tr>\n",
       "    <tr>\n",
       "      <td>3DS</td>\n",
       "      <td>2011</td>\n",
       "      <td>2015</td>\n",
       "      <td>4</td>\n",
       "    </tr>\n",
       "    <tr>\n",
       "      <td>DC</td>\n",
       "      <td>1998</td>\n",
       "      <td>2008</td>\n",
       "      <td>10</td>\n",
       "    </tr>\n",
       "    <tr>\n",
       "      <td>DS</td>\n",
       "      <td>1985</td>\n",
       "      <td>2013</td>\n",
       "      <td>28</td>\n",
       "    </tr>\n",
       "    <tr>\n",
       "      <td>GB</td>\n",
       "      <td>1988</td>\n",
       "      <td>2001</td>\n",
       "      <td>13</td>\n",
       "    </tr>\n",
       "    <tr>\n",
       "      <td>GBA</td>\n",
       "      <td>2000</td>\n",
       "      <td>2007</td>\n",
       "      <td>7</td>\n",
       "    </tr>\n",
       "    <tr>\n",
       "      <td>GC</td>\n",
       "      <td>2001</td>\n",
       "      <td>2007</td>\n",
       "      <td>6</td>\n",
       "    </tr>\n",
       "    <tr>\n",
       "      <td>GEN</td>\n",
       "      <td>1990</td>\n",
       "      <td>1994</td>\n",
       "      <td>4</td>\n",
       "    </tr>\n",
       "    <tr>\n",
       "      <td>GG</td>\n",
       "      <td>1992</td>\n",
       "      <td>1992</td>\n",
       "      <td>0</td>\n",
       "    </tr>\n",
       "    <tr>\n",
       "      <td>N64</td>\n",
       "      <td>1996</td>\n",
       "      <td>2002</td>\n",
       "      <td>6</td>\n",
       "    </tr>\n",
       "    <tr>\n",
       "      <td>NES</td>\n",
       "      <td>1983</td>\n",
       "      <td>1994</td>\n",
       "      <td>11</td>\n",
       "    </tr>\n",
       "    <tr>\n",
       "      <td>NG</td>\n",
       "      <td>1993</td>\n",
       "      <td>1996</td>\n",
       "      <td>3</td>\n",
       "    </tr>\n",
       "    <tr>\n",
       "      <td>PC</td>\n",
       "      <td>1985</td>\n",
       "      <td>2015</td>\n",
       "      <td>30</td>\n",
       "    </tr>\n",
       "    <tr>\n",
       "      <td>PCFX</td>\n",
       "      <td>1996</td>\n",
       "      <td>1996</td>\n",
       "      <td>0</td>\n",
       "    </tr>\n",
       "    <tr>\n",
       "      <td>PS</td>\n",
       "      <td>1994</td>\n",
       "      <td>2003</td>\n",
       "      <td>9</td>\n",
       "    </tr>\n",
       "    <tr>\n",
       "      <td>PS2</td>\n",
       "      <td>2000</td>\n",
       "      <td>2011</td>\n",
       "      <td>11</td>\n",
       "    </tr>\n",
       "    <tr>\n",
       "      <td>PS3</td>\n",
       "      <td>2006</td>\n",
       "      <td>2015</td>\n",
       "      <td>9</td>\n",
       "    </tr>\n",
       "    <tr>\n",
       "      <td>PS4</td>\n",
       "      <td>2013</td>\n",
       "      <td>2015</td>\n",
       "      <td>2</td>\n",
       "    </tr>\n",
       "    <tr>\n",
       "      <td>PSP</td>\n",
       "      <td>2004</td>\n",
       "      <td>2015</td>\n",
       "      <td>11</td>\n",
       "    </tr>\n",
       "    <tr>\n",
       "      <td>PSV</td>\n",
       "      <td>2011</td>\n",
       "      <td>2015</td>\n",
       "      <td>4</td>\n",
       "    </tr>\n",
       "    <tr>\n",
       "      <td>SAT</td>\n",
       "      <td>1994</td>\n",
       "      <td>1999</td>\n",
       "      <td>5</td>\n",
       "    </tr>\n",
       "    <tr>\n",
       "      <td>SCD</td>\n",
       "      <td>1993</td>\n",
       "      <td>1994</td>\n",
       "      <td>1</td>\n",
       "    </tr>\n",
       "    <tr>\n",
       "      <td>SNES</td>\n",
       "      <td>1990</td>\n",
       "      <td>1999</td>\n",
       "      <td>9</td>\n",
       "    </tr>\n",
       "    <tr>\n",
       "      <td>TG16</td>\n",
       "      <td>1995</td>\n",
       "      <td>1995</td>\n",
       "      <td>0</td>\n",
       "    </tr>\n",
       "    <tr>\n",
       "      <td>WS</td>\n",
       "      <td>1999</td>\n",
       "      <td>2001</td>\n",
       "      <td>2</td>\n",
       "    </tr>\n",
       "    <tr>\n",
       "      <td>Wii</td>\n",
       "      <td>2006</td>\n",
       "      <td>2015</td>\n",
       "      <td>9</td>\n",
       "    </tr>\n",
       "    <tr>\n",
       "      <td>WiiU</td>\n",
       "      <td>2012</td>\n",
       "      <td>2015</td>\n",
       "      <td>3</td>\n",
       "    </tr>\n",
       "    <tr>\n",
       "      <td>X360</td>\n",
       "      <td>2005</td>\n",
       "      <td>2015</td>\n",
       "      <td>10</td>\n",
       "    </tr>\n",
       "    <tr>\n",
       "      <td>XB</td>\n",
       "      <td>2000</td>\n",
       "      <td>2008</td>\n",
       "      <td>8</td>\n",
       "    </tr>\n",
       "    <tr>\n",
       "      <td>XOne</td>\n",
       "      <td>2013</td>\n",
       "      <td>2015</td>\n",
       "      <td>2</td>\n",
       "    </tr>\n",
       "  </tbody>\n",
       "</table>\n",
       "</div>"
      ],
      "text/plain": [
       "                     min             max difference\n",
       "         year_of_release year_of_release           \n",
       "platform                                           \n",
       "2600                1980            1989          9\n",
       "3DO                 1994            1995          1\n",
       "3DS                 2011            2015          4\n",
       "DC                  1998            2008         10\n",
       "DS                  1985            2013         28\n",
       "GB                  1988            2001         13\n",
       "GBA                 2000            2007          7\n",
       "GC                  2001            2007          6\n",
       "GEN                 1990            1994          4\n",
       "GG                  1992            1992          0\n",
       "N64                 1996            2002          6\n",
       "NES                 1983            1994         11\n",
       "NG                  1993            1996          3\n",
       "PC                  1985            2015         30\n",
       "PCFX                1996            1996          0\n",
       "PS                  1994            2003          9\n",
       "PS2                 2000            2011         11\n",
       "PS3                 2006            2015          9\n",
       "PS4                 2013            2015          2\n",
       "PSP                 2004            2015         11\n",
       "PSV                 2011            2015          4\n",
       "SAT                 1994            1999          5\n",
       "SCD                 1993            1994          1\n",
       "SNES                1990            1999          9\n",
       "TG16                1995            1995          0\n",
       "WS                  1999            2001          2\n",
       "Wii                 2006            2015          9\n",
       "WiiU                2012            2015          3\n",
       "X360                2005            2015         10\n",
       "XB                  2000            2008          8\n",
       "XOne                2013            2015          2"
      ]
     },
     "execution_count": 15,
     "metadata": {},
     "output_type": "execute_result"
    }
   ],
   "source": [
    "patform_legacy_2"
   ]
  },
  {
   "cell_type": "markdown",
   "metadata": {},
   "source": [
    "***Удивительно ,но плафторма DS от Nintendo продавалась 28! лет,а вот платформа TG16 порсуществовала меньше года,видимо уребят что-то пошло нет так***"
   ]
  },
  {
   "cell_type": "code",
   "execution_count": 16,
   "metadata": {
    "scrolled": true
   },
   "outputs": [
    {
     "data": {
      "text/html": [
       "<div>\n",
       "<style scoped>\n",
       "    .dataframe tbody tr th:only-of-type {\n",
       "        vertical-align: middle;\n",
       "    }\n",
       "\n",
       "    .dataframe tbody tr th {\n",
       "        vertical-align: top;\n",
       "    }\n",
       "\n",
       "    .dataframe thead th {\n",
       "        text-align: right;\n",
       "    }\n",
       "</style>\n",
       "<table border=\"1\" class=\"dataframe\">\n",
       "  <thead>\n",
       "    <tr style=\"text-align: right;\">\n",
       "      <th></th>\n",
       "      <th>eu_sales</th>\n",
       "      <th>jp_sales</th>\n",
       "      <th>na_sales</th>\n",
       "      <th>other_sales</th>\n",
       "      <th>total_sales</th>\n",
       "    </tr>\n",
       "    <tr>\n",
       "      <th>platform</th>\n",
       "      <th></th>\n",
       "      <th></th>\n",
       "      <th></th>\n",
       "      <th></th>\n",
       "      <th></th>\n",
       "    </tr>\n",
       "  </thead>\n",
       "  <tbody>\n",
       "    <tr>\n",
       "      <td>PS3</td>\n",
       "      <td>213.60</td>\n",
       "      <td>59.26</td>\n",
       "      <td>229.25</td>\n",
       "      <td>85.63</td>\n",
       "      <td>587.74</td>\n",
       "    </tr>\n",
       "    <tr>\n",
       "      <td>X360</td>\n",
       "      <td>163.41</td>\n",
       "      <td>5.46</td>\n",
       "      <td>334.18</td>\n",
       "      <td>47.36</td>\n",
       "      <td>550.41</td>\n",
       "    </tr>\n",
       "    <tr>\n",
       "      <td>PS4</td>\n",
       "      <td>141.09</td>\n",
       "      <td>15.96</td>\n",
       "      <td>108.74</td>\n",
       "      <td>48.35</td>\n",
       "      <td>314.14</td>\n",
       "    </tr>\n",
       "    <tr>\n",
       "      <td>3DS</td>\n",
       "      <td>61.27</td>\n",
       "      <td>100.62</td>\n",
       "      <td>82.65</td>\n",
       "      <td>13.27</td>\n",
       "      <td>257.81</td>\n",
       "    </tr>\n",
       "    <tr>\n",
       "      <td>Wii</td>\n",
       "      <td>65.91</td>\n",
       "      <td>17.75</td>\n",
       "      <td>121.20</td>\n",
       "      <td>18.11</td>\n",
       "      <td>222.97</td>\n",
       "    </tr>\n",
       "    <tr>\n",
       "      <td>XOne</td>\n",
       "      <td>51.59</td>\n",
       "      <td>0.34</td>\n",
       "      <td>93.12</td>\n",
       "      <td>14.27</td>\n",
       "      <td>159.32</td>\n",
       "    </tr>\n",
       "    <tr>\n",
       "      <td>DS</td>\n",
       "      <td>28.06</td>\n",
       "      <td>27.90</td>\n",
       "      <td>59.66</td>\n",
       "      <td>8.13</td>\n",
       "      <td>123.75</td>\n",
       "    </tr>\n",
       "    <tr>\n",
       "      <td>PC</td>\n",
       "      <td>68.82</td>\n",
       "      <td>0.00</td>\n",
       "      <td>39.07</td>\n",
       "      <td>14.07</td>\n",
       "      <td>121.96</td>\n",
       "    </tr>\n",
       "    <tr>\n",
       "      <td>WiiU</td>\n",
       "      <td>25.13</td>\n",
       "      <td>13.01</td>\n",
       "      <td>38.10</td>\n",
       "      <td>5.95</td>\n",
       "      <td>82.19</td>\n",
       "    </tr>\n",
       "    <tr>\n",
       "      <td>PSP</td>\n",
       "      <td>7.59</td>\n",
       "      <td>42.20</td>\n",
       "      <td>9.65</td>\n",
       "      <td>4.61</td>\n",
       "      <td>64.05</td>\n",
       "    </tr>\n",
       "  </tbody>\n",
       "</table>\n",
       "</div>"
      ],
      "text/plain": [
       "          eu_sales  jp_sales  na_sales  other_sales  total_sales\n",
       "platform                                                        \n",
       "PS3         213.60     59.26    229.25        85.63       587.74\n",
       "X360        163.41      5.46    334.18        47.36       550.41\n",
       "PS4         141.09     15.96    108.74        48.35       314.14\n",
       "3DS          61.27    100.62     82.65        13.27       257.81\n",
       "Wii          65.91     17.75    121.20        18.11       222.97\n",
       "XOne         51.59      0.34     93.12        14.27       159.32\n",
       "DS           28.06     27.90     59.66         8.13       123.75\n",
       "PC           68.82      0.00     39.07        14.07       121.96\n",
       "WiiU         25.13     13.01     38.10         5.95        82.19\n",
       "PSP           7.59     42.20      9.65         4.61        64.05"
      ]
     },
     "execution_count": 16,
     "metadata": {},
     "output_type": "execute_result"
    }
   ],
   "source": [
    "#собираюсь посмотреть рейтинг топ платформы по сумарным продажам начиная от 2012 года\n",
    "rating_top_platforms = games.query('year_of_release >= 2010').pivot_table(\n",
    "    index='platform',values=['na_sales','eu_sales','jp_sales','other_sales','total_sales'],aggfunc='sum').sort_values(\n",
    "    by='total_sales',ascending=False)\n",
    "rating_top_platforms.head(10)"
   ]
  },
  {
   "cell_type": "markdown",
   "metadata": {},
   "source": [
    "<a class=\"anchor\" id=\"21-bullet\">"
   ]
  },
  {
   "cell_type": "markdown",
   "metadata": {},
   "source": [
    "***Можем наблюдать как доминирует Playstation 3.Главный конкурент XBOX на втором месте***"
   ]
  },
  {
   "cell_type": "code",
   "execution_count": 17,
   "metadata": {
    "scrolled": false
   },
   "outputs": [
    {
     "data": {
      "image/png": "[encoded data removed]",
      "text/plain": [
       "<Figure size 432x288 with 1 Axes>"
      ]
     },
     "metadata": {
      "needs_background": "light"
     },
     "output_type": "display_data"
    }
   ],
   "source": [
    "#хочу посмотреть распределение платформ по продажам в графиках для определения их актуальности\n",
    "PS4 = games.query('year_of_release >= 2010 and platform == \"PS4\"').pivot_table(\n",
    "    index=['platform','year_of_release'],values='total_sales',aggfunc='sum').plot()"
   ]
  },
  {
   "cell_type": "code",
   "execution_count": 18,
   "metadata": {
    "scrolled": false
   },
   "outputs": [
    {
     "data": {
      "image/png": "[encoded data removed]",
      "text/plain": [
       "<Figure size 432x288 with 1 Axes>"
      ]
     },
     "metadata": {
      "needs_background": "light"
     },
     "output_type": "display_data"
    }
   ],
   "source": [
    "PS3 = games.query('year_of_release >= 2010 and platform == \"PS3\"').pivot_table(\n",
    "    index=['platform','year_of_release'],values='total_sales',aggfunc='sum').plot()"
   ]
  },
  {
   "cell_type": "code",
   "execution_count": 19,
   "metadata": {
    "scrolled": false
   },
   "outputs": [
    {
     "data": {
      "image/png": "[encoded data removed]",
      "text/plain": [
       "<Figure size 432x288 with 1 Axes>"
      ]
     },
     "metadata": {
      "needs_background": "light"
     },
     "output_type": "display_data"
    }
   ],
   "source": [
    "X360 = games.query('year_of_release >= 2010 and platform == \"X360\"').pivot_table(\n",
    "    index=['platform','year_of_release'],values='total_sales',aggfunc='sum').plot()"
   ]
  },
  {
   "cell_type": "code",
   "execution_count": 20,
   "metadata": {
    "scrolled": false
   },
   "outputs": [
    {
     "data": {
      "image/png": "[encoded data removed]",
      "text/plain": [
       "<Figure size 432x288 with 1 Axes>"
      ]
     },
     "metadata": {
      "needs_background": "light"
     },
     "output_type": "display_data"
    }
   ],
   "source": [
    "DS_3 = games.query('year_of_release >= 2010 and platform == \"3DS\"').pivot_table(\n",
    "    index=['platform','year_of_release'],values='total_sales',aggfunc='sum').plot()"
   ]
  },
  {
   "cell_type": "code",
   "execution_count": 21,
   "metadata": {
    "scrolled": true
   },
   "outputs": [
    {
     "data": {
      "image/png": "[encoded data removed]",
      "text/plain": [
       "<Figure size 432x288 with 1 Axes>"
      ]
     },
     "metadata": {
      "needs_background": "light"
     },
     "output_type": "display_data"
    }
   ],
   "source": [
    "XOne = games.query('year_of_release >= 2010 and platform == \"XOne\"').pivot_table(\n",
    "    index=['platform','year_of_release'],values='total_sales',aggfunc='sum').plot()"
   ]
  },
  {
   "cell_type": "code",
   "execution_count": 22,
   "metadata": {
    "scrolled": true
   },
   "outputs": [
    {
     "data": {
      "image/png": "[encoded data removed]",
      "text/plain": [
       "<Figure size 432x288 with 1 Axes>"
      ]
     },
     "metadata": {
      "needs_background": "light"
     },
     "output_type": "display_data"
    }
   ],
   "source": [
    "WiiU = games.query('year_of_release >= 2010 and platform == \"WiiU\"').pivot_table(\n",
    "    index=['platform','year_of_release'],values='total_sales',aggfunc='sum').plot()"
   ]
  },
  {
   "cell_type": "code",
   "execution_count": 23,
   "metadata": {
    "scrolled": false
   },
   "outputs": [
    {
     "data": {
      "image/png": "[encoded data removed]",
      "text/plain": [
       "<Figure size 432x288 with 1 Axes>"
      ]
     },
     "metadata": {
      "needs_background": "light"
     },
     "output_type": "display_data"
    }
   ],
   "source": [
    "PC = games.query('year_of_release >= 2010 and platform == \"PC\"').pivot_table(\n",
    "    index=['platform','year_of_release'],values='total_sales',aggfunc='sum').plot()"
   ]
  },
  {
   "cell_type": "code",
   "execution_count": 24,
   "metadata": {
    "scrolled": false
   },
   "outputs": [
    {
     "data": {
      "image/png": "[encoded data removed]",
      "text/plain": [
       "<Figure size 432x288 with 1 Axes>"
      ]
     },
     "metadata": {
      "needs_background": "light"
     },
     "output_type": "display_data"
    }
   ],
   "source": [
    "PSV = games.query('year_of_release >= 2010 and platform == \"PSV\"').pivot_table(\n",
    "    index=['platform','year_of_release'],values='total_sales',aggfunc='sum').plot()"
   ]
  },
  {
   "cell_type": "code",
   "execution_count": 25,
   "metadata": {
    "scrolled": true
   },
   "outputs": [
    {
     "data": {
      "image/png": "[encoded data removed]",
      "text/plain": [
       "<Figure size 432x288 with 1 Axes>"
      ]
     },
     "metadata": {
      "needs_background": "light"
     },
     "output_type": "display_data"
    }
   ],
   "source": [
    "Wii = games.query('year_of_release >= 2010 and platform == \"Wii\"').pivot_table(\n",
    "    index=['platform','year_of_release'],values='total_sales',aggfunc='sum').plot()"
   ]
  },
  {
   "cell_type": "code",
   "execution_count": 26,
   "metadata": {
    "scrolled": false
   },
   "outputs": [
    {
     "data": {
      "image/png": "[encoded data removed]",
      "text/plain": [
       "<Figure size 432x288 with 1 Axes>"
      ]
     },
     "metadata": {
      "needs_background": "light"
     },
     "output_type": "display_data"
    }
   ],
   "source": [
    "DS = games.query('year_of_release >= 2010 and platform == \"DS\"').pivot_table(\n",
    "    index=['platform','year_of_release'],values='total_sales',aggfunc='sum').plot()"
   ]
  },
  {
   "cell_type": "markdown",
   "metadata": {},
   "source": [
    "***Из топ 10 консолей не все актуальны на 2016 год как показывают графики выше.Предлагаю оставить топ 5 платформ,а именно PS4,XoNE,WiiU,PC,PSV.Данные консоли я выбрал по продажам из гафиков выше а так же еще раз просмотрел график на котором указана 'жизнь' всех консолей и отобрал самые актуальные платформы.PC я оставил в списке потому что это всегда актуальная платформа***"
   ]
  },
  {
   "cell_type": "code",
   "execution_count": 27,
   "metadata": {},
   "outputs": [
    {
     "data": {
      "image/png": "[encoded data removed]",
      "text/plain": [
       "<Figure size 1152x360 with 1 Axes>"
      ]
     },
     "metadata": {
      "needs_background": "light"
     },
     "output_type": "display_data"
    }
   ],
   "source": [
    "#собираюсь построить 'ящики с усами' по глобальным продажам игр в разбивке по топ платформам\n",
    "top_5_platforms = ['PS4','PC','XOne','WiiU','PSV']\n",
    "sea = games.query('year_of_release >= 2010 and platform in @top_5_platforms and total_sales < 1.53 ')\n",
    "sea2 = sea[['platform','total_sales']]\n",
    "median = sea2.groupby(by=[\"platform\"])[\"total_sales\"].median().sort_values(ascending=False).index\n",
    "fig, ax = plt.subplots(1,1,figsize=(16, 5))\n",
    "sns.boxplot(x=sea2[\"platform\"], y=sea2['total_sales'],ax=ax,order=median);"
   ]
  },
  {
   "cell_type": "markdown",
   "metadata": {},
   "source": [
    "***На данном графике хорошо видны все платформы и мы можем иметь примерное представление о медианных продажах игр для каждой платформы.Исходя из графика лучше всего игры продаются для платформы  от Nintendo.Очень хорошие  показатели у консоли XOne которая превзошла главного конкурента в лице SONY которая замыкает тройку***"
   ]
  },
  {
   "cell_type": "code",
   "execution_count": 28,
   "metadata": {},
   "outputs": [
    {
     "data": {
      "image/png": "[encoded data removed]",
      "text/plain": [
       "<Figure size 1152x360 with 2 Axes>"
      ]
     },
     "metadata": {
      "needs_background": "light"
     },
     "output_type": "display_data"
    }
   ],
   "source": [
    "#собираюсь построить диаграмму рассеяния для PS4 так как на мой взгляд это самая перспективная консоль\n",
    "#и посмотреть корреляцию между оценками критиков и пользователей к продажам\n",
    "critics = games.query('platform == \"PS4\" and year_of_release >= 2010 and platform in @top_5_platforms')\n",
    "critics = critics.query(\n",
    "    'critic_score != 0 and user_score != 0')\n",
    "fig, axes = plt.subplots(1, 2, figsize=(16, 5))\n",
    "sns.scatterplot(x='user_score',y=\"total_sales\",data=critics,ax=axes[0]);\n",
    "sns.scatterplot(x='critic_score',y=\"total_sales\",data=critics,ax=axes[1]);\n",
    "\n",
    "axes[0].set_xlabel('Оценки пользователей')\n",
    "axes[0].set_ylabel('Общие продажи')\n",
    "axes[1].set_xlabel('Оценки критиков')\n",
    "axes[1].set_ylabel('Общие продажи')\n",
    "fig.suptitle('Корреляция оценок критиков и пользователей к общим продажам PS4');"
   ]
  },
  {
   "cell_type": "code",
   "execution_count": 29,
   "metadata": {},
   "outputs": [
    {
     "name": "stdout",
     "output_type": "stream",
     "text": [
      "Корреляция оценок критиков к общим продажам: -0.03362497596528878\n",
      "Корреляция оценок пользователей к общим продажам: 0.40589480145836687\n"
     ]
    }
   ],
   "source": [
    "#теперь посчитаю корреляцию вручную\n",
    "print(\n",
    "    'Корреляция оценок критиков к общим продажам:',critics['total_sales'].corr(critics['user_score']))\n",
    "print(\n",
    "     'Корреляция оценок пользователей к общим продажам:',critics['total_sales'].corr(critics['critic_score']))"
   ]
  },
  {
   "cell_type": "markdown",
   "metadata": {},
   "source": [
    "***Как мы видим и из графиков и из рассчетов связи между оценками критиков и пользователей с общими продажами очень слабые,поэтому данные оценки не влияют на продажи игр на PS4***"
   ]
  },
  {
   "cell_type": "code",
   "execution_count": 30,
   "metadata": {},
   "outputs": [
    {
     "data": {
      "image/png": "[encoded data removed]",
      "text/plain": [
       "<Figure size 1152x360 with 2 Axes>"
      ]
     },
     "metadata": {
      "needs_background": "light"
     },
     "output_type": "display_data"
    }
   ],
   "source": [
    "critics_2 = games.query('platform != \"PS4\" and year_of_release >= 2010 and platform in @top_5_platforms')\n",
    "critics_2 = critics_2.query(\n",
    "    'critic_score != 0 and user_score != 0')\n",
    "fig, axes = plt.subplots(1, 2, figsize=(16, 5))\n",
    "sns.scatterplot(x='user_score',y=\"total_sales\",data=critics_2,ax=axes[0]);\n",
    "sns.scatterplot(x='critic_score',y=\"total_sales\",data=critics_2,ax=axes[1]);\n",
    "axes[0].set_xlabel('Оценки пользователей')\n",
    "axes[0].set_ylabel('Общие продажи')\n",
    "axes[1].set_xlabel('Оценки критиков')\n",
    "axes[1].set_ylabel('Общие продажи')\n",
    "fig.suptitle('Корреляция оценок критиков и пользователей к общим продажам');"
   ]
  },
  {
   "cell_type": "code",
   "execution_count": 31,
   "metadata": {},
   "outputs": [
    {
     "name": "stdout",
     "output_type": "stream",
     "text": [
      "Корреляция оценок критиков к общим продажам: 0.026933413231208358\n",
      "Корреляция оценок пользователей к общим продажам: 0.3143745936367898\n"
     ]
    }
   ],
   "source": [
    "#теперь посчитаю корреляцию вручную\n",
    "print(\n",
    "    'Корреляция оценок критиков к общим продажам:',critics_2['total_sales'].corr(critics_2['user_score']))\n",
    "print(\n",
    "     'Корреляция оценок пользователей к общим продажам:',critics_2['total_sales'].corr(critics_2['critic_score']))"
   ]
  },
  {
   "cell_type": "markdown",
   "metadata": {},
   "source": [
    "<a class=\"anchor\" id=\"22-bullet\">"
   ]
  },
  {
   "cell_type": "markdown",
   "metadata": {},
   "source": [
    "***Тут мы тоже видим что оценки критиков не влияют на продажи игр для остальных платформ***"
   ]
  },
  {
   "cell_type": "code",
   "execution_count": 32,
   "metadata": {
    "scrolled": false
   },
   "outputs": [
    {
     "data": {
      "text/html": [
       "<div>\n",
       "<style scoped>\n",
       "    .dataframe tbody tr th:only-of-type {\n",
       "        vertical-align: middle;\n",
       "    }\n",
       "\n",
       "    .dataframe tbody tr th {\n",
       "        vertical-align: top;\n",
       "    }\n",
       "\n",
       "    .dataframe thead th {\n",
       "        text-align: right;\n",
       "    }\n",
       "</style>\n",
       "<table border=\"1\" class=\"dataframe\">\n",
       "  <thead>\n",
       "    <tr style=\"text-align: right;\">\n",
       "      <th></th>\n",
       "      <th>name</th>\n",
       "    </tr>\n",
       "    <tr>\n",
       "      <th>genre</th>\n",
       "      <th></th>\n",
       "    </tr>\n",
       "  </thead>\n",
       "  <tbody>\n",
       "    <tr>\n",
       "      <td>Action</td>\n",
       "      <td>546</td>\n",
       "    </tr>\n",
       "    <tr>\n",
       "      <td>Role-Playing</td>\n",
       "      <td>210</td>\n",
       "    </tr>\n",
       "    <tr>\n",
       "      <td>Adventure</td>\n",
       "      <td>171</td>\n",
       "    </tr>\n",
       "    <tr>\n",
       "      <td>Shooter</td>\n",
       "      <td>168</td>\n",
       "    </tr>\n",
       "    <tr>\n",
       "      <td>Sports</td>\n",
       "      <td>144</td>\n",
       "    </tr>\n",
       "    <tr>\n",
       "      <td>Misc</td>\n",
       "      <td>96</td>\n",
       "    </tr>\n",
       "    <tr>\n",
       "      <td>Racing</td>\n",
       "      <td>86</td>\n",
       "    </tr>\n",
       "    <tr>\n",
       "      <td>Strategy</td>\n",
       "      <td>81</td>\n",
       "    </tr>\n",
       "    <tr>\n",
       "      <td>Simulation</td>\n",
       "      <td>70</td>\n",
       "    </tr>\n",
       "    <tr>\n",
       "      <td>Fighting</td>\n",
       "      <td>50</td>\n",
       "    </tr>\n",
       "    <tr>\n",
       "      <td>Platform</td>\n",
       "      <td>49</td>\n",
       "    </tr>\n",
       "    <tr>\n",
       "      <td>Puzzle</td>\n",
       "      <td>23</td>\n",
       "    </tr>\n",
       "  </tbody>\n",
       "</table>\n",
       "</div>"
      ],
      "text/plain": [
       "              name\n",
       "genre             \n",
       "Action         546\n",
       "Role-Playing   210\n",
       "Adventure      171\n",
       "Shooter        168\n",
       "Sports         144\n",
       "Misc            96\n",
       "Racing          86\n",
       "Strategy        81\n",
       "Simulation      70\n",
       "Fighting        50\n",
       "Platform        49\n",
       "Puzzle          23"
      ]
     },
     "execution_count": 32,
     "metadata": {},
     "output_type": "execute_result"
    }
   ],
   "source": [
    "#Хочу посмотреть на общее распределение игр по жанрам\n",
    "genre = games.query('year_of_release >= 2010 and platform in @top_5_platforms').pivot_table(\n",
    "    index='genre',values='name',aggfunc='count').sort_values(by='name',ascending=False)\n",
    "genre"
   ]
  },
  {
   "cell_type": "markdown",
   "metadata": {},
   "source": [
    "***Игр в жанре Action выпускают больше всего***"
   ]
  },
  {
   "cell_type": "code",
   "execution_count": 33,
   "metadata": {},
   "outputs": [
    {
     "data": {
      "text/html": [
       "<div>\n",
       "<style scoped>\n",
       "    .dataframe tbody tr th:only-of-type {\n",
       "        vertical-align: middle;\n",
       "    }\n",
       "\n",
       "    .dataframe tbody tr th {\n",
       "        vertical-align: top;\n",
       "    }\n",
       "\n",
       "    .dataframe thead th {\n",
       "        text-align: right;\n",
       "    }\n",
       "</style>\n",
       "<table border=\"1\" class=\"dataframe\">\n",
       "  <thead>\n",
       "    <tr style=\"text-align: right;\">\n",
       "      <th></th>\n",
       "      <th>total_sales</th>\n",
       "    </tr>\n",
       "    <tr>\n",
       "      <th>genre</th>\n",
       "      <th></th>\n",
       "    </tr>\n",
       "  </thead>\n",
       "  <tbody>\n",
       "    <tr>\n",
       "      <td>Action</td>\n",
       "      <td>191.14</td>\n",
       "    </tr>\n",
       "    <tr>\n",
       "      <td>Shooter</td>\n",
       "      <td>183.74</td>\n",
       "    </tr>\n",
       "    <tr>\n",
       "      <td>Sports</td>\n",
       "      <td>96.86</td>\n",
       "    </tr>\n",
       "    <tr>\n",
       "      <td>Role-Playing</td>\n",
       "      <td>83.08</td>\n",
       "    </tr>\n",
       "    <tr>\n",
       "      <td>Racing</td>\n",
       "      <td>35.01</td>\n",
       "    </tr>\n",
       "    <tr>\n",
       "      <td>Misc</td>\n",
       "      <td>33.42</td>\n",
       "    </tr>\n",
       "    <tr>\n",
       "      <td>Platform</td>\n",
       "      <td>33.03</td>\n",
       "    </tr>\n",
       "    <tr>\n",
       "      <td>Fighting</td>\n",
       "      <td>20.12</td>\n",
       "    </tr>\n",
       "    <tr>\n",
       "      <td>Strategy</td>\n",
       "      <td>20.01</td>\n",
       "    </tr>\n",
       "    <tr>\n",
       "      <td>Simulation</td>\n",
       "      <td>17.79</td>\n",
       "    </tr>\n",
       "    <tr>\n",
       "      <td>Adventure</td>\n",
       "      <td>15.05</td>\n",
       "    </tr>\n",
       "    <tr>\n",
       "      <td>Puzzle</td>\n",
       "      <td>2.17</td>\n",
       "    </tr>\n",
       "  </tbody>\n",
       "</table>\n",
       "</div>"
      ],
      "text/plain": [
       "              total_sales\n",
       "genre                    \n",
       "Action             191.14\n",
       "Shooter            183.74\n",
       "Sports              96.86\n",
       "Role-Playing        83.08\n",
       "Racing              35.01\n",
       "Misc                33.42\n",
       "Platform            33.03\n",
       "Fighting            20.12\n",
       "Strategy            20.01\n",
       "Simulation          17.79\n",
       "Adventure           15.05\n",
       "Puzzle               2.17"
      ]
     },
     "execution_count": 33,
     "metadata": {},
     "output_type": "execute_result"
    }
   ],
   "source": [
    "genre_sales = games.query('year_of_release >= 2010 and platform in @top_5_platforms').pivot_table(\n",
    "    index='genre',values='total_sales',aggfunc='sum').sort_values(by='total_sales',ascending=False)\n",
    "genre_sales"
   ]
  },
  {
   "cell_type": "markdown",
   "metadata": {},
   "source": [
    "***Action игры продаются в сумме больше всех,но скорее всего это потому что их количество намного больше остальных*** "
   ]
  },
  {
   "cell_type": "code",
   "execution_count": 34,
   "metadata": {},
   "outputs": [
    {
     "data": {
      "text/html": [
       "<div>\n",
       "<style scoped>\n",
       "    .dataframe tbody tr th:only-of-type {\n",
       "        vertical-align: middle;\n",
       "    }\n",
       "\n",
       "    .dataframe tbody tr th {\n",
       "        vertical-align: top;\n",
       "    }\n",
       "\n",
       "    .dataframe thead th {\n",
       "        text-align: right;\n",
       "    }\n",
       "</style>\n",
       "<table border=\"1\" class=\"dataframe\">\n",
       "  <thead>\n",
       "    <tr style=\"text-align: right;\">\n",
       "      <th></th>\n",
       "      <th>total_sales</th>\n",
       "    </tr>\n",
       "    <tr>\n",
       "      <th>genre</th>\n",
       "      <th></th>\n",
       "    </tr>\n",
       "  </thead>\n",
       "  <tbody>\n",
       "    <tr>\n",
       "      <td>Shooter</td>\n",
       "      <td>1.093690</td>\n",
       "    </tr>\n",
       "    <tr>\n",
       "      <td>Platform</td>\n",
       "      <td>0.674082</td>\n",
       "    </tr>\n",
       "    <tr>\n",
       "      <td>Sports</td>\n",
       "      <td>0.672639</td>\n",
       "    </tr>\n",
       "    <tr>\n",
       "      <td>Racing</td>\n",
       "      <td>0.407093</td>\n",
       "    </tr>\n",
       "    <tr>\n",
       "      <td>Fighting</td>\n",
       "      <td>0.402400</td>\n",
       "    </tr>\n",
       "    <tr>\n",
       "      <td>Role-Playing</td>\n",
       "      <td>0.395619</td>\n",
       "    </tr>\n",
       "    <tr>\n",
       "      <td>Action</td>\n",
       "      <td>0.350073</td>\n",
       "    </tr>\n",
       "    <tr>\n",
       "      <td>Misc</td>\n",
       "      <td>0.348125</td>\n",
       "    </tr>\n",
       "    <tr>\n",
       "      <td>Simulation</td>\n",
       "      <td>0.254143</td>\n",
       "    </tr>\n",
       "    <tr>\n",
       "      <td>Strategy</td>\n",
       "      <td>0.247037</td>\n",
       "    </tr>\n",
       "    <tr>\n",
       "      <td>Puzzle</td>\n",
       "      <td>0.094348</td>\n",
       "    </tr>\n",
       "    <tr>\n",
       "      <td>Adventure</td>\n",
       "      <td>0.088012</td>\n",
       "    </tr>\n",
       "  </tbody>\n",
       "</table>\n",
       "</div>"
      ],
      "text/plain": [
       "              total_sales\n",
       "genre                    \n",
       "Shooter          1.093690\n",
       "Platform         0.674082\n",
       "Sports           0.672639\n",
       "Racing           0.407093\n",
       "Fighting         0.402400\n",
       "Role-Playing     0.395619\n",
       "Action           0.350073\n",
       "Misc             0.348125\n",
       "Simulation       0.254143\n",
       "Strategy         0.247037\n",
       "Puzzle           0.094348\n",
       "Adventure        0.088012"
      ]
     },
     "execution_count": 34,
     "metadata": {},
     "output_type": "execute_result"
    }
   ],
   "source": [
    "genre_sales_mean = games.query('year_of_release >= 2010 and platform in @top_5_platforms').pivot_table(\n",
    "    index='genre',values='total_sales',aggfunc='mean').sort_values(by='total_sales',ascending=False)\n",
    "genre_sales_mean"
   ]
  },
  {
   "cell_type": "markdown",
   "metadata": {},
   "source": [
    "***При подсчете средних продаж каждой игры на первое место выходит Shooter ,такой расчёт демонстрирует продажи на единицу игры в жанре***"
   ]
  },
  {
   "cell_type": "markdown",
   "metadata": {},
   "source": [
    "***Топ 3 консоли за период с 2012 по 2016 - это PS4,XOne,Wiiu.Новые консоли появляются примерно каждые 7 лет.Самым популярным жанром среди производителей является Action,а самым продаваемым Shooter***"
   ]
  },
  {
   "cell_type": "markdown",
   "metadata": {},
   "source": [
    "### Портрет пользователя каждого региона(NA, EU, JP)"
   ]
  },
  {
   "cell_type": "code",
   "execution_count": 35,
   "metadata": {},
   "outputs": [],
   "source": [
    "#собираюсь определить топ-5 платформ для каждого региона\n",
    "na_sales = games.query('year_of_release >= 2010 and platform in @top_5_platforms').pivot_table(\n",
    "    index='platform',values='na_sales',aggfunc='sum').sort_values(by='na_sales',ascending=False).head(5)\n",
    "eu_sales = games.query('year_of_release >= 2010 and platform in @top_5_platforms').pivot_table(\n",
    "    index='platform',values='eu_sales',aggfunc='sum').sort_values(by='eu_sales',ascending=False).head(5)\n",
    "jp_sales = games.query('year_of_release >= 2010 and platform in @top_5_platforms').pivot_table(\n",
    "    index='platform',values='jp_sales',aggfunc='sum').sort_values(by='jp_sales',ascending=False).head(5)"
   ]
  },
  {
   "cell_type": "code",
   "execution_count": 36,
   "metadata": {},
   "outputs": [
    {
     "data": {
      "text/html": [
       "<div>\n",
       "<style scoped>\n",
       "    .dataframe tbody tr th:only-of-type {\n",
       "        vertical-align: middle;\n",
       "    }\n",
       "\n",
       "    .dataframe tbody tr th {\n",
       "        vertical-align: top;\n",
       "    }\n",
       "\n",
       "    .dataframe thead th {\n",
       "        text-align: right;\n",
       "    }\n",
       "</style>\n",
       "<table border=\"1\" class=\"dataframe\">\n",
       "  <thead>\n",
       "    <tr style=\"text-align: right;\">\n",
       "      <th></th>\n",
       "      <th>na_sales</th>\n",
       "    </tr>\n",
       "    <tr>\n",
       "      <th>platform</th>\n",
       "      <th></th>\n",
       "    </tr>\n",
       "  </thead>\n",
       "  <tbody>\n",
       "    <tr>\n",
       "      <td>PS4</td>\n",
       "      <td>108.74</td>\n",
       "    </tr>\n",
       "    <tr>\n",
       "      <td>XOne</td>\n",
       "      <td>93.12</td>\n",
       "    </tr>\n",
       "    <tr>\n",
       "      <td>PC</td>\n",
       "      <td>39.07</td>\n",
       "    </tr>\n",
       "    <tr>\n",
       "      <td>WiiU</td>\n",
       "      <td>38.10</td>\n",
       "    </tr>\n",
       "    <tr>\n",
       "      <td>PSV</td>\n",
       "      <td>12.47</td>\n",
       "    </tr>\n",
       "  </tbody>\n",
       "</table>\n",
       "</div>"
      ],
      "text/plain": [
       "          na_sales\n",
       "platform          \n",
       "PS4         108.74\n",
       "XOne         93.12\n",
       "PC           39.07\n",
       "WiiU         38.10\n",
       "PSV          12.47"
      ]
     },
     "execution_count": 36,
     "metadata": {},
     "output_type": "execute_result"
    }
   ],
   "source": [
    "na_sales"
   ]
  },
  {
   "cell_type": "code",
   "execution_count": 37,
   "metadata": {},
   "outputs": [
    {
     "data": {
      "text/html": [
       "<div>\n",
       "<style scoped>\n",
       "    .dataframe tbody tr th:only-of-type {\n",
       "        vertical-align: middle;\n",
       "    }\n",
       "\n",
       "    .dataframe tbody tr th {\n",
       "        vertical-align: top;\n",
       "    }\n",
       "\n",
       "    .dataframe thead th {\n",
       "        text-align: right;\n",
       "    }\n",
       "</style>\n",
       "<table border=\"1\" class=\"dataframe\">\n",
       "  <thead>\n",
       "    <tr style=\"text-align: right;\">\n",
       "      <th></th>\n",
       "      <th>eu_sales</th>\n",
       "    </tr>\n",
       "    <tr>\n",
       "      <th>platform</th>\n",
       "      <th></th>\n",
       "    </tr>\n",
       "  </thead>\n",
       "  <tbody>\n",
       "    <tr>\n",
       "      <td>PS4</td>\n",
       "      <td>141.09</td>\n",
       "    </tr>\n",
       "    <tr>\n",
       "      <td>PC</td>\n",
       "      <td>68.82</td>\n",
       "    </tr>\n",
       "    <tr>\n",
       "      <td>XOne</td>\n",
       "      <td>51.59</td>\n",
       "    </tr>\n",
       "    <tr>\n",
       "      <td>WiiU</td>\n",
       "      <td>25.13</td>\n",
       "    </tr>\n",
       "    <tr>\n",
       "      <td>PSV</td>\n",
       "      <td>13.07</td>\n",
       "    </tr>\n",
       "  </tbody>\n",
       "</table>\n",
       "</div>"
      ],
      "text/plain": [
       "          eu_sales\n",
       "platform          \n",
       "PS4         141.09\n",
       "PC           68.82\n",
       "XOne         51.59\n",
       "WiiU         25.13\n",
       "PSV          13.07"
      ]
     },
     "execution_count": 37,
     "metadata": {},
     "output_type": "execute_result"
    }
   ],
   "source": [
    "eu_sales"
   ]
  },
  {
   "cell_type": "code",
   "execution_count": 38,
   "metadata": {},
   "outputs": [
    {
     "data": {
      "text/html": [
       "<div>\n",
       "<style scoped>\n",
       "    .dataframe tbody tr th:only-of-type {\n",
       "        vertical-align: middle;\n",
       "    }\n",
       "\n",
       "    .dataframe tbody tr th {\n",
       "        vertical-align: top;\n",
       "    }\n",
       "\n",
       "    .dataframe thead th {\n",
       "        text-align: right;\n",
       "    }\n",
       "</style>\n",
       "<table border=\"1\" class=\"dataframe\">\n",
       "  <thead>\n",
       "    <tr style=\"text-align: right;\">\n",
       "      <th></th>\n",
       "      <th>jp_sales</th>\n",
       "    </tr>\n",
       "    <tr>\n",
       "      <th>platform</th>\n",
       "      <th></th>\n",
       "    </tr>\n",
       "  </thead>\n",
       "  <tbody>\n",
       "    <tr>\n",
       "      <td>PSV</td>\n",
       "      <td>21.84</td>\n",
       "    </tr>\n",
       "    <tr>\n",
       "      <td>PS4</td>\n",
       "      <td>15.96</td>\n",
       "    </tr>\n",
       "    <tr>\n",
       "      <td>WiiU</td>\n",
       "      <td>13.01</td>\n",
       "    </tr>\n",
       "    <tr>\n",
       "      <td>XOne</td>\n",
       "      <td>0.34</td>\n",
       "    </tr>\n",
       "    <tr>\n",
       "      <td>PC</td>\n",
       "      <td>0.00</td>\n",
       "    </tr>\n",
       "  </tbody>\n",
       "</table>\n",
       "</div>"
      ],
      "text/plain": [
       "          jp_sales\n",
       "platform          \n",
       "PSV          21.84\n",
       "PS4          15.96\n",
       "WiiU         13.01\n",
       "XOne          0.34\n",
       "PC            0.00"
      ]
     },
     "execution_count": 38,
     "metadata": {},
     "output_type": "execute_result"
    }
   ],
   "source": [
    "jp_sales"
   ]
  },
  {
   "cell_type": "markdown",
   "metadata": {},
   "source": [
    "***В США  и Европе PS4 продаются лучше всех остальных.В Европе на вотором месте PC ,а в США XOne,PC в США замыкает тройку лидеров.В Японии SONY занимает 2 первых места,причем флагманская Playstation на втором месте,а Nintendo занимает 3 место.А вот с играми для ПК в Японии совсем плохо***"
   ]
  },
  {
   "cell_type": "code",
   "execution_count": 39,
   "metadata": {},
   "outputs": [],
   "source": [
    "#хочу посмотреть самые популярные жанры топ 5 для каждого региона\n",
    "na_genres = games.query('year_of_release >= 2010 and platform in @top_5_platforms').pivot_table(\n",
    "    index='genre',values='na_sales',aggfunc='mean').sort_values(by='na_sales',ascending=False).head(5)\n",
    "eu_genres = games.query('year_of_release >= 2010 and platform in @top_5_platforms').pivot_table(\n",
    "    index='genre',values='eu_sales',aggfunc='mean').sort_values(by='eu_sales',ascending=False).head(5)\n",
    "jp_genres = games.query('year_of_release >= 2010 and platform in @top_5_platforms').pivot_table(\n",
    "    index='genre',values='jp_sales',aggfunc='mean').sort_values(by='jp_sales',ascending=False).head(5)"
   ]
  },
  {
   "cell_type": "code",
   "execution_count": 40,
   "metadata": {},
   "outputs": [
    {
     "data": {
      "text/html": [
       "<div>\n",
       "<style scoped>\n",
       "    .dataframe tbody tr th:only-of-type {\n",
       "        vertical-align: middle;\n",
       "    }\n",
       "\n",
       "    .dataframe tbody tr th {\n",
       "        vertical-align: top;\n",
       "    }\n",
       "\n",
       "    .dataframe thead th {\n",
       "        text-align: right;\n",
       "    }\n",
       "</style>\n",
       "<table border=\"1\" class=\"dataframe\">\n",
       "  <thead>\n",
       "    <tr style=\"text-align: right;\">\n",
       "      <th></th>\n",
       "      <th>na_sales</th>\n",
       "    </tr>\n",
       "    <tr>\n",
       "      <th>genre</th>\n",
       "      <th></th>\n",
       "    </tr>\n",
       "  </thead>\n",
       "  <tbody>\n",
       "    <tr>\n",
       "      <td>Shooter</td>\n",
       "      <td>0.486131</td>\n",
       "    </tr>\n",
       "    <tr>\n",
       "      <td>Platform</td>\n",
       "      <td>0.279592</td>\n",
       "    </tr>\n",
       "    <tr>\n",
       "      <td>Sports</td>\n",
       "      <td>0.266528</td>\n",
       "    </tr>\n",
       "    <tr>\n",
       "      <td>Fighting</td>\n",
       "      <td>0.191800</td>\n",
       "    </tr>\n",
       "    <tr>\n",
       "      <td>Misc</td>\n",
       "      <td>0.151875</td>\n",
       "    </tr>\n",
       "  </tbody>\n",
       "</table>\n",
       "</div>"
      ],
      "text/plain": [
       "          na_sales\n",
       "genre             \n",
       "Shooter   0.486131\n",
       "Platform  0.279592\n",
       "Sports    0.266528\n",
       "Fighting  0.191800\n",
       "Misc      0.151875"
      ]
     },
     "execution_count": 40,
     "metadata": {},
     "output_type": "execute_result"
    }
   ],
   "source": [
    "na_genres"
   ]
  },
  {
   "cell_type": "code",
   "execution_count": 41,
   "metadata": {},
   "outputs": [
    {
     "data": {
      "text/html": [
       "<div>\n",
       "<style scoped>\n",
       "    .dataframe tbody tr th:only-of-type {\n",
       "        vertical-align: middle;\n",
       "    }\n",
       "\n",
       "    .dataframe tbody tr th {\n",
       "        vertical-align: top;\n",
       "    }\n",
       "\n",
       "    .dataframe thead th {\n",
       "        text-align: right;\n",
       "    }\n",
       "</style>\n",
       "<table border=\"1\" class=\"dataframe\">\n",
       "  <thead>\n",
       "    <tr style=\"text-align: right;\">\n",
       "      <th></th>\n",
       "      <th>eu_sales</th>\n",
       "    </tr>\n",
       "    <tr>\n",
       "      <th>genre</th>\n",
       "      <th></th>\n",
       "    </tr>\n",
       "  </thead>\n",
       "  <tbody>\n",
       "    <tr>\n",
       "      <td>Shooter</td>\n",
       "      <td>0.440357</td>\n",
       "    </tr>\n",
       "    <tr>\n",
       "      <td>Sports</td>\n",
       "      <td>0.296736</td>\n",
       "    </tr>\n",
       "    <tr>\n",
       "      <td>Platform</td>\n",
       "      <td>0.240612</td>\n",
       "    </tr>\n",
       "    <tr>\n",
       "      <td>Racing</td>\n",
       "      <td>0.205581</td>\n",
       "    </tr>\n",
       "    <tr>\n",
       "      <td>Simulation</td>\n",
       "      <td>0.166143</td>\n",
       "    </tr>\n",
       "  </tbody>\n",
       "</table>\n",
       "</div>"
      ],
      "text/plain": [
       "            eu_sales\n",
       "genre               \n",
       "Shooter     0.440357\n",
       "Sports      0.296736\n",
       "Platform    0.240612\n",
       "Racing      0.205581\n",
       "Simulation  0.166143"
      ]
     },
     "execution_count": 41,
     "metadata": {},
     "output_type": "execute_result"
    }
   ],
   "source": [
    "eu_genres"
   ]
  },
  {
   "cell_type": "code",
   "execution_count": 42,
   "metadata": {},
   "outputs": [
    {
     "data": {
      "text/html": [
       "<div>\n",
       "<style scoped>\n",
       "    .dataframe tbody tr th:only-of-type {\n",
       "        vertical-align: middle;\n",
       "    }\n",
       "\n",
       "    .dataframe tbody tr th {\n",
       "        vertical-align: top;\n",
       "    }\n",
       "\n",
       "    .dataframe thead th {\n",
       "        text-align: right;\n",
       "    }\n",
       "</style>\n",
       "<table border=\"1\" class=\"dataframe\">\n",
       "  <thead>\n",
       "    <tr style=\"text-align: right;\">\n",
       "      <th></th>\n",
       "      <th>jp_sales</th>\n",
       "    </tr>\n",
       "    <tr>\n",
       "      <th>genre</th>\n",
       "      <th></th>\n",
       "    </tr>\n",
       "  </thead>\n",
       "  <tbody>\n",
       "    <tr>\n",
       "      <td>Platform</td>\n",
       "      <td>0.086327</td>\n",
       "    </tr>\n",
       "    <tr>\n",
       "      <td>Role-Playing</td>\n",
       "      <td>0.058238</td>\n",
       "    </tr>\n",
       "    <tr>\n",
       "      <td>Misc</td>\n",
       "      <td>0.054062</td>\n",
       "    </tr>\n",
       "    <tr>\n",
       "      <td>Fighting</td>\n",
       "      <td>0.049000</td>\n",
       "    </tr>\n",
       "    <tr>\n",
       "      <td>Shooter</td>\n",
       "      <td>0.028274</td>\n",
       "    </tr>\n",
       "  </tbody>\n",
       "</table>\n",
       "</div>"
      ],
      "text/plain": [
       "              jp_sales\n",
       "genre                 \n",
       "Platform      0.086327\n",
       "Role-Playing  0.058238\n",
       "Misc          0.054062\n",
       "Fighting      0.049000\n",
       "Shooter       0.028274"
      ]
     },
     "execution_count": 42,
     "metadata": {},
     "output_type": "execute_result"
    }
   ],
   "source": [
    "jp_genres"
   ]
  },
  {
   "cell_type": "code",
   "execution_count": 43,
   "metadata": {},
   "outputs": [],
   "source": [
    "#хочу теперь посмотреть тоже жанры но теперь сумарные продажи\n",
    "na_genres_sum = games.query('year_of_release >= 2010 and platform in @top_5_platforms').pivot_table(\n",
    "    index='genre',values='na_sales',aggfunc='sum').sort_values(by='na_sales',ascending=False).head(5)\n",
    "eu_genres_sum = games.query('year_of_release >= 2010 and platform in @top_5_platforms').pivot_table(\n",
    "    index='genre',values='eu_sales',aggfunc='sum').sort_values(by='eu_sales',ascending=False).head(5)\n",
    "jp_genres_sum = games.query('year_of_release >= 2010 and platform in @top_5_platforms').pivot_table(\n",
    "    index='genre',values='jp_sales',aggfunc='sum').sort_values(by='jp_sales',ascending=False).head(5)"
   ]
  },
  {
   "cell_type": "code",
   "execution_count": 44,
   "metadata": {},
   "outputs": [
    {
     "data": {
      "text/html": [
       "<div>\n",
       "<style scoped>\n",
       "    .dataframe tbody tr th:only-of-type {\n",
       "        vertical-align: middle;\n",
       "    }\n",
       "\n",
       "    .dataframe tbody tr th {\n",
       "        vertical-align: top;\n",
       "    }\n",
       "\n",
       "    .dataframe thead th {\n",
       "        text-align: right;\n",
       "    }\n",
       "</style>\n",
       "<table border=\"1\" class=\"dataframe\">\n",
       "  <thead>\n",
       "    <tr style=\"text-align: right;\">\n",
       "      <th></th>\n",
       "      <th>na_sales</th>\n",
       "    </tr>\n",
       "    <tr>\n",
       "      <th>genre</th>\n",
       "      <th></th>\n",
       "    </tr>\n",
       "  </thead>\n",
       "  <tbody>\n",
       "    <tr>\n",
       "      <td>Shooter</td>\n",
       "      <td>81.67</td>\n",
       "    </tr>\n",
       "    <tr>\n",
       "      <td>Action</td>\n",
       "      <td>74.55</td>\n",
       "    </tr>\n",
       "    <tr>\n",
       "      <td>Sports</td>\n",
       "      <td>38.38</td>\n",
       "    </tr>\n",
       "    <tr>\n",
       "      <td>Role-Playing</td>\n",
       "      <td>31.60</td>\n",
       "    </tr>\n",
       "    <tr>\n",
       "      <td>Misc</td>\n",
       "      <td>14.58</td>\n",
       "    </tr>\n",
       "  </tbody>\n",
       "</table>\n",
       "</div>"
      ],
      "text/plain": [
       "              na_sales\n",
       "genre                 \n",
       "Shooter          81.67\n",
       "Action           74.55\n",
       "Sports           38.38\n",
       "Role-Playing     31.60\n",
       "Misc             14.58"
      ]
     },
     "execution_count": 44,
     "metadata": {},
     "output_type": "execute_result"
    }
   ],
   "source": [
    "na_genres_sum"
   ]
  },
  {
   "cell_type": "code",
   "execution_count": 45,
   "metadata": {},
   "outputs": [
    {
     "data": {
      "text/html": [
       "<div>\n",
       "<style scoped>\n",
       "    .dataframe tbody tr th:only-of-type {\n",
       "        vertical-align: middle;\n",
       "    }\n",
       "\n",
       "    .dataframe tbody tr th {\n",
       "        vertical-align: top;\n",
       "    }\n",
       "\n",
       "    .dataframe thead th {\n",
       "        text-align: right;\n",
       "    }\n",
       "</style>\n",
       "<table border=\"1\" class=\"dataframe\">\n",
       "  <thead>\n",
       "    <tr style=\"text-align: right;\">\n",
       "      <th></th>\n",
       "      <th>eu_sales</th>\n",
       "    </tr>\n",
       "    <tr>\n",
       "      <th>genre</th>\n",
       "      <th></th>\n",
       "    </tr>\n",
       "  </thead>\n",
       "  <tbody>\n",
       "    <tr>\n",
       "      <td>Action</td>\n",
       "      <td>78.63</td>\n",
       "    </tr>\n",
       "    <tr>\n",
       "      <td>Shooter</td>\n",
       "      <td>73.98</td>\n",
       "    </tr>\n",
       "    <tr>\n",
       "      <td>Sports</td>\n",
       "      <td>42.73</td>\n",
       "    </tr>\n",
       "    <tr>\n",
       "      <td>Role-Playing</td>\n",
       "      <td>30.00</td>\n",
       "    </tr>\n",
       "    <tr>\n",
       "      <td>Racing</td>\n",
       "      <td>17.68</td>\n",
       "    </tr>\n",
       "  </tbody>\n",
       "</table>\n",
       "</div>"
      ],
      "text/plain": [
       "              eu_sales\n",
       "genre                 \n",
       "Action           78.63\n",
       "Shooter          73.98\n",
       "Sports           42.73\n",
       "Role-Playing     30.00\n",
       "Racing           17.68"
      ]
     },
     "execution_count": 45,
     "metadata": {},
     "output_type": "execute_result"
    }
   ],
   "source": [
    "eu_genres_sum"
   ]
  },
  {
   "cell_type": "code",
   "execution_count": 46,
   "metadata": {},
   "outputs": [
    {
     "data": {
      "text/html": [
       "<div>\n",
       "<style scoped>\n",
       "    .dataframe tbody tr th:only-of-type {\n",
       "        vertical-align: middle;\n",
       "    }\n",
       "\n",
       "    .dataframe tbody tr th {\n",
       "        vertical-align: top;\n",
       "    }\n",
       "\n",
       "    .dataframe thead th {\n",
       "        text-align: right;\n",
       "    }\n",
       "</style>\n",
       "<table border=\"1\" class=\"dataframe\">\n",
       "  <thead>\n",
       "    <tr style=\"text-align: right;\">\n",
       "      <th></th>\n",
       "      <th>jp_sales</th>\n",
       "    </tr>\n",
       "    <tr>\n",
       "      <th>genre</th>\n",
       "      <th></th>\n",
       "    </tr>\n",
       "  </thead>\n",
       "  <tbody>\n",
       "    <tr>\n",
       "      <td>Action</td>\n",
       "      <td>13.88</td>\n",
       "    </tr>\n",
       "    <tr>\n",
       "      <td>Role-Playing</td>\n",
       "      <td>12.23</td>\n",
       "    </tr>\n",
       "    <tr>\n",
       "      <td>Misc</td>\n",
       "      <td>5.19</td>\n",
       "    </tr>\n",
       "    <tr>\n",
       "      <td>Shooter</td>\n",
       "      <td>4.75</td>\n",
       "    </tr>\n",
       "    <tr>\n",
       "      <td>Platform</td>\n",
       "      <td>4.23</td>\n",
       "    </tr>\n",
       "  </tbody>\n",
       "</table>\n",
       "</div>"
      ],
      "text/plain": [
       "              jp_sales\n",
       "genre                 \n",
       "Action           13.88\n",
       "Role-Playing     12.23\n",
       "Misc              5.19\n",
       "Shooter           4.75\n",
       "Platform          4.23"
      ]
     },
     "execution_count": 46,
     "metadata": {},
     "output_type": "execute_result"
    }
   ],
   "source": [
    "jp_genres_sum"
   ]
  },
  {
   "cell_type": "markdown",
   "metadata": {},
   "source": [
    "***Мне кажется что все-таки лучше оценивать по средним значениям ,в Европе и США больше всего любят пострелять ,а вот в Японии предпочитают Platform***"
   ]
  },
  {
   "cell_type": "code",
   "execution_count": 47,
   "metadata": {},
   "outputs": [
    {
     "data": {
      "image/png": "[encoded data removed]",
      "text/plain": [
       "<Figure size 1152x360 with 1 Axes>"
      ]
     },
     "metadata": {
      "needs_background": "light"
     },
     "output_type": "display_data"
    }
   ],
   "source": [
    "#Собираюсь посмотреть как рейтинг ESRB влияет на продажи в отдельном регионе\n",
    "#рейтинг для США\n",
    "\n",
    "esrb_na = games.query('year_of_release >= 2010 and na_sales < 1.53')\n",
    "median_na = esrb_na.groupby(by=['rating'])['na_sales'].median().sort_values(ascending=False).index\n",
    "fig, ax = plt.subplots(1,1,figsize=(16, 5))\n",
    "sns.boxplot(x=esrb_na['rating'], y=esrb_na['na_sales'],ax=ax,order=median_na);"
   ]
  },
  {
   "cell_type": "code",
   "execution_count": 48,
   "metadata": {},
   "outputs": [
    {
     "data": {
      "image/png": "[encoded data removed]",
      "text/plain": [
       "<Figure size 1152x360 with 1 Axes>"
      ]
     },
     "metadata": {
      "needs_background": "light"
     },
     "output_type": "display_data"
    }
   ],
   "source": [
    "#рейтинг для Европы\n",
    "esrb_eu = games.query('year_of_release >= 2010 and eu_sales < 1.53')\n",
    "median_eu = esrb_eu.groupby(by=['rating'])['eu_sales'].median().sort_values(ascending=False).index\n",
    "fig, ax = plt.subplots(1,1,figsize=(16, 5))\n",
    "sns.boxplot(x=esrb_eu['rating'], y=esrb_eu['eu_sales'],ax=ax,order=median_eu);"
   ]
  },
  {
   "cell_type": "code",
   "execution_count": 49,
   "metadata": {},
   "outputs": [
    {
     "data": {
      "image/png": "[encoded data removed]",
      "text/plain": [
       "<Figure size 1152x360 with 1 Axes>"
      ]
     },
     "metadata": {
      "needs_background": "light"
     },
     "output_type": "display_data"
    }
   ],
   "source": [
    "#Рейтинг для Японии\n",
    "esrb_jp = games.query('year_of_release >= 2010 and jp_sales < 1.53')\n",
    "median_jp = esrb_jp.groupby(by=['rating'])['jp_sales'].median().sort_values(ascending=False).index\n",
    "fig, ax = plt.subplots(1,1,figsize=(16, 5))\n",
    "sns.boxplot(x=esrb_jp['rating'], y=esrb_jp['jp_sales'],ax=ax,order=median_jp);"
   ]
  },
  {
   "cell_type": "markdown",
   "metadata": {},
   "source": [
    "***Поставив срез актуального временного промежутка я выяснил что не все рейтинги актуальны в данный момент***"
   ]
  },
  {
   "cell_type": "code",
   "execution_count": 50,
   "metadata": {},
   "outputs": [],
   "source": [
    "#хочу посмотреть сумарные и средние продажи игр в зависимости от оценко ESRB\n",
    "na_rating_sales = games.query('year_of_release >= 2010 and platform in @top_5_platforms').pivot_table(\n",
    "    index='rating',values='na_sales',aggfunc=['sum','mean'])\n",
    "eu_rating_sales = games.query('year_of_release >= 2010 and platform in @top_5_platforms').pivot_table(\n",
    "    index='rating',values='eu_sales',aggfunc=['sum','mean'])\n",
    "jp_rating_sales = games.query('year_of_release >= 2010 and platform in @top_5_platforms').pivot_table(\n",
    "    index='rating',values='jp_sales',aggfunc=['sum','mean'])"
   ]
  },
  {
   "cell_type": "code",
   "execution_count": 51,
   "metadata": {
    "scrolled": true
   },
   "outputs": [
    {
     "data": {
      "text/html": [
       "<div>\n",
       "<style scoped>\n",
       "    .dataframe tbody tr th:only-of-type {\n",
       "        vertical-align: middle;\n",
       "    }\n",
       "\n",
       "    .dataframe tbody tr th {\n",
       "        vertical-align: top;\n",
       "    }\n",
       "\n",
       "    .dataframe thead tr th {\n",
       "        text-align: left;\n",
       "    }\n",
       "\n",
       "    .dataframe thead tr:last-of-type th {\n",
       "        text-align: right;\n",
       "    }\n",
       "</style>\n",
       "<table border=\"1\" class=\"dataframe\">\n",
       "  <thead>\n",
       "    <tr>\n",
       "      <th></th>\n",
       "      <th>sum</th>\n",
       "      <th>mean</th>\n",
       "    </tr>\n",
       "    <tr>\n",
       "      <th></th>\n",
       "      <th>na_sales</th>\n",
       "      <th>na_sales</th>\n",
       "    </tr>\n",
       "    <tr>\n",
       "      <th>rating</th>\n",
       "      <th></th>\n",
       "      <th></th>\n",
       "    </tr>\n",
       "  </thead>\n",
       "  <tbody>\n",
       "    <tr>\n",
       "      <td>E</td>\n",
       "      <td>49.29</td>\n",
       "      <td>0.225068</td>\n",
       "    </tr>\n",
       "    <tr>\n",
       "      <td>E10+</td>\n",
       "      <td>33.78</td>\n",
       "      <td>0.189775</td>\n",
       "    </tr>\n",
       "    <tr>\n",
       "      <td>EC</td>\n",
       "      <td>0.09</td>\n",
       "      <td>0.045000</td>\n",
       "    </tr>\n",
       "    <tr>\n",
       "      <td>M</td>\n",
       "      <td>111.90</td>\n",
       "      <td>0.331065</td>\n",
       "    </tr>\n",
       "    <tr>\n",
       "      <td>RP</td>\n",
       "      <td>0.00</td>\n",
       "      <td>0.000000</td>\n",
       "    </tr>\n",
       "    <tr>\n",
       "      <td>T</td>\n",
       "      <td>46.66</td>\n",
       "      <td>0.148127</td>\n",
       "    </tr>\n",
       "    <tr>\n",
       "      <td>Unknown</td>\n",
       "      <td>49.78</td>\n",
       "      <td>0.077660</td>\n",
       "    </tr>\n",
       "  </tbody>\n",
       "</table>\n",
       "</div>"
      ],
      "text/plain": [
       "             sum      mean\n",
       "        na_sales  na_sales\n",
       "rating                    \n",
       "E          49.29  0.225068\n",
       "E10+       33.78  0.189775\n",
       "EC          0.09  0.045000\n",
       "M         111.90  0.331065\n",
       "RP          0.00  0.000000\n",
       "T          46.66  0.148127\n",
       "Unknown    49.78  0.077660"
      ]
     },
     "execution_count": 51,
     "metadata": {},
     "output_type": "execute_result"
    }
   ],
   "source": [
    "na_rating_sales"
   ]
  },
  {
   "cell_type": "code",
   "execution_count": 52,
   "metadata": {
    "scrolled": true
   },
   "outputs": [
    {
     "data": {
      "text/html": [
       "<div>\n",
       "<style scoped>\n",
       "    .dataframe tbody tr th:only-of-type {\n",
       "        vertical-align: middle;\n",
       "    }\n",
       "\n",
       "    .dataframe tbody tr th {\n",
       "        vertical-align: top;\n",
       "    }\n",
       "\n",
       "    .dataframe thead tr th {\n",
       "        text-align: left;\n",
       "    }\n",
       "\n",
       "    .dataframe thead tr:last-of-type th {\n",
       "        text-align: right;\n",
       "    }\n",
       "</style>\n",
       "<table border=\"1\" class=\"dataframe\">\n",
       "  <thead>\n",
       "    <tr>\n",
       "      <th></th>\n",
       "      <th>sum</th>\n",
       "      <th>mean</th>\n",
       "    </tr>\n",
       "    <tr>\n",
       "      <th></th>\n",
       "      <th>eu_sales</th>\n",
       "      <th>eu_sales</th>\n",
       "    </tr>\n",
       "    <tr>\n",
       "      <th>rating</th>\n",
       "      <th></th>\n",
       "      <th></th>\n",
       "    </tr>\n",
       "  </thead>\n",
       "  <tbody>\n",
       "    <tr>\n",
       "      <td>E</td>\n",
       "      <td>58.84</td>\n",
       "      <td>0.268676</td>\n",
       "    </tr>\n",
       "    <tr>\n",
       "      <td>E10+</td>\n",
       "      <td>27.32</td>\n",
       "      <td>0.153483</td>\n",
       "    </tr>\n",
       "    <tr>\n",
       "      <td>EC</td>\n",
       "      <td>0.00</td>\n",
       "      <td>0.000000</td>\n",
       "    </tr>\n",
       "    <tr>\n",
       "      <td>M</td>\n",
       "      <td>115.59</td>\n",
       "      <td>0.341982</td>\n",
       "    </tr>\n",
       "    <tr>\n",
       "      <td>RP</td>\n",
       "      <td>0.03</td>\n",
       "      <td>0.030000</td>\n",
       "    </tr>\n",
       "    <tr>\n",
       "      <td>T</td>\n",
       "      <td>46.16</td>\n",
       "      <td>0.146540</td>\n",
       "    </tr>\n",
       "    <tr>\n",
       "      <td>Unknown</td>\n",
       "      <td>51.76</td>\n",
       "      <td>0.080749</td>\n",
       "    </tr>\n",
       "  </tbody>\n",
       "</table>\n",
       "</div>"
      ],
      "text/plain": [
       "             sum      mean\n",
       "        eu_sales  eu_sales\n",
       "rating                    \n",
       "E          58.84  0.268676\n",
       "E10+       27.32  0.153483\n",
       "EC          0.00  0.000000\n",
       "M         115.59  0.341982\n",
       "RP          0.03  0.030000\n",
       "T          46.16  0.146540\n",
       "Unknown    51.76  0.080749"
      ]
     },
     "execution_count": 52,
     "metadata": {},
     "output_type": "execute_result"
    }
   ],
   "source": [
    "eu_rating_sales"
   ]
  },
  {
   "cell_type": "code",
   "execution_count": 53,
   "metadata": {
    "scrolled": true
   },
   "outputs": [
    {
     "data": {
      "text/html": [
       "<div>\n",
       "<style scoped>\n",
       "    .dataframe tbody tr th:only-of-type {\n",
       "        vertical-align: middle;\n",
       "    }\n",
       "\n",
       "    .dataframe tbody tr th {\n",
       "        vertical-align: top;\n",
       "    }\n",
       "\n",
       "    .dataframe thead tr th {\n",
       "        text-align: left;\n",
       "    }\n",
       "\n",
       "    .dataframe thead tr:last-of-type th {\n",
       "        text-align: right;\n",
       "    }\n",
       "</style>\n",
       "<table border=\"1\" class=\"dataframe\">\n",
       "  <thead>\n",
       "    <tr>\n",
       "      <th></th>\n",
       "      <th>sum</th>\n",
       "      <th>mean</th>\n",
       "    </tr>\n",
       "    <tr>\n",
       "      <th></th>\n",
       "      <th>jp_sales</th>\n",
       "      <th>jp_sales</th>\n",
       "    </tr>\n",
       "    <tr>\n",
       "      <th>rating</th>\n",
       "      <th></th>\n",
       "      <th></th>\n",
       "    </tr>\n",
       "  </thead>\n",
       "  <tbody>\n",
       "    <tr>\n",
       "      <td>E</td>\n",
       "      <td>7.96</td>\n",
       "      <td>0.036347</td>\n",
       "    </tr>\n",
       "    <tr>\n",
       "      <td>E10+</td>\n",
       "      <td>3.79</td>\n",
       "      <td>0.021292</td>\n",
       "    </tr>\n",
       "    <tr>\n",
       "      <td>EC</td>\n",
       "      <td>0.00</td>\n",
       "      <td>0.000000</td>\n",
       "    </tr>\n",
       "    <tr>\n",
       "      <td>M</td>\n",
       "      <td>7.66</td>\n",
       "      <td>0.022663</td>\n",
       "    </tr>\n",
       "    <tr>\n",
       "      <td>RP</td>\n",
       "      <td>0.00</td>\n",
       "      <td>0.000000</td>\n",
       "    </tr>\n",
       "    <tr>\n",
       "      <td>T</td>\n",
       "      <td>9.51</td>\n",
       "      <td>0.030190</td>\n",
       "    </tr>\n",
       "    <tr>\n",
       "      <td>Unknown</td>\n",
       "      <td>22.23</td>\n",
       "      <td>0.034680</td>\n",
       "    </tr>\n",
       "  </tbody>\n",
       "</table>\n",
       "</div>"
      ],
      "text/plain": [
       "             sum      mean\n",
       "        jp_sales  jp_sales\n",
       "rating                    \n",
       "E           7.96  0.036347\n",
       "E10+        3.79  0.021292\n",
       "EC          0.00  0.000000\n",
       "M           7.66  0.022663\n",
       "RP          0.00  0.000000\n",
       "T           9.51  0.030190\n",
       "Unknown    22.23  0.034680"
      ]
     },
     "execution_count": 53,
     "metadata": {},
     "output_type": "execute_result"
    }
   ],
   "source": [
    "jp_rating_sales"
   ]
  },
  {
   "cell_type": "markdown",
   "metadata": {},
   "source": [
    "***Игры игнорирующие оценки ESRB с рейтингом 'Unknown' хорошо продаются во всех регионах***"
   ]
  },
  {
   "cell_type": "markdown",
   "metadata": {},
   "source": [
    "**Портреты пользователей из разных регионов:**\n",
    "- В США пользователи предпочитают PS4 и XOne ,в жанрах отдают предпочтение Shooter и Platform с рейтингами ESRB - M,Unknown и E.\n",
    "- В Европе пользователи предпочитают PS4 и PC,в жанрах отдают предпочтение Shooter и Sports с рейтингами ESRB - M,Unknown и E\n",
    "- В Японии пользователи предпочитают PSV и PS4,в жанрах отдают предпочтение Platform и Role-Playing с рейтингами ESRB - Unknown,T и E."
   ]
  },
  {
   "cell_type": "markdown",
   "metadata": {},
   "source": [
    "### Проверка гипотез"
   ]
  },
  {
   "cell_type": "markdown",
   "metadata": {},
   "source": [
    "***Собираюсь проверить гипотезу о том, что средние пользовательские рейтинги платформ Xbox One и PC одинаковые:\n",
    "Моя нулевая гипотеза состоит в том что средние рйтинги равны,альтернативная гипотеза о том что они разные***"
   ]
  },
  {
   "cell_type": "code",
   "execution_count": 54,
   "metadata": {},
   "outputs": [
    {
     "name": "stdout",
     "output_type": "stream",
     "text": [
      "p-значение: 0.23633954009311167\n",
      "Не получилось отвергнуть нулевую гипотезу\n"
     ]
    }
   ],
   "source": [
    "Xbox_One = games.query(\n",
    "    'year_of_release >= 2010 and platform == \"XOne\" and user_score != \"Unknown\"')\n",
    "PC = games.query(\n",
    "    'year_of_release >= 2010 and platform == \"PC\" and user_score != \"Unknown\"')\n",
    "\n",
    "alpha = 0.05  # критический уровень статистической значимости\n",
    "results = st.ttest_ind(Xbox_One['user_score'], PC['user_score'])\n",
    "print('p-значение:', results.pvalue)\n",
    "\n",
    "if results.pvalue < alpha:\n",
    "    print('Отвергаем нулевую гипотезу')\n",
    "else:\n",
    "    print('Не получилось отвергнуть нулевую гипотезу')"
   ]
  },
  {
   "cell_type": "markdown",
   "metadata": {},
   "source": [
    "***Мне не удалось отвергнуть гипотезу о том что средние рейтинги одинаковые***"
   ]
  },
  {
   "cell_type": "markdown",
   "metadata": {},
   "source": [
    "***Собираюсь проверить гипотезу о том ,что средние пользовательские рейтинги жанров Action (англ. «действие», экшен-игры) и Sports (англ. «спортивные соревнования») разные.\n",
    " Моя нулевая гипотеза состоит в том что средние рйтинги равны,альтернативная гипотеза о том что они разные***"
   ]
  },
  {
   "cell_type": "code",
   "execution_count": 55,
   "metadata": {},
   "outputs": [
    {
     "name": "stdout",
     "output_type": "stream",
     "text": [
      "p-значение: 1.0\n",
      "Не получилось отвергнуть нулевую гипотезу\n"
     ]
    }
   ],
   "source": [
    "Action = games.query(\n",
    "    'year_of_release >= 2010 and platform in @top_5_platforms and user_score != \"Unknown\"')\n",
    "Sports = games.query(\n",
    "    'year_of_release >= 2010 and platform in @top_5_platforms and user_score != \"Unknown\"')\n",
    "\n",
    "alpha = 0.05  # критический уровень статистической значимости\n",
    "results = st.ttest_ind(Action['user_score'], Sports['user_score'])\n",
    "print('p-значение:', results.pvalue)\n",
    "\n",
    "if results.pvalue < alpha:\n",
    "    print('Отвергаем нулевую гипотезу')\n",
    "else:\n",
    "    print('Не получилось отвергнуть нулевую гипотезу')"
   ]
  },
  {
   "cell_type": "markdown",
   "metadata": {},
   "source": [
    "***Мне не удалось отвергнуть гипотезу о том что средние рейтинги жанров Action и Sports одинаковые***"
   ]
  },
  {
   "cell_type": "markdown",
   "metadata": {},
   "source": [
    "### Общий вывод"
   ]
  },
  {
   "cell_type": "markdown",
   "metadata": {},
   "source": [
    "***Отвечая на главный вопрос о том на какие платформы и игры сделать ставку в следующем году я бы предложил консоли PS4 и XONE,так как эти консоли будут главными следующие пару лет.Основной акцент я предлагаю сделать на игры жанра Shooter,Sports и Platform с рейтиннгами Е и M.Но также во время исследования стало очевидно что при отсутствии оценки ESRB игры тоже хорошо продаются.От себя добавлю что удивлен такими плохими показателями ПК,но видимо это связано с пиратством и с бесплатным распостранением многопользовательских игр со встроенными покупками внутри.*** "
   ]
  }
 ],
 "metadata": {
  "ExecuteTimeLog": [
   {
    "duration": 2175,
    "start_time": "2021-07-06T20:09:16.179Z"
   },
   {
    "duration": 49,
    "start_time": "2021-07-06T20:09:49.867Z"
   },
   {
    "duration": 29,
    "start_time": "2021-07-06T20:15:45.259Z"
   },
   {
    "duration": 15,
    "start_time": "2021-07-06T20:16:56.476Z"
   },
   {
    "duration": 26,
    "start_time": "2021-07-06T20:47:27.004Z"
   },
   {
    "duration": 20,
    "start_time": "2021-07-06T20:52:47.315Z"
   },
   {
    "duration": 13,
    "start_time": "2021-07-06T20:53:52.342Z"
   },
   {
    "duration": 55,
    "start_time": "2021-07-06T21:01:02.639Z"
   },
   {
    "duration": 45,
    "start_time": "2021-07-06T21:02:11.215Z"
   },
   {
    "duration": 27,
    "start_time": "2021-07-06T21:02:12.358Z"
   },
   {
    "duration": 62,
    "start_time": "2021-07-06T21:02:21.519Z"
   },
   {
    "duration": 21,
    "start_time": "2021-07-06T21:12:11.642Z"
   },
   {
    "duration": 24,
    "start_time": "2021-07-06T21:12:37.265Z"
   },
   {
    "duration": 315,
    "start_time": "2021-07-06T21:15:46.234Z"
   },
   {
    "duration": 313,
    "start_time": "2021-07-06T21:16:41.641Z"
   },
   {
    "duration": 1748,
    "start_time": "2021-07-06T21:26:22.552Z"
   },
   {
    "duration": 29,
    "start_time": "2021-07-06T21:31:54.349Z"
   },
   {
    "duration": 300,
    "start_time": "2021-07-06T21:32:43.221Z"
   },
   {
    "duration": 22,
    "start_time": "2021-07-06T21:45:00.015Z"
   },
   {
    "duration": 644,
    "start_time": "2021-07-06T21:45:25.248Z"
   },
   {
    "duration": 681,
    "start_time": "2021-07-06T21:54:02.393Z"
   },
   {
    "duration": 533,
    "start_time": "2021-07-06T21:57:22.875Z"
   },
   {
    "duration": 565,
    "start_time": "2021-07-06T21:57:40.530Z"
   },
   {
    "duration": 767,
    "start_time": "2021-07-06T22:14:53.059Z"
   },
   {
    "duration": 986,
    "start_time": "2021-07-06T22:17:55.462Z"
   },
   {
    "duration": 785,
    "start_time": "2021-07-06T22:20:26.280Z"
   },
   {
    "duration": 1033,
    "start_time": "2021-07-06T22:21:57.464Z"
   },
   {
    "duration": 9,
    "start_time": "2021-07-06T22:22:52.025Z"
   },
   {
    "duration": 9,
    "start_time": "2021-07-06T22:24:05.209Z"
   },
   {
    "duration": 9,
    "start_time": "2021-07-06T22:24:56.825Z"
   },
   {
    "duration": 777,
    "start_time": "2021-07-06T23:09:00.466Z"
   },
   {
    "duration": 781,
    "start_time": "2021-07-06T23:10:02.178Z"
   },
   {
    "duration": 810,
    "start_time": "2021-07-06T23:10:20.026Z"
   },
   {
    "duration": 10,
    "start_time": "2021-07-06T23:10:23.945Z"
   },
   {
    "duration": 10,
    "start_time": "2021-07-06T23:11:35.793Z"
   },
   {
    "duration": 25,
    "start_time": "2021-07-06T23:14:54.929Z"
   },
   {
    "duration": 296,
    "start_time": "2021-07-06T23:17:08.056Z"
   },
   {
    "duration": 27,
    "start_time": "2021-07-06T23:18:24.924Z"
   },
   {
    "duration": 27,
    "start_time": "2021-07-06T23:20:49.179Z"
   },
   {
    "duration": 60,
    "start_time": "2021-07-06T23:32:28.517Z"
   },
   {
    "duration": 53,
    "start_time": "2021-07-06T23:32:36.904Z"
   },
   {
    "duration": 9,
    "start_time": "2021-07-06T23:32:43.623Z"
   },
   {
    "duration": 9,
    "start_time": "2021-07-06T23:32:51.605Z"
   },
   {
    "duration": 12,
    "start_time": "2021-07-06T23:32:58.751Z"
   },
   {
    "duration": 53,
    "start_time": "2021-07-06T23:46:18.498Z"
   },
   {
    "duration": 12,
    "start_time": "2021-07-06T23:46:26.154Z"
   },
   {
    "duration": 9,
    "start_time": "2021-07-06T23:46:34.826Z"
   },
   {
    "duration": 10,
    "start_time": "2021-07-06T23:46:43.602Z"
   },
   {
    "duration": 52,
    "start_time": "2021-07-06T23:47:53.122Z"
   },
   {
    "duration": 9,
    "start_time": "2021-07-06T23:47:53.675Z"
   },
   {
    "duration": 11,
    "start_time": "2021-07-06T23:47:54.307Z"
   },
   {
    "duration": 9,
    "start_time": "2021-07-06T23:47:55.019Z"
   },
   {
    "duration": 51,
    "start_time": "2021-07-06T23:48:06.210Z"
   },
   {
    "duration": 52,
    "start_time": "2021-07-06T23:49:48.843Z"
   },
   {
    "duration": 277,
    "start_time": "2021-07-06T23:50:27.131Z"
   },
   {
    "duration": 49,
    "start_time": "2021-07-06T23:50:31.482Z"
   },
   {
    "duration": 8,
    "start_time": "2021-07-06T23:50:32.074Z"
   },
   {
    "duration": 9,
    "start_time": "2021-07-06T23:50:40.539Z"
   },
   {
    "duration": 9,
    "start_time": "2021-07-06T23:50:47.307Z"
   },
   {
    "duration": 710,
    "start_time": "2021-07-07T00:01:40.835Z"
   },
   {
    "duration": 688,
    "start_time": "2021-07-07T00:02:13.293Z"
   },
   {
    "duration": 581,
    "start_time": "2021-07-07T00:02:32.109Z"
   },
   {
    "duration": 664,
    "start_time": "2021-07-07T00:02:43.854Z"
   },
   {
    "duration": 472,
    "start_time": "2021-07-07T00:02:51.177Z"
   },
   {
    "duration": 484,
    "start_time": "2021-07-07T00:03:46.013Z"
   },
   {
    "duration": 480,
    "start_time": "2021-07-07T00:04:00.629Z"
   },
   {
    "duration": 732,
    "start_time": "2021-07-07T00:04:53.254Z"
   },
   {
    "duration": 479,
    "start_time": "2021-07-07T00:05:01.414Z"
   },
   {
    "duration": 23,
    "start_time": "2021-07-07T00:19:11.280Z"
   },
   {
    "duration": 23,
    "start_time": "2021-07-07T00:23:37.538Z"
   },
   {
    "duration": 24,
    "start_time": "2021-07-07T00:24:46.210Z"
   },
   {
    "duration": 14641,
    "start_time": "2021-07-07T05:23:43.280Z"
   },
   {
    "duration": 49,
    "start_time": "2021-07-07T05:23:57.924Z"
   },
   {
    "duration": 26,
    "start_time": "2021-07-07T05:23:57.976Z"
   },
   {
    "duration": 26,
    "start_time": "2021-07-07T05:23:58.006Z"
   },
   {
    "duration": 20,
    "start_time": "2021-07-07T05:23:58.035Z"
   },
   {
    "duration": 49,
    "start_time": "2021-07-07T05:23:58.058Z"
   },
   {
    "duration": 67,
    "start_time": "2021-07-07T05:23:58.109Z"
   },
   {
    "duration": 24,
    "start_time": "2021-07-07T05:23:58.200Z"
   },
   {
    "duration": 329,
    "start_time": "2021-07-07T05:23:58.227Z"
   },
   {
    "duration": 1475,
    "start_time": "2021-07-07T05:23:58.558Z"
   },
   {
    "duration": 70,
    "start_time": "2021-07-07T05:24:00.036Z"
   },
   {
    "duration": 21,
    "start_time": "2021-07-07T05:24:00.109Z"
   },
   {
    "duration": 725,
    "start_time": "2021-07-07T05:24:00.133Z"
   },
   {
    "duration": 596,
    "start_time": "2021-07-07T05:24:00.860Z"
   },
   {
    "duration": 956,
    "start_time": "2021-07-07T05:24:01.458Z"
   },
   {
    "duration": 10,
    "start_time": "2021-07-07T05:24:02.417Z"
   },
   {
    "duration": 853,
    "start_time": "2021-07-07T05:24:02.429Z"
   },
   {
    "duration": 16,
    "start_time": "2021-07-07T05:24:03.285Z"
   },
   {
    "duration": 24,
    "start_time": "2021-07-07T05:24:03.304Z"
   },
   {
    "duration": 26,
    "start_time": "2021-07-07T05:24:03.331Z"
   },
   {
    "duration": 60,
    "start_time": "2021-07-07T05:24:03.360Z"
   },
   {
    "duration": 49,
    "start_time": "2021-07-07T05:24:03.423Z"
   },
   {
    "duration": 30,
    "start_time": "2021-07-07T05:24:03.477Z"
   },
   {
    "duration": 14,
    "start_time": "2021-07-07T05:24:03.510Z"
   },
   {
    "duration": 12,
    "start_time": "2021-07-07T05:24:03.526Z"
   },
   {
    "duration": 75,
    "start_time": "2021-07-07T05:24:03.540Z"
   },
   {
    "duration": 8,
    "start_time": "2021-07-07T05:24:03.617Z"
   },
   {
    "duration": 11,
    "start_time": "2021-07-07T05:24:03.627Z"
   },
   {
    "duration": 12,
    "start_time": "2021-07-07T05:24:03.641Z"
   },
   {
    "duration": 83,
    "start_time": "2021-07-07T05:24:03.655Z"
   },
   {
    "duration": 10,
    "start_time": "2021-07-07T05:24:03.740Z"
   },
   {
    "duration": 11,
    "start_time": "2021-07-07T05:24:03.754Z"
   },
   {
    "duration": 42,
    "start_time": "2021-07-07T05:24:03.768Z"
   },
   {
    "duration": 511,
    "start_time": "2021-07-07T05:24:03.813Z"
   },
   {
    "duration": 503,
    "start_time": "2021-07-07T05:24:04.326Z"
   },
   {
    "duration": 509,
    "start_time": "2021-07-07T05:24:04.832Z"
   },
   {
    "duration": 24,
    "start_time": "2021-07-07T05:24:05.344Z"
   },
   {
    "duration": 52,
    "start_time": "2021-07-07T05:24:05.372Z"
   },
   {
    "duration": 16409,
    "start_time": "2021-07-07T06:44:00.545Z"
   },
   {
    "duration": 48,
    "start_time": "2021-07-07T06:44:16.956Z"
   },
   {
    "duration": 25,
    "start_time": "2021-07-07T06:44:17.007Z"
   },
   {
    "duration": 16,
    "start_time": "2021-07-07T06:44:17.035Z"
   },
   {
    "duration": 49,
    "start_time": "2021-07-07T06:44:17.053Z"
   },
   {
    "duration": 11,
    "start_time": "2021-07-07T06:44:17.105Z"
   },
   {
    "duration": 5,
    "start_time": "2021-07-07T06:44:17.119Z"
   },
   {
    "duration": 107,
    "start_time": "2021-07-07T06:44:17.128Z"
   },
   {
    "duration": 24,
    "start_time": "2021-07-07T06:44:17.238Z"
   },
   {
    "duration": 323,
    "start_time": "2021-07-07T06:44:17.264Z"
   },
   {
    "duration": 1476,
    "start_time": "2021-07-07T06:44:17.590Z"
   },
   {
    "duration": 55,
    "start_time": "2021-07-07T06:44:19.069Z"
   },
   {
    "duration": 77,
    "start_time": "2021-07-07T06:44:19.127Z"
   },
   {
    "duration": 693,
    "start_time": "2021-07-07T06:44:19.207Z"
   },
   {
    "duration": 588,
    "start_time": "2021-07-07T06:44:19.902Z"
   },
   {
    "duration": 799,
    "start_time": "2021-07-07T06:44:20.500Z"
   },
   {
    "duration": 10,
    "start_time": "2021-07-07T06:44:21.302Z"
   },
   {
    "duration": 860,
    "start_time": "2021-07-07T06:44:21.315Z"
   },
   {
    "duration": 9,
    "start_time": "2021-07-07T06:44:22.178Z"
   },
   {
    "duration": 26,
    "start_time": "2021-07-07T06:44:22.200Z"
   },
   {
    "duration": 27,
    "start_time": "2021-07-07T06:44:22.229Z"
   },
   {
    "duration": 62,
    "start_time": "2021-07-07T06:44:22.259Z"
   },
   {
    "duration": 48,
    "start_time": "2021-07-07T06:44:22.326Z"
   },
   {
    "duration": 30,
    "start_time": "2021-07-07T06:44:22.377Z"
   },
   {
    "duration": 10,
    "start_time": "2021-07-07T06:44:22.409Z"
   },
   {
    "duration": 13,
    "start_time": "2021-07-07T06:44:22.421Z"
   },
   {
    "duration": 73,
    "start_time": "2021-07-07T06:44:22.437Z"
   },
   {
    "duration": 8,
    "start_time": "2021-07-07T06:44:22.513Z"
   },
   {
    "duration": 10,
    "start_time": "2021-07-07T06:44:22.523Z"
   },
   {
    "duration": 12,
    "start_time": "2021-07-07T06:44:22.536Z"
   },
   {
    "duration": 85,
    "start_time": "2021-07-07T06:44:22.550Z"
   },
   {
    "duration": 9,
    "start_time": "2021-07-07T06:44:22.637Z"
   },
   {
    "duration": 8,
    "start_time": "2021-07-07T06:44:22.649Z"
   },
   {
    "duration": 40,
    "start_time": "2021-07-07T06:44:22.660Z"
   },
   {
    "duration": 466,
    "start_time": "2021-07-07T06:44:22.703Z"
   },
   {
    "duration": 480,
    "start_time": "2021-07-07T06:44:23.172Z"
   },
   {
    "duration": 506,
    "start_time": "2021-07-07T06:44:23.655Z"
   },
   {
    "duration": 37,
    "start_time": "2021-07-07T06:44:24.164Z"
   },
   {
    "duration": 25,
    "start_time": "2021-07-07T06:44:24.204Z"
   },
   {
    "duration": 30,
    "start_time": "2021-07-07T06:55:33.309Z"
   },
   {
    "duration": 38,
    "start_time": "2021-07-07T06:56:10.934Z"
   },
   {
    "duration": 9,
    "start_time": "2021-07-07T06:56:26.612Z"
   },
   {
    "duration": 1064,
    "start_time": "2021-07-07T06:56:46.101Z"
   },
   {
    "duration": 2316,
    "start_time": "2021-07-07T06:57:04.651Z"
   },
   {
    "duration": 17,
    "start_time": "2021-07-07T06:57:32.037Z"
   },
   {
    "duration": 2120,
    "start_time": "2021-07-07T06:57:32.940Z"
   },
   {
    "duration": 8,
    "start_time": "2021-07-07T06:58:05.860Z"
   },
   {
    "duration": 9,
    "start_time": "2021-07-07T06:58:19.265Z"
   },
   {
    "duration": 9,
    "start_time": "2021-07-07T06:58:48.006Z"
   },
   {
    "duration": 978,
    "start_time": "2021-07-07T06:58:49.795Z"
   },
   {
    "duration": 1306,
    "start_time": "2021-07-07T06:59:27.654Z"
   },
   {
    "duration": 760,
    "start_time": "2021-07-07T06:59:46.731Z"
   },
   {
    "duration": 1084,
    "start_time": "2021-07-07T07:00:36.992Z"
   },
   {
    "duration": 7,
    "start_time": "2021-07-07T07:10:13.441Z"
   },
   {
    "duration": 14,
    "start_time": "2021-07-07T07:10:44.224Z"
   },
   {
    "duration": 14,
    "start_time": "2021-07-07T07:10:54.155Z"
   },
   {
    "duration": 12,
    "start_time": "2021-07-07T07:11:01.280Z"
   },
   {
    "duration": 23,
    "start_time": "2021-07-07T07:11:14.275Z"
   },
   {
    "duration": 2066,
    "start_time": "2021-07-07T07:39:03.418Z"
   },
   {
    "duration": 46,
    "start_time": "2021-07-07T07:39:05.487Z"
   },
   {
    "duration": 28,
    "start_time": "2021-07-07T07:39:05.536Z"
   },
   {
    "duration": 16,
    "start_time": "2021-07-07T07:39:05.567Z"
   },
   {
    "duration": 19,
    "start_time": "2021-07-07T07:39:05.586Z"
   },
   {
    "duration": 14,
    "start_time": "2021-07-07T07:39:05.608Z"
   },
   {
    "duration": 38,
    "start_time": "2021-07-07T07:39:05.625Z"
   },
   {
    "duration": 62,
    "start_time": "2021-07-07T07:39:05.667Z"
   },
   {
    "duration": 48,
    "start_time": "2021-07-07T07:39:05.732Z"
   },
   {
    "duration": 327,
    "start_time": "2021-07-07T07:39:05.783Z"
   },
   {
    "duration": 1503,
    "start_time": "2021-07-07T07:39:06.112Z"
   },
   {
    "duration": 55,
    "start_time": "2021-07-07T07:39:07.618Z"
   },
   {
    "duration": 20,
    "start_time": "2021-07-07T07:39:07.675Z"
   },
   {
    "duration": 813,
    "start_time": "2021-07-07T07:39:07.697Z"
   },
   {
    "duration": 604,
    "start_time": "2021-07-07T07:39:08.512Z"
   },
   {
    "duration": 853,
    "start_time": "2021-07-07T07:39:09.118Z"
   },
   {
    "duration": 9,
    "start_time": "2021-07-07T07:39:09.973Z"
   },
   {
    "duration": 886,
    "start_time": "2021-07-07T07:39:09.985Z"
   },
   {
    "duration": 10,
    "start_time": "2021-07-07T07:39:10.873Z"
   },
   {
    "duration": 21,
    "start_time": "2021-07-07T07:39:10.885Z"
   },
   {
    "duration": 9,
    "start_time": "2021-07-07T07:39:10.909Z"
   },
   {
    "duration": 1076,
    "start_time": "2021-07-07T07:39:10.921Z"
   },
   {
    "duration": 25,
    "start_time": "2021-07-07T07:39:12.004Z"
   },
   {
    "duration": 53,
    "start_time": "2021-07-07T07:39:12.032Z"
   },
   {
    "duration": 29,
    "start_time": "2021-07-07T07:39:12.088Z"
   },
   {
    "duration": 84,
    "start_time": "2021-07-07T07:39:12.120Z"
   },
   {
    "duration": 9,
    "start_time": "2021-07-07T07:39:12.207Z"
   },
   {
    "duration": 15,
    "start_time": "2021-07-07T07:39:12.219Z"
   },
   {
    "duration": 32,
    "start_time": "2021-07-07T07:39:12.237Z"
   },
   {
    "duration": 52,
    "start_time": "2021-07-07T07:39:12.272Z"
   },
   {
    "duration": 36,
    "start_time": "2021-07-07T07:39:12.326Z"
   },
   {
    "duration": 10,
    "start_time": "2021-07-07T07:39:12.365Z"
   },
   {
    "duration": 11,
    "start_time": "2021-07-07T07:39:12.378Z"
   },
   {
    "duration": 105,
    "start_time": "2021-07-07T07:39:12.391Z"
   },
   {
    "duration": 11,
    "start_time": "2021-07-07T07:39:12.498Z"
   },
   {
    "duration": 10,
    "start_time": "2021-07-07T07:39:12.511Z"
   },
   {
    "duration": 40,
    "start_time": "2021-07-07T07:39:12.523Z"
   },
   {
    "duration": 587,
    "start_time": "2021-07-07T07:39:12.566Z"
   },
   {
    "duration": 484,
    "start_time": "2021-07-07T07:39:13.155Z"
   },
   {
    "duration": 500,
    "start_time": "2021-07-07T07:39:13.641Z"
   },
   {
    "duration": 32,
    "start_time": "2021-07-07T07:39:14.143Z"
   },
   {
    "duration": 26,
    "start_time": "2021-07-07T07:39:14.178Z"
   },
   {
    "duration": 1954,
    "start_time": "2021-07-07T07:44:56.716Z"
   },
   {
    "duration": 49,
    "start_time": "2021-07-07T07:44:58.673Z"
   },
   {
    "duration": 35,
    "start_time": "2021-07-07T07:44:58.730Z"
   },
   {
    "duration": 16,
    "start_time": "2021-07-07T07:44:58.768Z"
   },
   {
    "duration": 27,
    "start_time": "2021-07-07T07:44:58.787Z"
   },
   {
    "duration": 54,
    "start_time": "2021-07-07T07:44:58.817Z"
   },
   {
    "duration": 5,
    "start_time": "2021-07-07T07:44:58.878Z"
   },
   {
    "duration": 111,
    "start_time": "2021-07-07T07:44:58.887Z"
   },
   {
    "duration": 34,
    "start_time": "2021-07-07T07:44:59.001Z"
   },
   {
    "duration": 478,
    "start_time": "2021-07-07T07:44:59.038Z"
   },
   {
    "duration": 2253,
    "start_time": "2021-07-07T07:44:59.519Z"
   },
   {
    "duration": 89,
    "start_time": "2021-07-07T07:45:01.776Z"
   },
   {
    "duration": 20,
    "start_time": "2021-07-07T07:45:01.868Z"
   },
   {
    "duration": 709,
    "start_time": "2021-07-07T07:45:01.891Z"
   },
   {
    "duration": 601,
    "start_time": "2021-07-07T07:45:02.602Z"
   },
   {
    "duration": 868,
    "start_time": "2021-07-07T07:45:03.205Z"
   },
   {
    "duration": 9,
    "start_time": "2021-07-07T07:45:04.076Z"
   },
   {
    "duration": 863,
    "start_time": "2021-07-07T07:45:04.088Z"
   },
   {
    "duration": 13,
    "start_time": "2021-07-07T07:45:04.953Z"
   },
   {
    "duration": 18,
    "start_time": "2021-07-07T07:45:04.968Z"
   },
   {
    "duration": 8,
    "start_time": "2021-07-07T07:45:04.989Z"
   },
   {
    "duration": 969,
    "start_time": "2021-07-07T07:45:05.003Z"
   },
   {
    "duration": 23,
    "start_time": "2021-07-07T07:45:05.976Z"
   },
   {
    "duration": 25,
    "start_time": "2021-07-07T07:45:06.001Z"
   },
   {
    "duration": 53,
    "start_time": "2021-07-07T07:45:06.028Z"
   },
   {
    "duration": 47,
    "start_time": "2021-07-07T07:45:06.084Z"
   },
   {
    "duration": 31,
    "start_time": "2021-07-07T07:45:06.133Z"
   },
   {
    "duration": 15,
    "start_time": "2021-07-07T07:45:06.166Z"
   },
   {
    "duration": 22,
    "start_time": "2021-07-07T07:45:06.183Z"
   },
   {
    "duration": 75,
    "start_time": "2021-07-07T07:45:06.207Z"
   },
   {
    "duration": 9,
    "start_time": "2021-07-07T07:45:06.284Z"
   },
   {
    "duration": 9,
    "start_time": "2021-07-07T07:45:06.295Z"
   },
   {
    "duration": 17,
    "start_time": "2021-07-07T07:45:06.306Z"
   },
   {
    "duration": 80,
    "start_time": "2021-07-07T07:45:06.325Z"
   },
   {
    "duration": 8,
    "start_time": "2021-07-07T07:45:06.407Z"
   },
   {
    "duration": 18,
    "start_time": "2021-07-07T07:45:06.417Z"
   },
   {
    "duration": 33,
    "start_time": "2021-07-07T07:45:06.437Z"
   },
   {
    "duration": 500,
    "start_time": "2021-07-07T07:45:06.472Z"
   },
   {
    "duration": 504,
    "start_time": "2021-07-07T07:45:06.975Z"
   },
   {
    "duration": 555,
    "start_time": "2021-07-07T07:45:07.482Z"
   },
   {
    "duration": 32,
    "start_time": "2021-07-07T07:45:08.040Z"
   },
   {
    "duration": 23,
    "start_time": "2021-07-07T07:45:08.074Z"
   },
   {
    "duration": 969,
    "start_time": "2021-07-07T07:47:03.918Z"
   },
   {
    "duration": 2006,
    "start_time": "2021-07-07T07:57:04.459Z"
   },
   {
    "duration": 46,
    "start_time": "2021-07-07T07:57:06.468Z"
   },
   {
    "duration": 24,
    "start_time": "2021-07-07T07:57:06.520Z"
   },
   {
    "duration": 25,
    "start_time": "2021-07-07T07:57:06.547Z"
   },
   {
    "duration": 42,
    "start_time": "2021-07-07T07:57:06.576Z"
   },
   {
    "duration": 22,
    "start_time": "2021-07-07T07:57:06.621Z"
   },
   {
    "duration": 6,
    "start_time": "2021-07-07T07:57:06.665Z"
   },
   {
    "duration": 118,
    "start_time": "2021-07-07T07:57:06.676Z"
   },
   {
    "duration": 38,
    "start_time": "2021-07-07T07:57:06.797Z"
   },
   {
    "duration": 336,
    "start_time": "2021-07-07T07:57:06.838Z"
   },
   {
    "duration": 1524,
    "start_time": "2021-07-07T07:57:07.176Z"
   },
   {
    "duration": 67,
    "start_time": "2021-07-07T07:57:08.703Z"
   },
   {
    "duration": 24,
    "start_time": "2021-07-07T07:57:08.772Z"
   },
   {
    "duration": 744,
    "start_time": "2021-07-07T07:57:08.799Z"
   },
   {
    "duration": 1002,
    "start_time": "2021-07-07T07:57:09.545Z"
   },
   {
    "duration": 1360,
    "start_time": "2021-07-07T07:57:10.551Z"
   },
   {
    "duration": 14,
    "start_time": "2021-07-07T07:57:11.914Z"
   },
   {
    "duration": 1395,
    "start_time": "2021-07-07T07:57:11.931Z"
   },
   {
    "duration": 12,
    "start_time": "2021-07-07T07:57:13.330Z"
   },
   {
    "duration": 28,
    "start_time": "2021-07-07T07:57:13.361Z"
   },
   {
    "duration": 15,
    "start_time": "2021-07-07T07:57:13.392Z"
   },
   {
    "duration": 1115,
    "start_time": "2021-07-07T07:57:13.415Z"
   },
   {
    "duration": 39,
    "start_time": "2021-07-07T07:57:14.533Z"
   },
   {
    "duration": 25,
    "start_time": "2021-07-07T07:57:14.575Z"
   },
   {
    "duration": 26,
    "start_time": "2021-07-07T07:57:14.602Z"
   },
   {
    "duration": 52,
    "start_time": "2021-07-07T07:57:14.668Z"
   },
   {
    "duration": 9,
    "start_time": "2021-07-07T07:57:14.722Z"
   },
   {
    "duration": 31,
    "start_time": "2021-07-07T07:57:14.734Z"
   },
   {
    "duration": 12,
    "start_time": "2021-07-07T07:57:14.768Z"
   },
   {
    "duration": 49,
    "start_time": "2021-07-07T07:57:14.783Z"
   },
   {
    "duration": 34,
    "start_time": "2021-07-07T07:57:14.834Z"
   },
   {
    "duration": 13,
    "start_time": "2021-07-07T07:57:14.870Z"
   },
   {
    "duration": 14,
    "start_time": "2021-07-07T07:57:14.885Z"
   },
   {
    "duration": 83,
    "start_time": "2021-07-07T07:57:14.902Z"
   },
   {
    "duration": 9,
    "start_time": "2021-07-07T07:57:14.987Z"
   },
   {
    "duration": 10,
    "start_time": "2021-07-07T07:57:14.998Z"
   },
   {
    "duration": 16,
    "start_time": "2021-07-07T07:57:15.010Z"
   },
   {
    "duration": 495,
    "start_time": "2021-07-07T07:57:15.029Z"
   },
   {
    "duration": 500,
    "start_time": "2021-07-07T07:57:15.526Z"
   },
   {
    "duration": 493,
    "start_time": "2021-07-07T07:57:16.029Z"
   },
   {
    "duration": 40,
    "start_time": "2021-07-07T07:57:16.524Z"
   },
   {
    "duration": 25,
    "start_time": "2021-07-07T07:57:16.567Z"
   },
   {
    "duration": 12,
    "start_time": "2021-07-07T08:22:29.401Z"
   },
   {
    "duration": 1977,
    "start_time": "2021-07-07T08:22:44.803Z"
   },
   {
    "duration": 49,
    "start_time": "2021-07-07T08:22:46.783Z"
   },
   {
    "duration": 37,
    "start_time": "2021-07-07T08:22:46.835Z"
   },
   {
    "duration": 16,
    "start_time": "2021-07-07T08:22:46.877Z"
   },
   {
    "duration": 25,
    "start_time": "2021-07-07T08:22:46.896Z"
   },
   {
    "duration": 50,
    "start_time": "2021-07-07T08:22:46.924Z"
   },
   {
    "duration": 7,
    "start_time": "2021-07-07T08:22:46.977Z"
   },
   {
    "duration": 14,
    "start_time": "2021-07-07T08:22:46.988Z"
   },
   {
    "duration": 102,
    "start_time": "2021-07-07T08:22:47.006Z"
   },
   {
    "duration": 27,
    "start_time": "2021-07-07T08:22:47.111Z"
   },
   {
    "duration": 353,
    "start_time": "2021-07-07T08:22:47.141Z"
   },
   {
    "duration": 1576,
    "start_time": "2021-07-07T08:22:47.497Z"
   },
   {
    "duration": 29,
    "start_time": "2021-07-07T08:22:49.075Z"
   },
   {
    "duration": 72,
    "start_time": "2021-07-07T08:22:49.106Z"
   },
   {
    "duration": 809,
    "start_time": "2021-07-07T08:22:49.181Z"
   },
   {
    "duration": 627,
    "start_time": "2021-07-07T08:22:49.994Z"
   },
   {
    "duration": 830,
    "start_time": "2021-07-07T08:22:50.623Z"
   },
   {
    "duration": 16,
    "start_time": "2021-07-07T08:22:51.460Z"
   },
   {
    "duration": 894,
    "start_time": "2021-07-07T08:22:51.478Z"
   },
   {
    "duration": 11,
    "start_time": "2021-07-07T08:22:52.375Z"
   },
   {
    "duration": 20,
    "start_time": "2021-07-07T08:22:52.389Z"
   },
   {
    "duration": 9,
    "start_time": "2021-07-07T08:22:52.411Z"
   },
   {
    "duration": 985,
    "start_time": "2021-07-07T08:22:52.463Z"
   },
   {
    "duration": 43,
    "start_time": "2021-07-07T08:22:53.450Z"
   },
   {
    "duration": 28,
    "start_time": "2021-07-07T08:22:53.495Z"
   },
   {
    "duration": 63,
    "start_time": "2021-07-07T08:22:53.525Z"
   },
   {
    "duration": 52,
    "start_time": "2021-07-07T08:22:53.590Z"
   },
   {
    "duration": 25,
    "start_time": "2021-07-07T08:22:53.645Z"
   },
   {
    "duration": 15,
    "start_time": "2021-07-07T08:22:53.673Z"
   },
   {
    "duration": 11,
    "start_time": "2021-07-07T08:22:53.691Z"
   },
   {
    "duration": 107,
    "start_time": "2021-07-07T08:22:53.705Z"
   },
   {
    "duration": 11,
    "start_time": "2021-07-07T08:22:53.815Z"
   },
   {
    "duration": 33,
    "start_time": "2021-07-07T08:22:53.829Z"
   },
   {
    "duration": 15,
    "start_time": "2021-07-07T08:22:53.865Z"
   },
   {
    "duration": 62,
    "start_time": "2021-07-07T08:22:53.887Z"
   },
   {
    "duration": 12,
    "start_time": "2021-07-07T08:22:53.951Z"
   },
   {
    "duration": 21,
    "start_time": "2021-07-07T08:22:53.968Z"
   },
   {
    "duration": 23,
    "start_time": "2021-07-07T08:22:53.991Z"
   },
   {
    "duration": 514,
    "start_time": "2021-07-07T08:22:54.016Z"
   },
   {
    "duration": 533,
    "start_time": "2021-07-07T08:22:54.532Z"
   },
   {
    "duration": 504,
    "start_time": "2021-07-07T08:22:55.068Z"
   },
   {
    "duration": 23,
    "start_time": "2021-07-07T08:22:55.575Z"
   },
   {
    "duration": 28,
    "start_time": "2021-07-07T08:22:55.601Z"
   },
   {
    "duration": 769,
    "start_time": "2021-07-07T08:25:41.513Z"
   },
   {
    "duration": 12,
    "start_time": "2021-07-07T08:25:51.642Z"
   },
   {
    "duration": 10,
    "start_time": "2021-07-07T08:26:38.586Z"
   },
   {
    "duration": 1867,
    "start_time": "2021-07-07T08:26:50.202Z"
   },
   {
    "duration": 61,
    "start_time": "2021-07-07T08:26:52.072Z"
   },
   {
    "duration": 36,
    "start_time": "2021-07-07T08:26:52.136Z"
   },
   {
    "duration": 16,
    "start_time": "2021-07-07T08:26:52.175Z"
   },
   {
    "duration": 19,
    "start_time": "2021-07-07T08:26:52.194Z"
   },
   {
    "duration": 50,
    "start_time": "2021-07-07T08:26:52.216Z"
   },
   {
    "duration": 13,
    "start_time": "2021-07-07T08:26:52.268Z"
   },
   {
    "duration": 14,
    "start_time": "2021-07-07T08:26:52.285Z"
   },
   {
    "duration": 13,
    "start_time": "2021-07-07T08:26:52.302Z"
   },
   {
    "duration": 105,
    "start_time": "2021-07-07T08:26:52.317Z"
   },
   {
    "duration": 44,
    "start_time": "2021-07-07T08:26:52.425Z"
   },
   {
    "duration": 331,
    "start_time": "2021-07-07T08:26:52.472Z"
   },
   {
    "duration": 1525,
    "start_time": "2021-07-07T08:26:52.806Z"
   },
   {
    "duration": 45,
    "start_time": "2021-07-07T08:26:54.334Z"
   },
   {
    "duration": 86,
    "start_time": "2021-07-07T08:26:54.382Z"
   },
   {
    "duration": 765,
    "start_time": "2021-07-07T08:26:54.470Z"
   },
   {
    "duration": 609,
    "start_time": "2021-07-07T08:26:55.238Z"
   },
   {
    "duration": 859,
    "start_time": "2021-07-07T08:26:55.849Z"
   },
   {
    "duration": 10,
    "start_time": "2021-07-07T08:26:56.710Z"
   },
   {
    "duration": 836,
    "start_time": "2021-07-07T08:26:56.723Z"
   },
   {
    "duration": 10,
    "start_time": "2021-07-07T08:26:57.563Z"
   },
   {
    "duration": 570,
    "start_time": "2021-07-07T08:26:57.575Z"
   },
   {
    "duration": 1097,
    "start_time": "2021-07-07T08:26:57.052Z"
   },
   {
    "duration": 1095,
    "start_time": "2021-07-07T08:26:57.055Z"
   },
   {
    "duration": 1096,
    "start_time": "2021-07-07T08:26:57.057Z"
   },
   {
    "duration": 1096,
    "start_time": "2021-07-07T08:26:57.059Z"
   },
   {
    "duration": 1096,
    "start_time": "2021-07-07T08:26:57.061Z"
   },
   {
    "duration": 1094,
    "start_time": "2021-07-07T08:26:57.066Z"
   },
   {
    "duration": 1094,
    "start_time": "2021-07-07T08:26:57.068Z"
   },
   {
    "duration": 1093,
    "start_time": "2021-07-07T08:26:57.071Z"
   },
   {
    "duration": 1090,
    "start_time": "2021-07-07T08:26:57.076Z"
   },
   {
    "duration": 1091,
    "start_time": "2021-07-07T08:26:57.082Z"
   },
   {
    "duration": 1092,
    "start_time": "2021-07-07T08:26:57.083Z"
   },
   {
    "duration": 1087,
    "start_time": "2021-07-07T08:26:57.089Z"
   },
   {
    "duration": 1084,
    "start_time": "2021-07-07T08:26:57.094Z"
   },
   {
    "duration": 1083,
    "start_time": "2021-07-07T08:26:57.096Z"
   },
   {
    "duration": 1080,
    "start_time": "2021-07-07T08:26:57.101Z"
   },
   {
    "duration": 1076,
    "start_time": "2021-07-07T08:26:57.106Z"
   },
   {
    "duration": 1073,
    "start_time": "2021-07-07T08:26:57.111Z"
   },
   {
    "duration": 1072,
    "start_time": "2021-07-07T08:26:57.113Z"
   },
   {
    "duration": 1069,
    "start_time": "2021-07-07T08:26:57.118Z"
   },
   {
    "duration": 1068,
    "start_time": "2021-07-07T08:26:57.120Z"
   },
   {
    "duration": 1064,
    "start_time": "2021-07-07T08:26:57.125Z"
   },
   {
    "duration": 1061,
    "start_time": "2021-07-07T08:26:57.130Z"
   },
   {
    "duration": 52,
    "start_time": "2021-07-07T13:51:30.853Z"
   },
   {
    "duration": 1912,
    "start_time": "2021-07-07T13:51:37.565Z"
   },
   {
    "duration": 46,
    "start_time": "2021-07-07T13:51:39.479Z"
   },
   {
    "duration": 42,
    "start_time": "2021-07-07T13:51:39.528Z"
   },
   {
    "duration": 15,
    "start_time": "2021-07-07T13:51:39.573Z"
   },
   {
    "duration": 19,
    "start_time": "2021-07-07T13:51:39.590Z"
   },
   {
    "duration": 50,
    "start_time": "2021-07-07T13:51:39.611Z"
   },
   {
    "duration": 11,
    "start_time": "2021-07-07T13:51:39.663Z"
   },
   {
    "duration": 9,
    "start_time": "2021-07-07T13:51:39.678Z"
   },
   {
    "duration": 10,
    "start_time": "2021-07-07T13:51:39.690Z"
   },
   {
    "duration": 97,
    "start_time": "2021-07-07T13:51:39.702Z"
   },
   {
    "duration": 24,
    "start_time": "2021-07-07T13:51:39.801Z"
   },
   {
    "duration": 346,
    "start_time": "2021-07-07T13:51:39.827Z"
   },
   {
    "duration": 1523,
    "start_time": "2021-07-07T13:51:40.176Z"
   },
   {
    "duration": 63,
    "start_time": "2021-07-07T13:51:41.701Z"
   },
   {
    "duration": 21,
    "start_time": "2021-07-07T13:51:41.766Z"
   },
   {
    "duration": 830,
    "start_time": "2021-07-07T13:51:41.790Z"
   },
   {
    "duration": 606,
    "start_time": "2021-07-07T13:51:42.622Z"
   },
   {
    "duration": 810,
    "start_time": "2021-07-07T13:51:43.231Z"
   },
   {
    "duration": 19,
    "start_time": "2021-07-07T13:51:44.043Z"
   },
   {
    "duration": 791,
    "start_time": "2021-07-07T13:51:44.065Z"
   },
   {
    "duration": 8,
    "start_time": "2021-07-07T13:51:44.861Z"
   },
   {
    "duration": 554,
    "start_time": "2021-07-07T13:51:44.872Z"
   },
   {
    "duration": 1185,
    "start_time": "2021-07-07T13:51:44.246Z"
   },
   {
    "duration": 1185,
    "start_time": "2021-07-07T13:51:44.249Z"
   },
   {
    "duration": 1177,
    "start_time": "2021-07-07T13:51:44.259Z"
   },
   {
    "duration": 1174,
    "start_time": "2021-07-07T13:51:44.264Z"
   },
   {
    "duration": 1173,
    "start_time": "2021-07-07T13:51:44.267Z"
   },
   {
    "duration": 1170,
    "start_time": "2021-07-07T13:51:44.272Z"
   },
   {
    "duration": 1168,
    "start_time": "2021-07-07T13:51:44.277Z"
   },
   {
    "duration": 1163,
    "start_time": "2021-07-07T13:51:44.284Z"
   },
   {
    "duration": 1159,
    "start_time": "2021-07-07T13:51:44.290Z"
   },
   {
    "duration": 1156,
    "start_time": "2021-07-07T13:51:44.295Z"
   },
   {
    "duration": 1152,
    "start_time": "2021-07-07T13:51:44.301Z"
   },
   {
    "duration": 1148,
    "start_time": "2021-07-07T13:51:44.307Z"
   },
   {
    "duration": 1147,
    "start_time": "2021-07-07T13:51:44.309Z"
   },
   {
    "duration": 1147,
    "start_time": "2021-07-07T13:51:44.311Z"
   },
   {
    "duration": 1148,
    "start_time": "2021-07-07T13:51:44.313Z"
   },
   {
    "duration": 1148,
    "start_time": "2021-07-07T13:51:44.315Z"
   },
   {
    "duration": 1148,
    "start_time": "2021-07-07T13:51:44.317Z"
   },
   {
    "duration": 1148,
    "start_time": "2021-07-07T13:51:44.319Z"
   },
   {
    "duration": 1147,
    "start_time": "2021-07-07T13:51:44.322Z"
   },
   {
    "duration": 1148,
    "start_time": "2021-07-07T13:51:44.323Z"
   },
   {
    "duration": 1148,
    "start_time": "2021-07-07T13:51:44.325Z"
   },
   {
    "duration": 1147,
    "start_time": "2021-07-07T13:51:44.328Z"
   },
   {
    "duration": 43,
    "start_time": "2021-07-07T13:57:02.531Z"
   },
   {
    "duration": 27,
    "start_time": "2021-07-07T14:02:13.316Z"
   },
   {
    "duration": 307,
    "start_time": "2021-07-07T14:02:15.763Z"
   },
   {
    "duration": 108,
    "start_time": "2021-07-07T14:10:20.708Z"
   },
   {
    "duration": 22,
    "start_time": "2021-07-07T14:10:44.582Z"
   },
   {
    "duration": 36,
    "start_time": "2021-07-07T14:10:52.509Z"
   },
   {
    "duration": 367,
    "start_time": "2021-07-07T14:12:55.421Z"
   },
   {
    "duration": 367,
    "start_time": "2021-07-07T14:13:08.368Z"
   },
   {
    "duration": 384,
    "start_time": "2021-07-07T14:13:31.398Z"
   },
   {
    "duration": 890,
    "start_time": "2021-07-07T14:14:18.086Z"
   },
   {
    "duration": 46,
    "start_time": "2021-07-07T14:14:30.478Z"
   },
   {
    "duration": 36,
    "start_time": "2021-07-07T14:15:51.029Z"
   },
   {
    "duration": 8116,
    "start_time": "2021-07-07T14:17:12.423Z"
   },
   {
    "duration": 57,
    "start_time": "2021-07-07T15:10:55.813Z"
   },
   {
    "duration": 39,
    "start_time": "2021-07-07T15:11:21.374Z"
   },
   {
    "duration": 63,
    "start_time": "2021-07-07T15:13:04.966Z"
   },
   {
    "duration": 56,
    "start_time": "2021-07-07T15:14:35.631Z"
   },
   {
    "duration": 22,
    "start_time": "2021-07-07T15:23:18.297Z"
   },
   {
    "duration": 254,
    "start_time": "2021-07-07T16:41:51.122Z"
   },
   {
    "duration": 381,
    "start_time": "2021-07-07T16:42:28.684Z"
   },
   {
    "duration": 264,
    "start_time": "2021-07-07T16:43:08.405Z"
   },
   {
    "duration": 117,
    "start_time": "2021-07-07T16:43:43.372Z"
   },
   {
    "duration": 106,
    "start_time": "2021-07-07T16:44:53.027Z"
   },
   {
    "duration": 284,
    "start_time": "2021-07-07T16:45:05.324Z"
   },
   {
    "duration": 268,
    "start_time": "2021-07-07T16:45:51.861Z"
   },
   {
    "duration": 296,
    "start_time": "2021-07-07T16:47:13.949Z"
   },
   {
    "duration": 305,
    "start_time": "2021-07-07T16:48:27.766Z"
   },
   {
    "duration": 265,
    "start_time": "2021-07-07T16:49:35.103Z"
   },
   {
    "duration": 295,
    "start_time": "2021-07-07T16:50:17.550Z"
   },
   {
    "duration": 237,
    "start_time": "2021-07-07T16:50:52.366Z"
   },
   {
    "duration": 248,
    "start_time": "2021-07-07T16:52:52.269Z"
   },
   {
    "duration": 439,
    "start_time": "2021-07-07T16:52:55.438Z"
   },
   {
    "duration": 278,
    "start_time": "2021-07-07T16:52:57.550Z"
   },
   {
    "duration": 258,
    "start_time": "2021-07-07T16:52:58.846Z"
   },
   {
    "duration": 252,
    "start_time": "2021-07-07T16:52:59.774Z"
   },
   {
    "duration": 283,
    "start_time": "2021-07-07T16:53:00.790Z"
   },
   {
    "duration": 283,
    "start_time": "2021-07-07T16:53:02.279Z"
   },
   {
    "duration": 290,
    "start_time": "2021-07-07T16:53:05.462Z"
   },
   {
    "duration": 278,
    "start_time": "2021-07-07T16:53:41.430Z"
   },
   {
    "duration": 250,
    "start_time": "2021-07-07T16:53:44.478Z"
   },
   {
    "duration": 257,
    "start_time": "2021-07-07T16:53:46.838Z"
   },
   {
    "duration": 265,
    "start_time": "2021-07-07T16:53:49.742Z"
   },
   {
    "duration": 265,
    "start_time": "2021-07-07T16:53:52.254Z"
   },
   {
    "duration": 285,
    "start_time": "2021-07-07T16:53:54.629Z"
   },
   {
    "duration": 266,
    "start_time": "2021-07-07T16:53:58.430Z"
   },
   {
    "duration": 269,
    "start_time": "2021-07-07T16:54:00.734Z"
   },
   {
    "duration": 272,
    "start_time": "2021-07-07T16:54:02.695Z"
   },
   {
    "duration": 249,
    "start_time": "2021-07-07T16:54:05.174Z"
   },
   {
    "duration": 244,
    "start_time": "2021-07-07T17:02:37.088Z"
   },
   {
    "duration": 257,
    "start_time": "2021-07-07T17:02:37.888Z"
   },
   {
    "duration": 257,
    "start_time": "2021-07-07T17:02:39.208Z"
   },
   {
    "duration": 262,
    "start_time": "2021-07-07T17:02:40.064Z"
   },
   {
    "duration": 267,
    "start_time": "2021-07-07T17:02:42.720Z"
   },
   {
    "duration": 298,
    "start_time": "2021-07-07T17:02:44.624Z"
   },
   {
    "duration": 397,
    "start_time": "2021-07-07T17:02:46.176Z"
   },
   {
    "duration": 395,
    "start_time": "2021-07-07T17:02:48.113Z"
   },
   {
    "duration": 269,
    "start_time": "2021-07-07T17:02:49.657Z"
   },
   {
    "duration": 429,
    "start_time": "2021-07-07T17:02:51.344Z"
   },
   {
    "duration": 209,
    "start_time": "2021-07-07T20:17:58.464Z"
   },
   {
    "duration": 1382,
    "start_time": "2021-07-07T20:18:06.687Z"
   },
   {
    "duration": 36,
    "start_time": "2021-07-07T20:18:08.071Z"
   },
   {
    "duration": 17,
    "start_time": "2021-07-07T20:18:08.109Z"
   },
   {
    "duration": 10,
    "start_time": "2021-07-07T20:18:08.127Z"
   },
   {
    "duration": 11,
    "start_time": "2021-07-07T20:18:08.139Z"
   },
   {
    "duration": 33,
    "start_time": "2021-07-07T20:18:08.152Z"
   },
   {
    "duration": 7,
    "start_time": "2021-07-07T20:18:08.187Z"
   },
   {
    "duration": 7,
    "start_time": "2021-07-07T20:18:08.196Z"
   },
   {
    "duration": 6,
    "start_time": "2021-07-07T20:18:08.205Z"
   },
   {
    "duration": 31,
    "start_time": "2021-07-07T20:18:08.213Z"
   },
   {
    "duration": 44,
    "start_time": "2021-07-07T20:18:08.246Z"
   },
   {
    "duration": 226,
    "start_time": "2021-07-07T20:18:08.292Z"
   },
   {
    "duration": 982,
    "start_time": "2021-07-07T20:18:08.519Z"
   },
   {
    "duration": 27,
    "start_time": "2021-07-07T20:18:09.502Z"
   },
   {
    "duration": 69,
    "start_time": "2021-07-07T20:18:09.530Z"
   },
   {
    "duration": 14,
    "start_time": "2021-07-07T20:18:09.601Z"
   },
   {
    "duration": 13,
    "start_time": "2021-07-07T20:18:09.617Z"
   },
   {
    "duration": 243,
    "start_time": "2021-07-07T20:18:09.632Z"
   },
   {
    "duration": 176,
    "start_time": "2021-07-07T20:18:09.876Z"
   },
   {
    "duration": 173,
    "start_time": "2021-07-07T20:18:10.054Z"
   },
   {
    "duration": 287,
    "start_time": "2021-07-07T20:18:10.229Z"
   },
   {
    "duration": 168,
    "start_time": "2021-07-07T20:18:10.518Z"
   },
   {
    "duration": 194,
    "start_time": "2021-07-07T20:18:10.690Z"
   },
   {
    "duration": 181,
    "start_time": "2021-07-07T20:18:10.887Z"
   },
   {
    "duration": 179,
    "start_time": "2021-07-07T20:18:11.069Z"
   },
   {
    "duration": 172,
    "start_time": "2021-07-07T20:18:11.249Z"
   },
   {
    "duration": 154,
    "start_time": "2021-07-07T20:18:11.422Z"
   },
   {
    "duration": 363,
    "start_time": "2021-07-07T20:18:11.577Z"
   },
   {
    "duration": 1774,
    "start_time": "2021-07-07T20:18:10.168Z"
   },
   {
    "duration": 1773,
    "start_time": "2021-07-07T20:18:10.170Z"
   },
   {
    "duration": 1772,
    "start_time": "2021-07-07T20:18:10.172Z"
   },
   {
    "duration": 1771,
    "start_time": "2021-07-07T20:18:10.174Z"
   },
   {
    "duration": 1770,
    "start_time": "2021-07-07T20:18:10.176Z"
   },
   {
    "duration": 1769,
    "start_time": "2021-07-07T20:18:10.178Z"
   },
   {
    "duration": 1768,
    "start_time": "2021-07-07T20:18:10.180Z"
   },
   {
    "duration": 1767,
    "start_time": "2021-07-07T20:18:10.182Z"
   },
   {
    "duration": 1766,
    "start_time": "2021-07-07T20:18:10.184Z"
   },
   {
    "duration": 1766,
    "start_time": "2021-07-07T20:18:10.185Z"
   },
   {
    "duration": 1765,
    "start_time": "2021-07-07T20:18:10.187Z"
   },
   {
    "duration": 1764,
    "start_time": "2021-07-07T20:18:10.189Z"
   },
   {
    "duration": 1763,
    "start_time": "2021-07-07T20:18:10.191Z"
   },
   {
    "duration": 1763,
    "start_time": "2021-07-07T20:18:10.192Z"
   },
   {
    "duration": 1762,
    "start_time": "2021-07-07T20:18:10.194Z"
   },
   {
    "duration": 1761,
    "start_time": "2021-07-07T20:18:10.196Z"
   },
   {
    "duration": 1761,
    "start_time": "2021-07-07T20:18:10.197Z"
   },
   {
    "duration": 1759,
    "start_time": "2021-07-07T20:18:10.200Z"
   },
   {
    "duration": 1758,
    "start_time": "2021-07-07T20:18:10.202Z"
   },
   {
    "duration": 1757,
    "start_time": "2021-07-07T20:18:10.204Z"
   },
   {
    "duration": 1753,
    "start_time": "2021-07-07T20:18:10.209Z"
   },
   {
    "duration": 1751,
    "start_time": "2021-07-07T20:18:10.211Z"
   },
   {
    "duration": 1751,
    "start_time": "2021-07-07T20:18:10.213Z"
   },
   {
    "duration": 1749,
    "start_time": "2021-07-07T20:18:10.216Z"
   },
   {
    "duration": 1749,
    "start_time": "2021-07-07T20:18:10.217Z"
   },
   {
    "duration": 1748,
    "start_time": "2021-07-07T20:18:10.219Z"
   },
   {
    "duration": 1728,
    "start_time": "2021-07-07T20:18:10.240Z"
   },
   {
    "duration": 3,
    "start_time": "2021-07-07T20:19:03.013Z"
   },
   {
    "duration": 159,
    "start_time": "2021-07-07T20:19:03.915Z"
   },
   {
    "duration": 170,
    "start_time": "2021-07-07T20:19:04.420Z"
   },
   {
    "duration": 176,
    "start_time": "2021-07-07T20:19:05.132Z"
   },
   {
    "duration": 168,
    "start_time": "2021-07-07T20:19:06.004Z"
   },
   {
    "duration": 162,
    "start_time": "2021-07-07T20:19:06.596Z"
   },
   {
    "duration": 179,
    "start_time": "2021-07-07T20:19:07.212Z"
   },
   {
    "duration": 174,
    "start_time": "2021-07-07T20:19:07.860Z"
   },
   {
    "duration": 166,
    "start_time": "2021-07-07T20:19:08.476Z"
   },
   {
    "duration": 166,
    "start_time": "2021-07-07T20:19:09.100Z"
   },
   {
    "duration": 151,
    "start_time": "2021-07-07T20:19:09.740Z"
   },
   {
    "duration": 380,
    "start_time": "2021-07-07T20:19:12.021Z"
   },
   {
    "duration": 406,
    "start_time": "2021-07-07T20:31:13.720Z"
   },
   {
    "duration": 60,
    "start_time": "2021-07-07T20:34:02.527Z"
   },
   {
    "duration": 66,
    "start_time": "2021-07-07T20:34:08.264Z"
   },
   {
    "duration": 413,
    "start_time": "2021-07-07T20:34:18.201Z"
   },
   {
    "duration": 1418,
    "start_time": "2021-07-07T21:02:37.764Z"
   },
   {
    "duration": 38,
    "start_time": "2021-07-07T21:02:39.183Z"
   },
   {
    "duration": 17,
    "start_time": "2021-07-07T21:02:39.223Z"
   },
   {
    "duration": 11,
    "start_time": "2021-07-07T21:02:39.242Z"
   },
   {
    "duration": 31,
    "start_time": "2021-07-07T21:02:39.255Z"
   },
   {
    "duration": 9,
    "start_time": "2021-07-07T21:02:39.288Z"
   },
   {
    "duration": 8,
    "start_time": "2021-07-07T21:02:39.298Z"
   },
   {
    "duration": 7,
    "start_time": "2021-07-07T21:02:39.309Z"
   },
   {
    "duration": 6,
    "start_time": "2021-07-07T21:02:39.318Z"
   },
   {
    "duration": 66,
    "start_time": "2021-07-07T21:02:39.326Z"
   },
   {
    "duration": 14,
    "start_time": "2021-07-07T21:02:39.394Z"
   },
   {
    "duration": 225,
    "start_time": "2021-07-07T21:02:39.409Z"
   },
   {
    "duration": 1026,
    "start_time": "2021-07-07T21:02:39.635Z"
   },
   {
    "duration": 44,
    "start_time": "2021-07-07T21:02:40.663Z"
   },
   {
    "duration": 21,
    "start_time": "2021-07-07T21:02:40.709Z"
   },
   {
    "duration": 15,
    "start_time": "2021-07-07T21:02:40.785Z"
   },
   {
    "duration": 2,
    "start_time": "2021-07-07T21:02:40.802Z"
   },
   {
    "duration": 229,
    "start_time": "2021-07-07T21:02:40.806Z"
   },
   {
    "duration": 174,
    "start_time": "2021-07-07T21:02:41.037Z"
   },
   {
    "duration": 186,
    "start_time": "2021-07-07T21:02:41.213Z"
   },
   {
    "duration": 299,
    "start_time": "2021-07-07T21:02:41.401Z"
   },
   {
    "duration": 173,
    "start_time": "2021-07-07T21:02:41.702Z"
   },
   {
    "duration": 182,
    "start_time": "2021-07-07T21:02:41.886Z"
   },
   {
    "duration": 195,
    "start_time": "2021-07-07T21:02:42.070Z"
   },
   {
    "duration": 180,
    "start_time": "2021-07-07T21:02:42.266Z"
   },
   {
    "duration": 174,
    "start_time": "2021-07-07T21:02:42.448Z"
   },
   {
    "duration": 154,
    "start_time": "2021-07-07T21:02:42.624Z"
   },
   {
    "duration": 1200,
    "start_time": "2021-07-07T21:03:22.294Z"
   },
   {
    "duration": 1195,
    "start_time": "2021-07-07T21:03:22.300Z"
   },
   {
    "duration": 1193,
    "start_time": "2021-07-07T21:03:22.303Z"
   },
   {
    "duration": 1192,
    "start_time": "2021-07-07T21:03:22.305Z"
   },
   {
    "duration": 1189,
    "start_time": "2021-07-07T21:03:22.309Z"
   },
   {
    "duration": 1187,
    "start_time": "2021-07-07T21:03:22.312Z"
   },
   {
    "duration": 1183,
    "start_time": "2021-07-07T21:03:22.316Z"
   },
   {
    "duration": 1181,
    "start_time": "2021-07-07T21:03:22.319Z"
   },
   {
    "duration": 1179,
    "start_time": "2021-07-07T21:03:22.322Z"
   },
   {
    "duration": 1177,
    "start_time": "2021-07-07T21:03:22.325Z"
   },
   {
    "duration": 1176,
    "start_time": "2021-07-07T21:03:22.327Z"
   },
   {
    "duration": 1171,
    "start_time": "2021-07-07T21:03:22.333Z"
   },
   {
    "duration": 1169,
    "start_time": "2021-07-07T21:03:22.336Z"
   },
   {
    "duration": 1167,
    "start_time": "2021-07-07T21:03:22.339Z"
   },
   {
    "duration": 1166,
    "start_time": "2021-07-07T21:03:22.341Z"
   },
   {
    "duration": 1164,
    "start_time": "2021-07-07T21:03:22.344Z"
   },
   {
    "duration": 1162,
    "start_time": "2021-07-07T21:03:22.347Z"
   },
   {
    "duration": 1161,
    "start_time": "2021-07-07T21:03:22.349Z"
   },
   {
    "duration": 1159,
    "start_time": "2021-07-07T21:03:22.352Z"
   },
   {
    "duration": 1156,
    "start_time": "2021-07-07T21:03:22.355Z"
   },
   {
    "duration": 1155,
    "start_time": "2021-07-07T21:03:22.357Z"
   },
   {
    "duration": 1153,
    "start_time": "2021-07-07T21:03:22.360Z"
   },
   {
    "duration": 1151,
    "start_time": "2021-07-07T21:03:22.363Z"
   },
   {
    "duration": 1150,
    "start_time": "2021-07-07T21:03:22.365Z"
   },
   {
    "duration": 1149,
    "start_time": "2021-07-07T21:03:22.367Z"
   },
   {
    "duration": 1148,
    "start_time": "2021-07-07T21:03:22.369Z"
   },
   {
    "duration": 1146,
    "start_time": "2021-07-07T21:03:22.372Z"
   },
   {
    "duration": 1138,
    "start_time": "2021-07-07T21:03:22.383Z"
   },
   {
    "duration": 46823,
    "start_time": "2021-07-07T21:03:26.755Z"
   },
   {
    "duration": 179,
    "start_time": "2021-07-07T21:07:27.006Z"
   },
   {
    "duration": 393,
    "start_time": "2021-07-07T21:14:14.942Z"
   },
   {
    "duration": 231,
    "start_time": "2021-07-07T21:15:09.854Z"
   },
   {
    "duration": 376,
    "start_time": "2021-07-07T21:15:19.622Z"
   },
   {
    "duration": 189,
    "start_time": "2021-07-07T21:15:57.151Z"
   },
   {
    "duration": 223,
    "start_time": "2021-07-07T21:16:04.231Z"
   },
   {
    "duration": 222,
    "start_time": "2021-07-07T21:16:11.927Z"
   },
   {
    "duration": 388,
    "start_time": "2021-07-07T21:16:26.398Z"
   },
   {
    "duration": 401,
    "start_time": "2021-07-07T21:16:32.015Z"
   },
   {
    "duration": 387,
    "start_time": "2021-07-07T21:18:03.144Z"
   },
   {
    "duration": 177,
    "start_time": "2021-07-07T21:41:26.869Z"
   },
   {
    "duration": 187,
    "start_time": "2021-07-07T21:41:54.765Z"
   },
   {
    "duration": 190,
    "start_time": "2021-07-07T21:42:14.181Z"
   },
   {
    "duration": 191,
    "start_time": "2021-07-07T21:42:25.122Z"
   },
   {
    "duration": 171,
    "start_time": "2021-07-07T21:42:42.164Z"
   },
   {
    "duration": 169,
    "start_time": "2021-07-07T21:42:48.981Z"
   },
   {
    "duration": 916,
    "start_time": "2021-07-07T21:42:59.932Z"
   },
   {
    "duration": 184,
    "start_time": "2021-07-07T21:43:13.885Z"
   },
   {
    "duration": 187,
    "start_time": "2021-07-07T21:43:26.793Z"
   },
   {
    "duration": 177,
    "start_time": "2021-07-07T21:43:38.517Z"
   },
   {
    "duration": 169,
    "start_time": "2021-07-07T21:44:40.957Z"
   },
   {
    "duration": 175,
    "start_time": "2021-07-07T21:44:49.021Z"
   },
   {
    "duration": 184,
    "start_time": "2021-07-07T21:45:15.941Z"
   },
   {
    "duration": 203,
    "start_time": "2021-07-07T21:45:24.853Z"
   },
   {
    "duration": 176,
    "start_time": "2021-07-07T21:46:14.933Z"
   },
   {
    "duration": 175,
    "start_time": "2021-07-07T21:46:27.797Z"
   },
   {
    "duration": 182,
    "start_time": "2021-07-07T21:46:56.061Z"
   },
   {
    "duration": 186,
    "start_time": "2021-07-07T21:47:16.165Z"
   },
   {
    "duration": 179,
    "start_time": "2021-07-07T21:47:25.853Z"
   },
   {
    "duration": 184,
    "start_time": "2021-07-07T21:47:40.973Z"
   },
   {
    "duration": 197,
    "start_time": "2021-07-07T21:47:52.301Z"
   },
   {
    "duration": 199,
    "start_time": "2021-07-07T21:48:08.173Z"
   },
   {
    "duration": 182,
    "start_time": "2021-07-07T21:49:31.189Z"
   },
   {
    "duration": 176,
    "start_time": "2021-07-07T21:49:54.254Z"
   },
   {
    "duration": 398,
    "start_time": "2021-07-07T22:04:23.682Z"
   },
   {
    "duration": 1329,
    "start_time": "2021-07-07T22:04:31.342Z"
   },
   {
    "duration": 36,
    "start_time": "2021-07-07T22:04:32.673Z"
   },
   {
    "duration": 17,
    "start_time": "2021-07-07T22:04:32.711Z"
   },
   {
    "duration": 11,
    "start_time": "2021-07-07T22:04:32.730Z"
   },
   {
    "duration": 12,
    "start_time": "2021-07-07T22:04:32.743Z"
   },
   {
    "duration": 30,
    "start_time": "2021-07-07T22:04:32.757Z"
   },
   {
    "duration": 8,
    "start_time": "2021-07-07T22:04:32.788Z"
   },
   {
    "duration": 7,
    "start_time": "2021-07-07T22:04:32.798Z"
   },
   {
    "duration": 6,
    "start_time": "2021-07-07T22:04:32.807Z"
   },
   {
    "duration": 28,
    "start_time": "2021-07-07T22:04:32.815Z"
   },
   {
    "duration": 51,
    "start_time": "2021-07-07T22:04:32.844Z"
   },
   {
    "duration": 218,
    "start_time": "2021-07-07T22:04:32.896Z"
   },
   {
    "duration": 1015,
    "start_time": "2021-07-07T22:04:33.116Z"
   },
   {
    "duration": 57,
    "start_time": "2021-07-07T22:04:34.133Z"
   },
   {
    "duration": 19,
    "start_time": "2021-07-07T22:04:34.192Z"
   },
   {
    "duration": 274,
    "start_time": "2021-07-07T22:04:34.213Z"
   },
   {
    "duration": 200,
    "start_time": "2021-07-07T22:04:34.489Z"
   },
   {
    "duration": 176,
    "start_time": "2021-07-07T22:04:34.691Z"
   },
   {
    "duration": 311,
    "start_time": "2021-07-07T22:04:34.869Z"
   },
   {
    "duration": 177,
    "start_time": "2021-07-07T22:04:35.184Z"
   },
   {
    "duration": 192,
    "start_time": "2021-07-07T22:04:35.363Z"
   },
   {
    "duration": 185,
    "start_time": "2021-07-07T22:04:35.556Z"
   },
   {
    "duration": 189,
    "start_time": "2021-07-07T22:04:35.745Z"
   },
   {
    "duration": 183,
    "start_time": "2021-07-07T22:04:35.936Z"
   },
   {
    "duration": 178,
    "start_time": "2021-07-07T22:04:36.121Z"
   },
   {
    "duration": 351,
    "start_time": "2021-07-07T22:04:36.301Z"
   },
   {
    "duration": 1152,
    "start_time": "2021-07-07T22:04:35.502Z"
   },
   {
    "duration": 1147,
    "start_time": "2021-07-07T22:04:35.508Z"
   },
   {
    "duration": 1143,
    "start_time": "2021-07-07T22:04:35.514Z"
   },
   {
    "duration": 1137,
    "start_time": "2021-07-07T22:04:35.521Z"
   },
   {
    "duration": 1131,
    "start_time": "2021-07-07T22:04:35.528Z"
   },
   {
    "duration": 1126,
    "start_time": "2021-07-07T22:04:35.534Z"
   },
   {
    "duration": 1118,
    "start_time": "2021-07-07T22:04:35.544Z"
   },
   {
    "duration": 1113,
    "start_time": "2021-07-07T22:04:35.550Z"
   },
   {
    "duration": 1106,
    "start_time": "2021-07-07T22:04:35.558Z"
   },
   {
    "duration": 1101,
    "start_time": "2021-07-07T22:04:35.564Z"
   },
   {
    "duration": 1096,
    "start_time": "2021-07-07T22:04:35.570Z"
   },
   {
    "duration": 1091,
    "start_time": "2021-07-07T22:04:35.576Z"
   },
   {
    "duration": 1086,
    "start_time": "2021-07-07T22:04:35.583Z"
   },
   {
    "duration": 1081,
    "start_time": "2021-07-07T22:04:35.589Z"
   },
   {
    "duration": 1074,
    "start_time": "2021-07-07T22:04:35.598Z"
   },
   {
    "duration": 1072,
    "start_time": "2021-07-07T22:04:35.601Z"
   },
   {
    "duration": 1071,
    "start_time": "2021-07-07T22:04:35.603Z"
   },
   {
    "duration": 1071,
    "start_time": "2021-07-07T22:04:35.605Z"
   },
   {
    "duration": 1070,
    "start_time": "2021-07-07T22:04:35.607Z"
   },
   {
    "duration": 1070,
    "start_time": "2021-07-07T22:04:35.608Z"
   },
   {
    "duration": 1070,
    "start_time": "2021-07-07T22:04:35.610Z"
   },
   {
    "duration": 1069,
    "start_time": "2021-07-07T22:04:35.612Z"
   },
   {
    "duration": 1068,
    "start_time": "2021-07-07T22:04:35.614Z"
   },
   {
    "duration": 1067,
    "start_time": "2021-07-07T22:04:35.616Z"
   },
   {
    "duration": 1067,
    "start_time": "2021-07-07T22:04:35.618Z"
   },
   {
    "duration": 1066,
    "start_time": "2021-07-07T22:04:35.620Z"
   },
   {
    "duration": 1066,
    "start_time": "2021-07-07T22:04:35.621Z"
   },
   {
    "duration": 293,
    "start_time": "2021-07-07T22:07:00.356Z"
   },
   {
    "duration": 534,
    "start_time": "2021-07-07T22:14:27.556Z"
   },
   {
    "duration": 523,
    "start_time": "2021-07-07T22:14:58.444Z"
   },
   {
    "duration": 6,
    "start_time": "2021-07-07T22:15:29.444Z"
   },
   {
    "duration": 55,
    "start_time": "2021-07-07T22:16:32.364Z"
   },
   {
    "duration": 513,
    "start_time": "2021-07-07T22:16:48.756Z"
   },
   {
    "duration": 541,
    "start_time": "2021-07-07T22:17:08.908Z"
   },
   {
    "duration": 6,
    "start_time": "2021-07-07T22:17:17.820Z"
   },
   {
    "duration": 523,
    "start_time": "2021-07-07T22:17:29.772Z"
   },
   {
    "duration": 6,
    "start_time": "2021-07-07T22:17:43.621Z"
   },
   {
    "duration": 206,
    "start_time": "2021-07-07T22:19:17.605Z"
   },
   {
    "duration": 17,
    "start_time": "2021-07-07T22:20:14.038Z"
   },
   {
    "duration": 17,
    "start_time": "2021-07-07T22:20:26.901Z"
   },
   {
    "duration": 17,
    "start_time": "2021-07-07T22:20:58.677Z"
   },
   {
    "duration": 267,
    "start_time": "2021-07-07T22:51:02.365Z"
   },
   {
    "duration": 189,
    "start_time": "2021-07-07T22:52:41.629Z"
   },
   {
    "duration": 330,
    "start_time": "2021-07-07T22:53:15.940Z"
   },
   {
    "duration": 333,
    "start_time": "2021-07-07T22:54:05.813Z"
   },
   {
    "duration": 270,
    "start_time": "2021-07-07T22:55:05.046Z"
   },
   {
    "duration": 4988,
    "start_time": "2021-07-07T22:56:52.933Z"
   },
   {
    "duration": 319,
    "start_time": "2021-07-07T22:57:28.318Z"
   },
   {
    "duration": 313,
    "start_time": "2021-07-07T22:58:36.236Z"
   },
   {
    "duration": 341,
    "start_time": "2021-07-07T22:59:15.118Z"
   },
   {
    "duration": 338,
    "start_time": "2021-07-07T22:59:45.789Z"
   },
   {
    "duration": 318,
    "start_time": "2021-07-07T23:00:03.126Z"
   },
   {
    "duration": 411,
    "start_time": "2021-07-07T23:00:24.777Z"
   },
   {
    "duration": 315,
    "start_time": "2021-07-07T23:00:42.134Z"
   },
   {
    "duration": 326,
    "start_time": "2021-07-07T23:01:08.686Z"
   },
   {
    "duration": 277,
    "start_time": "2021-07-07T23:03:05.044Z"
   },
   {
    "duration": 330,
    "start_time": "2021-07-07T23:03:34.510Z"
   },
   {
    "duration": 325,
    "start_time": "2021-07-07T23:04:53.951Z"
   },
   {
    "duration": 494,
    "start_time": "2021-07-07T23:05:11.807Z"
   },
   {
    "duration": 334,
    "start_time": "2021-07-07T23:06:34.860Z"
   },
   {
    "duration": 325,
    "start_time": "2021-07-07T23:07:40.927Z"
   },
   {
    "duration": 334,
    "start_time": "2021-07-07T23:10:35.840Z"
   },
   {
    "duration": 326,
    "start_time": "2021-07-07T23:10:53.920Z"
   },
   {
    "duration": 33,
    "start_time": "2021-07-07T23:12:05.616Z"
   },
   {
    "duration": 7,
    "start_time": "2021-07-07T23:12:07.127Z"
   },
   {
    "duration": 7,
    "start_time": "2021-07-07T23:12:11.912Z"
   },
   {
    "duration": 7,
    "start_time": "2021-07-07T23:12:13.096Z"
   },
   {
    "duration": 30,
    "start_time": "2021-07-07T23:13:34.303Z"
   },
   {
    "duration": 7,
    "start_time": "2021-07-07T23:13:34.888Z"
   },
   {
    "duration": 7,
    "start_time": "2021-07-07T23:13:35.520Z"
   },
   {
    "duration": 7,
    "start_time": "2021-07-07T23:13:36.872Z"
   },
   {
    "duration": 32,
    "start_time": "2021-07-07T23:14:08.880Z"
   },
   {
    "duration": 7,
    "start_time": "2021-07-07T23:14:09.504Z"
   },
   {
    "duration": 6,
    "start_time": "2021-07-07T23:14:10.584Z"
   },
   {
    "duration": 7,
    "start_time": "2021-07-07T23:14:12.008Z"
   },
   {
    "duration": 47,
    "start_time": "2021-07-07T23:19:24.682Z"
   },
   {
    "duration": 9,
    "start_time": "2021-07-07T23:19:35.721Z"
   },
   {
    "duration": 8,
    "start_time": "2021-07-07T23:19:55.234Z"
   },
   {
    "duration": 9,
    "start_time": "2021-07-07T23:20:08.361Z"
   },
   {
    "duration": 272,
    "start_time": "2021-07-07T23:21:25.401Z"
   },
   {
    "duration": 273,
    "start_time": "2021-07-07T23:22:09.611Z"
   },
   {
    "duration": 272,
    "start_time": "2021-07-07T23:22:33.843Z"
   },
   {
    "duration": 210,
    "start_time": "2021-07-07T23:25:05.226Z"
   },
   {
    "duration": 9,
    "start_time": "2021-07-07T23:25:05.763Z"
   },
   {
    "duration": 201,
    "start_time": "2021-07-07T23:25:31.443Z"
   },
   {
    "duration": 194,
    "start_time": "2021-07-07T23:25:54.171Z"
   },
   {
    "duration": 43,
    "start_time": "2021-07-07T23:26:05.555Z"
   },
   {
    "duration": 7,
    "start_time": "2021-07-07T23:26:06.731Z"
   },
   {
    "duration": 45,
    "start_time": "2021-07-07T23:48:25.616Z"
   },
   {
    "duration": 15,
    "start_time": "2021-07-07T23:53:43.058Z"
   },
   {
    "duration": 227,
    "start_time": "2021-07-07T23:53:58.472Z"
   },
   {
    "duration": 17,
    "start_time": "2021-07-07T23:54:27.467Z"
   },
   {
    "duration": 1316,
    "start_time": "2021-07-07T23:58:30.817Z"
   },
   {
    "duration": 36,
    "start_time": "2021-07-07T23:58:32.135Z"
   },
   {
    "duration": 16,
    "start_time": "2021-07-07T23:58:32.173Z"
   },
   {
    "duration": 11,
    "start_time": "2021-07-07T23:58:32.191Z"
   },
   {
    "duration": 11,
    "start_time": "2021-07-07T23:58:32.204Z"
   },
   {
    "duration": 9,
    "start_time": "2021-07-07T23:58:32.217Z"
   },
   {
    "duration": 7,
    "start_time": "2021-07-07T23:58:32.228Z"
   },
   {
    "duration": 6,
    "start_time": "2021-07-07T23:58:32.237Z"
   },
   {
    "duration": 42,
    "start_time": "2021-07-07T23:58:32.245Z"
   },
   {
    "duration": 27,
    "start_time": "2021-07-07T23:58:32.289Z"
   },
   {
    "duration": 13,
    "start_time": "2021-07-07T23:58:32.318Z"
   },
   {
    "duration": 227,
    "start_time": "2021-07-07T23:58:32.333Z"
   },
   {
    "duration": 976,
    "start_time": "2021-07-07T23:58:32.561Z"
   },
   {
    "duration": 52,
    "start_time": "2021-07-07T23:58:33.539Z"
   },
   {
    "duration": 19,
    "start_time": "2021-07-07T23:58:33.593Z"
   },
   {
    "duration": 246,
    "start_time": "2021-07-07T23:58:33.613Z"
   },
   {
    "duration": 166,
    "start_time": "2021-07-07T23:58:33.860Z"
   },
   {
    "duration": 164,
    "start_time": "2021-07-07T23:58:34.027Z"
   },
   {
    "duration": 294,
    "start_time": "2021-07-07T23:58:34.193Z"
   },
   {
    "duration": 159,
    "start_time": "2021-07-07T23:58:34.489Z"
   },
   {
    "duration": 181,
    "start_time": "2021-07-07T23:58:34.650Z"
   },
   {
    "duration": 176,
    "start_time": "2021-07-07T23:58:34.833Z"
   },
   {
    "duration": 167,
    "start_time": "2021-07-07T23:58:35.013Z"
   },
   {
    "duration": 163,
    "start_time": "2021-07-07T23:58:35.182Z"
   },
   {
    "duration": 154,
    "start_time": "2021-07-07T23:58:35.347Z"
   },
   {
    "duration": 271,
    "start_time": "2021-07-07T23:58:35.502Z"
   },
   {
    "duration": 569,
    "start_time": "2021-07-07T23:58:35.775Z"
   },
   {
    "duration": 5,
    "start_time": "2021-07-07T23:58:36.346Z"
   },
   {
    "duration": 499,
    "start_time": "2021-07-07T23:58:36.353Z"
   },
   {
    "duration": 5,
    "start_time": "2021-07-07T23:58:36.853Z"
   },
   {
    "duration": 29,
    "start_time": "2021-07-07T23:58:36.860Z"
   },
   {
    "duration": 15,
    "start_time": "2021-07-07T23:58:36.891Z"
   },
   {
    "duration": 15,
    "start_time": "2021-07-07T23:58:36.907Z"
   },
   {
    "duration": 29,
    "start_time": "2021-07-07T23:58:36.924Z"
   },
   {
    "duration": 31,
    "start_time": "2021-07-07T23:58:36.955Z"
   },
   {
    "duration": 7,
    "start_time": "2021-07-07T23:58:36.987Z"
   },
   {
    "duration": 6,
    "start_time": "2021-07-07T23:58:36.996Z"
   },
   {
    "duration": 32,
    "start_time": "2021-07-07T23:58:37.004Z"
   },
   {
    "duration": 6,
    "start_time": "2021-07-07T23:58:37.037Z"
   },
   {
    "duration": 10,
    "start_time": "2021-07-07T23:58:37.045Z"
   },
   {
    "duration": 33,
    "start_time": "2021-07-07T23:58:37.056Z"
   },
   {
    "duration": 33,
    "start_time": "2021-07-07T23:58:37.090Z"
   },
   {
    "duration": 6,
    "start_time": "2021-07-07T23:58:37.124Z"
   },
   {
    "duration": 6,
    "start_time": "2021-07-07T23:58:37.132Z"
   },
   {
    "duration": 7,
    "start_time": "2021-07-07T23:58:37.140Z"
   },
   {
    "duration": 376,
    "start_time": "2021-07-07T23:58:37.149Z"
   },
   {
    "duration": -7,
    "start_time": "2021-07-07T23:58:37.534Z"
   },
   {
    "duration": -7,
    "start_time": "2021-07-07T23:58:37.535Z"
   },
   {
    "duration": -7,
    "start_time": "2021-07-07T23:58:37.537Z"
   },
   {
    "duration": -8,
    "start_time": "2021-07-07T23:58:37.539Z"
   },
   {
    "duration": -9,
    "start_time": "2021-07-07T23:58:37.541Z"
   },
   {
    "duration": -10,
    "start_time": "2021-07-07T23:58:37.543Z"
   },
   {
    "duration": -11,
    "start_time": "2021-07-07T23:58:37.544Z"
   },
   {
    "duration": -11,
    "start_time": "2021-07-07T23:58:37.546Z"
   },
   {
    "duration": 1467,
    "start_time": "2021-07-07T23:59:57.000Z"
   },
   {
    "duration": 39,
    "start_time": "2021-07-07T23:59:58.469Z"
   },
   {
    "duration": 17,
    "start_time": "2021-07-07T23:59:58.510Z"
   },
   {
    "duration": 10,
    "start_time": "2021-07-07T23:59:58.530Z"
   },
   {
    "duration": 12,
    "start_time": "2021-07-07T23:59:58.542Z"
   },
   {
    "duration": 30,
    "start_time": "2021-07-07T23:59:58.556Z"
   },
   {
    "duration": 9,
    "start_time": "2021-07-07T23:59:58.588Z"
   },
   {
    "duration": 7,
    "start_time": "2021-07-07T23:59:58.599Z"
   },
   {
    "duration": 6,
    "start_time": "2021-07-07T23:59:58.608Z"
   },
   {
    "duration": 27,
    "start_time": "2021-07-07T23:59:58.616Z"
   },
   {
    "duration": 48,
    "start_time": "2021-07-07T23:59:58.645Z"
   },
   {
    "duration": 202,
    "start_time": "2021-07-07T23:59:58.695Z"
   },
   {
    "duration": 994,
    "start_time": "2021-07-07T23:59:58.899Z"
   },
   {
    "duration": 26,
    "start_time": "2021-07-07T23:59:59.894Z"
   },
   {
    "duration": 73,
    "start_time": "2021-07-07T23:59:59.921Z"
   },
   {
    "duration": 258,
    "start_time": "2021-07-07T23:59:59.995Z"
   },
   {
    "duration": 177,
    "start_time": "2021-07-08T00:00:00.255Z"
   },
   {
    "duration": 177,
    "start_time": "2021-07-08T00:00:00.435Z"
   },
   {
    "duration": 317,
    "start_time": "2021-07-08T00:00:00.615Z"
   },
   {
    "duration": 176,
    "start_time": "2021-07-08T00:00:00.935Z"
   },
   {
    "duration": 193,
    "start_time": "2021-07-08T00:00:01.114Z"
   },
   {
    "duration": 188,
    "start_time": "2021-07-08T00:00:01.309Z"
   },
   {
    "duration": 185,
    "start_time": "2021-07-08T00:00:01.501Z"
   },
   {
    "duration": 167,
    "start_time": "2021-07-08T00:00:01.688Z"
   },
   {
    "duration": 168,
    "start_time": "2021-07-08T00:00:01.856Z"
   },
   {
    "duration": 283,
    "start_time": "2021-07-08T00:00:02.026Z"
   },
   {
    "duration": 559,
    "start_time": "2021-07-08T00:00:02.311Z"
   },
   {
    "duration": 5,
    "start_time": "2021-07-08T00:00:02.872Z"
   },
   {
    "duration": 563,
    "start_time": "2021-07-08T00:00:02.885Z"
   },
   {
    "duration": 5,
    "start_time": "2021-07-08T00:00:03.450Z"
   },
   {
    "duration": 29,
    "start_time": "2021-07-08T00:00:03.457Z"
   },
   {
    "duration": 16,
    "start_time": "2021-07-08T00:00:03.488Z"
   },
   {
    "duration": 15,
    "start_time": "2021-07-08T00:00:03.506Z"
   },
   {
    "duration": 30,
    "start_time": "2021-07-08T00:00:03.523Z"
   },
   {
    "duration": 32,
    "start_time": "2021-07-08T00:00:03.555Z"
   },
   {
    "duration": 10,
    "start_time": "2021-07-08T00:00:03.590Z"
   },
   {
    "duration": 15,
    "start_time": "2021-07-08T00:00:03.601Z"
   },
   {
    "duration": 39,
    "start_time": "2021-07-08T00:00:03.618Z"
   },
   {
    "duration": 6,
    "start_time": "2021-07-08T00:00:03.659Z"
   },
   {
    "duration": 20,
    "start_time": "2021-07-08T00:00:03.667Z"
   },
   {
    "duration": 20,
    "start_time": "2021-07-08T00:00:03.689Z"
   },
   {
    "duration": 38,
    "start_time": "2021-07-08T00:00:03.710Z"
   },
   {
    "duration": 6,
    "start_time": "2021-07-08T00:00:03.750Z"
   },
   {
    "duration": 13,
    "start_time": "2021-07-08T00:00:03.758Z"
   },
   {
    "duration": 14,
    "start_time": "2021-07-08T00:00:03.772Z"
   },
   {
    "duration": 285,
    "start_time": "2021-07-08T00:00:03.788Z"
   },
   {
    "duration": 279,
    "start_time": "2021-07-08T00:00:04.075Z"
   },
   {
    "duration": 282,
    "start_time": "2021-07-08T00:00:04.356Z"
   },
   {
    "duration": 52,
    "start_time": "2021-07-08T00:00:04.640Z"
   },
   {
    "duration": 8,
    "start_time": "2021-07-08T00:00:04.694Z"
   },
   {
    "duration": 13,
    "start_time": "2021-07-08T00:00:04.704Z"
   },
   {
    "duration": 11,
    "start_time": "2021-07-08T00:00:04.718Z"
   },
   {
    "duration": 29,
    "start_time": "2021-07-08T00:00:04.730Z"
   },
   {
    "duration": 28,
    "start_time": "2021-07-08T00:00:04.761Z"
   },
   {
    "duration": 16566,
    "start_time": "2021-07-08T05:31:31.635Z"
   },
   {
    "duration": 47,
    "start_time": "2021-07-08T05:31:48.203Z"
   },
   {
    "duration": 26,
    "start_time": "2021-07-08T05:31:48.253Z"
   },
   {
    "duration": 15,
    "start_time": "2021-07-08T05:31:48.282Z"
   },
   {
    "duration": 18,
    "start_time": "2021-07-08T05:31:48.300Z"
   },
   {
    "duration": 49,
    "start_time": "2021-07-08T05:31:48.321Z"
   },
   {
    "duration": 11,
    "start_time": "2021-07-08T05:31:48.373Z"
   },
   {
    "duration": 10,
    "start_time": "2021-07-08T05:31:48.386Z"
   },
   {
    "duration": 9,
    "start_time": "2021-07-08T05:31:48.400Z"
   },
   {
    "duration": 87,
    "start_time": "2021-07-08T05:31:48.412Z"
   },
   {
    "duration": 22,
    "start_time": "2021-07-08T05:31:48.502Z"
   },
   {
    "duration": 340,
    "start_time": "2021-07-08T05:31:48.526Z"
   },
   {
    "duration": 1531,
    "start_time": "2021-07-08T05:31:48.868Z"
   },
   {
    "duration": 83,
    "start_time": "2021-07-08T05:31:50.401Z"
   },
   {
    "duration": 82,
    "start_time": "2021-07-08T05:31:50.486Z"
   },
   {
    "duration": 328,
    "start_time": "2021-07-08T05:31:50.570Z"
   },
   {
    "duration": 282,
    "start_time": "2021-07-08T05:31:50.901Z"
   },
   {
    "duration": 291,
    "start_time": "2021-07-08T05:31:51.187Z"
   },
   {
    "duration": 420,
    "start_time": "2021-07-08T05:31:51.482Z"
   },
   {
    "duration": 272,
    "start_time": "2021-07-08T05:31:51.906Z"
   },
   {
    "duration": 308,
    "start_time": "2021-07-08T05:31:52.181Z"
   },
   {
    "duration": 291,
    "start_time": "2021-07-08T05:31:52.492Z"
   },
   {
    "duration": 284,
    "start_time": "2021-07-08T05:31:52.786Z"
   },
   {
    "duration": 288,
    "start_time": "2021-07-08T05:31:53.073Z"
   },
   {
    "duration": 276,
    "start_time": "2021-07-08T05:31:53.365Z"
   },
   {
    "duration": 453,
    "start_time": "2021-07-08T05:31:53.643Z"
   },
   {
    "duration": 825,
    "start_time": "2021-07-08T05:31:54.101Z"
   },
   {
    "duration": 8,
    "start_time": "2021-07-08T05:31:54.929Z"
   },
   {
    "duration": 791,
    "start_time": "2021-07-08T05:31:54.939Z"
   },
   {
    "duration": 8,
    "start_time": "2021-07-08T05:31:55.733Z"
   },
   {
    "duration": 42,
    "start_time": "2021-07-08T05:31:55.744Z"
   },
   {
    "duration": 26,
    "start_time": "2021-07-08T05:31:55.788Z"
   },
   {
    "duration": 57,
    "start_time": "2021-07-08T05:31:55.816Z"
   },
   {
    "duration": 52,
    "start_time": "2021-07-08T05:31:55.875Z"
   },
   {
    "duration": 33,
    "start_time": "2021-07-08T05:31:55.930Z"
   },
   {
    "duration": 9,
    "start_time": "2021-07-08T05:31:55.966Z"
   },
   {
    "duration": 10,
    "start_time": "2021-07-08T05:31:55.978Z"
   },
   {
    "duration": 101,
    "start_time": "2021-07-08T05:31:55.991Z"
   },
   {
    "duration": 11,
    "start_time": "2021-07-08T05:31:56.095Z"
   },
   {
    "duration": 11,
    "start_time": "2021-07-08T05:31:56.108Z"
   },
   {
    "duration": 40,
    "start_time": "2021-07-08T05:31:56.122Z"
   },
   {
    "duration": 53,
    "start_time": "2021-07-08T05:31:56.166Z"
   },
   {
    "duration": 8,
    "start_time": "2021-07-08T05:31:56.222Z"
   },
   {
    "duration": 31,
    "start_time": "2021-07-08T05:31:56.233Z"
   },
   {
    "duration": 15,
    "start_time": "2021-07-08T05:31:56.267Z"
   },
   {
    "duration": 457,
    "start_time": "2021-07-08T05:31:56.285Z"
   },
   {
    "duration": 445,
    "start_time": "2021-07-08T05:31:56.745Z"
   },
   {
    "duration": 459,
    "start_time": "2021-07-08T05:31:57.193Z"
   },
   {
    "duration": 74,
    "start_time": "2021-07-08T05:31:57.662Z"
   },
   {
    "duration": 29,
    "start_time": "2021-07-08T05:31:57.739Z"
   },
   {
    "duration": 16,
    "start_time": "2021-07-08T05:31:57.770Z"
   },
   {
    "duration": 17,
    "start_time": "2021-07-08T05:31:57.805Z"
   },
   {
    "duration": 43,
    "start_time": "2021-07-08T05:31:57.825Z"
   },
   {
    "duration": 24,
    "start_time": "2021-07-08T05:31:57.870Z"
   },
   {
    "duration": 15,
    "start_time": "2021-07-08T05:38:26.227Z"
   },
   {
    "duration": 289,
    "start_time": "2021-07-08T05:38:49.293Z"
   },
   {
    "duration": 9,
    "start_time": "2021-07-08T05:39:00.625Z"
   },
   {
    "duration": 30,
    "start_time": "2021-07-08T05:50:32.690Z"
   },
   {
    "duration": 35,
    "start_time": "2021-07-08T05:51:05.975Z"
   },
   {
    "duration": 23,
    "start_time": "2021-07-08T05:51:09.671Z"
   },
   {
    "duration": 824,
    "start_time": "2021-07-08T05:56:49.920Z"
   },
   {
    "duration": 8,
    "start_time": "2021-07-08T05:56:56.923Z"
   },
   {
    "duration": 756,
    "start_time": "2021-07-08T05:57:01.298Z"
   },
   {
    "duration": 8,
    "start_time": "2021-07-08T05:57:04.051Z"
   },
   {
    "duration": 444,
    "start_time": "2021-07-08T08:27:08.651Z"
   },
   {
    "duration": 1396,
    "start_time": "2021-07-08T08:27:13.731Z"
   },
   {
    "duration": 34,
    "start_time": "2021-07-08T08:27:15.129Z"
   },
   {
    "duration": 15,
    "start_time": "2021-07-08T08:27:15.165Z"
   },
   {
    "duration": 9,
    "start_time": "2021-07-08T08:27:15.182Z"
   },
   {
    "duration": 12,
    "start_time": "2021-07-08T08:27:15.193Z"
   },
   {
    "duration": 10,
    "start_time": "2021-07-08T08:27:15.206Z"
   },
   {
    "duration": 28,
    "start_time": "2021-07-08T08:27:15.218Z"
   },
   {
    "duration": 8,
    "start_time": "2021-07-08T08:27:15.249Z"
   },
   {
    "duration": 7,
    "start_time": "2021-07-08T08:27:15.259Z"
   },
   {
    "duration": 25,
    "start_time": "2021-07-08T08:27:15.267Z"
   },
   {
    "duration": 13,
    "start_time": "2021-07-08T08:27:15.293Z"
   },
   {
    "duration": 209,
    "start_time": "2021-07-08T08:27:15.307Z"
   },
   {
    "duration": 893,
    "start_time": "2021-07-08T08:27:15.518Z"
   },
   {
    "duration": 41,
    "start_time": "2021-07-08T08:27:16.412Z"
   },
   {
    "duration": 25,
    "start_time": "2021-07-08T08:27:16.455Z"
   },
   {
    "duration": 284,
    "start_time": "2021-07-08T08:27:16.482Z"
   },
   {
    "duration": 150,
    "start_time": "2021-07-08T08:27:16.768Z"
   },
   {
    "duration": 146,
    "start_time": "2021-07-08T08:27:16.919Z"
   },
   {
    "duration": 241,
    "start_time": "2021-07-08T08:27:17.067Z"
   },
   {
    "duration": 138,
    "start_time": "2021-07-08T08:27:17.310Z"
   },
   {
    "duration": 155,
    "start_time": "2021-07-08T08:27:17.450Z"
   },
   {
    "duration": 151,
    "start_time": "2021-07-08T08:27:17.607Z"
   },
   {
    "duration": 149,
    "start_time": "2021-07-08T08:27:17.761Z"
   },
   {
    "duration": 142,
    "start_time": "2021-07-08T08:27:17.912Z"
   },
   {
    "duration": 136,
    "start_time": "2021-07-08T08:27:18.056Z"
   },
   {
    "duration": 240,
    "start_time": "2021-07-08T08:27:18.193Z"
   },
   {
    "duration": 453,
    "start_time": "2021-07-08T08:27:18.434Z"
   },
   {
    "duration": 5,
    "start_time": "2021-07-08T08:27:18.889Z"
   },
   {
    "duration": 476,
    "start_time": "2021-07-08T08:27:18.895Z"
   },
   {
    "duration": 6,
    "start_time": "2021-07-08T08:27:19.372Z"
   },
   {
    "duration": 26,
    "start_time": "2021-07-08T08:27:19.379Z"
   },
   {
    "duration": 25,
    "start_time": "2021-07-08T08:27:19.407Z"
   },
   {
    "duration": 14,
    "start_time": "2021-07-08T08:27:19.433Z"
   },
   {
    "duration": 27,
    "start_time": "2021-07-08T08:27:19.448Z"
   },
   {
    "duration": 5,
    "start_time": "2021-07-08T08:27:19.476Z"
   },
   {
    "duration": 7,
    "start_time": "2021-07-08T08:27:19.482Z"
   },
   {
    "duration": 9,
    "start_time": "2021-07-08T08:27:19.490Z"
   },
   {
    "duration": 47,
    "start_time": "2021-07-08T08:27:19.500Z"
   },
   {
    "duration": 5,
    "start_time": "2021-07-08T08:27:19.549Z"
   },
   {
    "duration": 7,
    "start_time": "2021-07-08T08:27:19.555Z"
   },
   {
    "duration": 7,
    "start_time": "2021-07-08T08:27:19.564Z"
   },
   {
    "duration": 28,
    "start_time": "2021-07-08T08:27:19.572Z"
   },
   {
    "duration": 5,
    "start_time": "2021-07-08T08:27:19.602Z"
   },
   {
    "duration": 8,
    "start_time": "2021-07-08T08:27:19.608Z"
   },
   {
    "duration": 5,
    "start_time": "2021-07-08T08:27:19.641Z"
   },
   {
    "duration": 232,
    "start_time": "2021-07-08T08:27:19.648Z"
   },
   {
    "duration": 234,
    "start_time": "2021-07-08T08:27:19.881Z"
   },
   {
    "duration": 237,
    "start_time": "2021-07-08T08:27:20.116Z"
   },
   {
    "duration": 39,
    "start_time": "2021-07-08T08:27:20.355Z"
   },
   {
    "duration": 6,
    "start_time": "2021-07-08T08:27:20.396Z"
   },
   {
    "duration": 10,
    "start_time": "2021-07-08T08:27:20.403Z"
   },
   {
    "duration": 8,
    "start_time": "2021-07-08T08:27:20.414Z"
   },
   {
    "duration": 13,
    "start_time": "2021-07-08T08:27:20.441Z"
   },
   {
    "duration": 15,
    "start_time": "2021-07-08T08:27:20.456Z"
   },
   {
    "duration": 134,
    "start_time": "2021-07-08T08:28:13.405Z"
   },
   {
    "duration": 152,
    "start_time": "2021-07-08T08:28:28.725Z"
   },
   {
    "duration": 147,
    "start_time": "2021-07-08T08:28:37.453Z"
   },
   {
    "duration": 134,
    "start_time": "2021-07-08T08:28:44.156Z"
   },
   {
    "duration": 143,
    "start_time": "2021-07-08T08:28:51.325Z"
   },
   {
    "duration": 147,
    "start_time": "2021-07-08T08:28:58.133Z"
   },
   {
    "duration": 146,
    "start_time": "2021-07-08T08:29:04.716Z"
   },
   {
    "duration": 271,
    "start_time": "2021-07-08T08:29:14.356Z"
   },
   {
    "duration": 141,
    "start_time": "2021-07-08T08:29:20.813Z"
   },
   {
    "duration": 129,
    "start_time": "2021-07-08T08:29:29.716Z"
   },
   {
    "duration": 234,
    "start_time": "2021-07-08T08:31:14.606Z"
   },
   {
    "duration": 454,
    "start_time": "2021-07-08T08:31:32.494Z"
   },
   {
    "duration": 5,
    "start_time": "2021-07-08T08:31:40.679Z"
   },
   {
    "duration": 434,
    "start_time": "2021-07-08T08:31:47.966Z"
   },
   {
    "duration": 84,
    "start_time": "2021-07-08T08:32:24.021Z"
   },
   {
    "duration": 493,
    "start_time": "2021-07-08T08:33:50.807Z"
   },
   {
    "duration": 5,
    "start_time": "2021-07-08T08:34:05.799Z"
   },
   {
    "duration": 519,
    "start_time": "2021-07-08T08:35:17.718Z"
   },
   {
    "duration": 461,
    "start_time": "2021-07-08T08:36:42.748Z"
   },
   {
    "duration": 543,
    "start_time": "2021-07-08T08:37:25.655Z"
   },
   {
    "duration": 5,
    "start_time": "2021-07-08T08:37:40.208Z"
   },
   {
    "duration": 512,
    "start_time": "2021-07-08T08:37:54.799Z"
   },
   {
    "duration": 5,
    "start_time": "2021-07-08T08:37:57.743Z"
   },
   {
    "duration": 14,
    "start_time": "2021-07-08T08:38:24.072Z"
   },
   {
    "duration": 15,
    "start_time": "2021-07-08T08:38:32.311Z"
   },
   {
    "duration": 15,
    "start_time": "2021-07-08T08:38:42.008Z"
   },
   {
    "duration": 28,
    "start_time": "2021-07-08T08:38:58.672Z"
   },
   {
    "duration": 5,
    "start_time": "2021-07-08T08:39:01.312Z"
   },
   {
    "duration": 28,
    "start_time": "2021-07-08T08:39:29.120Z"
   },
   {
    "duration": 6,
    "start_time": "2021-07-08T08:39:29.887Z"
   },
   {
    "duration": 6,
    "start_time": "2021-07-08T08:39:32.496Z"
   },
   {
    "duration": 6,
    "start_time": "2021-07-08T08:39:33.584Z"
   },
   {
    "duration": 30,
    "start_time": "2021-07-08T08:39:55.968Z"
   },
   {
    "duration": 6,
    "start_time": "2021-07-08T08:39:56.616Z"
   },
   {
    "duration": 5,
    "start_time": "2021-07-08T08:39:58.154Z"
   },
   {
    "duration": 6,
    "start_time": "2021-07-08T08:40:00.296Z"
   },
   {
    "duration": 29,
    "start_time": "2021-07-08T08:40:16.136Z"
   },
   {
    "duration": 6,
    "start_time": "2021-07-08T08:40:16.679Z"
   },
   {
    "duration": 5,
    "start_time": "2021-07-08T08:40:18.448Z"
   },
   {
    "duration": 6,
    "start_time": "2021-07-08T08:40:21.032Z"
   },
   {
    "duration": 256,
    "start_time": "2021-07-08T08:40:47.224Z"
   },
   {
    "duration": 263,
    "start_time": "2021-07-08T08:40:55.968Z"
   },
   {
    "duration": 254,
    "start_time": "2021-07-08T08:41:09.536Z"
   },
   {
    "duration": 39,
    "start_time": "2021-07-08T08:41:35.560Z"
   },
   {
    "duration": 9,
    "start_time": "2021-07-08T08:41:36.697Z"
   },
   {
    "duration": 7,
    "start_time": "2021-07-08T08:42:02.665Z"
   },
   {
    "duration": 7,
    "start_time": "2021-07-08T08:42:05.193Z"
   },
   {
    "duration": 14,
    "start_time": "2021-07-08T08:42:52.721Z"
   },
   {
    "duration": 16,
    "start_time": "2021-07-08T08:43:04.737Z"
   },
   {
    "duration": 16,
    "start_time": "2021-07-08T09:04:32.710Z"
   },
   {
    "duration": 1339,
    "start_time": "2021-07-08T09:04:40.481Z"
   },
   {
    "duration": 34,
    "start_time": "2021-07-08T09:04:41.822Z"
   },
   {
    "duration": 14,
    "start_time": "2021-07-08T09:04:41.857Z"
   },
   {
    "duration": 17,
    "start_time": "2021-07-08T09:04:41.873Z"
   },
   {
    "duration": 11,
    "start_time": "2021-07-08T09:04:41.891Z"
   },
   {
    "duration": 13,
    "start_time": "2021-07-08T09:04:41.903Z"
   },
   {
    "duration": 13,
    "start_time": "2021-07-08T09:04:41.917Z"
   },
   {
    "duration": 26,
    "start_time": "2021-07-08T09:04:41.932Z"
   },
   {
    "duration": 18,
    "start_time": "2021-07-08T09:04:41.960Z"
   },
   {
    "duration": 40,
    "start_time": "2021-07-08T09:04:41.980Z"
   },
   {
    "duration": 11,
    "start_time": "2021-07-08T09:04:42.022Z"
   },
   {
    "duration": 164,
    "start_time": "2021-07-08T09:04:42.034Z"
   },
   {
    "duration": 884,
    "start_time": "2021-07-08T09:04:42.200Z"
   },
   {
    "duration": 22,
    "start_time": "2021-07-08T09:04:43.086Z"
   },
   {
    "duration": 18,
    "start_time": "2021-07-08T09:04:43.141Z"
   },
   {
    "duration": 215,
    "start_time": "2021-07-08T09:04:43.161Z"
   },
   {
    "duration": 156,
    "start_time": "2021-07-08T09:04:43.378Z"
   },
   {
    "duration": 153,
    "start_time": "2021-07-08T09:04:43.536Z"
   },
   {
    "duration": 252,
    "start_time": "2021-07-08T09:04:43.691Z"
   },
   {
    "duration": 144,
    "start_time": "2021-07-08T09:04:43.945Z"
   },
   {
    "duration": 155,
    "start_time": "2021-07-08T09:04:44.092Z"
   },
   {
    "duration": 154,
    "start_time": "2021-07-08T09:04:44.249Z"
   },
   {
    "duration": 150,
    "start_time": "2021-07-08T09:04:44.408Z"
   },
   {
    "duration": 154,
    "start_time": "2021-07-08T09:04:44.560Z"
   },
   {
    "duration": 140,
    "start_time": "2021-07-08T09:04:44.716Z"
   },
   {
    "duration": 244,
    "start_time": "2021-07-08T09:04:44.858Z"
   },
   {
    "duration": 617,
    "start_time": "2021-07-08T09:04:45.104Z"
   },
   {
    "duration": 5,
    "start_time": "2021-07-08T09:04:45.723Z"
   },
   {
    "duration": 582,
    "start_time": "2021-07-08T09:04:45.730Z"
   },
   {
    "duration": 5,
    "start_time": "2021-07-08T09:04:46.314Z"
   },
   {
    "duration": 30,
    "start_time": "2021-07-08T09:04:46.321Z"
   },
   {
    "duration": 15,
    "start_time": "2021-07-08T09:04:46.353Z"
   },
   {
    "duration": 14,
    "start_time": "2021-07-08T09:04:46.369Z"
   },
   {
    "duration": 27,
    "start_time": "2021-07-08T09:04:46.385Z"
   },
   {
    "duration": 29,
    "start_time": "2021-07-08T09:04:46.414Z"
   },
   {
    "duration": 7,
    "start_time": "2021-07-08T09:04:46.445Z"
   },
   {
    "duration": 7,
    "start_time": "2021-07-08T09:04:46.454Z"
   },
   {
    "duration": 28,
    "start_time": "2021-07-08T09:04:46.462Z"
   },
   {
    "duration": 5,
    "start_time": "2021-07-08T09:04:46.492Z"
   },
   {
    "duration": 10,
    "start_time": "2021-07-08T09:04:46.498Z"
   },
   {
    "duration": 8,
    "start_time": "2021-07-08T09:04:46.509Z"
   },
   {
    "duration": 27,
    "start_time": "2021-07-08T09:04:46.541Z"
   },
   {
    "duration": 5,
    "start_time": "2021-07-08T09:04:46.570Z"
   },
   {
    "duration": 8,
    "start_time": "2021-07-08T09:04:46.576Z"
   },
   {
    "duration": 6,
    "start_time": "2021-07-08T09:04:46.585Z"
   },
   {
    "duration": 286,
    "start_time": "2021-07-08T09:04:46.592Z"
   },
   {
    "duration": 266,
    "start_time": "2021-07-08T09:04:46.879Z"
   },
   {
    "duration": 272,
    "start_time": "2021-07-08T09:04:47.147Z"
   },
   {
    "duration": 46,
    "start_time": "2021-07-08T09:04:47.420Z"
   },
   {
    "duration": 7,
    "start_time": "2021-07-08T09:04:47.468Z"
   },
   {
    "duration": 9,
    "start_time": "2021-07-08T09:04:47.476Z"
   },
   {
    "duration": 12,
    "start_time": "2021-07-08T09:04:47.486Z"
   },
   {
    "duration": 18,
    "start_time": "2021-07-08T09:04:47.500Z"
   },
   {
    "duration": 32,
    "start_time": "2021-07-08T09:04:47.520Z"
   },
   {
    "duration": 9,
    "start_time": "2021-07-08T09:09:05.379Z"
   },
   {
    "duration": 1498,
    "start_time": "2021-07-08T09:13:57.522Z"
   },
   {
    "duration": 33,
    "start_time": "2021-07-08T09:13:59.021Z"
   },
   {
    "duration": 14,
    "start_time": "2021-07-08T09:13:59.057Z"
   },
   {
    "duration": 10,
    "start_time": "2021-07-08T09:13:59.073Z"
   },
   {
    "duration": 10,
    "start_time": "2021-07-08T09:13:59.085Z"
   },
   {
    "duration": 10,
    "start_time": "2021-07-08T09:13:59.096Z"
   },
   {
    "duration": 6,
    "start_time": "2021-07-08T09:13:59.108Z"
   },
   {
    "duration": 28,
    "start_time": "2021-07-08T09:13:59.116Z"
   },
   {
    "duration": 6,
    "start_time": "2021-07-08T09:13:59.146Z"
   },
   {
    "duration": 24,
    "start_time": "2021-07-08T09:13:59.153Z"
   },
   {
    "duration": 12,
    "start_time": "2021-07-08T09:13:59.178Z"
   },
   {
    "duration": 192,
    "start_time": "2021-07-08T09:13:59.191Z"
   },
   {
    "duration": 880,
    "start_time": "2021-07-08T09:13:59.385Z"
   },
   {
    "duration": 22,
    "start_time": "2021-07-08T09:14:00.267Z"
   },
   {
    "duration": 51,
    "start_time": "2021-07-08T09:14:00.291Z"
   },
   {
    "duration": 23,
    "start_time": "2021-07-08T09:14:00.343Z"
   },
   {
    "duration": 206,
    "start_time": "2021-07-08T09:14:00.367Z"
   },
   {
    "duration": 158,
    "start_time": "2021-07-08T09:14:00.575Z"
   },
   {
    "duration": 159,
    "start_time": "2021-07-08T09:14:00.734Z"
   },
   {
    "duration": 254,
    "start_time": "2021-07-08T09:14:00.895Z"
   },
   {
    "duration": 142,
    "start_time": "2021-07-08T09:14:01.151Z"
   },
   {
    "duration": 154,
    "start_time": "2021-07-08T09:14:01.296Z"
   },
   {
    "duration": 152,
    "start_time": "2021-07-08T09:14:01.451Z"
   },
   {
    "duration": 146,
    "start_time": "2021-07-08T09:14:01.604Z"
   },
   {
    "duration": 143,
    "start_time": "2021-07-08T09:14:01.752Z"
   },
   {
    "duration": 137,
    "start_time": "2021-07-08T09:14:01.896Z"
   },
   {
    "duration": 241,
    "start_time": "2021-07-08T09:14:02.035Z"
   },
   {
    "duration": 503,
    "start_time": "2021-07-08T09:14:02.278Z"
   },
   {
    "duration": 4,
    "start_time": "2021-07-08T09:14:02.783Z"
   },
   {
    "duration": 514,
    "start_time": "2021-07-08T09:14:02.789Z"
   },
   {
    "duration": 5,
    "start_time": "2021-07-08T09:14:03.304Z"
   },
   {
    "duration": 22,
    "start_time": "2021-07-08T09:14:03.310Z"
   },
   {
    "duration": 15,
    "start_time": "2021-07-08T09:14:03.341Z"
   },
   {
    "duration": 14,
    "start_time": "2021-07-08T09:14:03.357Z"
   },
   {
    "duration": 26,
    "start_time": "2021-07-08T09:14:03.373Z"
   },
   {
    "duration": 5,
    "start_time": "2021-07-08T09:14:03.401Z"
   },
   {
    "duration": 32,
    "start_time": "2021-07-08T09:14:03.408Z"
   },
   {
    "duration": 5,
    "start_time": "2021-07-08T09:14:03.442Z"
   },
   {
    "duration": 25,
    "start_time": "2021-07-08T09:14:03.449Z"
   },
   {
    "duration": 5,
    "start_time": "2021-07-08T09:14:03.476Z"
   },
   {
    "duration": 5,
    "start_time": "2021-07-08T09:14:03.482Z"
   },
   {
    "duration": 6,
    "start_time": "2021-07-08T09:14:03.489Z"
   },
   {
    "duration": 56,
    "start_time": "2021-07-08T09:14:03.497Z"
   },
   {
    "duration": 5,
    "start_time": "2021-07-08T09:14:03.554Z"
   },
   {
    "duration": 9,
    "start_time": "2021-07-08T09:14:03.561Z"
   },
   {
    "duration": 7,
    "start_time": "2021-07-08T09:14:03.571Z"
   },
   {
    "duration": 324,
    "start_time": "2021-07-08T09:14:03.580Z"
   },
   {
    "duration": 265,
    "start_time": "2021-07-08T09:14:03.905Z"
   },
   {
    "duration": 272,
    "start_time": "2021-07-08T09:14:04.171Z"
   },
   {
    "duration": 39,
    "start_time": "2021-07-08T09:14:04.444Z"
   },
   {
    "duration": 6,
    "start_time": "2021-07-08T09:14:04.485Z"
   },
   {
    "duration": 9,
    "start_time": "2021-07-08T09:14:04.492Z"
   },
   {
    "duration": 10,
    "start_time": "2021-07-08T09:14:04.503Z"
   },
   {
    "duration": 31,
    "start_time": "2021-07-08T09:14:04.514Z"
   },
   {
    "duration": 14,
    "start_time": "2021-07-08T09:14:04.547Z"
   },
   {
    "duration": 18977,
    "start_time": "2021-07-09T04:18:06.289Z"
   },
   {
    "duration": 58,
    "start_time": "2021-07-09T04:18:25.269Z"
   },
   {
    "duration": 36,
    "start_time": "2021-07-09T04:18:25.331Z"
   },
   {
    "duration": 48,
    "start_time": "2021-07-09T04:18:25.370Z"
   },
   {
    "duration": 22,
    "start_time": "2021-07-09T04:18:25.421Z"
   },
   {
    "duration": 15,
    "start_time": "2021-07-09T04:18:25.445Z"
   },
   {
    "duration": 11,
    "start_time": "2021-07-09T04:18:25.463Z"
   },
   {
    "duration": 23,
    "start_time": "2021-07-09T04:18:25.510Z"
   },
   {
    "duration": 10,
    "start_time": "2021-07-09T04:18:25.537Z"
   },
   {
    "duration": 80,
    "start_time": "2021-07-09T04:18:25.550Z"
   },
   {
    "duration": 23,
    "start_time": "2021-07-09T04:18:25.633Z"
   },
   {
    "duration": 349,
    "start_time": "2021-07-09T04:18:25.659Z"
   },
   {
    "duration": 1623,
    "start_time": "2021-07-09T04:18:26.011Z"
   },
   {
    "duration": 99,
    "start_time": "2021-07-09T04:18:27.637Z"
   },
   {
    "duration": 14,
    "start_time": "2021-07-09T04:18:27.738Z"
   },
   {
    "duration": 91,
    "start_time": "2021-07-09T04:18:27.754Z"
   },
   {
    "duration": 341,
    "start_time": "2021-07-09T04:18:27.848Z"
   },
   {
    "duration": 296,
    "start_time": "2021-07-09T04:18:28.192Z"
   },
   {
    "duration": 305,
    "start_time": "2021-07-09T04:18:28.490Z"
   },
   {
    "duration": 433,
    "start_time": "2021-07-09T04:18:28.797Z"
   },
   {
    "duration": 287,
    "start_time": "2021-07-09T04:18:29.233Z"
   },
   {
    "duration": 301,
    "start_time": "2021-07-09T04:18:29.522Z"
   },
   {
    "duration": 399,
    "start_time": "2021-07-09T04:18:29.829Z"
   },
   {
    "duration": 297,
    "start_time": "2021-07-09T04:18:30.231Z"
   },
   {
    "duration": 303,
    "start_time": "2021-07-09T04:18:30.531Z"
   },
   {
    "duration": 274,
    "start_time": "2021-07-09T04:18:30.837Z"
   },
   {
    "duration": 463,
    "start_time": "2021-07-09T04:18:31.113Z"
   },
   {
    "duration": 866,
    "start_time": "2021-07-09T04:18:31.579Z"
   },
   {
    "duration": 9,
    "start_time": "2021-07-09T04:18:32.448Z"
   },
   {
    "duration": 894,
    "start_time": "2021-07-09T04:18:32.460Z"
   },
   {
    "duration": 17,
    "start_time": "2021-07-09T04:18:33.356Z"
   },
   {
    "duration": 35,
    "start_time": "2021-07-09T04:18:33.376Z"
   },
   {
    "duration": 29,
    "start_time": "2021-07-09T04:18:33.416Z"
   },
   {
    "duration": 29,
    "start_time": "2021-07-09T04:18:33.448Z"
   },
   {
    "duration": 77,
    "start_time": "2021-07-09T04:18:33.479Z"
   },
   {
    "duration": 9,
    "start_time": "2021-07-09T04:18:33.558Z"
   },
   {
    "duration": 12,
    "start_time": "2021-07-09T04:18:33.570Z"
   },
   {
    "duration": 38,
    "start_time": "2021-07-09T04:18:33.584Z"
   },
   {
    "duration": 61,
    "start_time": "2021-07-09T04:18:33.625Z"
   },
   {
    "duration": 9,
    "start_time": "2021-07-09T04:18:33.688Z"
   },
   {
    "duration": 29,
    "start_time": "2021-07-09T04:18:33.700Z"
   },
   {
    "duration": 12,
    "start_time": "2021-07-09T04:18:33.731Z"
   },
   {
    "duration": 77,
    "start_time": "2021-07-09T04:18:33.745Z"
   },
   {
    "duration": 10,
    "start_time": "2021-07-09T04:18:33.824Z"
   },
   {
    "duration": 12,
    "start_time": "2021-07-09T04:18:33.836Z"
   },
   {
    "duration": 13,
    "start_time": "2021-07-09T04:18:33.851Z"
   },
   {
    "duration": 554,
    "start_time": "2021-07-09T04:18:33.867Z"
   },
   {
    "duration": 527,
    "start_time": "2021-07-09T04:18:34.424Z"
   },
   {
    "duration": 520,
    "start_time": "2021-07-09T04:18:34.954Z"
   },
   {
    "duration": 91,
    "start_time": "2021-07-09T04:18:35.477Z"
   },
   {
    "duration": 13,
    "start_time": "2021-07-09T04:18:35.571Z"
   },
   {
    "duration": 34,
    "start_time": "2021-07-09T04:18:35.587Z"
   },
   {
    "duration": 11,
    "start_time": "2021-07-09T04:18:35.627Z"
   },
   {
    "duration": 24,
    "start_time": "2021-07-09T04:18:35.641Z"
   },
   {
    "duration": 61,
    "start_time": "2021-07-09T04:18:35.667Z"
   }
  ],
  "kernelspec": {
   "display_name": "Python 3",
   "language": "python",
   "name": "python3"
  },
  "language_info": {
   "codemirror_mode": {
    "name": "ipython",
    "version": 3
   },
   "file_extension": ".py",
   "mimetype": "text/x-python",
   "name": "python",
   "nbconvert_exporter": "python",
   "pygments_lexer": "ipython3",
   "version": "3.8.8"
  },
  "toc": {
   "base_numbering": 1,
   "nav_menu": {},
   "number_sections": true,
   "sideBar": true,
   "skip_h1_title": true,
   "title_cell": "Table of Contents",
   "title_sidebar": "Contents",
   "toc_cell": false,
   "toc_position": {},
   "toc_section_display": true,
   "toc_window_display": false
  }
 },
 "nbformat": 4,
 "nbformat_minor": 2
}
