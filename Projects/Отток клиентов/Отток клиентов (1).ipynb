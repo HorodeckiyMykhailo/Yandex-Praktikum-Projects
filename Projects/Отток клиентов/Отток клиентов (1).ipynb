{
 "cells": [
  {
   "cell_type": "markdown",
   "metadata": {},
   "source": [
    "# Отток клиентов"
   ]
  },
  {
   "cell_type": "markdown",
   "metadata": {},
   "source": [
    "## Подготовка данных"
   ]
  },
  {
   "cell_type": "code",
   "execution_count": 1,
   "metadata": {},
   "outputs": [],
   "source": [
    "import pandas as pd\n",
    "from sklearn.model_selection import train_test_split\n",
    "from sklearn.linear_model import LogisticRegression\n",
    "from sklearn.tree import DecisionTreeClassifier\n",
    "from sklearn.ensemble import RandomForestClassifier\n",
    "from warnings import simplefilter\n",
    "from sklearn.preprocessing import StandardScaler\n",
    "from sklearn.metrics import confusion_matrix\n",
    "from sklearn.metrics import f1_score\n",
    "import seaborn as sns\n",
    "import numpy as np\n",
    "import matplotlib.pyplot as plt\n",
    "from sklearn.metrics import accuracy_score\n",
    "from sklearn.metrics import recall_score\n",
    "from sklearn.metrics import precision_score\n",
    "from sklearn.utils import shuffle\n",
    "from sklearn.metrics import precision_recall_curve\n",
    "from sklearn.metrics import roc_curve\n",
    "from sklearn.metrics import roc_auc_score\n",
    "from sklearn import preprocessing\n",
    "from sklearn.model_selection import GridSearchCV\n",
    "from sklearn.model_selection import RandomizedSearchCV\n",
    "import warnings"
   ]
  },
  {
   "cell_type": "code",
   "execution_count": 2,
   "metadata": {
    "scrolled": true
   },
   "outputs": [
    {
     "data": {
      "text/html": [
       "<div>\n",
       "<style scoped>\n",
       "    .dataframe tbody tr th:only-of-type {\n",
       "        vertical-align: middle;\n",
       "    }\n",
       "\n",
       "    .dataframe tbody tr th {\n",
       "        vertical-align: top;\n",
       "    }\n",
       "\n",
       "    .dataframe thead th {\n",
       "        text-align: right;\n",
       "    }\n",
       "</style>\n",
       "<table border=\"1\" class=\"dataframe\">\n",
       "  <thead>\n",
       "    <tr style=\"text-align: right;\">\n",
       "      <th></th>\n",
       "      <th>RowNumber</th>\n",
       "      <th>CustomerId</th>\n",
       "      <th>Surname</th>\n",
       "      <th>CreditScore</th>\n",
       "      <th>Geography</th>\n",
       "      <th>Gender</th>\n",
       "      <th>Age</th>\n",
       "      <th>Tenure</th>\n",
       "      <th>Balance</th>\n",
       "      <th>NumOfProducts</th>\n",
       "      <th>HasCrCard</th>\n",
       "      <th>IsActiveMember</th>\n",
       "      <th>EstimatedSalary</th>\n",
       "      <th>Exited</th>\n",
       "    </tr>\n",
       "  </thead>\n",
       "  <tbody>\n",
       "    <tr>\n",
       "      <td>0</td>\n",
       "      <td>1</td>\n",
       "      <td>15634602</td>\n",
       "      <td>Hargrave</td>\n",
       "      <td>619</td>\n",
       "      <td>France</td>\n",
       "      <td>Female</td>\n",
       "      <td>42</td>\n",
       "      <td>2.0</td>\n",
       "      <td>0.00</td>\n",
       "      <td>1</td>\n",
       "      <td>1</td>\n",
       "      <td>1</td>\n",
       "      <td>101348.88</td>\n",
       "      <td>1</td>\n",
       "    </tr>\n",
       "    <tr>\n",
       "      <td>1</td>\n",
       "      <td>2</td>\n",
       "      <td>15647311</td>\n",
       "      <td>Hill</td>\n",
       "      <td>608</td>\n",
       "      <td>Spain</td>\n",
       "      <td>Female</td>\n",
       "      <td>41</td>\n",
       "      <td>1.0</td>\n",
       "      <td>83807.86</td>\n",
       "      <td>1</td>\n",
       "      <td>0</td>\n",
       "      <td>1</td>\n",
       "      <td>112542.58</td>\n",
       "      <td>0</td>\n",
       "    </tr>\n",
       "    <tr>\n",
       "      <td>2</td>\n",
       "      <td>3</td>\n",
       "      <td>15619304</td>\n",
       "      <td>Onio</td>\n",
       "      <td>502</td>\n",
       "      <td>France</td>\n",
       "      <td>Female</td>\n",
       "      <td>42</td>\n",
       "      <td>8.0</td>\n",
       "      <td>159660.80</td>\n",
       "      <td>3</td>\n",
       "      <td>1</td>\n",
       "      <td>0</td>\n",
       "      <td>113931.57</td>\n",
       "      <td>1</td>\n",
       "    </tr>\n",
       "    <tr>\n",
       "      <td>3</td>\n",
       "      <td>4</td>\n",
       "      <td>15701354</td>\n",
       "      <td>Boni</td>\n",
       "      <td>699</td>\n",
       "      <td>France</td>\n",
       "      <td>Female</td>\n",
       "      <td>39</td>\n",
       "      <td>1.0</td>\n",
       "      <td>0.00</td>\n",
       "      <td>2</td>\n",
       "      <td>0</td>\n",
       "      <td>0</td>\n",
       "      <td>93826.63</td>\n",
       "      <td>0</td>\n",
       "    </tr>\n",
       "    <tr>\n",
       "      <td>4</td>\n",
       "      <td>5</td>\n",
       "      <td>15737888</td>\n",
       "      <td>Mitchell</td>\n",
       "      <td>850</td>\n",
       "      <td>Spain</td>\n",
       "      <td>Female</td>\n",
       "      <td>43</td>\n",
       "      <td>2.0</td>\n",
       "      <td>125510.82</td>\n",
       "      <td>1</td>\n",
       "      <td>1</td>\n",
       "      <td>1</td>\n",
       "      <td>79084.10</td>\n",
       "      <td>0</td>\n",
       "    </tr>\n",
       "  </tbody>\n",
       "</table>\n",
       "</div>"
      ],
      "text/plain": [
       "   RowNumber  CustomerId   Surname  CreditScore Geography  Gender  Age  \\\n",
       "0          1    15634602  Hargrave          619    France  Female   42   \n",
       "1          2    15647311      Hill          608     Spain  Female   41   \n",
       "2          3    15619304      Onio          502    France  Female   42   \n",
       "3          4    15701354      Boni          699    France  Female   39   \n",
       "4          5    15737888  Mitchell          850     Spain  Female   43   \n",
       "\n",
       "   Tenure    Balance  NumOfProducts  HasCrCard  IsActiveMember  \\\n",
       "0     2.0       0.00              1          1               1   \n",
       "1     1.0   83807.86              1          0               1   \n",
       "2     8.0  159660.80              3          1               0   \n",
       "3     1.0       0.00              2          0               0   \n",
       "4     2.0  125510.82              1          1               1   \n",
       "\n",
       "   EstimatedSalary  Exited  \n",
       "0        101348.88       1  \n",
       "1        112542.58       0  \n",
       "2        113931.57       1  \n",
       "3         93826.63       0  \n",
       "4         79084.10       0  "
      ]
     },
     "execution_count": 2,
     "metadata": {},
     "output_type": "execute_result"
    }
   ],
   "source": [
    "data = pd.read_csv('/datasets/Churn.csv')\n",
    "simplefilter(action='ignore', category=FutureWarning)\n",
    "warnings.filterwarnings('ignore')\n",
    "data.head()"
   ]
  },
  {
   "cell_type": "code",
   "execution_count": 3,
   "metadata": {},
   "outputs": [
    {
     "name": "stdout",
     "output_type": "stream",
     "text": [
      "<class 'pandas.core.frame.DataFrame'>\n",
      "RangeIndex: 10000 entries, 0 to 9999\n",
      "Data columns (total 14 columns):\n",
      "RowNumber          10000 non-null int64\n",
      "CustomerId         10000 non-null int64\n",
      "Surname            10000 non-null object\n",
      "CreditScore        10000 non-null int64\n",
      "Geography          10000 non-null object\n",
      "Gender             10000 non-null object\n",
      "Age                10000 non-null int64\n",
      "Tenure             9091 non-null float64\n",
      "Balance            10000 non-null float64\n",
      "NumOfProducts      10000 non-null int64\n",
      "HasCrCard          10000 non-null int64\n",
      "IsActiveMember     10000 non-null int64\n",
      "EstimatedSalary    10000 non-null float64\n",
      "Exited             10000 non-null int64\n",
      "dtypes: float64(3), int64(8), object(3)\n",
      "memory usage: 1.1+ MB\n"
     ]
    }
   ],
   "source": [
    "data.info()"
   ]
  },
  {
   "cell_type": "code",
   "execution_count": 4,
   "metadata": {},
   "outputs": [
    {
     "data": {
      "text/plain": [
       "2932"
      ]
     },
     "execution_count": 4,
     "metadata": {},
     "output_type": "execute_result"
    }
   ],
   "source": [
    "data['Surname'].nunique()"
   ]
  },
  {
   "cell_type": "code",
   "execution_count": 5,
   "metadata": {},
   "outputs": [
    {
     "data": {
      "text/plain": [
       "909"
      ]
     },
     "execution_count": 5,
     "metadata": {},
     "output_type": "execute_result"
    }
   ],
   "source": [
    "#проверяю количество NAN значений\n",
    "data['Tenure'].isna().sum()"
   ]
  },
  {
   "cell_type": "markdown",
   "metadata": {},
   "source": [
    "***У нас есть 2 столбца значения в которых нужно заменить числовыми это Geography,Gender.В столбце Surname 2932 уникальных значения,я не думаю что для обучения модели нам понадобится этот столбец,поэтому считаю нужным удалить его.А так же в столбце Tenure есть значения NAN,я предлагаю заменить их нолями.Так же предлагаю убрать столбцы RowNumber и CustomerId,считаю что для построения моделей они нам не пригодятся.Я полагаю что возможной причиной появления пропусков в столбце Tenure является то что клиент новый***"
   ]
  },
  {
   "cell_type": "code",
   "execution_count": 6,
   "metadata": {},
   "outputs": [
    {
     "data": {
      "text/plain": [
       "0"
      ]
     },
     "execution_count": 6,
     "metadata": {},
     "output_type": "execute_result"
    }
   ],
   "source": [
    "data['Tenure'] = data['Tenure'].fillna(0.0)\n",
    "data['Tenure'].isna().sum()"
   ]
  },
  {
   "cell_type": "code",
   "execution_count": 7,
   "metadata": {
    "scrolled": false
   },
   "outputs": [
    {
     "data": {
      "text/html": [
       "<div>\n",
       "<style scoped>\n",
       "    .dataframe tbody tr th:only-of-type {\n",
       "        vertical-align: middle;\n",
       "    }\n",
       "\n",
       "    .dataframe tbody tr th {\n",
       "        vertical-align: top;\n",
       "    }\n",
       "\n",
       "    .dataframe thead th {\n",
       "        text-align: right;\n",
       "    }\n",
       "</style>\n",
       "<table border=\"1\" class=\"dataframe\">\n",
       "  <thead>\n",
       "    <tr style=\"text-align: right;\">\n",
       "      <th></th>\n",
       "      <th>CreditScore</th>\n",
       "      <th>Age</th>\n",
       "      <th>Tenure</th>\n",
       "      <th>Balance</th>\n",
       "      <th>NumOfProducts</th>\n",
       "      <th>HasCrCard</th>\n",
       "      <th>IsActiveMember</th>\n",
       "      <th>EstimatedSalary</th>\n",
       "      <th>Exited</th>\n",
       "      <th>Geography_Germany</th>\n",
       "      <th>Geography_Spain</th>\n",
       "      <th>Gender_Male</th>\n",
       "    </tr>\n",
       "  </thead>\n",
       "  <tbody>\n",
       "    <tr>\n",
       "      <td>0</td>\n",
       "      <td>619</td>\n",
       "      <td>42</td>\n",
       "      <td>2.0</td>\n",
       "      <td>0.00</td>\n",
       "      <td>1</td>\n",
       "      <td>1</td>\n",
       "      <td>1</td>\n",
       "      <td>101348.88</td>\n",
       "      <td>1</td>\n",
       "      <td>0</td>\n",
       "      <td>0</td>\n",
       "      <td>0</td>\n",
       "    </tr>\n",
       "    <tr>\n",
       "      <td>1</td>\n",
       "      <td>608</td>\n",
       "      <td>41</td>\n",
       "      <td>1.0</td>\n",
       "      <td>83807.86</td>\n",
       "      <td>1</td>\n",
       "      <td>0</td>\n",
       "      <td>1</td>\n",
       "      <td>112542.58</td>\n",
       "      <td>0</td>\n",
       "      <td>0</td>\n",
       "      <td>1</td>\n",
       "      <td>0</td>\n",
       "    </tr>\n",
       "    <tr>\n",
       "      <td>2</td>\n",
       "      <td>502</td>\n",
       "      <td>42</td>\n",
       "      <td>8.0</td>\n",
       "      <td>159660.80</td>\n",
       "      <td>3</td>\n",
       "      <td>1</td>\n",
       "      <td>0</td>\n",
       "      <td>113931.57</td>\n",
       "      <td>1</td>\n",
       "      <td>0</td>\n",
       "      <td>0</td>\n",
       "      <td>0</td>\n",
       "    </tr>\n",
       "    <tr>\n",
       "      <td>3</td>\n",
       "      <td>699</td>\n",
       "      <td>39</td>\n",
       "      <td>1.0</td>\n",
       "      <td>0.00</td>\n",
       "      <td>2</td>\n",
       "      <td>0</td>\n",
       "      <td>0</td>\n",
       "      <td>93826.63</td>\n",
       "      <td>0</td>\n",
       "      <td>0</td>\n",
       "      <td>0</td>\n",
       "      <td>0</td>\n",
       "    </tr>\n",
       "    <tr>\n",
       "      <td>4</td>\n",
       "      <td>850</td>\n",
       "      <td>43</td>\n",
       "      <td>2.0</td>\n",
       "      <td>125510.82</td>\n",
       "      <td>1</td>\n",
       "      <td>1</td>\n",
       "      <td>1</td>\n",
       "      <td>79084.10</td>\n",
       "      <td>0</td>\n",
       "      <td>0</td>\n",
       "      <td>1</td>\n",
       "      <td>0</td>\n",
       "    </tr>\n",
       "  </tbody>\n",
       "</table>\n",
       "</div>"
      ],
      "text/plain": [
       "   CreditScore  Age  Tenure    Balance  NumOfProducts  HasCrCard  \\\n",
       "0          619   42     2.0       0.00              1          1   \n",
       "1          608   41     1.0   83807.86              1          0   \n",
       "2          502   42     8.0  159660.80              3          1   \n",
       "3          699   39     1.0       0.00              2          0   \n",
       "4          850   43     2.0  125510.82              1          1   \n",
       "\n",
       "   IsActiveMember  EstimatedSalary  Exited  Geography_Germany  \\\n",
       "0               1        101348.88       1                  0   \n",
       "1               1        112542.58       0                  0   \n",
       "2               0        113931.57       1                  0   \n",
       "3               0         93826.63       0                  0   \n",
       "4               1         79084.10       0                  0   \n",
       "\n",
       "   Geography_Spain  Gender_Male  \n",
       "0                0            0  \n",
       "1                1            0  \n",
       "2                0            0  \n",
       "3                0            0  \n",
       "4                1            0  "
      ]
     },
     "execution_count": 7,
     "metadata": {},
     "output_type": "execute_result"
    }
   ],
   "source": [
    "data_ohe = data.drop(['Surname','CustomerId','RowNumber'],axis=1) #удаляю лишние столбцы\n",
    "data_ohe = pd.get_dummies(data_ohe,drop_first=True)\n",
    "data_ohe.head()"
   ]
  },
  {
   "cell_type": "markdown",
   "metadata": {},
   "source": [
    "***Собираюсь проверить оставшиеся данные на мультиколлинеарность факторов***"
   ]
  },
  {
   "cell_type": "code",
   "execution_count": 8,
   "metadata": {
    "scrolled": true
   },
   "outputs": [
    {
     "data": {
      "image/png": "[encoded data removed]",
      "text/plain": [
       "<Figure size 1440x1080 with 2 Axes>"
      ]
     },
     "metadata": {
      "needs_background": "light"
     },
     "output_type": "display_data"
    }
   ],
   "source": [
    "matrix = np.triu(data_ohe.corr())\n",
    "plt.figure(figsize=(20,15))\n",
    "hm = sns.heatmap(data_ohe.corr(),cbar=True,annot=True,cmap= 'coolwarm',mask=matrix)\n",
    "hm.set_title('мультиколлинеарность факторов');"
   ]
  },
  {
   "cell_type": "code",
   "execution_count": 9,
   "metadata": {},
   "outputs": [],
   "source": [
    "#нармализация признаков\n",
    "#scaler = preprocessing.MinMaxScaler()\n",
    "#names = data_ohe.columns\n",
    "#d = scaler.fit_transform(data_ohe)\n",
    "\n",
    "#scaled_df = pd.DataFrame(d, columns=names)\n",
    "#scaled_df.head()"
   ]
  },
  {
   "cell_type": "markdown",
   "metadata": {},
   "source": [
    "***На данном этапе четкая корреляция не прослеживается,можно отметить только корреляцию баланса и Германии.Видимо это связано с тем что в этой стране балансы на счетах самые большие***"
   ]
  },
  {
   "cell_type": "code",
   "execution_count": 10,
   "metadata": {},
   "outputs": [
    {
     "name": "stdout",
     "output_type": "stream",
     "text": [
      "Размер обучающей выборки: (5000, 11)\n",
      "Размер валидационной выборки: (2500, 11)\n",
      "Размер тестовой выборки: (2500, 11)\n"
     ]
    }
   ],
   "source": [
    "#разобью данные на выборки\n",
    "# создам переменные для признаков и целевого признака\n",
    "target = data_ohe['Exited']\n",
    "features = data_ohe.drop(['Exited'] , axis=1)\n",
    "features_train, features_valid,target_train, target_valid = train_test_split(\n",
    "    features, target, test_size=0.5, random_state=12345,stratify=target)\n",
    "features_valid,features_test,target_valid,target_test = train_test_split(\n",
    "    features_valid,target_valid,test_size=0.5,random_state=12345,stratify=target_valid)\n",
    "    \n",
    "#Исследую размеры выборок\n",
    "print('Размер обучающей выборки:',features_train.shape)\n",
    "print('Размер валидационной выборки:',features_valid.shape)\n",
    "print('Размер тестовой выборки:',features_test.shape)"
   ]
  },
  {
   "cell_type": "code",
   "execution_count": 19,
   "metadata": {},
   "outputs": [],
   "source": [
    "numeric = ['CreditScore','Age','Tenure','Balance','EstimatedSalary']\n",
    "scaler = preprocessing.MinMaxScaler()\n",
    "scaler.fit(features_train)\n",
    "features_train_scaled = scaler.transform(features_train)\n",
    "features_valid_scaled = scaler.transform(features_valid)\n",
    "features_test_scaled = scaler.transform(features_test)\n",
    "features_train_scaled = pd.DataFrame(features_train_scaled)\n",
    "features_valid_scaled = pd.DataFrame(features_valid_scaled)\n",
    "features_test_scaled = pd.DataFrame(features_test_scaled)"
   ]
  },
  {
   "cell_type": "markdown",
   "metadata": {},
   "source": [
    "***Я загрузил и исследовал данные,удалил столбцы Surname,CustomerId,RowNumber.Данные разбил на выборки и проверил на мультиколлинеарность***"
   ]
  },
  {
   "cell_type": "markdown",
   "metadata": {},
   "source": [
    "## Исследование задачи"
   ]
  },
  {
   "cell_type": "code",
   "execution_count": 20,
   "metadata": {
    "scrolled": false
   },
   "outputs": [
    {
     "data": {
      "image/png": "[encoded data removed]",
      "text/plain": [
       "<Figure size 432x288 with 1 Axes>"
      ]
     },
     "metadata": {
      "needs_background": "light"
     },
     "output_type": "display_data"
    }
   ],
   "source": [
    "#Собираюсь обучить модели \n",
    "#Модель Решающее дерево\n",
    "model_Tree = DecisionTreeClassifier(random_state=12345)\n",
    "model_Tree.fit(features_train_scaled,target_train)\n",
    "#Модель Случайного леса\n",
    "model_Forest = RandomForestClassifier(random_state=12345)\n",
    "model_Forest.fit(features_train_scaled,target_train)\n",
    "#Модель Линейной ригрессии\n",
    "model_Regression = LogisticRegression(random_state=12345, solver='liblinear',class_weight='balanced')\n",
    "model_Regression.fit(features_train_scaled,target_train)\n",
    "\n",
    "#посмотрю дисбаланс классов\n",
    "test = data_ohe['Exited'].value_counts(normalize=True).plot(kind='bar')\n",
    "test.set_title(\"Дисбаланс классов\");"
   ]
  },
  {
   "cell_type": "code",
   "execution_count": 21,
   "metadata": {},
   "outputs": [
    {
     "name": "stdout",
     "output_type": "stream",
     "text": [
      "Обучающая выборка\n",
      "0    0.7962\n",
      "1    0.2038\n",
      "Name: Exited, dtype: float64\n",
      "Валидационная выборка\n",
      "0    0.7964\n",
      "1    0.2036\n",
      "Name: Exited, dtype: float64\n",
      "Тестовая выборка\n",
      "0    0.7964\n",
      "1    0.2036\n",
      "Name: Exited, dtype: float64\n"
     ]
    }
   ],
   "source": [
    "test_train = target_train.value_counts(normalize=True)\n",
    "test_valid = target_valid.value_counts(normalize=True)\n",
    "test_test = target_test.value_counts(normalize=True)\n",
    "print('Обучающая выборка')\n",
    "print(test_train)\n",
    "print('Валидационная выборка')\n",
    "print(test_valid)\n",
    "print('Тестовая выборка')\n",
    "print(test_test)"
   ]
  },
  {
   "cell_type": "code",
   "execution_count": 22,
   "metadata": {
    "scrolled": true
   },
   "outputs": [
    {
     "name": "stdout",
     "output_type": "stream",
     "text": [
      "Диссбаланс данных в обучающей выборке:25.60%\n",
      "Диссбаланс данных в валидационной выборке:25.57%\n",
      "Диссбаланс данных в тестовой выборке:25.57%\n",
      "среднее значение диссбаланса:25.58%\n"
     ]
    }
   ],
   "source": [
    "train = 2038 / 7962\n",
    "valid = 2036 / 7964\n",
    "test = valid\n",
    "mean = (train+valid+test)/3\n",
    "print('Диссбаланс данных в обучающей выборке:{:.2%}'.format(train))\n",
    "print('Диссбаланс данных в валидационной выборке:{:.2%}'.format(valid))\n",
    "print('Диссбаланс данных в тестовой выборке:{:.2%}'.format(test))\n",
    "print('среднее значение диссбаланса:{:.2%}'.format(mean))"
   ]
  },
  {
   "cell_type": "markdown",
   "metadata": {},
   "source": [
    "***На графике выше и чуть ниже него я наглядно представил дисбаланс классов во всех выборках.В среднем значения 0 встречаются на 25% чаще***"
   ]
  },
  {
   "cell_type": "markdown",
   "metadata": {},
   "source": [
    "## Борьба с дисбалансом"
   ]
  },
  {
   "cell_type": "markdown",
   "metadata": {},
   "source": [
    "Подберу лучшие параметры для модели Решающее дерево"
   ]
  },
  {
   "cell_type": "code",
   "execution_count": 23,
   "metadata": {},
   "outputs": [
    {
     "name": "stdout",
     "output_type": "stream",
     "text": [
      "max_depth = 1 : 0.0\n",
      "max_depth = 2 : 0.4920440636474908\n",
      "max_depth = 3 : 0.35239567233384855\n",
      "max_depth = 4 : 0.49408672798948755\n",
      "max_depth = 5 : 0.4884667571234736\n",
      "max_depth = 6 : 0.540272614622057\n",
      "max_depth = 7 : 0.5683709869203329\n",
      "max_depth = 8 : 0.5572254335260116\n",
      "max_depth = 9 : 0.5507246376811593\n",
      "max_depth = 10 : 0.5389610389610389\n",
      "max_depth = 11 : 0.5199568500539374\n",
      "max_depth = 12 : 0.5341745531019979\n",
      "max_depth = 13 : 0.5344295991778005\n",
      "max_depth = 14 : 0.5212121212121213\n",
      "max_depth = 15 : 0.5113524185587364\n",
      "max_depth = 16 : 0.5137254901960785\n",
      "max_depth = 17 : 0.5014691478942213\n",
      "max_depth = 18 : 0.5116279069767442\n",
      "max_depth = 19 : 0.5125725338491295\n"
     ]
    }
   ],
   "source": [
    "#решающее дерево\n",
    "for depth in range(1,20):\n",
    "    model = DecisionTreeClassifier(random_state=12345, max_depth=depth)\n",
    "    model.fit(features_train_scaled,target_train)\n",
    "    predictions_valid = model.predict(features_valid_scaled)\n",
    "    \n",
    "    print(\"max_depth =\", depth, \": \", end='')\n",
    "    print(f1_score(target_valid, predictions_valid))"
   ]
  },
  {
   "cell_type": "markdown",
   "metadata": {},
   "source": [
    "***Я ищу лучшие показатели глубины в промежутке от 1 до 20 чтобы не переобучить модель,лучшие показатели у модели с глубиной 7***"
   ]
  },
  {
   "cell_type": "code",
   "execution_count": 24,
   "metadata": {},
   "outputs": [
    {
     "name": "stdout",
     "output_type": "stream",
     "text": [
      "F1 на валидационной выборке: 0.5534407027818449\n",
      "F1 на тренировочной выборке:  0.6356472795497186\n",
      "Recall на валидационной выборке: 0.7426326129666012\n",
      "Precision на валидационной выборке: 0.441073512252042\n",
      "Accuracy на валидационной выборке: 0.756\n"
     ]
    }
   ],
   "source": [
    "model_Tree = DecisionTreeClassifier(random_state=12345,max_depth=7,class_weight='balanced')\n",
    "model_Tree.fit(features_train_scaled,target_train)\n",
    "predict_model_Tree_valid = model_Tree.predict(features_valid_scaled)\n",
    "predict_model_Tree_train = model_Tree.predict(features_train_scaled)\n",
    "print(\"F1 на валидационной выборке:\", f1_score(target_valid,predict_model_Tree_valid))\n",
    "print(\"F1 на тренировочной выборке: \",f1_score(target_train,predict_model_Tree_train))\n",
    "print(\"Recall на валидационной выборке:\",recall_score(target_valid,predict_model_Tree_valid))\n",
    "print(\"Precision на валидационной выборке:\",precision_score(target_valid,predict_model_Tree_valid))\n",
    "print(\"Accuracy на валидационной выборке:\",accuracy_score(target_valid,predict_model_Tree_valid))"
   ]
  },
  {
   "cell_type": "code",
   "execution_count": 25,
   "metadata": {},
   "outputs": [
    {
     "data": {
      "image/png": "[encoded data removed]",
      "text/plain": [
       "<Figure size 720x504 with 2 Axes>"
      ]
     },
     "metadata": {
      "needs_background": "light"
     },
     "output_type": "display_data"
    }
   ],
   "source": [
    "confusion_matrix_tree = confusion_matrix(target_valid,predict_model_Tree_valid)\n",
    "plt.figure(figsize = (10,7))\n",
    "sns.heatmap(confusion_matrix_tree, annot=True,fmt=\"d\");\n",
    "plt.title('Матрица ошибок для решающего дерева');"
   ]
  },
  {
   "cell_type": "markdown",
   "metadata": {},
   "source": [
    "***На данном этапе модель решающего леса показывает значение F1 равное 0,55.Так же для наглядности я вывел матрицу ошибок,глядя на нее я могу судить что верно положительных ответов почти в 3 раза больше чем ложноположительных.Верноотрицательных ответов больше в 4 раза чем ложноотрицательных***"
   ]
  },
  {
   "cell_type": "markdown",
   "metadata": {},
   "source": [
    "Собираюсь подобрать лучшие параметры для модели случайного леса"
   ]
  },
  {
   "cell_type": "code",
   "execution_count": 26,
   "metadata": {},
   "outputs": [],
   "source": [
    "#model_Forest = RandomForestClassifier()\n",
    "#parametrs = { 'n_estimators': range (10, 51, 10),\n",
    "              #'max_depth': range (1,13, 2),\n",
    "              #'min_samples_leaf': range (1,8),\n",
    "              #'min_samples_split': range (2,10,2) }\n",
    "#grid = GridSearchCV(model_Forest, parametrs, cv=5)\n",
    "#grid.fit(features_train, target_train)\n",
    "#grid.best_params_\n",
    "\n",
    "#В этом блоке я пытался произвести подбор параметров и перепробовал кучу приемов,но у меня не получилось,если вы подскажете код\n",
    "#то я буду очень вам благодарен"
   ]
  },
  {
   "cell_type": "code",
   "execution_count": 27,
   "metadata": {},
   "outputs": [
    {
     "name": "stdout",
     "output_type": "stream",
     "text": [
      "max_depth = 1 : 0.5014005602240896\n",
      "max_depth = 2 : 0.5525291828793774\n",
      "max_depth = 3 : 0.5552147239263803\n",
      "max_depth = 4 : 0.5862068965517241\n",
      "max_depth = 5 : 0.582053354890865\n",
      "max_depth = 6 : 0.578391551584078\n",
      "max_depth = 7 : 0.5784716516023007\n",
      "max_depth = 8 : 0.5860306643952301\n",
      "max_depth = 9 : 0.5874769797421732\n",
      "max_depth = 10 : 0.5841392649903288\n",
      "max_depth = 11 : 0.580104712041885\n",
      "max_depth = 12 : 0.581270182992465\n",
      "max_depth = 13 : 0.5627802690582959\n",
      "max_depth = 14 : 0.5524475524475524\n",
      "max_depth = 15 : 0.5497630331753555\n",
      "max_depth = 16 : 0.519159456118665\n",
      "max_depth = 17 : 0.5206812652068126\n",
      "max_depth = 18 : 0.5232704402515723\n",
      "max_depth = 19 : 0.5152284263959391\n"
     ]
    }
   ],
   "source": [
    "for depth in range(1,20):\n",
    "    model = RandomForestClassifier(random_state=12345, max_depth=depth,class_weight='balanced')\n",
    "    model.fit(features_train_scaled,target_train)\n",
    "    predictions_valid = model.predict(features_valid_scaled)\n",
    "    \n",
    "    print(\"max_depth =\", depth, \": \", end='')\n",
    "    print(f1_score(target_valid, predictions_valid))"
   ]
  },
  {
   "cell_type": "markdown",
   "metadata": {},
   "source": [
    "***Лучшим вариантом глубины обучения является 9***"
   ]
  },
  {
   "cell_type": "code",
   "execution_count": 28,
   "metadata": {
    "scrolled": true
   },
   "outputs": [
    {
     "name": "stdout",
     "output_type": "stream",
     "text": [
      "n_estimators =  1 : 0.5142428785607197\n",
      "n_estimators =  2 : 0.512589928057554\n",
      "n_estimators =  3 : 0.56195462478185\n",
      "n_estimators =  4 : 0.5503231763619575\n",
      "n_estimators =  5 : 0.5772811918063314\n",
      "n_estimators =  6 : 0.5872420262664165\n",
      "n_estimators =  7 : 0.588126159554731\n",
      "n_estimators =  8 : 0.5817843866171004\n",
      "n_estimators =  9 : 0.5903165735567971\n",
      "n_estimators =  10 : 0.5874769797421732\n",
      "n_estimators =  11 : 0.6007393715341959\n",
      "n_estimators =  12 : 0.5974264705882352\n",
      "n_estimators =  13 : 0.5886722376973075\n",
      "n_estimators =  14 : 0.584022038567493\n",
      "n_estimators =  15 : 0.5872576177285318\n",
      "n_estimators =  16 : 0.5943482224247949\n",
      "n_estimators =  17 : 0.5944444444444443\n",
      "n_estimators =  18 : 0.5936920222634509\n",
      "n_estimators =  19 : 0.587906976744186\n",
      "n_estimators =  20 : 0.5892193308550187\n",
      "n_estimators =  21 : 0.5824884792626728\n",
      "n_estimators =  22 : 0.5981481481481482\n",
      "n_estimators =  23 : 0.5884543761638733\n",
      "n_estimators =  24 : 0.5918367346938775\n",
      "n_estimators =  25 : 0.5938945420906567\n",
      "n_estimators =  26 : 0.5955473098330241\n",
      "n_estimators =  27 : 0.5951940850277264\n",
      "n_estimators =  28 : 0.595903165735568\n",
      "n_estimators =  29 : 0.595903165735568\n",
      "n_estimators =  30 : 0.5947467166979363\n",
      "n_estimators =  31 : 0.5923149015932521\n",
      "n_estimators =  32 : 0.5983224603914259\n",
      "n_estimators =  33 : 0.5927306616961789\n",
      "n_estimators =  34 : 0.5908667287977633\n",
      "n_estimators =  35 : 0.595903165735568\n",
      "n_estimators =  36 : 0.5925233644859813\n",
      "n_estimators =  37 : 0.5945945945945945\n",
      "n_estimators =  38 : 0.5925233644859813\n",
      "n_estimators =  39 : 0.5896713615023474\n",
      "n_estimators =  40 : 0.5949485500467726\n",
      "n_estimators =  41 : 0.5937794533459001\n",
      "n_estimators =  42 : 0.5928030303030304\n",
      "n_estimators =  43 : 0.5965909090909091\n",
      "n_estimators =  44 : 0.5941343424787132\n",
      "n_estimators =  45 : 0.5922421948912016\n",
      "n_estimators =  46 : 0.5922421948912016\n",
      "n_estimators =  47 : 0.5937794533459001\n",
      "n_estimators =  48 : 0.5886792452830187\n",
      "n_estimators =  49 : 0.591894439208294\n",
      "n_estimators =  50 : 0.593984962406015\n",
      "n_estimators =  51 : 0.5962264150943397\n",
      "n_estimators =  52 : 0.5956644674835061\n",
      "n_estimators =  53 : 0.5945437441204138\n",
      "n_estimators =  54 : 0.5941343424787132\n",
      "n_estimators =  55 : 0.5960264900662252\n",
      "n_estimators =  56 : 0.5930122757318226\n",
      "n_estimators =  57 : 0.5962264150943397\n",
      "n_estimators =  58 : 0.5981132075471699\n",
      "n_estimators =  59 : 0.5962264150943397\n",
      "n_estimators =  60 : 0.5962264150943397\n",
      "n_estimators =  61 : 0.5977443609022557\n",
      "n_estimators =  62 : 0.6001881467544685\n",
      "n_estimators =  63 : 0.6032045240339303\n",
      "n_estimators =  64 : 0.6048689138576779\n",
      "n_estimators =  65 : 0.599624060150376\n",
      "n_estimators =  66 : 0.6073102155576382\n",
      "n_estimators =  67 : 0.6050895381715363\n",
      "n_estimators =  68 : 0.6032045240339303\n",
      "n_estimators =  69 : 0.6043437204910292\n",
      "n_estimators =  70 : 0.6033834586466166\n",
      "n_estimators =  71 : 0.6033834586466166\n",
      "n_estimators =  72 : 0.6028169014084507\n",
      "n_estimators =  73 : 0.6018691588785047\n",
      "n_estimators =  74 : 0.5973782771535581\n",
      "n_estimators =  75 : 0.5941893158388004\n",
      "n_estimators =  76 : 0.5979381443298969\n",
      "n_estimators =  77 : 0.5979381443298969\n",
      "n_estimators =  78 : 0.60075329566855\n",
      "n_estimators =  79 : 0.5941893158388004\n",
      "n_estimators =  80 : 0.5994397759103642\n",
      "n_estimators =  81 : 0.5994397759103642\n",
      "n_estimators =  82 : 0.5955056179775281\n",
      "n_estimators =  83 : 0.5992509363295879\n",
      "n_estimators =  84 : 0.5953051643192488\n",
      "n_estimators =  85 : 0.5915492957746479\n",
      "n_estimators =  86 : 0.5921052631578947\n",
      "n_estimators =  87 : 0.5926622765757291\n",
      "n_estimators =  88 : 0.591337099811676\n",
      "n_estimators =  89 : 0.5962264150943397\n",
      "n_estimators =  90 : 0.5930122757318226\n",
      "n_estimators =  91 : 0.5945437441204138\n",
      "n_estimators =  92 : 0.5926622765757291\n",
      "n_estimators =  93 : 0.5956644674835061\n",
      "n_estimators =  94 : 0.5943396226415094\n",
      "n_estimators =  95 : 0.5956644674835061\n",
      "n_estimators =  96 : 0.5956644674835061\n",
      "n_estimators =  97 : 0.5977443609022557\n",
      "n_estimators =  98 : 0.5983066792097836\n",
      "n_estimators =  99 : 0.5964252116650989\n",
      "n_estimators =  100 : 0.6009389671361502\n",
      "CPU times: user 33.9 s, sys: 134 ms, total: 34 s\n",
      "Wall time: 34.9 s\n"
     ]
    }
   ],
   "source": [
    "%%time\n",
    "for estimators in range(1, 101, 1):\n",
    "    model = RandomForestClassifier(random_state=12345,max_depth=9,class_weight='balanced',n_estimators=estimators)\n",
    "    model.fit(features_train_scaled,target_train)\n",
    "    predictions_valid = model.predict(features_valid_scaled)\n",
    "    \n",
    "    print(\"n_estimators = \", estimators, \": \", end='')\n",
    "    print(f1_score(target_valid, predictions_valid))"
   ]
  },
  {
   "cell_type": "markdown",
   "metadata": {},
   "source": [
    "***Лучшим показателем n_estimators является 66.Поиск этого параметра занял 34 секунды,интерсно сколько времени понадобится обученной модели для тестовой выборки,проверю это в конце когда буду тестировать лучшую модель.В модели решающего дерева и случайного леса я также добавил параметры random_state=12345 и class_weight='balanced'.Параметр class_weight я добавил чтобы сбалансировать массу классов.***"
   ]
  },
  {
   "cell_type": "code",
   "execution_count": 29,
   "metadata": {},
   "outputs": [
    {
     "name": "stdout",
     "output_type": "stream",
     "text": [
      "F1 на валидационной выборке: 0.6073102155576382\n",
      "F1 на тренировочной выборке:  0.7639015496809481\n",
      "Recall на валидационной выборке: 0.6365422396856582\n",
      "Precision на валидационной выборке: 0.5806451612903226\n",
      "Accuracy на валидационной выборке: 0.8324\n"
     ]
    }
   ],
   "source": [
    "model_Forest = RandomForestClassifier(random_state=12345,max_depth=9,class_weight='balanced',n_estimators=66)\n",
    "model_Forest.fit(features_train_scaled,target_train)\n",
    "predict_model_Forest_valid = model_Forest.predict(features_valid_scaled)\n",
    "predict_model_Forest_train = model_Forest.predict(features_train_scaled)\n",
    "print(\"F1 на валидационной выборке:\", f1_score(target_valid,predict_model_Forest_valid))\n",
    "print(\"F1 на тренировочной выборке: \",f1_score(target_train,predict_model_Forest_train))\n",
    "print(\"Recall на валидационной выборке:\",recall_score(target_valid,predict_model_Forest_valid))\n",
    "print(\"Precision на валидационной выборке:\",precision_score(target_valid,predict_model_Forest_valid))\n",
    "print(\"Accuracy на валидационной выборке:\",accuracy_score(target_valid,predict_model_Forest_valid))"
   ]
  },
  {
   "cell_type": "code",
   "execution_count": 30,
   "metadata": {
    "scrolled": false
   },
   "outputs": [
    {
     "data": {
      "image/png": "[encoded data removed]",
      "text/plain": [
       "<Figure size 720x504 with 2 Axes>"
      ]
     },
     "metadata": {
      "needs_background": "light"
     },
     "output_type": "display_data"
    }
   ],
   "source": [
    "confusion_matrix_forest = confusion_matrix(target_valid,predict_model_Forest_valid)\n",
    "plt.figure(figsize = (10,7))\n",
    "sns.heatmap(confusion_matrix_forest, annot=True,fmt=\"d\");\n",
    "plt.title('Матрица ошибок для случайного леса');"
   ]
  },
  {
   "cell_type": "markdown",
   "metadata": {},
   "source": [
    "***В модели случайный лес показатели F1 равны 0,60 на валидационной выборке.В матрице ошибок наглядно видно что данная модель предсказывает немного лучше чем модель решающего дерева***"
   ]
  },
  {
   "cell_type": "markdown",
   "metadata": {},
   "source": [
    "Собираюсь исследовать модель Регрессии"
   ]
  },
  {
   "cell_type": "code",
   "execution_count": 31,
   "metadata": {},
   "outputs": [
    {
     "name": "stdout",
     "output_type": "stream",
     "text": [
      "F1 на валидационной выборке: 0.49127704117236565\n",
      "F1 на тренировочной выборке:  0.49401829697396205\n",
      "Recall на валидационной выборке: 0.6915520628683693\n",
      "Precision на валидационной выборке: 0.38095238095238093\n",
      "Accuracy на валидационной выборке: 0.7084\n"
     ]
    }
   ],
   "source": [
    "model_Regression = LogisticRegression(random_state=12345, solver='liblinear',class_weight='balanced')\n",
    "model_Regression.fit(features_train_scaled,target_train)\n",
    "predict_model_Regression_valid = model_Regression.predict(features_valid_scaled)\n",
    "predict_model_Regression_train = model_Regression.predict(features_train_scaled)\n",
    "print(\"F1 на валидационной выборке:\", f1_score(target_valid,predict_model_Regression_valid))\n",
    "print(\"F1 на тренировочной выборке: \",f1_score(target_train,predict_model_Regression_train))\n",
    "print(\"Recall на валидационной выборке:\",recall_score(target_valid,predict_model_Regression_valid))\n",
    "print(\"Precision на валидационной выборке:\",precision_score(target_valid,predict_model_Regression_valid))\n",
    "print(\"Accuracy на валидационной выборке:\",accuracy_score(target_valid,predict_model_Regression_valid))"
   ]
  },
  {
   "cell_type": "markdown",
   "metadata": {},
   "source": [
    "***На данном этапе модель регрессии имеет показатель F1 на уровне 0,49.Пока что это худший показаетль среди всех моделей***"
   ]
  },
  {
   "cell_type": "code",
   "execution_count": 32,
   "metadata": {},
   "outputs": [
    {
     "name": "stdout",
     "output_type": "stream",
     "text": [
      "F1 на валидационной выборке:  0.49334267694463907\n",
      "Recall на валидационной выборке: 0.6915520628683693\n",
      "Precision на валидационной выборке: 0.38344226579520696\n"
     ]
    }
   ],
   "source": [
    "#хочу сделать масштабирование признаков для модели регресии\n",
    "pd.options.mode.chained_assignment = None\n",
    "scaler = StandardScaler().fit(features_train_scaled)\n",
    "train_scaler = scaler.transform(features_train_scaled)\n",
    "valid_scaler = scaler.transform(features_valid_scaled)\n",
    "\n",
    "\n",
    "model_Regression = LogisticRegression(random_state=12345, solver='liblinear',class_weight='balanced')\n",
    "model_Regression.fit(train_scaler,target_train)\n",
    "predict_model_Regression = model_Regression.predict(valid_scaler)\n",
    "print(\"F1 на валидационной выборке: \", f1_score(target_valid,predict_model_Regression))\n",
    "print(\"Recall на валидационной выборке:\",recall_score(target_valid,predict_model_Regression))\n",
    "print(\"Precision на валидационной выборке:\",precision_score(target_valid,predict_model_Regression))"
   ]
  },
  {
   "cell_type": "code",
   "execution_count": 33,
   "metadata": {
    "scrolled": false
   },
   "outputs": [
    {
     "data": {
      "image/png": "[encoded data removed]",
      "text/plain": [
       "<Figure size 720x504 with 2 Axes>"
      ]
     },
     "metadata": {
      "needs_background": "light"
     },
     "output_type": "display_data"
    }
   ],
   "source": [
    "confusion_matrix_Regression = confusion_matrix(target_valid,predict_model_Regression)\n",
    "plt.figure(figsize = (10,7))\n",
    "sns.heatmap(confusion_matrix_Regression, annot=True,fmt=\"d\");\n",
    "plt.title('Матрица ошибок модели регресии');"
   ]
  },
  {
   "cell_type": "markdown",
   "metadata": {},
   "source": [
    "***Мне не удалось улучшить модель применив масштабирование признаков***"
   ]
  },
  {
   "cell_type": "markdown",
   "metadata": {},
   "source": [
    "Попробую улучшить показатали моделей увеличив выборки"
   ]
  },
  {
   "cell_type": "code",
   "execution_count": 35,
   "metadata": {},
   "outputs": [
    {
     "name": "stdout",
     "output_type": "stream",
     "text": [
      "F1 на валидационной выборке модель решающее дерево:  0.5534407027818449\n",
      "F1 на валидационной выборке модель случайный лес:  0.5991416309012875\n",
      "F1 на валидационной выборке модель регрессии:  0.49127704117236565\n"
     ]
    }
   ],
   "source": [
    "def upsample(features, target, repeat):\n",
    "    features_zeros = features[target == 0]\n",
    "    features_ones = features[target == 1]\n",
    "    target_zeros = target[target == 0]\n",
    "    target_ones = target[target == 1]\n",
    "\n",
    "    features_upsampled = pd.concat([features_zeros] + [features_ones] * repeat)\n",
    "    target_upsampled = pd.concat([target_zeros] + [target_ones] * repeat)\n",
    "    \n",
    "    features_upsampled, target_upsampled = shuffle(\n",
    "        features_upsampled, target_upsampled, random_state=12345)\n",
    "    \n",
    "    return features_upsampled, target_upsampled\n",
    "\n",
    "features_upsampled, target_upsampled = upsample(features_train, target_train,4)\n",
    "\n",
    "\n",
    "model_Tree = DecisionTreeClassifier(random_state=12345,max_depth=7,class_weight='balanced')\n",
    "model_Tree.fit(features_upsampled,target_upsampled)\n",
    "\n",
    "model_Forest = RandomForestClassifier(n_estimators=66, max_depth=9, random_state=12345,class_weight='balanced')\n",
    "model_Forest.fit(features_upsampled,target_upsampled)\n",
    "\n",
    "model_Regression = LogisticRegression(random_state=12345, solver='liblinear',class_weight='balanced')\n",
    "model_Regression.fit(features_upsampled,target_upsampled)\n",
    "\n",
    "predict_model_Tree = model_Tree.predict(features_valid)\n",
    "predict_model_Forest = model_Forest.predict(features_valid)\n",
    "predict_model_Regression = model_Regression.predict(features_valid)\n",
    "\n",
    "print(\"F1 на валидационной выборке модель решающее дерево: \", f1_score(target_valid,predict_model_Tree))\n",
    "print(\"F1 на валидационной выборке модель случайный лес: \", f1_score(target_valid,predict_model_Forest))\n",
    "print(\"F1 на валидационной выборке модель регрессии: \", f1_score(target_valid,predict_model_Regression))"
   ]
  },
  {
   "cell_type": "markdown",
   "metadata": {},
   "source": [
    "Попробую улучшить показатели моделей уменьшив выборки"
   ]
  },
  {
   "cell_type": "code",
   "execution_count": 36,
   "metadata": {},
   "outputs": [
    {
     "name": "stdout",
     "output_type": "stream",
     "text": [
      "F1 на валидационной выборке модель решающее дерево:  0.5484598046581517\n",
      "F1 на валидационной выборке модель случайный лес:  0.5899843505477308\n",
      "F1 на валидационной выборке модель регрессии:  0.4933051444679353\n"
     ]
    }
   ],
   "source": [
    "def downsample(features, target, fraction):\n",
    "    features_zeros = features[target == 0]\n",
    "    features_ones = features[target == 1]\n",
    "    target_zeros = target[target == 0]\n",
    "    target_ones = target[target == 1]\n",
    "\n",
    "    features_downsampled = pd.concat(\n",
    "        [features_zeros.sample(frac=fraction, random_state=12345)] + [features_ones])\n",
    "    target_downsampled = pd.concat(\n",
    "        [target_zeros.sample(frac=fraction, random_state=12345)] + [target_ones])\n",
    "    \n",
    "    features_downsampled, target_downsampled = shuffle(\n",
    "        features_downsampled, target_downsampled, random_state=12345)\n",
    "    \n",
    "    return features_downsampled, target_downsampled\n",
    "\n",
    "features_downsampled, target_downsampled = downsample(features_train, target_train, 0.25)\n",
    "\n",
    "model_Tree = DecisionTreeClassifier(random_state=12345,max_depth=7,class_weight='balanced')\n",
    "model_Tree.fit(features_downsampled,target_downsampled)\n",
    "\n",
    "model_Forest = RandomForestClassifier(n_estimators=66, max_depth=9, random_state=12345,class_weight='balanced')\n",
    "model_Forest.fit(features_downsampled,target_downsampled)\n",
    "\n",
    "model_Regression = LogisticRegression(random_state=12345, solver='liblinear',class_weight='balanced')\n",
    "model_Regression.fit(features_downsampled,target_downsampled)\n",
    "\n",
    "predict_model_Tree = model_Tree.predict(features_valid)\n",
    "predict_model_Forest = model_Forest.predict(features_valid)\n",
    "predict_model_Regression = model_Regression.predict(features_valid)\n",
    "\n",
    "print(\"F1 на валидационной выборке модель решающее дерево: \", f1_score(target_valid,predict_model_Tree))\n",
    "print(\"F1 на валидационной выборке модель случайный лес: \", f1_score(target_valid,predict_model_Forest))\n",
    "print(\"F1 на валидационной выборке модель регрессии: \", f1_score(target_valid,predict_model_Regression))"
   ]
  },
  {
   "cell_type": "markdown",
   "metadata": {},
   "source": [
    "***Увеличение выборок не привело к улучшению моделей,мне не удалось улучшить модели решающего дерева и регрессии после уменьшения выборок.Модель случайного леса при этих тестах только ухудшилась.*** "
   ]
  },
  {
   "cell_type": "markdown",
   "metadata": {},
   "source": [
    "Создам таблицу в которой укажу лучшие параметры по всем моделям"
   ]
  },
  {
   "cell_type": "code",
   "execution_count": 37,
   "metadata": {
    "scrolled": false
   },
   "outputs": [
    {
     "data": {
      "text/html": [
       "<div>\n",
       "<style scoped>\n",
       "    .dataframe tbody tr th:only-of-type {\n",
       "        vertical-align: middle;\n",
       "    }\n",
       "\n",
       "    .dataframe tbody tr th {\n",
       "        vertical-align: top;\n",
       "    }\n",
       "\n",
       "    .dataframe thead th {\n",
       "        text-align: right;\n",
       "    }\n",
       "</style>\n",
       "<table border=\"1\" class=\"dataframe\">\n",
       "  <thead>\n",
       "    <tr style=\"text-align: right;\">\n",
       "      <th></th>\n",
       "      <th>test</th>\n",
       "      <th>model_Tree</th>\n",
       "      <th>model_Forest</th>\n",
       "      <th>model_Regression</th>\n",
       "    </tr>\n",
       "  </thead>\n",
       "  <tbody>\n",
       "    <tr>\n",
       "      <td>0</td>\n",
       "      <td>F1</td>\n",
       "      <td>0.5534</td>\n",
       "      <td>0.6073</td>\n",
       "      <td>0.4912</td>\n",
       "    </tr>\n",
       "    <tr>\n",
       "      <td>1</td>\n",
       "      <td>Recall</td>\n",
       "      <td>0.7426</td>\n",
       "      <td>0.6365</td>\n",
       "      <td>0.6915</td>\n",
       "    </tr>\n",
       "    <tr>\n",
       "      <td>2</td>\n",
       "      <td>Precision</td>\n",
       "      <td>0.4410</td>\n",
       "      <td>0.5806</td>\n",
       "      <td>0.3809</td>\n",
       "    </tr>\n",
       "    <tr>\n",
       "      <td>3</td>\n",
       "      <td>Accuracy</td>\n",
       "      <td>0.756</td>\n",
       "      <td>0.8324</td>\n",
       "      <td>0.7084</td>\n",
       "    </tr>\n",
       "  </tbody>\n",
       "</table>\n",
       "</div>"
      ],
      "text/plain": [
       "        test model_Tree model_Forest model_Regression\n",
       "0         F1     0.5534       0.6073           0.4912\n",
       "1     Recall     0.7426       0.6365           0.6915\n",
       "2  Precision     0.4410       0.5806           0.3809\n",
       "3   Accuracy      0.756       0.8324           0.7084"
      ]
     },
     "execution_count": 37,
     "metadata": {},
     "output_type": "execute_result"
    }
   ],
   "source": [
    "final_df = pd.DataFrame({'test':['F1','Recall','Precision','Accuracy'],\n",
    "                         'model_Tree':['0.5534','0.7426','0.4410','0.756'],\n",
    "                         'model_Forest':['0.6073','0.6365','0.5806','0.8324'],\n",
    "                         'model_Regression':['0.4912','0.6915','0.3809','0.7084']\n",
    "                        })\n",
    "final_df"
   ]
  },
  {
   "cell_type": "markdown",
   "metadata": {},
   "source": [
    "***Исходя из данной таблицы мы можем наблюдать как модель случайного леса превосходит остальные.Именно эту модель я возьму для финального тестирования***"
   ]
  },
  {
   "cell_type": "markdown",
   "metadata": {},
   "source": [
    "## Тестирование модели"
   ]
  },
  {
   "cell_type": "markdown",
   "metadata": {},
   "source": [
    "***Для финального тестирования я выбрал модель случайного леса***"
   ]
  },
  {
   "cell_type": "code",
   "execution_count": 38,
   "metadata": {},
   "outputs": [],
   "source": [
    "#обьединяю выборки\n",
    "train_valid_features = pd.concat([features_train_scaled,features_valid_scaled],sort=False,axis=0)\n",
    "train_valid_target = pd.concat([target_train,target_valid],sort=False,axis=0)\n"
   ]
  },
  {
   "cell_type": "code",
   "execution_count": 41,
   "metadata": {
    "scrolled": true
   },
   "outputs": [
    {
     "name": "stdout",
     "output_type": "stream",
     "text": [
      "F1 на тестовой выборке: 0.6282722513089006\n",
      "Recall на тестовой выборке: 0.7072691552062869\n",
      "Precision на тестовой выборке: 0.565149136577708\n",
      "CPU times: user 619 ms, sys: 0 ns, total: 619 ms\n",
      "Wall time: 617 ms\n"
     ]
    }
   ],
   "source": [
    "\n",
    "%%time\n",
    "model_Forest = RandomForestClassifier(n_estimators=66, max_depth=9, random_state=12345,class_weight='balanced')\n",
    "model_Forest.fit(train_valid_features,train_valid_target)\n",
    "predict_model_Forest = model_Forest.predict(features_test_scaled)\n",
    "print(\"F1 на тестовой выборке:\", f1_score(target_test,predict_model_Forest))\n",
    "print(\"Recall на тестовой выборке:\",recall_score(target_test,predict_model_Forest))\n",
    "print(\"Precision на тестовой выборке:\",precision_score(target_test,predict_model_Forest))"
   ]
  },
  {
   "cell_type": "code",
   "execution_count": 42,
   "metadata": {
    "scrolled": false
   },
   "outputs": [
    {
     "data": {
      "image/png": "[encoded data removed]",
      "text/plain": [
       "<Figure size 720x504 with 2 Axes>"
      ]
     },
     "metadata": {
      "needs_background": "light"
     },
     "output_type": "display_data"
    }
   ],
   "source": [
    "confusion_matrix_forest = confusion_matrix(target_test,predict_model_Forest)\n",
    "plt.figure(figsize = (10,7))\n",
    "sns.heatmap(confusion_matrix_forest, annot=True,fmt=\"d\");\n",
    "plt.title('Матрица ошибок для случайного леса');"
   ]
  },
  {
   "cell_type": "code",
   "execution_count": 43,
   "metadata": {},
   "outputs": [
    {
     "data": {
      "image/png": "[encoded data removed]",
      "text/plain": [
       "<Figure size 432x288 with 1 Axes>"
      ]
     },
     "metadata": {
      "needs_background": "light"
     },
     "output_type": "display_data"
    }
   ],
   "source": [
    "probabilities_valid = model_Forest.predict_proba(features_test_scaled)\n",
    "probabilities_one_valid = probabilities_valid[:, 1]\n",
    "\n",
    "fpr, tpr, thresholds = roc_curve(target_test,probabilities_one_valid)\n",
    "\n",
    "plt.figure()\n",
    "plt.plot(fpr, tpr)\n",
    "\n",
    "# ROC-кривая случайной модели (выглядит как прямая)\n",
    "plt.plot([0, 1], [0, 1], linestyle='--')\n",
    "\n",
    "plt.plot(fpr, tpr)\n",
    "plt.xlim([0.0, 1.0])\n",
    "plt.ylim([0.0, 1.0])\n",
    "plt.xlabel('False Positive Rate')\n",
    "plt.ylabel('True Positive Rate')\n",
    "plt.title('ROC-кривая')\n",
    "plt.show()"
   ]
  },
  {
   "cell_type": "code",
   "execution_count": 44,
   "metadata": {},
   "outputs": [
    {
     "name": "stdout",
     "output_type": "stream",
     "text": [
      "0.8636783008804848\n"
     ]
    }
   ],
   "source": [
    "auc_roc = roc_auc_score(target_test,probabilities_valid[:, 1])\n",
    "\n",
    "print(auc_roc)"
   ]
  },
  {
   "cell_type": "markdown",
   "metadata": {},
   "source": [
    "### Общий вывод"
   ]
  },
  {
   "cell_type": "markdown",
   "metadata": {},
   "source": [
    "***Я построил 3 модели:***\n",
    "\n",
    "- Решающее дерево\n",
    "- Случайный лес\n",
    "- Модель Регрессии\n",
    "\n",
    "***Результата значения F1 равного 0,62 мне удалось достичь с моделью случайного леса.Так же я построил график AUC ROC для модели 'чемпиона',судя по графику нашу модель можно считать адекватной.В тренажере нас учили что модели случайного леса самые медленные,в финальном тестировании модель обучалась и тестировалась метриками,на все это у нее ушло 0,89 секунды.Много это или мало я пока не знаю)***"
   ]
  },
  {
   "cell_type": "markdown",
   "metadata": {},
   "source": [
    "От меня лично,все красные замечания поправил и постарался исправить практически все желтые"
   ]
  },
  {
   "cell_type": "markdown",
   "metadata": {},
   "source": [
    "## Чек-лист готовности проекта"
   ]
  },
  {
   "cell_type": "markdown",
   "metadata": {},
   "source": [
    "Поставьте 'x' в выполненных пунктах. Далее нажмите Shift+Enter."
   ]
  },
  {
   "cell_type": "markdown",
   "metadata": {},
   "source": [
    "- [x]  Jupyter Notebook открыт\n",
    "- [ ]  Весь код выполняется без ошибок\n",
    "- [ ]  Ячейки с кодом расположены в порядке исполнения\n",
    "- [ ]  Выполнен шаг 1: данные подготовлены\n",
    "- [ ]  Выполнен шаг 2: задача исследована\n",
    "    - [ ]  Исследован баланс классов\n",
    "    - [ ]  Изучены модели без учёта дисбаланса\n",
    "    - [ ]  Написаны выводы по результатам исследования\n",
    "- [ ]  Выполнен шаг 3: учтён дисбаланс\n",
    "    - [ ]  Применено несколько способов борьбы с дисбалансом\n",
    "    - [ ]  Написаны выводы по результатам исследования\n",
    "- [ ]  Выполнен шаг 4: проведено тестирование\n",
    "- [ ]  Удалось достичь *F1*-меры не менее 0.59\n",
    "- [ ]  Исследована метрика *AUC-ROC*"
   ]
  },
  {
   "cell_type": "code",
   "execution_count": null,
   "metadata": {},
   "outputs": [],
   "source": []
  }
 ],
 "metadata": {
  "ExecuteTimeLog": [
   {
    "duration": 1454,
    "start_time": "2021-08-01T15:57:50.455Z"
   },
   {
    "duration": 83,
    "start_time": "2021-08-01T15:57:51.913Z"
   },
   {
    "duration": 319,
    "start_time": "2021-08-01T17:16:30.793Z"
   },
   {
    "duration": 291,
    "start_time": "2021-08-01T17:16:55.937Z"
   },
   {
    "duration": 9,
    "start_time": "2021-08-01T17:21:38.618Z"
   },
   {
    "duration": 8,
    "start_time": "2021-08-01T17:22:09.909Z"
   },
   {
    "duration": 426,
    "start_time": "2021-08-01T17:26:39.012Z"
   },
   {
    "duration": 1403,
    "start_time": "2021-08-01T17:26:57.107Z"
   },
   {
    "duration": 58,
    "start_time": "2021-08-01T17:26:58.513Z"
   },
   {
    "duration": 7,
    "start_time": "2021-08-01T17:26:58.575Z"
   },
   {
    "duration": 345,
    "start_time": "2021-08-01T17:26:58.584Z"
   },
   {
    "duration": 323,
    "start_time": "2021-08-01T17:26:58.932Z"
   },
   {
    "duration": 58,
    "start_time": "2021-08-01T17:27:34.988Z"
   },
   {
    "duration": 16,
    "start_time": "2021-08-01T17:27:45.036Z"
   },
   {
    "duration": 479,
    "start_time": "2021-08-01T17:29:07.700Z"
   },
   {
    "duration": 172,
    "start_time": "2021-08-01T17:30:44.916Z"
   },
   {
    "duration": 64,
    "start_time": "2021-08-01T17:30:45.485Z"
   },
   {
    "duration": 8,
    "start_time": "2021-08-01T17:30:48.397Z"
   },
   {
    "duration": 36,
    "start_time": "2021-08-01T17:30:50.453Z"
   },
   {
    "duration": 11,
    "start_time": "2021-08-01T17:30:52.316Z"
   },
   {
    "duration": 68927,
    "start_time": "2021-08-01T17:30:55.292Z"
   },
   {
    "duration": 65398,
    "start_time": "2021-08-01T17:32:42.982Z"
   },
   {
    "duration": 1532,
    "start_time": "2021-08-01T17:36:21.065Z"
   },
   {
    "duration": 53,
    "start_time": "2021-08-01T17:36:22.601Z"
   },
   {
    "duration": 6,
    "start_time": "2021-08-01T17:36:22.658Z"
   },
   {
    "duration": 46,
    "start_time": "2021-08-01T17:36:22.666Z"
   },
   {
    "duration": 12,
    "start_time": "2021-08-01T17:36:22.714Z"
   },
   {
    "duration": 422,
    "start_time": "2021-08-01T17:36:22.762Z"
   },
   {
    "duration": 19,
    "start_time": "2021-08-01T17:57:39.374Z"
   },
   {
    "duration": 4,
    "start_time": "2021-08-01T17:58:42.352Z"
   },
   {
    "duration": 8,
    "start_time": "2021-08-01T18:02:04.232Z"
   },
   {
    "duration": 9,
    "start_time": "2021-08-01T18:02:10.728Z"
   },
   {
    "duration": 272,
    "start_time": "2021-08-01T18:02:46.931Z"
   },
   {
    "duration": 257,
    "start_time": "2021-08-01T18:02:51.521Z"
   },
   {
    "duration": 273,
    "start_time": "2021-08-01T18:02:55.443Z"
   },
   {
    "duration": 11,
    "start_time": "2021-08-01T18:03:01.825Z"
   },
   {
    "duration": 7,
    "start_time": "2021-08-01T18:03:15.634Z"
   },
   {
    "duration": 14,
    "start_time": "2021-08-01T19:37:47.173Z"
   },
   {
    "duration": 250,
    "start_time": "2021-08-01T19:39:54.957Z"
   },
   {
    "duration": 10,
    "start_time": "2021-08-01T19:41:17.727Z"
   },
   {
    "duration": 49,
    "start_time": "2021-08-01T19:41:25.260Z"
   },
   {
    "duration": 279,
    "start_time": "2021-08-01T19:47:29.556Z"
   },
   {
    "duration": 20,
    "start_time": "2021-08-01T19:47:40.685Z"
   },
   {
    "duration": 28,
    "start_time": "2021-08-01T19:47:57.551Z"
   },
   {
    "duration": 20,
    "start_time": "2021-08-01T19:48:49.712Z"
   },
   {
    "duration": 555,
    "start_time": "2021-08-01T20:08:19.602Z"
   },
   {
    "duration": 582,
    "start_time": "2021-08-01T20:08:45.492Z"
   },
   {
    "duration": 382,
    "start_time": "2021-08-01T20:09:16.308Z"
   },
   {
    "duration": 1412,
    "start_time": "2021-08-01T20:09:57.650Z"
   },
   {
    "duration": 510,
    "start_time": "2021-08-01T20:09:59.072Z"
   },
   {
    "duration": 114,
    "start_time": "2021-08-01T20:09:59.472Z"
   },
   {
    "duration": 112,
    "start_time": "2021-08-01T20:09:59.476Z"
   },
   {
    "duration": 113,
    "start_time": "2021-08-01T20:09:59.477Z"
   },
   {
    "duration": 115,
    "start_time": "2021-08-01T20:09:59.479Z"
   },
   {
    "duration": 114,
    "start_time": "2021-08-01T20:09:59.482Z"
   },
   {
    "duration": 114,
    "start_time": "2021-08-01T20:09:59.484Z"
   },
   {
    "duration": 115,
    "start_time": "2021-08-01T20:09:59.485Z"
   },
   {
    "duration": 1374,
    "start_time": "2021-08-01T20:10:37.142Z"
   },
   {
    "duration": 72,
    "start_time": "2021-08-01T20:10:38.519Z"
   },
   {
    "duration": 12,
    "start_time": "2021-08-01T20:10:38.594Z"
   },
   {
    "duration": 8,
    "start_time": "2021-08-01T20:10:38.609Z"
   },
   {
    "duration": 6,
    "start_time": "2021-08-01T20:10:38.619Z"
   },
   {
    "duration": 43,
    "start_time": "2021-08-01T20:10:38.628Z"
   },
   {
    "duration": 44,
    "start_time": "2021-08-01T20:10:38.679Z"
   },
   {
    "duration": 55,
    "start_time": "2021-08-01T20:10:38.726Z"
   },
   {
    "duration": 397,
    "start_time": "2021-08-01T20:10:38.785Z"
   },
   {
    "duration": 62893,
    "start_time": "2021-08-01T20:11:20.512Z"
   },
   {
    "duration": 341,
    "start_time": "2021-08-01T20:12:38.898Z"
   },
   {
    "duration": 30870,
    "start_time": "2021-08-01T20:12:42.817Z"
   },
   {
    "duration": 6,
    "start_time": "2021-08-01T20:13:54.179Z"
   },
   {
    "duration": 382,
    "start_time": "2021-08-01T20:15:45.242Z"
   },
   {
    "duration": 390,
    "start_time": "2021-08-01T20:16:38.378Z"
   },
   {
    "duration": 385,
    "start_time": "2021-08-01T20:17:46.746Z"
   },
   {
    "duration": 391,
    "start_time": "2021-08-01T20:19:07.635Z"
   },
   {
    "duration": 6,
    "start_time": "2021-08-01T20:23:48.660Z"
   },
   {
    "duration": 6,
    "start_time": "2021-08-01T20:24:30.675Z"
   },
   {
    "duration": 7,
    "start_time": "2021-08-01T20:25:27.788Z"
   },
   {
    "duration": 459,
    "start_time": "2021-08-02T18:38:54.117Z"
   },
   {
    "duration": 373,
    "start_time": "2021-08-02T18:46:05.533Z"
   },
   {
    "duration": 1464,
    "start_time": "2021-08-02T18:46:11.085Z"
   },
   {
    "duration": 61,
    "start_time": "2021-08-02T18:46:12.552Z"
   },
   {
    "duration": 12,
    "start_time": "2021-08-02T18:46:12.616Z"
   },
   {
    "duration": 6,
    "start_time": "2021-08-02T18:46:12.630Z"
   },
   {
    "duration": 5,
    "start_time": "2021-08-02T18:46:12.639Z"
   },
   {
    "duration": 12,
    "start_time": "2021-08-02T18:46:12.647Z"
   },
   {
    "duration": 73,
    "start_time": "2021-08-02T18:46:12.662Z"
   },
   {
    "duration": 20,
    "start_time": "2021-08-02T18:46:12.739Z"
   },
   {
    "duration": 360,
    "start_time": "2021-08-02T18:46:12.761Z"
   },
   {
    "duration": 7,
    "start_time": "2021-08-02T18:46:13.123Z"
   },
   {
    "duration": 100,
    "start_time": "2021-08-02T18:46:13.202Z"
   },
   {
    "duration": 1031,
    "start_time": "2021-08-04T19:57:39.591Z"
   },
   {
    "duration": 42,
    "start_time": "2021-08-04T19:57:40.624Z"
   },
   {
    "duration": 8,
    "start_time": "2021-08-04T19:57:40.670Z"
   },
   {
    "duration": 4,
    "start_time": "2021-08-04T19:57:40.680Z"
   },
   {
    "duration": 4,
    "start_time": "2021-08-04T19:57:40.691Z"
   },
   {
    "duration": 12,
    "start_time": "2021-08-04T19:57:40.697Z"
   },
   {
    "duration": 24,
    "start_time": "2021-08-04T19:57:40.711Z"
   },
   {
    "duration": 12,
    "start_time": "2021-08-04T19:57:40.737Z"
   },
   {
    "duration": 271,
    "start_time": "2021-08-04T19:57:40.750Z"
   },
   {
    "duration": 5,
    "start_time": "2021-08-04T19:57:41.022Z"
   },
   {
    "duration": 79,
    "start_time": "2021-08-04T19:57:41.029Z"
   },
   {
    "duration": 435,
    "start_time": "2021-08-04T19:57:41.110Z"
   },
   {
    "duration": 13,
    "start_time": "2021-08-04T19:58:43.325Z"
   },
   {
    "duration": 10,
    "start_time": "2021-08-04T19:59:32.647Z"
   },
   {
    "duration": 22,
    "start_time": "2021-08-04T19:59:58.079Z"
   },
   {
    "duration": 13,
    "start_time": "2021-08-04T20:00:53.616Z"
   },
   {
    "duration": 230,
    "start_time": "2021-08-04T20:10:22.831Z"
   },
   {
    "duration": 313,
    "start_time": "2021-08-04T20:10:41.161Z"
   },
   {
    "duration": 29,
    "start_time": "2021-08-04T20:10:57.913Z"
   },
   {
    "duration": 15,
    "start_time": "2021-08-04T20:11:02.057Z"
   },
   {
    "duration": 223,
    "start_time": "2021-08-04T20:23:37.448Z"
   },
   {
    "duration": 9,
    "start_time": "2021-08-04T20:23:41.413Z"
   },
   {
    "duration": 20,
    "start_time": "2021-08-04T20:23:42.355Z"
   },
   {
    "duration": 9,
    "start_time": "2021-08-04T20:25:18.387Z"
   },
   {
    "duration": 227,
    "start_time": "2021-08-04T20:25:30.507Z"
   },
   {
    "duration": 8,
    "start_time": "2021-08-04T20:26:48.988Z"
   },
   {
    "duration": 4,
    "start_time": "2021-08-04T20:28:52.121Z"
   },
   {
    "duration": 1237,
    "start_time": "2021-08-05T18:47:54.431Z"
   },
   {
    "duration": 42,
    "start_time": "2021-08-05T18:47:55.670Z"
   },
   {
    "duration": 7,
    "start_time": "2021-08-05T18:47:55.714Z"
   },
   {
    "duration": 4,
    "start_time": "2021-08-05T18:47:55.723Z"
   },
   {
    "duration": 6,
    "start_time": "2021-08-05T18:47:55.728Z"
   },
   {
    "duration": 8,
    "start_time": "2021-08-05T18:47:55.735Z"
   },
   {
    "duration": 57,
    "start_time": "2021-08-05T18:47:55.745Z"
   },
   {
    "duration": 17,
    "start_time": "2021-08-05T18:47:55.805Z"
   },
   {
    "duration": 705,
    "start_time": "2021-08-05T18:47:55.824Z"
   },
   {
    "duration": 3,
    "start_time": "2021-08-05T18:47:56.528Z"
   },
   {
    "duration": 0,
    "start_time": "2021-08-05T18:47:56.532Z"
   },
   {
    "duration": 0,
    "start_time": "2021-08-05T18:47:56.534Z"
   },
   {
    "duration": -1,
    "start_time": "2021-08-05T18:47:56.536Z"
   },
   {
    "duration": 472,
    "start_time": "2021-08-05T18:49:27.902Z"
   },
   {
    "duration": 1035,
    "start_time": "2021-08-05T18:49:58.663Z"
   },
   {
    "duration": 40,
    "start_time": "2021-08-05T18:49:59.700Z"
   },
   {
    "duration": 8,
    "start_time": "2021-08-05T18:49:59.744Z"
   },
   {
    "duration": 8,
    "start_time": "2021-08-05T18:49:59.753Z"
   },
   {
    "duration": 5,
    "start_time": "2021-08-05T18:49:59.763Z"
   },
   {
    "duration": 7,
    "start_time": "2021-08-05T18:49:59.769Z"
   },
   {
    "duration": 22,
    "start_time": "2021-08-05T18:49:59.791Z"
   },
   {
    "duration": 14,
    "start_time": "2021-08-05T18:49:59.815Z"
   },
   {
    "duration": 276,
    "start_time": "2021-08-05T18:49:59.830Z"
   },
   {
    "duration": 4,
    "start_time": "2021-08-05T18:50:00.108Z"
   },
   {
    "duration": 82,
    "start_time": "2021-08-05T18:50:00.114Z"
   },
   {
    "duration": 95,
    "start_time": "2021-08-05T18:50:00.198Z"
   },
   {
    "duration": 5,
    "start_time": "2021-08-05T18:50:00.296Z"
   },
   {
    "duration": 14,
    "start_time": "2021-08-05T19:16:50.806Z"
   },
   {
    "duration": 1056,
    "start_time": "2021-08-05T19:24:12.597Z"
   },
   {
    "duration": 41,
    "start_time": "2021-08-05T19:24:13.655Z"
   },
   {
    "duration": 11,
    "start_time": "2021-08-05T19:24:13.699Z"
   },
   {
    "duration": 3,
    "start_time": "2021-08-05T19:24:13.712Z"
   },
   {
    "duration": 8,
    "start_time": "2021-08-05T19:24:13.717Z"
   },
   {
    "duration": 6,
    "start_time": "2021-08-05T19:24:13.727Z"
   },
   {
    "duration": 22,
    "start_time": "2021-08-05T19:24:13.734Z"
   },
   {
    "duration": 33,
    "start_time": "2021-08-05T19:24:13.758Z"
   },
   {
    "duration": 282,
    "start_time": "2021-08-05T19:24:13.793Z"
   },
   {
    "duration": 3,
    "start_time": "2021-08-05T19:24:14.077Z"
   },
   {
    "duration": 29,
    "start_time": "2021-08-05T19:24:14.082Z"
   },
   {
    "duration": 86,
    "start_time": "2021-08-05T19:24:14.113Z"
   },
   {
    "duration": 3,
    "start_time": "2021-08-05T19:24:14.201Z"
   },
   {
    "duration": 110,
    "start_time": "2021-08-05T19:24:14.206Z"
   },
   {
    "duration": 301,
    "start_time": "2021-08-05T19:27:19.972Z"
   },
   {
    "duration": 1282,
    "start_time": "2021-08-05T19:27:46.916Z"
   },
   {
    "duration": 41,
    "start_time": "2021-08-05T19:27:48.200Z"
   },
   {
    "duration": 8,
    "start_time": "2021-08-05T19:27:48.242Z"
   },
   {
    "duration": 3,
    "start_time": "2021-08-05T19:27:48.252Z"
   },
   {
    "duration": 4,
    "start_time": "2021-08-05T19:27:48.257Z"
   },
   {
    "duration": 8,
    "start_time": "2021-08-05T19:27:48.263Z"
   },
   {
    "duration": 37,
    "start_time": "2021-08-05T19:27:48.272Z"
   },
   {
    "duration": 12,
    "start_time": "2021-08-05T19:27:48.311Z"
   },
   {
    "duration": 270,
    "start_time": "2021-08-05T19:27:48.324Z"
   },
   {
    "duration": 3,
    "start_time": "2021-08-05T19:27:48.596Z"
   },
   {
    "duration": 96,
    "start_time": "2021-08-05T19:27:48.601Z"
   },
   {
    "duration": 410,
    "start_time": "2021-08-05T19:27:48.699Z"
   },
   {
    "duration": 1003,
    "start_time": "2021-08-05T19:42:58.922Z"
   },
   {
    "duration": 43,
    "start_time": "2021-08-05T19:42:59.927Z"
   },
   {
    "duration": 7,
    "start_time": "2021-08-05T19:42:59.972Z"
   },
   {
    "duration": 11,
    "start_time": "2021-08-05T19:42:59.981Z"
   },
   {
    "duration": 4,
    "start_time": "2021-08-05T19:42:59.993Z"
   },
   {
    "duration": 9,
    "start_time": "2021-08-05T19:42:59.999Z"
   },
   {
    "duration": 23,
    "start_time": "2021-08-05T19:43:00.009Z"
   },
   {
    "duration": 12,
    "start_time": "2021-08-05T19:43:00.034Z"
   },
   {
    "duration": 284,
    "start_time": "2021-08-05T19:43:00.047Z"
   },
   {
    "duration": 4,
    "start_time": "2021-08-05T19:43:00.333Z"
   },
   {
    "duration": 468,
    "start_time": "2021-08-05T19:43:00.339Z"
   },
   {
    "duration": 15,
    "start_time": "2021-08-05T19:43:00.794Z"
   },
   {
    "duration": 1067,
    "start_time": "2021-08-05T19:43:59.778Z"
   },
   {
    "duration": 45,
    "start_time": "2021-08-05T19:44:00.847Z"
   },
   {
    "duration": 10,
    "start_time": "2021-08-05T19:44:00.894Z"
   },
   {
    "duration": 6,
    "start_time": "2021-08-05T19:44:00.906Z"
   },
   {
    "duration": 12,
    "start_time": "2021-08-05T19:44:00.913Z"
   },
   {
    "duration": 9,
    "start_time": "2021-08-05T19:44:00.927Z"
   },
   {
    "duration": 26,
    "start_time": "2021-08-05T19:44:00.938Z"
   },
   {
    "duration": 14,
    "start_time": "2021-08-05T19:44:00.991Z"
   },
   {
    "duration": 86,
    "start_time": "2021-08-05T19:44:01.006Z"
   },
   {
    "duration": 9,
    "start_time": "2021-08-05T19:44:01.085Z"
   },
   {
    "duration": 5,
    "start_time": "2021-08-05T19:44:01.090Z"
   },
   {
    "duration": 4,
    "start_time": "2021-08-05T19:44:01.092Z"
   },
   {
    "duration": 310,
    "start_time": "2021-08-05T19:44:25.231Z"
   },
   {
    "duration": 4,
    "start_time": "2021-08-05T19:44:29.295Z"
   },
   {
    "duration": 431,
    "start_time": "2021-08-05T19:44:33.263Z"
   },
   {
    "duration": 321,
    "start_time": "2021-08-05T19:45:14.456Z"
   },
   {
    "duration": 1008,
    "start_time": "2021-08-05T19:47:38.226Z"
   },
   {
    "duration": 42,
    "start_time": "2021-08-05T19:47:39.236Z"
   },
   {
    "duration": 8,
    "start_time": "2021-08-05T19:47:39.280Z"
   },
   {
    "duration": 5,
    "start_time": "2021-08-05T19:47:39.292Z"
   },
   {
    "duration": 5,
    "start_time": "2021-08-05T19:47:39.299Z"
   },
   {
    "duration": 15,
    "start_time": "2021-08-05T19:47:39.306Z"
   },
   {
    "duration": 24,
    "start_time": "2021-08-05T19:47:39.323Z"
   },
   {
    "duration": 12,
    "start_time": "2021-08-05T19:47:39.350Z"
   },
   {
    "duration": 144,
    "start_time": "2021-08-05T19:47:39.391Z"
   },
   {
    "duration": 4,
    "start_time": "2021-08-05T19:47:39.537Z"
   },
   {
    "duration": 151,
    "start_time": "2021-08-05T19:47:39.542Z"
   },
   {
    "duration": 87,
    "start_time": "2021-08-05T19:47:39.694Z"
   },
   {
    "duration": 986,
    "start_time": "2021-08-05T19:48:12.031Z"
   },
   {
    "duration": 40,
    "start_time": "2021-08-05T19:48:13.019Z"
   },
   {
    "duration": 8,
    "start_time": "2021-08-05T19:48:13.061Z"
   },
   {
    "duration": 4,
    "start_time": "2021-08-05T19:48:13.071Z"
   },
   {
    "duration": 15,
    "start_time": "2021-08-05T19:48:13.077Z"
   },
   {
    "duration": 5,
    "start_time": "2021-08-05T19:48:13.093Z"
   },
   {
    "duration": 22,
    "start_time": "2021-08-05T19:48:13.099Z"
   },
   {
    "duration": 13,
    "start_time": "2021-08-05T19:48:13.123Z"
   },
   {
    "duration": 158,
    "start_time": "2021-08-05T19:48:13.137Z"
   },
   {
    "duration": 3,
    "start_time": "2021-08-05T19:48:13.297Z"
   },
   {
    "duration": 96,
    "start_time": "2021-08-05T19:48:13.302Z"
   },
   {
    "duration": 123,
    "start_time": "2021-08-05T19:48:13.400Z"
   },
   {
    "duration": 1310,
    "start_time": "2021-08-05T19:51:57.504Z"
   },
   {
    "duration": 58,
    "start_time": "2021-08-05T19:51:58.816Z"
   },
   {
    "duration": 11,
    "start_time": "2021-08-05T19:51:58.876Z"
   },
   {
    "duration": 6,
    "start_time": "2021-08-05T19:51:58.889Z"
   },
   {
    "duration": 5,
    "start_time": "2021-08-05T19:51:58.896Z"
   },
   {
    "duration": 6,
    "start_time": "2021-08-05T19:51:58.903Z"
   },
   {
    "duration": 23,
    "start_time": "2021-08-05T19:51:58.910Z"
   },
   {
    "duration": 12,
    "start_time": "2021-08-05T19:51:58.935Z"
   },
   {
    "duration": 190,
    "start_time": "2021-08-05T19:51:58.949Z"
   },
   {
    "duration": 4,
    "start_time": "2021-08-05T19:51:59.140Z"
   },
   {
    "duration": 53,
    "start_time": "2021-08-05T19:51:59.146Z"
   },
   {
    "duration": 93,
    "start_time": "2021-08-05T19:51:59.200Z"
   },
   {
    "duration": 571,
    "start_time": "2021-08-05T19:57:28.788Z"
   },
   {
    "duration": 72,
    "start_time": "2021-08-05T19:58:13.429Z"
   },
   {
    "duration": 1042,
    "start_time": "2021-08-05T20:14:25.965Z"
   },
   {
    "duration": 41,
    "start_time": "2021-08-05T20:14:27.009Z"
   },
   {
    "duration": 9,
    "start_time": "2021-08-05T20:14:27.052Z"
   },
   {
    "duration": 6,
    "start_time": "2021-08-05T20:14:27.062Z"
   },
   {
    "duration": 23,
    "start_time": "2021-08-05T20:14:27.069Z"
   },
   {
    "duration": 4,
    "start_time": "2021-08-05T20:14:27.093Z"
   },
   {
    "duration": 24,
    "start_time": "2021-08-05T20:14:27.098Z"
   },
   {
    "duration": 12,
    "start_time": "2021-08-05T20:14:27.124Z"
   },
   {
    "duration": 166,
    "start_time": "2021-08-05T20:14:27.137Z"
   },
   {
    "duration": 3,
    "start_time": "2021-08-05T20:14:27.305Z"
   },
   {
    "duration": 86,
    "start_time": "2021-08-05T20:14:27.310Z"
   },
   {
    "duration": 195,
    "start_time": "2021-08-05T20:14:27.399Z"
   },
   {
    "duration": 577,
    "start_time": "2021-08-05T20:14:27.596Z"
   },
   {
    "duration": 367,
    "start_time": "2021-08-05T20:15:26.038Z"
   },
   {
    "duration": 451,
    "start_time": "2021-08-05T20:17:02.640Z"
   },
   {
    "duration": 1373,
    "start_time": "2021-08-07T20:02:07.639Z"
   },
   {
    "duration": 60,
    "start_time": "2021-08-07T20:02:09.015Z"
   },
   {
    "duration": 13,
    "start_time": "2021-08-07T20:02:09.079Z"
   },
   {
    "duration": 7,
    "start_time": "2021-08-07T20:02:09.095Z"
   },
   {
    "duration": 8,
    "start_time": "2021-08-07T20:02:09.104Z"
   },
   {
    "duration": 49,
    "start_time": "2021-08-07T20:02:09.114Z"
   },
   {
    "duration": 35,
    "start_time": "2021-08-07T20:02:09.166Z"
   },
   {
    "duration": 19,
    "start_time": "2021-08-07T20:02:09.204Z"
   },
   {
    "duration": 259,
    "start_time": "2021-08-07T20:02:09.225Z"
   },
   {
    "duration": 6,
    "start_time": "2021-08-07T20:02:09.486Z"
   },
   {
    "duration": 75,
    "start_time": "2021-08-07T20:02:09.494Z"
   },
   {
    "duration": 197,
    "start_time": "2021-08-07T20:02:09.571Z"
   },
   {
    "duration": 594,
    "start_time": "2021-08-07T20:02:09.771Z"
   },
   {
    "duration": 187,
    "start_time": "2021-08-07T20:04:16.016Z"
   },
   {
    "duration": 50,
    "start_time": "2021-08-07T20:04:16.943Z"
   },
   {
    "duration": 14,
    "start_time": "2021-08-07T20:04:17.712Z"
   },
   {
    "duration": 6,
    "start_time": "2021-08-07T20:04:21.775Z"
   },
   {
    "duration": 6,
    "start_time": "2021-08-07T20:04:22.343Z"
   },
   {
    "duration": 8,
    "start_time": "2021-08-07T20:04:25.047Z"
   },
   {
    "duration": 1277,
    "start_time": "2021-08-07T20:04:57.952Z"
   },
   {
    "duration": 1269,
    "start_time": "2021-08-07T20:05:15.462Z"
   },
   {
    "duration": 1669,
    "start_time": "2021-08-07T20:05:27.301Z"
   },
   {
    "duration": 53,
    "start_time": "2021-08-07T20:05:28.973Z"
   },
   {
    "duration": 34,
    "start_time": "2021-08-07T20:05:29.033Z"
   },
   {
    "duration": 8,
    "start_time": "2021-08-07T20:05:29.069Z"
   },
   {
    "duration": 6,
    "start_time": "2021-08-07T20:05:29.080Z"
   },
   {
    "duration": 9,
    "start_time": "2021-08-07T20:05:29.088Z"
   },
   {
    "duration": 79,
    "start_time": "2021-08-07T20:05:29.100Z"
   },
   {
    "duration": 1257,
    "start_time": "2021-08-07T20:05:29.182Z"
   },
   {
    "duration": 34,
    "start_time": "2021-08-07T20:05:30.441Z"
   },
   {
    "duration": 306,
    "start_time": "2021-08-07T20:05:30.478Z"
   },
   {
    "duration": 8,
    "start_time": "2021-08-07T20:05:30.787Z"
   },
   {
    "duration": 71,
    "start_time": "2021-08-07T20:05:30.799Z"
   },
   {
    "duration": 201,
    "start_time": "2021-08-07T20:05:30.962Z"
   },
   {
    "duration": 696,
    "start_time": "2021-08-07T20:05:31.165Z"
   },
   {
    "duration": 651,
    "start_time": "2021-08-07T20:06:11.976Z"
   },
   {
    "duration": 1522,
    "start_time": "2021-08-07T20:06:36.265Z"
   },
   {
    "duration": 55,
    "start_time": "2021-08-07T20:06:37.790Z"
   },
   {
    "duration": 24,
    "start_time": "2021-08-07T20:06:37.847Z"
   },
   {
    "duration": 6,
    "start_time": "2021-08-07T20:06:37.874Z"
   },
   {
    "duration": 8,
    "start_time": "2021-08-07T20:06:37.882Z"
   },
   {
    "duration": 9,
    "start_time": "2021-08-07T20:06:37.893Z"
   },
   {
    "duration": 86,
    "start_time": "2021-08-07T20:06:37.904Z"
   },
   {
    "duration": 956,
    "start_time": "2021-08-07T20:06:37.992Z"
   },
   {
    "duration": 29,
    "start_time": "2021-08-07T20:06:38.951Z"
   },
   {
    "duration": 235,
    "start_time": "2021-08-07T20:06:38.982Z"
   },
   {
    "duration": 6,
    "start_time": "2021-08-07T20:06:39.220Z"
   },
   {
    "duration": 126,
    "start_time": "2021-08-07T20:06:39.242Z"
   },
   {
    "duration": 200,
    "start_time": "2021-08-07T20:06:39.463Z"
   },
   {
    "duration": 504,
    "start_time": "2021-08-07T20:06:39.666Z"
   },
   {
    "duration": 680,
    "start_time": "2021-08-07T20:08:20.001Z"
   },
   {
    "duration": 2537,
    "start_time": "2021-08-07T20:10:48.782Z"
   },
   {
    "duration": 358,
    "start_time": "2021-08-07T20:10:50.965Z"
   },
   {
    "duration": 358,
    "start_time": "2021-08-07T20:10:50.966Z"
   },
   {
    "duration": 357,
    "start_time": "2021-08-07T20:10:50.968Z"
   },
   {
    "duration": 357,
    "start_time": "2021-08-07T20:10:50.969Z"
   },
   {
    "duration": 356,
    "start_time": "2021-08-07T20:10:50.971Z"
   },
   {
    "duration": 354,
    "start_time": "2021-08-07T20:10:50.975Z"
   },
   {
    "duration": 350,
    "start_time": "2021-08-07T20:10:50.980Z"
   },
   {
    "duration": 349,
    "start_time": "2021-08-07T20:10:50.982Z"
   },
   {
    "duration": 349,
    "start_time": "2021-08-07T20:10:50.983Z"
   },
   {
    "duration": 346,
    "start_time": "2021-08-07T20:10:50.987Z"
   },
   {
    "duration": 346,
    "start_time": "2021-08-07T20:10:50.989Z"
   },
   {
    "duration": 346,
    "start_time": "2021-08-07T20:10:50.990Z"
   },
   {
    "duration": 343,
    "start_time": "2021-08-07T20:10:50.995Z"
   },
   {
    "duration": 6,
    "start_time": "2021-08-07T20:11:24.423Z"
   },
   {
    "duration": 57,
    "start_time": "2021-08-07T20:11:26.223Z"
   },
   {
    "duration": 13,
    "start_time": "2021-08-07T20:11:27.463Z"
   },
   {
    "duration": 7,
    "start_time": "2021-08-07T20:11:28.927Z"
   },
   {
    "duration": 7,
    "start_time": "2021-08-07T20:11:30.487Z"
   },
   {
    "duration": 8,
    "start_time": "2021-08-07T20:11:32.280Z"
   },
   {
    "duration": 35,
    "start_time": "2021-08-07T20:11:32.752Z"
   },
   {
    "duration": 1627,
    "start_time": "2021-08-07T20:11:33.288Z"
   },
   {
    "duration": 22,
    "start_time": "2021-08-07T20:11:34.918Z"
   },
   {
    "duration": 1389,
    "start_time": "2021-08-07T20:11:49.376Z"
   },
   {
    "duration": 275,
    "start_time": "2021-08-07T20:29:40.874Z"
   },
   {
    "duration": 2055,
    "start_time": "2021-08-07T20:30:09.082Z"
   },
   {
    "duration": 76,
    "start_time": "2021-08-07T20:30:11.141Z"
   },
   {
    "duration": 17,
    "start_time": "2021-08-07T20:30:11.221Z"
   },
   {
    "duration": 25,
    "start_time": "2021-08-07T20:30:11.242Z"
   },
   {
    "duration": 8,
    "start_time": "2021-08-07T20:30:11.271Z"
   },
   {
    "duration": 17,
    "start_time": "2021-08-07T20:30:11.282Z"
   },
   {
    "duration": 62,
    "start_time": "2021-08-07T20:30:11.301Z"
   },
   {
    "duration": 1462,
    "start_time": "2021-08-07T20:30:11.367Z"
   },
   {
    "duration": 36,
    "start_time": "2021-08-07T20:30:12.831Z"
   },
   {
    "duration": 225,
    "start_time": "2021-08-07T20:30:12.869Z"
   },
   {
    "duration": 6,
    "start_time": "2021-08-07T20:30:13.097Z"
   },
   {
    "duration": 66,
    "start_time": "2021-08-07T20:30:13.105Z"
   },
   {
    "duration": 266,
    "start_time": "2021-08-07T20:30:13.264Z"
   },
   {
    "duration": 131,
    "start_time": "2021-08-07T20:30:13.533Z"
   },
   {
    "duration": 600,
    "start_time": "2021-08-07T20:30:13.668Z"
   },
   {
    "duration": 38,
    "start_time": "2021-08-07T20:32:39.621Z"
   },
   {
    "duration": 659,
    "start_time": "2021-08-07T20:37:55.966Z"
   },
   {
    "duration": 580,
    "start_time": "2021-08-07T20:38:14.743Z"
   },
   {
    "duration": 412,
    "start_time": "2021-08-07T20:41:37.816Z"
   },
   {
    "duration": 517,
    "start_time": "2021-08-07T20:43:13.553Z"
   },
   {
    "duration": 445,
    "start_time": "2021-08-08T09:22:26.544Z"
   },
   {
    "duration": 339,
    "start_time": "2021-08-08T09:22:28.897Z"
   },
   {
    "duration": 1528,
    "start_time": "2021-08-08T09:22:34.223Z"
   },
   {
    "duration": 53,
    "start_time": "2021-08-08T09:22:35.754Z"
   },
   {
    "duration": 11,
    "start_time": "2021-08-08T09:22:35.813Z"
   },
   {
    "duration": 7,
    "start_time": "2021-08-08T09:22:35.827Z"
   },
   {
    "duration": 6,
    "start_time": "2021-08-08T09:22:35.857Z"
   },
   {
    "duration": 14,
    "start_time": "2021-08-08T09:22:35.866Z"
   },
   {
    "duration": 34,
    "start_time": "2021-08-08T09:22:35.883Z"
   },
   {
    "duration": 1468,
    "start_time": "2021-08-08T09:22:35.920Z"
   },
   {
    "duration": 20,
    "start_time": "2021-08-08T09:22:37.390Z"
   },
   {
    "duration": 216,
    "start_time": "2021-08-08T09:22:37.412Z"
   },
   {
    "duration": 211,
    "start_time": "2021-08-08T09:22:37.630Z"
   },
   {
    "duration": 14,
    "start_time": "2021-08-08T09:22:37.843Z"
   },
   {
    "duration": 185,
    "start_time": "2021-08-08T09:22:37.859Z"
   },
   {
    "duration": 35,
    "start_time": "2021-08-08T09:22:38.046Z"
   },
   {
    "duration": 554,
    "start_time": "2021-08-08T09:22:38.084Z"
   },
   {
    "duration": 892,
    "start_time": "2021-08-08T09:22:37.749Z"
   },
   {
    "duration": 574,
    "start_time": "2021-08-08T09:24:25.214Z"
   },
   {
    "duration": 544,
    "start_time": "2021-08-08T09:25:09.350Z"
   },
   {
    "duration": 634,
    "start_time": "2021-08-08T09:25:18.159Z"
   },
   {
    "duration": 202,
    "start_time": "2021-08-08T09:26:07.783Z"
   },
   {
    "duration": 214,
    "start_time": "2021-08-08T09:26:44.983Z"
   },
   {
    "duration": 204,
    "start_time": "2021-08-08T09:26:55.423Z"
   },
   {
    "duration": 385,
    "start_time": "2021-08-08T09:27:35.111Z"
   },
   {
    "duration": 6,
    "start_time": "2021-08-08T09:27:43.735Z"
   },
   {
    "duration": 1358,
    "start_time": "2021-08-08T09:29:57.335Z"
   },
   {
    "duration": 1338,
    "start_time": "2021-08-08T09:30:11.647Z"
   },
   {
    "duration": 650,
    "start_time": "2021-08-08T09:34:34.017Z"
   },
   {
    "duration": 20,
    "start_time": "2021-08-08T09:38:16.601Z"
   },
   {
    "duration": 32,
    "start_time": "2021-08-08T09:45:39.576Z"
   },
   {
    "duration": 353,
    "start_time": "2021-08-08T09:47:22.338Z"
   },
   {
    "duration": 372,
    "start_time": "2021-08-08T09:48:28.114Z"
   },
   {
    "duration": 380,
    "start_time": "2021-08-08T09:49:25.947Z"
   },
   {
    "duration": 370,
    "start_time": "2021-08-08T09:49:47.987Z"
   },
   {
    "duration": 34,
    "start_time": "2021-08-08T09:50:04.275Z"
   },
   {
    "duration": 29,
    "start_time": "2021-08-08T09:54:58.625Z"
   },
   {
    "duration": 362,
    "start_time": "2021-08-08T09:55:12.748Z"
   },
   {
    "duration": 395,
    "start_time": "2021-08-08T09:57:04.286Z"
   },
   {
    "duration": 453,
    "start_time": "2021-08-08T09:57:13.980Z"
   },
   {
    "duration": 1146,
    "start_time": "2021-08-08T09:57:52.485Z"
   },
   {
    "duration": 623,
    "start_time": "2021-08-08T09:58:09.100Z"
   },
   {
    "duration": 477,
    "start_time": "2021-08-08T10:01:00.548Z"
   },
   {
    "duration": 1542,
    "start_time": "2021-08-08T10:01:06.281Z"
   },
   {
    "duration": 54,
    "start_time": "2021-08-08T10:01:07.826Z"
   },
   {
    "duration": 11,
    "start_time": "2021-08-08T10:01:07.883Z"
   },
   {
    "duration": 10,
    "start_time": "2021-08-08T10:01:07.897Z"
   },
   {
    "duration": 9,
    "start_time": "2021-08-08T10:01:07.910Z"
   },
   {
    "duration": 36,
    "start_time": "2021-08-08T10:01:07.921Z"
   },
   {
    "duration": 37,
    "start_time": "2021-08-08T10:01:07.960Z"
   },
   {
    "duration": 1440,
    "start_time": "2021-08-08T10:01:08.001Z"
   },
   {
    "duration": 30,
    "start_time": "2021-08-08T10:01:09.444Z"
   },
   {
    "duration": 449,
    "start_time": "2021-08-08T10:01:09.476Z"
   },
   {
    "duration": 6,
    "start_time": "2021-08-08T10:01:09.929Z"
   },
   {
    "duration": 209,
    "start_time": "2021-08-08T10:01:09.957Z"
   },
   {
    "duration": 32,
    "start_time": "2021-08-08T10:01:10.168Z"
   },
   {
    "duration": 500,
    "start_time": "2021-08-08T10:01:10.203Z"
   },
   {
    "duration": 57,
    "start_time": "2021-08-08T10:01:10.706Z"
   },
   {
    "duration": 597,
    "start_time": "2021-08-08T10:01:10.767Z"
   },
   {
    "duration": 1552,
    "start_time": "2021-08-08T10:02:04.909Z"
   },
   {
    "duration": 53,
    "start_time": "2021-08-08T10:02:06.463Z"
   },
   {
    "duration": 12,
    "start_time": "2021-08-08T10:02:06.519Z"
   },
   {
    "duration": 23,
    "start_time": "2021-08-08T10:02:06.533Z"
   },
   {
    "duration": 8,
    "start_time": "2021-08-08T10:02:06.559Z"
   },
   {
    "duration": 11,
    "start_time": "2021-08-08T10:02:06.570Z"
   },
   {
    "duration": 35,
    "start_time": "2021-08-08T10:02:06.583Z"
   },
   {
    "duration": 1369,
    "start_time": "2021-08-08T10:02:06.657Z"
   },
   {
    "duration": 31,
    "start_time": "2021-08-08T10:02:08.029Z"
   },
   {
    "duration": 407,
    "start_time": "2021-08-08T10:02:08.063Z"
   },
   {
    "duration": 6,
    "start_time": "2021-08-08T10:02:08.472Z"
   },
   {
    "duration": 207,
    "start_time": "2021-08-08T10:02:08.481Z"
   },
   {
    "duration": 28,
    "start_time": "2021-08-08T10:02:08.691Z"
   },
   {
    "duration": 483,
    "start_time": "2021-08-08T10:02:08.722Z"
   },
   {
    "duration": 148,
    "start_time": "2021-08-08T10:02:09.208Z"
   },
   {
    "duration": 601,
    "start_time": "2021-08-08T10:02:09.359Z"
   },
   {
    "duration": 565,
    "start_time": "2021-08-08T10:02:34.212Z"
   },
   {
    "duration": 1496,
    "start_time": "2021-08-08T10:02:44.102Z"
   },
   {
    "duration": 56,
    "start_time": "2021-08-08T10:02:45.601Z"
   },
   {
    "duration": 12,
    "start_time": "2021-08-08T10:02:45.660Z"
   },
   {
    "duration": 18,
    "start_time": "2021-08-08T10:02:45.675Z"
   },
   {
    "duration": 12,
    "start_time": "2021-08-08T10:02:45.696Z"
   },
   {
    "duration": 17,
    "start_time": "2021-08-08T10:02:45.711Z"
   },
   {
    "duration": 55,
    "start_time": "2021-08-08T10:02:45.731Z"
   },
   {
    "duration": 1415,
    "start_time": "2021-08-08T10:02:45.789Z"
   },
   {
    "duration": 21,
    "start_time": "2021-08-08T10:02:47.207Z"
   },
   {
    "duration": 417,
    "start_time": "2021-08-08T10:02:47.256Z"
   },
   {
    "duration": 6,
    "start_time": "2021-08-08T10:02:47.675Z"
   },
   {
    "duration": 205,
    "start_time": "2021-08-08T10:02:47.684Z"
   },
   {
    "duration": 30,
    "start_time": "2021-08-08T10:02:47.891Z"
   },
   {
    "duration": 476,
    "start_time": "2021-08-08T10:02:47.923Z"
   },
   {
    "duration": 60,
    "start_time": "2021-08-08T10:02:48.402Z"
   },
   {
    "duration": 595,
    "start_time": "2021-08-08T10:02:48.466Z"
   },
   {
    "duration": 595,
    "start_time": "2021-08-08T10:04:22.697Z"
   },
   {
    "duration": 367,
    "start_time": "2021-08-08T10:05:16.529Z"
   },
   {
    "duration": 356,
    "start_time": "2021-08-08T10:05:25.705Z"
   },
   {
    "duration": 398,
    "start_time": "2021-08-08T10:06:25.369Z"
   },
   {
    "duration": 1485,
    "start_time": "2021-08-08T10:06:52.863Z"
   },
   {
    "duration": 56,
    "start_time": "2021-08-08T10:06:54.351Z"
   },
   {
    "duration": 14,
    "start_time": "2021-08-08T10:06:54.411Z"
   },
   {
    "duration": 30,
    "start_time": "2021-08-08T10:06:54.427Z"
   },
   {
    "duration": 6,
    "start_time": "2021-08-08T10:06:54.459Z"
   },
   {
    "duration": 7,
    "start_time": "2021-08-08T10:06:54.468Z"
   },
   {
    "duration": 37,
    "start_time": "2021-08-08T10:06:54.477Z"
   },
   {
    "duration": 1428,
    "start_time": "2021-08-08T10:06:54.518Z"
   },
   {
    "duration": 21,
    "start_time": "2021-08-08T10:06:55.957Z"
   },
   {
    "duration": 430,
    "start_time": "2021-08-08T10:06:55.980Z"
   },
   {
    "duration": 6,
    "start_time": "2021-08-08T10:06:56.413Z"
   },
   {
    "duration": 202,
    "start_time": "2021-08-08T10:06:56.421Z"
   },
   {
    "duration": 43,
    "start_time": "2021-08-08T10:06:56.625Z"
   },
   {
    "duration": 503,
    "start_time": "2021-08-08T10:06:56.670Z"
   },
   {
    "duration": 886,
    "start_time": "2021-08-08T10:06:56.291Z"
   },
   {
    "duration": 885,
    "start_time": "2021-08-08T10:06:56.294Z"
   },
   {
    "duration": 392,
    "start_time": "2021-08-08T10:07:10.307Z"
   },
   {
    "duration": 479,
    "start_time": "2021-08-08T10:07:23.812Z"
   },
   {
    "duration": 486,
    "start_time": "2021-08-08T10:08:06.731Z"
   },
   {
    "duration": 510,
    "start_time": "2021-08-08T10:08:29.876Z"
   },
   {
    "duration": 468,
    "start_time": "2021-08-08T10:08:36.835Z"
   },
   {
    "duration": 329,
    "start_time": "2021-08-08T10:10:41.051Z"
   },
   {
    "duration": 33,
    "start_time": "2021-08-08T10:11:16.540Z"
   },
   {
    "duration": 347,
    "start_time": "2021-08-08T10:13:20.132Z"
   },
   {
    "duration": 323,
    "start_time": "2021-08-08T10:13:45.052Z"
   },
   {
    "duration": 1565,
    "start_time": "2021-08-08T10:14:44.647Z"
   },
   {
    "duration": 53,
    "start_time": "2021-08-08T10:14:46.214Z"
   },
   {
    "duration": 12,
    "start_time": "2021-08-08T10:14:46.270Z"
   },
   {
    "duration": 7,
    "start_time": "2021-08-08T10:14:46.285Z"
   },
   {
    "duration": 17,
    "start_time": "2021-08-08T10:14:46.295Z"
   },
   {
    "duration": 25,
    "start_time": "2021-08-08T10:14:46.315Z"
   },
   {
    "duration": 49,
    "start_time": "2021-08-08T10:14:46.342Z"
   },
   {
    "duration": 1401,
    "start_time": "2021-08-08T10:14:46.394Z"
   },
   {
    "duration": 21,
    "start_time": "2021-08-08T10:14:47.799Z"
   },
   {
    "duration": 432,
    "start_time": "2021-08-08T10:14:47.823Z"
   },
   {
    "duration": 6,
    "start_time": "2021-08-08T10:14:48.258Z"
   },
   {
    "duration": 202,
    "start_time": "2021-08-08T10:14:48.266Z"
   },
   {
    "duration": 32,
    "start_time": "2021-08-08T10:14:48.471Z"
   },
   {
    "duration": 363,
    "start_time": "2021-08-08T10:14:48.506Z"
   },
   {
    "duration": 93,
    "start_time": "2021-08-08T10:14:48.871Z"
   },
   {
    "duration": 692,
    "start_time": "2021-08-08T10:14:48.967Z"
   },
   {
    "duration": 348,
    "start_time": "2021-08-08T10:15:09.949Z"
   },
   {
    "duration": 414,
    "start_time": "2021-08-08T10:15:21.628Z"
   },
   {
    "duration": 352,
    "start_time": "2021-08-08T10:15:35.028Z"
   },
   {
    "duration": 315,
    "start_time": "2021-08-08T10:15:44.854Z"
   },
   {
    "duration": 32,
    "start_time": "2021-08-08T10:15:52.005Z"
   },
   {
    "duration": 342,
    "start_time": "2021-08-08T10:15:53.029Z"
   },
   {
    "duration": 526,
    "start_time": "2021-08-08T10:17:50.597Z"
   },
   {
    "duration": 450,
    "start_time": "2021-08-08T10:17:56.029Z"
   },
   {
    "duration": 412,
    "start_time": "2021-08-08T10:18:04.173Z"
   },
   {
    "duration": 28,
    "start_time": "2021-08-08T10:19:52.485Z"
   },
   {
    "duration": 712,
    "start_time": "2021-08-08T10:20:45.486Z"
   },
   {
    "duration": 1591,
    "start_time": "2021-08-08T10:21:06.329Z"
   },
   {
    "duration": 54,
    "start_time": "2021-08-08T10:21:07.923Z"
   },
   {
    "duration": 12,
    "start_time": "2021-08-08T10:21:07.980Z"
   },
   {
    "duration": 6,
    "start_time": "2021-08-08T10:21:07.995Z"
   },
   {
    "duration": 12,
    "start_time": "2021-08-08T10:21:08.003Z"
   },
   {
    "duration": 39,
    "start_time": "2021-08-08T10:21:08.017Z"
   },
   {
    "duration": 35,
    "start_time": "2021-08-08T10:21:08.058Z"
   },
   {
    "duration": 1404,
    "start_time": "2021-08-08T10:21:08.096Z"
   },
   {
    "duration": 19,
    "start_time": "2021-08-08T10:21:09.502Z"
   },
   {
    "duration": 433,
    "start_time": "2021-08-08T10:21:09.523Z"
   },
   {
    "duration": 6,
    "start_time": "2021-08-08T10:21:09.958Z"
   },
   {
    "duration": 206,
    "start_time": "2021-08-08T10:21:09.966Z"
   },
   {
    "duration": 30,
    "start_time": "2021-08-08T10:21:10.175Z"
   },
   {
    "duration": 449,
    "start_time": "2021-08-08T10:21:10.207Z"
   },
   {
    "duration": 103,
    "start_time": "2021-08-08T10:21:10.659Z"
   },
   {
    "duration": 692,
    "start_time": "2021-08-08T10:21:10.765Z"
   },
   {
    "duration": 6,
    "start_time": "2021-08-08T10:22:07.045Z"
   },
   {
    "duration": 47,
    "start_time": "2021-08-08T10:22:07.653Z"
   },
   {
    "duration": 12,
    "start_time": "2021-08-08T10:22:08.373Z"
   },
   {
    "duration": 7,
    "start_time": "2021-08-08T10:22:11.357Z"
   },
   {
    "duration": 6,
    "start_time": "2021-08-08T10:22:13.677Z"
   },
   {
    "duration": 8,
    "start_time": "2021-08-08T10:22:14.661Z"
   },
   {
    "duration": 34,
    "start_time": "2021-08-08T10:22:15.062Z"
   },
   {
    "duration": 1532,
    "start_time": "2021-08-08T10:22:16.885Z"
   },
   {
    "duration": 18,
    "start_time": "2021-08-08T10:22:18.693Z"
   },
   {
    "duration": 403,
    "start_time": "2021-08-08T10:22:21.285Z"
   },
   {
    "duration": 6,
    "start_time": "2021-08-08T10:22:23.342Z"
   },
   {
    "duration": 173,
    "start_time": "2021-08-08T10:22:26.765Z"
   },
   {
    "duration": 507,
    "start_time": "2021-08-08T10:22:28.757Z"
   },
   {
    "duration": 34,
    "start_time": "2021-08-08T10:22:45.822Z"
   },
   {
    "duration": 44,
    "start_time": "2021-08-08T10:24:25.742Z"
   },
   {
    "duration": 38,
    "start_time": "2021-08-08T10:27:02.415Z"
   },
   {
    "duration": 36,
    "start_time": "2021-08-08T10:27:16.822Z"
   },
   {
    "duration": 43,
    "start_time": "2021-08-08T10:27:33.726Z"
   },
   {
    "duration": 427,
    "start_time": "2021-08-08T10:27:37.902Z"
   },
   {
    "duration": 357,
    "start_time": "2021-08-08T10:27:47.102Z"
   },
   {
    "duration": 361,
    "start_time": "2021-08-08T10:27:55.446Z"
   },
   {
    "duration": 1606,
    "start_time": "2021-08-08T10:28:14.067Z"
   },
   {
    "duration": 58,
    "start_time": "2021-08-08T10:28:15.676Z"
   },
   {
    "duration": 22,
    "start_time": "2021-08-08T10:28:15.738Z"
   },
   {
    "duration": 6,
    "start_time": "2021-08-08T10:28:15.763Z"
   },
   {
    "duration": 14,
    "start_time": "2021-08-08T10:28:15.771Z"
   },
   {
    "duration": 16,
    "start_time": "2021-08-08T10:28:15.787Z"
   },
   {
    "duration": 65,
    "start_time": "2021-08-08T10:28:15.806Z"
   },
   {
    "duration": 1393,
    "start_time": "2021-08-08T10:28:15.876Z"
   },
   {
    "duration": 26,
    "start_time": "2021-08-08T10:28:17.273Z"
   },
   {
    "duration": 466,
    "start_time": "2021-08-08T10:28:17.302Z"
   },
   {
    "duration": 6,
    "start_time": "2021-08-08T10:28:17.770Z"
   },
   {
    "duration": 214,
    "start_time": "2021-08-08T10:28:17.778Z"
   },
   {
    "duration": 36,
    "start_time": "2021-08-08T10:28:17.994Z"
   },
   {
    "duration": 410,
    "start_time": "2021-08-08T10:28:18.056Z"
   },
   {
    "duration": 87,
    "start_time": "2021-08-08T10:28:18.469Z"
   },
   {
    "duration": 598,
    "start_time": "2021-08-08T10:28:18.560Z"
   },
   {
    "duration": 465,
    "start_time": "2021-08-08T10:30:36.597Z"
   },
   {
    "duration": 2157,
    "start_time": "2021-08-08T10:44:10.934Z"
   },
   {
    "duration": 42407,
    "start_time": "2021-08-08T10:44:36.935Z"
   },
   {
    "duration": 2028,
    "start_time": "2021-08-08T10:46:22.214Z"
   },
   {
    "duration": 21796,
    "start_time": "2021-08-08T10:46:42.641Z"
   },
   {
    "duration": 21959,
    "start_time": "2021-08-08T10:50:46.591Z"
   },
   {
    "duration": 24,
    "start_time": "2021-08-08T10:52:24.377Z"
   },
   {
    "duration": 15644,
    "start_time": "2021-08-08T10:53:19.664Z"
   },
   {
    "duration": 23,
    "start_time": "2021-08-08T10:53:56.521Z"
   },
   {
    "duration": 24,
    "start_time": "2021-08-08T10:54:02.065Z"
   },
   {
    "duration": 23,
    "start_time": "2021-08-08T10:54:08.136Z"
   },
   {
    "duration": 1075,
    "start_time": "2021-08-08T10:54:30.881Z"
   },
   {
    "duration": 2049,
    "start_time": "2021-08-08T10:54:41.609Z"
   },
   {
    "duration": 2108,
    "start_time": "2021-08-08T10:54:53.089Z"
   },
   {
    "duration": 2065,
    "start_time": "2021-08-08T10:55:14.977Z"
   },
   {
    "duration": 1097,
    "start_time": "2021-08-08T10:55:42.761Z"
   },
   {
    "duration": 522,
    "start_time": "2021-08-08T10:57:16.438Z"
   },
   {
    "duration": 569,
    "start_time": "2021-08-08T10:57:59.729Z"
   },
   {
    "duration": 26271,
    "start_time": "2021-08-08T10:59:41.986Z"
   },
   {
    "duration": 24523,
    "start_time": "2021-08-08T11:00:34.442Z"
   },
   {
    "duration": 71,
    "start_time": "2021-08-08T11:02:31.163Z"
   },
   {
    "duration": 548,
    "start_time": "2021-08-08T11:05:05.594Z"
   },
   {
    "duration": 30497,
    "start_time": "2021-08-08T11:06:16.515Z"
   },
   {
    "duration": 688,
    "start_time": "2021-08-08T11:11:40.268Z"
   },
   {
    "duration": 525,
    "start_time": "2021-08-08T11:12:41.612Z"
   },
   {
    "duration": 1634,
    "start_time": "2021-08-08T11:12:47.932Z"
   },
   {
    "duration": 54,
    "start_time": "2021-08-08T11:12:49.568Z"
   },
   {
    "duration": 11,
    "start_time": "2021-08-08T11:12:49.625Z"
   },
   {
    "duration": 19,
    "start_time": "2021-08-08T11:12:49.638Z"
   },
   {
    "duration": 6,
    "start_time": "2021-08-08T11:12:49.659Z"
   },
   {
    "duration": 9,
    "start_time": "2021-08-08T11:12:49.667Z"
   },
   {
    "duration": 39,
    "start_time": "2021-08-08T11:12:49.679Z"
   },
   {
    "duration": 1392,
    "start_time": "2021-08-08T11:12:49.722Z"
   },
   {
    "duration": 21,
    "start_time": "2021-08-08T11:12:51.116Z"
   },
   {
    "duration": 402,
    "start_time": "2021-08-08T11:12:51.156Z"
   },
   {
    "duration": 6,
    "start_time": "2021-08-08T11:12:51.560Z"
   },
   {
    "duration": 201,
    "start_time": "2021-08-08T11:12:51.568Z"
   },
   {
    "duration": 37,
    "start_time": "2021-08-08T11:12:51.772Z"
   },
   {
    "duration": 501,
    "start_time": "2021-08-08T11:12:51.811Z"
   },
   {
    "duration": 558,
    "start_time": "2021-08-08T11:12:52.315Z"
   },
   {
    "duration": 30561,
    "start_time": "2021-08-08T11:12:52.875Z"
   },
   {
    "duration": 579,
    "start_time": "2021-08-08T11:13:23.438Z"
   },
   {
    "duration": 46,
    "start_time": "2021-08-08T11:13:24.020Z"
   },
   {
    "duration": 501,
    "start_time": "2021-08-08T11:13:24.158Z"
   },
   {
    "duration": 493,
    "start_time": "2021-08-08T11:15:16.589Z"
   },
   {
    "duration": 1516,
    "start_time": "2021-08-08T11:15:22.463Z"
   },
   {
    "duration": 55,
    "start_time": "2021-08-08T11:15:23.981Z"
   },
   {
    "duration": 24,
    "start_time": "2021-08-08T11:15:24.043Z"
   },
   {
    "duration": 7,
    "start_time": "2021-08-08T11:15:24.069Z"
   },
   {
    "duration": 7,
    "start_time": "2021-08-08T11:15:24.078Z"
   },
   {
    "duration": 12,
    "start_time": "2021-08-08T11:15:24.087Z"
   },
   {
    "duration": 71,
    "start_time": "2021-08-08T11:15:24.101Z"
   },
   {
    "duration": 1340,
    "start_time": "2021-08-08T11:15:24.176Z"
   },
   {
    "duration": 19,
    "start_time": "2021-08-08T11:15:25.518Z"
   },
   {
    "duration": 405,
    "start_time": "2021-08-08T11:15:25.556Z"
   },
   {
    "duration": 6,
    "start_time": "2021-08-08T11:15:25.963Z"
   },
   {
    "duration": 203,
    "start_time": "2021-08-08T11:15:25.972Z"
   },
   {
    "duration": 36,
    "start_time": "2021-08-08T11:15:26.177Z"
   },
   {
    "duration": 445,
    "start_time": "2021-08-08T11:15:26.215Z"
   },
   {
    "duration": 602,
    "start_time": "2021-08-08T11:15:26.663Z"
   },
   {
    "duration": 30226,
    "start_time": "2021-08-08T11:15:27.268Z"
   },
   {
    "duration": 583,
    "start_time": "2021-08-08T11:15:57.496Z"
   },
   {
    "duration": 77,
    "start_time": "2021-08-08T11:15:58.081Z"
   },
   {
    "duration": 598,
    "start_time": "2021-08-08T11:15:58.162Z"
   },
   {
    "duration": 572,
    "start_time": "2021-08-08T11:15:58.764Z"
   },
   {
    "duration": 1576,
    "start_time": "2021-08-08T11:16:04.880Z"
   },
   {
    "duration": 675,
    "start_time": "2021-08-08T11:16:06.458Z"
   },
   {
    "duration": 13,
    "start_time": "2021-08-08T11:16:07.136Z"
   },
   {
    "duration": 6,
    "start_time": "2021-08-08T11:16:07.152Z"
   },
   {
    "duration": 7,
    "start_time": "2021-08-08T11:16:07.161Z"
   },
   {
    "duration": 8,
    "start_time": "2021-08-08T11:16:07.170Z"
   },
   {
    "duration": 36,
    "start_time": "2021-08-08T11:16:07.180Z"
   },
   {
    "duration": 1648,
    "start_time": "2021-08-08T11:16:07.219Z"
   },
   {
    "duration": 22,
    "start_time": "2021-08-08T11:16:08.871Z"
   },
   {
    "duration": 460,
    "start_time": "2021-08-08T11:16:08.896Z"
   },
   {
    "duration": 8,
    "start_time": "2021-08-08T11:16:09.359Z"
   },
   {
    "duration": 358,
    "start_time": "2021-08-08T11:16:09.370Z"
   },
   {
    "duration": 44,
    "start_time": "2021-08-08T11:16:09.731Z"
   },
   {
    "duration": 416,
    "start_time": "2021-08-08T11:16:09.777Z"
   },
   {
    "duration": 584,
    "start_time": "2021-08-08T11:16:10.195Z"
   },
   {
    "duration": 30375,
    "start_time": "2021-08-08T11:16:10.782Z"
   },
   {
    "duration": 598,
    "start_time": "2021-08-08T11:16:41.159Z"
   },
   {
    "duration": 19,
    "start_time": "2021-08-08T11:16:41.759Z"
   },
   {
    "duration": 678,
    "start_time": "2021-08-08T11:16:41.782Z"
   },
   {
    "duration": 474,
    "start_time": "2021-08-08T11:18:35.750Z"
   },
   {
    "duration": 1539,
    "start_time": "2021-08-08T11:18:40.917Z"
   },
   {
    "duration": 54,
    "start_time": "2021-08-08T11:18:42.458Z"
   },
   {
    "duration": 13,
    "start_time": "2021-08-08T11:18:42.515Z"
   },
   {
    "duration": 6,
    "start_time": "2021-08-08T11:18:42.530Z"
   },
   {
    "duration": 6,
    "start_time": "2021-08-08T11:18:42.556Z"
   },
   {
    "duration": 10,
    "start_time": "2021-08-08T11:18:42.565Z"
   },
   {
    "duration": 34,
    "start_time": "2021-08-08T11:18:42.577Z"
   },
   {
    "duration": 1397,
    "start_time": "2021-08-08T11:18:42.615Z"
   },
   {
    "duration": 18,
    "start_time": "2021-08-08T11:18:44.015Z"
   },
   {
    "duration": 424,
    "start_time": "2021-08-08T11:18:44.035Z"
   },
   {
    "duration": 6,
    "start_time": "2021-08-08T11:18:44.462Z"
   },
   {
    "duration": 206,
    "start_time": "2021-08-08T11:18:44.471Z"
   },
   {
    "duration": 38,
    "start_time": "2021-08-08T11:18:44.680Z"
   },
   {
    "duration": 459,
    "start_time": "2021-08-08T11:18:44.720Z"
   },
   {
    "duration": 585,
    "start_time": "2021-08-08T11:18:45.182Z"
   },
   {
    "duration": 30887,
    "start_time": "2021-08-08T11:18:45.769Z"
   },
   {
    "duration": 606,
    "start_time": "2021-08-08T11:19:16.658Z"
   },
   {
    "duration": 490,
    "start_time": "2021-08-08T11:19:17.266Z"
   },
   {
    "duration": 19,
    "start_time": "2021-08-08T11:19:17.758Z"
   },
   {
    "duration": 584,
    "start_time": "2021-08-08T11:19:17.780Z"
   },
   {
    "duration": 1507,
    "start_time": "2021-08-08T11:20:39.733Z"
   },
   {
    "duration": 55,
    "start_time": "2021-08-08T11:20:41.242Z"
   },
   {
    "duration": 13,
    "start_time": "2021-08-08T11:20:41.301Z"
   },
   {
    "duration": 6,
    "start_time": "2021-08-08T11:20:41.318Z"
   },
   {
    "duration": 6,
    "start_time": "2021-08-08T11:20:41.356Z"
   },
   {
    "duration": 14,
    "start_time": "2021-08-08T11:20:41.364Z"
   },
   {
    "duration": 34,
    "start_time": "2021-08-08T11:20:41.381Z"
   },
   {
    "duration": 1390,
    "start_time": "2021-08-08T11:20:41.419Z"
   },
   {
    "duration": 20,
    "start_time": "2021-08-08T11:20:42.812Z"
   },
   {
    "duration": 414,
    "start_time": "2021-08-08T11:20:42.834Z"
   },
   {
    "duration": 7,
    "start_time": "2021-08-08T11:20:43.251Z"
   },
   {
    "duration": 203,
    "start_time": "2021-08-08T11:20:43.261Z"
   },
   {
    "duration": 36,
    "start_time": "2021-08-08T11:20:43.466Z"
   },
   {
    "duration": 453,
    "start_time": "2021-08-08T11:20:43.505Z"
   },
   {
    "duration": 586,
    "start_time": "2021-08-08T11:20:43.961Z"
   },
   {
    "duration": 30421,
    "start_time": "2021-08-08T11:20:44.550Z"
   },
   {
    "duration": 611,
    "start_time": "2021-08-08T11:21:14.973Z"
   },
   {
    "duration": 472,
    "start_time": "2021-08-08T11:21:15.586Z"
   },
   {
    "duration": 100,
    "start_time": "2021-08-08T11:21:16.061Z"
   },
   {
    "duration": 1124,
    "start_time": "2021-08-08T11:21:16.166Z"
   },
   {
    "duration": 64,
    "start_time": "2021-08-08T11:22:44.992Z"
   },
   {
    "duration": 39,
    "start_time": "2021-08-08T11:22:53.217Z"
   },
   {
    "duration": 1557,
    "start_time": "2021-08-08T11:24:02.886Z"
   },
   {
    "duration": 55,
    "start_time": "2021-08-08T11:24:04.446Z"
   },
   {
    "duration": 11,
    "start_time": "2021-08-08T11:24:04.504Z"
   },
   {
    "duration": 22,
    "start_time": "2021-08-08T11:24:04.518Z"
   },
   {
    "duration": 19,
    "start_time": "2021-08-08T11:24:04.542Z"
   },
   {
    "duration": 17,
    "start_time": "2021-08-08T11:24:04.563Z"
   },
   {
    "duration": 52,
    "start_time": "2021-08-08T11:24:04.582Z"
   },
   {
    "duration": 1375,
    "start_time": "2021-08-08T11:24:04.638Z"
   },
   {
    "duration": 18,
    "start_time": "2021-08-08T11:24:06.016Z"
   },
   {
    "duration": 422,
    "start_time": "2021-08-08T11:24:06.036Z"
   },
   {
    "duration": 6,
    "start_time": "2021-08-08T11:24:06.461Z"
   },
   {
    "duration": 199,
    "start_time": "2021-08-08T11:24:06.469Z"
   },
   {
    "duration": 36,
    "start_time": "2021-08-08T11:24:06.670Z"
   },
   {
    "duration": 477,
    "start_time": "2021-08-08T11:24:06.708Z"
   },
   {
    "duration": 572,
    "start_time": "2021-08-08T11:24:07.187Z"
   },
   {
    "duration": 29904,
    "start_time": "2021-08-08T11:24:07.761Z"
   },
   {
    "duration": 568,
    "start_time": "2021-08-08T11:24:37.667Z"
   },
   {
    "duration": 496,
    "start_time": "2021-08-08T11:24:38.237Z"
   },
   {
    "duration": 44,
    "start_time": "2021-08-08T11:24:38.736Z"
   },
   {
    "duration": 672,
    "start_time": "2021-08-08T11:24:38.783Z"
   },
   {
    "duration": 33,
    "start_time": "2021-08-08T11:26:07.873Z"
   },
   {
    "duration": 670,
    "start_time": "2021-08-08T11:26:11.602Z"
   },
   {
    "duration": 2152,
    "start_time": "2021-08-08T11:26:46.306Z"
   },
   {
    "duration": 587,
    "start_time": "2021-08-08T11:32:22.754Z"
   },
   {
    "duration": 47,
    "start_time": "2021-08-08T11:32:39.955Z"
   },
   {
    "duration": 113,
    "start_time": "2021-08-08T11:39:51.004Z"
   },
   {
    "duration": 109,
    "start_time": "2021-08-08T11:40:00.956Z"
   },
   {
    "duration": 203,
    "start_time": "2021-08-08T11:42:34.102Z"
   },
   {
    "duration": 258,
    "start_time": "2021-08-08T11:44:53.445Z"
   },
   {
    "duration": 326,
    "start_time": "2021-08-08T11:46:09.774Z"
   },
   {
    "duration": 6,
    "start_time": "2021-08-08T11:48:09.261Z"
   },
   {
    "duration": 65,
    "start_time": "2021-08-08T11:48:10.700Z"
   },
   {
    "duration": 436,
    "start_time": "2021-08-08T11:49:18.974Z"
   },
   {
    "duration": 297,
    "start_time": "2021-08-08T11:49:52.207Z"
   },
   {
    "duration": 318,
    "start_time": "2021-08-08T11:50:08.094Z"
   },
   {
    "duration": 373,
    "start_time": "2021-08-08T11:59:19.933Z"
   },
   {
    "duration": 91,
    "start_time": "2021-08-08T11:59:29.872Z"
   },
   {
    "duration": 477,
    "start_time": "2021-08-08T11:59:55.097Z"
   },
   {
    "duration": 171,
    "start_time": "2021-08-08T12:00:08.785Z"
   },
   {
    "duration": 184,
    "start_time": "2021-08-08T12:00:23.672Z"
   },
   {
    "duration": 98,
    "start_time": "2021-08-08T12:08:06.065Z"
   },
   {
    "duration": 384,
    "start_time": "2021-08-08T12:09:32.874Z"
   },
   {
    "duration": 405,
    "start_time": "2021-08-08T12:09:51.977Z"
   },
   {
    "duration": 197,
    "start_time": "2021-08-08T12:11:16.458Z"
   },
   {
    "duration": 78,
    "start_time": "2021-08-08T12:11:52.889Z"
   },
   {
    "duration": 131,
    "start_time": "2021-08-08T12:12:38.330Z"
   },
   {
    "duration": 91,
    "start_time": "2021-08-08T12:12:47.474Z"
   },
   {
    "duration": 396,
    "start_time": "2021-08-08T12:12:54.890Z"
   },
   {
    "duration": 401,
    "start_time": "2021-08-08T12:16:20.562Z"
   },
   {
    "duration": 576,
    "start_time": "2021-08-08T12:19:26.890Z"
   },
   {
    "duration": 439,
    "start_time": "2021-08-08T12:24:05.941Z"
   },
   {
    "duration": 291,
    "start_time": "2021-08-08T12:25:39.485Z"
   },
   {
    "duration": 1557,
    "start_time": "2021-08-08T12:28:50.401Z"
   },
   {
    "duration": 53,
    "start_time": "2021-08-08T12:28:51.961Z"
   },
   {
    "duration": 11,
    "start_time": "2021-08-08T12:28:52.017Z"
   },
   {
    "duration": 6,
    "start_time": "2021-08-08T12:28:52.031Z"
   },
   {
    "duration": 5,
    "start_time": "2021-08-08T12:28:52.057Z"
   },
   {
    "duration": 12,
    "start_time": "2021-08-08T12:28:52.065Z"
   },
   {
    "duration": 38,
    "start_time": "2021-08-08T12:28:52.080Z"
   },
   {
    "duration": 1398,
    "start_time": "2021-08-08T12:28:52.122Z"
   },
   {
    "duration": 32,
    "start_time": "2021-08-08T12:28:53.524Z"
   },
   {
    "duration": 401,
    "start_time": "2021-08-08T12:28:53.558Z"
   },
   {
    "duration": 6,
    "start_time": "2021-08-08T12:28:53.961Z"
   },
   {
    "duration": 201,
    "start_time": "2021-08-08T12:28:53.970Z"
   },
   {
    "duration": 38,
    "start_time": "2021-08-08T12:28:54.174Z"
   },
   {
    "duration": 450,
    "start_time": "2021-08-08T12:28:54.214Z"
   },
   {
    "duration": 589,
    "start_time": "2021-08-08T12:28:54.667Z"
   },
   {
    "duration": 31584,
    "start_time": "2021-08-08T12:28:55.258Z"
   },
   {
    "duration": 651,
    "start_time": "2021-08-08T12:29:26.845Z"
   },
   {
    "duration": 493,
    "start_time": "2021-08-08T12:29:27.498Z"
   },
   {
    "duration": 171,
    "start_time": "2021-08-08T12:29:27.993Z"
   },
   {
    "duration": 197,
    "start_time": "2021-08-08T12:29:28.168Z"
   },
   {
    "duration": 404,
    "start_time": "2021-08-08T12:29:28.457Z"
   },
   {
    "duration": 1501,
    "start_time": "2021-08-08T12:29:28.863Z"
   },
   {
    "duration": 403,
    "start_time": "2021-08-08T12:29:30.459Z"
   },
   {
    "duration": 694,
    "start_time": "2021-08-08T12:29:30.865Z"
   },
   {
    "duration": 409,
    "start_time": "2021-08-08T12:29:31.561Z"
   },
   {
    "duration": 311,
    "start_time": "2021-08-08T12:29:31.972Z"
   },
   {
    "duration": 284,
    "start_time": "2021-08-08T12:29:32.285Z"
   },
   {
    "duration": 396,
    "start_time": "2021-08-08T12:30:25.962Z"
   },
   {
    "duration": 560,
    "start_time": "2021-08-08T12:32:37.220Z"
   },
   {
    "duration": 6,
    "start_time": "2021-08-08T12:32:53.444Z"
   },
   {
    "duration": 9,
    "start_time": "2021-08-08T12:32:59.243Z"
   },
   {
    "duration": 114,
    "start_time": "2021-08-08T12:38:49.076Z"
   },
   {
    "duration": 116,
    "start_time": "2021-08-08T12:40:18.940Z"
   },
   {
    "duration": 379,
    "start_time": "2021-08-08T12:40:29.837Z"
   },
   {
    "duration": 6,
    "start_time": "2021-08-08T12:41:30.270Z"
   },
   {
    "duration": 7,
    "start_time": "2021-08-08T12:41:35.014Z"
   },
   {
    "duration": 11,
    "start_time": "2021-08-08T12:41:56.838Z"
   },
   {
    "duration": 9,
    "start_time": "2021-08-08T12:44:23.246Z"
   },
   {
    "duration": 10,
    "start_time": "2021-08-08T12:47:17.956Z"
   },
   {
    "duration": 7,
    "start_time": "2021-08-08T13:32:02.182Z"
   },
   {
    "duration": 6,
    "start_time": "2021-08-08T13:32:12.440Z"
   },
   {
    "duration": 7,
    "start_time": "2021-08-08T13:32:24.672Z"
   },
   {
    "duration": 1635,
    "start_time": "2021-08-08T13:32:30.628Z"
   },
   {
    "duration": 54,
    "start_time": "2021-08-08T13:32:32.266Z"
   },
   {
    "duration": 11,
    "start_time": "2021-08-08T13:32:32.325Z"
   },
   {
    "duration": 23,
    "start_time": "2021-08-08T13:32:32.338Z"
   },
   {
    "duration": 26,
    "start_time": "2021-08-08T13:32:32.363Z"
   },
   {
    "duration": 28,
    "start_time": "2021-08-08T13:32:32.391Z"
   },
   {
    "duration": 38,
    "start_time": "2021-08-08T13:32:32.422Z"
   },
   {
    "duration": 1377,
    "start_time": "2021-08-08T13:32:32.463Z"
   },
   {
    "duration": 28,
    "start_time": "2021-08-08T13:32:33.843Z"
   },
   {
    "duration": 420,
    "start_time": "2021-08-08T13:32:33.874Z"
   },
   {
    "duration": 6,
    "start_time": "2021-08-08T13:32:34.296Z"
   },
   {
    "duration": 206,
    "start_time": "2021-08-08T13:32:34.304Z"
   },
   {
    "duration": 49,
    "start_time": "2021-08-08T13:32:34.512Z"
   },
   {
    "duration": 425,
    "start_time": "2021-08-08T13:32:34.563Z"
   },
   {
    "duration": 565,
    "start_time": "2021-08-08T13:32:34.991Z"
   },
   {
    "duration": 30432,
    "start_time": "2021-08-08T13:32:35.558Z"
   },
   {
    "duration": 587,
    "start_time": "2021-08-08T13:33:05.993Z"
   },
   {
    "duration": 474,
    "start_time": "2021-08-08T13:33:06.582Z"
   },
   {
    "duration": 109,
    "start_time": "2021-08-08T13:33:07.059Z"
   },
   {
    "duration": 110,
    "start_time": "2021-08-08T13:33:07.255Z"
   },
   {
    "duration": 414,
    "start_time": "2021-08-08T13:33:07.457Z"
   },
   {
    "duration": 1580,
    "start_time": "2021-08-08T13:33:07.875Z"
   },
   {
    "duration": 498,
    "start_time": "2021-08-08T13:33:09.458Z"
   },
   {
    "duration": 601,
    "start_time": "2021-08-08T13:33:09.959Z"
   },
   {
    "duration": 400,
    "start_time": "2021-08-08T13:33:10.562Z"
   },
   {
    "duration": 296,
    "start_time": "2021-08-08T13:33:10.964Z"
   },
   {
    "duration": 8,
    "start_time": "2021-08-08T13:33:11.262Z"
   },
   {
    "duration": 10,
    "start_time": "2021-08-08T13:33:11.273Z"
   },
   {
    "duration": 588,
    "start_time": "2021-08-08T13:53:27.232Z"
   },
   {
    "duration": 6,
    "start_time": "2021-08-08T14:06:04.676Z"
   },
   {
    "duration": 6,
    "start_time": "2021-08-08T14:06:24.091Z"
   },
   {
    "duration": 7,
    "start_time": "2021-08-08T14:08:05.467Z"
   },
   {
    "duration": 7,
    "start_time": "2021-08-08T14:10:29.733Z"
   },
   {
    "duration": 7,
    "start_time": "2021-08-08T14:11:33.524Z"
   },
   {
    "duration": 577,
    "start_time": "2021-08-08T14:24:19.734Z"
   },
   {
    "duration": 471,
    "start_time": "2021-08-08T14:25:08.984Z"
   },
   {
    "duration": 1529,
    "start_time": "2021-08-08T14:25:47.929Z"
   },
   {
    "duration": 584,
    "start_time": "2021-08-08T14:26:52.833Z"
   },
   {
    "duration": 7,
    "start_time": "2021-08-08T14:30:46.841Z"
   },
   {
    "duration": 568,
    "start_time": "2021-08-08T14:30:58.961Z"
   },
   {
    "duration": 1819,
    "start_time": "2021-08-08T16:28:05.450Z"
   },
   {
    "duration": 58,
    "start_time": "2021-08-08T16:28:07.272Z"
   },
   {
    "duration": 11,
    "start_time": "2021-08-08T16:28:07.333Z"
   },
   {
    "duration": 19,
    "start_time": "2021-08-08T16:28:07.346Z"
   },
   {
    "duration": 24,
    "start_time": "2021-08-08T16:28:07.367Z"
   },
   {
    "duration": 15,
    "start_time": "2021-08-08T16:28:07.394Z"
   },
   {
    "duration": 52,
    "start_time": "2021-08-08T16:28:07.411Z"
   },
   {
    "duration": 1761,
    "start_time": "2021-08-08T16:28:07.467Z"
   },
   {
    "duration": 74,
    "start_time": "2021-08-08T16:28:09.231Z"
   },
   {
    "duration": 556,
    "start_time": "2021-08-08T16:28:09.307Z"
   },
   {
    "duration": 6,
    "start_time": "2021-08-08T16:28:09.865Z"
   },
   {
    "duration": 194,
    "start_time": "2021-08-08T16:28:09.873Z"
   },
   {
    "duration": 48,
    "start_time": "2021-08-08T16:28:10.070Z"
   },
   {
    "duration": 404,
    "start_time": "2021-08-08T16:28:10.120Z"
   },
   {
    "duration": 578,
    "start_time": "2021-08-08T16:28:10.526Z"
   },
   {
    "duration": 32672,
    "start_time": "2021-08-08T16:28:11.106Z"
   },
   {
    "duration": 590,
    "start_time": "2021-08-08T16:28:43.780Z"
   },
   {
    "duration": 534,
    "start_time": "2021-08-08T16:28:44.373Z"
   },
   {
    "duration": 96,
    "start_time": "2021-08-08T16:28:44.909Z"
   },
   {
    "duration": 300,
    "start_time": "2021-08-08T16:28:45.008Z"
   },
   {
    "duration": 505,
    "start_time": "2021-08-08T16:28:45.311Z"
   },
   {
    "duration": 1487,
    "start_time": "2021-08-08T16:28:45.818Z"
   },
   {
    "duration": 499,
    "start_time": "2021-08-08T16:28:47.406Z"
   },
   {
    "duration": 698,
    "start_time": "2021-08-08T16:28:47.909Z"
   },
   {
    "duration": 509,
    "start_time": "2021-08-08T16:28:48.610Z"
   },
   {
    "duration": 302,
    "start_time": "2021-08-08T16:28:49.122Z"
   },
   {
    "duration": 9,
    "start_time": "2021-08-08T16:28:49.428Z"
   },
   {
    "duration": 1463,
    "start_time": "2021-08-08T16:57:09.242Z"
   },
   {
    "duration": 54,
    "start_time": "2021-08-08T16:57:10.707Z"
   },
   {
    "duration": 12,
    "start_time": "2021-08-08T16:57:10.764Z"
   },
   {
    "duration": 23,
    "start_time": "2021-08-08T16:57:10.778Z"
   },
   {
    "duration": 6,
    "start_time": "2021-08-08T16:57:10.804Z"
   },
   {
    "duration": 9,
    "start_time": "2021-08-08T16:57:10.812Z"
   },
   {
    "duration": 35,
    "start_time": "2021-08-08T16:57:10.823Z"
   },
   {
    "duration": 1715,
    "start_time": "2021-08-08T16:57:10.861Z"
   },
   {
    "duration": 41,
    "start_time": "2021-08-08T16:57:12.583Z"
   },
   {
    "duration": 431,
    "start_time": "2021-08-08T16:57:12.629Z"
   },
   {
    "duration": 7,
    "start_time": "2021-08-08T16:57:13.062Z"
   },
   {
    "duration": 206,
    "start_time": "2021-08-08T16:57:13.072Z"
   },
   {
    "duration": 48,
    "start_time": "2021-08-08T16:57:13.281Z"
   },
   {
    "duration": 494,
    "start_time": "2021-08-08T16:57:13.332Z"
   },
   {
    "duration": 581,
    "start_time": "2021-08-08T16:57:13.829Z"
   },
   {
    "duration": 31722,
    "start_time": "2021-08-08T16:57:14.413Z"
   },
   {
    "duration": 597,
    "start_time": "2021-08-08T16:57:46.137Z"
   },
   {
    "duration": 508,
    "start_time": "2021-08-08T16:57:46.737Z"
   },
   {
    "duration": 160,
    "start_time": "2021-08-08T16:57:47.248Z"
   },
   {
    "duration": 107,
    "start_time": "2021-08-08T16:57:47.502Z"
   },
   {
    "duration": 404,
    "start_time": "2021-08-08T16:57:47.702Z"
   },
   {
    "duration": 1593,
    "start_time": "2021-08-08T16:57:48.109Z"
   },
   {
    "duration": 595,
    "start_time": "2021-08-08T16:57:49.706Z"
   },
   {
    "duration": 601,
    "start_time": "2021-08-08T16:57:50.303Z"
   },
   {
    "duration": 425,
    "start_time": "2021-08-08T16:57:50.906Z"
   },
   {
    "duration": 307,
    "start_time": "2021-08-08T16:57:51.333Z"
   },
   {
    "duration": 8,
    "start_time": "2021-08-08T16:57:51.645Z"
   },
   {
    "duration": 1171,
    "start_time": "2021-08-09T18:20:35.923Z"
   },
   {
    "duration": 345,
    "start_time": "2021-08-09T18:25:42.674Z"
   },
   {
    "duration": 1144,
    "start_time": "2021-08-09T18:25:55.704Z"
   },
   {
    "duration": 38,
    "start_time": "2021-08-09T18:25:56.849Z"
   },
   {
    "duration": 9,
    "start_time": "2021-08-09T18:25:56.892Z"
   },
   {
    "duration": 5,
    "start_time": "2021-08-09T18:25:56.903Z"
   },
   {
    "duration": 6,
    "start_time": "2021-08-09T18:25:56.909Z"
   },
   {
    "duration": 26,
    "start_time": "2021-08-09T18:25:56.916Z"
   },
   {
    "duration": 22,
    "start_time": "2021-08-09T18:25:56.945Z"
   },
   {
    "duration": 846,
    "start_time": "2021-08-09T18:25:56.969Z"
   },
   {
    "duration": 32,
    "start_time": "2021-08-09T18:25:57.817Z"
   },
   {
    "duration": 330,
    "start_time": "2021-08-09T18:25:57.851Z"
   },
   {
    "duration": -12,
    "start_time": "2021-08-09T18:25:58.195Z"
   },
   {
    "duration": -17,
    "start_time": "2021-08-09T18:25:58.201Z"
   },
   {
    "duration": -23,
    "start_time": "2021-08-09T18:25:58.209Z"
   },
   {
    "duration": -29,
    "start_time": "2021-08-09T18:25:58.216Z"
   },
   {
    "duration": -34,
    "start_time": "2021-08-09T18:25:58.222Z"
   },
   {
    "duration": -42,
    "start_time": "2021-08-09T18:25:58.231Z"
   },
   {
    "duration": -44,
    "start_time": "2021-08-09T18:25:58.234Z"
   },
   {
    "duration": -49,
    "start_time": "2021-08-09T18:25:58.240Z"
   },
   {
    "duration": -52,
    "start_time": "2021-08-09T18:25:58.245Z"
   },
   {
    "duration": -57,
    "start_time": "2021-08-09T18:25:58.252Z"
   },
   {
    "duration": -61,
    "start_time": "2021-08-09T18:25:58.257Z"
   },
   {
    "duration": -65,
    "start_time": "2021-08-09T18:25:58.262Z"
   },
   {
    "duration": -70,
    "start_time": "2021-08-09T18:25:58.268Z"
   },
   {
    "duration": -74,
    "start_time": "2021-08-09T18:25:58.273Z"
   },
   {
    "duration": -76,
    "start_time": "2021-08-09T18:25:58.276Z"
   },
   {
    "duration": -81,
    "start_time": "2021-08-09T18:25:58.282Z"
   },
   {
    "duration": -85,
    "start_time": "2021-08-09T18:25:58.287Z"
   },
   {
    "duration": -90,
    "start_time": "2021-08-09T18:25:58.293Z"
   },
   {
    "duration": 256,
    "start_time": "2021-08-09T18:27:16.864Z"
   },
   {
    "duration": 4,
    "start_time": "2021-08-09T18:29:11.095Z"
   },
   {
    "duration": 265,
    "start_time": "2021-08-09T18:37:06.810Z"
   },
   {
    "duration": 4,
    "start_time": "2021-08-09T18:37:16.776Z"
   },
   {
    "duration": 35,
    "start_time": "2021-08-09T18:37:18.082Z"
   },
   {
    "duration": 8,
    "start_time": "2021-08-09T18:37:19.105Z"
   },
   {
    "duration": 4,
    "start_time": "2021-08-09T18:37:19.609Z"
   },
   {
    "duration": 5,
    "start_time": "2021-08-09T18:37:20.417Z"
   },
   {
    "duration": 6,
    "start_time": "2021-08-09T18:37:21.529Z"
   },
   {
    "duration": 22,
    "start_time": "2021-08-09T18:37:23.993Z"
   },
   {
    "duration": 878,
    "start_time": "2021-08-09T18:37:27.186Z"
   },
   {
    "duration": 11,
    "start_time": "2021-08-09T18:37:29.305Z"
   },
   {
    "duration": 5,
    "start_time": "2021-08-09T18:37:29.913Z"
   },
   {
    "duration": 350,
    "start_time": "2021-08-09T18:38:01.433Z"
   },
   {
    "duration": 5,
    "start_time": "2021-08-09T18:38:06.913Z"
   },
   {
    "duration": 134,
    "start_time": "2021-08-09T18:38:30.081Z"
   },
   {
    "duration": 200,
    "start_time": "2021-08-09T18:38:37.609Z"
   },
   {
    "duration": 36,
    "start_time": "2021-08-09T18:39:26.602Z"
   },
   {
    "duration": 819,
    "start_time": "2021-08-09T18:39:32.585Z"
   },
   {
    "duration": 46,
    "start_time": "2021-08-09T18:39:59.002Z"
   },
   {
    "duration": 395,
    "start_time": "2021-08-09T18:40:52.082Z"
   },
   {
    "duration": 379,
    "start_time": "2021-08-09T18:41:40.882Z"
   },
   {
    "duration": 6,
    "start_time": "2021-08-09T18:42:51.266Z"
   },
   {
    "duration": 285,
    "start_time": "2021-08-09T18:43:09.474Z"
   },
   {
    "duration": 1195,
    "start_time": "2021-08-09T18:43:30.837Z"
   },
   {
    "duration": 39,
    "start_time": "2021-08-09T18:43:32.034Z"
   },
   {
    "duration": 8,
    "start_time": "2021-08-09T18:43:32.075Z"
   },
   {
    "duration": 14,
    "start_time": "2021-08-09T18:43:32.085Z"
   },
   {
    "duration": 5,
    "start_time": "2021-08-09T18:43:32.101Z"
   },
   {
    "duration": 8,
    "start_time": "2021-08-09T18:43:32.107Z"
   },
   {
    "duration": 42,
    "start_time": "2021-08-09T18:43:32.116Z"
   },
   {
    "duration": 889,
    "start_time": "2021-08-09T18:43:32.160Z"
   },
   {
    "duration": 383,
    "start_time": "2021-08-09T18:43:33.052Z"
   },
   {
    "duration": 1,
    "start_time": "2021-08-09T18:43:33.436Z"
   },
   {
    "duration": 0,
    "start_time": "2021-08-09T18:43:33.438Z"
   },
   {
    "duration": -2,
    "start_time": "2021-08-09T18:43:33.441Z"
   },
   {
    "duration": -3,
    "start_time": "2021-08-09T18:43:33.443Z"
   },
   {
    "duration": -4,
    "start_time": "2021-08-09T18:43:33.445Z"
   },
   {
    "duration": -10,
    "start_time": "2021-08-09T18:43:33.453Z"
   },
   {
    "duration": -15,
    "start_time": "2021-08-09T18:43:33.458Z"
   },
   {
    "duration": -17,
    "start_time": "2021-08-09T18:43:33.461Z"
   },
   {
    "duration": -19,
    "start_time": "2021-08-09T18:43:33.464Z"
   },
   {
    "duration": -21,
    "start_time": "2021-08-09T18:43:33.467Z"
   },
   {
    "duration": -24,
    "start_time": "2021-08-09T18:43:33.470Z"
   },
   {
    "duration": -25,
    "start_time": "2021-08-09T18:43:33.472Z"
   },
   {
    "duration": -27,
    "start_time": "2021-08-09T18:43:33.475Z"
   },
   {
    "duration": -30,
    "start_time": "2021-08-09T18:43:33.479Z"
   },
   {
    "duration": -32,
    "start_time": "2021-08-09T18:43:33.482Z"
   },
   {
    "duration": -33,
    "start_time": "2021-08-09T18:43:33.484Z"
   },
   {
    "duration": -41,
    "start_time": "2021-08-09T18:43:33.492Z"
   },
   {
    "duration": -42,
    "start_time": "2021-08-09T18:43:33.494Z"
   },
   {
    "duration": -43,
    "start_time": "2021-08-09T18:43:33.496Z"
   },
   {
    "duration": 5,
    "start_time": "2021-08-09T18:43:59.316Z"
   },
   {
    "duration": 270,
    "start_time": "2021-08-09T18:44:00.620Z"
   },
   {
    "duration": 1326,
    "start_time": "2021-08-09T18:44:06.759Z"
   },
   {
    "duration": 41,
    "start_time": "2021-08-09T18:44:08.087Z"
   },
   {
    "duration": 11,
    "start_time": "2021-08-09T18:44:08.130Z"
   },
   {
    "duration": 5,
    "start_time": "2021-08-09T18:44:08.142Z"
   },
   {
    "duration": 6,
    "start_time": "2021-08-09T18:44:08.148Z"
   },
   {
    "duration": 6,
    "start_time": "2021-08-09T18:44:08.156Z"
   },
   {
    "duration": 22,
    "start_time": "2021-08-09T18:44:08.164Z"
   },
   {
    "duration": 936,
    "start_time": "2021-08-09T18:44:08.190Z"
   },
   {
    "duration": 15,
    "start_time": "2021-08-09T18:44:09.128Z"
   },
   {
    "duration": 336,
    "start_time": "2021-08-09T18:44:09.145Z"
   },
   {
    "duration": 0,
    "start_time": "2021-08-09T18:44:09.483Z"
   },
   {
    "duration": -5,
    "start_time": "2021-08-09T18:44:09.489Z"
   },
   {
    "duration": -10,
    "start_time": "2021-08-09T18:44:09.495Z"
   },
   {
    "duration": -16,
    "start_time": "2021-08-09T18:44:09.502Z"
   },
   {
    "duration": -20,
    "start_time": "2021-08-09T18:44:09.507Z"
   },
   {
    "duration": -25,
    "start_time": "2021-08-09T18:44:09.513Z"
   },
   {
    "duration": -30,
    "start_time": "2021-08-09T18:44:09.519Z"
   },
   {
    "duration": -34,
    "start_time": "2021-08-09T18:44:09.524Z"
   },
   {
    "duration": -39,
    "start_time": "2021-08-09T18:44:09.530Z"
   },
   {
    "duration": -43,
    "start_time": "2021-08-09T18:44:09.535Z"
   },
   {
    "duration": -47,
    "start_time": "2021-08-09T18:44:09.541Z"
   },
   {
    "duration": -49,
    "start_time": "2021-08-09T18:44:09.544Z"
   },
   {
    "duration": -53,
    "start_time": "2021-08-09T18:44:09.549Z"
   },
   {
    "duration": -58,
    "start_time": "2021-08-09T18:44:09.554Z"
   },
   {
    "duration": -59,
    "start_time": "2021-08-09T18:44:09.556Z"
   },
   {
    "duration": -60,
    "start_time": "2021-08-09T18:44:09.558Z"
   },
   {
    "duration": -60,
    "start_time": "2021-08-09T18:44:09.559Z"
   },
   {
    "duration": -61,
    "start_time": "2021-08-09T18:44:09.561Z"
   },
   {
    "duration": 296,
    "start_time": "2021-08-09T18:44:28.108Z"
   },
   {
    "duration": 1141,
    "start_time": "2021-08-09T18:44:35.781Z"
   },
   {
    "duration": 39,
    "start_time": "2021-08-09T18:44:36.924Z"
   },
   {
    "duration": 7,
    "start_time": "2021-08-09T18:44:36.965Z"
   },
   {
    "duration": 4,
    "start_time": "2021-08-09T18:44:36.974Z"
   },
   {
    "duration": 5,
    "start_time": "2021-08-09T18:44:36.980Z"
   },
   {
    "duration": 8,
    "start_time": "2021-08-09T18:44:36.986Z"
   },
   {
    "duration": 51,
    "start_time": "2021-08-09T18:44:36.995Z"
   },
   {
    "duration": 894,
    "start_time": "2021-08-09T18:44:37.048Z"
   },
   {
    "duration": 401,
    "start_time": "2021-08-09T18:44:37.944Z"
   },
   {
    "duration": 0,
    "start_time": "2021-08-09T18:44:38.347Z"
   },
   {
    "duration": -2,
    "start_time": "2021-08-09T18:44:38.350Z"
   },
   {
    "duration": -7,
    "start_time": "2021-08-09T18:44:38.356Z"
   },
   {
    "duration": -12,
    "start_time": "2021-08-09T18:44:38.362Z"
   },
   {
    "duration": -16,
    "start_time": "2021-08-09T18:44:38.367Z"
   },
   {
    "duration": -22,
    "start_time": "2021-08-09T18:44:38.374Z"
   },
   {
    "duration": -24,
    "start_time": "2021-08-09T18:44:38.379Z"
   },
   {
    "duration": -27,
    "start_time": "2021-08-09T18:44:38.384Z"
   },
   {
    "duration": -32,
    "start_time": "2021-08-09T18:44:38.390Z"
   },
   {
    "duration": -37,
    "start_time": "2021-08-09T18:44:38.396Z"
   },
   {
    "duration": -38,
    "start_time": "2021-08-09T18:44:38.398Z"
   },
   {
    "duration": -39,
    "start_time": "2021-08-09T18:44:38.400Z"
   },
   {
    "duration": -40,
    "start_time": "2021-08-09T18:44:38.402Z"
   },
   {
    "duration": -42,
    "start_time": "2021-08-09T18:44:38.405Z"
   },
   {
    "duration": -42,
    "start_time": "2021-08-09T18:44:38.406Z"
   },
   {
    "duration": -44,
    "start_time": "2021-08-09T18:44:38.408Z"
   },
   {
    "duration": -45,
    "start_time": "2021-08-09T18:44:38.410Z"
   },
   {
    "duration": -46,
    "start_time": "2021-08-09T18:44:38.412Z"
   },
   {
    "duration": 4,
    "start_time": "2021-08-09T18:54:25.094Z"
   },
   {
    "duration": 34,
    "start_time": "2021-08-09T18:54:32.103Z"
   },
   {
    "duration": 8,
    "start_time": "2021-08-09T18:54:34.230Z"
   },
   {
    "duration": 5,
    "start_time": "2021-08-09T18:54:34.774Z"
   },
   {
    "duration": 5,
    "start_time": "2021-08-09T18:54:36.286Z"
   },
   {
    "duration": 6,
    "start_time": "2021-08-09T18:54:38.598Z"
   },
   {
    "duration": 20,
    "start_time": "2021-08-09T18:54:40.695Z"
   },
   {
    "duration": 856,
    "start_time": "2021-08-09T18:54:47.734Z"
   },
   {
    "duration": 260,
    "start_time": "2021-08-09T18:54:52.783Z"
   },
   {
    "duration": 14,
    "start_time": "2021-08-09T18:55:05.639Z"
   },
   {
    "duration": 17,
    "start_time": "2021-08-09T19:01:26.565Z"
   },
   {
    "duration": 13,
    "start_time": "2021-08-09T19:01:45.328Z"
   },
   {
    "duration": 260,
    "start_time": "2021-08-09T19:01:57.136Z"
   },
   {
    "duration": 299,
    "start_time": "2021-08-09T19:02:23.841Z"
   },
   {
    "duration": 220,
    "start_time": "2021-08-09T19:02:32.648Z"
   },
   {
    "duration": 5,
    "start_time": "2021-08-09T19:02:35.840Z"
   },
   {
    "duration": 382,
    "start_time": "2021-08-09T19:02:43.008Z"
   },
   {
    "duration": 28,
    "start_time": "2021-08-09T19:02:51.817Z"
   },
   {
    "duration": 353,
    "start_time": "2021-08-09T19:03:00.497Z"
   },
   {
    "duration": 378,
    "start_time": "2021-08-09T19:03:05.225Z"
   },
   {
    "duration": 20072,
    "start_time": "2021-08-09T19:03:48.538Z"
   },
   {
    "duration": 320,
    "start_time": "2021-08-09T19:05:51.857Z"
   },
   {
    "duration": 8,
    "start_time": "2021-08-09T19:08:00.723Z"
   },
   {
    "duration": 11,
    "start_time": "2021-08-09T19:09:23.891Z"
   },
   {
    "duration": 13,
    "start_time": "2021-08-09T19:10:23.007Z"
   },
   {
    "duration": 186540,
    "start_time": "2021-08-09T19:10:24.346Z"
   },
   {
    "duration": 411,
    "start_time": "2021-08-09T19:16:29.052Z"
   },
   {
    "duration": 22010,
    "start_time": "2021-08-09T19:16:33.045Z"
   },
   {
    "duration": 21068,
    "start_time": "2021-08-09T19:18:19.236Z"
   },
   {
    "duration": 261,
    "start_time": "2021-08-09T19:18:56.812Z"
   },
   {
    "duration": 310,
    "start_time": "2021-08-09T19:18:59.716Z"
   },
   {
    "duration": 99,
    "start_time": "2021-08-09T19:21:31.652Z"
   },
   {
    "duration": 89,
    "start_time": "2021-08-09T19:21:40.060Z"
   },
   {
    "duration": 303,
    "start_time": "2021-08-09T19:21:50.220Z"
   },
   {
    "duration": 942,
    "start_time": "2021-08-09T19:21:56.302Z"
   },
   {
    "duration": 634,
    "start_time": "2021-08-09T19:25:30.310Z"
   },
   {
    "duration": 344,
    "start_time": "2021-08-09T19:25:59.910Z"
   },
   {
    "duration": 398,
    "start_time": "2021-08-09T19:26:24.126Z"
   },
   {
    "duration": 455,
    "start_time": "2021-08-09T19:30:12.887Z"
   },
   {
    "duration": 705,
    "start_time": "2021-08-09T19:33:57.333Z"
   },
   {
    "duration": 275,
    "start_time": "2021-08-09T19:34:18.262Z"
   },
   {
    "duration": 253,
    "start_time": "2021-08-09T19:34:45.847Z"
   },
   {
    "duration": 1511,
    "start_time": "2021-08-09T19:34:55.735Z"
   },
   {
    "duration": 29,
    "start_time": "2021-08-09T19:34:57.221Z"
   },
   {
    "duration": 27,
    "start_time": "2021-08-09T19:34:57.224Z"
   },
   {
    "duration": 25,
    "start_time": "2021-08-09T19:34:57.227Z"
   },
   {
    "duration": 23,
    "start_time": "2021-08-09T19:34:57.230Z"
   },
   {
    "duration": 22,
    "start_time": "2021-08-09T19:34:57.232Z"
   },
   {
    "duration": 22,
    "start_time": "2021-08-09T19:34:57.234Z"
   },
   {
    "duration": 19,
    "start_time": "2021-08-09T19:34:57.237Z"
   },
   {
    "duration": 14,
    "start_time": "2021-08-09T19:34:57.243Z"
   },
   {
    "duration": 12,
    "start_time": "2021-08-09T19:34:57.246Z"
   },
   {
    "duration": 11,
    "start_time": "2021-08-09T19:34:57.248Z"
   },
   {
    "duration": 10,
    "start_time": "2021-08-09T19:34:57.250Z"
   },
   {
    "duration": 9,
    "start_time": "2021-08-09T19:34:57.252Z"
   },
   {
    "duration": 4,
    "start_time": "2021-08-09T19:34:57.258Z"
   },
   {
    "duration": 2,
    "start_time": "2021-08-09T19:34:57.261Z"
   },
   {
    "duration": -1,
    "start_time": "2021-08-09T19:34:57.264Z"
   },
   {
    "duration": -3,
    "start_time": "2021-08-09T19:34:57.267Z"
   },
   {
    "duration": -4,
    "start_time": "2021-08-09T19:34:57.269Z"
   },
   {
    "duration": -10,
    "start_time": "2021-08-09T19:34:57.276Z"
   },
   {
    "duration": -13,
    "start_time": "2021-08-09T19:34:57.279Z"
   },
   {
    "duration": -13,
    "start_time": "2021-08-09T19:34:57.280Z"
   },
   {
    "duration": -15,
    "start_time": "2021-08-09T19:34:57.283Z"
   },
   {
    "duration": -16,
    "start_time": "2021-08-09T19:34:57.285Z"
   },
   {
    "duration": -19,
    "start_time": "2021-08-09T19:34:57.288Z"
   },
   {
    "duration": -20,
    "start_time": "2021-08-09T19:34:57.290Z"
   },
   {
    "duration": -21,
    "start_time": "2021-08-09T19:34:57.292Z"
   },
   {
    "duration": -22,
    "start_time": "2021-08-09T19:34:57.294Z"
   },
   {
    "duration": -25,
    "start_time": "2021-08-09T19:34:57.297Z"
   },
   {
    "duration": -25,
    "start_time": "2021-08-09T19:34:57.298Z"
   },
   {
    "duration": 4,
    "start_time": "2021-08-09T19:36:25.685Z"
   },
   {
    "duration": 250,
    "start_time": "2021-08-09T19:38:23.899Z"
   },
   {
    "duration": 3,
    "start_time": "2021-08-09T19:41:10.086Z"
   },
   {
    "duration": 13,
    "start_time": "2021-08-09T19:41:17.622Z"
   },
   {
    "duration": 248,
    "start_time": "2021-08-09T19:42:38.630Z"
   },
   {
    "duration": 1175,
    "start_time": "2021-08-09T19:42:59.525Z"
   },
   {
    "duration": 40,
    "start_time": "2021-08-09T19:43:00.702Z"
   },
   {
    "duration": 8,
    "start_time": "2021-08-09T19:43:00.744Z"
   },
   {
    "duration": 14,
    "start_time": "2021-08-09T19:43:00.753Z"
   },
   {
    "duration": 14,
    "start_time": "2021-08-09T19:43:00.768Z"
   },
   {
    "duration": 19,
    "start_time": "2021-08-09T19:43:00.784Z"
   },
   {
    "duration": 48,
    "start_time": "2021-08-09T19:43:00.804Z"
   },
   {
    "duration": 890,
    "start_time": "2021-08-09T19:43:00.855Z"
   },
   {
    "duration": 17,
    "start_time": "2021-08-09T19:43:01.747Z"
   },
   {
    "duration": 13,
    "start_time": "2021-08-09T19:43:01.766Z"
   },
   {
    "duration": 241,
    "start_time": "2021-08-09T19:43:01.780Z"
   },
   {
    "duration": 4,
    "start_time": "2021-08-09T19:43:02.023Z"
   },
   {
    "duration": 392,
    "start_time": "2021-08-09T19:43:02.041Z"
   },
   {
    "duration": 30,
    "start_time": "2021-08-09T19:43:02.440Z"
   },
   {
    "duration": 297,
    "start_time": "2021-08-09T19:43:02.472Z"
   },
   {
    "duration": 347,
    "start_time": "2021-08-09T19:43:02.771Z"
   },
   {
    "duration": 8,
    "start_time": "2021-08-09T19:43:03.113Z"
   },
   {
    "duration": 6,
    "start_time": "2021-08-09T19:43:03.117Z"
   },
   {
    "duration": 1,
    "start_time": "2021-08-09T19:43:03.123Z"
   },
   {
    "duration": -3,
    "start_time": "2021-08-09T19:43:03.128Z"
   },
   {
    "duration": -2,
    "start_time": "2021-08-09T19:43:03.129Z"
   },
   {
    "duration": -7,
    "start_time": "2021-08-09T19:43:03.135Z"
   },
   {
    "duration": -7,
    "start_time": "2021-08-09T19:43:03.137Z"
   },
   {
    "duration": -11,
    "start_time": "2021-08-09T19:43:03.142Z"
   },
   {
    "duration": -14,
    "start_time": "2021-08-09T19:43:03.147Z"
   },
   {
    "duration": -18,
    "start_time": "2021-08-09T19:43:03.152Z"
   },
   {
    "duration": -19,
    "start_time": "2021-08-09T19:43:03.155Z"
   },
   {
    "duration": -23,
    "start_time": "2021-08-09T19:43:03.160Z"
   },
   {
    "duration": -27,
    "start_time": "2021-08-09T19:43:03.165Z"
   },
   {
    "duration": 12,
    "start_time": "2021-08-09T19:44:02.788Z"
   },
   {
    "duration": 1222,
    "start_time": "2021-08-09T19:45:39.057Z"
   },
   {
    "duration": 39,
    "start_time": "2021-08-09T19:45:40.280Z"
   },
   {
    "duration": 8,
    "start_time": "2021-08-09T19:45:40.321Z"
   },
   {
    "duration": 4,
    "start_time": "2021-08-09T19:45:40.331Z"
   },
   {
    "duration": 4,
    "start_time": "2021-08-09T19:45:40.341Z"
   },
   {
    "duration": 7,
    "start_time": "2021-08-09T19:45:40.346Z"
   },
   {
    "duration": 20,
    "start_time": "2021-08-09T19:45:40.355Z"
   },
   {
    "duration": 890,
    "start_time": "2021-08-09T19:45:40.377Z"
   },
   {
    "duration": 16,
    "start_time": "2021-08-09T19:45:41.269Z"
   },
   {
    "duration": 12,
    "start_time": "2021-08-09T19:45:41.286Z"
   },
   {
    "duration": 247,
    "start_time": "2021-08-09T19:45:41.299Z"
   },
   {
    "duration": 4,
    "start_time": "2021-08-09T19:45:41.548Z"
   },
   {
    "duration": 395,
    "start_time": "2021-08-09T19:45:41.553Z"
   },
   {
    "duration": 26,
    "start_time": "2021-08-09T19:45:41.950Z"
   },
   {
    "duration": 281,
    "start_time": "2021-08-09T19:45:41.977Z"
   },
   {
    "duration": 12,
    "start_time": "2021-08-09T19:45:42.259Z"
   },
   {
    "duration": 371,
    "start_time": "2021-08-09T19:45:42.272Z"
   },
   {
    "duration": 21061,
    "start_time": "2021-08-09T19:45:42.644Z"
   },
   {
    "duration": 278,
    "start_time": "2021-08-09T19:46:03.707Z"
   },
   {
    "duration": 343,
    "start_time": "2021-08-09T19:46:03.987Z"
   },
   {
    "duration": 101,
    "start_time": "2021-08-09T19:46:04.340Z"
   },
   {
    "duration": 118,
    "start_time": "2021-08-09T19:46:04.444Z"
   },
   {
    "duration": 386,
    "start_time": "2021-08-09T19:46:04.644Z"
   },
   {
    "duration": 613,
    "start_time": "2021-08-09T19:46:05.032Z"
   },
   {
    "duration": 400,
    "start_time": "2021-08-09T19:46:05.648Z"
   },
   {
    "duration": 469,
    "start_time": "2021-08-09T19:46:06.050Z"
   },
   {
    "duration": 359,
    "start_time": "2021-08-09T19:46:06.521Z"
   },
   {
    "duration": 186,
    "start_time": "2021-08-09T19:46:06.881Z"
   },
   {
    "duration": 6,
    "start_time": "2021-08-09T19:46:07.068Z"
   },
   {
    "duration": 11,
    "start_time": "2021-08-09T19:46:55.676Z"
   },
   {
    "duration": 4,
    "start_time": "2021-08-09T19:52:56.948Z"
   },
   {
    "duration": 1213,
    "start_time": "2021-08-09T19:53:02.017Z"
   },
   {
    "duration": 46,
    "start_time": "2021-08-09T19:53:03.235Z"
   },
   {
    "duration": 8,
    "start_time": "2021-08-09T19:53:03.284Z"
   },
   {
    "duration": 5,
    "start_time": "2021-08-09T19:53:03.294Z"
   },
   {
    "duration": 5,
    "start_time": "2021-08-09T19:53:03.301Z"
   },
   {
    "duration": 6,
    "start_time": "2021-08-09T19:53:03.308Z"
   },
   {
    "duration": 43,
    "start_time": "2021-08-09T19:53:03.317Z"
   },
   {
    "duration": 879,
    "start_time": "2021-08-09T19:53:03.362Z"
   },
   {
    "duration": 15,
    "start_time": "2021-08-09T19:53:04.243Z"
   },
   {
    "duration": 14,
    "start_time": "2021-08-09T19:53:04.260Z"
   },
   {
    "duration": 263,
    "start_time": "2021-08-09T19:53:04.276Z"
   },
   {
    "duration": 5,
    "start_time": "2021-08-09T19:53:04.540Z"
   },
   {
    "duration": 411,
    "start_time": "2021-08-09T19:53:04.546Z"
   },
   {
    "duration": 25,
    "start_time": "2021-08-09T19:53:04.959Z"
   },
   {
    "duration": 301,
    "start_time": "2021-08-09T19:53:04.986Z"
   },
   {
    "duration": 11,
    "start_time": "2021-08-09T19:53:05.289Z"
   },
   {
    "duration": 387,
    "start_time": "2021-08-09T19:53:05.302Z"
   },
   {
    "duration": 20784,
    "start_time": "2021-08-09T19:53:05.691Z"
   },
   {
    "duration": 255,
    "start_time": "2021-08-09T19:53:26.477Z"
   },
   {
    "duration": 366,
    "start_time": "2021-08-09T19:53:26.733Z"
   },
   {
    "duration": 142,
    "start_time": "2021-08-09T19:53:27.100Z"
   },
   {
    "duration": 106,
    "start_time": "2021-08-09T19:53:27.246Z"
   },
   {
    "duration": 401,
    "start_time": "2021-08-09T19:53:27.355Z"
   },
   {
    "duration": 688,
    "start_time": "2021-08-09T19:53:27.757Z"
   },
   {
    "duration": 395,
    "start_time": "2021-08-09T19:53:28.447Z"
   },
   {
    "duration": 481,
    "start_time": "2021-08-09T19:53:28.845Z"
   },
   {
    "duration": 300,
    "start_time": "2021-08-09T19:53:29.328Z"
   },
   {
    "duration": 182,
    "start_time": "2021-08-09T19:53:29.630Z"
   },
   {
    "duration": 6,
    "start_time": "2021-08-09T19:53:29.813Z"
   },
   {
    "duration": 18739,
    "start_time": "2021-08-09T19:57:35.713Z"
   },
   {
    "duration": 507,
    "start_time": "2021-08-09T19:58:21.756Z"
   },
   {
    "duration": 255,
    "start_time": "2021-08-09T19:58:33.388Z"
   },
   {
    "duration": 632,
    "start_time": "2021-08-09T19:58:55.693Z"
   },
   {
    "duration": 637,
    "start_time": "2021-08-09T19:59:52.484Z"
   },
   {
    "duration": 243,
    "start_time": "2021-08-09T20:00:17.981Z"
   },
   {
    "duration": 340,
    "start_time": "2021-08-09T20:11:27.015Z"
   },
   {
    "duration": 1135,
    "start_time": "2021-08-09T20:11:34.745Z"
   },
   {
    "duration": 40,
    "start_time": "2021-08-09T20:11:35.882Z"
   },
   {
    "duration": 8,
    "start_time": "2021-08-09T20:11:35.925Z"
   },
   {
    "duration": 9,
    "start_time": "2021-08-09T20:11:35.934Z"
   },
   {
    "duration": 4,
    "start_time": "2021-08-09T20:11:35.944Z"
   },
   {
    "duration": 7,
    "start_time": "2021-08-09T20:11:35.949Z"
   },
   {
    "duration": 22,
    "start_time": "2021-08-09T20:11:35.958Z"
   },
   {
    "duration": 929,
    "start_time": "2021-08-09T20:11:35.982Z"
   },
   {
    "duration": 15,
    "start_time": "2021-08-09T20:11:36.913Z"
   },
   {
    "duration": 20,
    "start_time": "2021-08-09T20:11:36.929Z"
   },
   {
    "duration": 240,
    "start_time": "2021-08-09T20:11:36.951Z"
   },
   {
    "duration": 6,
    "start_time": "2021-08-09T20:11:37.192Z"
   },
   {
    "duration": 404,
    "start_time": "2021-08-09T20:11:37.199Z"
   },
   {
    "duration": 24,
    "start_time": "2021-08-09T20:11:37.605Z"
   },
   {
    "duration": 327,
    "start_time": "2021-08-09T20:11:37.641Z"
   },
   {
    "duration": 336,
    "start_time": "2021-08-09T20:11:37.970Z"
   },
   {
    "duration": 33,
    "start_time": "2021-08-09T20:11:38.276Z"
   },
   {
    "duration": 31,
    "start_time": "2021-08-09T20:11:38.279Z"
   },
   {
    "duration": 28,
    "start_time": "2021-08-09T20:11:38.284Z"
   },
   {
    "duration": 27,
    "start_time": "2021-08-09T20:11:38.286Z"
   },
   {
    "duration": 26,
    "start_time": "2021-08-09T20:11:38.288Z"
   },
   {
    "duration": 26,
    "start_time": "2021-08-09T20:11:38.290Z"
   },
   {
    "duration": 24,
    "start_time": "2021-08-09T20:11:38.293Z"
   },
   {
    "duration": 24,
    "start_time": "2021-08-09T20:11:38.295Z"
   },
   {
    "duration": 23,
    "start_time": "2021-08-09T20:11:38.297Z"
   },
   {
    "duration": 23,
    "start_time": "2021-08-09T20:11:38.298Z"
   },
   {
    "duration": 22,
    "start_time": "2021-08-09T20:11:38.301Z"
   },
   {
    "duration": 18,
    "start_time": "2021-08-09T20:11:38.306Z"
   },
   {
    "duration": 17,
    "start_time": "2021-08-09T20:11:38.308Z"
   },
   {
    "duration": 6,
    "start_time": "2021-08-09T20:12:10.741Z"
   },
   {
    "duration": 1208,
    "start_time": "2021-08-09T20:12:14.927Z"
   },
   {
    "duration": 40,
    "start_time": "2021-08-09T20:12:16.140Z"
   },
   {
    "duration": 10,
    "start_time": "2021-08-09T20:12:16.186Z"
   },
   {
    "duration": 6,
    "start_time": "2021-08-09T20:12:16.198Z"
   },
   {
    "duration": 5,
    "start_time": "2021-08-09T20:12:16.206Z"
   },
   {
    "duration": 31,
    "start_time": "2021-08-09T20:12:16.213Z"
   },
   {
    "duration": 23,
    "start_time": "2021-08-09T20:12:16.247Z"
   },
   {
    "duration": 872,
    "start_time": "2021-08-09T20:12:16.273Z"
   },
   {
    "duration": 17,
    "start_time": "2021-08-09T20:12:17.147Z"
   },
   {
    "duration": 12,
    "start_time": "2021-08-09T20:12:17.166Z"
   },
   {
    "duration": 257,
    "start_time": "2021-08-09T20:12:17.179Z"
   },
   {
    "duration": 5,
    "start_time": "2021-08-09T20:12:17.440Z"
   },
   {
    "duration": 410,
    "start_time": "2021-08-09T20:12:17.447Z"
   },
   {
    "duration": 27,
    "start_time": "2021-08-09T20:12:17.859Z"
   },
   {
    "duration": 303,
    "start_time": "2021-08-09T20:12:17.888Z"
   },
   {
    "duration": 347,
    "start_time": "2021-08-09T20:12:18.193Z"
   },
   {
    "duration": 18,
    "start_time": "2021-08-09T20:12:18.524Z"
   },
   {
    "duration": 12,
    "start_time": "2021-08-09T20:12:18.531Z"
   },
   {
    "duration": 7,
    "start_time": "2021-08-09T20:12:18.537Z"
   },
   {
    "duration": 1,
    "start_time": "2021-08-09T20:12:18.544Z"
   },
   {
    "duration": -3,
    "start_time": "2021-08-09T20:12:18.549Z"
   },
   {
    "duration": -8,
    "start_time": "2021-08-09T20:12:18.555Z"
   },
   {
    "duration": -12,
    "start_time": "2021-08-09T20:12:18.560Z"
   },
   {
    "duration": -17,
    "start_time": "2021-08-09T20:12:18.566Z"
   },
   {
    "duration": -21,
    "start_time": "2021-08-09T20:12:18.571Z"
   },
   {
    "duration": -25,
    "start_time": "2021-08-09T20:12:18.576Z"
   },
   {
    "duration": -27,
    "start_time": "2021-08-09T20:12:18.579Z"
   },
   {
    "duration": -32,
    "start_time": "2021-08-09T20:12:18.585Z"
   },
   {
    "duration": -36,
    "start_time": "2021-08-09T20:12:18.590Z"
   },
   {
    "duration": 272,
    "start_time": "2021-08-09T20:12:59.168Z"
   },
   {
    "duration": 252,
    "start_time": "2021-08-09T20:13:16.537Z"
   },
   {
    "duration": 188246,
    "start_time": "2021-08-09T20:15:38.359Z"
   },
   {
    "duration": 76,
    "start_time": "2021-08-09T20:20:14.826Z"
   },
   {
    "duration": 246,
    "start_time": "2021-08-09T20:20:39.146Z"
   },
   {
    "duration": 192375,
    "start_time": "2021-08-09T20:22:27.467Z"
   },
   {
    "duration": 262,
    "start_time": "2021-08-09T20:25:39.844Z"
   },
   {
    "duration": 414101,
    "start_time": "2021-08-09T20:35:07.580Z"
   },
   {
    "duration": 1166,
    "start_time": "2021-08-09T20:42:07.875Z"
   },
   {
    "duration": 40,
    "start_time": "2021-08-09T20:42:09.043Z"
   },
   {
    "duration": 9,
    "start_time": "2021-08-09T20:42:09.087Z"
   },
   {
    "duration": 4,
    "start_time": "2021-08-09T20:42:09.098Z"
   },
   {
    "duration": 4,
    "start_time": "2021-08-09T20:42:09.104Z"
   },
   {
    "duration": 6,
    "start_time": "2021-08-09T20:42:09.109Z"
   },
   {
    "duration": 43,
    "start_time": "2021-08-09T20:42:09.118Z"
   },
   {
    "duration": 885,
    "start_time": "2021-08-09T20:42:09.163Z"
   },
   {
    "duration": 20,
    "start_time": "2021-08-09T20:42:10.051Z"
   },
   {
    "duration": 16,
    "start_time": "2021-08-09T20:42:10.073Z"
   },
   {
    "duration": 267,
    "start_time": "2021-08-09T20:42:10.091Z"
   },
   {
    "duration": 5,
    "start_time": "2021-08-09T20:42:10.360Z"
   },
   {
    "duration": 417,
    "start_time": "2021-08-09T20:42:10.367Z"
   },
   {
    "duration": 27,
    "start_time": "2021-08-09T20:42:10.785Z"
   },
   {
    "duration": 371,
    "start_time": "2021-08-09T20:42:10.814Z"
   },
   {
    "duration": 350081,
    "start_time": "2021-08-09T20:42:11.193Z"
   },
   {
    "duration": -7,
    "start_time": "2021-08-09T20:48:01.284Z"
   },
   {
    "duration": -7,
    "start_time": "2021-08-09T20:48:01.286Z"
   },
   {
    "duration": -10,
    "start_time": "2021-08-09T20:48:01.290Z"
   },
   {
    "duration": -11,
    "start_time": "2021-08-09T20:48:01.292Z"
   },
   {
    "duration": -12,
    "start_time": "2021-08-09T20:48:01.294Z"
   },
   {
    "duration": -12,
    "start_time": "2021-08-09T20:48:01.296Z"
   },
   {
    "duration": -13,
    "start_time": "2021-08-09T20:48:01.298Z"
   },
   {
    "duration": -14,
    "start_time": "2021-08-09T20:48:01.301Z"
   },
   {
    "duration": -15,
    "start_time": "2021-08-09T20:48:01.303Z"
   },
   {
    "duration": -16,
    "start_time": "2021-08-09T20:48:01.305Z"
   },
   {
    "duration": -16,
    "start_time": "2021-08-09T20:48:01.307Z"
   },
   {
    "duration": -17,
    "start_time": "2021-08-09T20:48:01.309Z"
   },
   {
    "duration": 78197,
    "start_time": "2021-08-09T20:48:07.076Z"
   },
   {
    "duration": 1122,
    "start_time": "2021-08-09T20:49:35.269Z"
   },
   {
    "duration": 41,
    "start_time": "2021-08-09T20:49:36.392Z"
   },
   {
    "duration": 9,
    "start_time": "2021-08-09T20:49:36.435Z"
   },
   {
    "duration": 10,
    "start_time": "2021-08-09T20:49:36.447Z"
   },
   {
    "duration": 8,
    "start_time": "2021-08-09T20:49:36.459Z"
   },
   {
    "duration": 7,
    "start_time": "2021-08-09T20:49:36.469Z"
   },
   {
    "duration": 21,
    "start_time": "2021-08-09T20:49:36.478Z"
   },
   {
    "duration": 936,
    "start_time": "2021-08-09T20:49:36.501Z"
   },
   {
    "duration": 22,
    "start_time": "2021-08-09T20:49:37.441Z"
   },
   {
    "duration": 13,
    "start_time": "2021-08-09T20:49:37.465Z"
   },
   {
    "duration": 271,
    "start_time": "2021-08-09T20:49:37.479Z"
   },
   {
    "duration": 5,
    "start_time": "2021-08-09T20:49:37.753Z"
   },
   {
    "duration": 417,
    "start_time": "2021-08-09T20:49:37.760Z"
   },
   {
    "duration": 25,
    "start_time": "2021-08-09T20:49:38.178Z"
   },
   {
    "duration": 339,
    "start_time": "2021-08-09T20:49:38.205Z"
   },
   {
    "duration": 315587,
    "start_time": "2021-08-09T20:49:38.546Z"
   },
   {
    "duration": 8,
    "start_time": "2021-08-09T20:54:54.127Z"
   },
   {
    "duration": 6,
    "start_time": "2021-08-09T20:54:54.130Z"
   },
   {
    "duration": 5,
    "start_time": "2021-08-09T20:54:54.132Z"
   },
   {
    "duration": 4,
    "start_time": "2021-08-09T20:54:54.134Z"
   },
   {
    "duration": 3,
    "start_time": "2021-08-09T20:54:54.136Z"
   },
   {
    "duration": 2,
    "start_time": "2021-08-09T20:54:54.139Z"
   },
   {
    "duration": 2,
    "start_time": "2021-08-09T20:54:54.140Z"
   },
   {
    "duration": 2,
    "start_time": "2021-08-09T20:54:54.142Z"
   },
   {
    "duration": 1,
    "start_time": "2021-08-09T20:54:54.144Z"
   },
   {
    "duration": 0,
    "start_time": "2021-08-09T20:54:54.146Z"
   },
   {
    "duration": 0,
    "start_time": "2021-08-09T20:54:54.148Z"
   },
   {
    "duration": -1,
    "start_time": "2021-08-09T20:54:54.150Z"
   },
   {
    "duration": 145409,
    "start_time": "2021-08-09T20:56:32.771Z"
   },
   {
    "duration": 386,
    "start_time": "2021-08-10T18:16:04.750Z"
   },
   {
    "duration": 1885,
    "start_time": "2021-08-10T18:16:09.086Z"
   },
   {
    "duration": 55,
    "start_time": "2021-08-10T18:16:10.973Z"
   },
   {
    "duration": 16,
    "start_time": "2021-08-10T18:16:11.035Z"
   },
   {
    "duration": 32,
    "start_time": "2021-08-10T18:16:11.053Z"
   },
   {
    "duration": 8,
    "start_time": "2021-08-10T18:16:11.088Z"
   },
   {
    "duration": 8,
    "start_time": "2021-08-10T18:16:11.099Z"
   },
   {
    "duration": 84,
    "start_time": "2021-08-10T18:16:11.112Z"
   },
   {
    "duration": 1828,
    "start_time": "2021-08-10T18:16:11.200Z"
   },
   {
    "duration": 52,
    "start_time": "2021-08-10T18:16:13.031Z"
   },
   {
    "duration": 24,
    "start_time": "2021-08-10T18:16:13.086Z"
   },
   {
    "duration": 499,
    "start_time": "2021-08-10T18:16:13.112Z"
   },
   {
    "duration": 8,
    "start_time": "2021-08-10T18:16:13.614Z"
   },
   {
    "duration": 710,
    "start_time": "2021-08-10T18:16:13.625Z"
   },
   {
    "duration": 64,
    "start_time": "2021-08-10T18:16:14.338Z"
   },
   {
    "duration": 588,
    "start_time": "2021-08-10T18:16:14.405Z"
   },
   {
    "duration": 6338,
    "start_time": "2021-08-10T18:16:14.997Z"
   },
   {
    "duration": 868,
    "start_time": "2021-08-10T18:16:20.472Z"
   },
   {
    "duration": 866,
    "start_time": "2021-08-10T18:16:20.475Z"
   },
   {
    "duration": 865,
    "start_time": "2021-08-10T18:16:20.478Z"
   },
   {
    "duration": 864,
    "start_time": "2021-08-10T18:16:20.481Z"
   },
   {
    "duration": 863,
    "start_time": "2021-08-10T18:16:20.483Z"
   },
   {
    "duration": 860,
    "start_time": "2021-08-10T18:16:20.488Z"
   },
   {
    "duration": 861,
    "start_time": "2021-08-10T18:16:20.490Z"
   },
   {
    "duration": 859,
    "start_time": "2021-08-10T18:16:20.493Z"
   },
   {
    "duration": 858,
    "start_time": "2021-08-10T18:16:20.496Z"
   },
   {
    "duration": 840,
    "start_time": "2021-08-10T18:16:20.515Z"
   },
   {
    "duration": 838,
    "start_time": "2021-08-10T18:16:20.518Z"
   },
   {
    "duration": 838,
    "start_time": "2021-08-10T18:16:20.520Z"
   },
   {
    "duration": 3,
    "start_time": "2021-08-10T18:17:50.760Z"
   },
   {
    "duration": 1580,
    "start_time": "2021-08-10T18:19:03.759Z"
   },
   {
    "duration": 33499,
    "start_time": "2021-08-10T18:19:26.456Z"
   },
   {
    "duration": 570,
    "start_time": "2021-08-10T18:20:36.175Z"
   },
   {
    "duration": 413,
    "start_time": "2021-08-10T18:20:52.023Z"
   },
   {
    "duration": 189,
    "start_time": "2021-08-10T18:21:11.295Z"
   },
   {
    "duration": 118,
    "start_time": "2021-08-10T18:22:36.968Z"
   },
   {
    "duration": 391,
    "start_time": "2021-08-10T18:22:44.207Z"
   },
   {
    "duration": 896,
    "start_time": "2021-08-10T18:22:49.200Z"
   },
   {
    "duration": 387,
    "start_time": "2021-08-10T18:23:05.904Z"
   },
   {
    "duration": 571,
    "start_time": "2021-08-10T18:23:37.344Z"
   },
   {
    "duration": 411,
    "start_time": "2021-08-10T18:23:48.257Z"
   },
   {
    "duration": 294,
    "start_time": "2021-08-10T18:23:50.791Z"
   },
   {
    "duration": 7,
    "start_time": "2021-08-10T18:23:54.744Z"
   },
   {
    "duration": 306,
    "start_time": "2021-08-10T18:31:09.891Z"
   },
   {
    "duration": 308,
    "start_time": "2021-08-10T18:31:45.938Z"
   },
   {
    "duration": 363,
    "start_time": "2021-08-10T18:39:38.762Z"
   },
   {
    "duration": 1466,
    "start_time": "2021-08-10T18:39:47.313Z"
   },
   {
    "duration": 51,
    "start_time": "2021-08-10T18:39:48.783Z"
   },
   {
    "duration": 11,
    "start_time": "2021-08-10T18:39:48.837Z"
   },
   {
    "duration": 9,
    "start_time": "2021-08-10T18:39:48.851Z"
   },
   {
    "duration": 24,
    "start_time": "2021-08-10T18:39:48.863Z"
   },
   {
    "duration": 9,
    "start_time": "2021-08-10T18:39:48.889Z"
   },
   {
    "duration": 46,
    "start_time": "2021-08-10T18:39:48.901Z"
   },
   {
    "duration": 1341,
    "start_time": "2021-08-10T18:39:48.983Z"
   },
   {
    "duration": 25,
    "start_time": "2021-08-10T18:39:50.327Z"
   },
   {
    "duration": 463,
    "start_time": "2021-08-10T18:39:50.354Z"
   },
   {
    "duration": 890,
    "start_time": "2021-08-10T18:39:49.930Z"
   },
   {
    "duration": 884,
    "start_time": "2021-08-10T18:39:49.937Z"
   },
   {
    "duration": 880,
    "start_time": "2021-08-10T18:39:49.943Z"
   },
   {
    "duration": 872,
    "start_time": "2021-08-10T18:39:49.952Z"
   },
   {
    "duration": 869,
    "start_time": "2021-08-10T18:39:49.958Z"
   },
   {
    "duration": 864,
    "start_time": "2021-08-10T18:39:49.964Z"
   },
   {
    "duration": 859,
    "start_time": "2021-08-10T18:39:49.970Z"
   },
   {
    "duration": 858,
    "start_time": "2021-08-10T18:39:49.973Z"
   },
   {
    "duration": 858,
    "start_time": "2021-08-10T18:39:49.975Z"
   },
   {
    "duration": 856,
    "start_time": "2021-08-10T18:39:49.978Z"
   },
   {
    "duration": 855,
    "start_time": "2021-08-10T18:39:49.980Z"
   },
   {
    "duration": 855,
    "start_time": "2021-08-10T18:39:49.982Z"
   },
   {
    "duration": 854,
    "start_time": "2021-08-10T18:39:49.984Z"
   },
   {
    "duration": 853,
    "start_time": "2021-08-10T18:39:49.986Z"
   },
   {
    "duration": 853,
    "start_time": "2021-08-10T18:39:49.988Z"
   },
   {
    "duration": 852,
    "start_time": "2021-08-10T18:39:49.990Z"
   },
   {
    "duration": 851,
    "start_time": "2021-08-10T18:39:49.992Z"
   },
   {
    "duration": 850,
    "start_time": "2021-08-10T18:39:49.994Z"
   },
   {
    "duration": 851,
    "start_time": "2021-08-10T18:39:49.995Z"
   },
   {
    "duration": 280,
    "start_time": "2021-08-10T18:40:29.479Z"
   },
   {
    "duration": 17,
    "start_time": "2021-08-10T18:40:39.695Z"
   },
   {
    "duration": 399,
    "start_time": "2021-08-10T18:40:55.846Z"
   },
   {
    "duration": 6,
    "start_time": "2021-08-10T18:40:58.758Z"
   },
   {
    "duration": 862,
    "start_time": "2021-08-10T18:41:08.359Z"
   },
   {
    "duration": 58,
    "start_time": "2021-08-10T18:41:22.384Z"
   },
   {
    "duration": 518,
    "start_time": "2021-08-10T18:41:25.790Z"
   },
   {
    "duration": 4,
    "start_time": "2021-08-10T18:41:34.318Z"
   },
   {
    "duration": 2480,
    "start_time": "2021-08-10T18:41:35.007Z"
   },
   {
    "duration": 38187,
    "start_time": "2021-08-10T18:41:44.103Z"
   },
   {
    "duration": 52336,
    "start_time": "2021-08-10T18:43:01.399Z"
   },
   {
    "duration": 155,
    "start_time": "2021-08-10T18:44:48.536Z"
   },
   {
    "duration": 417,
    "start_time": "2021-08-10T18:44:52.007Z"
   },
   {
    "duration": 57,
    "start_time": "2021-08-10T18:44:57.943Z"
   },
   {
    "duration": 282,
    "start_time": "2021-08-10T18:45:04.431Z"
   },
   {
    "duration": 185,
    "start_time": "2021-08-10T18:45:20.496Z"
   },
   {
    "duration": 387,
    "start_time": "2021-08-10T18:45:28.791Z"
   },
   {
    "duration": 1463,
    "start_time": "2021-08-10T18:45:36.528Z"
   },
   {
    "duration": 612,
    "start_time": "2021-08-10T18:45:46.087Z"
   },
   {
    "duration": 1039,
    "start_time": "2021-08-10T18:46:00.632Z"
   },
   {
    "duration": 91,
    "start_time": "2021-08-10T19:20:43.198Z"
   },
   {
    "duration": 379,
    "start_time": "2021-08-10T19:21:39.109Z"
   },
   {
    "duration": 18,
    "start_time": "2021-08-10T19:23:09.616Z"
   },
   {
    "duration": 5,
    "start_time": "2021-08-10T19:25:24.967Z"
   },
   {
    "duration": 4,
    "start_time": "2021-08-10T19:25:37.401Z"
   },
   {
    "duration": 7,
    "start_time": "2021-08-10T19:26:04.529Z"
   },
   {
    "duration": 8,
    "start_time": "2021-08-10T19:27:32.329Z"
   },
   {
    "duration": 11,
    "start_time": "2021-08-10T19:29:21.481Z"
   },
   {
    "duration": 6,
    "start_time": "2021-08-10T19:30:38.484Z"
   },
   {
    "duration": 699,
    "start_time": "2021-08-10T19:31:35.314Z"
   },
   {
    "duration": 48,
    "start_time": "2021-08-10T19:32:05.689Z"
   },
   {
    "duration": 1517,
    "start_time": "2021-08-10T19:32:27.093Z"
   },
   {
    "duration": 52,
    "start_time": "2021-08-10T19:32:28.612Z"
   },
   {
    "duration": 20,
    "start_time": "2021-08-10T19:32:28.667Z"
   },
   {
    "duration": 21,
    "start_time": "2021-08-10T19:32:28.689Z"
   },
   {
    "duration": 13,
    "start_time": "2021-08-10T19:32:28.713Z"
   },
   {
    "duration": 10,
    "start_time": "2021-08-10T19:32:28.729Z"
   },
   {
    "duration": 46,
    "start_time": "2021-08-10T19:32:28.741Z"
   },
   {
    "duration": 1347,
    "start_time": "2021-08-10T19:32:28.793Z"
   },
   {
    "duration": 48,
    "start_time": "2021-08-10T19:32:30.144Z"
   },
   {
    "duration": 17,
    "start_time": "2021-08-10T19:32:30.194Z"
   },
   {
    "duration": 430,
    "start_time": "2021-08-10T19:32:30.213Z"
   },
   {
    "duration": 11,
    "start_time": "2021-08-10T19:32:30.646Z"
   },
   {
    "duration": 26,
    "start_time": "2021-08-10T19:32:30.659Z"
   },
   {
    "duration": 716,
    "start_time": "2021-08-10T19:32:30.688Z"
   },
   {
    "duration": 45,
    "start_time": "2021-08-10T19:32:31.406Z"
   },
   {
    "duration": 434,
    "start_time": "2021-08-10T19:32:31.453Z"
   },
   {
    "duration": 3,
    "start_time": "2021-08-10T19:32:31.890Z"
   },
   {
    "duration": 1847,
    "start_time": "2021-08-10T19:32:31.895Z"
   },
   {
    "duration": 38085,
    "start_time": "2021-08-10T19:32:33.745Z"
   },
   {
    "duration": 157,
    "start_time": "2021-08-10T19:33:11.832Z"
   },
   {
    "duration": 505,
    "start_time": "2021-08-10T19:33:11.991Z"
   },
   {
    "duration": 185,
    "start_time": "2021-08-10T19:33:12.498Z"
   },
   {
    "duration": 104,
    "start_time": "2021-08-10T19:33:12.688Z"
   },
   {
    "duration": 509,
    "start_time": "2021-08-10T19:33:12.795Z"
   },
   {
    "duration": 1276,
    "start_time": "2021-08-10T19:33:13.308Z"
   },
   {
    "duration": 596,
    "start_time": "2021-08-10T19:33:14.588Z"
   },
   {
    "duration": 1025,
    "start_time": "2021-08-10T19:33:15.189Z"
   },
   {
    "duration": 224,
    "start_time": "2021-08-10T19:33:16.217Z"
   },
   {
    "duration": 910,
    "start_time": "2021-08-10T19:33:15.533Z"
   },
   {
    "duration": 909,
    "start_time": "2021-08-10T19:33:15.536Z"
   },
   {
    "duration": 214,
    "start_time": "2021-08-10T19:33:49.755Z"
   },
   {
    "duration": 1467,
    "start_time": "2021-08-10T19:35:54.956Z"
   },
   {
    "duration": 49,
    "start_time": "2021-08-10T19:35:56.426Z"
   },
   {
    "duration": 12,
    "start_time": "2021-08-10T19:35:56.484Z"
   },
   {
    "duration": 7,
    "start_time": "2021-08-10T19:35:56.499Z"
   },
   {
    "duration": 10,
    "start_time": "2021-08-10T19:35:56.508Z"
   },
   {
    "duration": 8,
    "start_time": "2021-08-10T19:35:56.520Z"
   },
   {
    "duration": 78,
    "start_time": "2021-08-10T19:35:56.531Z"
   },
   {
    "duration": 1390,
    "start_time": "2021-08-10T19:35:56.613Z"
   },
   {
    "duration": 25,
    "start_time": "2021-08-10T19:35:58.006Z"
   },
   {
    "duration": 18,
    "start_time": "2021-08-10T19:35:58.034Z"
   },
   {
    "duration": 414,
    "start_time": "2021-08-10T19:35:58.082Z"
   },
   {
    "duration": 12,
    "start_time": "2021-08-10T19:35:58.499Z"
   },
   {
    "duration": 10,
    "start_time": "2021-08-10T19:35:58.514Z"
   },
   {
    "duration": 272,
    "start_time": "2021-08-10T19:35:58.527Z"
   },
   {
    "duration": 47,
    "start_time": "2021-08-10T19:35:58.801Z"
   },
   {
    "duration": 451,
    "start_time": "2021-08-10T19:35:58.851Z"
   },
   {
    "duration": 4,
    "start_time": "2021-08-10T19:35:59.305Z"
   },
   {
    "duration": 1809,
    "start_time": "2021-08-10T19:35:59.312Z"
   },
   {
    "duration": 39726,
    "start_time": "2021-08-10T19:36:01.124Z"
   },
   {
    "duration": 229,
    "start_time": "2021-08-10T19:36:40.853Z"
   },
   {
    "duration": 495,
    "start_time": "2021-08-10T19:36:41.085Z"
   },
   {
    "duration": 200,
    "start_time": "2021-08-10T19:36:41.583Z"
   },
   {
    "duration": 200,
    "start_time": "2021-08-10T19:36:41.792Z"
   },
   {
    "duration": 490,
    "start_time": "2021-08-10T19:36:41.995Z"
   },
   {
    "duration": 1100,
    "start_time": "2021-08-10T19:36:42.487Z"
   },
   {
    "duration": 594,
    "start_time": "2021-08-10T19:36:43.590Z"
   },
   {
    "duration": 1038,
    "start_time": "2021-08-10T19:36:44.188Z"
   },
   {
    "duration": 293,
    "start_time": "2021-08-10T19:36:45.229Z"
   },
   {
    "duration": 915,
    "start_time": "2021-08-10T19:36:44.610Z"
   },
   {
    "duration": 914,
    "start_time": "2021-08-10T19:36:44.613Z"
   },
   {
    "duration": 913,
    "start_time": "2021-08-10T19:36:44.615Z"
   },
   {
    "duration": 909,
    "start_time": "2021-08-10T19:36:44.621Z"
   },
   {
    "duration": 908,
    "start_time": "2021-08-10T19:36:44.623Z"
   },
   {
    "duration": 908,
    "start_time": "2021-08-10T19:36:44.625Z"
   },
   {
    "duration": 907,
    "start_time": "2021-08-10T19:36:44.627Z"
   },
   {
    "duration": 906,
    "start_time": "2021-08-10T19:36:44.629Z"
   },
   {
    "duration": 906,
    "start_time": "2021-08-10T19:36:44.631Z"
   },
   {
    "duration": 906,
    "start_time": "2021-08-10T19:36:44.633Z"
   },
   {
    "duration": 901,
    "start_time": "2021-08-10T19:36:44.639Z"
   },
   {
    "duration": 1414,
    "start_time": "2021-08-10T19:36:47.654Z"
   },
   {
    "duration": 51,
    "start_time": "2021-08-10T19:36:49.071Z"
   },
   {
    "duration": 13,
    "start_time": "2021-08-10T19:36:49.130Z"
   },
   {
    "duration": 36,
    "start_time": "2021-08-10T19:36:49.146Z"
   },
   {
    "duration": 6,
    "start_time": "2021-08-10T19:36:49.185Z"
   },
   {
    "duration": 8,
    "start_time": "2021-08-10T19:36:49.194Z"
   },
   {
    "duration": 43,
    "start_time": "2021-08-10T19:36:49.206Z"
   },
   {
    "duration": 1398,
    "start_time": "2021-08-10T19:36:49.252Z"
   },
   {
    "duration": 39,
    "start_time": "2021-08-10T19:36:50.652Z"
   },
   {
    "duration": 19,
    "start_time": "2021-08-10T19:36:50.693Z"
   },
   {
    "duration": 411,
    "start_time": "2021-08-10T19:36:50.714Z"
   },
   {
    "duration": 11,
    "start_time": "2021-08-10T19:36:51.128Z"
   },
   {
    "duration": 10,
    "start_time": "2021-08-10T19:36:51.141Z"
   },
   {
    "duration": 252,
    "start_time": "2021-08-10T19:36:51.153Z"
   },
   {
    "duration": 46,
    "start_time": "2021-08-10T19:36:51.407Z"
   },
   {
    "duration": 436,
    "start_time": "2021-08-10T19:36:51.456Z"
   },
   {
    "duration": 4,
    "start_time": "2021-08-10T19:36:51.894Z"
   },
   {
    "duration": 1787,
    "start_time": "2021-08-10T19:36:51.901Z"
   },
   {
    "duration": 37768,
    "start_time": "2021-08-10T19:36:53.691Z"
   },
   {
    "duration": 165,
    "start_time": "2021-08-10T19:37:31.461Z"
   },
   {
    "duration": 477,
    "start_time": "2021-08-10T19:37:31.629Z"
   },
   {
    "duration": 178,
    "start_time": "2021-08-10T19:37:32.111Z"
   },
   {
    "duration": 104,
    "start_time": "2021-08-10T19:37:32.292Z"
   },
   {
    "duration": 407,
    "start_time": "2021-08-10T19:37:32.483Z"
   },
   {
    "duration": 1092,
    "start_time": "2021-08-10T19:37:32.892Z"
   },
   {
    "duration": 498,
    "start_time": "2021-08-10T19:37:33.986Z"
   },
   {
    "duration": 1008,
    "start_time": "2021-08-10T19:37:34.487Z"
   },
   {
    "duration": 281,
    "start_time": "2021-08-10T19:37:35.498Z"
   },
   {
    "duration": 917,
    "start_time": "2021-08-10T19:37:34.865Z"
   },
   {
    "duration": 910,
    "start_time": "2021-08-10T19:37:34.873Z"
   },
   {
    "duration": 907,
    "start_time": "2021-08-10T19:37:34.878Z"
   },
   {
    "duration": 4,
    "start_time": "2021-08-10T19:39:25.273Z"
   },
   {
    "duration": 361,
    "start_time": "2021-08-10T19:45:41.018Z"
   },
   {
    "duration": 322,
    "start_time": "2021-08-10T19:46:31.852Z"
   },
   {
    "duration": 54,
    "start_time": "2021-08-10T19:47:02.035Z"
   },
   {
    "duration": 54,
    "start_time": "2021-08-10T19:48:50.060Z"
   },
   {
    "duration": 402,
    "start_time": "2021-08-10T19:49:05.572Z"
   },
   {
    "duration": 170,
    "start_time": "2021-08-10T19:51:42.459Z"
   },
   {
    "duration": 227,
    "start_time": "2021-08-10T19:52:13.956Z"
   },
   {
    "duration": 183,
    "start_time": "2021-08-10T19:54:51.405Z"
   },
   {
    "duration": 63,
    "start_time": "2021-08-10T19:56:01.221Z"
   },
   {
    "duration": 403,
    "start_time": "2021-08-10T19:56:26.165Z"
   },
   {
    "duration": 1159,
    "start_time": "2021-08-10T19:56:45.829Z"
   },
   {
    "duration": 351,
    "start_time": "2021-08-10T19:58:05.734Z"
   },
   {
    "duration": 89,
    "start_time": "2021-08-10T19:59:18.383Z"
   },
   {
    "duration": 213,
    "start_time": "2021-08-10T19:59:54.572Z"
   },
   {
    "duration": 308,
    "start_time": "2021-08-10T20:01:41.523Z"
   },
   {
    "duration": 176,
    "start_time": "2021-08-10T20:01:57.591Z"
   },
   {
    "duration": 406,
    "start_time": "2021-08-10T20:02:33.879Z"
   },
   {
    "duration": 268,
    "start_time": "2021-08-10T20:02:48.990Z"
   },
   {
    "duration": 11,
    "start_time": "2021-08-10T20:02:56.967Z"
   },
   {
    "duration": 328,
    "start_time": "2021-08-10T20:22:43.955Z"
   },
   {
    "duration": 36,
    "start_time": "2021-08-10T20:24:12.506Z"
   },
   {
    "duration": 160,
    "start_time": "2021-08-10T20:26:37.131Z"
   },
   {
    "duration": 13,
    "start_time": "2021-08-10T20:37:54.157Z"
   },
   {
    "duration": 8,
    "start_time": "2021-08-10T20:44:16.695Z"
   },
   {
    "duration": 711,
    "start_time": "2021-08-10T20:50:51.904Z"
   },
   {
    "duration": 1116,
    "start_time": "2021-08-11T07:09:54.677Z"
   },
   {
    "duration": 42,
    "start_time": "2021-08-11T07:09:55.795Z"
   },
   {
    "duration": 8,
    "start_time": "2021-08-11T07:09:55.839Z"
   },
   {
    "duration": 5,
    "start_time": "2021-08-11T07:09:55.849Z"
   },
   {
    "duration": 6,
    "start_time": "2021-08-11T07:09:55.855Z"
   },
   {
    "duration": 12,
    "start_time": "2021-08-11T07:09:55.862Z"
   },
   {
    "duration": 25,
    "start_time": "2021-08-11T07:09:55.876Z"
   },
   {
    "duration": 1002,
    "start_time": "2021-08-11T07:09:55.904Z"
   },
   {
    "duration": 17,
    "start_time": "2021-08-11T07:09:56.909Z"
   },
   {
    "duration": 22,
    "start_time": "2021-08-11T07:09:56.928Z"
   },
   {
    "duration": 270,
    "start_time": "2021-08-11T07:09:56.952Z"
   },
   {
    "duration": 16,
    "start_time": "2021-08-11T07:09:57.224Z"
   },
   {
    "duration": 5,
    "start_time": "2021-08-11T07:09:57.242Z"
   },
   {
    "duration": 537,
    "start_time": "2021-08-11T07:09:57.249Z"
   },
   {
    "duration": 54,
    "start_time": "2021-08-11T07:09:57.788Z"
   },
   {
    "duration": 327,
    "start_time": "2021-08-11T07:09:57.844Z"
   },
   {
    "duration": -3,
    "start_time": "2021-08-11T07:09:58.176Z"
   },
   {
    "duration": -5,
    "start_time": "2021-08-11T07:09:58.179Z"
   },
   {
    "duration": -6,
    "start_time": "2021-08-11T07:09:58.181Z"
   },
   {
    "duration": -8,
    "start_time": "2021-08-11T07:09:58.184Z"
   },
   {
    "duration": -14,
    "start_time": "2021-08-11T07:09:58.191Z"
   },
   {
    "duration": -15,
    "start_time": "2021-08-11T07:09:58.194Z"
   },
   {
    "duration": -17,
    "start_time": "2021-08-11T07:09:58.196Z"
   },
   {
    "duration": -19,
    "start_time": "2021-08-11T07:09:58.199Z"
   },
   {
    "duration": -20,
    "start_time": "2021-08-11T07:09:58.201Z"
   },
   {
    "duration": -22,
    "start_time": "2021-08-11T07:09:58.204Z"
   },
   {
    "duration": -24,
    "start_time": "2021-08-11T07:09:58.207Z"
   },
   {
    "duration": -26,
    "start_time": "2021-08-11T07:09:58.210Z"
   },
   {
    "duration": -27,
    "start_time": "2021-08-11T07:09:58.212Z"
   },
   {
    "duration": -30,
    "start_time": "2021-08-11T07:09:58.216Z"
   },
   {
    "duration": -32,
    "start_time": "2021-08-11T07:09:58.219Z"
   },
   {
    "duration": -33,
    "start_time": "2021-08-11T07:09:58.221Z"
   },
   {
    "duration": -35,
    "start_time": "2021-08-11T07:09:58.224Z"
   },
   {
    "duration": 312,
    "start_time": "2021-08-11T07:14:09.413Z"
   },
   {
    "duration": 1102,
    "start_time": "2021-08-11T07:14:54.481Z"
   },
   {
    "duration": 39,
    "start_time": "2021-08-11T07:14:55.584Z"
   },
   {
    "duration": 8,
    "start_time": "2021-08-11T07:14:55.625Z"
   },
   {
    "duration": 9,
    "start_time": "2021-08-11T07:14:55.635Z"
   },
   {
    "duration": 11,
    "start_time": "2021-08-11T07:14:55.645Z"
   },
   {
    "duration": 7,
    "start_time": "2021-08-11T07:14:55.657Z"
   },
   {
    "duration": 25,
    "start_time": "2021-08-11T07:14:55.665Z"
   },
   {
    "duration": 915,
    "start_time": "2021-08-11T07:14:55.692Z"
   },
   {
    "duration": 16,
    "start_time": "2021-08-11T07:14:56.610Z"
   },
   {
    "duration": 25,
    "start_time": "2021-08-11T07:14:56.628Z"
   },
   {
    "duration": 259,
    "start_time": "2021-08-11T07:14:56.655Z"
   },
   {
    "duration": 7,
    "start_time": "2021-08-11T07:14:56.916Z"
   },
   {
    "duration": 18,
    "start_time": "2021-08-11T07:14:56.925Z"
   },
   {
    "duration": 521,
    "start_time": "2021-08-11T07:14:56.945Z"
   },
   {
    "duration": 38,
    "start_time": "2021-08-11T07:14:57.467Z"
   },
   {
    "duration": 353,
    "start_time": "2021-08-11T07:14:57.506Z"
   },
   {
    "duration": 3,
    "start_time": "2021-08-11T07:14:57.860Z"
   },
   {
    "duration": 1262,
    "start_time": "2021-08-11T07:14:57.864Z"
   },
   {
    "duration": 26426,
    "start_time": "2021-08-11T07:14:59.128Z"
   },
   {
    "duration": 128,
    "start_time": "2021-08-11T07:15:25.556Z"
   },
   {
    "duration": 374,
    "start_time": "2021-08-11T07:15:25.685Z"
   },
   {
    "duration": -25,
    "start_time": "2021-08-11T07:15:26.086Z"
   },
   {
    "duration": -29,
    "start_time": "2021-08-11T07:15:26.091Z"
   },
   {
    "duration": -33,
    "start_time": "2021-08-11T07:15:26.095Z"
   },
   {
    "duration": -35,
    "start_time": "2021-08-11T07:15:26.098Z"
   },
   {
    "duration": -37,
    "start_time": "2021-08-11T07:15:26.101Z"
   },
   {
    "duration": -39,
    "start_time": "2021-08-11T07:15:26.104Z"
   },
   {
    "duration": -44,
    "start_time": "2021-08-11T07:15:26.109Z"
   },
   {
    "duration": -47,
    "start_time": "2021-08-11T07:15:26.113Z"
   },
   {
    "duration": -51,
    "start_time": "2021-08-11T07:15:26.118Z"
   },
   {
    "duration": -54,
    "start_time": "2021-08-11T07:15:26.121Z"
   },
   {
    "duration": -56,
    "start_time": "2021-08-11T07:15:26.124Z"
   },
   {
    "duration": -59,
    "start_time": "2021-08-11T07:15:26.128Z"
   },
   {
    "duration": 357,
    "start_time": "2021-08-11T07:16:02.953Z"
   },
   {
    "duration": 170,
    "start_time": "2021-08-11T07:16:04.888Z"
   },
   {
    "duration": 81,
    "start_time": "2021-08-11T07:16:06.575Z"
   },
   {
    "duration": 288,
    "start_time": "2021-08-11T07:16:07.443Z"
   },
   {
    "duration": 212,
    "start_time": "2021-08-11T07:16:08.338Z"
   },
   {
    "duration": 172,
    "start_time": "2021-08-11T07:16:10.276Z"
   },
   {
    "duration": 36,
    "start_time": "2021-08-11T07:16:11.931Z"
   },
   {
    "duration": 120,
    "start_time": "2021-08-11T07:16:13.137Z"
   },
   {
    "duration": 10,
    "start_time": "2021-08-11T07:16:13.848Z"
   },
   {
    "duration": 114,
    "start_time": "2021-08-11T07:16:15.620Z"
   },
   {
    "duration": 304,
    "start_time": "2021-08-11T07:16:16.792Z"
   },
   {
    "duration": 167,
    "start_time": "2021-08-11T07:16:17.159Z"
   },
   {
    "duration": 8,
    "start_time": "2021-08-11T07:16:17.788Z"
   },
   {
    "duration": 7,
    "start_time": "2021-08-11T07:33:52.037Z"
   },
   {
    "duration": 20,
    "start_time": "2021-08-11T07:35:25.644Z"
   },
   {
    "duration": 277,
    "start_time": "2021-08-11T17:15:14.185Z"
   },
   {
    "duration": 1124,
    "start_time": "2021-08-11T17:15:22.460Z"
   },
   {
    "duration": 39,
    "start_time": "2021-08-11T17:15:23.586Z"
   },
   {
    "duration": 7,
    "start_time": "2021-08-11T17:15:23.627Z"
   },
   {
    "duration": 19,
    "start_time": "2021-08-11T17:15:23.636Z"
   },
   {
    "duration": 4,
    "start_time": "2021-08-11T17:15:23.656Z"
   },
   {
    "duration": 14,
    "start_time": "2021-08-11T17:15:23.662Z"
   },
   {
    "duration": 28,
    "start_time": "2021-08-11T17:15:23.678Z"
   },
   {
    "duration": 927,
    "start_time": "2021-08-11T17:15:23.708Z"
   },
   {
    "duration": 16,
    "start_time": "2021-08-11T17:15:24.641Z"
   },
   {
    "duration": 360,
    "start_time": "2021-08-11T17:15:24.658Z"
   },
   {
    "duration": 1464,
    "start_time": "2021-08-11T17:15:23.556Z"
   },
   {
    "duration": 1453,
    "start_time": "2021-08-11T17:15:23.568Z"
   },
   {
    "duration": 1446,
    "start_time": "2021-08-11T17:15:23.576Z"
   },
   {
    "duration": 1445,
    "start_time": "2021-08-11T17:15:23.579Z"
   },
   {
    "duration": 1439,
    "start_time": "2021-08-11T17:15:23.585Z"
   },
   {
    "duration": 1432,
    "start_time": "2021-08-11T17:15:23.593Z"
   },
   {
    "duration": 1426,
    "start_time": "2021-08-11T17:15:23.600Z"
   },
   {
    "duration": 1424,
    "start_time": "2021-08-11T17:15:23.603Z"
   },
   {
    "duration": 1419,
    "start_time": "2021-08-11T17:15:23.609Z"
   },
   {
    "duration": 1412,
    "start_time": "2021-08-11T17:15:23.617Z"
   },
   {
    "duration": 1405,
    "start_time": "2021-08-11T17:15:23.625Z"
   },
   {
    "duration": 1403,
    "start_time": "2021-08-11T17:15:23.628Z"
   },
   {
    "duration": 1398,
    "start_time": "2021-08-11T17:15:23.634Z"
   },
   {
    "duration": 1392,
    "start_time": "2021-08-11T17:15:23.641Z"
   },
   {
    "duration": 1387,
    "start_time": "2021-08-11T17:15:23.647Z"
   },
   {
    "duration": 1379,
    "start_time": "2021-08-11T17:15:23.656Z"
   },
   {
    "duration": 1374,
    "start_time": "2021-08-11T17:15:23.662Z"
   },
   {
    "duration": 1368,
    "start_time": "2021-08-11T17:15:23.669Z"
   },
   {
    "duration": 1364,
    "start_time": "2021-08-11T17:15:23.674Z"
   },
   {
    "duration": 1359,
    "start_time": "2021-08-11T17:15:23.680Z"
   },
   {
    "duration": 1354,
    "start_time": "2021-08-11T17:15:23.686Z"
   },
   {
    "duration": 1349,
    "start_time": "2021-08-11T17:15:23.692Z"
   },
   {
    "duration": 1345,
    "start_time": "2021-08-11T17:15:23.697Z"
   },
   {
    "duration": 1343,
    "start_time": "2021-08-11T17:15:23.700Z"
   },
   {
    "duration": 16,
    "start_time": "2021-08-11T18:04:44.774Z"
   },
   {
    "duration": 179,
    "start_time": "2021-08-11T18:05:00.606Z"
   },
   {
    "duration": 8,
    "start_time": "2021-08-11T18:05:04.518Z"
   },
   {
    "duration": 16,
    "start_time": "2021-08-11T18:06:59.918Z"
   },
   {
    "duration": 201,
    "start_time": "2021-08-11T18:07:09.615Z"
   },
   {
    "duration": 10,
    "start_time": "2021-08-11T18:07:34.079Z"
   },
   {
    "duration": 4,
    "start_time": "2021-08-11T18:09:11.583Z"
   },
   {
    "duration": 346,
    "start_time": "2021-08-11T18:09:24.519Z"
   },
   {
    "duration": 33,
    "start_time": "2021-08-11T18:10:17.039Z"
   },
   {
    "duration": 321,
    "start_time": "2021-08-11T18:10:42.311Z"
   },
   {
    "duration": 2,
    "start_time": "2021-08-11T18:11:27.543Z"
   },
   {
    "duration": 948,
    "start_time": "2021-08-11T18:11:33.695Z"
   },
   {
    "duration": 18952,
    "start_time": "2021-08-11T18:12:25.512Z"
   },
   {
    "duration": 21943,
    "start_time": "2021-08-11T18:13:37.552Z"
   },
   {
    "duration": 319,
    "start_time": "2021-08-11T18:15:22.624Z"
   },
   {
    "duration": 34,
    "start_time": "2021-08-11T18:15:48.808Z"
   },
   {
    "duration": 90,
    "start_time": "2021-08-11T18:16:03.952Z"
   },
   {
    "duration": 293,
    "start_time": "2021-08-11T18:16:12.104Z"
   },
   {
    "duration": 402,
    "start_time": "2021-08-11T18:17:12.041Z"
   },
   {
    "duration": 273,
    "start_time": "2021-08-11T18:17:32.969Z"
   },
   {
    "duration": 474,
    "start_time": "2021-08-11T18:21:30.970Z"
   },
   {
    "duration": 232,
    "start_time": "2021-08-11T18:22:12.514Z"
   },
   {
    "duration": 9,
    "start_time": "2021-08-11T18:23:16.657Z"
   },
   {
    "duration": 240,
    "start_time": "2021-08-11T18:24:23.977Z"
   },
   {
    "duration": 247,
    "start_time": "2021-08-11T18:25:09.898Z"
   },
   {
    "duration": 240,
    "start_time": "2021-08-11T18:25:34.025Z"
   },
   {
    "duration": 240,
    "start_time": "2021-08-11T18:25:42.202Z"
   },
   {
    "duration": 246,
    "start_time": "2021-08-11T18:35:36.556Z"
   },
   {
    "duration": 241,
    "start_time": "2021-08-11T18:36:01.380Z"
   },
   {
    "duration": 9,
    "start_time": "2021-08-11T18:37:10.236Z"
   },
   {
    "duration": 177,
    "start_time": "2021-08-11T18:37:15.829Z"
   },
   {
    "duration": 4,
    "start_time": "2021-08-11T18:38:26.613Z"
   },
   {
    "duration": 95,
    "start_time": "2021-08-11T18:38:27.317Z"
   },
   {
    "duration": 80,
    "start_time": "2021-08-11T18:40:10.123Z"
   },
   {
    "duration": 295,
    "start_time": "2021-08-11T18:40:50.998Z"
   },
   {
    "duration": 256,
    "start_time": "2021-08-11T18:40:59.085Z"
   },
   {
    "duration": 8,
    "start_time": "2021-08-11T18:41:06.941Z"
   },
   {
    "duration": 156,
    "start_time": "2021-08-11T18:42:08.875Z"
   },
   {
    "duration": 6,
    "start_time": "2021-08-11T18:42:26.141Z"
   },
   {
    "duration": 9,
    "start_time": "2021-08-11T18:51:56.358Z"
   },
   {
    "duration": 4,
    "start_time": "2021-08-11T18:52:10.217Z"
   },
   {
    "duration": 93,
    "start_time": "2021-08-11T18:52:10.984Z"
   },
   {
    "duration": 4,
    "start_time": "2021-08-12T17:53:09.104Z"
   },
   {
    "duration": 323,
    "start_time": "2021-08-12T18:09:06.829Z"
   },
   {
    "duration": 2243,
    "start_time": "2021-08-12T18:16:22.053Z"
   },
   {
    "duration": 55,
    "start_time": "2021-08-12T18:16:24.800Z"
   },
   {
    "duration": 13,
    "start_time": "2021-08-12T18:16:27.960Z"
   },
   {
    "duration": 7,
    "start_time": "2021-08-12T18:16:30.632Z"
   },
   {
    "duration": 6,
    "start_time": "2021-08-12T18:16:32.080Z"
   },
   {
    "duration": 8,
    "start_time": "2021-08-12T18:16:33.112Z"
   },
   {
    "duration": 37,
    "start_time": "2021-08-12T18:16:38.345Z"
   },
   {
    "duration": 1458,
    "start_time": "2021-08-12T18:16:41.784Z"
   },
   {
    "duration": 3,
    "start_time": "2021-08-12T18:16:46.200Z"
   },
   {
    "duration": 27,
    "start_time": "2021-08-12T18:16:47.665Z"
   },
   {
    "duration": 12,
    "start_time": "2021-08-12T18:16:50.640Z"
   },
   {
    "duration": 365,
    "start_time": "2021-08-12T18:17:12.424Z"
   },
   {
    "duration": 349,
    "start_time": "2021-08-12T18:17:57.546Z"
   },
   {
    "duration": 14,
    "start_time": "2021-08-12T18:18:07.432Z"
   },
   {
    "duration": 6,
    "start_time": "2021-08-12T18:18:16.328Z"
   },
   {
    "duration": 484,
    "start_time": "2021-08-12T18:18:41.929Z"
   },
   {
    "duration": 44,
    "start_time": "2021-08-12T18:20:18.617Z"
   },
   {
    "duration": 446,
    "start_time": "2021-08-12T18:20:23.266Z"
   },
   {
    "duration": 3,
    "start_time": "2021-08-12T18:20:30.489Z"
   },
   {
    "duration": 1554,
    "start_time": "2021-08-12T18:21:11.946Z"
   },
   {
    "duration": 36691,
    "start_time": "2021-08-12T18:21:46.321Z"
   },
   {
    "duration": 549,
    "start_time": "2021-08-12T18:22:53.969Z"
   },
   {
    "duration": 348,
    "start_time": "2021-08-12T18:23:07.177Z"
   },
   {
    "duration": 439,
    "start_time": "2021-08-12T18:23:16.601Z"
   },
   {
    "duration": 179,
    "start_time": "2021-08-12T18:23:50.290Z"
   },
   {
    "duration": 38,
    "start_time": "2021-08-12T18:24:18.618Z"
   },
   {
    "duration": 105,
    "start_time": "2021-08-12T18:24:47.858Z"
   },
   {
    "duration": 422,
    "start_time": "2021-08-12T18:24:56.154Z"
   },
   {
    "duration": 583,
    "start_time": "2021-08-12T18:25:57.778Z"
   },
   {
    "duration": 1521,
    "start_time": "2021-08-12T18:26:39.125Z"
   },
   {
    "duration": 54,
    "start_time": "2021-08-12T18:26:40.649Z"
   },
   {
    "duration": 11,
    "start_time": "2021-08-12T18:26:40.709Z"
   },
   {
    "duration": 31,
    "start_time": "2021-08-12T18:26:40.723Z"
   },
   {
    "duration": 7,
    "start_time": "2021-08-12T18:26:40.757Z"
   },
   {
    "duration": 7,
    "start_time": "2021-08-12T18:26:40.766Z"
   },
   {
    "duration": 35,
    "start_time": "2021-08-12T18:26:40.777Z"
   },
   {
    "duration": 1420,
    "start_time": "2021-08-12T18:26:40.815Z"
   },
   {
    "duration": 3,
    "start_time": "2021-08-12T18:26:42.237Z"
   },
   {
    "duration": 24,
    "start_time": "2021-08-12T18:26:42.255Z"
   },
   {
    "duration": 11,
    "start_time": "2021-08-12T18:26:42.281Z"
   },
   {
    "duration": 372,
    "start_time": "2021-08-12T18:26:42.294Z"
   },
   {
    "duration": 14,
    "start_time": "2021-08-12T18:26:42.668Z"
   },
   {
    "duration": 14,
    "start_time": "2021-08-12T18:26:42.684Z"
   },
   {
    "duration": 498,
    "start_time": "2021-08-12T18:26:42.700Z"
   },
   {
    "duration": 55,
    "start_time": "2021-08-12T18:26:43.201Z"
   },
   {
    "duration": 460,
    "start_time": "2021-08-12T18:26:43.259Z"
   },
   {
    "duration": 4,
    "start_time": "2021-08-12T18:26:43.721Z"
   },
   {
    "duration": 1589,
    "start_time": "2021-08-12T18:26:43.727Z"
   },
   {
    "duration": 33980,
    "start_time": "2021-08-12T18:26:45.318Z"
   },
   {
    "duration": 527,
    "start_time": "2021-08-12T18:27:19.301Z"
   },
   {
    "duration": 512,
    "start_time": "2021-08-12T18:27:19.833Z"
   },
   {
    "duration": 199,
    "start_time": "2021-08-12T18:27:20.356Z"
   },
   {
    "duration": 104,
    "start_time": "2021-08-12T18:27:20.558Z"
   },
   {
    "duration": 512,
    "start_time": "2021-08-12T18:27:20.664Z"
   },
   {
    "duration": 598,
    "start_time": "2021-08-12T18:27:21.178Z"
   },
   {
    "duration": -12,
    "start_time": "2021-08-12T18:27:21.791Z"
   },
   {
    "duration": -14,
    "start_time": "2021-08-12T18:27:21.794Z"
   },
   {
    "duration": -16,
    "start_time": "2021-08-12T18:27:21.797Z"
   },
   {
    "duration": -17,
    "start_time": "2021-08-12T18:27:21.800Z"
   },
   {
    "duration": -20,
    "start_time": "2021-08-12T18:27:21.804Z"
   },
   {
    "duration": -22,
    "start_time": "2021-08-12T18:27:21.807Z"
   },
   {
    "duration": -23,
    "start_time": "2021-08-12T18:27:21.809Z"
   },
   {
    "duration": 437,
    "start_time": "2021-08-12T18:28:18.319Z"
   },
   {
    "duration": 454,
    "start_time": "2021-08-12T18:29:23.392Z"
   },
   {
    "duration": 841,
    "start_time": "2021-08-12T18:31:46.415Z"
   },
   {
    "duration": 444,
    "start_time": "2021-08-12T18:31:55.111Z"
   },
   {
    "duration": 13,
    "start_time": "2021-08-12T18:32:00.279Z"
   },
   {
    "duration": 273,
    "start_time": "2021-08-12T18:32:24.103Z"
   },
   {
    "duration": 1557,
    "start_time": "2021-08-14T18:36:10.263Z"
   },
   {
    "duration": 53,
    "start_time": "2021-08-14T18:36:11.823Z"
   },
   {
    "duration": 17,
    "start_time": "2021-08-14T18:36:11.879Z"
   },
   {
    "duration": 7,
    "start_time": "2021-08-14T18:36:12.219Z"
   },
   {
    "duration": 7,
    "start_time": "2021-08-14T18:36:12.771Z"
   },
   {
    "duration": 8,
    "start_time": "2021-08-14T18:36:13.835Z"
   },
   {
    "duration": 40,
    "start_time": "2021-08-14T18:36:15.747Z"
   },
   {
    "duration": 1447,
    "start_time": "2021-08-14T18:36:17.987Z"
   },
   {
    "duration": 3,
    "start_time": "2021-08-14T18:36:20.149Z"
   },
   {
    "duration": 26,
    "start_time": "2021-08-14T18:36:22.579Z"
   },
   {
    "duration": 38,
    "start_time": "2021-08-14T18:36:23.322Z"
   },
   {
    "duration": 34,
    "start_time": "2021-08-14T18:36:40.689Z"
   },
   {
    "duration": 13,
    "start_time": "2021-08-14T18:38:29.195Z"
   },
   {
    "duration": 12,
    "start_time": "2021-08-14T18:38:44.811Z"
   },
   {
    "duration": 457,
    "start_time": "2021-08-14T18:39:17.587Z"
   },
   {
    "duration": 262,
    "start_time": "2021-08-14T18:41:25.348Z"
   },
   {
    "duration": 19,
    "start_time": "2021-08-14T18:43:33.492Z"
   },
   {
    "duration": 20,
    "start_time": "2021-08-14T18:45:00.468Z"
   },
   {
    "duration": 13,
    "start_time": "2021-08-14T18:45:07.612Z"
   },
   {
    "duration": 347,
    "start_time": "2021-08-14T18:45:13.764Z"
   },
   {
    "duration": 15,
    "start_time": "2021-08-14T18:45:14.300Z"
   },
   {
    "duration": 7,
    "start_time": "2021-08-14T18:45:14.996Z"
   },
   {
    "duration": 520,
    "start_time": "2021-08-14T18:45:24.213Z"
   },
   {
    "duration": 42,
    "start_time": "2021-08-14T18:45:34.877Z"
   },
   {
    "duration": 475,
    "start_time": "2021-08-14T18:45:40.789Z"
   },
   {
    "duration": 3,
    "start_time": "2021-08-14T18:45:45.461Z"
   },
   {
    "duration": 1389,
    "start_time": "2021-08-14T18:45:47.108Z"
   },
   {
    "duration": 34896,
    "start_time": "2021-08-14T18:45:59.844Z"
   },
   {
    "duration": 506,
    "start_time": "2021-08-14T18:47:02.269Z"
   },
   {
    "duration": 504,
    "start_time": "2021-08-14T18:47:05.125Z"
   },
   {
    "duration": 182,
    "start_time": "2021-08-14T18:47:09.885Z"
   },
   {
    "duration": 95,
    "start_time": "2021-08-14T18:47:13.573Z"
   },
   {
    "duration": 405,
    "start_time": "2021-08-14T18:47:15.581Z"
   },
   {
    "duration": 476,
    "start_time": "2021-08-14T18:47:37.045Z"
   },
   {
    "duration": 767,
    "start_time": "2021-08-14T18:49:09.805Z"
   },
   {
    "duration": 526,
    "start_time": "2021-08-14T18:49:59.638Z"
   },
   {
    "duration": 14,
    "start_time": "2021-08-14T18:50:06.372Z"
   },
   {
    "duration": 6,
    "start_time": "2021-08-14T18:50:19.165Z"
   },
   {
    "duration": 150,
    "start_time": "2021-08-14T18:50:28.174Z"
   },
   {
    "duration": 633,
    "start_time": "2021-08-14T18:51:00.286Z"
   },
   {
    "duration": 621,
    "start_time": "2021-08-14T18:51:41.022Z"
   },
   {
    "duration": 418,
    "start_time": "2021-08-14T18:52:18.493Z"
   },
   {
    "duration": 294,
    "start_time": "2021-08-14T18:54:01.638Z"
   },
   {
    "duration": 7,
    "start_time": "2021-08-14T18:54:08.246Z"
   }
  ],
  "kernelspec": {
   "display_name": "Python 3",
   "language": "python",
   "name": "python3"
  },
  "language_info": {
   "codemirror_mode": {
    "name": "ipython",
    "version": 3
   },
   "file_extension": ".py",
   "mimetype": "text/x-python",
   "name": "python",
   "nbconvert_exporter": "python",
   "pygments_lexer": "ipython3",
   "version": "3.8.8"
  },
  "toc": {
   "base_numbering": 1,
   "nav_menu": {},
   "number_sections": true,
   "sideBar": true,
   "skip_h1_title": true,
   "title_cell": "Содержание",
   "title_sidebar": "Contents",
   "toc_cell": true,
   "toc_position": {},
   "toc_section_display": true,
   "toc_window_display": false
  }
 },
 "nbformat": 4,
 "nbformat_minor": 2
}
