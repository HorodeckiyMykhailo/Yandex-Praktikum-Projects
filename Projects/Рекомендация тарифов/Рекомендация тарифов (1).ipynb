{
 "cells": [
  {
   "cell_type": "markdown",
   "metadata": {},
   "source": [
    "# Рекомендация тарифов"
   ]
  },
  {
   "cell_type": "markdown",
   "metadata": {},
   "source": [
    "## Изучение датасета"
   ]
  },
  {
   "cell_type": "code",
   "execution_count": 1,
   "metadata": {},
   "outputs": [],
   "source": [
    "import pandas as pd\n",
    "from warnings import simplefilter\n",
    "from sklearn.tree import DecisionTreeClassifier\n",
    "from sklearn.ensemble import RandomForestClassifier\n",
    "from sklearn.ensemble import RandomForestRegressor\n",
    "from sklearn.metrics import accuracy_score\n",
    "from sklearn.linear_model import LogisticRegression\n",
    "from sklearn.linear_model import LinearRegression\n",
    "from sklearn.model_selection import train_test_split\n",
    "from sklearn.metrics import mean_squared_error\n",
    "import matplotlib.pyplot as plt\n",
    "import seaborn as sns\n",
    "import numpy as np"
   ]
  },
  {
   "cell_type": "code",
   "execution_count": 2,
   "metadata": {
    "scrolled": true
   },
   "outputs": [
    {
     "data": {
      "text/html": [
       "<div>\n",
       "<style scoped>\n",
       "    .dataframe tbody tr th:only-of-type {\n",
       "        vertical-align: middle;\n",
       "    }\n",
       "\n",
       "    .dataframe tbody tr th {\n",
       "        vertical-align: top;\n",
       "    }\n",
       "\n",
       "    .dataframe thead th {\n",
       "        text-align: right;\n",
       "    }\n",
       "</style>\n",
       "<table border=\"1\" class=\"dataframe\">\n",
       "  <thead>\n",
       "    <tr style=\"text-align: right;\">\n",
       "      <th></th>\n",
       "      <th>calls</th>\n",
       "      <th>minutes</th>\n",
       "      <th>messages</th>\n",
       "      <th>mb_used</th>\n",
       "      <th>is_ultra</th>\n",
       "    </tr>\n",
       "  </thead>\n",
       "  <tbody>\n",
       "    <tr>\n",
       "      <td>0</td>\n",
       "      <td>40.0</td>\n",
       "      <td>311.90</td>\n",
       "      <td>83.0</td>\n",
       "      <td>19915.42</td>\n",
       "      <td>0</td>\n",
       "    </tr>\n",
       "    <tr>\n",
       "      <td>1</td>\n",
       "      <td>85.0</td>\n",
       "      <td>516.75</td>\n",
       "      <td>56.0</td>\n",
       "      <td>22696.96</td>\n",
       "      <td>0</td>\n",
       "    </tr>\n",
       "    <tr>\n",
       "      <td>2</td>\n",
       "      <td>77.0</td>\n",
       "      <td>467.66</td>\n",
       "      <td>86.0</td>\n",
       "      <td>21060.45</td>\n",
       "      <td>0</td>\n",
       "    </tr>\n",
       "    <tr>\n",
       "      <td>3</td>\n",
       "      <td>106.0</td>\n",
       "      <td>745.53</td>\n",
       "      <td>81.0</td>\n",
       "      <td>8437.39</td>\n",
       "      <td>1</td>\n",
       "    </tr>\n",
       "    <tr>\n",
       "      <td>4</td>\n",
       "      <td>66.0</td>\n",
       "      <td>418.74</td>\n",
       "      <td>1.0</td>\n",
       "      <td>14502.75</td>\n",
       "      <td>0</td>\n",
       "    </tr>\n",
       "  </tbody>\n",
       "</table>\n",
       "</div>"
      ],
      "text/plain": [
       "   calls  minutes  messages   mb_used  is_ultra\n",
       "0   40.0   311.90      83.0  19915.42         0\n",
       "1   85.0   516.75      56.0  22696.96         0\n",
       "2   77.0   467.66      86.0  21060.45         0\n",
       "3  106.0   745.53      81.0   8437.39         1\n",
       "4   66.0   418.74       1.0  14502.75         0"
      ]
     },
     "execution_count": 2,
     "metadata": {},
     "output_type": "execute_result"
    }
   ],
   "source": [
    "df = pd.read_csv('/datasets/users_behavior.csv')\n",
    "simplefilter(action='ignore', category=FutureWarning)\n",
    "df.head()"
   ]
  },
  {
   "cell_type": "code",
   "execution_count": 3,
   "metadata": {
    "scrolled": false
   },
   "outputs": [
    {
     "name": "stdout",
     "output_type": "stream",
     "text": [
      "<class 'pandas.core.frame.DataFrame'>\n",
      "RangeIndex: 3214 entries, 0 to 3213\n",
      "Data columns (total 5 columns):\n",
      "calls       3214 non-null float64\n",
      "minutes     3214 non-null float64\n",
      "messages    3214 non-null float64\n",
      "mb_used     3214 non-null float64\n",
      "is_ultra    3214 non-null int64\n",
      "dtypes: float64(4), int64(1)\n",
      "memory usage: 125.7 KB\n"
     ]
    }
   ],
   "source": [
    "df.info()"
   ]
  },
  {
   "cell_type": "code",
   "execution_count": 4,
   "metadata": {
    "scrolled": true
   },
   "outputs": [
    {
     "data": {
      "image/png": "[encoded data removed]",
      "text/plain": [
       "<Figure size 432x288 with 2 Axes>"
      ]
     },
     "metadata": {
      "needs_background": "light"
     },
     "output_type": "display_data"
    }
   ],
   "source": [
    "#собираюсь посмотреть мультиколлинеарность факторов\n",
    "matrix = np.triu(df.corr())\n",
    "hm = sns.heatmap(df.corr(),cbar=True,annot=True,cmap= 'coolwarm',mask=matrix)"
   ]
  },
  {
   "cell_type": "markdown",
   "metadata": {},
   "source": [
    "***Насколько я понял именно колличесвто минут использованных абонентами больше всего коррелируется с нашим таргетом***"
   ]
  },
  {
   "cell_type": "markdown",
   "metadata": {},
   "source": [
    "## Разбиение данных на выборки"
   ]
  },
  {
   "cell_type": "code",
   "execution_count": 5,
   "metadata": {},
   "outputs": [],
   "source": [
    "#разобью данные на выборки\n",
    "df_train, df_temp = train_test_split(df, train_size=0.6,random_state=12345)\n",
    "df_valid, df_test = train_test_split(df_temp, test_size=0.5, random_state=12345)\n",
    "# создам переменные для признаков и целевого признака\n",
    "#валидационный набор данных\n",
    "features_valid = df_valid.drop(['is_ultra'], axis=1) \n",
    "target_valid = df_valid['is_ultra']\n",
    "#обучающий набор данных\n",
    "features_train = df_train.drop(['is_ultra'], axis=1)\n",
    "target_train = df_train['is_ultra']\n",
    "#тестовый набор данных\n",
    "features_test = df_test.drop(['is_ultra'], axis=1)\n",
    "target_test = df_test['is_ultra'] \n"
   ]
  },
  {
   "cell_type": "markdown",
   "metadata": {},
   "source": [
    "## Исследование моделей"
   ]
  },
  {
   "cell_type": "markdown",
   "metadata": {},
   "source": [
    "- Собираюсь исследовать модель 'Решающее дерево'"
   ]
  },
  {
   "cell_type": "code",
   "execution_count": 6,
   "metadata": {},
   "outputs": [
    {
     "name": "stdout",
     "output_type": "stream",
     "text": [
      "Accuracy model_Tree\n",
      "Обучающая выборка: 1.0\n",
      "Валидационная выборка: 0.713841368584759\n"
     ]
    }
   ],
   "source": [
    "model_Tree = DecisionTreeClassifier(random_state=12345)\n",
    "model_Tree.fit(features_train,target_train)\n",
    "predict_Tree = model_Tree.predict(features_train)\n",
    "predict_Tree_valid = model_Tree.predict(features_valid)\n",
    "predict_Tree_accuracy = accuracy_score(target_train,predict_Tree)\n",
    "predict_Tree_valid_accuracy = accuracy_score(target_valid,predict_Tree_valid)\n",
    "print(\"Accuracy model_Tree\")\n",
    "print(\"Обучающая выборка:\",predict_Tree_accuracy)\n",
    "print(\"Валидационная выборка:\",predict_Tree_valid_accuracy)"
   ]
  },
  {
   "cell_type": "markdown",
   "metadata": {},
   "source": [
    "***Сейчас точность предсказаний модели составляет 71%.Постараюсь улучшить модель и найти подходящие гиперпараметры***"
   ]
  },
  {
   "cell_type": "code",
   "execution_count": 7,
   "metadata": {},
   "outputs": [
    {
     "name": "stdout",
     "output_type": "stream",
     "text": [
      "max_depth = 1 : 0.7542768273716952\n",
      "max_depth = 2 : 0.7822706065318819\n",
      "max_depth = 3 : 0.7853810264385692\n",
      "max_depth = 4 : 0.7791601866251944\n"
     ]
    }
   ],
   "source": [
    "#хочу узнать глубину изучения для модели чтобы улучшить ее\n",
    "for depth in range(1,5):\n",
    "    model = DecisionTreeClassifier(random_state=12345, max_depth=depth)\n",
    "    model.fit(features_train,target_train)\n",
    "    predictions_valid = model.predict(features_valid)\n",
    "    \n",
    "    print(\"max_depth =\", depth, \": \", end='')\n",
    "    print(accuracy_score(target_valid, predictions_valid))"
   ]
  },
  {
   "cell_type": "markdown",
   "metadata": {},
   "source": [
    "***Проверю точность модели установив параметр depth = 3,поскольку именно такая модель показывает лучшие результаты***"
   ]
  },
  {
   "cell_type": "code",
   "execution_count": 8,
   "metadata": {},
   "outputs": [
    {
     "name": "stdout",
     "output_type": "stream",
     "text": [
      "Accuracy model_Tree\n",
      "Обучающая выборка: 0.8075726141078838\n",
      "Валидационная выборка: 0.7853810264385692\n"
     ]
    }
   ],
   "source": [
    "model_Tree = DecisionTreeClassifier(random_state=12345,max_depth=3)\n",
    "model_Tree.fit(features_train,target_train)\n",
    "predict_Tree = model_Tree.predict(features_train)\n",
    "predict_Tree_valid = model_Tree.predict(features_valid)\n",
    "predict_Tree_accuracy = accuracy_score(target_train,predict_Tree)\n",
    "predict_Tree_valid_accuracy = accuracy_score(target_valid,predict_Tree_valid)\n",
    "\n",
    "print(\"Accuracy model_Tree\")\n",
    "print(\"Обучающая выборка:\",predict_Tree_accuracy)\n",
    "print(\"Валидационная выборка:\",predict_Tree_valid_accuracy)"
   ]
  },
  {
   "cell_type": "markdown",
   "metadata": {},
   "source": [
    "***Модель стала показывать результат дучше на целых 7%,но при этом точность обучающей модели снизилась,не совсем понимаю почему***"
   ]
  },
  {
   "cell_type": "markdown",
   "metadata": {},
   "source": [
    "- Собираюсь исследовать модель 'cлучайный лес'"
   ]
  },
  {
   "cell_type": "code",
   "execution_count": 9,
   "metadata": {},
   "outputs": [
    {
     "name": "stdout",
     "output_type": "stream",
     "text": [
      "Accuracy model_Forest\n",
      "Обучающая выборка: 0.9823651452282157\n",
      "Валидационная выборка: 0.7853810264385692\n"
     ]
    }
   ],
   "source": [
    "model_Forest = RandomForestClassifier(random_state=12345)\n",
    "model_Forest.fit(features_train,target_train)\n",
    "\n",
    "predict_model_Forest = model_Forest.predict(features_train)\n",
    "predict_model_Forest_valid = model_Forest.predict(features_valid)\n",
    "predict_model_Forest_accuracy = accuracy_score(target_train,predict_model_Forest)\n",
    "predict_model_Forest_valid_accuracy = accuracy_score(target_valid,predict_model_Forest_valid)\n",
    "print(\"Accuracy model_Forest\")\n",
    "print(\"Обучающая выборка:\",predict_model_Forest_accuracy)\n",
    "print(\"Валидационная выборка:\",predict_model_Forest_valid_accuracy)"
   ]
  },
  {
   "cell_type": "markdown",
   "metadata": {},
   "source": [
    "***Показатели модели по обучающей выборке лучше чем у предидущей,постараюсь улучшить и эту модель и найти лучшие параметры для нее***"
   ]
  },
  {
   "cell_type": "code",
   "execution_count": 10,
   "metadata": {},
   "outputs": [
    {
     "name": "stdout",
     "output_type": "stream",
     "text": [
      "Accuracy наилучшей модели на валидационной выборке: 0.7853810264385692\n",
      "RandomForestClassifier(bootstrap=True, class_weight=None, criterion='gini',\n",
      "                       max_depth=None, max_features='auto', max_leaf_nodes=None,\n",
      "                       min_impurity_decrease=0.0, min_impurity_split=None,\n",
      "                       min_samples_leaf=1, min_samples_split=2,\n",
      "                       min_weight_fraction_leaf=0.0, n_estimators=10,\n",
      "                       n_jobs=None, oob_score=False, random_state=12345,\n",
      "                       verbose=0, warm_start=False)\n"
     ]
    }
   ],
   "source": [
    "#находим лучшие параметры для модели случайного леса\n",
    "best_model = None\n",
    "best_result = 0\n",
    "for est in range(1, 11):\n",
    "    model = RandomForestClassifier(random_state=12345, n_estimators=est) \n",
    "    model.fit(features_train, target_train) \n",
    "    result = model.score(features_valid,target_valid) \n",
    "    if result > best_result:\n",
    "        best_model = model \n",
    "        best_result = result\n",
    "        \n",
    "print(\"Accuracy наилучшей модели на валидационной выборке:\", best_result)\n",
    "print(best_model)"
   ]
  },
  {
   "cell_type": "markdown",
   "metadata": {},
   "source": [
    "***Тут я специально оставил вывод лучшей модели чтобы посмотреть параметр n_estimators=10***"
   ]
  },
  {
   "cell_type": "code",
   "execution_count": 11,
   "metadata": {},
   "outputs": [
    {
     "name": "stdout",
     "output_type": "stream",
     "text": [
      "max_depth = 1 : 0.7558320373250389\n",
      "max_depth = 2 : 0.7776049766718507\n",
      "max_depth = 3 : 0.7853810264385692\n",
      "max_depth = 4 : 0.7900466562986003\n",
      "max_depth = 5 : 0.7931570762052877\n",
      "max_depth = 6 : 0.8009331259720062\n",
      "max_depth = 7 : 0.7947122861586314\n",
      "max_depth = 8 : 0.7962674961119751\n",
      "max_depth = 9 : 0.7853810264385692\n"
     ]
    }
   ],
   "source": [
    "for depth in range(1,10):\n",
    "    model = RandomForestClassifier(random_state=12345, max_depth=depth)\n",
    "    model.fit(features_train,target_train)\n",
    "    predictions_valid = model.predict(features_valid)\n",
    "    \n",
    "    print(\"max_depth =\", depth, \": \", end='')\n",
    "    print(accuracy_score(target_valid, predictions_valid))"
   ]
  },
  {
   "cell_type": "markdown",
   "metadata": {},
   "source": [
    "***При глубине max_depth = 6 модель показывает лучшие результаты на валидационной выборке***"
   ]
  },
  {
   "cell_type": "code",
   "execution_count": 12,
   "metadata": {},
   "outputs": [
    {
     "name": "stdout",
     "output_type": "stream",
     "text": [
      "Accuracy model_Forest\n",
      "Обучающая выборка: 0.8350622406639004\n",
      "Валидационная выборка: 0.8009331259720062\n"
     ]
    }
   ],
   "source": [
    "model_Forest = RandomForestClassifier(random_state=12345,max_depth=6,n_estimators=10)\n",
    "model_Forest.fit(features_train,target_train)\n",
    "\n",
    "predict_model_Forest = model_Forest.predict(features_train)\n",
    "predict_model_Forest_valid = model_Forest.predict(features_valid)\n",
    "predict_model_Forest_accuracy = accuracy_score(target_train,predict_model_Forest)\n",
    "predict_model_Forest_valid_accuracy = accuracy_score(target_valid,predict_model_Forest_valid)\n",
    "print(\"Accuracy model_Forest\")\n",
    "print(\"Обучающая выборка:\",predict_model_Forest_accuracy)\n",
    "print(\"Валидационная выборка:\",predict_model_Forest_valid_accuracy)"
   ]
  },
  {
   "cell_type": "markdown",
   "metadata": {},
   "source": [
    "***Я добился точности модели в 80%,насколько я знаю такая модель будет очень медленная***"
   ]
  },
  {
   "cell_type": "markdown",
   "metadata": {},
   "source": [
    "- Собираюсь изучить модель 'Логистической регрессии'"
   ]
  },
  {
   "cell_type": "code",
   "execution_count": 13,
   "metadata": {},
   "outputs": [
    {
     "name": "stdout",
     "output_type": "stream",
     "text": [
      "Accuracy model_Regression\n",
      "Обучающая выборка: 0.7505186721991701\n",
      "Валидационная выборка: 0.7589424572317263\n"
     ]
    }
   ],
   "source": [
    "model_Regression = LogisticRegression(random_state=12345)\n",
    "model_Regression.fit(features_train,target_train)\n",
    "predict_model_Regression = model_Regression.predict(features_train)\n",
    "predict_model_Regression_valid = model_Regression.predict(features_valid)\n",
    "predict_model_Regression_accuracy = accuracy_score(target_train,predict_model_Regression)\n",
    "predict_model_Regression_valid_accuracy = accuracy_score(target_valid,predict_model_Regression_valid)\n",
    "print(\"Accuracy model_Regression\")\n",
    "print(\"Обучающая выборка:\",predict_model_Regression_accuracy)\n",
    "print(\"Валидационная выборка:\",predict_model_Regression_valid_accuracy)"
   ]
  },
  {
   "cell_type": "markdown",
   "metadata": {},
   "source": [
    "## Проверка моделей на тестовой выборке"
   ]
  },
  {
   "cell_type": "code",
   "execution_count": 14,
   "metadata": {},
   "outputs": [
    {
     "name": "stdout",
     "output_type": "stream",
     "text": [
      "Accuracy модели \"решающее дерево\": 0.7791601866251944\n",
      "Accuracy модели \"случайный лес\": 0.7916018662519441\n",
      "Accuracy модели \"логистическая регрессия\": 0.7402799377916018\n"
     ]
    }
   ],
   "source": [
    "#теперь проверим модели на тестовой выборке\n",
    "predict_Tree = model_Tree.predict(features_test)\n",
    "predict_Tree_accuracy = accuracy_score(target_test,predict_Tree)\n",
    "\n",
    "predict_model_Forest =model_Forest.predict(features_test)\n",
    "accuracy_model_Forest = accuracy_score(target_test,predict_model_Forest)\n",
    "\n",
    "predict_model_Regression = model_Regression.predict(features_test)\n",
    "accuracy_model_Regression = accuracy_score(target_test,predict_model_Regression)\n",
    "\n",
    "print('Accuracy модели \"решающее дерево\":',predict_Tree_accuracy)\n",
    "print('Accuracy модели \"случайный лес\":',accuracy_model_Forest)\n",
    "print('Accuracy модели \"логистическая регрессия\":',accuracy_model_Regression)"
   ]
  },
  {
   "cell_type": "markdown",
   "metadata": {},
   "source": [
    "***Лучшие показатели у моделей решающее дерево и случайный лес поэтому я выбираю их***"
   ]
  },
  {
   "cell_type": "markdown",
   "metadata": {},
   "source": [
    "##  Проверка моделей на адекватность"
   ]
  },
  {
   "cell_type": "code",
   "execution_count": 15,
   "metadata": {},
   "outputs": [
    {
     "data": {
      "text/plain": [
       "0    0.693528\n",
       "1    0.306472\n",
       "Name: is_ultra, dtype: float64"
      ]
     },
     "execution_count": 15,
     "metadata": {},
     "output_type": "execute_result"
    }
   ],
   "source": [
    "#проверю соотношение тарифов\n",
    "df['is_ultra'].value_counts(normalize=True)"
   ]
  },
  {
   "cell_type": "code",
   "execution_count": 16,
   "metadata": {},
   "outputs": [
    {
     "data": {
      "text/plain": [
       "0.4419028503535546"
      ]
     },
     "execution_count": 16,
     "metadata": {},
     "output_type": "execute_result"
    }
   ],
   "source": [
    "306472 / 693528"
   ]
  },
  {
   "cell_type": "markdown",
   "metadata": {},
   "source": [
    "***Тарифов Smart в выборке на 44% больше чем тарифа Ultra.Проверю модели на всей выборке но при этом уберу значения тарифа Smart и посмотрю как модели предсказывают тариф Ultra*** "
   ]
  },
  {
   "cell_type": "code",
   "execution_count": 17,
   "metadata": {},
   "outputs": [
    {
     "name": "stdout",
     "output_type": "stream",
     "text": [
      "Accuracy модели \"решающее дерево\": 0.4730964467005076\n",
      "Accuracy модели \"случайный лес\": 0.5116751269035533\n"
     ]
    }
   ],
   "source": [
    "ultra_features = df.query('is_ultra == 1').drop(['is_ultra'], axis=1)\n",
    "ultra_target = df.query('is_ultra == 1')['is_ultra']\n",
    "\n",
    "predict_Tree = model_Tree.predict(ultra_features)\n",
    "predict_Tree_accuracy = accuracy_score(ultra_target,predict_Tree)\n",
    "\n",
    "predict_model_Forest =model_Forest.predict(ultra_features)\n",
    "accuracy_model_Forest = accuracy_score(ultra_target,predict_model_Forest)\n",
    "\n",
    "print('Accuracy модели \"решающее дерево\":',predict_Tree_accuracy)\n",
    "print('Accuracy модели \"случайный лес\":',accuracy_model_Forest)"
   ]
  },
  {
   "cell_type": "markdown",
   "metadata": {},
   "source": [
    "***Теперь сделаю тоже самое для тарифа Smart***"
   ]
  },
  {
   "cell_type": "code",
   "execution_count": 18,
   "metadata": {},
   "outputs": [
    {
     "name": "stdout",
     "output_type": "stream",
     "text": [
      "Accuracy модели \"решающее дерево\": 0.9407806191117093\n",
      "Accuracy модели \"случайный лес\": 0.955585464333782\n"
     ]
    }
   ],
   "source": [
    "smart_features = df.query('is_ultra == 0').drop(['is_ultra'], axis=1)\n",
    "smart_target = df.query('is_ultra == 0')['is_ultra']\n",
    "\n",
    "predict_Tree = model_Tree.predict(smart_features)\n",
    "predict_Tree_accuracy = accuracy_score(smart_target,predict_Tree)\n",
    "\n",
    "predict_model_Forest =model_Forest.predict(smart_features)\n",
    "accuracy_model_Forest = accuracy_score(smart_target,predict_model_Forest)\n",
    "\n",
    "print('Accuracy модели \"решающее дерево\":',predict_Tree_accuracy)\n",
    "print('Accuracy модели \"случайный лес\":',accuracy_model_Forest)"
   ]
  },
  {
   "cell_type": "markdown",
   "metadata": {},
   "source": [
    "***Как я и предполагал тариф Smart модели предсказывают с намного большей точностью***"
   ]
  },
  {
   "cell_type": "markdown",
   "metadata": {},
   "source": [
    "## Вывод"
   ]
  },
  {
   "cell_type": "markdown",
   "metadata": {},
   "source": [
    "Я построил 3 модели:\n",
    "\n",
    "- Решающее дерево\n",
    "- Случайный лес\n",
    "- Модель Регрессии\n",
    "\n",
    "Лучшие результаты на тестовой выборке показали модели Решающее дерево и Случайный лес,они набрали 77% и 79% соответственно.В модели регрессии мне неудалось достичь показателей превышающих 95% accuracy.\n",
    "Но при этом из-за неравномерности данных итоговые модели лучше предсказывают тариф Smart."
   ]
  }
 ],
 "metadata": {
  "ExecuteTimeLog": [
   {
    "duration": 1877,
    "start_time": "2021-07-20T19:09:39.022Z"
   },
   {
    "duration": 21,
    "start_time": "2021-07-20T19:12:56.791Z"
   },
   {
    "duration": 40,
    "start_time": "2021-07-20T19:13:10.151Z"
   },
   {
    "duration": 9,
    "start_time": "2021-07-20T19:13:51.935Z"
   },
   {
    "duration": 17,
    "start_time": "2021-07-20T19:32:21.250Z"
   },
   {
    "duration": 13,
    "start_time": "2021-07-20T19:35:02.466Z"
   },
   {
    "duration": 19,
    "start_time": "2021-07-20T19:38:44.370Z"
   },
   {
    "duration": 28,
    "start_time": "2021-07-20T19:40:03.672Z"
   },
   {
    "duration": 22,
    "start_time": "2021-07-20T19:41:18.910Z"
   },
   {
    "duration": 22,
    "start_time": "2021-07-20T20:21:59.279Z"
   },
   {
    "duration": 23,
    "start_time": "2021-07-20T20:22:05.207Z"
   },
   {
    "duration": 29,
    "start_time": "2021-07-20T20:22:06.343Z"
   },
   {
    "duration": 462,
    "start_time": "2021-07-20T20:51:19.475Z"
   },
   {
    "duration": 1267,
    "start_time": "2021-07-20T20:51:34.501Z"
   },
   {
    "duration": 38,
    "start_time": "2021-07-20T20:51:35.771Z"
   },
   {
    "duration": 9,
    "start_time": "2021-07-20T20:51:35.815Z"
   },
   {
    "duration": 45,
    "start_time": "2021-07-20T20:51:35.827Z"
   },
   {
    "duration": 23,
    "start_time": "2021-07-20T20:51:35.874Z"
   },
   {
    "duration": 57,
    "start_time": "2021-07-20T20:51:35.899Z"
   },
   {
    "duration": 28,
    "start_time": "2021-07-20T20:52:39.105Z"
   },
   {
    "duration": 441,
    "start_time": "2021-07-21T14:33:30.767Z"
   },
   {
    "duration": 1340,
    "start_time": "2021-07-21T14:33:36.460Z"
   },
   {
    "duration": 40,
    "start_time": "2021-07-21T14:33:37.803Z"
   },
   {
    "duration": 14,
    "start_time": "2021-07-21T14:33:37.845Z"
   },
   {
    "duration": 27,
    "start_time": "2021-07-21T14:33:37.862Z"
   },
   {
    "duration": 21,
    "start_time": "2021-07-21T14:33:37.891Z"
   },
   {
    "duration": 56,
    "start_time": "2021-07-21T14:33:37.915Z"
   },
   {
    "duration": 99,
    "start_time": "2021-07-21T14:33:37.973Z"
   },
   {
    "duration": 17,
    "start_time": "2021-07-21T14:39:26.168Z"
   },
   {
    "duration": 1358,
    "start_time": "2021-07-21T15:31:43.734Z"
   },
   {
    "duration": 42,
    "start_time": "2021-07-21T15:31:45.096Z"
   },
   {
    "duration": 10,
    "start_time": "2021-07-21T15:31:45.154Z"
   },
   {
    "duration": 38,
    "start_time": "2021-07-21T15:31:45.166Z"
   },
   {
    "duration": 22,
    "start_time": "2021-07-21T15:31:45.207Z"
   },
   {
    "duration": 7168,
    "start_time": "2021-07-21T15:31:45.231Z"
   },
   {
    "duration": 82,
    "start_time": "2021-07-21T15:31:52.320Z"
   },
   {
    "duration": 79,
    "start_time": "2021-07-21T15:32:10.653Z"
   },
   {
    "duration": 4716,
    "start_time": "2021-07-21T15:32:17.494Z"
   },
   {
    "duration": 1312,
    "start_time": "2021-07-21T15:32:40.280Z"
   },
   {
    "duration": 40,
    "start_time": "2021-07-21T15:32:41.595Z"
   },
   {
    "duration": 19,
    "start_time": "2021-07-21T15:32:41.641Z"
   },
   {
    "duration": 36,
    "start_time": "2021-07-21T15:32:41.663Z"
   },
   {
    "duration": 21,
    "start_time": "2021-07-21T15:32:41.702Z"
   },
   {
    "duration": 101,
    "start_time": "2021-07-21T15:32:41.726Z"
   },
   {
    "duration": 4912,
    "start_time": "2021-07-21T15:32:41.830Z"
   },
   {
    "duration": 1316,
    "start_time": "2021-07-21T15:34:59.877Z"
   },
   {
    "duration": 39,
    "start_time": "2021-07-21T15:35:01.196Z"
   },
   {
    "duration": 18,
    "start_time": "2021-07-21T15:35:01.239Z"
   },
   {
    "duration": 46,
    "start_time": "2021-07-21T15:35:01.259Z"
   },
   {
    "duration": 40,
    "start_time": "2021-07-21T15:35:01.308Z"
   },
   {
    "duration": 83,
    "start_time": "2021-07-21T15:35:01.350Z"
   },
   {
    "duration": 4958,
    "start_time": "2021-07-21T15:35:01.435Z"
   },
   {
    "duration": 8020,
    "start_time": "2021-07-21T15:36:11.776Z"
   },
   {
    "duration": 5335,
    "start_time": "2021-07-21T15:37:41.407Z"
   },
   {
    "duration": 10,
    "start_time": "2021-07-21T15:38:01.399Z"
   },
   {
    "duration": 4840,
    "start_time": "2021-07-21T15:40:01.487Z"
   },
   {
    "duration": 48,
    "start_time": "2021-07-21T15:46:04.753Z"
   },
   {
    "duration": 31,
    "start_time": "2021-07-21T15:46:15.552Z"
   },
   {
    "duration": 14,
    "start_time": "2021-07-21T15:46:41.969Z"
   },
   {
    "duration": 4864,
    "start_time": "2021-07-21T15:46:48.652Z"
   },
   {
    "duration": 4650,
    "start_time": "2021-07-21T15:47:06.561Z"
   },
   {
    "duration": 343,
    "start_time": "2021-07-21T15:49:02.993Z"
   },
   {
    "duration": 1426,
    "start_time": "2021-07-21T15:49:08.765Z"
   },
   {
    "duration": 40,
    "start_time": "2021-07-21T15:49:10.194Z"
   },
   {
    "duration": 17,
    "start_time": "2021-07-21T15:49:10.237Z"
   },
   {
    "duration": 24,
    "start_time": "2021-07-21T15:49:10.256Z"
   },
   {
    "duration": 24,
    "start_time": "2021-07-21T15:49:10.283Z"
   },
   {
    "duration": 50,
    "start_time": "2021-07-21T15:49:10.309Z"
   },
   {
    "duration": 573,
    "start_time": "2021-07-21T15:49:10.362Z"
   },
   {
    "duration": 1308,
    "start_time": "2021-07-21T15:50:20.178Z"
   },
   {
    "duration": 39,
    "start_time": "2021-07-21T15:50:21.489Z"
   },
   {
    "duration": 20,
    "start_time": "2021-07-21T15:50:21.534Z"
   },
   {
    "duration": 43,
    "start_time": "2021-07-21T15:50:21.557Z"
   },
   {
    "duration": 23,
    "start_time": "2021-07-21T15:50:21.602Z"
   },
   {
    "duration": 27,
    "start_time": "2021-07-21T15:50:21.627Z"
   },
   {
    "duration": 72,
    "start_time": "2021-07-21T15:50:21.657Z"
   },
   {
    "duration": 68,
    "start_time": "2021-07-21T15:56:26.252Z"
   },
   {
    "duration": 62,
    "start_time": "2021-07-21T15:58:06.294Z"
   },
   {
    "duration": 71,
    "start_time": "2021-07-21T15:58:30.686Z"
   },
   {
    "duration": 64,
    "start_time": "2021-07-21T15:59:49.982Z"
   },
   {
    "duration": 1378,
    "start_time": "2021-07-21T16:00:09.386Z"
   },
   {
    "duration": 43,
    "start_time": "2021-07-21T16:00:10.767Z"
   },
   {
    "duration": 12,
    "start_time": "2021-07-21T16:00:10.814Z"
   },
   {
    "duration": 46,
    "start_time": "2021-07-21T16:00:10.830Z"
   },
   {
    "duration": 25,
    "start_time": "2021-07-21T16:00:10.879Z"
   },
   {
    "duration": 53,
    "start_time": "2021-07-21T16:00:10.907Z"
   },
   {
    "duration": 66,
    "start_time": "2021-07-21T16:00:10.963Z"
   },
   {
    "duration": 63,
    "start_time": "2021-07-21T16:02:28.037Z"
   },
   {
    "duration": 61,
    "start_time": "2021-07-21T16:02:50.341Z"
   },
   {
    "duration": 62,
    "start_time": "2021-07-21T16:02:55.556Z"
   },
   {
    "duration": 70,
    "start_time": "2021-07-21T16:03:02.997Z"
   },
   {
    "duration": 62,
    "start_time": "2021-07-21T16:03:16.213Z"
   },
   {
    "duration": 64,
    "start_time": "2021-07-21T16:03:22.180Z"
   },
   {
    "duration": 64,
    "start_time": "2021-07-21T16:03:28.029Z"
   },
   {
    "duration": 66,
    "start_time": "2021-07-21T16:03:34.949Z"
   },
   {
    "duration": 72,
    "start_time": "2021-07-21T16:03:39.821Z"
   },
   {
    "duration": 72,
    "start_time": "2021-07-21T16:03:59.061Z"
   },
   {
    "duration": 77,
    "start_time": "2021-07-21T16:04:13.525Z"
   },
   {
    "duration": 67,
    "start_time": "2021-07-21T16:07:14.302Z"
   },
   {
    "duration": 64,
    "start_time": "2021-07-21T16:07:20.861Z"
   },
   {
    "duration": 70,
    "start_time": "2021-07-21T16:07:27.342Z"
   },
   {
    "duration": 68,
    "start_time": "2021-07-21T16:07:34.902Z"
   },
   {
    "duration": 39,
    "start_time": "2021-07-21T16:09:43.254Z"
   },
   {
    "duration": 348,
    "start_time": "2021-07-21T16:10:04.806Z"
   },
   {
    "duration": 62,
    "start_time": "2021-07-21T16:11:23.887Z"
   },
   {
    "duration": 97,
    "start_time": "2021-07-21T16:13:49.513Z"
   },
   {
    "duration": 412,
    "start_time": "2021-07-21T16:15:35.040Z"
   },
   {
    "duration": 1300,
    "start_time": "2021-07-21T16:16:50.593Z"
   },
   {
    "duration": 40,
    "start_time": "2021-07-21T16:16:51.895Z"
   },
   {
    "duration": 17,
    "start_time": "2021-07-21T16:16:51.938Z"
   },
   {
    "duration": 24,
    "start_time": "2021-07-21T16:16:51.958Z"
   },
   {
    "duration": 24,
    "start_time": "2021-07-21T16:16:51.984Z"
   },
   {
    "duration": 46,
    "start_time": "2021-07-21T16:16:52.011Z"
   },
   {
    "duration": 69,
    "start_time": "2021-07-21T16:16:52.060Z"
   },
   {
    "duration": 350,
    "start_time": "2021-07-21T16:16:52.132Z"
   },
   {
    "duration": 336,
    "start_time": "2021-07-21T16:17:52.784Z"
   },
   {
    "duration": 330,
    "start_time": "2021-07-21T16:18:38.425Z"
   },
   {
    "duration": 40,
    "start_time": "2021-07-21T16:30:32.595Z"
   },
   {
    "duration": 308,
    "start_time": "2021-07-21T17:06:27.955Z"
   },
   {
    "duration": 319,
    "start_time": "2021-07-21T17:06:38.930Z"
   },
   {
    "duration": 334,
    "start_time": "2021-07-21T17:07:34.859Z"
   },
   {
    "duration": 71,
    "start_time": "2021-07-21T17:07:42.651Z"
   },
   {
    "duration": 70,
    "start_time": "2021-07-21T17:07:57.539Z"
   },
   {
    "duration": 38,
    "start_time": "2021-07-21T17:10:19.709Z"
   },
   {
    "duration": 343,
    "start_time": "2021-07-21T17:10:31.812Z"
   },
   {
    "duration": 341,
    "start_time": "2021-07-21T17:10:55.636Z"
   },
   {
    "duration": 30,
    "start_time": "2021-07-21T17:11:19.252Z"
   },
   {
    "duration": 62,
    "start_time": "2021-07-21T17:11:46.229Z"
   },
   {
    "duration": 69,
    "start_time": "2021-07-21T17:11:53.308Z"
   },
   {
    "duration": 24,
    "start_time": "2021-07-21T17:12:55.988Z"
   },
   {
    "duration": 16,
    "start_time": "2021-07-21T17:13:20.236Z"
   },
   {
    "duration": 351,
    "start_time": "2021-07-22T18:25:07.728Z"
   },
   {
    "duration": 1505,
    "start_time": "2021-07-22T18:25:14.426Z"
   },
   {
    "duration": 44,
    "start_time": "2021-07-22T18:25:15.934Z"
   },
   {
    "duration": 9,
    "start_time": "2021-07-22T18:25:15.985Z"
   },
   {
    "duration": 30,
    "start_time": "2021-07-22T18:25:15.996Z"
   },
   {
    "duration": 53,
    "start_time": "2021-07-22T18:25:16.029Z"
   },
   {
    "duration": 13,
    "start_time": "2021-07-22T18:25:16.085Z"
   },
   {
    "duration": 106,
    "start_time": "2021-07-22T18:25:16.101Z"
   },
   {
    "duration": 30,
    "start_time": "2021-07-22T18:25:16.210Z"
   },
   {
    "duration": 29,
    "start_time": "2021-07-22T18:25:16.242Z"
   },
   {
    "duration": 354,
    "start_time": "2021-07-22T18:25:16.273Z"
   },
   {
    "duration": 54,
    "start_time": "2021-07-22T18:25:16.630Z"
   },
   {
    "duration": 6,
    "start_time": "2021-07-22T18:25:16.686Z"
   },
   {
    "duration": 410,
    "start_time": "2021-07-22T18:31:40.036Z"
   },
   {
    "duration": 422,
    "start_time": "2021-07-22T18:31:55.823Z"
   },
   {
    "duration": 286,
    "start_time": "2021-07-22T18:32:04.854Z"
   },
   {
    "duration": 1340,
    "start_time": "2021-07-22T18:32:14.097Z"
   },
   {
    "duration": 45,
    "start_time": "2021-07-22T18:32:15.440Z"
   },
   {
    "duration": 9,
    "start_time": "2021-07-22T18:32:15.488Z"
   },
   {
    "duration": 24,
    "start_time": "2021-07-22T18:32:15.499Z"
   },
   {
    "duration": 53,
    "start_time": "2021-07-22T18:32:15.525Z"
   },
   {
    "duration": 17,
    "start_time": "2021-07-22T18:32:15.581Z"
   },
   {
    "duration": 117,
    "start_time": "2021-07-22T18:32:15.601Z"
   },
   {
    "duration": 52,
    "start_time": "2021-07-22T18:32:15.722Z"
   },
   {
    "duration": 14,
    "start_time": "2021-07-22T18:32:15.777Z"
   },
   {
    "duration": 377,
    "start_time": "2021-07-22T18:32:15.793Z"
   },
   {
    "duration": 38,
    "start_time": "2021-07-22T18:32:16.173Z"
   },
   {
    "duration": 8,
    "start_time": "2021-07-22T18:32:16.214Z"
   },
   {
    "duration": 37,
    "start_time": "2021-07-22T18:32:16.225Z"
   },
   {
    "duration": 25,
    "start_time": "2021-07-22T18:36:37.456Z"
   },
   {
    "duration": 1308,
    "start_time": "2021-07-22T19:00:45.093Z"
   },
   {
    "duration": 40,
    "start_time": "2021-07-22T19:00:46.404Z"
   },
   {
    "duration": 19,
    "start_time": "2021-07-22T19:00:46.447Z"
   },
   {
    "duration": 27,
    "start_time": "2021-07-22T19:00:46.470Z"
   },
   {
    "duration": 24,
    "start_time": "2021-07-22T19:00:46.500Z"
   },
   {
    "duration": 17,
    "start_time": "2021-07-22T19:00:46.561Z"
   },
   {
    "duration": 84,
    "start_time": "2021-07-22T19:00:46.582Z"
   },
   {
    "duration": 33,
    "start_time": "2021-07-22T19:00:46.668Z"
   },
   {
    "duration": 15,
    "start_time": "2021-07-22T19:00:46.704Z"
   },
   {
    "duration": 378,
    "start_time": "2021-07-22T19:00:46.722Z"
   },
   {
    "duration": 54,
    "start_time": "2021-07-22T19:00:47.102Z"
   },
   {
    "duration": 7,
    "start_time": "2021-07-22T19:00:47.163Z"
   },
   {
    "duration": 19,
    "start_time": "2021-07-22T19:00:47.173Z"
   },
   {
    "duration": 22,
    "start_time": "2021-07-22T19:05:07.824Z"
   },
   {
    "duration": 30,
    "start_time": "2021-07-22T19:08:21.169Z"
   },
   {
    "duration": 14,
    "start_time": "2021-07-22T19:10:38.716Z"
   },
   {
    "duration": 38,
    "start_time": "2021-07-22T19:17:19.643Z"
   },
   {
    "duration": 59,
    "start_time": "2021-07-22T19:19:24.862Z"
   },
   {
    "duration": 61,
    "start_time": "2021-07-22T19:19:58.855Z"
   },
   {
    "duration": 77,
    "start_time": "2021-07-22T19:20:41.830Z"
   },
   {
    "duration": 45,
    "start_time": "2021-07-22T19:21:07.359Z"
   },
   {
    "duration": 74,
    "start_time": "2021-07-22T19:21:35.502Z"
   },
   {
    "duration": 317,
    "start_time": "2021-07-22T19:24:32.573Z"
   },
   {
    "duration": 120,
    "start_time": "2021-07-22T19:26:06.751Z"
   },
   {
    "duration": 313,
    "start_time": "2021-07-22T19:26:38.824Z"
   },
   {
    "duration": 51,
    "start_time": "2021-07-22T19:28:02.256Z"
   },
   {
    "duration": 16,
    "start_time": "2021-07-22T19:35:15.048Z"
   },
   {
    "duration": 30,
    "start_time": "2021-07-22T19:57:19.093Z"
   },
   {
    "duration": 15,
    "start_time": "2021-07-22T19:57:30.069Z"
   },
   {
    "duration": 1284,
    "start_time": "2021-07-22T19:58:21.192Z"
   },
   {
    "duration": 39,
    "start_time": "2021-07-22T19:58:22.480Z"
   },
   {
    "duration": 8,
    "start_time": "2021-07-22T19:58:22.526Z"
   },
   {
    "duration": 15,
    "start_time": "2021-07-22T19:58:22.556Z"
   },
   {
    "duration": 24,
    "start_time": "2021-07-22T19:58:22.574Z"
   },
   {
    "duration": 63,
    "start_time": "2021-07-22T19:58:22.601Z"
   },
   {
    "duration": 15,
    "start_time": "2021-07-22T19:58:22.669Z"
   },
   {
    "duration": 93,
    "start_time": "2021-07-22T19:58:22.687Z"
   },
   {
    "duration": 323,
    "start_time": "2021-07-22T19:58:22.783Z"
   },
   {
    "duration": 340,
    "start_time": "2021-07-22T19:58:23.109Z"
   },
   {
    "duration": 50,
    "start_time": "2021-07-22T19:58:23.455Z"
   },
   {
    "duration": 51,
    "start_time": "2021-07-22T19:58:23.508Z"
   },
   {
    "duration": 15,
    "start_time": "2021-07-22T19:58:23.561Z"
   },
   {
    "duration": 27,
    "start_time": "2021-07-22T19:58:43.776Z"
   },
   {
    "duration": 27,
    "start_time": "2021-07-22T19:58:52.840Z"
   },
   {
    "duration": 14,
    "start_time": "2021-07-22T19:58:54.801Z"
   },
   {
    "duration": 1303,
    "start_time": "2021-07-22T19:59:01.484Z"
   },
   {
    "duration": 39,
    "start_time": "2021-07-22T19:59:02.790Z"
   },
   {
    "duration": 8,
    "start_time": "2021-07-22T19:59:02.832Z"
   },
   {
    "duration": 22,
    "start_time": "2021-07-22T19:59:02.843Z"
   },
   {
    "duration": 23,
    "start_time": "2021-07-22T19:59:02.867Z"
   },
   {
    "duration": 31,
    "start_time": "2021-07-22T19:59:02.892Z"
   },
   {
    "duration": 43,
    "start_time": "2021-07-22T19:59:02.925Z"
   },
   {
    "duration": 87,
    "start_time": "2021-07-22T19:59:02.970Z"
   },
   {
    "duration": 335,
    "start_time": "2021-07-22T19:59:03.061Z"
   },
   {
    "duration": 336,
    "start_time": "2021-07-22T19:59:03.399Z"
   },
   {
    "duration": 58,
    "start_time": "2021-07-22T19:59:03.737Z"
   },
   {
    "duration": 26,
    "start_time": "2021-07-22T19:59:03.797Z"
   },
   {
    "duration": 35,
    "start_time": "2021-07-22T19:59:03.825Z"
   },
   {
    "duration": 27,
    "start_time": "2021-07-22T20:00:37.697Z"
   },
   {
    "duration": 27,
    "start_time": "2021-07-22T20:00:57.032Z"
   },
   {
    "duration": 16,
    "start_time": "2021-07-22T20:01:02.680Z"
   },
   {
    "duration": 345,
    "start_time": "2021-07-26T16:53:38.108Z"
   },
   {
    "duration": 1379,
    "start_time": "2021-07-26T16:53:43.942Z"
   },
   {
    "duration": 48,
    "start_time": "2021-07-26T16:53:45.323Z"
   },
   {
    "duration": 8,
    "start_time": "2021-07-26T16:53:45.374Z"
   },
   {
    "duration": 16,
    "start_time": "2021-07-26T16:53:45.385Z"
   },
   {
    "duration": 23,
    "start_time": "2021-07-26T16:53:45.404Z"
   },
   {
    "duration": 37,
    "start_time": "2021-07-26T16:53:45.455Z"
   },
   {
    "duration": 15,
    "start_time": "2021-07-26T16:53:45.494Z"
   },
   {
    "duration": 110,
    "start_time": "2021-07-26T16:53:45.512Z"
   },
   {
    "duration": 371,
    "start_time": "2021-07-26T16:53:45.625Z"
   },
   {
    "duration": 377,
    "start_time": "2021-07-26T16:53:45.998Z"
   },
   {
    "duration": 53,
    "start_time": "2021-07-26T16:53:46.378Z"
   },
   {
    "duration": 409,
    "start_time": "2021-07-26T16:53:46.434Z"
   },
   {
    "duration": 113,
    "start_time": "2021-07-26T16:53:46.733Z"
   },
   {
    "duration": 33,
    "start_time": "2021-07-26T16:53:55.030Z"
   },
   {
    "duration": 16,
    "start_time": "2021-07-26T16:53:57.463Z"
   },
   {
    "duration": 15,
    "start_time": "2021-07-26T16:56:58.278Z"
   },
   {
    "duration": 5,
    "start_time": "2021-07-26T16:59:18.527Z"
   },
   {
    "duration": 5,
    "start_time": "2021-07-26T16:59:43.239Z"
   },
   {
    "duration": 15,
    "start_time": "2021-07-26T17:02:22.976Z"
   },
   {
    "duration": 247,
    "start_time": "2021-07-26T17:03:55.495Z"
   },
   {
    "duration": 7,
    "start_time": "2021-07-26T17:05:46.728Z"
   },
   {
    "duration": 12,
    "start_time": "2021-07-26T17:10:07.497Z"
   },
   {
    "duration": 21,
    "start_time": "2021-07-26T17:11:20.434Z"
   },
   {
    "duration": 28,
    "start_time": "2021-07-26T17:13:00.682Z"
   },
   {
    "duration": 23,
    "start_time": "2021-07-26T17:14:57.472Z"
   },
   {
    "duration": 1317,
    "start_time": "2021-07-26T17:23:56.473Z"
   },
   {
    "duration": 40,
    "start_time": "2021-07-26T17:23:57.793Z"
   },
   {
    "duration": 19,
    "start_time": "2021-07-26T17:23:57.837Z"
   },
   {
    "duration": 21,
    "start_time": "2021-07-26T17:23:57.859Z"
   },
   {
    "duration": 25,
    "start_time": "2021-07-26T17:23:57.882Z"
   },
   {
    "duration": 59,
    "start_time": "2021-07-26T17:23:57.909Z"
   },
   {
    "duration": 14,
    "start_time": "2021-07-26T17:23:57.970Z"
   },
   {
    "duration": 94,
    "start_time": "2021-07-26T17:23:57.989Z"
   },
   {
    "duration": 352,
    "start_time": "2021-07-26T17:23:58.086Z"
   },
   {
    "duration": 353,
    "start_time": "2021-07-26T17:23:58.441Z"
   },
   {
    "duration": 64,
    "start_time": "2021-07-26T17:23:58.796Z"
   },
   {
    "duration": 30,
    "start_time": "2021-07-26T17:23:58.863Z"
   },
   {
    "duration": 16,
    "start_time": "2021-07-26T17:23:58.896Z"
   },
   {
    "duration": 50,
    "start_time": "2021-07-26T17:23:58.914Z"
   },
   {
    "duration": 5,
    "start_time": "2021-07-26T17:23:58.967Z"
   },
   {
    "duration": 26,
    "start_time": "2021-07-26T17:23:58.974Z"
   },
   {
    "duration": 55,
    "start_time": "2021-07-26T17:23:59.003Z"
   },
   {
    "duration": 1414,
    "start_time": "2021-07-27T03:54:03.358Z"
   },
   {
    "duration": 45,
    "start_time": "2021-07-27T03:54:04.775Z"
   },
   {
    "duration": 11,
    "start_time": "2021-07-27T03:54:04.824Z"
   },
   {
    "duration": 15,
    "start_time": "2021-07-27T03:54:37.006Z"
   },
   {
    "duration": 24,
    "start_time": "2021-07-27T03:54:39.524Z"
   },
   {
    "duration": 36,
    "start_time": "2021-07-27T03:54:39.970Z"
   },
   {
    "duration": 16,
    "start_time": "2021-07-27T03:54:40.380Z"
   },
   {
    "duration": 74,
    "start_time": "2021-07-27T03:54:40.966Z"
   },
   {
    "duration": 343,
    "start_time": "2021-07-27T03:54:41.356Z"
   },
   {
    "duration": 335,
    "start_time": "2021-07-27T03:54:41.756Z"
   },
   {
    "duration": 51,
    "start_time": "2021-07-27T03:54:42.120Z"
   },
   {
    "duration": 28,
    "start_time": "2021-07-27T03:54:42.774Z"
   },
   {
    "duration": 16,
    "start_time": "2021-07-27T03:54:43.196Z"
   },
   {
    "duration": 19,
    "start_time": "2021-07-27T03:54:43.930Z"
   },
   {
    "duration": 5,
    "start_time": "2021-07-27T03:54:44.133Z"
   },
   {
    "duration": 20,
    "start_time": "2021-07-27T03:54:44.514Z"
   },
   {
    "duration": 21,
    "start_time": "2021-07-27T03:54:45.107Z"
   },
   {
    "duration": 1407,
    "start_time": "2021-07-27T18:51:47.368Z"
   },
   {
    "duration": 33,
    "start_time": "2021-07-27T18:51:48.778Z"
   },
   {
    "duration": 10,
    "start_time": "2021-07-27T18:51:49.713Z"
   },
   {
    "duration": 507,
    "start_time": "2021-07-27T18:55:58.368Z"
   },
   {
    "duration": 1486,
    "start_time": "2021-07-27T18:56:08.544Z"
   },
   {
    "duration": 36,
    "start_time": "2021-07-27T18:56:10.033Z"
   },
   {
    "duration": 8,
    "start_time": "2021-07-27T18:56:10.072Z"
   },
   {
    "duration": 556,
    "start_time": "2021-07-27T18:56:10.083Z"
   },
   {
    "duration": 105,
    "start_time": "2021-07-27T18:56:10.537Z"
   },
   {
    "duration": 104,
    "start_time": "2021-07-27T18:56:10.540Z"
   },
   {
    "duration": 102,
    "start_time": "2021-07-27T18:56:10.543Z"
   },
   {
    "duration": 100,
    "start_time": "2021-07-27T18:56:10.546Z"
   },
   {
    "duration": 98,
    "start_time": "2021-07-27T18:56:10.549Z"
   },
   {
    "duration": 93,
    "start_time": "2021-07-27T18:56:10.556Z"
   },
   {
    "duration": 91,
    "start_time": "2021-07-27T18:56:10.559Z"
   },
   {
    "duration": 91,
    "start_time": "2021-07-27T18:56:10.560Z"
   },
   {
    "duration": 91,
    "start_time": "2021-07-27T18:56:10.562Z"
   },
   {
    "duration": 91,
    "start_time": "2021-07-27T18:56:10.564Z"
   },
   {
    "duration": 90,
    "start_time": "2021-07-27T18:56:10.567Z"
   },
   {
    "duration": 90,
    "start_time": "2021-07-27T18:56:10.569Z"
   },
   {
    "duration": 90,
    "start_time": "2021-07-27T18:56:10.571Z"
   },
   {
    "duration": 90,
    "start_time": "2021-07-27T18:56:10.573Z"
   },
   {
    "duration": 301,
    "start_time": "2021-07-27T18:59:15.927Z"
   },
   {
    "duration": 848,
    "start_time": "2021-07-27T19:03:51.207Z"
   },
   {
    "duration": 1525,
    "start_time": "2021-07-27T19:04:38.246Z"
   },
   {
    "duration": 36,
    "start_time": "2021-07-27T19:04:39.775Z"
   },
   {
    "duration": 9,
    "start_time": "2021-07-27T19:04:39.814Z"
   },
   {
    "duration": 1106,
    "start_time": "2021-07-27T19:04:39.825Z"
   },
   {
    "duration": 104,
    "start_time": "2021-07-27T19:04:40.829Z"
   },
   {
    "duration": 98,
    "start_time": "2021-07-27T19:04:40.837Z"
   },
   {
    "duration": 91,
    "start_time": "2021-07-27T19:04:40.845Z"
   },
   {
    "duration": 86,
    "start_time": "2021-07-27T19:04:40.852Z"
   },
   {
    "duration": 78,
    "start_time": "2021-07-27T19:04:40.861Z"
   },
   {
    "duration": 81,
    "start_time": "2021-07-27T19:04:40.874Z"
   },
   {
    "duration": 77,
    "start_time": "2021-07-27T19:04:40.880Z"
   },
   {
    "duration": 69,
    "start_time": "2021-07-27T19:04:40.890Z"
   },
   {
    "duration": 67,
    "start_time": "2021-07-27T19:04:40.893Z"
   },
   {
    "duration": 65,
    "start_time": "2021-07-27T19:04:40.896Z"
   },
   {
    "duration": 65,
    "start_time": "2021-07-27T19:04:40.898Z"
   },
   {
    "duration": 64,
    "start_time": "2021-07-27T19:04:40.900Z"
   },
   {
    "duration": 64,
    "start_time": "2021-07-27T19:04:40.902Z"
   },
   {
    "duration": 63,
    "start_time": "2021-07-27T19:04:40.904Z"
   },
   {
    "duration": 1061,
    "start_time": "2021-07-27T19:05:11.021Z"
   },
   {
    "duration": 832,
    "start_time": "2021-07-27T19:05:54.941Z"
   },
   {
    "duration": 859,
    "start_time": "2021-07-27T19:08:02.382Z"
   },
   {
    "duration": 877,
    "start_time": "2021-07-27T19:08:18.526Z"
   },
   {
    "duration": 810,
    "start_time": "2021-07-27T19:09:33.734Z"
   },
   {
    "duration": 926,
    "start_time": "2021-07-27T19:10:28.406Z"
   },
   {
    "duration": 291,
    "start_time": "2021-07-27T19:10:48.742Z"
   },
   {
    "duration": 14520,
    "start_time": "2021-07-27T19:13:45.351Z"
   },
   {
    "duration": 9521,
    "start_time": "2021-07-27T19:15:16.719Z"
   },
   {
    "duration": 9041,
    "start_time": "2021-07-27T19:15:37.367Z"
   },
   {
    "duration": 9417,
    "start_time": "2021-07-27T19:15:54.583Z"
   },
   {
    "duration": 671,
    "start_time": "2021-07-27T19:16:35.408Z"
   },
   {
    "duration": 9085,
    "start_time": "2021-07-27T19:16:48.896Z"
   },
   {
    "duration": 573,
    "start_time": "2021-07-27T19:17:30.535Z"
   },
   {
    "duration": 847,
    "start_time": "2021-07-27T19:21:52.273Z"
   },
   {
    "duration": 826,
    "start_time": "2021-07-27T19:22:15.225Z"
   },
   {
    "duration": 359,
    "start_time": "2021-07-27T19:27:03.770Z"
   },
   {
    "duration": 572,
    "start_time": "2021-07-27T19:27:49.690Z"
   },
   {
    "duration": 326,
    "start_time": "2021-07-27T19:28:46.002Z"
   },
   {
    "duration": 351,
    "start_time": "2021-07-27T19:28:52.929Z"
   },
   {
    "duration": 409,
    "start_time": "2021-07-27T19:29:19.650Z"
   },
   {
    "duration": 391,
    "start_time": "2021-07-27T19:34:58.763Z"
   },
   {
    "duration": 348,
    "start_time": "2021-07-27T19:39:08.228Z"
   },
   {
    "duration": 461,
    "start_time": "2021-07-27T19:39:28.981Z"
   },
   {
    "duration": 1504,
    "start_time": "2021-07-27T19:39:42.148Z"
   },
   {
    "duration": 38,
    "start_time": "2021-07-27T19:39:43.656Z"
   },
   {
    "duration": 8,
    "start_time": "2021-07-27T19:39:43.697Z"
   },
   {
    "duration": 486,
    "start_time": "2021-07-27T19:39:43.708Z"
   },
   {
    "duration": 13,
    "start_time": "2021-07-27T19:39:44.196Z"
   },
   {
    "duration": 27,
    "start_time": "2021-07-27T19:39:44.211Z"
   },
   {
    "duration": 29,
    "start_time": "2021-07-27T19:39:44.256Z"
   },
   {
    "duration": 13,
    "start_time": "2021-07-27T19:39:44.289Z"
   },
   {
    "duration": 100,
    "start_time": "2021-07-27T19:39:44.305Z"
   },
   {
    "duration": 316,
    "start_time": "2021-07-27T19:39:44.407Z"
   },
   {
    "duration": 336,
    "start_time": "2021-07-27T19:39:44.725Z"
   },
   {
    "duration": 49,
    "start_time": "2021-07-27T19:39:45.064Z"
   },
   {
    "duration": 51,
    "start_time": "2021-07-27T19:39:45.116Z"
   },
   {
    "duration": 15,
    "start_time": "2021-07-27T19:39:45.169Z"
   },
   {
    "duration": 9,
    "start_time": "2021-07-27T19:39:45.186Z"
   },
   {
    "duration": 9,
    "start_time": "2021-07-27T19:39:45.197Z"
   },
   {
    "duration": 64,
    "start_time": "2021-07-27T19:39:45.208Z"
   },
   {
    "duration": 21,
    "start_time": "2021-07-27T19:39:45.275Z"
   },
   {
    "duration": 416,
    "start_time": "2021-07-27T19:40:54.578Z"
   },
   {
    "duration": 1570,
    "start_time": "2021-07-27T19:49:34.702Z"
   },
   {
    "duration": 37,
    "start_time": "2021-07-27T19:49:36.275Z"
   },
   {
    "duration": 12,
    "start_time": "2021-07-27T19:49:36.315Z"
   },
   {
    "duration": 438,
    "start_time": "2021-07-27T19:49:36.330Z"
   },
   {
    "duration": 15,
    "start_time": "2021-07-27T19:49:36.771Z"
   },
   {
    "duration": 23,
    "start_time": "2021-07-27T19:49:36.789Z"
   },
   {
    "duration": 59,
    "start_time": "2021-07-27T19:49:36.815Z"
   },
   {
    "duration": 16,
    "start_time": "2021-07-27T19:49:36.878Z"
   },
   {
    "duration": 105,
    "start_time": "2021-07-27T19:49:36.897Z"
   },
   {
    "duration": 358,
    "start_time": "2021-07-27T19:49:37.006Z"
   },
   {
    "duration": 349,
    "start_time": "2021-07-27T19:49:37.368Z"
   },
   {
    "duration": 61,
    "start_time": "2021-07-27T19:49:37.720Z"
   },
   {
    "duration": 26,
    "start_time": "2021-07-27T19:49:37.784Z"
   },
   {
    "duration": 15,
    "start_time": "2021-07-27T19:49:37.812Z"
   },
   {
    "duration": 33,
    "start_time": "2021-07-27T19:49:37.830Z"
   },
   {
    "duration": 15,
    "start_time": "2021-07-27T19:49:37.865Z"
   },
   {
    "duration": 22,
    "start_time": "2021-07-27T19:49:37.882Z"
   },
   {
    "duration": 52,
    "start_time": "2021-07-27T19:49:37.906Z"
   },
   {
    "duration": 1573,
    "start_time": "2021-07-27T19:54:04.863Z"
   },
   {
    "duration": 35,
    "start_time": "2021-07-27T19:54:06.438Z"
   },
   {
    "duration": 9,
    "start_time": "2021-07-27T19:54:06.476Z"
   },
   {
    "duration": 450,
    "start_time": "2021-07-27T19:54:06.488Z"
   },
   {
    "duration": 25,
    "start_time": "2021-07-27T19:54:06.941Z"
   },
   {
    "duration": 22,
    "start_time": "2021-07-27T19:54:06.968Z"
   },
   {
    "duration": 29,
    "start_time": "2021-07-27T19:54:06.992Z"
   },
   {
    "duration": 43,
    "start_time": "2021-07-27T19:54:07.025Z"
   },
   {
    "duration": 94,
    "start_time": "2021-07-27T19:54:07.071Z"
   },
   {
    "duration": 346,
    "start_time": "2021-07-27T19:54:07.168Z"
   },
   {
    "duration": 350,
    "start_time": "2021-07-27T19:54:07.517Z"
   },
   {
    "duration": 51,
    "start_time": "2021-07-27T19:54:07.869Z"
   },
   {
    "duration": 47,
    "start_time": "2021-07-27T19:54:07.923Z"
   },
   {
    "duration": 15,
    "start_time": "2021-07-27T19:54:07.973Z"
   },
   {
    "duration": 8,
    "start_time": "2021-07-27T19:54:07.991Z"
   },
   {
    "duration": 10,
    "start_time": "2021-07-27T19:54:08.002Z"
   },
   {
    "duration": 53,
    "start_time": "2021-07-27T19:54:08.015Z"
   },
   {
    "duration": 20,
    "start_time": "2021-07-27T19:54:08.070Z"
   }
  ],
  "kernelspec": {
   "display_name": "Python 3",
   "language": "python",
   "name": "python3"
  },
  "language_info": {
   "codemirror_mode": {
    "name": "ipython",
    "version": 3
   },
   "file_extension": ".py",
   "mimetype": "text/x-python",
   "name": "python",
   "nbconvert_exporter": "python",
   "pygments_lexer": "ipython3",
   "version": "3.8.8"
  },
  "toc": {
   "base_numbering": 1,
   "nav_menu": {},
   "number_sections": true,
   "sideBar": true,
   "skip_h1_title": true,
   "title_cell": "Table of Contents",
   "title_sidebar": "Contents",
   "toc_cell": false,
   "toc_position": {},
   "toc_section_display": true,
   "toc_window_display": false
  }
 },
 "nbformat": 4,
 "nbformat_minor": 2
}
